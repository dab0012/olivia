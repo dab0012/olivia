{
 "cells": [
  {
   "attachments": {},
   "cell_type": "markdown",
   "metadata": {},
   "source": [
    "We make sure to have the necessary units installed"
   ]
  },
  {
   "cell_type": "code",
   "execution_count": null,
   "metadata": {},
   "outputs": [],
   "source": [
    "%pip install -r requirements.txt"
   ]
  },
  {
   "attachments": {},
   "cell_type": "markdown",
   "metadata": {},
   "source": [
    "## Initialization of a data source"
   ]
  },
  {
   "attachments": {},
   "cell_type": "markdown",
   "metadata": {},
   "source": [
    "In this example we will instantize the desired implementation of data source class\n",
    "\n",
    "Different implementations are available to perform this task, based on obtaining the web pages of the respective package managers and also from CSV text files"
   ]
  },
  {
   "attachments": {},
   "cell_type": "markdown",
   "metadata": {},
   "source": [
    "### Data obtaining via web scarping"
   ]
  },
  {
   "attachments": {},
   "cell_type": "markdown",
   "metadata": {},
   "source": [
    "#### How to proceed"
   ]
  },
  {
   "attachments": {},
   "cell_type": "markdown",
   "metadata": {},
   "source": [
    "In the first place we import the implementation of the data source we want, for this example we will use the Bioconductor Scraper"
   ]
  },
  {
   "cell_type": "code",
   "execution_count": 1,
   "metadata": {},
   "outputs": [],
   "source": [
    "from olivia_finder.scraping.bioconductor import BiocScraper"
   ]
  },
  {
   "cell_type": "code",
   "execution_count": 2,
   "metadata": {},
   "outputs": [],
   "source": [
    "data_source = BiocScraper()"
   ]
  },
  {
   "attachments": {},
   "cell_type": "markdown",
   "metadata": {},
   "source": [
    "Show relevant information about the data source"
   ]
  },
  {
   "cell_type": "code",
   "execution_count": 3,
   "metadata": {},
   "outputs": [
    {
     "name": "stdout",
     "output_type": "stream",
     "text": [
      "Name: Bioconductor\n",
      "Description: Scraper class implementation for the Bioconductor package network\n"
     ]
    }
   ],
   "source": [
    "print(data_source.get_info())"
   ]
  },
  {
   "attachments": {},
   "cell_type": "markdown",
   "metadata": {},
   "source": [
    "Get a list with the name of the packages obtained from this source"
   ]
  },
  {
   "cell_type": "code",
   "execution_count": 4,
   "metadata": {},
   "outputs": [
    {
     "data": {
      "text/plain": [
       "['BiocGenerics',\n",
       " 'S4Vectors',\n",
       " 'BiocVersion',\n",
       " 'GenomeInfoDb',\n",
       " 'IRanges',\n",
       " 'Biobase',\n",
       " 'zlibbioc',\n",
       " 'XVector',\n",
       " 'Biostrings',\n",
       " 'BiocParallel']"
      ]
     },
     "execution_count": 4,
     "metadata": {},
     "output_type": "execute_result"
    }
   ],
   "source": [
    "package_list = data_source.obtain_package_names()\n",
    "package_list[:10]"
   ]
  },
  {
   "attachments": {},
   "cell_type": "markdown",
   "metadata": {},
   "source": [
    "We can obtain the data from a specific package, for example the **`DeepBlueR`** package"
   ]
  },
  {
   "cell_type": "code",
   "execution_count": 6,
   "metadata": {},
   "outputs": [
    {
     "data": {
      "text/plain": [
       "{'name': 'DeepBlueR',\n",
       " 'version': '1.24.1',\n",
       " 'url': 'https://www.bioconductor.org/packages/release/bioc/html/DeepBlueR.html',\n",
       " 'dependencies': [<olivia_finder.package.Package at 0x7feccb508970>,\n",
       "  <olivia_finder.package.Package at 0x7feccb508c40>,\n",
       "  <olivia_finder.package.Package at 0x7feccb5086d0>,\n",
       "  <olivia_finder.package.Package at 0x7feccb508b20>,\n",
       "  <olivia_finder.package.Package at 0x7feccb508b80>,\n",
       "  <olivia_finder.package.Package at 0x7feccb508ac0>,\n",
       "  <olivia_finder.package.Package at 0x7feccb508d00>,\n",
       "  <olivia_finder.package.Package at 0x7feccb508820>,\n",
       "  <olivia_finder.package.Package at 0x7feccb508940>,\n",
       "  <olivia_finder.package.Package at 0x7feccb508d60>,\n",
       "  <olivia_finder.package.Package at 0x7feccb508610>,\n",
       "  <olivia_finder.package.Package at 0x7feccb508ca0>,\n",
       "  <olivia_finder.package.Package at 0x7feccb508be0>,\n",
       "  <olivia_finder.package.Package at 0x7feccb508a60>,\n",
       "  <olivia_finder.package.Package at 0x7feccb5086a0>,\n",
       "  <olivia_finder.package.Package at 0x7feccb508a90>,\n",
       "  <olivia_finder.package.Package at 0x7feccb508760>,\n",
       "  <olivia_finder.package.Package at 0x7feccb5089d0>]}"
      ]
     },
     "execution_count": 6,
     "metadata": {},
     "output_type": "execute_result"
    }
   ],
   "source": [
    "deepbluer = data_source.obtain_package_data(\"DeepBlueR\")\n",
    "deepbluer"
   ]
  },
  {
   "attachments": {},
   "cell_type": "markdown",
   "metadata": {},
   "source": [
    "Be careful with the sensitivity to **caps**, if the package has not been found, an ***NotFoundException*** is returned"
   ]
  },
  {
   "cell_type": "code",
   "execution_count": 7,
   "metadata": {},
   "outputs": [
    {
     "name": "stdout",
     "output_type": "stream",
     "text": [
      "Package deepbluer not found\n"
     ]
    }
   ],
   "source": [
    "from olivia_finder.scraping.scraper import ScraperError\n",
    "\n",
    "try:\n",
    "    deepbluer2 = data_source.obtain_package_data(\"deepbluer\")\n",
    "except ScraperError as e:\n",
    "    print(e)"
   ]
  },
  {
   "cell_type": "code",
   "execution_count": 9,
   "metadata": {},
   "outputs": [
    {
     "data": {
      "text/plain": [
       "[{'name': 'BiocGenerics',\n",
       "  'version': '0.44.0',\n",
       "  'dependencies': [<olivia_finder.package.Package at 0x7feccb517a90>,\n",
       "   <olivia_finder.package.Package at 0x7feccb517760>,\n",
       "   <olivia_finder.package.Package at 0x7feccb51f1c0>,\n",
       "   <olivia_finder.package.Package at 0x7feccb517d90>,\n",
       "   <olivia_finder.package.Package at 0x7feccb517c70>],\n",
       "  'url': 'https://www.bioconductor.org/packages/release/bioc/html/BiocGenerics.html'},\n",
       " {'name': 'S4Vectors',\n",
       "  'version': '0.36.2',\n",
       "  'dependencies': [<olivia_finder.package.Package at 0x7feccb1e7100>,\n",
       "   <olivia_finder.package.Package at 0x7feccb1e7160>,\n",
       "   <olivia_finder.package.Package at 0x7feccc17df70>,\n",
       "   <olivia_finder.package.Package at 0x7feccb1e71c0>,\n",
       "   <olivia_finder.package.Package at 0x7feccb1e7220>,\n",
       "   <olivia_finder.package.Package at 0x7feccb1e70d0>],\n",
       "  'url': 'https://www.bioconductor.org/packages/release/bioc/html/S4Vectors.html'},\n",
       " {'name': 'BiocVersion',\n",
       "  'version': '3.16.0',\n",
       "  'dependencies': [<olivia_finder.package.Package at 0x7feccc25ef70>],\n",
       "  'url': 'https://www.bioconductor.org/packages/release/bioc/html/BiocVersion.html'}]"
      ]
     },
     "execution_count": 9,
     "metadata": {},
     "output_type": "execute_result"
    }
   ],
   "source": [
    "pkgs_data = data_source.obtain_packages_data(package_list[:3])\n",
    "pkgs_data"
   ]
  },
  {
   "cell_type": "code",
   "execution_count": 18,
   "metadata": {},
   "outputs": [
    {
     "name": "stdout",
     "output_type": "stream",
     "text": [
      "Package: BiocGenerics 0.44.0\n",
      "-   Dependency: utils \n",
      "-   Dependency: stats \n",
      "-   Dependency: R >= 4.0.0\n",
      "-   Dependency: graphics \n",
      "-   Dependency: methods \n",
      "Package: S4Vectors 0.36.2\n",
      "-   Dependency: utils \n",
      "-   Dependency: stats \n",
      "-   Dependency: R >= 4.0.0\n",
      "-   Dependency: stats4 \n",
      "-   Dependency: BiocGenerics \n",
      "-   Dependency: methods \n",
      "Package: BiocVersion 3.16.0\n",
      "-   Dependency: R >= 4.2.0\n"
     ]
    }
   ],
   "source": [
    "for p in pkgs_data:\n",
    "    print(f'Package: {p[\"name\"]} {p[\"version\"]}')\n",
    "\n",
    "    for d in p[\"dependencies\"]:\n",
    "        print(f'-   Dependency: {d.name} {d.version}')\n"
   ]
  },
  {
   "attachments": {},
   "cell_type": "markdown",
   "metadata": {},
   "source": [
    "#### Scrapers implementation"
   ]
  },
  {
   "attachments": {},
   "cell_type": "markdown",
   "metadata": {},
   "source": [
    "## Initialization of a package manager"
   ]
  },
  {
   "cell_type": "code",
   "execution_count": 19,
   "metadata": {},
   "outputs": [],
   "source": [
    "from olivia_finder.package_manager import PackageManager"
   ]
  },
  {
   "cell_type": "code",
   "execution_count": 20,
   "metadata": {},
   "outputs": [],
   "source": [
    "bioconductor = PackageManager(data_source)"
   ]
  },
  {
   "cell_type": "code",
   "execution_count": 21,
   "metadata": {},
   "outputs": [
    {
     "name": "stdout",
     "output_type": "stream",
     "text": [
      "Package:\n",
      "  name: DeepBlueR\n",
      "  version: 1.24.1\n",
      "  url: https://www.bioconductor.org/packages/release/bioc/html/DeepBlueR.html\n",
      "  dependencies:\n",
      "    diffr:\n",
      "    rtracklayer:\n",
      "    R:>= 3.3\n",
      "    R.utils:\n",
      "    foreach:\n",
      "    utils:\n",
      "    settings:\n",
      "    RCurl:\n",
      "    stringr:\n",
      "    filehash:\n",
      "    data.table:\n",
      "    GenomeInfoDb:\n",
      "    withr:\n",
      "    XML:\n",
      "    methods:\n",
      "    rjson:\n",
      "    GenomicRanges:\n",
      "    dplyr:\n"
     ]
    }
   ],
   "source": [
    "p = bioconductor.obtain_package(\"DeepBlueR\")\n",
    "p.print()"
   ]
  },
  {
   "cell_type": "code",
   "execution_count": 9,
   "metadata": {},
   "outputs": [
    {
     "name": "stderr",
     "output_type": "stream",
     "text": [
      "100%|██████████| 2/2 [00:05<00:00,  2.58s/it]\n"
     ]
    },
    {
     "data": {
      "text/plain": [
       "[<olivia_finder.package.Package at 0x7f0608303fd0>,\n",
       " <olivia_finder.package.Package at 0x7f05fbf18f50>]"
      ]
     },
     "execution_count": 9,
     "metadata": {},
     "output_type": "execute_result"
    }
   ],
   "source": [
    "bioconductor_packages = bioconductor.obtain_packages(\n",
    "    package_list[:2],\n",
    "    extend_repo=True, \n",
    "    show_progress=True\n",
    ")\n",
    "bioconductor_packages"
   ]
  },
  {
   "cell_type": "code",
   "execution_count": 10,
   "metadata": {},
   "outputs": [
    {
     "name": "stdout",
     "output_type": "stream",
     "text": [
      "Package:\n",
      "  name: BiocGenerics\n",
      "  version: 0.44.0\n",
      "  url: https://www.bioconductor.org/packages/release/bioc/html/BiocGenerics.html\n",
      "  dependencies:\n",
      "    utils:\n",
      "    R:>= 4.0.0\n",
      "    stats:\n",
      "    methods:\n",
      "    graphics:\n",
      "Package:\n",
      "  name: S4Vectors\n",
      "  version: 0.36.2\n",
      "  url: https://www.bioconductor.org/packages/release/bioc/html/S4Vectors.html\n",
      "  dependencies:\n",
      "    utils:\n",
      "    R:>= 4.0.0\n",
      "    stats:\n",
      "    stats4:\n",
      "    methods:\n",
      "    BiocGenerics:\n"
     ]
    }
   ],
   "source": [
    "for p in bioconductor_packages:\n",
    "    p.print()"
   ]
  },
  {
   "cell_type": "code",
   "execution_count": 11,
   "metadata": {},
   "outputs": [
    {
     "name": "stderr",
     "output_type": "stream",
     "text": [
      "100%|██████████| 2183/2183 [04:00<00:00,  9.07it/s]\n"
     ]
    }
   ],
   "source": [
    "bioconductor_packages = bioconductor.obtain_packages(extend_repo=True, show_progress=True)"
   ]
  },
  {
   "cell_type": "code",
   "execution_count": 14,
   "metadata": {},
   "outputs": [],
   "source": [
    "import pickle\n",
    "# Save the bioconductor package manager as a pickle file\n",
    "with open(\"./results/package_managers/bioconductor_pm_scraping.pkl\", \"wb\") as f:\n",
    "    pickle.dump(bioconductor_packages, f)"
   ]
  },
  {
   "cell_type": "code",
   "execution_count": 16,
   "metadata": {},
   "outputs": [],
   "source": [
    "# Store the package manager as a adjacency list\n",
    "b_df = bioconductor.to_full_adj_list()\n",
    "\n",
    "# Store the package manager as a adjacency list\n",
    "b_df.to_csv(\"./results/csv_datasets/bioconductor_adjlist_scraping.csv\", index=False)\n"
   ]
  }
 ],
 "metadata": {
  "kernelspec": {
   "display_name": "gt",
   "language": "python",
   "name": "python3"
  },
  "language_info": {
   "codemirror_mode": {
    "name": "ipython",
    "version": 3
   },
   "file_extension": ".py",
   "mimetype": "text/x-python",
   "name": "python",
   "nbconvert_exporter": "python",
   "pygments_lexer": "ipython3",
   "version": "3.9.12"
  },
  "orig_nbformat": 4
 },
 "nbformat": 4,
 "nbformat_minor": 2
}
