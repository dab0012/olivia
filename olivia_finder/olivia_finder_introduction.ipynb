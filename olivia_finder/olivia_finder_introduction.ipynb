{
 "cells": [
  {
   "attachments": {},
   "cell_type": "markdown",
   "metadata": {},
   "source": [
    "We make sure to have the necessary units installed"
   ]
  },
  {
   "cell_type": "code",
   "execution_count": 1,
   "metadata": {},
   "outputs": [
    {
     "name": "stdout",
     "output_type": "stream",
     "text": [
      "Requirement already satisfied: pandas in /home/dnllns/anaconda3/envs/gt/lib/python3.11/site-packages (from -r requirements.txt (line 1)) (1.5.3)\n",
      "Requirement already satisfied: tqdm in /home/dnllns/anaconda3/envs/gt/lib/python3.11/site-packages (from -r requirements.txt (line 2)) (4.65.0)\n",
      "Requirement already satisfied: requests in /home/dnllns/anaconda3/envs/gt/lib/python3.11/site-packages (from -r requirements.txt (line 3)) (2.28.2)\n",
      "Requirement already satisfied: BeautifulSoup4 in /home/dnllns/anaconda3/envs/gt/lib/python3.11/site-packages (from -r requirements.txt (line 4)) (4.11.2)\n",
      "Requirement already satisfied: colorama in /home/dnllns/anaconda3/envs/gt/lib/python3.11/site-packages (from -r requirements.txt (line 5)) (0.4.6)\n",
      "Requirement already satisfied: selenium in /home/dnllns/anaconda3/envs/gt/lib/python3.11/site-packages (from -r requirements.txt (line 6)) (4.8.2)\n",
      "Requirement already satisfied: webdriver-manager in /home/dnllns/anaconda3/envs/gt/lib/python3.11/site-packages (from -r requirements.txt (line 7)) (3.8.5)\n",
      "Requirement already satisfied: python-dateutil>=2.8.1 in /home/dnllns/anaconda3/envs/gt/lib/python3.11/site-packages (from pandas->-r requirements.txt (line 1)) (2.8.2)\n",
      "Requirement already satisfied: pytz>=2020.1 in /home/dnllns/anaconda3/envs/gt/lib/python3.11/site-packages (from pandas->-r requirements.txt (line 1)) (2022.7.1)\n",
      "Requirement already satisfied: numpy>=1.21.0 in /home/dnllns/anaconda3/envs/gt/lib/python3.11/site-packages (from pandas->-r requirements.txt (line 1)) (1.24.2)\n",
      "Requirement already satisfied: charset-normalizer<4,>=2 in /home/dnllns/anaconda3/envs/gt/lib/python3.11/site-packages (from requests->-r requirements.txt (line 3)) (2.1.1)\n",
      "Requirement already satisfied: idna<4,>=2.5 in /home/dnllns/anaconda3/envs/gt/lib/python3.11/site-packages (from requests->-r requirements.txt (line 3)) (3.4)\n",
      "Requirement already satisfied: urllib3<1.27,>=1.21.1 in /home/dnllns/anaconda3/envs/gt/lib/python3.11/site-packages (from requests->-r requirements.txt (line 3)) (1.26.14)\n",
      "Requirement already satisfied: certifi>=2017.4.17 in /home/dnllns/anaconda3/envs/gt/lib/python3.11/site-packages (from requests->-r requirements.txt (line 3)) (2022.12.7)\n",
      "Requirement already satisfied: soupsieve>1.2 in /home/dnllns/anaconda3/envs/gt/lib/python3.11/site-packages (from BeautifulSoup4->-r requirements.txt (line 4)) (2.4)\n",
      "Requirement already satisfied: trio~=0.17 in /home/dnllns/anaconda3/envs/gt/lib/python3.11/site-packages (from selenium->-r requirements.txt (line 6)) (0.22.0)\n",
      "Requirement already satisfied: trio-websocket~=0.9 in /home/dnllns/anaconda3/envs/gt/lib/python3.11/site-packages (from selenium->-r requirements.txt (line 6)) (0.9.2)\n",
      "Requirement already satisfied: python-dotenv in /home/dnllns/anaconda3/envs/gt/lib/python3.11/site-packages (from webdriver-manager->-r requirements.txt (line 7)) (1.0.0)\n",
      "Requirement already satisfied: packaging in /home/dnllns/anaconda3/envs/gt/lib/python3.11/site-packages (from webdriver-manager->-r requirements.txt (line 7)) (23.0)\n",
      "Requirement already satisfied: six>=1.5 in /home/dnllns/anaconda3/envs/gt/lib/python3.11/site-packages (from python-dateutil>=2.8.1->pandas->-r requirements.txt (line 1)) (1.16.0)\n",
      "Requirement already satisfied: attrs>=19.2.0 in /home/dnllns/anaconda3/envs/gt/lib/python3.11/site-packages (from trio~=0.17->selenium->-r requirements.txt (line 6)) (22.2.0)\n",
      "Requirement already satisfied: sortedcontainers in /home/dnllns/anaconda3/envs/gt/lib/python3.11/site-packages (from trio~=0.17->selenium->-r requirements.txt (line 6)) (2.4.0)\n",
      "Requirement already satisfied: async-generator>=1.9 in /home/dnllns/anaconda3/envs/gt/lib/python3.11/site-packages (from trio~=0.17->selenium->-r requirements.txt (line 6)) (1.10)\n",
      "Requirement already satisfied: outcome in /home/dnllns/anaconda3/envs/gt/lib/python3.11/site-packages (from trio~=0.17->selenium->-r requirements.txt (line 6)) (1.2.0)\n",
      "Requirement already satisfied: sniffio in /home/dnllns/anaconda3/envs/gt/lib/python3.11/site-packages (from trio~=0.17->selenium->-r requirements.txt (line 6)) (1.3.0)\n",
      "Requirement already satisfied: wsproto>=0.14 in /home/dnllns/anaconda3/envs/gt/lib/python3.11/site-packages (from trio-websocket~=0.9->selenium->-r requirements.txt (line 6)) (1.2.0)\n",
      "Requirement already satisfied: PySocks!=1.5.7,<2.0,>=1.5.6 in /home/dnllns/anaconda3/envs/gt/lib/python3.11/site-packages (from urllib3<1.27,>=1.21.1->requests->-r requirements.txt (line 3)) (1.7.1)\n",
      "Requirement already satisfied: h11<1,>=0.9.0 in /home/dnllns/anaconda3/envs/gt/lib/python3.11/site-packages (from wsproto>=0.14->trio-websocket~=0.9->selenium->-r requirements.txt (line 6)) (0.14.0)\n",
      "Note: you may need to restart the kernel to use updated packages.\n"
     ]
    }
   ],
   "source": [
    "%pip install -r requirements.txt"
   ]
  },
  {
   "attachments": {},
   "cell_type": "markdown",
   "metadata": {},
   "source": [
    "## Initialization of a data source"
   ]
  },
  {
   "attachments": {},
   "cell_type": "markdown",
   "metadata": {},
   "source": [
    "In this example we will instantize the desired implementation of data source class\n",
    "\n",
    "Different implementations are available to perform this task, based on obtaining the web pages of the respective package managers and also from CSV text files"
   ]
  },
  {
   "attachments": {},
   "cell_type": "markdown",
   "metadata": {},
   "source": [
    "### Data obtaining via web scarping"
   ]
  },
  {
   "attachments": {},
   "cell_type": "markdown",
   "metadata": {},
   "source": [
    "#### How to proceed"
   ]
  },
  {
   "attachments": {},
   "cell_type": "markdown",
   "metadata": {},
   "source": [
    "In the first place we import the implementation of the data source we want, for this example we will use the Bioconductor Scraper"
   ]
  },
  {
   "cell_type": "code",
   "execution_count": 2,
   "metadata": {},
   "outputs": [],
   "source": [
    "from olivia_finder.scraping.bioconductor import BiocScraper"
   ]
  },
  {
   "cell_type": "code",
   "execution_count": 3,
   "metadata": {},
   "outputs": [
    {
     "name": "stderr",
     "output_type": "stream",
     "text": [
      "2023-03-09 20:01:38 [    INFO] Added SSLProxies to proxy builders (logger.py:84)\n",
      "2023-03-09 20:01:38 [    INFO] Added FreeProxyList to proxy builders (logger.py:84)\n",
      "2023-03-09 20:01:38 [    INFO] Added GeonodeProxy to proxy builders (logger.py:84)\n",
      "2023-03-09 20:01:38 [   DEBUG] Starting new HTTPS connection (1): www.sslproxies.org:443 (connectionpool.py:1003)\n",
      "2023-03-09 20:01:39 [   DEBUG] https://www.sslproxies.org:443 \"GET / HTTP/1.1\" 200 None (connectionpool.py:456)\n",
      "2023-03-09 20:01:39 [    INFO] Found 100 proxies from SSLProxies (logger.py:84)\n",
      "2023-03-09 20:01:39 [   DEBUG] Starting new HTTPS connection (1): free-proxy-list.net:443 (connectionpool.py:1003)\n",
      "2023-03-09 20:01:39 [   DEBUG] https://free-proxy-list.net:443 \"GET /anonymous-proxy.html HTTP/1.1\" 200 None (connectionpool.py:456)\n",
      "2023-03-09 20:01:39 [    INFO] Found 100 proxies from FreeProxyList (logger.py:84)\n",
      "2023-03-09 20:01:39 [   DEBUG] Starting new HTTPS connection (1): proxylist.geonode.com:443 (connectionpool.py:1003)\n",
      "2023-03-09 20:01:43 [   DEBUG] https://proxylist.geonode.com:443 \"GET /api/proxy-list?limit=500&page=1&sort_by=lastChecked&sort_type=desc HTTP/1.1\" 200 None (connectionpool.py:456)\n",
      "2023-03-09 20:01:43 [    INFO] Found 500 proxies from GeonodeProxy (logger.py:84)\n",
      "2023-03-09 20:01:43 [    INFO] Proxies len: 688 (logger.py:84)\n",
      "2023-03-09 20:01:43 [    INFO] Proxy Handler initialized with 688 proxies (logger.py:84)\n",
      "2023-03-09 20:01:43 [    INFO] Buidlers: [<olivia_finder.requests.proxy_builder.SSLProxies object at 0x7ff75dc3fbd0>, <olivia_finder.requests.proxy_builder.FreeProxyList object at 0x7ff75f730f90>, <olivia_finder.requests.proxy_builder.GeonodeProxy object at 0x7ff7e40979d0>] (logger.py:84)\n",
      "2023-03-09 20:01:43 [    INFO] Useragents loaded from file: data/useragents.txt (logger.py:84)\n"
     ]
    }
   ],
   "source": [
    "data_source = BiocScraper(use_logger=True)"
   ]
  },
  {
   "attachments": {},
   "cell_type": "markdown",
   "metadata": {},
   "source": [
    "Show relevant information about the data source"
   ]
  },
  {
   "cell_type": "code",
   "execution_count": 4,
   "metadata": {},
   "outputs": [
    {
     "name": "stdout",
     "output_type": "stream",
     "text": [
      "Name: Bioconductor\n",
      "Description: Scraper class implementation for the Bioconductor package network\n"
     ]
    }
   ],
   "source": [
    "print(data_source.get_info())"
   ]
  },
  {
   "attachments": {},
   "cell_type": "markdown",
   "metadata": {},
   "source": [
    "Get a list with the name of the packages obtained from this source"
   ]
  },
  {
   "cell_type": "code",
   "execution_count": 5,
   "metadata": {},
   "outputs": [
    {
     "data": {
      "text/plain": [
       "['BiocGenerics',\n",
       " 'S4Vectors',\n",
       " 'BiocVersion',\n",
       " 'GenomeInfoDb',\n",
       " 'IRanges',\n",
       " 'Biobase',\n",
       " 'zlibbioc',\n",
       " 'XVector',\n",
       " 'Biostrings',\n",
       " 'BiocParallel']"
      ]
     },
     "execution_count": 5,
     "metadata": {},
     "output_type": "execute_result"
    }
   ],
   "source": [
    "data_source.disable_logger()\n",
    "package_list = data_source.obtain_package_names()\n",
    "package_list[:10]"
   ]
  },
  {
   "attachments": {},
   "cell_type": "markdown",
   "metadata": {},
   "source": [
    "We can obtain the data from a specific package, for example the **`DeepBlueR`** package"
   ]
  },
  {
   "cell_type": "code",
   "execution_count": 6,
   "metadata": {},
   "outputs": [
    {
     "name": "stderr",
     "output_type": "stream",
     "text": [
      "2023-03-09 20:01:47 [    INFO] Scraping package DeepBlueR (logger.py:84)\n",
      "2023-03-09 20:01:47 [    INFO] Getting next proxy (logger.py:84)\n",
      "2023-03-09 20:01:47 [    INFO] Proxy list rotated, new: 158.140.160.86:10808 (logger.py:84)\n",
      "2023-03-09 20:01:47 [    INFO] Using proxy: {'http': 'http://104.223.135.178:10000'} (logger.py:84)\n",
      "2023-03-09 20:01:47 [    INFO] Getting next useragent (logger.py:84)\n",
      "2023-03-09 20:01:47 [    INFO] Using user agent: Mozilla/5.0 (Windows NT 6.1; rv:36.0) Gecko/20100101 Firefox/36.0 (logger.py:84)\n",
      "2023-03-09 20:01:47 [   DEBUG] Starting new HTTPS connection (1): www.bioconductor.org:443 (connectionpool.py:1003)\n",
      "2023-03-09 20:01:47 [   DEBUG] https://www.bioconductor.org:443 \"GET /packages/release/bioc/html/DeepBlueR.html HTTP/1.1\" 200 5671 (connectionpool.py:456)\n",
      "2023-03-09 20:01:47 [    INFO] Response status code: 200 (logger.py:84)\n"
     ]
    },
    {
     "data": {
      "text/plain": [
       "{'name': 'DeepBlueR',\n",
       " 'version': '1.24.1',\n",
       " 'url': 'https://www.bioconductor.org/packages/release/bioc/html/DeepBlueR.html',\n",
       " 'dependencies': [{'name': 'R', 'version': '>= 3.3'},\n",
       "  {'name': 'XML', 'version': ''},\n",
       "  {'name': 'RCurl', 'version': ''},\n",
       "  {'name': 'GenomicRanges', 'version': ''},\n",
       "  {'name': 'data.table', 'version': ''},\n",
       "  {'name': 'stringr', 'version': ''},\n",
       "  {'name': 'diffr', 'version': ''},\n",
       "  {'name': 'dplyr', 'version': ''},\n",
       "  {'name': 'methods', 'version': ''},\n",
       "  {'name': 'rjson', 'version': ''},\n",
       "  {'name': 'utils', 'version': ''},\n",
       "  {'name': 'R.utils', 'version': ''},\n",
       "  {'name': 'foreach', 'version': ''},\n",
       "  {'name': 'withr', 'version': ''},\n",
       "  {'name': 'rtracklayer', 'version': ''},\n",
       "  {'name': 'GenomeInfoDb', 'version': ''},\n",
       "  {'name': 'settings', 'version': ''},\n",
       "  {'name': 'filehash', 'version': ''}]}"
      ]
     },
     "execution_count": 6,
     "metadata": {},
     "output_type": "execute_result"
    }
   ],
   "source": [
    "data_source.enable_logger()\n",
    "deepbluer = data_source.obtain_package_data(\"DeepBlueR\")\n",
    "deepbluer"
   ]
  },
  {
   "attachments": {},
   "cell_type": "markdown",
   "metadata": {},
   "source": [
    "Be careful with the sensitivity to **caps**, if the package has not been found, an ***NotFoundException*** is returned"
   ]
  },
  {
   "cell_type": "code",
   "execution_count": 7,
   "metadata": {},
   "outputs": [
    {
     "name": "stderr",
     "output_type": "stream",
     "text": [
      "2023-03-09 20:01:47 [    INFO] Scraping package deepbluer (logger.py:84)\n",
      "2023-03-09 20:01:47 [    INFO] Getting next proxy (logger.py:84)\n",
      "2023-03-09 20:01:47 [    INFO] Proxy list rotated, new: 86.110.189.118:42539 (logger.py:84)\n",
      "2023-03-09 20:01:47 [    INFO] Using proxy: {'http': 'http://158.140.160.86:10808'} (logger.py:84)\n",
      "2023-03-09 20:01:47 [    INFO] Getting next useragent (logger.py:84)\n",
      "2023-03-09 20:01:47 [    INFO] Using user agent: Mozilla/5.0 (Windows NT 6.0; WOW64) AppleWebKit/537.36 (KHTML, like Gecko) Chrome/37.0.2062.94 AOL/9.7 AOLBuild/4343.4049.US Safari/537.36 (logger.py:84)\n",
      "2023-03-09 20:01:47 [   DEBUG] Starting new HTTPS connection (1): www.bioconductor.org:443 (connectionpool.py:1003)\n",
      "2023-03-09 20:01:48 [   DEBUG] https://www.bioconductor.org:443 \"GET /packages/release/bioc/html/deepbluer.html HTTP/1.1\" 404 6873 (connectionpool.py:456)\n",
      "2023-03-09 20:01:48 [    INFO] Response status code: 404 (logger.py:84)\n",
      "2023-03-09 20:01:48 [    INFO] Package deepbluer not found (logger.py:84)\n",
      "2023-03-09 20:01:48 [    INFO] ScraperError: Package deepbluer not found (logger.py:84)\n"
     ]
    },
    {
     "name": "stdout",
     "output_type": "stream",
     "text": [
      "Package deepbluer not found\n"
     ]
    }
   ],
   "source": [
    "from olivia_finder.scraping.scraper import ScraperError\n",
    "\n",
    "try:\n",
    "    deepbluer2 = data_source.obtain_package_data(\"deepbluer\")\n",
    "except ScraperError as e:\n",
    "    print(e)"
   ]
  },
  {
   "cell_type": "code",
   "execution_count": 8,
   "metadata": {},
   "outputs": [
    {
     "data": {
      "text/plain": [
       "[{'name': 'BiocGenerics',\n",
       "  'version': '0.44.0',\n",
       "  'dependencies': [{'name': 'R', 'version': '>= 4.0.0'},\n",
       "   {'name': 'methods', 'version': ''},\n",
       "   {'name': 'utils', 'version': ''},\n",
       "   {'name': 'graphics', 'version': ''},\n",
       "   {'name': 'stats', 'version': ''},\n",
       "   {'name': 'methods', 'version': ''},\n",
       "   {'name': 'utils', 'version': ''},\n",
       "   {'name': 'graphics', 'version': ''},\n",
       "   {'name': 'stats', 'version': ''}],\n",
       "  'url': 'https://www.bioconductor.org/packages/release/bioc/html/BiocGenerics.html'},\n",
       " {'name': 'S4Vectors',\n",
       "  'version': '0.36.2',\n",
       "  'dependencies': [{'name': 'R', 'version': '>= 4.0.0'},\n",
       "   {'name': 'methods', 'version': ''},\n",
       "   {'name': 'utils', 'version': ''},\n",
       "   {'name': 'stats', 'version': ''},\n",
       "   {'name': 'stats4', 'version': ''},\n",
       "   {'name': 'BiocGenerics', 'version': ''}],\n",
       "  'url': 'https://www.bioconductor.org/packages/release/bioc/html/S4Vectors.html'},\n",
       " {'name': 'BiocVersion',\n",
       "  'version': '3.16.0',\n",
       "  'dependencies': [{'name': 'R', 'version': '>= 4.2.0'}],\n",
       "  'url': 'https://www.bioconductor.org/packages/release/bioc/html/BiocVersion.html'}]"
      ]
     },
     "execution_count": 8,
     "metadata": {},
     "output_type": "execute_result"
    }
   ],
   "source": [
    "data_source.disable_logger()\n",
    "pkgs_data = data_source.obtain_packages_data(package_list[:3])\n",
    "pkgs_data"
   ]
  },
  {
   "cell_type": "code",
   "execution_count": 9,
   "metadata": {},
   "outputs": [
    {
     "name": "stdout",
     "output_type": "stream",
     "text": [
      "Package: BiocGenerics 0.44.0\n",
      "-   Dependency: R >= 4.0.0\n",
      "-   Dependency: methods \n",
      "-   Dependency: utils \n",
      "-   Dependency: graphics \n",
      "-   Dependency: stats \n",
      "-   Dependency: methods \n",
      "-   Dependency: utils \n",
      "-   Dependency: graphics \n",
      "-   Dependency: stats \n",
      "Package: S4Vectors 0.36.2\n",
      "-   Dependency: R >= 4.0.0\n",
      "-   Dependency: methods \n",
      "-   Dependency: utils \n",
      "-   Dependency: stats \n",
      "-   Dependency: stats4 \n",
      "-   Dependency: BiocGenerics \n",
      "Package: BiocVersion 3.16.0\n",
      "-   Dependency: R >= 4.2.0\n"
     ]
    }
   ],
   "source": [
    "for p in pkgs_data:\n",
    "    print(f'Package: {p[\"name\"]} {p[\"version\"]}')\n",
    "\n",
    "    for d in p[\"dependencies\"]:\n",
    "        print(f'-   Dependency: {d[\"name\"]} {d[\"version\"]}')\n"
   ]
  },
  {
   "attachments": {},
   "cell_type": "markdown",
   "metadata": {},
   "source": [
    "#### Scrapers implementation"
   ]
  },
  {
   "attachments": {},
   "cell_type": "markdown",
   "metadata": {},
   "source": [
    "## Initialization of a package manager"
   ]
  },
  {
   "cell_type": "code",
   "execution_count": 10,
   "metadata": {},
   "outputs": [],
   "source": [
    "from olivia_finder.package_manager import PackageManager"
   ]
  },
  {
   "cell_type": "code",
   "execution_count": 11,
   "metadata": {},
   "outputs": [],
   "source": [
    "bioconductor = PackageManager(data_source)"
   ]
  },
  {
   "cell_type": "code",
   "execution_count": 12,
   "metadata": {},
   "outputs": [
    {
     "name": "stdout",
     "output_type": "stream",
     "text": [
      "Package:\n",
      "  name: DeepBlueR\n",
      "  version: 1.24.1\n",
      "  url: https://www.bioconductor.org/packages/release/bioc/html/DeepBlueR.html\n",
      "  dependencies:\n",
      "    R:>= 3.3\n",
      "    XML:\n",
      "    RCurl:\n",
      "    GenomicRanges:\n",
      "    data.table:\n",
      "    stringr:\n",
      "    diffr:\n",
      "    dplyr:\n",
      "    methods:\n",
      "    rjson:\n",
      "    utils:\n",
      "    R.utils:\n",
      "    foreach:\n",
      "    withr:\n",
      "    rtracklayer:\n",
      "    GenomeInfoDb:\n",
      "    settings:\n",
      "    filehash:\n"
     ]
    }
   ],
   "source": [
    "p = bioconductor.obtain_package(\"DeepBlueR\")\n",
    "p.print()"
   ]
  },
  {
   "cell_type": "code",
   "execution_count": 13,
   "metadata": {},
   "outputs": [
    {
     "name": "stderr",
     "output_type": "stream",
     "text": [
      "100%|██████████| 2/2 [00:00<00:00, 10.17it/s]\n"
     ]
    },
    {
     "data": {
      "text/plain": [
       "[<olivia_finder.package.Package at 0x7ff75d4db890>,\n",
       " <olivia_finder.package.Package at 0x7ff75d4ee850>]"
      ]
     },
     "execution_count": 13,
     "metadata": {},
     "output_type": "execute_result"
    }
   ],
   "source": [
    "bioconductor_packages = bioconductor.obtain_packages(\n",
    "    package_list[:2],\n",
    "    extend_repo=True, \n",
    "    show_progress=True\n",
    ")\n",
    "bioconductor_packages"
   ]
  },
  {
   "cell_type": "code",
   "execution_count": 14,
   "metadata": {},
   "outputs": [
    {
     "name": "stdout",
     "output_type": "stream",
     "text": [
      "Package:\n",
      "  name: BiocGenerics\n",
      "  version: 0.44.0\n",
      "  url: https://www.bioconductor.org/packages/release/bioc/html/BiocGenerics.html\n",
      "  dependencies:\n",
      "    R:>= 4.0.0\n",
      "    methods:\n",
      "    utils:\n",
      "    graphics:\n",
      "    stats:\n",
      "    methods:\n",
      "    utils:\n",
      "    graphics:\n",
      "    stats:\n",
      "Package:\n",
      "  name: S4Vectors\n",
      "  version: 0.36.2\n",
      "  url: https://www.bioconductor.org/packages/release/bioc/html/S4Vectors.html\n",
      "  dependencies:\n",
      "    R:>= 4.0.0\n",
      "    methods:\n",
      "    utils:\n",
      "    stats:\n",
      "    stats4:\n",
      "    BiocGenerics:\n"
     ]
    }
   ],
   "source": [
    "for p in bioconductor_packages:\n",
    "    p.print()"
   ]
  },
  {
   "cell_type": "code",
   "execution_count": 15,
   "metadata": {},
   "outputs": [
    {
     "name": "stderr",
     "output_type": "stream",
     "text": [
      "100%|██████████| 2183/2183 [03:47<00:00,  9.59it/s]\n"
     ]
    }
   ],
   "source": [
    "bioconductor_packages = bioconductor.obtain_packages(extend_repo=True, show_progress=True)"
   ]
  },
  {
   "cell_type": "code",
   "execution_count": 16,
   "metadata": {},
   "outputs": [],
   "source": [
    "import pickle\n",
    "# Save the bioconductor package manager as a pickle file\n",
    "with open(\"./results/package_managers/bioconductor_pm_scraping.pkl\", \"wb\") as f:\n",
    "    pickle.dump(bioconductor_packages, f)"
   ]
  },
  {
   "cell_type": "code",
   "execution_count": 17,
   "metadata": {},
   "outputs": [],
   "source": [
    "# Store the package manager as a adjacency list\n",
    "b_df = bioconductor.to_full_adj_list()\n",
    "\n",
    "# Store the package manager as a adjacency list\n",
    "b_df.to_csv(\"./results/csv_datasets/bioconductor_adjlist_scraping.csv\", index=False)\n"
   ]
  },
  {
   "cell_type": "code",
   "execution_count": 19,
   "metadata": {},
   "outputs": [
    {
     "name": "stdout",
     "output_type": "stream",
     "text": [
      "Package:\n",
      "  name: singleCellTK\n",
      "  version: 2.8.0\n",
      "  url: https://www.bioconductor.org/packages/release/bioc/html/singleCellTK.html\n",
      "  dependencies:\n",
      "    R:>= 4.0\n",
      "    SummarizedExperiment:\n",
      "    SingleCellExperiment:\n",
      "    DelayedArray:\n",
      "    Biobase:\n",
      "    ape:\n",
      "    AnnotationHub:\n",
      "    batchelor:\n",
      "    BiocParallel:\n",
      "    celldex:\n",
      "    colourpicker:\n",
      "    colorspace:\n",
      "    cowplot:\n",
      "    cluster:\n",
      "    ComplexHeatmap:\n",
      "    data.table:\n",
      "    DelayedMatrixStats:\n",
      "    DESeq2:\n",
      "    dplyr:\n",
      "    DT:\n",
      "    ExperimentHub:\n",
      "    ensembldb:\n",
      "    fields:\n",
      "    ggplot2:\n",
      "    ggplotify:\n",
      "    ggrepel:\n",
      "    ggtree:\n",
      "    gridExtra:\n",
      "    GSVA:\n",
      "    GSVAdata:\n",
      "    igraph:\n",
      "    KernSmooth:\n",
      "    limma:\n",
      "    MAST:\n",
      "    Matrix:\n",
      "    matrixStats:\n",
      "    methods:\n",
      "    msigdbr:\n",
      "    multtest:\n",
      "    plotly:\n",
      "    plyr:\n",
      "    ROCR:\n",
      "    Rtsne:\n",
      "    S4Vectors:\n",
      "    scater:\n",
      "    scMerge:\n",
      "    scran:\n",
      "    Seurat:>= 3.1.3\n",
      "    shiny:\n",
      "    shinyjs:\n",
      "    SingleR:\n",
      "    SoupX:\n",
      "    sva:\n",
      "    reshape2:\n",
      "    shinyalert:\n",
      "    circlize:\n",
      "    enrichR:\n",
      "    celda:\n",
      "    shinycssloaders:\n",
      "    DropletUtils:\n",
      "    scds:\n",
      "    reticulate:>= 1.14\n",
      "    tools:\n",
      "    tximport:\n",
      "    fishpond:\n",
      "    withr:\n",
      "    GSEABase:\n",
      "    R.utils:\n",
      "    zinbwave:\n",
      "    scRNAseq:\n",
      "    TENxPBMCData:\n",
      "    yaml:\n",
      "    rmarkdown:\n",
      "    magrittr:\n",
      "    scDblFinder:\n",
      "    metap:\n",
      "    VAM:>= 0.5.3\n",
      "    tibble:\n",
      "    rlang:\n",
      "    TSCAN:\n",
      "    TrajectoryUtils:\n",
      "    scuttle:\n",
      "    utils:\n",
      "    stats:\n",
      "Number of dependencies: 84\n"
     ]
    }
   ],
   "source": [
    "# Get the package with the most dependencies\n",
    "max_deps = max(bioconductor_packages, key=lambda p: len(p.dependencies))\n",
    "max_deps.print()\n",
    "print(f'Number of dependencies: {len(max_deps.dependencies)}')"
   ]
  }
 ],
 "metadata": {
  "kernelspec": {
   "display_name": "gt",
   "language": "python",
   "name": "python3"
  },
  "language_info": {
   "codemirror_mode": {
    "name": "ipython",
    "version": 3
   },
   "file_extension": ".py",
   "mimetype": "text/x-python",
   "name": "python",
   "nbconvert_exporter": "python",
   "pygments_lexer": "ipython3",
   "version": "3.11.0"
  },
  "orig_nbformat": 4
 },
 "nbformat": 4,
 "nbformat_minor": 2
}
