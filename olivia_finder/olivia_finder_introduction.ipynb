{
 "cells": [
  {
   "cell_type": "code",
   "execution_count": null,
   "metadata": {},
   "outputs": [],
   "source": [
    "%pip install -r requirements.txt"
   ]
  },
  {
   "cell_type": "code",
   "execution_count": 1,
   "metadata": {},
   "outputs": [],
   "source": [
    "import olivia_finder.scraping as scraping\n",
    "from olivia_finder.package_manager import PackageManager"
   ]
  },
  {
   "cell_type": "code",
   "execution_count": 2,
   "metadata": {},
   "outputs": [],
   "source": [
    "data_source = scraping.BiocScraper(use_logger=False)"
   ]
  },
  {
   "cell_type": "code",
   "execution_count": 4,
   "metadata": {},
   "outputs": [
    {
     "data": {
      "text/plain": [
       "['BiocGenerics',\n",
       " 'S4Vectors',\n",
       " 'BiocVersion',\n",
       " 'GenomeInfoDb',\n",
       " 'IRanges',\n",
       " 'Biobase',\n",
       " 'zlibbioc',\n",
       " 'XVector',\n",
       " 'Biostrings',\n",
       " 'BiocParallel']"
      ]
     },
     "execution_count": 4,
     "metadata": {},
     "output_type": "execute_result"
    }
   ],
   "source": [
    "package_list = data_source.obtain_package_names()\n",
    "package_list[:10]"
   ]
  },
  {
   "cell_type": "code",
   "execution_count": 5,
   "metadata": {},
   "outputs": [],
   "source": [
    "bioconductor = PackageManager(data_source)"
   ]
  },
  {
   "cell_type": "code",
   "execution_count": 6,
   "metadata": {},
   "outputs": [
    {
     "name": "stdout",
     "output_type": "stream",
     "text": [
      "Package:\n",
      "  name: DeepBlueR\n",
      "  version: 1.24.1\n",
      "  url: https://www.bioconductor.org/packages/release/bioc/html/DeepBlueR.html\n",
      "  dependencies:\n",
      "    GenomicRanges:\n",
      "    GenomeInfoDb:\n",
      "    utils:\n",
      "    rtracklayer:\n",
      "    diffr:\n",
      "    settings:\n",
      "    stringr:\n",
      "    R:>= 3.3\n",
      "    data.table:\n",
      "    XML:\n",
      "    R.utils:\n",
      "    RCurl:\n",
      "    rjson:\n",
      "    methods:\n",
      "    dplyr:\n",
      "    withr:\n",
      "    filehash:\n",
      "    foreach:\n"
     ]
    }
   ],
   "source": [
    "p = bioconductor.obtain_package(\"DeepBlueR\")\n",
    "p.print()"
   ]
  },
  {
   "cell_type": "code",
   "execution_count": 9,
   "metadata": {},
   "outputs": [
    {
     "name": "stderr",
     "output_type": "stream",
     "text": [
      "100%|██████████| 2/2 [00:05<00:00,  2.58s/it]\n"
     ]
    },
    {
     "data": {
      "text/plain": [
       "[<olivia_finder.package.Package at 0x7f0608303fd0>,\n",
       " <olivia_finder.package.Package at 0x7f05fbf18f50>]"
      ]
     },
     "execution_count": 9,
     "metadata": {},
     "output_type": "execute_result"
    }
   ],
   "source": [
    "bioconductor_packages = bioconductor.obtain_packages(\n",
    "    package_list[:2],\n",
    "    extend_repo=True, \n",
    "    show_progress=True\n",
    ")\n",
    "bioconductor_packages"
   ]
  },
  {
   "cell_type": "code",
   "execution_count": 10,
   "metadata": {},
   "outputs": [
    {
     "name": "stdout",
     "output_type": "stream",
     "text": [
      "Package:\n",
      "  name: BiocGenerics\n",
      "  version: 0.44.0\n",
      "  url: https://www.bioconductor.org/packages/release/bioc/html/BiocGenerics.html\n",
      "  dependencies:\n",
      "    utils:\n",
      "    R:>= 4.0.0\n",
      "    stats:\n",
      "    methods:\n",
      "    graphics:\n",
      "Package:\n",
      "  name: S4Vectors\n",
      "  version: 0.36.2\n",
      "  url: https://www.bioconductor.org/packages/release/bioc/html/S4Vectors.html\n",
      "  dependencies:\n",
      "    utils:\n",
      "    R:>= 4.0.0\n",
      "    stats:\n",
      "    stats4:\n",
      "    methods:\n",
      "    BiocGenerics:\n"
     ]
    }
   ],
   "source": [
    "for p in bioconductor_packages:\n",
    "    p.print()"
   ]
  },
  {
   "cell_type": "code",
   "execution_count": 11,
   "metadata": {},
   "outputs": [
    {
     "name": "stderr",
     "output_type": "stream",
     "text": [
      "100%|██████████| 2183/2183 [04:00<00:00,  9.07it/s]\n"
     ]
    }
   ],
   "source": [
    "bioconductor_packages = bioconductor.obtain_packages(extend_repo=True, show_progress=True)"
   ]
  },
  {
   "cell_type": "code",
   "execution_count": 14,
   "metadata": {},
   "outputs": [],
   "source": [
    "import pickle\n",
    "# Save the bioconductor package manager as a pickle file\n",
    "with open(\"./results/package_managers/bioconductor_pm_scraping.pkl\", \"wb\") as f:\n",
    "    pickle.dump(bioconductor_packages, f)"
   ]
  },
  {
   "cell_type": "code",
   "execution_count": 16,
   "metadata": {},
   "outputs": [],
   "source": [
    "# Store the package manager as a adjacency list\n",
    "b_df = bioconductor.to_full_adj_list()\n",
    "\n",
    "# Store the package manager as a adjacency list\n",
    "b_df.to_csv(\"./results/csv_datasets/bioconductor_adjlist_scraping.csv\", index=False)\n"
   ]
  }
 ],
 "metadata": {
  "kernelspec": {
   "display_name": "gt",
   "language": "python",
   "name": "python3"
  },
  "language_info": {
   "codemirror_mode": {
    "name": "ipython",
    "version": 3
   },
   "file_extension": ".py",
   "mimetype": "text/x-python",
   "name": "python",
   "nbconvert_exporter": "python",
   "pygments_lexer": "ipython3",
   "version": "3.11.0"
  },
  "orig_nbformat": 4
 },
 "nbformat": 4,
 "nbformat_minor": 2
}
