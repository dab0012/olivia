{
 "cells": [
  {
   "attachments": {},
   "cell_type": "markdown",
   "metadata": {},
   "source": [
    "We make sure to have the necessary units installed"
   ]
  },
  {
   "cell_type": "code",
   "execution_count": null,
   "metadata": {},
   "outputs": [],
   "source": [
    "%pip install -r requirements.txt"
   ]
  },
  {
   "attachments": {},
   "cell_type": "markdown",
   "metadata": {},
   "source": [
    "## Initialization of a data source"
   ]
  },
  {
   "attachments": {},
   "cell_type": "markdown",
   "metadata": {},
   "source": [
    "In this example we will instantize the desired implementation of data source class\n",
    "\n",
    "Different implementations are available to perform this task, based on obtaining the web pages of the respective package managers and also from CSV text files"
   ]
  },
  {
   "attachments": {},
   "cell_type": "markdown",
   "metadata": {},
   "source": [
    "### Data obtaining via web scarping"
   ]
  },
  {
   "attachments": {},
   "cell_type": "markdown",
   "metadata": {},
   "source": [
    "In the first place we import the implementation of the data source we want, for this example we will use the Bioconductor Scraper"
   ]
  },
  {
   "cell_type": "code",
   "execution_count": 2,
   "metadata": {},
   "outputs": [],
   "source": [
    "from olivia_finder.scraping.bioconductor import BiocScraper"
   ]
  },
  {
   "cell_type": "code",
   "execution_count": 3,
   "metadata": {},
   "outputs": [],
   "source": [
    "data_source = BiocScraper()"
   ]
  },
  {
   "attachments": {},
   "cell_type": "markdown",
   "metadata": {},
   "source": [
    "Show relevant information about the data source"
   ]
  },
  {
   "cell_type": "code",
   "execution_count": 4,
   "metadata": {},
   "outputs": [
    {
     "name": "stdout",
     "output_type": "stream",
     "text": [
      "Name: Bioconductor\n",
      "Description: Scraper class implementation for the Bioconductor package network\n"
     ]
    }
   ],
   "source": [
    "print(data_source.get_info())"
   ]
  },
  {
   "attachments": {},
   "cell_type": "markdown",
   "metadata": {},
   "source": [
    "Get a list with the name of the packages obtained from this source"
   ]
  },
  {
   "cell_type": "code",
   "execution_count": 5,
   "metadata": {},
   "outputs": [
    {
     "data": {
      "text/plain": [
       "['ABSSeq',\n",
       " 'ABarray',\n",
       " 'ACE',\n",
       " 'ACME',\n",
       " 'ADAM',\n",
       " 'ADAMgui',\n",
       " 'ADImpute',\n",
       " 'ADaCGH2',\n",
       " 'AGDEX',\n",
       " 'AIMS']"
      ]
     },
     "execution_count": 5,
     "metadata": {},
     "output_type": "execute_result"
    }
   ],
   "source": [
    "package_list = data_source.obtain_package_names()\n",
    "package_list[:10]"
   ]
  },
  {
   "attachments": {},
   "cell_type": "markdown",
   "metadata": {},
   "source": [
    "We can obtain the data from a specific package, for example the **`DeepBlueR`** package"
   ]
  },
  {
   "cell_type": "code",
   "execution_count": 6,
   "metadata": {},
   "outputs": [],
   "source": [
    "from olivia_finder.util.logger import UtilLogger\n",
    "UtilLogger.init_logger()\n",
    "UtilLogger.enable_logger()"
   ]
  },
  {
   "cell_type": "code",
   "execution_count": 7,
   "metadata": {},
   "outputs": [
    {
     "name": "stderr",
     "output_type": "stream",
     "text": [
      "2023-03-13 21:18:59 [   DEBUG] Scraping package DeepBlueR (logger.py:96)\n",
      "2023-03-13 21:18:59 [   DEBUG] Getting next proxy (logger.py:96)\n",
      "2023-03-13 21:18:59 [   DEBUG] Proxy list rotated, using 202.29.218.138:4153, next will be 185.162.230.201:80 (logger.py:96)\n",
      "2023-03-13 21:18:59 [   DEBUG] Using proxy: {'http': 'http://202.29.218.138:4153'} (logger.py:96)\n",
      "2023-03-13 21:18:59 [   DEBUG] Getting next useragent (logger.py:96)\n",
      "2023-03-13 21:18:59 [   DEBUG] Using user agent: Mozilla/5.0 (Linux; Android 4.4.2; RCT6203W46 Build/KOT49H) AppleWebKit/537.36 (KHTML, like Gecko) Chrome/45.0.2454.84 Safari/537.36 (logger.py:96)\n",
      "2023-03-13 21:18:59 [   DEBUG] Starting new HTTPS connection (1): www.bioconductor.org:443 (connectionpool.py:1003)\n",
      "2023-03-13 21:18:59 [   DEBUG] https://www.bioconductor.org:443 \"GET /packages/release/bioc/html/DeepBlueR.html HTTP/1.1\" 200 5671 (connectionpool.py:456)\n",
      "2023-03-13 21:18:59 [   DEBUG] Response status code: 200 (logger.py:96)\n",
      "2023-03-13 21:18:59 [   DEBUG] Package DeepBlueR scraped successfully (logger.py:96)\n"
     ]
    },
    {
     "data": {
      "text/plain": [
       "{'name': 'DeepBlueR',\n",
       " 'version': '1.24.1',\n",
       " 'dependencies': [{'name': 'R', 'version': '>= 3.3'},\n",
       "  {'name': 'XML', 'version': ''},\n",
       "  {'name': 'RCurl', 'version': ''},\n",
       "  {'name': 'GenomicRanges', 'version': ''},\n",
       "  {'name': 'data.table', 'version': ''},\n",
       "  {'name': 'stringr', 'version': ''},\n",
       "  {'name': 'diffr', 'version': ''},\n",
       "  {'name': 'dplyr', 'version': ''},\n",
       "  {'name': 'methods', 'version': ''},\n",
       "  {'name': 'rjson', 'version': ''},\n",
       "  {'name': 'utils', 'version': ''},\n",
       "  {'name': 'R.utils', 'version': ''},\n",
       "  {'name': 'foreach', 'version': ''},\n",
       "  {'name': 'withr', 'version': ''},\n",
       "  {'name': 'rtracklayer', 'version': ''},\n",
       "  {'name': 'GenomeInfoDb', 'version': ''},\n",
       "  {'name': 'settings', 'version': ''},\n",
       "  {'name': 'filehash', 'version': ''}],\n",
       " 'url': 'https://www.bioconductor.org/packages/release/bioc/html/DeepBlueR.html'}"
      ]
     },
     "execution_count": 7,
     "metadata": {},
     "output_type": "execute_result"
    }
   ],
   "source": [
    "deepbluer = data_source.obtain_package_data(\"DeepBlueR\")\n",
    "deepbluer"
   ]
  },
  {
   "attachments": {},
   "cell_type": "markdown",
   "metadata": {},
   "source": [
    "Be careful with the sensitivity to **caps**, if the package has not been found, an **ScraperError** exception is raised"
   ]
  },
  {
   "cell_type": "code",
   "execution_count": 8,
   "metadata": {},
   "outputs": [
    {
     "name": "stderr",
     "output_type": "stream",
     "text": [
      "2023-03-13 21:19:05 [   DEBUG] Scraping package deepbluer (logger.py:96)\n",
      "2023-03-13 21:19:05 [   DEBUG] Getting next proxy (logger.py:96)\n",
      "2023-03-13 21:19:05 [   DEBUG] Proxy list rotated, using 185.162.230.201:80, next will be 150.220.8.228:64312 (logger.py:96)\n",
      "2023-03-13 21:19:05 [   DEBUG] Using proxy: {'http': 'http://185.162.230.201:80'} (logger.py:96)\n",
      "2023-03-13 21:19:05 [   DEBUG] Getting next useragent (logger.py:96)\n",
      "2023-03-13 21:19:05 [   DEBUG] Using user agent: Mozilla/5.0 (Windows NT 6.1; WOW64) AppleWebKit/537.36 (KHTML, like Gecko) Chrome/38.0.2125.101 Safari/537.36 (logger.py:96)\n",
      "2023-03-13 21:19:05 [   DEBUG] Starting new HTTPS connection (1): www.bioconductor.org:443 (connectionpool.py:1003)\n",
      "2023-03-13 21:19:06 [   DEBUG] https://www.bioconductor.org:443 \"GET /packages/release/bioc/html/deepbluer.html HTTP/1.1\" 404 6873 (connectionpool.py:456)\n",
      "2023-03-13 21:19:06 [   DEBUG] Response status code: 404 (logger.py:96)\n",
      "2023-03-13 21:19:06 [   DEBUG] ScraperError: Package deepbluer not found\n",
      "super (logger.py:96)\n"
     ]
    },
    {
     "name": "stdout",
     "output_type": "stream",
     "text": [
      "ScraperError: Package deepbluer not found\n",
      "super\n"
     ]
    }
   ],
   "source": [
    "try:\n",
    "    deepbluer2 = data_source.obtain_package_data(\"deepbluer\")\n",
    "except Exception as e:\n",
    "    print(e)"
   ]
  },
  {
   "cell_type": "code",
   "execution_count": 9,
   "metadata": {},
   "outputs": [
    {
     "data": {
      "text/plain": [
       "[{'name': 'ABSSeq',\n",
       "  'version': '1.52.0',\n",
       "  'dependencies': [{'name': 'R', 'version': '>= 2.10'},\n",
       "   {'name': 'methods', 'version': ''},\n",
       "   {'name': 'locfit', 'version': ''},\n",
       "   {'name': 'limma', 'version': ''}],\n",
       "  'url': 'https://www.bioconductor.org/packages/release/bioc/html/ABSSeq.html'},\n",
       " {'name': 'ABarray',\n",
       "  'version': '1.66.0',\n",
       "  'dependencies': [{'name': 'Biobase', 'version': ''},\n",
       "   {'name': 'graphics', 'version': ''},\n",
       "   {'name': 'grDevices', 'version': ''},\n",
       "   {'name': 'methods', 'version': ''},\n",
       "   {'name': 'multtest', 'version': ''},\n",
       "   {'name': 'stats', 'version': ''},\n",
       "   {'name': 'tcltk', 'version': ''},\n",
       "   {'name': 'utils', 'version': ''}],\n",
       "  'url': 'https://www.bioconductor.org/packages/release/bioc/html/ABarray.html'},\n",
       " {'name': 'ACE',\n",
       "  'version': '1.16.0',\n",
       "  'dependencies': [{'name': 'R', 'version': '>= 3.4'},\n",
       "   {'name': 'Biobase', 'version': ''},\n",
       "   {'name': 'QDNAseq', 'version': ''},\n",
       "   {'name': 'ggplot2', 'version': ''},\n",
       "   {'name': 'grid', 'version': ''},\n",
       "   {'name': 'stats', 'version': ''},\n",
       "   {'name': 'utils', 'version': ''},\n",
       "   {'name': 'methods', 'version': ''},\n",
       "   {'name': 'grDevices', 'version': ''},\n",
       "   {'name': 'GenomicRanges', 'version': ''}],\n",
       "  'url': 'https://www.bioconductor.org/packages/release/bioc/html/ACE.html'}]"
      ]
     },
     "execution_count": 9,
     "metadata": {},
     "output_type": "execute_result"
    }
   ],
   "source": [
    "UtilLogger.disable_logger()\n",
    "pkgs_data = data_source.obtain_packages_data(package_list[:3])\n",
    "pkgs_data"
   ]
  },
  {
   "cell_type": "code",
   "execution_count": 10,
   "metadata": {},
   "outputs": [
    {
     "name": "stdout",
     "output_type": "stream",
     "text": [
      "Package: ABSSeq (1.52.0)\n",
      "-   Dependency: R >= 2.10\n",
      "-   Dependency: methods \n",
      "-   Dependency: locfit \n",
      "-   Dependency: limma \n",
      "Package: ABarray (1.66.0)\n",
      "-   Dependency: Biobase \n",
      "-   Dependency: graphics \n",
      "-   Dependency: grDevices \n",
      "-   Dependency: methods \n",
      "-   Dependency: multtest \n",
      "-   Dependency: stats \n",
      "-   Dependency: tcltk \n",
      "-   Dependency: utils \n",
      "Package: ACE (1.16.0)\n",
      "-   Dependency: R >= 3.4\n",
      "-   Dependency: Biobase \n",
      "-   Dependency: QDNAseq \n",
      "-   Dependency: ggplot2 \n",
      "-   Dependency: grid \n",
      "-   Dependency: stats \n",
      "-   Dependency: utils \n",
      "-   Dependency: methods \n",
      "-   Dependency: grDevices \n",
      "-   Dependency: GenomicRanges \n"
     ]
    }
   ],
   "source": [
    "for p in pkgs_data:\n",
    "    print(f'Package: {p[\"name\"]} ({p[\"version\"]})')\n",
    "\n",
    "    for d in p[\"dependencies\"]:\n",
    "        print(f'-   Dependency: {d[\"name\"]} {d[\"version\"]}')"
   ]
  },
  {
   "attachments": {},
   "cell_type": "markdown",
   "metadata": {},
   "source": [
    "### Data obtaining from CSV files"
   ]
  },
  {
   "cell_type": "code",
   "execution_count": 1,
   "metadata": {},
   "outputs": [],
   "source": [
    "from olivia_finder.csv_network import CSVNetwork"
   ]
  },
  {
   "cell_type": "code",
   "execution_count": 2,
   "metadata": {},
   "outputs": [],
   "source": [
    "# Load the network\n",
    "csv_data_source = CSVNetwork(\"Bioconductor\", \"Bioconductor as a CSV file\")\n",
    "csv_data_source.load_data(\n",
    "    file_path=\"results/csv_datasets/bioconductor_adjlist_scraping.csv\", \n",
    "    dependent_field=\"name\", dependency_field=\"dependency\"\n",
    ")"
   ]
  },
  {
   "cell_type": "code",
   "execution_count": 3,
   "metadata": {},
   "outputs": [
    {
     "data": {
      "text/plain": [
       "['ABSSeq',\n",
       " 'ABarray',\n",
       " 'ACE',\n",
       " 'ACME',\n",
       " 'ADAM',\n",
       " 'ADAMgui',\n",
       " 'ADImpute',\n",
       " 'ADaCGH2',\n",
       " 'AGDEX',\n",
       " 'AIMS']"
      ]
     },
     "execution_count": 3,
     "metadata": {},
     "output_type": "execute_result"
    }
   ],
   "source": [
    "package_list = csv_data_source.obtain_package_names()\n",
    "package_list[:10]"
   ]
  },
  {
   "cell_type": "code",
   "execution_count": 4,
   "metadata": {},
   "outputs": [
    {
     "data": {
      "text/plain": [
       "{'name': 'DeepBlueR',\n",
       " 'version': '1.24.1',\n",
       " 'url': 'https://www.bioconductor.org/packages/release/bioc/html/DeepBlueR.html',\n",
       " 'dependencies': [{'name': 'R', 'version': '>= 3.3'},\n",
       "  {'name': 'XML', 'version': nan},\n",
       "  {'name': 'RCurl', 'version': nan},\n",
       "  {'name': 'GenomicRanges', 'version': nan},\n",
       "  {'name': 'data.table', 'version': nan},\n",
       "  {'name': 'stringr', 'version': nan},\n",
       "  {'name': 'diffr', 'version': nan},\n",
       "  {'name': 'dplyr', 'version': nan},\n",
       "  {'name': 'methods', 'version': nan},\n",
       "  {'name': 'rjson', 'version': nan},\n",
       "  {'name': 'utils', 'version': nan},\n",
       "  {'name': 'R.utils', 'version': nan},\n",
       "  {'name': 'foreach', 'version': nan},\n",
       "  {'name': 'withr', 'version': nan},\n",
       "  {'name': 'rtracklayer', 'version': nan},\n",
       "  {'name': 'GenomeInfoDb', 'version': nan},\n",
       "  {'name': 'settings', 'version': nan},\n",
       "  {'name': 'filehash', 'version': nan}]}"
      ]
     },
     "execution_count": 4,
     "metadata": {},
     "output_type": "execute_result"
    }
   ],
   "source": [
    "deepbluer = csv_data_source.obtain_package_data(\"DeepBlueR\")\n",
    "deepbluer"
   ]
  },
  {
   "cell_type": "code",
   "execution_count": 5,
   "metadata": {},
   "outputs": [
    {
     "name": "stderr",
     "output_type": "stream",
     "text": [
      "100%|██████████| 3/3 [00:00<00:00, 604.89it/s]\n"
     ]
    },
    {
     "data": {
      "text/plain": [
       "[{'name': 'ABSSeq',\n",
       "  'version': '1.52.0',\n",
       "  'url': 'https://www.bioconductor.org/packages/release/bioc/html/ABSSeq.html',\n",
       "  'dependencies': [{'name': 'R', 'version': '>= 2.10'},\n",
       "   {'name': 'methods', 'version': nan},\n",
       "   {'name': 'locfit', 'version': nan},\n",
       "   {'name': 'limma', 'version': nan}]},\n",
       " {'name': 'ABarray',\n",
       "  'version': '1.66.0',\n",
       "  'url': 'https://www.bioconductor.org/packages/release/bioc/html/ABarray.html',\n",
       "  'dependencies': [{'name': 'Biobase', 'version': nan},\n",
       "   {'name': 'graphics', 'version': nan},\n",
       "   {'name': 'grDevices', 'version': nan},\n",
       "   {'name': 'methods', 'version': nan},\n",
       "   {'name': 'multtest', 'version': nan},\n",
       "   {'name': 'stats', 'version': nan},\n",
       "   {'name': 'tcltk', 'version': nan},\n",
       "   {'name': 'utils', 'version': nan}]},\n",
       " {'name': 'ACE',\n",
       "  'version': '1.16.0',\n",
       "  'url': 'https://www.bioconductor.org/packages/release/bioc/html/ACE.html',\n",
       "  'dependencies': [{'name': 'R', 'version': '>= 3.4'},\n",
       "   {'name': 'Biobase', 'version': nan},\n",
       "   {'name': 'QDNAseq', 'version': nan},\n",
       "   {'name': 'ggplot2', 'version': nan},\n",
       "   {'name': 'grid', 'version': nan},\n",
       "   {'name': 'stats', 'version': nan},\n",
       "   {'name': 'utils', 'version': nan},\n",
       "   {'name': 'methods', 'version': nan},\n",
       "   {'name': 'grDevices', 'version': nan},\n",
       "   {'name': 'GenomicRanges', 'version': nan}]}]"
      ]
     },
     "execution_count": 5,
     "metadata": {},
     "output_type": "execute_result"
    }
   ],
   "source": [
    "packages = csv_data_source.obtain_packages_data(package_list[:3])\n",
    "packages"
   ]
  },
  {
   "attachments": {},
   "cell_type": "markdown",
   "metadata": {},
   "source": [
    "## Initialization of a package manager"
   ]
  },
  {
   "cell_type": "code",
   "execution_count": 1,
   "metadata": {},
   "outputs": [],
   "source": [
    "from olivia_finder.package_manager import PackageManager\n",
    "from olivia_finder.util.logger import UtilLogger"
   ]
  },
  {
   "attachments": {},
   "cell_type": "markdown",
   "metadata": {},
   "source": [
    "### Web scraping implementation"
   ]
  },
  {
   "cell_type": "code",
   "execution_count": 2,
   "metadata": {},
   "outputs": [
    {
     "name": "stderr",
     "output_type": "stream",
     "text": [
      "2023-03-13 22:10:35 [   DEBUG] Added SSLProxies to proxy builders (logger.py:96)\n",
      "2023-03-13 22:10:35 [   DEBUG] Added FreeProxyList to proxy builders (logger.py:96)\n",
      "2023-03-13 22:10:35 [   DEBUG] Added GeonodeProxy to proxy builders (logger.py:96)\n",
      "2023-03-13 22:10:35 [   DEBUG] Starting new HTTPS connection (1): www.sslproxies.org:443 (connectionpool.py:1003)\n",
      "2023-03-13 22:10:35 [   DEBUG] https://www.sslproxies.org:443 \"GET / HTTP/1.1\" 200 None (connectionpool.py:456)\n",
      "2023-03-13 22:10:35 [   DEBUG] Found 100 proxies from SSLProxies (logger.py:96)\n",
      "2023-03-13 22:10:35 [   DEBUG] Starting new HTTPS connection (1): free-proxy-list.net:443 (connectionpool.py:1003)\n",
      "2023-03-13 22:10:35 [   DEBUG] https://free-proxy-list.net:443 \"GET /anonymous-proxy.html HTTP/1.1\" 200 None (connectionpool.py:456)\n",
      "2023-03-13 22:10:36 [   DEBUG] Found 100 proxies from FreeProxyList (logger.py:96)\n",
      "2023-03-13 22:10:36 [   DEBUG] Starting new HTTPS connection (1): proxylist.geonode.com:443 (connectionpool.py:1003)\n",
      "2023-03-13 22:10:43 [   DEBUG] https://proxylist.geonode.com:443 \"GET /api/proxy-list?limit=500&page=1&sort_by=lastChecked&sort_type=desc HTTP/1.1\" 200 None (connectionpool.py:456)\n",
      "2023-03-13 22:10:43 [   DEBUG] Found 500 proxies from GeonodeProxy (logger.py:96)\n",
      "2023-03-13 22:10:43 [   DEBUG] Proxies len: 687 (logger.py:96)\n",
      "2023-03-13 22:10:43 [   DEBUG] Proxy Handler initialized with 687 proxies (logger.py:96)\n",
      "2023-03-13 22:10:43 [   DEBUG] Buidlers: [<olivia_finder.requests.proxy_builder.SSLProxies object at 0x7fa2592b74d0>, <olivia_finder.requests.proxy_builder.FreeProxyList object at 0x7fa259533ad0>, <olivia_finder.requests.proxy_builder.GeonodeProxy object at 0x7fa2e13bf510>] (logger.py:96)\n",
      "2023-03-13 22:10:43 [   DEBUG] Useragents loaded from file: data/useragents.txt (logger.py:96)\n"
     ]
    }
   ],
   "source": [
    "from olivia_finder.scraping.pypi import PypiScraper\n",
    "\n",
    "UtilLogger.enable_logger()\n",
    "pypi = PackageManager(PypiScraper())"
   ]
  },
  {
   "cell_type": "code",
   "execution_count": 3,
   "metadata": {},
   "outputs": [
    {
     "name": "stderr",
     "output_type": "stream",
     "text": [
      "2023-03-13 22:10:43 [   DEBUG] Scraping package networkx (logger.py:96)\n",
      "2023-03-13 22:10:43 [   DEBUG] Getting next proxy (logger.py:96)\n",
      "2023-03-13 22:10:43 [   DEBUG] Proxy list rotated, using 34.87.103.220:80, next will be 95.107.183.18:5678 (logger.py:96)\n",
      "2023-03-13 22:10:43 [   DEBUG] Using proxy: {'http': 'http://34.87.103.220:80'} (logger.py:96)\n",
      "2023-03-13 22:10:43 [   DEBUG] Getting next useragent (logger.py:96)\n",
      "2023-03-13 22:10:43 [   DEBUG] Using user agent: Mozilla/5.0 (iPad; CPU OS 8_1_3 like Mac OS X) AppleWebKit/600.1.4 (KHTML, like Gecko) Version/8.0 Mobile/12B466 Safari/600.1.4 (logger.py:96)\n",
      "2023-03-13 22:10:43 [   DEBUG] Starting new HTTPS connection (1): pypi.org:443 (connectionpool.py:1003)\n",
      "2023-03-13 22:10:43 [   DEBUG] https://pypi.org:443 \"GET /pypi/networkx/json HTTP/1.1\" 200 35312 (connectionpool.py:456)\n",
      "2023-03-13 22:10:43 [   DEBUG] Response status code: 200 (logger.py:96)\n",
      "2023-03-13 22:10:43 [   DEBUG] Package networkx scraped successfully (logger.py:96)\n"
     ]
    },
    {
     "name": "stdout",
     "output_type": "stream",
     "text": [
      "Package:\n",
      "  name: networkx\n",
      "  version: 3.0\n",
      "  url: https://pypi.org/project/networkx/\n",
      "  dependencies:\n",
      "    numpy:(>=1.20)\n",
      "    scipy:(>=1.8)\n",
      "    matplotlib:(>=3.4)\n",
      "    pandas:(>=1.3)\n",
      "    pre-commit:(>=2.20)\n",
      "    mypy:(>=0.991)\n",
      "    sphinx:(==5.2.3)\n",
      "    pydata-sphinx-theme:(>=0.11)\n",
      "    sphinx-gallery:(>=0.11)\n",
      "    numpydoc:(>=1.5)\n",
      "    pillow:(>=9.2)\n",
      "    nb2plots:(>=0.6)\n",
      "    texext:(>=0.6.7)\n",
      "    lxml:(>=4.6)\n",
      "    pygraphviz:(>=1.10)\n",
      "    pydot:(>=1.4.2)\n",
      "    sympy:(>=1.10)\n",
      "    pytest:(>=7.2)\n",
      "    pytest-cov:(>=4.0)\n",
      "    codecov:(>=2.1)\n"
     ]
    }
   ],
   "source": [
    "networkx = pypi.obtain_package(\"networkx\")\n",
    "networkx.print()"
   ]
  },
  {
   "cell_type": "code",
   "execution_count": 4,
   "metadata": {},
   "outputs": [
    {
     "data": {
      "text/plain": [
       "[<olivia_finder.package.Package at 0x7fa258d63610>,\n",
       " <olivia_finder.package.Package at 0x7fa258d63510>,\n",
       " <olivia_finder.package.Package at 0x7fa258d63450>]"
      ]
     },
     "execution_count": 4,
     "metadata": {},
     "output_type": "execute_result"
    }
   ],
   "source": [
    "UtilLogger.disable_logger()\n",
    "packages = pypi.obtain_packages([\"networkx\", \"numpy\", \"pandas\"])\n",
    "packages"
   ]
  },
  {
   "cell_type": "code",
   "execution_count": 5,
   "metadata": {},
   "outputs": [
    {
     "name": "stdout",
     "output_type": "stream",
     "text": [
      "Package:\n",
      "  name: pandas\n",
      "  version: 1.5.3\n",
      "  url: https://pypi.org/project/pandas/\n",
      "  dependencies:\n",
      "    python-dateutil:(>=2.8.1)\n",
      "    pytz:(>=2020.1)\n",
      "    numpy:(>=1.23.2)\n",
      "    hypothesis:(>=5.5.3)\n",
      "    pytest:(>=6.0)\n",
      "    pytest-xdist:(>=1.31)\n"
     ]
    }
   ],
   "source": [
    "packages[2].print()"
   ]
  },
  {
   "attachments": {},
   "cell_type": "markdown",
   "metadata": {},
   "source": [
    "Getting all the packages from a package manager can take a while, so it is recommended to save the data to a CSV file for later use.\n",
    "\n",
    "We can see that the execution time for half a million packages (Pypi) is around 7 hours.\n",
    "In the case of Bioconductor, to obtain the 2000 packages it contains, the execution time is around 4 minutes."
   ]
  },
  {
   "cell_type": "code",
   "execution_count": 7,
   "metadata": {},
   "outputs": [
    {
     "name": "stderr",
     "output_type": "stream",
     "text": [
      " 15%|█▌        | 66423/438514 [1:14:50<6:40:39, 15.48it/s] "
     ]
    }
   ],
   "source": [
    "pypi_packages = pypi.obtain_packages(extend=True, show_progress=True)"
   ]
  },
  {
   "cell_type": "code",
   "execution_count": null,
   "metadata": {},
   "outputs": [
    {
     "name": "stderr",
     "output_type": "stream",
     "text": [
      "100%|██████████| 2183/2183 [03:47<00:00,  9.59it/s]\n"
     ]
    }
   ],
   "source": [
    "bioconductor = PackageManager(BiocScraper())\n",
    "bioconductor_packages = bioconductor.obtain_packages(extend=True, show_progress=True)"
   ]
  },
  {
   "cell_type": "code",
   "execution_count": null,
   "metadata": {},
   "outputs": [],
   "source": [
    "import pickle\n",
    "# Save the bioconductor package manager as a pickle file\n",
    "with open(\"./results/package_managers/bioconductor_pm_scraping.pkl\", \"wb\") as f:\n",
    "    pickle.dump(bioconductor_packages, f)"
   ]
  },
  {
   "cell_type": "code",
   "execution_count": null,
   "metadata": {},
   "outputs": [],
   "source": [
    "# Store the package manager as a adjacency list\n",
    "b_df = bioconductor.export_full_adjlist()\n",
    "\n",
    "# Store the package manager as a adjacency list\n",
    "b_df.to_csv(\"./results/csv_datasets/bioconductor_adjlist_scraping.csv\", index=False)\n"
   ]
  },
  {
   "cell_type": "code",
   "execution_count": null,
   "metadata": {},
   "outputs": [
    {
     "name": "stdout",
     "output_type": "stream",
     "text": [
      "Package:\n",
      "  name: singleCellTK\n",
      "  version: 2.8.0\n",
      "  url: https://www.bioconductor.org/packages/release/bioc/html/singleCellTK.html\n",
      "  dependencies:\n",
      "    R:>= 4.0\n",
      "    SummarizedExperiment:\n",
      "    SingleCellExperiment:\n",
      "    DelayedArray:\n",
      "    Biobase:\n",
      "    ape:\n",
      "    AnnotationHub:\n",
      "    batchelor:\n",
      "    BiocParallel:\n",
      "    celldex:\n",
      "    colourpicker:\n",
      "    colorspace:\n",
      "    cowplot:\n",
      "    cluster:\n",
      "    ComplexHeatmap:\n",
      "    data.table:\n",
      "    DelayedMatrixStats:\n",
      "    DESeq2:\n",
      "    dplyr:\n",
      "    DT:\n",
      "    ExperimentHub:\n",
      "    ensembldb:\n",
      "    fields:\n",
      "    ggplot2:\n",
      "    ggplotify:\n",
      "    ggrepel:\n",
      "    ggtree:\n",
      "    gridExtra:\n",
      "    GSVA:\n",
      "    GSVAdata:\n",
      "    igraph:\n",
      "    KernSmooth:\n",
      "    limma:\n",
      "    MAST:\n",
      "    Matrix:\n",
      "    matrixStats:\n",
      "    methods:\n",
      "    msigdbr:\n",
      "    multtest:\n",
      "    plotly:\n",
      "    plyr:\n",
      "    ROCR:\n",
      "    Rtsne:\n",
      "    S4Vectors:\n",
      "    scater:\n",
      "    scMerge:\n",
      "    scran:\n",
      "    Seurat:>= 3.1.3\n",
      "    shiny:\n",
      "    shinyjs:\n",
      "    SingleR:\n",
      "    SoupX:\n",
      "    sva:\n",
      "    reshape2:\n",
      "    shinyalert:\n",
      "    circlize:\n",
      "    enrichR:\n",
      "    celda:\n",
      "    shinycssloaders:\n",
      "    DropletUtils:\n",
      "    scds:\n",
      "    reticulate:>= 1.14\n",
      "    tools:\n",
      "    tximport:\n",
      "    fishpond:\n",
      "    withr:\n",
      "    GSEABase:\n",
      "    R.utils:\n",
      "    zinbwave:\n",
      "    scRNAseq:\n",
      "    TENxPBMCData:\n",
      "    yaml:\n",
      "    rmarkdown:\n",
      "    magrittr:\n",
      "    scDblFinder:\n",
      "    metap:\n",
      "    VAM:>= 0.5.3\n",
      "    tibble:\n",
      "    rlang:\n",
      "    TSCAN:\n",
      "    TrajectoryUtils:\n",
      "    scuttle:\n",
      "    utils:\n",
      "    stats:\n",
      "Number of dependencies: 84\n"
     ]
    }
   ],
   "source": [
    "# Get the package with the most dependencies\n",
    "max_deps = max(bioconductor_packages, key=lambda p: len(p.dependencies))\n",
    "max_deps.print()\n",
    "print(f'Number of dependencies: {len(max_deps.dependencies)}')"
   ]
  }
 ],
 "metadata": {
  "kernelspec": {
   "display_name": "gt",
   "language": "python",
   "name": "python3"
  },
  "language_info": {
   "codemirror_mode": {
    "name": "ipython",
    "version": 3
   },
   "file_extension": ".py",
   "mimetype": "text/x-python",
   "name": "python",
   "nbconvert_exporter": "python",
   "pygments_lexer": "ipython3",
   "version": "3.11.0"
  },
  "orig_nbformat": 4
 },
 "nbformat": 4,
 "nbformat_minor": 2
}
