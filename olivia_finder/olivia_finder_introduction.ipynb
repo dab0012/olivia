{
 "cells": [
  {
   "attachments": {},
   "cell_type": "markdown",
   "metadata": {},
   "source": [
    "We make sure to have the necessary units installed"
   ]
  },
  {
   "cell_type": "code",
   "execution_count": null,
   "metadata": {},
   "outputs": [],
   "source": [
    "%pip install -r requirements.txt"
   ]
  },
  {
   "attachments": {},
   "cell_type": "markdown",
   "metadata": {},
   "source": [
    "## Initialization of a data source"
   ]
  },
  {
   "attachments": {},
   "cell_type": "markdown",
   "metadata": {},
   "source": [
    "In this example we will instantize the desired implementation of data source class\n",
    "\n",
    "Different implementations are available to perform this task, based on obtaining the web pages of the respective package managers and also from CSV text files"
   ]
  },
  {
   "attachments": {},
   "cell_type": "markdown",
   "metadata": {},
   "source": [
    "### Data obtaining via web scarping"
   ]
  },
  {
   "attachments": {},
   "cell_type": "markdown",
   "metadata": {},
   "source": [
    "In the first place we import the implementation of the data source we want, for this example we will use the Bioconductor Scraper"
   ]
  },
  {
   "cell_type": "code",
   "execution_count": 1,
   "metadata": {},
   "outputs": [],
   "source": [
    "from olivia_finder.scraping.bioconductor import BiocScraper"
   ]
  },
  {
   "cell_type": "code",
   "execution_count": 2,
   "metadata": {},
   "outputs": [],
   "source": [
    "data_source = BiocScraper()"
   ]
  },
  {
   "attachments": {},
   "cell_type": "markdown",
   "metadata": {},
   "source": [
    "Show relevant information about the data source"
   ]
  },
  {
   "cell_type": "code",
   "execution_count": 3,
   "metadata": {},
   "outputs": [
    {
     "name": "stdout",
     "output_type": "stream",
     "text": [
      "Name: Bioconductor\n",
      "Description: Scraper class implementation for the Bioconductor package network\n"
     ]
    }
   ],
   "source": [
    "print(data_source.get_info())"
   ]
  },
  {
   "attachments": {},
   "cell_type": "markdown",
   "metadata": {},
   "source": [
    "Get a list with the name of the packages obtained from this source"
   ]
  },
  {
   "cell_type": "code",
   "execution_count": 7,
   "metadata": {},
   "outputs": [
    {
     "data": {
      "text/plain": [
       "['BiocGenerics',\n",
       " 'S4Vectors',\n",
       " 'BiocVersion',\n",
       " 'GenomeInfoDb',\n",
       " 'IRanges',\n",
       " 'Biobase',\n",
       " 'zlibbioc',\n",
       " 'XVector',\n",
       " 'Biostrings',\n",
       " 'BiocParallel']"
      ]
     },
     "execution_count": 7,
     "metadata": {},
     "output_type": "execute_result"
    }
   ],
   "source": [
    "package_list = data_source.obtain_package_names()\n",
    "package_list[:10]"
   ]
  },
  {
   "attachments": {},
   "cell_type": "markdown",
   "metadata": {},
   "source": [
    "We can obtain the data from a specific package, for example the **`DeepBlueR`** package"
   ]
  },
  {
   "cell_type": "code",
   "execution_count": 3,
   "metadata": {},
   "outputs": [],
   "source": [
    "from olivia_finder.util.logger import UtilLogger\n",
    "UtilLogger.init_logger()\n",
    "UtilLogger.enable_logger()"
   ]
  },
  {
   "cell_type": "code",
   "execution_count": 4,
   "metadata": {},
   "outputs": [
    {
     "name": "stderr",
     "output_type": "stream",
     "text": [
      "2023-03-11 20:03:47 [   DEBUG] Scraping package DeepBlueR (logger.py:81)\n",
      "2023-03-11 20:03:47 [   DEBUG] Getting next proxy (logger.py:81)\n",
      "2023-03-11 20:03:47 [   DEBUG] Proxy list rotated, new: 139.162.151.176:9050 (logger.py:81)\n",
      "2023-03-11 20:03:47 [   DEBUG] Using proxy: {'http': 'http://213.32.75.88:9300'} (logger.py:81)\n",
      "2023-03-11 20:03:47 [   DEBUG] Getting next useragent (logger.py:81)\n",
      "2023-03-11 20:03:47 [   DEBUG] Using user agent: Mozilla/5.0 (Windows NT 6.1) AppleWebKit/537.36 (KHTML, like Gecko) Chrome/35.0.1916.153 Safari/537.36 (logger.py:81)\n",
      "2023-03-11 20:03:47 [   DEBUG] Starting new HTTPS connection (1): www.bioconductor.org:443 (connectionpool.py:1003)\n",
      "2023-03-11 20:03:47 [   DEBUG] https://www.bioconductor.org:443 \"GET /packages/release/bioc/html/DeepBlueR.html HTTP/1.1\" 200 5671 (connectionpool.py:456)\n",
      "2023-03-11 20:03:47 [   DEBUG] Response status code: 200 (logger.py:81)\n"
     ]
    },
    {
     "data": {
      "text/plain": [
       "{'name': 'DeepBlueR',\n",
       " 'version': '1.24.1',\n",
       " 'url': 'https://www.bioconductor.org/packages/release/bioc/html/DeepBlueR.html',\n",
       " 'dependencies': [{'name': 'R', 'version': '>= 3.3'},\n",
       "  {'name': 'XML', 'version': ''},\n",
       "  {'name': 'RCurl', 'version': ''},\n",
       "  {'name': 'GenomicRanges', 'version': ''},\n",
       "  {'name': 'data.table', 'version': ''},\n",
       "  {'name': 'stringr', 'version': ''},\n",
       "  {'name': 'diffr', 'version': ''},\n",
       "  {'name': 'dplyr', 'version': ''},\n",
       "  {'name': 'methods', 'version': ''},\n",
       "  {'name': 'rjson', 'version': ''},\n",
       "  {'name': 'utils', 'version': ''},\n",
       "  {'name': 'R.utils', 'version': ''},\n",
       "  {'name': 'foreach', 'version': ''},\n",
       "  {'name': 'withr', 'version': ''},\n",
       "  {'name': 'rtracklayer', 'version': ''},\n",
       "  {'name': 'GenomeInfoDb', 'version': ''},\n",
       "  {'name': 'settings', 'version': ''},\n",
       "  {'name': 'filehash', 'version': ''}]}"
      ]
     },
     "execution_count": 4,
     "metadata": {},
     "output_type": "execute_result"
    }
   ],
   "source": [
    "deepbluer = data_source.obtain_package_data(\"DeepBlueR\")\n",
    "deepbluer"
   ]
  },
  {
   "attachments": {},
   "cell_type": "markdown",
   "metadata": {},
   "source": [
    "Be careful with the sensitivity to **caps**, if the package has not been found, an ***NotFoundException*** is returned"
   ]
  },
  {
   "cell_type": "code",
   "execution_count": 5,
   "metadata": {},
   "outputs": [
    {
     "name": "stderr",
     "output_type": "stream",
     "text": [
      "2023-03-11 20:04:00 [   DEBUG] Scraping package deepbluer (logger.py:81)\n",
      "2023-03-11 20:04:00 [   DEBUG] Getting next proxy (logger.py:81)\n",
      "2023-03-11 20:04:00 [   DEBUG] Proxy list rotated, new: 104.17.66.69:80 (logger.py:81)\n",
      "2023-03-11 20:04:00 [   DEBUG] Using proxy: {'http': 'http://139.162.151.176:9050'} (logger.py:81)\n",
      "2023-03-11 20:04:00 [   DEBUG] Getting next useragent (logger.py:81)\n",
      "2023-03-11 20:04:00 [   DEBUG] Using user agent: Mozilla/5.0 (Windows NT 6.0; rv:38.0) Gecko/20100101 Firefox/38.0 (logger.py:81)\n",
      "2023-03-11 20:04:00 [   DEBUG] Starting new HTTPS connection (1): www.bioconductor.org:443 (connectionpool.py:1003)\n",
      "2023-03-11 20:04:01 [   DEBUG] https://www.bioconductor.org:443 \"GET /packages/release/bioc/html/deepbluer.html HTTP/1.1\" 404 6873 (connectionpool.py:456)\n",
      "2023-03-11 20:04:01 [   DEBUG] Response status code: 404 (logger.py:81)\n",
      "2023-03-11 20:04:01 [   DEBUG] Package deepbluer not found (logger.py:81)\n",
      "2023-03-11 20:04:01 [   DEBUG] ScraperError: Package deepbluer not found (logger.py:81)\n"
     ]
    },
    {
     "name": "stdout",
     "output_type": "stream",
     "text": [
      "Package deepbluer not found\n"
     ]
    }
   ],
   "source": [
    "from olivia_finder.scraping.scraper import ScraperError\n",
    "\n",
    "try:\n",
    "    deepbluer2 = data_source.obtain_package_data(\"deepbluer\")\n",
    "except ScraperError as e:\n",
    "    print(e)"
   ]
  },
  {
   "cell_type": "code",
   "execution_count": 8,
   "metadata": {},
   "outputs": [
    {
     "data": {
      "text/plain": [
       "[{'name': 'BiocGenerics',\n",
       "  'version': '0.44.0',\n",
       "  'dependencies': [{'name': 'R', 'version': '>= 4.0.0'},\n",
       "   {'name': 'methods', 'version': ''},\n",
       "   {'name': 'utils', 'version': ''},\n",
       "   {'name': 'graphics', 'version': ''},\n",
       "   {'name': 'stats', 'version': ''},\n",
       "   {'name': 'methods', 'version': ''},\n",
       "   {'name': 'utils', 'version': ''},\n",
       "   {'name': 'graphics', 'version': ''},\n",
       "   {'name': 'stats', 'version': ''}],\n",
       "  'url': 'https://www.bioconductor.org/packages/release/bioc/html/BiocGenerics.html'},\n",
       " {'name': 'S4Vectors',\n",
       "  'version': '0.36.2',\n",
       "  'dependencies': [{'name': 'R', 'version': '>= 4.0.0'},\n",
       "   {'name': 'methods', 'version': ''},\n",
       "   {'name': 'utils', 'version': ''},\n",
       "   {'name': 'stats', 'version': ''},\n",
       "   {'name': 'stats4', 'version': ''},\n",
       "   {'name': 'BiocGenerics', 'version': ''}],\n",
       "  'url': 'https://www.bioconductor.org/packages/release/bioc/html/S4Vectors.html'},\n",
       " {'name': 'BiocVersion',\n",
       "  'version': '3.16.0',\n",
       "  'dependencies': [{'name': 'R', 'version': '>= 4.2.0'}],\n",
       "  'url': 'https://www.bioconductor.org/packages/release/bioc/html/BiocVersion.html'}]"
      ]
     },
     "execution_count": 8,
     "metadata": {},
     "output_type": "execute_result"
    }
   ],
   "source": [
    "UtilLogger.disable_logger()\n",
    "pkgs_data = data_source.obtain_packages_data(package_list[:3])\n",
    "pkgs_data"
   ]
  },
  {
   "cell_type": "code",
   "execution_count": 9,
   "metadata": {},
   "outputs": [
    {
     "name": "stdout",
     "output_type": "stream",
     "text": [
      "Package: BiocGenerics 0.44.0\n",
      "-   Dependency: R >= 4.0.0\n",
      "-   Dependency: methods \n",
      "-   Dependency: utils \n",
      "-   Dependency: graphics \n",
      "-   Dependency: stats \n",
      "-   Dependency: methods \n",
      "-   Dependency: utils \n",
      "-   Dependency: graphics \n",
      "-   Dependency: stats \n",
      "Package: S4Vectors 0.36.2\n",
      "-   Dependency: R >= 4.0.0\n",
      "-   Dependency: methods \n",
      "-   Dependency: utils \n",
      "-   Dependency: stats \n",
      "-   Dependency: stats4 \n",
      "-   Dependency: BiocGenerics \n",
      "Package: BiocVersion 3.16.0\n",
      "-   Dependency: R >= 4.2.0\n"
     ]
    }
   ],
   "source": [
    "for p in pkgs_data:\n",
    "    print(f'Package: {p[\"name\"]} {p[\"version\"]}')\n",
    "\n",
    "    for d in p[\"dependencies\"]:\n",
    "        print(f'-   Dependency: {d[\"name\"]} {d[\"version\"]}')\n"
   ]
  },
  {
   "attachments": {},
   "cell_type": "markdown",
   "metadata": {},
   "source": [
    "### Data obtaining from CSV files"
   ]
  },
  {
   "cell_type": "code",
   "execution_count": 1,
   "metadata": {},
   "outputs": [
    {
     "ename": "TypeError",
     "evalue": "DataSource.obtain_package_data() missing 1 required positional argument: 'package_name'",
     "output_type": "error",
     "traceback": [
      "\u001b[0;31m---------------------------------------------------------------------------\u001b[0m",
      "\u001b[0;31mTypeError\u001b[0m                                 Traceback (most recent call last)",
      "Cell \u001b[0;32mIn[1], line 1\u001b[0m\n\u001b[0;32m----> 1\u001b[0m \u001b[39mfrom\u001b[39;00m \u001b[39molivia_finder\u001b[39;00m\u001b[39m.\u001b[39;00m\u001b[39mcsv_network\u001b[39;00m \u001b[39mimport\u001b[39;00m CSVNetwork\n",
      "File \u001b[0;32m~/Documentos/REPOS/olivia/olivia_finder/olivia_finder/csv_network.py:17\u001b[0m\n\u001b[1;32m     14\u001b[0m \u001b[39mfrom\u001b[39;00m \u001b[39mtyping_extensions\u001b[39;00m \u001b[39mimport\u001b[39;00m override\n\u001b[1;32m     15\u001b[0m \u001b[39mfrom\u001b[39;00m \u001b[39molivia_finder\u001b[39;00m\u001b[39m.\u001b[39;00m\u001b[39mdata_source\u001b[39;00m \u001b[39mimport\u001b[39;00m DataSource\n\u001b[0;32m---> 17\u001b[0m \u001b[39mclass\u001b[39;49;00m \u001b[39mCSVNetwork\u001b[39;49;00m(DataSource):\n\u001b[1;32m     18\u001b[0m \u001b[39m    \u001b[39;49m\u001b[39m\"\"\"\u001b[39;49;00m\n\u001b[1;32m     19\u001b[0m \u001b[39m    Class that implements the methods for loading a network from a CSV file.\u001b[39;49;00m\n\u001b[1;32m     20\u001b[0m \u001b[39m    Implements the DataSource interface.\u001b[39;49;00m\n\u001b[0;32m   (...)\u001b[0m\n\u001b[1;32m     36\u001b[0m \u001b[39m    >>> package_names = csv_network.obtain_package_names()\u001b[39;49;00m\n\u001b[1;32m     37\u001b[0m \u001b[39m    \"\"\"\u001b[39;49;00m\n\u001b[1;32m     39\u001b[0m     data: pd\u001b[39m.\u001b[39;49mDataFrame\n",
      "File \u001b[0;32m~/Documentos/REPOS/olivia/olivia_finder/olivia_finder/csv_network.py:118\u001b[0m, in \u001b[0;36mCSVNetwork\u001b[0;34m()\u001b[0m\n\u001b[1;32m    115\u001b[0m     package_names \u001b[39m=\u001b[39m \u001b[39mlist\u001b[39m(\u001b[39mself\u001b[39m\u001b[39m.\u001b[39mdata[\u001b[39mself\u001b[39m\u001b[39m.\u001b[39mdependent_field]\u001b[39m.\u001b[39munique())\n\u001b[1;32m    116\u001b[0m     \u001b[39mreturn\u001b[39;00m package_names\u001b[39m.\u001b[39msort()\n\u001b[0;32m--> 118\u001b[0m \u001b[39m@override\u001b[39;49m(DataSource\u001b[39m.\u001b[39;49mobtain_package_data)\n\u001b[1;32m    119\u001b[0m \u001b[39mdef\u001b[39;49;00m \u001b[39mobtain_package_data\u001b[39;49m(\u001b[39mself\u001b[39;49m, package_name: \u001b[39mstr\u001b[39;49m) \u001b[39m-\u001b[39;49m\u001b[39m>\u001b[39;49m Dict:\n\u001b[1;32m    120\u001b[0m \u001b[39m    \u001b[39;49m\u001b[39m\"\"\"\u001b[39;49;00m\n\u001b[1;32m    121\u001b[0m \u001b[39m    Obtains the package from the dataframe\u001b[39;49;00m\n\u001b[1;32m    122\u001b[0m \u001b[39m    \u001b[39;49;00m\n\u001b[0;32m   (...)\u001b[0m\n\u001b[1;32m    131\u001b[0m \u001b[39m        The data of the package in the form of a dictionary\u001b[39;49;00m\n\u001b[1;32m    132\u001b[0m \u001b[39m    \"\"\"\u001b[39;49;00m\n\u001b[1;32m    134\u001b[0m     \u001b[39m# Get the dat rows of the package\u001b[39;49;00m\n",
      "\u001b[0;31mTypeError\u001b[0m: DataSource.obtain_package_data() missing 1 required positional argument: 'package_name'"
     ]
    }
   ],
   "source": [
    "from olivia_finder.csv_network import CSVNetwork"
   ]
  },
  {
   "cell_type": "code",
   "execution_count": 2,
   "metadata": {},
   "outputs": [],
   "source": [
    "# Load the network\n",
    "csv_data_source = CSVNetwork(\"Bioconductor\", \"Bioconductor as a CSV file\")\n",
    "csv_data_source.load_data(\n",
    "    file_path=\"results/csv_datasets/bioconductor_adjlist_scraping.csv\", \n",
    "    dependent_field=\"name\", dependency_field=\"dependency\"\n",
    ")"
   ]
  },
  {
   "cell_type": "code",
   "execution_count": 3,
   "metadata": {},
   "outputs": [
    {
     "data": {
      "text/plain": [
       "['rRDP',\n",
       " 'RcwlPipelines',\n",
       " 'Rcpi',\n",
       " 'ribor',\n",
       " 'ArrayExpressHTS',\n",
       " 'HilbertVis',\n",
       " 'tRNA',\n",
       " 'Doscheda',\n",
       " 'eegc',\n",
       " 'geneplotter']"
      ]
     },
     "execution_count": 3,
     "metadata": {},
     "output_type": "execute_result"
    }
   ],
   "source": [
    "package_list = csv_data_source.obtain_package_names()\n",
    "package_list[:10]"
   ]
  },
  {
   "cell_type": "code",
   "execution_count": 8,
   "metadata": {},
   "outputs": [
    {
     "ename": "TypeError",
     "evalue": "'generator' object is not subscriptable",
     "output_type": "error",
     "traceback": [
      "\u001b[0;31m---------------------------------------------------------------------------\u001b[0m",
      "\u001b[0;31mTypeError\u001b[0m                                 Traceback (most recent call last)",
      "Cell \u001b[0;32mIn[8], line 1\u001b[0m\n\u001b[0;32m----> 1\u001b[0m deepbluer \u001b[39m=\u001b[39m csv_data_source\u001b[39m.\u001b[39;49mobtain_package_data(\u001b[39m\"\u001b[39;49m\u001b[39mDeepBlueR\u001b[39;49m\u001b[39m\"\u001b[39;49m)\n\u001b[1;32m      2\u001b[0m deepbluer\n",
      "File \u001b[0;32m~/Documentos/REPOS/olivia/olivia_finder/olivia_finder/csv_network.py:113\u001b[0m, in \u001b[0;36mCSVNetwork.obtain_package_data\u001b[0;34m(self, package_name)\u001b[0m\n\u001b[1;32m    109\u001b[0m \u001b[39m# Get the dat rows of the package\u001b[39;00m\n\u001b[1;32m    110\u001b[0m package_rows \u001b[39m=\u001b[39m \u001b[39mself\u001b[39m\u001b[39m.\u001b[39mdata[\u001b[39mself\u001b[39m\u001b[39m.\u001b[39mdata[\u001b[39mself\u001b[39m\u001b[39m.\u001b[39mdependent_field] \u001b[39m==\u001b[39m package_name]\n\u001b[1;32m    112\u001b[0m \u001b[39mreturn\u001b[39;00m {\n\u001b[0;32m--> 113\u001b[0m     row[\u001b[39mself\u001b[39m\u001b[39m.\u001b[39mdependency_field]: row[\u001b[39m\"\u001b[39m\u001b[39mversion\u001b[39m\u001b[39m\"\u001b[39m] \u001b[39mfor\u001b[39;00m row \u001b[39min\u001b[39;00m package_rows\u001b[39m.\u001b[39;49miterrows()[\u001b[39m1\u001b[39;49m]\n\u001b[1;32m    114\u001b[0m }\n",
      "\u001b[0;31mTypeError\u001b[0m: 'generator' object is not subscriptable"
     ]
    }
   ],
   "source": [
    "deepbluer = csv_data_source.obtain_package_data(\"DeepBlueR\")\n",
    "deepbluer"
   ]
  },
  {
   "attachments": {},
   "cell_type": "markdown",
   "metadata": {},
   "source": [
    "## Initialization of a package manager"
   ]
  },
  {
   "cell_type": "code",
   "execution_count": 1,
   "metadata": {},
   "outputs": [],
   "source": [
    "from olivia_finder.package_manager import PackageManager"
   ]
  },
  {
   "attachments": {},
   "cell_type": "markdown",
   "metadata": {},
   "source": [
    "### Web scraping implementation"
   ]
  },
  {
   "cell_type": "code",
   "execution_count": 11,
   "metadata": {},
   "outputs": [],
   "source": [
    "bioconductor = PackageManager(data_source)"
   ]
  },
  {
   "cell_type": "code",
   "execution_count": 12,
   "metadata": {},
   "outputs": [
    {
     "name": "stdout",
     "output_type": "stream",
     "text": [
      "Package:\n",
      "  name: DeepBlueR\n",
      "  version: 1.24.1\n",
      "  url: https://www.bioconductor.org/packages/release/bioc/html/DeepBlueR.html\n",
      "  dependencies:\n",
      "    R:>= 3.3\n",
      "    XML:\n",
      "    RCurl:\n",
      "    GenomicRanges:\n",
      "    data.table:\n",
      "    stringr:\n",
      "    diffr:\n",
      "    dplyr:\n",
      "    methods:\n",
      "    rjson:\n",
      "    utils:\n",
      "    R.utils:\n",
      "    foreach:\n",
      "    withr:\n",
      "    rtracklayer:\n",
      "    GenomeInfoDb:\n",
      "    settings:\n",
      "    filehash:\n"
     ]
    }
   ],
   "source": [
    "p = bioconductor.obtain_package(\"DeepBlueR\")\n",
    "p.print()"
   ]
  },
  {
   "cell_type": "code",
   "execution_count": 13,
   "metadata": {},
   "outputs": [
    {
     "name": "stderr",
     "output_type": "stream",
     "text": [
      "100%|██████████| 2/2 [00:00<00:00, 10.17it/s]\n"
     ]
    },
    {
     "data": {
      "text/plain": [
       "[<olivia_finder.package.Package at 0x7ff75d4db890>,\n",
       " <olivia_finder.package.Package at 0x7ff75d4ee850>]"
      ]
     },
     "execution_count": 13,
     "metadata": {},
     "output_type": "execute_result"
    }
   ],
   "source": [
    "bioconductor_packages = bioconductor.obtain_packages(\n",
    "    package_list[:2],\n",
    "    extend_repo=True, \n",
    "    show_progress=True\n",
    ")\n",
    "bioconductor_packages"
   ]
  },
  {
   "cell_type": "code",
   "execution_count": 14,
   "metadata": {},
   "outputs": [
    {
     "name": "stdout",
     "output_type": "stream",
     "text": [
      "Package:\n",
      "  name: BiocGenerics\n",
      "  version: 0.44.0\n",
      "  url: https://www.bioconductor.org/packages/release/bioc/html/BiocGenerics.html\n",
      "  dependencies:\n",
      "    R:>= 4.0.0\n",
      "    methods:\n",
      "    utils:\n",
      "    graphics:\n",
      "    stats:\n",
      "    methods:\n",
      "    utils:\n",
      "    graphics:\n",
      "    stats:\n",
      "Package:\n",
      "  name: S4Vectors\n",
      "  version: 0.36.2\n",
      "  url: https://www.bioconductor.org/packages/release/bioc/html/S4Vectors.html\n",
      "  dependencies:\n",
      "    R:>= 4.0.0\n",
      "    methods:\n",
      "    utils:\n",
      "    stats:\n",
      "    stats4:\n",
      "    BiocGenerics:\n"
     ]
    }
   ],
   "source": [
    "for p in bioconductor_packages:\n",
    "    p.print()"
   ]
  },
  {
   "cell_type": "code",
   "execution_count": 15,
   "metadata": {},
   "outputs": [
    {
     "name": "stderr",
     "output_type": "stream",
     "text": [
      "100%|██████████| 2183/2183 [03:47<00:00,  9.59it/s]\n"
     ]
    }
   ],
   "source": [
    "bioconductor_packages = bioconductor.obtain_packages(extend_repo=True, show_progress=True)"
   ]
  },
  {
   "cell_type": "code",
   "execution_count": 16,
   "metadata": {},
   "outputs": [],
   "source": [
    "import pickle\n",
    "# Save the bioconductor package manager as a pickle file\n",
    "with open(\"./results/package_managers/bioconductor_pm_scraping.pkl\", \"wb\") as f:\n",
    "    pickle.dump(bioconductor_packages, f)"
   ]
  },
  {
   "cell_type": "code",
   "execution_count": 17,
   "metadata": {},
   "outputs": [],
   "source": [
    "# Store the package manager as a adjacency list\n",
    "b_df = bioconductor.to_full_adj_list()\n",
    "\n",
    "# Store the package manager as a adjacency list\n",
    "b_df.to_csv(\"./results/csv_datasets/bioconductor_adjlist_scraping.csv\", index=False)\n"
   ]
  },
  {
   "cell_type": "code",
   "execution_count": 19,
   "metadata": {},
   "outputs": [
    {
     "name": "stdout",
     "output_type": "stream",
     "text": [
      "Package:\n",
      "  name: singleCellTK\n",
      "  version: 2.8.0\n",
      "  url: https://www.bioconductor.org/packages/release/bioc/html/singleCellTK.html\n",
      "  dependencies:\n",
      "    R:>= 4.0\n",
      "    SummarizedExperiment:\n",
      "    SingleCellExperiment:\n",
      "    DelayedArray:\n",
      "    Biobase:\n",
      "    ape:\n",
      "    AnnotationHub:\n",
      "    batchelor:\n",
      "    BiocParallel:\n",
      "    celldex:\n",
      "    colourpicker:\n",
      "    colorspace:\n",
      "    cowplot:\n",
      "    cluster:\n",
      "    ComplexHeatmap:\n",
      "    data.table:\n",
      "    DelayedMatrixStats:\n",
      "    DESeq2:\n",
      "    dplyr:\n",
      "    DT:\n",
      "    ExperimentHub:\n",
      "    ensembldb:\n",
      "    fields:\n",
      "    ggplot2:\n",
      "    ggplotify:\n",
      "    ggrepel:\n",
      "    ggtree:\n",
      "    gridExtra:\n",
      "    GSVA:\n",
      "    GSVAdata:\n",
      "    igraph:\n",
      "    KernSmooth:\n",
      "    limma:\n",
      "    MAST:\n",
      "    Matrix:\n",
      "    matrixStats:\n",
      "    methods:\n",
      "    msigdbr:\n",
      "    multtest:\n",
      "    plotly:\n",
      "    plyr:\n",
      "    ROCR:\n",
      "    Rtsne:\n",
      "    S4Vectors:\n",
      "    scater:\n",
      "    scMerge:\n",
      "    scran:\n",
      "    Seurat:>= 3.1.3\n",
      "    shiny:\n",
      "    shinyjs:\n",
      "    SingleR:\n",
      "    SoupX:\n",
      "    sva:\n",
      "    reshape2:\n",
      "    shinyalert:\n",
      "    circlize:\n",
      "    enrichR:\n",
      "    celda:\n",
      "    shinycssloaders:\n",
      "    DropletUtils:\n",
      "    scds:\n",
      "    reticulate:>= 1.14\n",
      "    tools:\n",
      "    tximport:\n",
      "    fishpond:\n",
      "    withr:\n",
      "    GSEABase:\n",
      "    R.utils:\n",
      "    zinbwave:\n",
      "    scRNAseq:\n",
      "    TENxPBMCData:\n",
      "    yaml:\n",
      "    rmarkdown:\n",
      "    magrittr:\n",
      "    scDblFinder:\n",
      "    metap:\n",
      "    VAM:>= 0.5.3\n",
      "    tibble:\n",
      "    rlang:\n",
      "    TSCAN:\n",
      "    TrajectoryUtils:\n",
      "    scuttle:\n",
      "    utils:\n",
      "    stats:\n",
      "Number of dependencies: 84\n"
     ]
    }
   ],
   "source": [
    "# Get the package with the most dependencies\n",
    "max_deps = max(bioconductor_packages, key=lambda p: len(p.dependencies))\n",
    "max_deps.print()\n",
    "print(f'Number of dependencies: {len(max_deps.dependencies)}')"
   ]
  }
 ],
 "metadata": {
  "kernelspec": {
   "display_name": "gt",
   "language": "python",
   "name": "python3"
  },
  "language_info": {
   "codemirror_mode": {
    "name": "ipython",
    "version": 3
   },
   "file_extension": ".py",
   "mimetype": "text/x-python",
   "name": "python",
   "nbconvert_exporter": "python",
   "pygments_lexer": "ipython3",
   "version": "3.11.0"
  },
  "orig_nbformat": 4
 },
 "nbformat": 4,
 "nbformat_minor": 2
}
