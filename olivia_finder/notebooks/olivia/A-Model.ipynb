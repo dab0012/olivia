{
 "cells": [
  {
   "attachments": {},
   "cell_type": "markdown",
   "metadata": {},
   "source": [
    "# OLIVIA\n",
    "**Open-source Library Indexes Vulnerability Identification and Analysis**\n",
    "\n",
    "The use of centralized library repositories to reduce development times and costs is universal, in virtually all languages and types of software projects. Due to the transitivity of dependencies, the appearance of a single defect in the repository can have extensive and difficult-to-predict effects on the ecosystem. These defects cause functional errors or performance or security problems. The risk is difficult to grasp for developers, who only explicitly import a small part of the dependencies.\n",
    "\n",
    "OLVIA uses an approach based on the vulnerability of the dependency network of software packages, which measures how sensitive the repository is to the random introduction of defects. The goals of the model are  to contribute to the understanding of propagation mechanisms of software defects and to study feasible protection strategies. This can benefit multiple parties:\n",
    "\n",
    "* **Centralised package managers**, to establish policies and manual or automatic control processes that improve the security and stability of the repositories.\n",
    "* **Software developers** in general, to assess the different risks introduced by the dependencies used in their projects, and **package developers** in particular to understand their responsibility on the ecosystem.\n",
    "* Developers of **continuous quality tools**, to define the concept of vulnerability based on the modeling of the network of package dependencies.\n",
    "---\n",
    "\n",
    "**Author**: Daniel Setó Rey\n",
    "\n",
    "https://github.com/dsr0018/olivia\n",
    "\n",
    "**License**: Olivia and this notebook are published under a MIT [license](https://github.com/dsr0018/olivia/blob/master/LICENSE). The information of dependencies has been obtained from the libraries.io [data snapshots](https://libraries.io/data) (by Tidelift).\n",
    "\n",
    "---\n",
    "\n",
    "*This notebook is part of a user guide series that cover in detail the operation of the library.*\n",
    "*This time we treat the basic operations of loading/creating models and dealing with package properties and metrics.*\n",
    "\n"
   ]
  },
  {
   "cell_type": "code",
   "execution_count": 1,
   "metadata": {},
   "outputs": [
    {
     "name": "stdout",
     "output_type": "stream",
     "text": [
      "Requirement already satisfied: intbitset==2.4.0 in /home/dnllns/.pyenv/versions/3.8.16/envs/.venv_3816/lib/python3.8/site-packages (from -r ../../../olivia/requirements.txt (line 1)) (2.4.0)\n",
      "Requirement already satisfied: numpy==1.18.5 in /home/dnllns/.pyenv/versions/3.8.16/envs/.venv_3816/lib/python3.8/site-packages (from -r ../../../olivia/requirements.txt (line 2)) (1.18.5)\n",
      "Requirement already satisfied: networkx==2.4 in /home/dnllns/.pyenv/versions/3.8.16/envs/.venv_3816/lib/python3.8/site-packages (from -r ../../../olivia/requirements.txt (line 3)) (2.4)\n",
      "Requirement already satisfied: pandas==1.1.5 in /home/dnllns/.pyenv/versions/3.8.16/envs/.venv_3816/lib/python3.8/site-packages (from -r ../../../olivia/requirements.txt (line 4)) (1.1.5)\n",
      "Requirement already satisfied: six in /home/dnllns/.pyenv/versions/3.8.16/envs/.venv_3816/lib/python3.8/site-packages (from intbitset==2.4.0->-r ../../../olivia/requirements.txt (line 1)) (1.16.0)\n",
      "Requirement already satisfied: decorator>=4.3.0 in /home/dnllns/.pyenv/versions/3.8.16/envs/.venv_3816/lib/python3.8/site-packages (from networkx==2.4->-r ../../../olivia/requirements.txt (line 3)) (5.1.1)\n",
      "Requirement already satisfied: python-dateutil>=2.7.3 in /home/dnllns/.pyenv/versions/3.8.16/envs/.venv_3816/lib/python3.8/site-packages (from pandas==1.1.5->-r ../../../olivia/requirements.txt (line 4)) (2.8.2)\n",
      "Requirement already satisfied: pytz>=2017.2 in /home/dnllns/.pyenv/versions/3.8.16/envs/.venv_3816/lib/python3.8/site-packages (from pandas==1.1.5->-r ../../../olivia/requirements.txt (line 4)) (2023.3)\n",
      "\u001b[33mWARNING: You are using pip version 22.0.4; however, version 23.1.2 is available.\n",
      "You should consider upgrading via the '/home/dnllns/.pyenv/versions/3.8.16/envs/.venv_3816/bin/python3.8 -m pip install --upgrade pip' command.\u001b[0m\u001b[33m\n",
      "\u001b[0m"
     ]
    }
   ],
   "source": [
    "import sys\n",
    "sys.path.append('../../../olivia/')\n",
    "\n",
    "!pip install -r ../../../olivia/requirements.txt"
   ]
  },
  {
   "attachments": {},
   "cell_type": "markdown",
   "metadata": {},
   "source": [
    "\n",
    "## A - Basic model usage\n",
    "\n",
    "[01 - Load model](#01---Load-model)&ensp;|&ensp;[02 - Package properties](#02---Package-properties)&ensp;|&ensp;[03 - Package metrics](#03---Package-metrics)&ensp;|&ensp;[04 - Custom models](#04---Custom-models) \n",
    "\n",
    "*OliviaNetwork* is essentially a directed graph with some additional structures to facilitate working with metrics in large dependency networks. The model can be built from a NetworkX directed network or from a file in adjacency list format."
   ]
  },
  {
   "cell_type": "code",
   "execution_count": 2,
   "metadata": {},
   "outputs": [],
   "source": [
    "from olivia.model import OliviaNetwork"
   ]
  },
  {
   "attachments": {},
   "cell_type": "markdown",
   "metadata": {},
   "source": [
    "### 01 - Load model\n",
    "\n",
    "Load a pre-built model from file. This one is based in a snapshot of the Python Package Index (https://bioconductor.org/) from 2020-01 (data from https://libraries.io/):"
   ]
  },
  {
   "cell_type": "code",
   "execution_count": 3,
   "metadata": {},
   "outputs": [],
   "source": [
    "bioconductor = OliviaNetwork(r'../results/olivia_prebuilts/bioconductor.olv')"
   ]
  },
  {
   "attachments": {},
   "cell_type": "markdown",
   "metadata": {},
   "source": [
    "As expected, *len()* returns the number of the packages in the network:"
   ]
  },
  {
   "cell_type": "code",
   "execution_count": 4,
   "metadata": {},
   "outputs": [
    {
     "data": {
      "text/plain": [
       "3509"
      ]
     },
     "execution_count": 4,
     "metadata": {},
     "output_type": "execute_result"
    }
   ],
   "source": [
    "len(bioconductor)"
   ]
  },
  {
   "attachments": {},
   "cell_type": "markdown",
   "metadata": {},
   "source": [
    "You may iterate over package names:"
   ]
  },
  {
   "cell_type": "code",
   "execution_count": 5,
   "metadata": {},
   "outputs": [
    {
     "name": "stdout",
     "output_type": "stream",
     "text": [
      "basecallQC\n",
      "benchdamic\n",
      "biscuiteer\n",
      "branchpointer\n",
      "bamsignals\n",
      "bayNorm\n",
      "bigPint\n",
      "biomformat\n",
      "banocc\n",
      "bcSeq\n",
      "bigmelon\n",
      "biodbKegg\n",
      "bnbc\n",
      "bugsigdbr\n",
      "bandle\n",
      "bioDist\n",
      "biodb\n",
      "biodbNci\n",
      "blacksheepr\n",
      "bsseq\n",
      "barcodetrackR\n",
      "beadarray\n",
      "bioCancer\n",
      "biodbHmdb\n",
      "biodbUniprot\n",
      "blima\n",
      "breakpointR\n",
      "bambu\n",
      "baySeq\n",
      "bgx\n",
      "biocViews\n",
      "biodbLipidmaps\n",
      "bnem\n",
      "bumphunter\n",
      "ballgown\n",
      "bioassayR\n",
      "biodbExpasy\n",
      "biodbNcbi\n",
      "biovizBase\n",
      "brainflowprobes\n",
      "bacon\n",
      "beer\n",
      "biobroom\n",
      "biodbChebi\n",
      "biodbMirbase\n",
      "biotmle\n",
      "borealis\n",
      "batchelor\n",
      "biobtreeR\n",
      "biomaRt\n",
      "bluster\n",
      "biocGraph\n",
      "biomvRCNS\n",
      "beachmat\n",
      "biosigner\n",
      "basilisk.utils\n",
      "beadarraySNP\n",
      "basilisk\n",
      "brendaDb\n",
      "betareg\n",
      "biocthis\n",
      "broom\n",
      "base64enc\n",
      "bit64\n",
      "biglm\n",
      "beanplot\n",
      "boot\n",
      "biclust\n",
      "bitops\n",
      "biscuiteerData\n",
      "bezier\n",
      "bigmemory\n",
      "binom\n",
      "bbmle\n",
      "batchtools\n",
      "bookdown\n",
      "biwt\n",
      "biganalytics\n",
      "beeswarm\n",
      "bibtex\n",
      "bslib\n",
      "base\n",
      "bestNormalize\n",
      "bigrquery\n",
      "bnlearn\n",
      "bsplus\n",
      "baseline\n",
      "brglm\n",
      "bootstrap\n",
      "brew\n",
      "bamlss\n",
      "benchmarkme\n",
      "breastCancerVDX\n",
      "bench\n",
      "backbone\n",
      "bs4Dash\n",
      "bdsmatrix\n",
      "breakpointRdata\n",
      "bit\n",
      "base64url\n",
      "bladderbatch\n",
      "base64\n",
      "blockmodeling\n",
      "binr\n",
      "blme\n",
      "babelgene\n",
      "bnstruct\n",
      "bigstatsr\n",
      "biomartr\n",
      "broom.mixed\n"
     ]
    }
   ],
   "source": [
    "# Packages in bioconductor starting with 'zai'\n",
    "for package in bioconductor:\n",
    "    if package[0]=='b':\n",
    "        print(package)"
   ]
  },
  {
   "attachments": {},
   "cell_type": "markdown",
   "metadata": {},
   "source": [
    "### 02 - Package properties"
   ]
  },
  {
   "attachments": {},
   "cell_type": "markdown",
   "metadata": {},
   "source": [
    "Access via *getitem* returns a special view object:"
   ]
  },
  {
   "cell_type": "code",
   "execution_count": 6,
   "metadata": {},
   "outputs": [
    {
     "data": {
      "text/plain": [
       "<olivia.model.PackageInfoView at 0x7f3e80122d90>"
      ]
     },
     "execution_count": 6,
     "metadata": {},
     "output_type": "execute_result"
    }
   ],
   "source": [
    "bioconductor['BiocGenerics']"
   ]
  },
  {
   "attachments": {},
   "cell_type": "markdown",
   "metadata": {},
   "source": [
    "*PackageInfoView* contains methods returning stats for specific packages. For example, direct dependants are other packages that import networkx in their code:"
   ]
  },
  {
   "cell_type": "code",
   "execution_count": 7,
   "metadata": {},
   "outputs": [
    {
     "name": "stdout",
     "output_type": "stream",
     "text": [
      "BiocGenerics has 480 direct dependants\n"
     ]
    }
   ],
   "source": [
    "print(f\"BiocGenerics has {len(bioconductor['BiocGenerics'].direct_dependants())} direct dependants\")  "
   ]
  },
  {
   "attachments": {},
   "cell_type": "markdown",
   "metadata": {},
   "source": [
    "Packages may depend on NetworkX not only directly, but also via transitive dependencies:"
   ]
  },
  {
   "attachments": {},
   "cell_type": "markdown",
   "metadata": {},
   "source": [
    "![Dependants and transitive dependants](docs/img/dependants.png \"Transitive dependencies\")  \n",
    "<br>"
   ]
  },
  {
   "cell_type": "code",
   "execution_count": 8,
   "metadata": {},
   "outputs": [
    {
     "name": "stdout",
     "output_type": "stream",
     "text": [
      "BiocGenerics has 1704 transitive dependants (includes direct dependants)\n"
     ]
    }
   ],
   "source": [
    "print(f\"BiocGenerics has {len(bioconductor['BiocGenerics'].transitive_dependants())} transitive dependants (includes direct dependants)\")"
   ]
  },
  {
   "attachments": {},
   "cell_type": "markdown",
   "metadata": {},
   "source": [
    "Packages are returned as sets so we may apply the usual set operators. For example, these packages depend on NetworkX but do not explicitly import it:"
   ]
  },
  {
   "cell_type": "code",
   "execution_count": 9,
   "metadata": {
    "scrolled": true
   },
   "outputs": [
    {
     "name": "stdout",
     "output_type": "stream",
     "text": [
      "{'regutools', 'FilterFFPE', 'Rtpca', 'POMA', 'MPRAnalyze', 'SAIGEgds', 'GeneGeneInteR', 'enrichplot', 'gwascat', 'brainflowprobes', 'aggregateBioVar', 'MeSHDbi', 'TileDBArray', 'missRows', 'MOSim', 'SPOTlight', 'cmapR', 'ChIPexoQual', 'Melissa', 'Trendy', 'speckle', 'CoCiteStats', 'RNAsense', 'periodicDNA', 'gaga', 'iBMQ', 'MACSr', 'MLP', 'protGear', 'cfTools', 'MetCirc', 'spkTools', 'miRLAB', 'CopyNumberPlots', 'MsBackendSql', 'CTdata', 'LOBSTAHS', 'HELP', 'DMRcaller', 'ChIPXpress', 'LACE', 'GenomicSuperSignature', 'factDesign', 'SubCellBarCode', 'RIPAT', 'pipeComp', 'iSEEhub', 'BUSseq', 'Rcwl', 'SPLINTER', 'rcellminer', 'chimeraviz', 'trio', 'deepSNV', 'fcScan', 'NeighborNet', 'cleaver', 'NeuCA', 'scde', 'UCell', 'ChIPsim', 'a4Classif', 'scAnnotatR', 'BLMA', 'plotgardener', 'annotationTools', 'sccomp', 'msgbsR', 'reconsi', 'rTRM', 'genefu', 'slalom', 'systemPipeTools', 'slingshot', 'anota2seq', 'trena', 'TOP', 'MSstatsShiny', 'AIMS', 'GeneNetworkBuilder', 'multiGSEA', 'miRSM', 'IgGeneUsage', 'omicade4', 'bluster', 'goSorensen', 'regioneR', 'wiggleplotr', 'ADAMgui', 'GeneBreak', 'waddR', 'rmspc', 'PanomiR', 'flowViz', 'tenXplore', 'BatchQC', 'BioNet', 'Rnits', 'MetID', 'regionReport', 'TDbasedUFEadv', 'scHOT', 'Guitar', 'R4RNA', 'DifferentialRegulation', 'ScaledMatrix', 'Xeva', 'GSEAlm', 'rbsurv', 'MSPrep', 'trigger', 'appreci8R', 'RESOLVE', 'EBcoexpress', 'BioMVCClass', 'pathview', 'openPrimeRui', 'flowClean', 'cpvSNP', 'PROPS', 'dittoSeq', 'StarBioTrek', 'BiocPkgTools', 'rGADEM', 'qsmooth', 'MGFR', 'pageRank', 'tilingArray', 'MsBackendMsp', 'DEFormats', 'ADImpute', 'vissE', 'tracktables', 'Anaquin', 'ReactomePA', 'VariantExperiment', 'rhdf5client', 'CAEN', 'apComplex', 'PrInCE', 'wateRmelon', 'CoGAPS', 'rifiComparative', 'AssessORF', 'ReadqPCR', 'quantiseqr', 'InterMineR', 'CGHbase', 'BEARscc', 'chromswitch', 'EBarrays', 'dStruct', 'Rmagpie', 'AffyRNADegradation', 'SWATH2stats', 'DMCHMM', 'EnrichmentBrowser', 'HTqPCR', 'LRBaseDbi', 'gscreend', 'BioNetStat', 'MethPed', 'maskBAD', 'seq2pathway', 'methylSig', 'kebabs', 'countsimQC', 'PERFect', 'webbioc', 'TnT', 'tricycle', 'MethCP', 'ggspavis', 'ITALICS', 'scTGIF', 'VAExprs', 'moanin', 'CGHnormaliter', 'MsDataHub', 'scPCA', 'MetaboSignal', 'SCANVIS', 'BiocHubsShiny', 'plier', 'traviz', 'DEGraph', 'polyester', 'simpleSeg', 'CelliD', 'BRGenomics', 'EpiMix', 'CNViz', 'pairkat', 'oposSOM', 'flowCut', 'CSAR', 'biosigner', 'Spaniel', 'MatrixQCvis', 'BiocSet', 'RBGL', 'schex', 'BumpyMatrix', 'SCArray', 'OVESEG', 'a4Base', 'airpart', 'ClassifyR', 'TREG', 'mosaics', 'TFARM', 'gemma.R', 'pmp', 'RTN', 'circRNAprofiler', 'IMMAN', 'extraChIPs', 'InterCellar', 'DEsubs', 'rprimer', 'DeepBlueR', 'sangeranalyseR', 'GOfuncR', 'ideal', 'genomation', 'SIM', 'BDMMAcorrect', 'CRImage', 'netZooR', 'TissueEnrich', 'mbkmeans', 'scry', 'debrowser', 'baySeq', 'scRNAseqApp', 'TFutils', 'HumanTranscriptomeCompendium', 'MWASTools', 'Cormotif', 'scMET', 'metabomxtr', 'riboSeqR', 'fgga', 'sesame', 'recount3', 'biomaRt', 'AHMassBank', 'mitoClone2', 'MesKit', 'gep2pep', 'GARS', 'CAMERA', 'spiky', 'regsplice', 'microSTASIS', 'GMRP', 'mygene', 'variancePartition', 'clipper', 'CytoDx', 'HiCool', 'ZygosityPredictor', 'BEAT', 'snapCGH', 'CellScore', 'MiPP', 'scmeth', 'esetVis', 'GOexpress', 'STATegRa', 'SDAMS', 'DSS', 'TPP', 'sevenbridges', 'PPInfer', 'cytoKernel', 'affycomp', 'Organism.dplyr', 'ncGTW', 'vidger', 'ipdDb', 'OncoScore', 'metagene', 'BRAIN', 'microRNA', 'RNAAgeCalc', 'BiFET', 'pathRender', 'HEM', 'clusterStab', 'quantro', 'RUVnormalize', 'scanMiR', 'POWSC', 'sampleClassifier', 'ILoReg', 'convert', 'made4', 'methimpute', 'seqsetvis', 'CHETAH', 'ssviz', 'AGDEX', 'compartmap', 'oppar', 'procoil', 'massiR', 'attract', 'tscR', 'MobilityTransformR', 'debCAM', 'synapter', 'GSEABenchmarkeR', 'alabaster.vcf', 'MsBackendMassbank', 'geneRxCluster', 'methylCC', 'cosmosR', 'OmicCircos', 'PAST', 'DFP', 'flowMeans', 'Mfuzz', 'ANCOMBC', 'FuseSOM', 'iterClust', 'mfa', 'SCATE', 'lapmix', 'miRNAmeConverter', 'MSstatsQCgui', 'lefser', 'PREDA', 'ResidualMatrix', 'msmsEDA', 'ncRNAtools', 'musicatk', 'MMDiff2', 'metavizr', 'GeneMeta', 'Qtlizer', 'ChIPanalyser', 'epidecodeR', 'miRspongeR', 'MetaPhOR', 'NetSAM', 'canceR', 'SparseSignatures', 'bnem', 'TNBC.CMS', 'MetNet', 'xcore', 'clustifyr', 'LoomExperiment', 'muscat', 'nullranges', 'planttfhunter', 'dmrseq', 'exomeCopy', 'FastqCleaner', 'seqbias', 'Uniquorn', 'regioneReloaded', 'hapFabia', 'RLSeq', 'macat', 'TMixClust', 'HilbertCurve', 'MDTS', 'lineagespot', 'segmenter', 'isobar', 'gCrisprTools', 'GeoDiff', 'blacksheepr', 'pairedGSEA', 'singleCellTK', 'gwasurvivr', 'miaSim', 'BaalChIP', 'methylGSA', 'PhyloProfile', 'panp', 'MatrixRider', 'receptLoss', 'FeatSeekR', 'cageminer', 'ASICS', 'gtrellis', 'lionessR', 'SimFFPE', 'PLPE', 'flowDensity', 'MEIGOR', 'PFP', 'wpm', 'apeglm', 'proFIA', 'Sconify', 'myvariant', 'GenomicInteractionNodes', 'ImmuneSpaceR', 'cn.farms', 'MMUPHin', 'ontoProc', 'PloGO2', 'katdetectr', 'restfulSE', 'maSigPro', 'flowTime', 'nethet', 'flagme', 'PeacoQC', 'MEDME', 'Risa', 'ptairMS', 'BicARE', 'InteractiveComplexHeatmap', 'CNORfeeder', 'escheR', 'megadepth', 'muscle', 'HiCBricks', 'logitT', 'bioDist', 'proBAMr', 'gsean', 'ExiMiR', 'crisprVerse', 'ribor', 'CeTF', 'memes', 'covRNA', 'gespeR', 'Pviz', 'vtpnet', 'NBAMSeq', 'flowTrans', 'SeqGSEA', 'cBioPortalData', 'normalize450K', 'RIVER', 'scDDboost', 'scTensor', 'tradeSeq', 'MEB', 'pulsedSilac', 'MultiBaC', 'flowAI', 'evaluomeR', 'netOmics', 'censcyt', 'terraTCGAdata', 'cleanUpdTSeq', 'alabaster.mae', 'Harshlight', 'BANDITS', 'Dune', 'SimBu', 'SRAdb', 'bayNorm', 'SPsimSeq', 'barcodetrackR', 'ggcyto', 'ROntoTools', 'LineagePulse', 'plgem', 'TSCAN', 'BiocOncoTK', 'sSNAPPY', 'ALDEx2', 'PhenStat', 'AMARETTO', 'mCSEA', 'MSstatsPTM', 'customCMPdb', 'LymphoSeq', 'CNORode', 'lumi', 'BioNAR', 'CEMiTool', 'chihaya', 'GWASTools', 'SingleR', 'HiTC', 'GCSscore', 'qusage', 'LinkHD', 'PROMISE', 'QuartPAC', 'GOSemSim', 'TTMap', 'VaSP', 'CBNplot', 'APL', 'SPIAT', 'IntOMICS', 'FoldGO', 'SplicingFactory', 'vulcan', 'sangerseqR', 'NoRCE', 'fCCAC', 'awst', 'Maaslin2', 'ccmap', 'panelcn.mops', 'BloodGen3Module', 'SeqArray', 'IPO', 'proActiv', 'rifi', 'TBSignatureProfiler', 'beer', 'OncoSimulR', 'scds', 'glmSparseNet', 'arrayMvout', 'seqCAT', 'methylKit', 'tidySummarizedExperiment', 'annotatr', 'MethTargetedNGS', 'ChromSCape', 'consICA', 'AffiXcan', 'IRISFGM', 'KnowSeq', 'motifStack', 'ivygapSE', 'hpar', 'DMCFB', 'HIPPO', 'ATACCoGAPS', 'GenomicDataCommons', 'MethylSeekR', 'EnrichedHeatmap', 'doseR', 'fastLiquidAssociation', 'CTDquerier', 'TEKRABber', 'bandle', 'atSNP', 'transcriptogramer', 'immunoClust', 'GreyListChIP', 'SpatialDecon', 'SICtools', 'msmsTests', 'a4', 'gcrma', 'scviR', 'CluMSID', 'CNORdt', 'Mulcom', 'scDD', 'BioMM', 'diggit', 'flowMatch', 'CoverageView', 'magpie', 'pcaExplorer', 'scoreInvHap', 'APAlyzer', 'iasva', 'qrqc', 'bioCancer', 'epihet', 'cliProfiler', 'RTopper', 'OmaDB', 'GSRI', 'synapsis', 'karyoploteR', 'BCRANK', 'aCGH', 'Nebulosa', 'OMICsPCA', 'qcmetrics', 'DIAlignR', 'segmentSeq', 'CGHregions', 'snapcount', 'iSEEu', 'syntenet', 'GenomicDistributions', 'metaSeq', 'covEB', 'nanotatoR', 'NOISeq', 'ropls', 'DExMA', 'BiocSklearn', 'CellBarcode', 'CopywriteR', 'peakPantheR', 'eegc', 'srnadiff', 'SpectralTAD', 'ccfindR', 'CMA', 'miRmine', 'phenomis', 'geneXtendeR', 'clippda', 'pvac', 'ANF', 'ASSIGN', 'rGREAT', 'DEP', 'scTreeViz', 'netSmooth', 'vsclust', 'cyanoFilter', 'CNORfuzzy', 'MEDIPS', 'phenoTest', 'TFEA.ChIP', 'microbiomeExplorer', 'TCC', 'SigsPack', 'cellbaseR', 'graphite', 'gage', 'maPredictDSC', 'CellNOptR', 'alabaster.base', 'anota', 'recountmethylation', 'ABarray', 'psygenet2r', 'scReClassify', 'scanMiRApp', 'GlobalAncova', 'multiHiCcompare', 'EasyCellType', 'cbaf', 'arrayQualityMetrics', 'SISPA', 'CytoPipeline', 'goSTAG', 'CellMapper', 'MuData', 'selectKSigs', 'ExploreModelMatrix', 'MetaboCoreUtils', 'pareg', 'netDx', 'coMET', 'VegaMC', 'SBGNview', 'MiChip', 'dasper', 'corral', 'sva', 'GOpro', 'ArrayExpress', 'OrderedList', 'Cepo', 'GeoTcgaData', 'scifer', 'GAPGOM', 'ASURAT', 'rexposome', 'MetaCyto', 'DMRScan', 'PAIRADISE', 'VDJdive', 'GOSim', 'netresponse', 'TCGAbiolinks', 'pqsfinder', 'ASpediaFI', 'PECA', 'MOGAMUN', 'multiscan', 'SELEX', 'Rcpi', 'kissDE', 'goProfiles', 'NetActivity', 'ProteoMM', 'edge', 'RefPlus', 'cytofQC', 'phantasus', 'alpine', 'epivizrData', 'NanoStringQCPro', 'flowMerge', 'RolDE', 'CexoR', 'supersigs', 'SpeCond', 'zinbwave', 'RMassBank', 'OGRE', 'mastR', 'FISHalyseR', 'safe', 'IdeoViz', 'Metab', 'GEOsubmission', 'ggmsa', 'adductomicsR', 'NCIgraph', 'padma', 'SigFuge', 'RSVSim', 'MetaNeighbor', 'metagene2', 'DaMiRseq', 'omicsPrint', 'TargetDecoy', 'proBatch', 'rqt', 'mnem', 'DMRforPairs', 'oncomix', 'AgiMicroRna', 'mosbi', 'rTRMui', 'Basic4Cseq', 'ComplexHeatmap', 'MEAT', 'COTAN', 'comapr', 'farms', 'r3Cseq', 'ballgown', 'MsCoreUtils', 'SingleCellSignalR', 'FCBF', 'EDIRquery', 'twilight', 'Doscheda', 'pvca', 'MsFeatures', 'methrix', 'uncoverappLib', 'idr2d', 'BindingSiteFinder', 'motifmatchr', 'miRcomp', 'randPack', 'microbiome', 'BBCAnalyzer', 'epiNEM', 'cellity', 'TOAST', 'GEOmetadb', 'HybridMTest', 'alabaster', 'BUMHMM', 'viper', 'BioQC', 'RnaSeqSampleSize', 'DelayedTensor', 'hypergraph', 'getDEE2', 'stageR', 'GeneStructureTools', 'GSReg', 'msPurity', 'AnnotationFilter', 'MGFM', 'treekoR', 'flowVS', 'skewr', 'bgx', 'spaSim', 'seqPattern', 'artMS', 'IWTomics', 'seqArchRplus', 'Rhisat2', 'PAA', 'keggorthology', 'InPAS', 'PCAtools', 'deltaCaptureC', 'ecolitk', 'annaffy', 'omicplotR', 'SIMAT', 'DNAshapeR', 'VplotR', 'TADCompare', 'methylclock', 'idpr', 'ACE', 'RcwlPipelines', 'ExpressionAtlas', 'TurboNorm', 'CTSV', 'distinct', 'ggmanh', 'KEGGlincs', 'peco', 'flowGate', 'DeconRNASeq', 'iterativeBMA', 'GeneTonic', 'CyTOFpower', 'NormqPCR', 'BioCor', 'tLOH', 'iPAC', 'nempi', 'imcRtools', 'BgeeDB', 'Rgraphviz', 'CNVrd2', 'GWENA', 'derfinderPlot', 'coseq', 'msImpute', 'CSSQ', 'switchde', 'cTRAP', 'GBScleanR', 'SemDist', 'DAPAR', 'SimBindProfiles', 'ReQON', 'SigCheck', 'loci2path', 'flowCHIC', 'scGPS', 'pogos', 'gaggle', 'odseq', 'SomaticSignatures', 'GeneExpressionSignature', 'DELocal', 'RepViz', 'ExperimentSubset', 'fabia', 'BiGGR', 'ReUseData', 'PICS', 'BiocCheck', 'nnSVG', 'famat', 'consensusOV', 'multiOmicsViz', 'cytoMEM', 'geNetClassifier', 'coRdon', 'SPEM', 'HiCDCPlus', 'MsExperiment', 'IFAA', 'methylInheritance', 'alabaster.spatial', 'qpcrNorm', 'siggenes', 'iCheck', 'MoleculeExperiment', 'BOBaFIT', 'BayesKnockdown', 'packFinder', 'screenCounter', 'transformGamPoi', 'TimiRGeN', 'TFHAZ', 'conumee', 'CoSIA', 'zFPKM', 'CODEX', 'MBECS', 'alabaster.string', 'easier', 'RBioFormats', 'rfaRm', 'satuRn', 'QDNAseq', 'chromDraw', 'GateFinder', 'rfPred', 'CrispRVariants', 'Prostar', 'frmaTools', 'combi', 'SIAMCAT', 'LowMACA', 'tidySingleCellExperiment', 'EBSEA', 'dce', 'RBioinf', 'CNVfilteR', 'EGAD', 'RTCA', 'crisprseekplus', 'BgeeCall', 'mAPKL', 'SCAN.UPC', 'MAIT', 'meshes', 'GEOquery', 'imageHTS', 'proteasy', 'groHMM', 'a4Core', 'oneSENSE', 'phenopath', 'MoonlightR', 'YAPSA', 'BayesSpace', 'ViSEAGO', 'GRmetrics', 'MLSeq', 'affyILM', 'm6Aboost', 'TRESS', 'SVMDO', 'tidybulk', 'STROMA4', 'GraphPAC', 'MSstatsQC', 'zenith', 'hiAnnotator', 'RbcBook1', 'hyperdraw', 'SPONGE', 'DiffBind', 'GeneAccord', 'GDCRNATools', 'pepStat', 'infinityFlow', 'SPIA', 'scFeatures', 'ddPCRclust', 'TRONCO', 'GmicR', 'idiogram', 'PrecisionTrialDrawer', 'MethReg', 'seqArchR', 'epivizr', 'borealis', 'MsBackendMgf', 'puma', 'sigsquared', 'iCNV', 'hipathia', 'RVS', 'PADOG', 'genomicInstability', 'iSEEhex', 'customProDB', 'scClassify', 'GSVA', 'MicrobiomeProfiler', 'structToolbox', 'netboxr', 'twoddpcr', 'orthogene', 'qpgraph', 'scp', 'NanoMethViz', 'cytomapper', 'qmtools', 'CONFESS', 'Rbowtie2', 'Statial', 'BUScorrect', 'rCGH', 'MungeSumstats', 'MBQN', 'ssPATHS', 'DegNorm', 'CNTools', 'SpotClean', 'MADSEQ', 'BadRegionFinder', 'vsn', 'marr', 'qsvaR', 'SpatialOmicsOverlay', 'prebs', 'SGCP', 'spatialHeatmap', 'MicrobiotaProcess', 'EventPointer', 'EGSEA', 'concordexR', 'MSA2dist', 'rrvgo', 'CancerSubtypes', 'discordant', 'Rmmquant', 'alabaster.sce', 'NanoStringDiff', 'RTNduals', 'CBEA', 'HTSFilter', 'DelayedRandomArray', 'ConsensusClusterPlus', 'cytoviewer', 'sscore', 'struct', 'CNVMetrics', 'mirIntegrator', 'fishpond', 'CAFE', 'NewWave', 'funtooNorm', 'MOFA2', 'SynExtend', 'diffcyt', 'MAGAR', 'MsQuality', 'benchdamic', 'NormalyzerDE', 'FELLA', 'BiocNeighbors', 'BiocFHIR', 'bcSeq', 'SEtools', 'geneRecommender', 'shinyepico', 'makecdfenv', 'optimalFlow', 'doppelgangR', 'DeMixT', 'SpacePAC', 'metagenomeSeq', 'RCM', 'scBFA', 'nondetects', 'flowPloidy', 'flowBeads', 'eudysbiome', 'cogena', 'escape', 'DMRcate', 'Rbec', 'tRanslatome', 'biomvRCNS', 'hmdbQuery', 'Cogito', 'SpatialCPie', 'XNAString', 'ADaCGH2', 'midasHLA', 'motifcounter', 'BioTIP', 'mBPCR', 'tomoda', 'Glimma', 'Voyager', 'clusterProfiler', 'maigesPack', 'triplex', 'GeneRegionScan', 'tximeta', 'MIMOSA', 'MsBackendRawFileReader', 'metabCombiner', 'methylscaper', 'GRaNIE', 'subSeq', 'Pigengene', 'FunChIP', 'derfinderHelper', 'SMITE', 'RegEnrich', 'cosmiq', 'omicsViewer', 'rgsepd', 'Scale4C', 'globaltest', 'stJoincount', 'drugTargetInteractions', 'KEGGREST', 'ORFhunteR', 'cnvGSA', 'nucleoSim', 'cardelino', 'animalcules', 'cliqueMS', 'condiments', 'dpeak', 'MouseFM', 'fedup', 'MAGeCKFlute', 'ADAM', 'ExCluster', 'sarks', 'deco', 'SeqGate', 'SeqSQC', 'maanova', 'CytoML', 'psichomics', 'miRNAtap', 'PathoStat', 'OTUbase', 'scCB2', 'surfaltr', 'scMerge', 'RTNsurvival', 'mbQTL', 'CiteFuse', 'oncoscanR', 'TDbasedUFE', 'NanoTube', 'normr', 'scRepertoire', 'LiquidAssociation', 'biobroom', 'cycle', 'KEGGgraph', 'CATALYST', 'EWCE', 'LRcell', 'BPRMeth', 'transomics2cytoscape', 'metabolomicsWorkbenchR', 'Macarron', 'chromPlot', 'survtype', 'coMethDMR', 'RUVSeq', 'ROCpAI', 'runibic', 'zellkonverter', 'CINdex', 'ChAMP', 'copa', 'celda', 'goTools', 'BioNERO', 'MSstatsLiP', 'SiPSiC', 'preciseTAD', 'GEOexplorer', 'scone', 'GRridge', 'biocViews', 'DECIPHER', 'cogeqc', 'FEAST', 'scDataviz', 'ENmix', 'OCplus', 'GISPA', 'CCPROMISE', 'omicRexposome', 'SpidermiR', 'MOMA', 'RGraph2js', 'MAI', 'pwrEWAS', 'DelayedMatrixStats', 'RgnTX', 'ELMER', 'pipeFrame', 'ROTS', 'miQC', 'doubletrouble', 'OutSplice', 'octad', 'RNAinteract', 'CGHcall', 'singscore', 'GenomicOZone', 'divergence', 'splineTimeR', 'projectR', 'CHRONOS', 'PSEA', 'recount', 'DominoEffect', 'lipidr', 'GNET2', 'GOstats', 'yarn', 'sigFeature', 'h5vc', 'progeny', 'branchpointer', 'microbiomeDASim', 'sechm', 'bigPint', 'BASiCStan', 'staRank', 'VarCon', 'BasicSTARRseq', 'spatialDE', 'GeneSelectMMD', 'rain', 'MCbiclust', 'rRDP', 'epigraHMM', 'RITAN', 'diffUTR', 'basecallQC', 'alabaster.matrix', 'BAGS', 'msqrob2', 'hummingbird', 'flowcatchR', 'affyContam', 'HiCcompare', 'traseR', 'dyebias', 'paircompviz', 'fcoex', 'martini', 'DOSE', 'Dino', 'genefilter', 'Rtreemix', 'cancerclass', 'pkgDepTools', 'GraphAT', 'adSplit', 'ERSSA', 'beadarraySNP', 'multiSight', 'timecourse', 'TrajectoryUtils'}\n"
     ]
    }
   ],
   "source": [
    "print(bioconductor['BiocGenerics'].transitive_dependants() - bioconductor['BiocGenerics'].direct_dependants())"
   ]
  },
  {
   "attachments": {},
   "cell_type": "markdown",
   "metadata": {},
   "source": [
    "Lets pick one of them and check its dependencies, the packages on which it depends:"
   ]
  },
  {
   "cell_type": "code",
   "execution_count": 10,
   "metadata": {},
   "outputs": [
    {
     "data": {
      "text/plain": [
       "{'R', 'graphics', 'methods', 'stats', 'utils'}"
      ]
     },
     "execution_count": 10,
     "metadata": {},
     "output_type": "execute_result"
    }
   ],
   "source": [
    "bioconductor['BiocGenerics'].direct_dependencies()"
   ]
  },
  {
   "attachments": {},
   "cell_type": "markdown",
   "metadata": {},
   "source": [
    "MetaboCoreUtils is not a direct dependency but a transitive one:"
   ]
  },
  {
   "cell_type": "code",
   "execution_count": 11,
   "metadata": {},
   "outputs": [
    {
     "data": {
      "text/plain": [
       "{'BiocGenerics',\n",
       " 'MASS',\n",
       " 'MsCoreUtils',\n",
       " 'R',\n",
       " 'S4Vectors',\n",
       " 'clue',\n",
       " 'graphics',\n",
       " 'methods',\n",
       " 'stats',\n",
       " 'stats4',\n",
       " 'utils'}"
      ]
     },
     "execution_count": 11,
     "metadata": {},
     "output_type": "execute_result"
    }
   ],
   "source": [
    "bioconductor['MetaboCoreUtils'].transitive_dependencies()"
   ]
  },
  {
   "attachments": {},
   "cell_type": "markdown",
   "metadata": {},
   "source": [
    "### 03 - Package metrics"
   ]
  },
  {
   "attachments": {},
   "cell_type": "markdown",
   "metadata": {},
   "source": [
    "**REACH** of a package *u* is the number of transitive dependents of *u* plus 1."
   ]
  },
  {
   "cell_type": "code",
   "execution_count": 12,
   "metadata": {},
   "outputs": [
    {
     "data": {
      "text/plain": [
       "1705"
      ]
     },
     "execution_count": 12,
     "metadata": {},
     "output_type": "execute_result"
    }
   ],
   "source": [
    "bioconductor['BiocGenerics'].reach()"
   ]
  },
  {
   "attachments": {},
   "cell_type": "markdown",
   "metadata": {},
   "source": [
    "REACH represents the number of packages in the network that could be affected by the occurrence of a defect in *u*, like a bug or a security vulnerability. A bug in networkx could affect 590 packages, including NetworkX.\n",
    "\n",
    "You may calculate REACH package by package, as in the previous example. However, this involves many redundant computations and is very slow. OLIVIA provides efficient methods to calculate REACH for all the nodes in the network."
   ]
  },
  {
   "cell_type": "code",
   "execution_count": 13,
   "metadata": {},
   "outputs": [
    {
     "name": "stdout",
     "output_type": "stream",
     "text": [
      "Computing Reach\n",
      "     Processing node: 3K      \n"
     ]
    }
   ],
   "source": [
    "from olivia.packagemetrics import Reach\n",
    "bioconductor_reach = bioconductor.get_metric(Reach)"
   ]
  },
  {
   "attachments": {},
   "cell_type": "markdown",
   "metadata": {},
   "source": [
    "*OliviaModel.get_metric(...)* returns a *MetricStats* object with the results of the computation. *get_metric(...)* accepts as parameter classes implementing the *compute()* method, such as the ones in *olivia.packagemetrics*"
   ]
  },
  {
   "cell_type": "code",
   "execution_count": 14,
   "metadata": {},
   "outputs": [
    {
     "data": {
      "text/plain": [
       "<olivia.packagemetrics.MetricStats at 0x7f3e80148d30>"
      ]
     },
     "execution_count": 14,
     "metadata": {},
     "output_type": "execute_result"
    }
   ],
   "source": [
    "bioconductor_reach"
   ]
  },
  {
   "cell_type": "code",
   "execution_count": 15,
   "metadata": {},
   "outputs": [
    {
     "data": {
      "text/plain": [
       "1705"
      ]
     },
     "execution_count": 15,
     "metadata": {},
     "output_type": "execute_result"
    }
   ],
   "source": [
    "bioconductor_reach['BiocGenerics']"
   ]
  },
  {
   "attachments": {},
   "cell_type": "markdown",
   "metadata": {},
   "source": [
    "Once calculated through *get_metric*, the *MetricStats* object is cached into the *OliviaNetwork* model. In this way, other complex algorithms that use large metric results are freed from managing each one on their own. \n",
    "\n",
    "So there is really no need to store the results into an independent variable like we did."
   ]
  },
  {
   "cell_type": "code",
   "execution_count": 16,
   "metadata": {},
   "outputs": [
    {
     "name": "stdout",
     "output_type": "stream",
     "text": [
      "Reach retrieved from metrics cache\n"
     ]
    }
   ],
   "source": [
    "bioconductor_reach = bioconductor.get_metric(Reach)"
   ]
  },
  {
   "cell_type": "code",
   "execution_count": 17,
   "metadata": {},
   "outputs": [
    {
     "name": "stdout",
     "output_type": "stream",
     "text": [
      "Reach retrieved from metrics cache\n"
     ]
    },
    {
     "data": {
      "text/plain": [
       "1705"
      ]
     },
     "execution_count": 17,
     "metadata": {},
     "output_type": "execute_result"
    }
   ],
   "source": [
    "bioconductor.get_metric(Reach)['BiocGenerics']"
   ]
  },
  {
   "attachments": {},
   "cell_type": "markdown",
   "metadata": {},
   "source": [
    "The management of the cache is semi-automatic. You can request a value from a network-wide metric that has not yet been calculated and it will be computed and cached the first time:"
   ]
  },
  {
   "cell_type": "code",
   "execution_count": 18,
   "metadata": {},
   "outputs": [
    {
     "name": "stdout",
     "output_type": "stream",
     "text": [
      "Computing Impact\n",
      "     Processing node: 3K      \n",
      "CPU times: user 153 ms, sys: 369 µs, total: 153 ms\n",
      "Wall time: 146 ms\n"
     ]
    },
    {
     "data": {
      "text/plain": [
       "7357"
      ]
     },
     "execution_count": 18,
     "metadata": {},
     "output_type": "execute_result"
    }
   ],
   "source": [
    "from olivia.packagemetrics import Impact\n",
    "\n",
    "%time bioconductor.get_metric(Impact)['BiocGenerics']"
   ]
  },
  {
   "cell_type": "code",
   "execution_count": 19,
   "metadata": {},
   "outputs": [
    {
     "name": "stdout",
     "output_type": "stream",
     "text": [
      "Impact retrieved from metrics cache\n",
      "CPU times: user 49 µs, sys: 25 µs, total: 74 µs\n",
      "Wall time: 77.5 µs\n"
     ]
    },
    {
     "data": {
      "text/plain": [
       "7357"
      ]
     },
     "execution_count": 19,
     "metadata": {},
     "output_type": "execute_result"
    }
   ],
   "source": [
    "%time bioconductor.get_metric(Impact)['BiocGenerics']"
   ]
  },
  {
   "cell_type": "code",
   "execution_count": 20,
   "metadata": {},
   "outputs": [
    {
     "name": "stdout",
     "output_type": "stream",
     "text": [
      "Impact retrieved from metrics cache\n"
     ]
    },
    {
     "data": {
      "text/plain": [
       "1"
      ]
     },
     "execution_count": 20,
     "metadata": {},
     "output_type": "execute_result"
    }
   ],
   "source": [
    "bioconductor.get_metric(Impact)['BANDITS']"
   ]
  },
  {
   "cell_type": "code",
   "execution_count": 21,
   "metadata": {},
   "outputs": [
    {
     "name": "stdout",
     "output_type": "stream",
     "text": [
      "Impact retrieved from metrics cache\n"
     ]
    },
    {
     "data": {
      "text/plain": [
       "462"
      ]
     },
     "execution_count": 21,
     "metadata": {},
     "output_type": "execute_result"
    }
   ],
   "source": [
    "bioconductor.get_metric(Impact)['GenomicFeatures']"
   ]
  },
  {
   "attachments": {},
   "cell_type": "markdown",
   "metadata": {},
   "source": [
    "By the way, **IMPACT** is an alternative way of measuring the effect of a defect appearing in the network. It corresponds to the number of \"links\" affected (the number of \"imports\" in Python terms), it could be a better measure of the effort required to recover the network. Technically speaking it is the number of arcs in the graph induced by a node and its transitive dependents.\n",
    "\n",
    "On the other hand, **SURFACE** is the size of the set of transitive dependencies plus 1. SURFACE(*u*) is the number of packages whose defects could affect *u*. High SURFACE packages are more vulnerable to random failures."
   ]
  },
  {
   "cell_type": "code",
   "execution_count": 22,
   "metadata": {},
   "outputs": [
    {
     "name": "stdout",
     "output_type": "stream",
     "text": [
      "Computing Surface\n",
      "     Processing node: 0K      \n"
     ]
    },
    {
     "data": {
      "text/plain": [
       "6"
      ]
     },
     "execution_count": 22,
     "metadata": {},
     "output_type": "execute_result"
    }
   ],
   "source": [
    "from olivia.packagemetrics import Surface\n",
    "\n",
    "bioconductor.get_metric(Surface)['BiocGenerics']"
   ]
  },
  {
   "attachments": {},
   "cell_type": "markdown",
   "metadata": {},
   "source": [
    "![Package metrics](docs/img/pmetrics.png \"Olivia package metrics\")\n",
    "<br>"
   ]
  },
  {
   "attachments": {},
   "cell_type": "markdown",
   "metadata": {},
   "source": [
    "*MetricStats* is not just about storing values. It also has some basic methods that are useful for working with metrics. For example, you can get top and bottom packages according to the metric value:"
   ]
  },
  {
   "cell_type": "code",
   "execution_count": 23,
   "metadata": {},
   "outputs": [
    {
     "data": {
      "text/plain": [
       "[('R', 2109),\n",
       " ('stats', 1997),\n",
       " ('methods', 1982),\n",
       " ('utils', 1957),\n",
       " ('graphics', 1860),\n",
       " ('BiocGenerics', 1705),\n",
       " ('stats4', 1533),\n",
       " ('grDevices', 1490),\n",
       " ('S4Vectors', 1462),\n",
       " ('Biobase', 1437)]"
      ]
     },
     "execution_count": 23,
     "metadata": {},
     "output_type": "execute_result"
    }
   ],
   "source": [
    "bioconductor_reach.top(10)"
   ]
  },
  {
   "cell_type": "code",
   "execution_count": 24,
   "metadata": {},
   "outputs": [
    {
     "data": {
      "text/plain": [
       "[('metaseqR2', 1)]"
      ]
     },
     "execution_count": 24,
     "metadata": {},
     "output_type": "execute_result"
    }
   ],
   "source": [
    "bioconductor_reach.bottom()"
   ]
  },
  {
   "cell_type": "code",
   "execution_count": 25,
   "metadata": {},
   "outputs": [
    {
     "name": "stdout",
     "output_type": "stream",
     "text": [
      "Surface retrieved from metrics cache\n"
     ]
    },
    {
     "data": {
      "text/plain": [
       "[('singleCellTK', 210),\n",
       " ('ChAMP', 168),\n",
       " ('benchdamic', 152),\n",
       " ('miRSM', 151),\n",
       " ('methylGSA', 144),\n",
       " ('netZooR', 141),\n",
       " ('microbiomeMarker', 141),\n",
       " ('FLAMES', 139),\n",
       " ('DMRcate', 138),\n",
       " ('epimutacions', 135)]"
      ]
     },
     "execution_count": 25,
     "metadata": {},
     "output_type": "execute_result"
    }
   ],
   "source": [
    "bioconductor.get_metric(Surface).top(10)"
   ]
  },
  {
   "attachments": {},
   "cell_type": "markdown",
   "metadata": {},
   "source": [
    "As *MetricStats* implements arithmetic operators, you may define compound metrics or other operations like corrections or normalization:"
   ]
  },
  {
   "cell_type": "code",
   "execution_count": 26,
   "metadata": {},
   "outputs": [
    {
     "name": "stdout",
     "output_type": "stream",
     "text": [
      "Reach retrieved from metrics cache\n"
     ]
    },
    {
     "data": {
      "text/plain": [
       "[('R', 0.6010259333143345),\n",
       " ('stats', 0.5691080079794814),\n",
       " ('methods', 0.5648332858364207),\n",
       " ('utils', 0.5577087489313195),\n",
       " ('graphics', 0.5300655457395269),\n",
       " ('BiocGenerics', 0.48589341692789967),\n",
       " ('stats4', 0.43687660302080367),\n",
       " ('grDevices', 0.42462239954402964),\n",
       " ('S4Vectors', 0.41664291821031635),\n",
       " ('Biobase', 0.4095183813052152)]"
      ]
     },
     "execution_count": 26,
     "metadata": {},
     "output_type": "execute_result"
    }
   ],
   "source": [
    "normalized_reach = bioconductor.get_metric(Reach)/len(bioconductor)\n",
    "normalized_reach.top(10)"
   ]
  },
  {
   "attachments": {},
   "cell_type": "markdown",
   "metadata": {},
   "source": [
    "and there we can see that a failure in *six* could affect more than 40% of the packets in the network.\n",
    "\n",
    "Likewise, if we normalize SURFACE in relation to the size of the network, we obtain the probability that a uniformly random failure will affect each package:\n"
   ]
  },
  {
   "cell_type": "code",
   "execution_count": 27,
   "metadata": {},
   "outputs": [
    {
     "name": "stdout",
     "output_type": "stream",
     "text": [
      "Surface retrieved from metrics cache\n"
     ]
    },
    {
     "data": {
      "text/plain": [
       "[('singleCellTK', 0.05984611000284981),\n",
       " ('ChAMP', 0.04787688800227985),\n",
       " ('benchdamic', 0.04331718438301511),\n",
       " ('miRSM', 0.043032202906811055),\n",
       " ('methylGSA', 0.04103733257338273),\n",
       " ('netZooR', 0.04018238814477059),\n",
       " ('microbiomeMarker', 0.04018238814477059),\n",
       " ('FLAMES', 0.039612425192362494),\n",
       " ('DMRcate', 0.03932744371615845),\n",
       " ('epimutacions', 0.038472499287546306)]"
      ]
     },
     "execution_count": 27,
     "metadata": {},
     "output_type": "execute_result"
    }
   ],
   "source": [
    "(bioconductor.get_metric(Surface)/len(bioconductor)).top(10)"
   ]
  },
  {
   "attachments": {},
   "cell_type": "markdown",
   "metadata": {},
   "source": [
    "Some examples of compound metrics:"
   ]
  },
  {
   "cell_type": "code",
   "execution_count": 28,
   "metadata": {},
   "outputs": [
    {
     "name": "stdout",
     "output_type": "stream",
     "text": [
      "Computing Dependents Count\n",
      "DependentsCount retrieved from metrics cache\n"
     ]
    },
    {
     "data": {
      "text/plain": [
       "[('R', 3193116.4110936164),\n",
       " ('methods', 2202046.240389712),\n",
       " ('stats', 1651043.3692013395),\n",
       " ('utils', 1112875.8798881448),\n",
       " ('ggplot2', 502580.78726916516)]"
      ]
     },
     "execution_count": 28,
     "metadata": {},
     "output_type": "execute_result"
    }
   ],
   "source": [
    "from olivia.packagemetrics import DependentsCount\n",
    "\n",
    "mean_degree = bioconductor.get_metric(DependentsCount).values.mean()\n",
    "degree_divergence = (bioconductor.get_metric(DependentsCount)-mean_degree)**2\n",
    "degree_divergence.top(5)"
   ]
  },
  {
   "cell_type": "code",
   "execution_count": 29,
   "metadata": {},
   "outputs": [
    {
     "name": "stdout",
     "output_type": "stream",
     "text": [
      "Impact retrieved from metrics cache\n",
      "Reach retrieved from metrics cache\n"
     ]
    },
    {
     "data": {
      "text/plain": [
       "[('methods', 5.011604439959637),\n",
       " ('R', 4.87624466571835),\n",
       " ('stats', 4.815723585378067),\n",
       " ('utils', 4.7884517118037815),\n",
       " ('graphics', 4.51505376344086)]"
      ]
     },
     "execution_count": 29,
     "metadata": {},
     "output_type": "execute_result"
    }
   ],
   "source": [
    "# Impact / Reach ratio\n",
    "(bioconductor.get_metric(Impact)/bioconductor.get_metric(Reach)).top(5)"
   ]
  }
 ],
 "metadata": {
  "kernelspec": {
   "display_name": "Python 3",
   "language": "python",
   "name": "python3"
  },
  "language_info": {
   "codemirror_mode": {
    "name": "ipython",
    "version": 3
   },
   "file_extension": ".py",
   "mimetype": "text/x-python",
   "name": "python",
   "nbconvert_exporter": "python",
   "pygments_lexer": "ipython3",
   "version": "3.8.16"
  }
 },
 "nbformat": 4,
 "nbformat_minor": 4
}
