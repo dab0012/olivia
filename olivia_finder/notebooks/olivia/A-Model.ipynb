{
 "cells": [
  {
   "cell_type": "markdown",
   "metadata": {},
   "source": [
    "# OLIVIA\n",
    "**Open-source Library Indexes Vulnerability Identification and Analysis**\n",
    "\n",
    "The use of centralized library repositories to reduce development times and costs is universal, in virtually all languages and types of software projects. Due to the transitivity of dependencies, the appearance of a single defect in the repository can have extensive and difficult-to-predict effects on the ecosystem. These defects cause functional errors or performance or security problems. The risk is difficult to grasp for developers, who only explicitly import a small part of the dependencies.\n",
    "\n",
    "OLVIA uses an approach based on the vulnerability of the dependency network of software packages, which measures how sensitive the repository is to the random introduction of defects. The goals of the model are  to contribute to the understanding of propagation mechanisms of software defects and to study feasible protection strategies. This can benefit multiple parties:\n",
    "\n",
    "* **Centralised package managers**, to establish policies and manual or automatic control processes that improve the security and stability of the repositories.\n",
    "* **Software developers** in general, to assess the different risks introduced by the dependencies used in their projects, and **package developers** in particular to understand their responsibility on the ecosystem.\n",
    "* Developers of **continuous quality tools**, to define the concept of vulnerability based on the modeling of the network of package dependencies.\n",
    "---\n",
    "\n",
    "**Author**: Daniel Setó Rey\n",
    "\n",
    "https://github.com/dsr0018/olivia\n",
    "\n",
    "**License**: Olivia and this notebook are published under a MIT [license](https://github.com/dsr0018/olivia/blob/master/LICENSE). The information of dependencies has been obtained from the libraries.io [data snapshots](https://libraries.io/data) (by Tidelift).\n",
    "\n",
    "---\n",
    "\n",
    "*This notebook is part of a user guide series that cover in detail the operation of the library.*\n",
    "*This time we treat the basic operations of loading/creating models and dealing with package properties and metrics.*\n",
    "\n"
   ]
  },
  {
   "attachments": {},
   "cell_type": "markdown",
   "metadata": {},
   "source": [
    "**<span style=\"color:red\">WARNING</span>**\n",
    "\n",
    "The ***numpy==1.18.5*** package is olivia dependence, but a Build version is no longer available.\n",
    "\n",
    "The compilation process of the package takes a ratillo and needs addicted dependencies in the system"
   ]
  },
  {
   "cell_type": "code",
   "execution_count": 2,
   "metadata": {},
   "outputs": [
    {
     "name": "stdout",
     "output_type": "stream",
     "text": [
      "\u001b[33mWARNING: Ignoring invalid distribution -etworkx (/home/daniel.alonso/proyectos/olivia-finder/.venv/lib/python3.9/site-packages)\u001b[0m\u001b[33m\n",
      "\u001b[0mRequirement already satisfied: intbitset==2.4.0 in /home/daniel.alonso/proyectos/olivia-finder/.venv/lib/python3.9/site-packages (from -r ../../../olivia/requirements.txt (line 1)) (2.4.0)\n",
      "Requirement already satisfied: numpy==1.18.5 in /home/daniel.alonso/proyectos/olivia-finder/.venv/lib/python3.9/site-packages (from -r ../../../olivia/requirements.txt (line 2)) (1.18.5)\n",
      "Requirement already satisfied: networkx==3.0 in /home/daniel.alonso/proyectos/olivia-finder/.venv/lib/python3.9/site-packages (from -r ../../../olivia/requirements.txt (line 3)) (3.0)\n",
      "Requirement already satisfied: six in /home/daniel.alonso/proyectos/olivia-finder/.venv/lib/python3.9/site-packages (from intbitset==2.4.0->-r ../../../olivia/requirements.txt (line 1)) (1.16.0)\n",
      "\u001b[33mWARNING: Ignoring invalid distribution -etworkx (/home/daniel.alonso/proyectos/olivia-finder/.venv/lib/python3.9/site-packages)\u001b[0m\u001b[33m\n",
      "\u001b[0m"
     ]
    }
   ],
   "source": [
    "import sys\n",
    "sys.path.append('../../../olivia/')\n",
    "\n",
    "!pip install -r ../../../olivia/requirements.txt"
   ]
  },
  {
   "cell_type": "markdown",
   "metadata": {},
   "source": [
    "\n",
    "## A - Basic model usage\n",
    "\n",
    "[01 - Load model](#01---Load-model)&ensp;|&ensp;[02 - Package properties](#02---Package-properties)&ensp;|&ensp;[03 - Package metrics](#03---Package-metrics)&ensp;|&ensp;[04 - Custom models](#04---Custom-models) \n",
    "\n",
    "*OliviaNetwork* is essentially a directed graph with some additional structures to facilitate working with metrics in large dependency networks. The model can be built from a NetworkX directed network or from a file in adjacency list format."
   ]
  },
  {
   "cell_type": "code",
   "execution_count": 3,
   "metadata": {},
   "outputs": [],
   "source": [
    "from olivia.model import OliviaNetwork"
   ]
  },
  {
   "attachments": {},
   "cell_type": "markdown",
   "metadata": {},
   "source": [
    "### 01 - Load model\n",
    "\n",
    "Load a pre-built model from file. This one is based in a snapshot of the Python Package Index (https://bioconductor.org/) from 2020-01 (data from https://libraries.io/):"
   ]
  },
  {
   "cell_type": "code",
   "execution_count": 4,
   "metadata": {},
   "outputs": [],
   "source": [
    "bioconductor = OliviaNetwork(r'../results/olivia_prebuilts/bioconductor.olv')"
   ]
  },
  {
   "cell_type": "markdown",
   "metadata": {},
   "source": [
    "As expected, *len()* returns the number of the packages in the network:"
   ]
  },
  {
   "cell_type": "code",
   "execution_count": 5,
   "metadata": {},
   "outputs": [
    {
     "data": {
      "text/plain": [
       "3509"
      ]
     },
     "execution_count": 5,
     "metadata": {},
     "output_type": "execute_result"
    }
   ],
   "source": [
    "len(bioconductor)"
   ]
  },
  {
   "cell_type": "markdown",
   "metadata": {},
   "source": [
    "You may iterate over package names:"
   ]
  },
  {
   "cell_type": "code",
   "execution_count": 6,
   "metadata": {},
   "outputs": [
    {
     "name": "stdout",
     "output_type": "stream",
     "text": [
      "basecallQC\n",
      "benchdamic\n",
      "biscuiteer\n",
      "branchpointer\n",
      "bamsignals\n",
      "bayNorm\n",
      "bigPint\n",
      "biomformat\n",
      "banocc\n",
      "bcSeq\n",
      "bigmelon\n",
      "biodbKegg\n",
      "bnbc\n",
      "bugsigdbr\n",
      "bandle\n",
      "bioDist\n",
      "biodb\n",
      "biodbNci\n",
      "blacksheepr\n",
      "bsseq\n",
      "barcodetrackR\n",
      "beadarray\n",
      "bioCancer\n",
      "biodbHmdb\n",
      "biodbUniprot\n",
      "blima\n",
      "breakpointR\n",
      "bambu\n",
      "baySeq\n",
      "bgx\n",
      "biocViews\n",
      "biodbLipidmaps\n",
      "bnem\n",
      "bumphunter\n",
      "ballgown\n",
      "bioassayR\n",
      "biodbExpasy\n",
      "biodbNcbi\n",
      "biovizBase\n",
      "brainflowprobes\n",
      "bacon\n",
      "beer\n",
      "biobroom\n",
      "biodbChebi\n",
      "biodbMirbase\n",
      "biotmle\n",
      "borealis\n",
      "batchelor\n",
      "biobtreeR\n",
      "biomaRt\n",
      "bluster\n",
      "biocGraph\n",
      "biomvRCNS\n",
      "beachmat\n",
      "biosigner\n",
      "basilisk.utils\n",
      "beadarraySNP\n",
      "basilisk\n",
      "brendaDb\n",
      "betareg\n",
      "biocthis\n",
      "broom\n",
      "base64enc\n",
      "bit64\n",
      "biglm\n",
      "beanplot\n",
      "boot\n",
      "biclust\n",
      "bitops\n",
      "biscuiteerData\n",
      "bezier\n",
      "bigmemory\n",
      "binom\n",
      "bbmle\n",
      "batchtools\n",
      "bookdown\n",
      "biwt\n",
      "biganalytics\n",
      "beeswarm\n",
      "bibtex\n",
      "bslib\n",
      "base\n",
      "bestNormalize\n",
      "bigrquery\n",
      "bnlearn\n",
      "bsplus\n",
      "baseline\n",
      "brglm\n",
      "bootstrap\n",
      "brew\n",
      "bamlss\n",
      "benchmarkme\n",
      "breastCancerVDX\n",
      "bench\n",
      "backbone\n",
      "bs4Dash\n",
      "bdsmatrix\n",
      "breakpointRdata\n",
      "bit\n",
      "base64url\n",
      "bladderbatch\n",
      "base64\n",
      "blockmodeling\n",
      "binr\n",
      "blme\n",
      "babelgene\n",
      "bnstruct\n",
      "bigstatsr\n",
      "biomartr\n",
      "broom.mixed\n"
     ]
    }
   ],
   "source": [
    "# Packages in bioconductor starting with 'zai'\n",
    "for package in bioconductor:\n",
    "    if package[0]=='b':\n",
    "        print(package)"
   ]
  },
  {
   "cell_type": "markdown",
   "metadata": {},
   "source": [
    "### 02 - Package properties"
   ]
  },
  {
   "cell_type": "markdown",
   "metadata": {},
   "source": [
    "Access via *getitem* returns a special view object:"
   ]
  },
  {
   "cell_type": "code",
   "execution_count": 7,
   "metadata": {},
   "outputs": [
    {
     "data": {
      "text/plain": [
       "<olivia.model.PackageInfoView at 0x7f8c9d6f4940>"
      ]
     },
     "execution_count": 7,
     "metadata": {},
     "output_type": "execute_result"
    }
   ],
   "source": [
    "bioconductor['BiocGenerics']"
   ]
  },
  {
   "cell_type": "markdown",
   "metadata": {},
   "source": [
    "*PackageInfoView* contains methods returning stats for specific packages. For example, direct dependants are other packages that import networkx in their code:"
   ]
  },
  {
   "cell_type": "code",
   "execution_count": 8,
   "metadata": {},
   "outputs": [
    {
     "name": "stdout",
     "output_type": "stream",
     "text": [
      "BiocGenerics has 480 direct dependants\n"
     ]
    }
   ],
   "source": [
    "print(f\"BiocGenerics has {len(bioconductor['BiocGenerics'].direct_dependants())} direct dependants\")  "
   ]
  },
  {
   "cell_type": "markdown",
   "metadata": {},
   "source": [
    "Packages may depend on NetworkX not only directly, but also via transitive dependencies:"
   ]
  },
  {
   "cell_type": "markdown",
   "metadata": {},
   "source": [
    "![Dependants and transitive dependants](docs/img/dependants.png \"Transitive dependencies\")  \n",
    "<br>"
   ]
  },
  {
   "cell_type": "code",
   "execution_count": 9,
   "metadata": {},
   "outputs": [
    {
     "name": "stdout",
     "output_type": "stream",
     "text": [
      "BiocGenerics has 1704 transitive dependants (includes direct dependants)\n"
     ]
    }
   ],
   "source": [
    "print(f\"BiocGenerics has {len(bioconductor['BiocGenerics'].transitive_dependants())} transitive dependants (includes direct dependants)\")"
   ]
  },
  {
   "cell_type": "markdown",
   "metadata": {},
   "source": [
    "Packages are returned as sets so we may apply the usual set operators. For example, these packages depend on NetworkX but do not explicitly import it:"
   ]
  },
  {
   "cell_type": "code",
   "execution_count": 10,
   "metadata": {
    "scrolled": true
   },
   "outputs": [
    {
     "name": "stdout",
     "output_type": "stream",
     "text": [
      "{'dpeak', 'SimBindProfiles', 'scDDboost', 'circRNAprofiler', 'CancerSubtypes', 'TOAST', 'sscore', 'PrInCE', 'MungeSumstats', 'coMET', 'cbaf', 'GEOsubmission', 'DExMA', 'ZygosityPredictor', 'RegEnrich', 'multiSight', 'FunChIP', 'CSSQ', 'InteractiveComplexHeatmap', 'missRows', 'derfinderPlot', 'BiocOncoTK', 'scde', 'hyperdraw', 'HiCDCPlus', 'DIAlignR', 'BiocSklearn', 'staRank', 'GRridge', 'countsimQC', 'CSAR', 'getDEE2', 'StarBioTrek', 'MAGAR', 'ChIPsim', 'affycomp', 'rCGH', 'CTdata', 'GeneStructureTools', 'immunoClust', 'scRepertoire', 'OCplus', 'crisprseekplus', 'pqsfinder', 'miRSM', 'GenomicDistributions', 'vissE', 'iterClust', 'metagenomeSeq', 'DMRforPairs', 'scry', 'goTools', 'Rhisat2', 'IFAA', 'SparseSignatures', 'dasper', 'MsFeatures', 'MGFM', 'HiTC', 'EpiMix', 'Cormotif', 'HTSFilter', 'CoCiteStats', 'ASSIGN', 'BgeeDB', 'flowPloidy', 'scone', 'GEOmetadb', 'BBCAnalyzer', 'pvac', 'fedup', 'AgiMicroRna', 'FastqCleaner', 'geneXtendeR', 'EBSEA', 'MPRAnalyze', 'TOP', 'MethReg', 'netZooR', 'Basic4Cseq', 'CGHbase', 'sangeranalyseR', 'qcmetrics', 'periodicDNA', 'COTAN', 'RBioinf', 'ROCpAI', 'keggorthology', 'plier', 'GOSim', 'CellNOptR', 'switchde', 'InPAS', 'annotatr', 'mfa', 'flowBeads', 'Mulcom', 'SGCP', 'diffcyt', 'epiNEM', 'KEGGgraph', 'mastR', 'SeqGSEA', 'Mfuzz', 'MSstatsQCgui', 'UCell', 'spiky', 'TBSignatureProfiler', 'EDIRquery', 'MsBackendSql', 'idiogram', 'CGHregions', 'debrowser', 'HEM', 'GNET2', 'CTSV', 'KEGGlincs', 'DMRcate', 'gep2pep', 'GISPA', 'globaltest', 'GEOquery', 'schex', 'NormqPCR', 'genefilter', 'proActiv', 'sampleClassifier', 'GSReg', 'nethet', 'TnT', 'consICA', 'VariantExperiment', 'goSorensen', 'rfPred', 'miRmine', 'rprimer', 'plotgardener', 'pvca', 'deltaCaptureC', 'SVMDO', 'MoonlightR', 'lapmix', 'pwrEWAS', 'flowTrans', 'omicplotR', 'transcriptogramer', 'MsBackendMsp', 'POMA', 'OmicCircos', 'MsExperiment', 'borealis', 'GSEAlm', 'MetaPhOR', 'scTensor', 'RITAN', 'srnadiff', 'proteasy', 'MEDIPS', 'ABarray', 'tilingArray', 'epivizrData', 'SimBu', 'chromDraw', 'MEIGOR', 'brainflowprobes', 'RESOLVE', 'MultiBaC', 'quantro', 'GBScleanR', 'microbiomeDASim', 'GRaNIE', 'midasHLA', 'mygene', 'MLSeq', 'bandle', 'CrispRVariants', 'scGPS', 'epigraHMM', 'CRImage', 'SpidermiR', 'RGraph2js', 'scanMiR', 'transformGamPoi', 'methylclock', 'ComplexHeatmap', 'cliqueMS', 'Rtreemix', 'MeSHDbi', 'RUVSeq', 'pipeFrame', 'MsBackendMassbank', 'iSEEhub', 'CNORfeeder', 'XNAString', 'singscore', 'cleanUpdTSeq', 'tidySingleCellExperiment', 'gscreend', 'omicRexposome', 'DominoEffect', 'msPurity', 'BloodGen3Module', 'Pviz', 'RepViz', 'metagene', 'phenopath', 'TFARM', 'martini', 'coseq', 'BioQC', 'BCRANK', 'SPLINTER', 'MEDME', 'GraphPAC', 'dmrseq', 'flowTime', 'SCArray', 'methylSig', 'bioCancer', 'CAFE', 'NanoTube', 'scClassify', 'copa', 'RBGL', 'hummingbird', 'Rbowtie2', 'ExperimentSubset', 'beadarraySNP', 'CAEN', 'RLSeq', 'nucleoSim', 'CEMiTool', 'ipdDb', 'IntOMICS', 'rifi', 'APL', 'alabaster.string', 'rifiComparative', 'blacksheepr', 'syntenet', 'treekoR', 'conumee', 'PICS', 'scRNAseqApp', 'multiscan', 'CNORode', 'ALDEx2', 'gaga', 'synapsis', 'SDAMS', 'regionReport', 'ANF', 'cfTools', 'MLP', 'prebs', 'BAGS', 'CBNplot', 'PFP', 'annaffy', 'combi', 'cogeqc', 'hmdbQuery', 'EGSEA', 'alpine', 'nempi', 'doppelgangR', 'methylKit', 'ggmsa', 'NanoStringDiff', 'rRDP', 'VDJdive', 'covEB', 'HybridMTest', 'comapr', 'shinyepico', 'rbsurv', 'Rbec', 'scMET', 'coMethDMR', 'proFIA', 'MMDiff2', 'AGDEX', 'quantiseqr', 'GeneTonic', 'epivizr', 'GeneRegionScan', 'MethTargetedNGS', 'fgga', 'SPIAT', 'CMA', 'Cepo', 'BaalChIP', 'VegaMC', 'flowMatch', 'clustifyr', 'EWCE', 'flowGate', 'IdeoViz', 'seqsetvis', 'PathoStat', 'SWATH2stats', 'DEGraph', 'NanoStringQCPro', 'GraphAT', 'iasva', 'ADAMgui', 'anota2seq', 'fCCAC', 'TrajectoryUtils', 'mCSEA', 'ClassifyR', 'EventPointer', 'MGFR', 'alabaster.base', 'DiffBind', 'phantasus', 'MsBackendRawFileReader', 'PADOG', 'gsean', 'GOSemSim', 'SIMAT', 'stageR', 'apComplex', 'dittoSeq', 'scHOT', 'iSEEhex', 'MuData', 'GDCRNATools', 'DegNorm', 'SELEX', 'methimpute', 'ChIPXpress', 'RIPAT', 'oneSENSE', 'waddR', 'TNBC.CMS', 'epihet', 'memes', 'rGADEM', 'GAPGOM', 'iCNV', 'qpcrNorm', 'rfaRm', 'compartmap', 'zenith', 'flowDensity', 'CNVfilteR', 'vtpnet', 'HiCBricks', 'DeMixT', 'SAIGEgds', 'padma', 'ropls', 'MOMA', 'OutSplice', 'splineTimeR', 'ccmap', 'genomation', 'seqArchRplus', 'MetNet', 'DMRcaller', 'NBAMSeq', 'customCMPdb', 'ivygapSE', 'cytoKernel', 'cytoMEM', 'GateFinder', 'InterCellar', 'Macarron', 'lefser', 'SigCheck', 'SCAN.UPC', 'pogos', 'ASURAT', 'PREDA', 'TSCAN', 'meshes', 'Melissa', 'LoomExperiment', 'EGAD', 'macat', 'SCATE', 'methylInheritance', 'imageHTS', 'TFHAZ', 'vsn', 'loci2path', 'protGear', 'SynExtend', 'a4Core', 'recount3', 'BOBaFIT', 'AHMassBank', 'NanoMethViz', 'netresponse', 'geneRxCluster', 'scDD', 'GeneAccord', 'miRLAB', 'PrecisionTrialDrawer', 'preciseTAD', 'LymphoSeq', 'flowAI', 'cleaver', 'sesame', 'dyebias', 'slalom', 'scBFA', 'BiocHubsShiny', 'alabaster', 'multiOmicsViz', 'gcrma', 'GmicR', 'cardelino', 'MsQuality', 'PPInfer', 'beer', 'CNORdt', 'attract', 'metavizr', 'ExCluster', 'spatialDE', 'SIM', 'iBMQ', 'biomaRt', 'BiocNeighbors', 'MOGAMUN', 'pairkat', 'bioDist', 'MatrixRider', 'cBioPortalData', 'PAA', 'aggregateBioVar', 'pipeComp', 'Nebulosa', 'BUSseq', 'DMRScan', 'farms', 'scp', 'projectR', 'vsclust', 'scifer', 'msqrob2', 'moanin', 'CHRONOS', 'NoRCE', 'siggenes', 'twilight', 'GeneExpressionSignature', 'r3Cseq', 'tracktables', 'FISHalyseR', 'CeTF', 'frmaTools', 'PCAtools', 'scPCA', 'PanomiR', 'CyTOFpower', 'plgem', 'ImmuneSpaceR', 'pathview', 'RNAsense', 'HELP', 'MIMOSA', 'musicatk', 'MAGeCKFlute', 'ExpressionAtlas', 'arrayMvout', 'pcaExplorer', 'RefPlus', 'TEKRABber', 'condiments', 'twoddpcr', 'proBAMr', 'bigPint', 'rain', 'RTNsurvival', 'panelcn.mops', 'MsBackendMgf', 'SpatialCPie', 'iCheck', 'Harshlight', 'drugTargetInteractions', 'MoleculeExperiment', 'BindingSiteFinder', 'CellBarcode', 'BASiCStan', 'normr', 'cn.farms', 'ontoProc', 'diggit', 'FCBF', 'netboxr', 'sSNAPPY', 'PROMISE', 'HilbertCurve', 'metabolomicsWorkbenchR', 'rexposome', 'DelayedRandomArray', 'factDesign', 'bayNorm', 'CopyNumberPlots', 'pareg', 'msgbsR', 'ccfindR', 'flowCut', 'chromswitch', 'chihaya', 'GEOexplorer', 'massiR', 'FELLA', 'odseq', 'Trendy', 'affyContam', 'TMixClust', 'BicARE', 'TREG', 'derfinderHelper', 'biocViews', 'CexoR', 'evaluomeR', 'CNVrd2', 'eudysbiome', 'tximeta', 'VarCon', 'flowCHIC', 'rTRM', 'SiPSiC', 'muscat', 'GenomicDataCommons', 'zellkonverter', 'RTopper', 'Dune', 'scAnnotatR', 'CBEA', 'BayesKnockdown', 'sechm', 'gemma.R', 'wiggleplotr', 'pulsedSilac', 'OrderedList', 'FilterFFPE', 'RbcBook1', 'flowMeans', 'mosaics', 'lumi', 'AffiXcan', 'pathRender', 'fabia', 'Glimma', 'ELMER', 'escheR', 'covRNA', 'VplotR', 'doseR', 'ROTS', 'MAIT', 'regioneR', 'QuartPAC', 'affyILM', 'segmentSeq', 'BLMA', 'GeneNetworkBuilder', 'adSplit', 'timecourse', 'PROPS', 'Doscheda', 'ChIPanalyser', 'tomoda', 'GSRI', 'APAlyzer', 'GRmetrics', 'IMMAN', 'scanMiRApp', 'maanova', 'nnSVG', 'PloGO2', 'genomicInstability', 'clusterProfiler', 'bnem', 'BioMM', 'GenomicInteractionNodes', 'convert', 'ReQON', 'regutools', 'Rnits', 'qrqc', 'LRcell', 'TTMap', 'BadRegionFinder', 'ssPATHS', 'graphite', 'KnowSeq', 'ACE', 'ExploreModelMatrix', 'GOpro', 'DaMiRseq', 'goSTAG', 'DelayedMatrixStats', 'biobroom', 'tidySummarizedExperiment', 'structToolbox', 'airpart', 'DELocal', 'speckle', 'SpatialDecon', 'esetVis', 'KEGGREST', 'tscR', 'CytoDx', 'crisprVerse', 'restfulSE', 'edge', 'GOfuncR', 'imcRtools', 'HIPPO', 'GeneSelectMMD', 'TADCompare', 'OncoSimulR', 'trigger', 'transomics2cytoscape', 'CelliD', 'selectKSigs', 'alabaster.matrix', 'viper', 'microSTASIS', 'SigFuge', 'dStruct', 'appreci8R', 'lionessR', 'DeepBlueR', 'Sconify', 'ncRNAtools', 'VaSP', 'SMITE', 'cTRAP', 'SPEM', 'dce', 'metabomxtr', 'FuseSOM', 'ANCOMBC', 'IPO', 'cpvSNP', 'maSigPro', 'eegc', 'panp', 'webbioc', 'Rmagpie', 'scCB2', 'TurboNorm', 'maPredictDSC', 'ddPCRclust', 'MEB', 'EnrichedHeatmap', 'MetaboSignal', 'LinkHD', 'scviR', 'ASICS', 'msmsEDA', 'TFutils', 'basecallQC', 'bluster', 'SpotClean', 'BatchQC', 'cogena', 'seqbias', 'SeqGate', 'branchpointer', 'MACSr', 'makecdfenv', 'kebabs', 'YAPSA', 'OVESEG', 'ArrayExpress', 'oposSOM', 'SpectralTAD', 'ADImpute', 'RTN', 'ResidualMatrix', 'SpacePAC', 'SPIA', 'ProteoMM', 'Xeva', 'hpar', 'fcScan', 'CONFESS', 'DOSE', 'mosbi', 'IWTomics', 'epidecodeR', 'CNTools', 'scFeatures', 'SpatialOmicsOverlay', 'MAI', 'HTqPCR', 'artMS', 'ReadqPCR', 'variancePartition', 'ADAM', 'diffUTR', 'SCANVIS', 'scmeth', 'mbkmeans', 'BEARscc', 'metagene2', 'QDNAseq', 'trena', 'zinbwave', 'CopywriteR', 'receptLoss', 'scMerge', 'CoSIA', 'Scale4C', 'GeneBreak', 'BiocPkgTools', 'Organism.dplyr', 'flowcatchR', 'CluMSID', 'qpgraph', 'a4', 'anota', 'Rmmquant', 'clusterStab', 'BumpyMatrix', 'qsmooth', 'miRspongeR', 'annotationTools', 'rTRMui', 'DelayedTensor', 'funtooNorm', 'gwascat', 'cytomapper', 'MsCoreUtils', 'GenomicOZone', 'Statial', 'progeny', 'SimFFPE', 'nanotatoR', 'netOmics', 'slingshot', 'MEAT', 'CellScore', 'xcore', 'GSEABenchmarkeR', 'aCGH', 'DEP', 'traseR', 'stJoincount', 'gCrisprTools', 'motifStack', 'SeqSQC', 'Spaniel', 'BDMMAcorrect', 'RSVSim', 'SICtools', 'lineagespot', 'PeacoQC', 'TimiRGeN', 'NOISeq', 'CCPROMISE', 'rrvgo', 'a4Classif', 'canceR', 'Uniquorn', 'RolDE', 'snapcount', 'chromPlot', 'MetID', 'supersigs', 'flowClean', 'BANDITS', 'netSmooth', 'proBatch', 'TissueEnrich', 'mBPCR', 'arrayQualityMetrics', 'easier', 'coRdon', 'EBcoexpress', 'cosmosR', 'multiGSEA', 'BgeeCall', 'BiocSet', 'LineagePulse', 'groHMM', 'Dino', 'metaSeq', 'BiFET', 'optimalFlow', 'omicsPrint', 'scReClassify', 'TRESS', 'RgnTX', 'famat', 'VAExprs', 'seqPattern', 'mbQTL', 'debCAM', 'IRISFGM', 'tidybulk', 'BiocCheck', 'spkTools', 'sigsquared', 'psichomics', 'awst', 'CATALYST', 'apeglm', 'SplicingFactory', 'qusage', 'BiGGR', 'DMCHMM', 'tradeSeq', 'MesKit', 'SRAdb', 'MetaboCoreUtils', 'InterMineR', 'hapFabia', 'survtype', 'MSstatsPTM', 'bcSeq', 'R4RNA', 'geNetClassifier', 'barcodetrackR', 'MCbiclust', 'SingleR', 'struct', 'BioNet', 'microbiomeExplorer', 'alabaster.vcf', 'made4', 'chimeraviz', 'PECA', 'pmp', 'methylscaper', 'myvariant', 'Guitar', 'CAMERA', 'screenCounter', 'scTreeViz', 'tenXplore', 'muscle', 'GMRP', 'miRNAtap', 'triplex', 'hypergraph', 'SPsimSeq', 'Rgraphviz', 'alabaster.sce', 'animalcules', 'goProfiles', 'BPRMeth', 'psygenet2r', 'EnrichmentBrowser', 'CGHnormaliter', 'recount', 'HumanTranscriptomeCompendium', 'tLOH', 'randPack', 'seqCAT', 'MSA2dist', 'scoreInvHap', 'Metab', 'Voyager', 'idpr', 'AIMS', 'corral', 'MethylSeekR', 'ballgown', 'OTUbase', 'pepStat', 'Maaslin2', 'cyanoFilter', 'kissDE', 'trio', 'a4Base', 'NeuCA', 'ChAMP', 'MethPed', 'GCSscore', 'miaSim', 'NeighborNet', 'GWASTools', 'cytoviewer', 'cmapR', 'planttfhunter', 'customProDB', 'SPOTlight', 'seq2pathway', 'Rcpi', 'riboSeqR', 'NetActivity', 'RIVER', 'multiHiCcompare', 'magpie', 'MSstatsQC', 'MOFA2', 'PAIRADISE', 'HiCcompare', 'bgx', 'POWSC', 'mnem', 'microbiome', 'seqArchR', 'flagme', 'ssviz', 'mirIntegrator', 'ITALICS', 'MouseFM', 'orthogene', 'puma', 'GlobalAncova', 'tricycle', 'megadepth', 'BUScorrect', 'spaSim', 'extraChIPs', 'TCGAbiolinks', 'CytoML', 'sevenbridges', 'genefu', 'terraTCGAdata', 'PSEA', 'clippda', 'GWENA', 'biosigner', 'peakPantheR', 'nullranges', 'MetaCyto', 'BEAT', 'PERFect', 'GeneMeta', 'SigsPack', 'synapter', 'clipper', 'TDbasedUFEadv', 'surfaltr', 'sva', 'CNVMetrics', 'celda', 'ERSSA', 'h5vc', 'BiocFHIR', 'GARS', 'RUVnormalize', 'CytoPipeline', 'concordexR', 'motifcounter', 'RCM', 'MicrobiomeProfiler', 'PhyloProfile', 'rhdf5client', 'MsDataHub', 'ASpediaFI', 'gaggle', 'MiPP', 'discordant', 'CGHcall', 'RTNduals', 'MiChip', 'SBGNview', 'GeoDiff', 'RnaSeqSampleSize', 'ILoReg', 'NewWave', 'SemDist', 'STROMA4', 'GenomicSuperSignature', 'cnvGSA', 'BRAIN', 'omicsViewer', 'peco', 'FoldGO', 'MSstatsShiny', 'MSstatsLiP', 'CoverageView', 'ggspavis', 'qmtools', 'Qtlizer', 'scds', 'scTGIF', 'CNViz', 'DSS', 'paircompviz', 'netDx', 'gage', 'BioMVCClass', 'normalize450K', 'AssessORF', 'NetSAM', 'snapCGH', 'atSNP', 'gespeR', 'cellity', 'adductomicsR', 'deco', 'RTCA', 'iterativeBMA', 'reconsi', 'MADSEQ', 'SingleCellSignalR', 'enrichplot', 'Rtpca', 'oncomix', 'GSVA', 'recountmethylation', 'methylGSA', 'cancerclass', 'packFinder', 'logitT', 'yarn', 'iSEEu', 'cosmiq', 'idr2d', 'motifmatchr', 'doubletrouble', 'miRcomp', 'miRNAmeConverter', 'subSeq', 'MWASTools', 'LowMACA', 'censcyt', 'iPAC', 'DAPAR', 'TileDBArray', 'ecolitk', 'singleCellTK', 'MethCP', 'TCC', 'LACE', 'scDataviz', 'ReUseData', 'omicade4', 'ROntoTools', 'lipidr', 'ribor', 'GeoTcgaData', 'OmaDB', 'wateRmelon', 'msmsTests', 'regsplice', 'FEAST', 'SpeCond', 'skewr', 'SubCellBarCode', 'pkgDepTools', 'alabaster.spatial', 'TFEA.ChIP', 'MOSim', 'consensusOV', 'octad', 'fastLiquidAssociation', 'ChIPexoQual', 'ggcyto', 'cytofQC', 'methrix', 'cageminer', 'infinityFlow', 'methylCC', 'ptairMS', 'TRONCO', 'mitoClone2', 'CODEX', 'LOBSTAHS', 'GeneGeneInteR', 'Cogito', 'safe', 'ExiMiR', 'AffyRNADegradation', 'flowVS', 'sangerseqR', 'MicrobiotaProcess', 'hiAnnotator', 'ggmanh', 'cliProfiler', 'DEsubs', 'biomvRCNS', 'BayesSpace', 'cellbaseR', 'maigesPack', 'RVS', 'BRGenomics', 'HiCool', 'flowViz', 'rGREAT', 'msImpute', 'gtrellis', 'polyester', 'zFPKM', 'procoil', 'IgGeneUsage', 'Prostar', 'MetaNeighbor', 'flowMerge', 'sigFeature', 'm6Aboost', 'pageRank', 'spatialHeatmap', 'BioCor', 'OGRE', 'hipathia', 'DEFormats', 'MobilityTransformR', 'ORFhunteR', 'GOexpress', 'escape', 'LRBaseDbi', 'ATACCoGAPS', 'BioTIP', 'uncoverappLib', 'DFP', 'gwasurvivr', 'NormalyzerDE', 'LiquidAssociation', 'oncoscanR', 'BUMHMM', 'RNAinteract', 'rmspc', 'MatrixQCvis', 'openPrimeRui', 'distinct', 'phenoTest', 'divergence', 'CTDquerier', 'CoGAPS', 'DeconRNASeq', 'runibic', 'CNORfuzzy', 'satuRn', 'ncGTW', 'OncoScore', 'wpm', 'MSPrep', 'alabaster.mae', 'MMUPHin', 'segmenter', 'DNAshapeR', 'nondetects', 'metabCombiner', 'traviz', 'MDTS', 'sarks', 'CHETAH', 'rgsepd', 'PLPE', 'DifferentialRegulation', 'MBQN', 'ideal', 'tRanslatome', 'SISPA', 'BioNERO', 'phenomis', 'ViSEAGO', 'NCIgraph', 'Rcwl', 'oppar', 'regioneReloaded', 'CiteFuse', 'qsvaR', 'vulcan', 'ADaCGH2', 'systemPipeTools', 'exomeCopy', 'fishpond', 'rcellminer', 'microRNA', 'Pigengene', 'miQC', 'isobar', 'ReactomePA', 'AMARETTO', 'cycle', 'CellMapper', 'RcwlPipelines', 'STATegRa', 'BasicSTARRseq', 'SomaticSignatures', 'vidger', 'geneRecommender', 'GOstats', 'SeqArray', 'ScaledMatrix', 'pairedGSEA', 'RMassBank', 'EBarrays', 'RNAAgeCalc', 'DECIPHER', 'fcoex', 'maskBAD', 'AnnotationFilter', 'EasyCellType', 'ChromSCape', 'benchdamic', 'TDbasedUFE', 'SIAMCAT', 'rqt', 'katdetectr', 'deepSNV', 'sccomp', 'baySeq', 'marr', 'Anaquin', 'GreyListChIP', 'Risa', 'simpleSeg', 'mAPKL', 'PAST', 'SEtools', 'MetCirc', 'DMCFB', 'OMICsPCA', 'glmSparseNet', 'TargetDecoy', 'RBioFormats', 'BioNetStat', 'BioNAR', 'FeatSeekR', 'ConsensusClusterPlus', 'SPONGE', 'karyoploteR', 'MBECS', 'PhenStat', 'ENmix', 'CINdex', 'TPP'}\n"
     ]
    }
   ],
   "source": [
    "print(bioconductor['BiocGenerics'].transitive_dependants() - bioconductor['BiocGenerics'].direct_dependants())"
   ]
  },
  {
   "cell_type": "markdown",
   "metadata": {},
   "source": [
    "Lets pick one of them and check its dependencies, the packages on which it depends:"
   ]
  },
  {
   "cell_type": "code",
   "execution_count": 11,
   "metadata": {},
   "outputs": [
    {
     "data": {
      "text/plain": [
       "{'R', 'graphics', 'methods', 'stats', 'utils'}"
      ]
     },
     "execution_count": 11,
     "metadata": {},
     "output_type": "execute_result"
    }
   ],
   "source": [
    "bioconductor['BiocGenerics'].direct_dependencies()"
   ]
  },
  {
   "attachments": {},
   "cell_type": "markdown",
   "metadata": {},
   "source": [
    "MetaboCoreUtils is not a direct dependency but a transitive one:"
   ]
  },
  {
   "cell_type": "code",
   "execution_count": 12,
   "metadata": {},
   "outputs": [
    {
     "data": {
      "text/plain": [
       "{'BiocGenerics',\n",
       " 'MASS',\n",
       " 'MsCoreUtils',\n",
       " 'R',\n",
       " 'S4Vectors',\n",
       " 'clue',\n",
       " 'graphics',\n",
       " 'methods',\n",
       " 'stats',\n",
       " 'stats4',\n",
       " 'utils'}"
      ]
     },
     "execution_count": 12,
     "metadata": {},
     "output_type": "execute_result"
    }
   ],
   "source": [
    "bioconductor['MetaboCoreUtils'].transitive_dependencies()"
   ]
  },
  {
   "cell_type": "markdown",
   "metadata": {},
   "source": [
    "### 03 - Package metrics"
   ]
  },
  {
   "cell_type": "markdown",
   "metadata": {},
   "source": [
    "**REACH** of a package *u* is the number of transitive dependents of *u* plus 1."
   ]
  },
  {
   "cell_type": "code",
   "execution_count": 13,
   "metadata": {},
   "outputs": [
    {
     "data": {
      "text/plain": [
       "1705"
      ]
     },
     "execution_count": 13,
     "metadata": {},
     "output_type": "execute_result"
    }
   ],
   "source": [
    "bioconductor['BiocGenerics'].reach()"
   ]
  },
  {
   "cell_type": "markdown",
   "metadata": {},
   "source": [
    "REACH represents the number of packages in the network that could be affected by the occurrence of a defect in *u*, like a bug or a security vulnerability. A bug in networkx could affect 590 packages, including NetworkX.\n",
    "\n",
    "You may calculate REACH package by package, as in the previous example. However, this involves many redundant computations and is very slow. OLIVIA provides efficient methods to calculate REACH for all the nodes in the network."
   ]
  },
  {
   "cell_type": "code",
   "execution_count": 14,
   "metadata": {},
   "outputs": [
    {
     "name": "stdout",
     "output_type": "stream",
     "text": [
      "Computing Reach\n",
      "     Processing node: 3K      \n"
     ]
    }
   ],
   "source": [
    "from olivia.packagemetrics import Reach\n",
    "bioconductor_reach = bioconductor.get_metric(Reach)"
   ]
  },
  {
   "cell_type": "markdown",
   "metadata": {},
   "source": [
    "*OliviaModel.get_metric(...)* returns a *MetricStats* object with the results of the computation. *get_metric(...)* accepts as parameter classes implementing the *compute()* method, such as the ones in *olivia.packagemetrics*"
   ]
  },
  {
   "cell_type": "code",
   "execution_count": 15,
   "metadata": {},
   "outputs": [
    {
     "data": {
      "text/plain": [
       "<olivia.packagemetrics.MetricStats at 0x7f8c9d6f4880>"
      ]
     },
     "execution_count": 15,
     "metadata": {},
     "output_type": "execute_result"
    }
   ],
   "source": [
    "bioconductor_reach"
   ]
  },
  {
   "cell_type": "code",
   "execution_count": 16,
   "metadata": {},
   "outputs": [
    {
     "data": {
      "text/plain": [
       "1705"
      ]
     },
     "execution_count": 16,
     "metadata": {},
     "output_type": "execute_result"
    }
   ],
   "source": [
    "bioconductor_reach['BiocGenerics']"
   ]
  },
  {
   "cell_type": "markdown",
   "metadata": {},
   "source": [
    "Once calculated through *get_metric*, the *MetricStats* object is cached into the *OliviaNetwork* model. In this way, other complex algorithms that use large metric results are freed from managing each one on their own. \n",
    "\n",
    "So there is really no need to store the results into an independent variable like we did."
   ]
  },
  {
   "cell_type": "code",
   "execution_count": 17,
   "metadata": {},
   "outputs": [
    {
     "name": "stdout",
     "output_type": "stream",
     "text": [
      "Reach retrieved from metrics cache\n"
     ]
    }
   ],
   "source": [
    "bioconductor_reach = bioconductor.get_metric(Reach)"
   ]
  },
  {
   "cell_type": "code",
   "execution_count": 18,
   "metadata": {},
   "outputs": [
    {
     "name": "stdout",
     "output_type": "stream",
     "text": [
      "Reach retrieved from metrics cache\n"
     ]
    },
    {
     "data": {
      "text/plain": [
       "1705"
      ]
     },
     "execution_count": 18,
     "metadata": {},
     "output_type": "execute_result"
    }
   ],
   "source": [
    "bioconductor.get_metric(Reach)['BiocGenerics']"
   ]
  },
  {
   "cell_type": "markdown",
   "metadata": {},
   "source": [
    "The management of the cache is semi-automatic. You can request a value from a network-wide metric that has not yet been calculated and it will be computed and cached the first time:"
   ]
  },
  {
   "cell_type": "code",
   "execution_count": 19,
   "metadata": {},
   "outputs": [
    {
     "name": "stdout",
     "output_type": "stream",
     "text": [
      "Computing Impact\n",
      "     Processing node: 3K      \n",
      "CPU times: user 69.6 ms, sys: 498 µs, total: 70.1 ms\n",
      "Wall time: 396 ms\n"
     ]
    },
    {
     "data": {
      "text/plain": [
       "7357"
      ]
     },
     "execution_count": 19,
     "metadata": {},
     "output_type": "execute_result"
    }
   ],
   "source": [
    "from olivia.packagemetrics import Impact\n",
    "\n",
    "%time bioconductor.get_metric(Impact)['BiocGenerics']"
   ]
  },
  {
   "cell_type": "code",
   "execution_count": 20,
   "metadata": {},
   "outputs": [
    {
     "name": "stdout",
     "output_type": "stream",
     "text": [
      "Impact retrieved from metrics cache\n",
      "CPU times: user 1.31 ms, sys: 163 µs, total: 1.47 ms\n",
      "Wall time: 7 ms\n"
     ]
    },
    {
     "data": {
      "text/plain": [
       "7357"
      ]
     },
     "execution_count": 20,
     "metadata": {},
     "output_type": "execute_result"
    }
   ],
   "source": [
    "%time bioconductor.get_metric(Impact)['BiocGenerics']"
   ]
  },
  {
   "cell_type": "code",
   "execution_count": 21,
   "metadata": {},
   "outputs": [
    {
     "name": "stdout",
     "output_type": "stream",
     "text": [
      "Impact retrieved from metrics cache\n"
     ]
    },
    {
     "data": {
      "text/plain": [
       "1"
      ]
     },
     "execution_count": 21,
     "metadata": {},
     "output_type": "execute_result"
    }
   ],
   "source": [
    "bioconductor.get_metric(Impact)['BANDITS']"
   ]
  },
  {
   "cell_type": "code",
   "execution_count": 22,
   "metadata": {},
   "outputs": [
    {
     "name": "stdout",
     "output_type": "stream",
     "text": [
      "Impact retrieved from metrics cache\n"
     ]
    },
    {
     "data": {
      "text/plain": [
       "462"
      ]
     },
     "execution_count": 22,
     "metadata": {},
     "output_type": "execute_result"
    }
   ],
   "source": [
    "bioconductor.get_metric(Impact)['GenomicFeatures']"
   ]
  },
  {
   "cell_type": "markdown",
   "metadata": {},
   "source": [
    "By the way, **IMPACT** is an alternative way of measuring the effect of a defect appearing in the network. It corresponds to the number of \"links\" affected (the number of \"imports\" in Python terms), it could be a better measure of the effort required to recover the network. Technically speaking it is the number of arcs in the graph induced by a node and its transitive dependents.\n",
    "\n",
    "On the other hand, **SURFACE** is the size of the set of transitive dependencies plus 1. SURFACE(*u*) is the number of packages whose defects could affect *u*. High SURFACE packages are more vulnerable to random failures."
   ]
  },
  {
   "cell_type": "code",
   "execution_count": 23,
   "metadata": {},
   "outputs": [
    {
     "name": "stdout",
     "output_type": "stream",
     "text": [
      "Computing Surface\n",
      "     Processing node: 0K      \n"
     ]
    },
    {
     "data": {
      "text/plain": [
       "481"
      ]
     },
     "execution_count": 23,
     "metadata": {},
     "output_type": "execute_result"
    }
   ],
   "source": [
    "from olivia.packagemetrics import Surface\n",
    "\n",
    "bioconductor.get_metric(Surface)['BiocGenerics']"
   ]
  },
  {
   "cell_type": "markdown",
   "metadata": {},
   "source": [
    "![Package metrics](docs/img/pmetrics.png \"Olivia package metrics\")\n",
    "<br>"
   ]
  },
  {
   "cell_type": "markdown",
   "metadata": {},
   "source": [
    "*MetricStats* is not just about storing values. It also has some basic methods that are useful for working with metrics. For example, you can get top and bottom packages according to the metric value:"
   ]
  },
  {
   "cell_type": "code",
   "execution_count": 24,
   "metadata": {},
   "outputs": [
    {
     "data": {
      "text/plain": [
       "[('R', 2109),\n",
       " ('stats', 1997),\n",
       " ('methods', 1982),\n",
       " ('utils', 1957),\n",
       " ('graphics', 1860),\n",
       " ('BiocGenerics', 1705),\n",
       " ('stats4', 1533),\n",
       " ('grDevices', 1490),\n",
       " ('S4Vectors', 1462),\n",
       " ('Biobase', 1437)]"
      ]
     },
     "execution_count": 24,
     "metadata": {},
     "output_type": "execute_result"
    }
   ],
   "source": [
    "bioconductor_reach.top(10)"
   ]
  },
  {
   "cell_type": "code",
   "execution_count": 25,
   "metadata": {},
   "outputs": [
    {
     "data": {
      "text/plain": [
       "[('metaseqR2', 1)]"
      ]
     },
     "execution_count": 25,
     "metadata": {},
     "output_type": "execute_result"
    }
   ],
   "source": [
    "bioconductor_reach.bottom()"
   ]
  },
  {
   "cell_type": "code",
   "execution_count": 26,
   "metadata": {},
   "outputs": [
    {
     "name": "stdout",
     "output_type": "stream",
     "text": [
      "Surface retrieved from metrics cache\n"
     ]
    },
    {
     "data": {
      "text/plain": [
       "[('R', 1796),\n",
       " ('methods', 1493),\n",
       " ('stats', 1294),\n",
       " ('utils', 1064),\n",
       " ('ggplot2', 718),\n",
       " ('S4Vectors', 662),\n",
       " ('graphics', 640),\n",
       " ('grDevices', 594),\n",
       " ('GenomicRanges', 540),\n",
       " ('IRanges', 516)]"
      ]
     },
     "execution_count": 26,
     "metadata": {},
     "output_type": "execute_result"
    }
   ],
   "source": [
    "bioconductor.get_metric(Surface).top(10)"
   ]
  },
  {
   "cell_type": "markdown",
   "metadata": {},
   "source": [
    "As *MetricStats* implements arithmetic operators, you may define compound metrics or other operations like corrections or normalization:"
   ]
  },
  {
   "cell_type": "code",
   "execution_count": 27,
   "metadata": {},
   "outputs": [
    {
     "name": "stdout",
     "output_type": "stream",
     "text": [
      "Reach retrieved from metrics cache\n"
     ]
    },
    {
     "data": {
      "text/plain": [
       "[('R', 0.6010259333143345),\n",
       " ('stats', 0.5691080079794814),\n",
       " ('methods', 0.5648332858364207),\n",
       " ('utils', 0.5577087489313195),\n",
       " ('graphics', 0.5300655457395269),\n",
       " ('BiocGenerics', 0.48589341692789967),\n",
       " ('stats4', 0.43687660302080367),\n",
       " ('grDevices', 0.42462239954402964),\n",
       " ('S4Vectors', 0.41664291821031635),\n",
       " ('Biobase', 0.4095183813052152)]"
      ]
     },
     "execution_count": 27,
     "metadata": {},
     "output_type": "execute_result"
    }
   ],
   "source": [
    "normalized_reach = bioconductor.get_metric(Reach)/len(bioconductor)\n",
    "normalized_reach.top(10)"
   ]
  },
  {
   "cell_type": "markdown",
   "metadata": {},
   "source": [
    "and there we can see that a failure in *six* could affect more than 40% of the packets in the network.\n",
    "\n",
    "Likewise, if we normalize SURFACE in relation to the size of the network, we obtain the probability that a uniformly random failure will affect each package:\n"
   ]
  },
  {
   "cell_type": "code",
   "execution_count": 28,
   "metadata": {},
   "outputs": [
    {
     "name": "stdout",
     "output_type": "stream",
     "text": [
      "Surface retrieved from metrics cache\n"
     ]
    },
    {
     "data": {
      "text/plain": [
       "[('R', 0.5118267312624679),\n",
       " ('methods', 0.42547734397264175),\n",
       " ('stats', 0.3687660302080365),\n",
       " ('utils', 0.30322029068110573),\n",
       " ('ggplot2', 0.20461669991450557),\n",
       " ('S4Vectors', 0.18865773724707893),\n",
       " ('graphics', 0.1823881447705899),\n",
       " ('grDevices', 0.16927899686520376),\n",
       " ('GenomicRanges', 0.15388999715018523),\n",
       " ('IRanges', 0.14705044172128812)]"
      ]
     },
     "execution_count": 28,
     "metadata": {},
     "output_type": "execute_result"
    }
   ],
   "source": [
    "(bioconductor.get_metric(Surface)/len(bioconductor)).top(10)"
   ]
  },
  {
   "cell_type": "markdown",
   "metadata": {},
   "source": [
    "Some examples of compound metrics:"
   ]
  },
  {
   "cell_type": "code",
   "execution_count": 29,
   "metadata": {},
   "outputs": [
    {
     "name": "stdout",
     "output_type": "stream",
     "text": [
      "Computing Dependents Count\n",
      "DependentsCount retrieved from metrics cache\n"
     ]
    },
    {
     "data": {
      "text/plain": [
       "[('R', 3193116.4110936164),\n",
       " ('methods', 2202046.240389712),\n",
       " ('stats', 1651043.3692013395),\n",
       " ('utils', 1112875.8798881448),\n",
       " ('ggplot2', 502580.78726916516)]"
      ]
     },
     "execution_count": 29,
     "metadata": {},
     "output_type": "execute_result"
    }
   ],
   "source": [
    "from olivia.packagemetrics import DependentsCount\n",
    "\n",
    "mean_degree = bioconductor.get_metric(DependentsCount).values.mean()\n",
    "degree_divergence = (bioconductor.get_metric(DependentsCount)-mean_degree)**2\n",
    "degree_divergence.top(5)"
   ]
  },
  {
   "cell_type": "code",
   "execution_count": 30,
   "metadata": {},
   "outputs": [
    {
     "name": "stdout",
     "output_type": "stream",
     "text": [
      "Impact retrieved from metrics cache\n",
      "Reach retrieved from metrics cache\n"
     ]
    },
    {
     "data": {
      "text/plain": [
       "[('methods', 5.011604439959637),\n",
       " ('R', 4.87624466571835),\n",
       " ('stats', 4.815723585378067),\n",
       " ('utils', 4.7884517118037815),\n",
       " ('graphics', 4.51505376344086)]"
      ]
     },
     "execution_count": 30,
     "metadata": {},
     "output_type": "execute_result"
    }
   ],
   "source": [
    "# Impact / Reach ratio\n",
    "(bioconductor.get_metric(Impact)/bioconductor.get_metric(Reach)).top(5)"
   ]
  }
 ],
 "metadata": {
  "kernelspec": {
   "display_name": "Python 3",
   "language": "python",
   "name": "python3"
  },
  "language_info": {
   "codemirror_mode": {
    "name": "ipython",
    "version": 3
   },
   "file_extension": ".py",
   "mimetype": "text/x-python",
   "name": "python",
   "nbconvert_exporter": "python",
   "pygments_lexer": "ipython3",
   "version": "3.9.14"
  }
 },
 "nbformat": 4,
 "nbformat_minor": 4
}
