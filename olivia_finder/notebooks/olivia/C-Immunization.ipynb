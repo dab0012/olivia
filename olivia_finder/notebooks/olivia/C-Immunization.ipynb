{
 "cells": [
  {
   "attachments": {},
   "cell_type": "markdown",
   "metadata": {},
   "source": [
    "# OLIVIA\n",
    "**Open-source Library Indexes Vulnerability Identification and Analysis**\n",
    "\n",
    "The use of centralized library repositories to reduce development times and costs is universal, in virtually all languages and types of software projects. Due to the transitivity of dependencies, the appearance of a single defect in the repository can have extensive and difficult-to-predict effects on the ecosystem. These defects cause functional errors or performance or security problems. The risk is difficult to grasp for developers, who only explicitly import a small part of the dependencies.\n",
    "\n",
    "OLVIA uses an approach based on the vulnerability of the dependency network of software packages, which measures how sensitive the repository is to the random introduction of defects. The goals of the model are  to contribute to the understanding of propagation mechanisms of software defects and to study feasible protection strategies. This can benefit multiple parties:\n",
    "\n",
    "* **Centralised package managers**, to establish policies and manual or automatic control processes that improve the security and stability of the repositories.\n",
    "* **Software developers** in general, to assess the different risks introduced by the dependencies used in their projects, and **package developers** in particular to understand their responsibility on the ecosystem.\n",
    "* Developers of **continuous quality tools**, to define the concept of vulnerability based on the modeling of the network of package dependencies.\n",
    "---\n",
    "\n",
    "**Author**: Daniel Setó Rey\n",
    "\n",
    "https://github.com/dsr0018/olivia\n",
    "\n",
    "**License**: Olivia and this notebook are published under a MIT [license](https://github.com/dsr0018/olivia/blob/master/LICENSE). The information of dependencies has been obtained from the libraries.io [data snapshots](https://libraries.io/data) (by Tidelift).\n",
    "\n",
    "***\n",
    "*This notebook is part of a user guide series that cover in detail the operation of the library.\n",
    "In this case, we show how to find sets of packages to protect, with the goal of minimizing the vulnerabilty of the network.*\n"
   ]
  },
  {
   "attachments": {},
   "cell_type": "markdown",
   "metadata": {},
   "source": [
    "\n",
    "## C - Immunization\n",
    "[01 - Immunization Delta](#01---Immunization-Delta)&ensp;|&ensp;[02 - Subcritical networks](#02---Selecting-Immunization-targets---Subcritical-networks)&ensp;|&ensp;[03 - Supercritical networks](#03---Selecting-Immunization-targets---Supercritical-networks)&ensp;|&ensp;[03 - Advanced](#03---Selecting-Immunization-targets---Advanced)\n",
    "\n",
    "The vulnerability of package repositories can be lowered if we protect (immunize) certain packages against failure and propagation of failure. For example, we could subject a package or set of packages to very strict quality controls, security audits or even contractually shield certain non-functional requirements, such as the type of license. All this comes at a cost and it would be good to know which package sets are most cost-effective for reducing the vulnerability.\n",
    "\n",
    "### 01 - Immunization Delta\n",
    "Immunization Delta is the decrease in vulnerability of a network after immunizing a given set of packages. Take for example the following figure, which shows three simple network models and possible immunization sets (black nodes). Under each option the REACH and IMPACT-vulnerability and the corresponding immunization delta are shown."
   ]
  },
  {
   "attachments": {},
   "cell_type": "markdown",
   "metadata": {},
   "source": [
    "<br>\n",
    "\n",
    "![Inmunization](docs/img/inmunizacion.png \"Simple inmunization examples\")  \n",
    "\n",
    "<br>"
   ]
  },
  {
   "cell_type": "code",
   "execution_count": 63,
   "metadata": {},
   "outputs": [
    {
     "name": "stdout",
     "output_type": "stream",
     "text": [
      "Requirement already satisfied: intbitset==2.4.0 in /home/dnllns/.pyenv/versions/3.8.16/envs/.venv_3816/lib/python3.8/site-packages (from -r ../../../olivia/requirements.txt (line 1)) (2.4.0)\n",
      "Requirement already satisfied: numpy==1.18.5 in /home/dnllns/.pyenv/versions/3.8.16/envs/.venv_3816/lib/python3.8/site-packages (from -r ../../../olivia/requirements.txt (line 2)) (1.18.5)\n",
      "Requirement already satisfied: networkx==2.4 in /home/dnllns/.pyenv/versions/3.8.16/envs/.venv_3816/lib/python3.8/site-packages (from -r ../../../olivia/requirements.txt (line 3)) (2.4)\n",
      "Requirement already satisfied: pandas==1.1.5 in /home/dnllns/.pyenv/versions/3.8.16/envs/.venv_3816/lib/python3.8/site-packages (from -r ../../../olivia/requirements.txt (line 4)) (1.1.5)\n",
      "Requirement already satisfied: matplotlib==3.2.2 in /home/dnllns/.pyenv/versions/3.8.16/envs/.venv_3816/lib/python3.8/site-packages (from -r ../../../olivia/requirements.txt (line 5)) (3.2.2)\n",
      "Requirement already satisfied: six in /home/dnllns/.pyenv/versions/3.8.16/envs/.venv_3816/lib/python3.8/site-packages (from intbitset==2.4.0->-r ../../../olivia/requirements.txt (line 1)) (1.16.0)\n",
      "Requirement already satisfied: decorator>=4.3.0 in /home/dnllns/.pyenv/versions/3.8.16/envs/.venv_3816/lib/python3.8/site-packages (from networkx==2.4->-r ../../../olivia/requirements.txt (line 3)) (5.1.1)\n",
      "Requirement already satisfied: python-dateutil>=2.7.3 in /home/dnllns/.pyenv/versions/3.8.16/envs/.venv_3816/lib/python3.8/site-packages (from pandas==1.1.5->-r ../../../olivia/requirements.txt (line 4)) (2.8.2)\n",
      "Requirement already satisfied: pytz>=2017.2 in /home/dnllns/.pyenv/versions/3.8.16/envs/.venv_3816/lib/python3.8/site-packages (from pandas==1.1.5->-r ../../../olivia/requirements.txt (line 4)) (2023.3)\n",
      "Requirement already satisfied: cycler>=0.10 in /home/dnllns/.pyenv/versions/3.8.16/envs/.venv_3816/lib/python3.8/site-packages (from matplotlib==3.2.2->-r ../../../olivia/requirements.txt (line 5)) (0.11.0)\n",
      "Requirement already satisfied: kiwisolver>=1.0.1 in /home/dnllns/.pyenv/versions/3.8.16/envs/.venv_3816/lib/python3.8/site-packages (from matplotlib==3.2.2->-r ../../../olivia/requirements.txt (line 5)) (1.4.4)\n",
      "Requirement already satisfied: pyparsing!=2.0.4,!=2.1.2,!=2.1.6,>=2.0.1 in /home/dnllns/.pyenv/versions/3.8.16/envs/.venv_3816/lib/python3.8/site-packages (from matplotlib==3.2.2->-r ../../../olivia/requirements.txt (line 5)) (3.0.9)\n"
     ]
    }
   ],
   "source": [
    "import sys\n",
    "sys.path.append('../../../olivia/')\n",
    "\n",
    "!pip install -r ../../../olivia/requirements.txt"
   ]
  },
  {
   "cell_type": "code",
   "execution_count": 64,
   "metadata": {},
   "outputs": [],
   "source": [
    "from olivia.model import OliviaNetwork\n",
    "from olivia.immunization import *\n",
    "\n",
    "bioconductor = OliviaNetwork(r'../results/olivia_prebuilts/bioconductor.olv')"
   ]
  },
  {
   "cell_type": "code",
   "execution_count": 65,
   "metadata": {},
   "outputs": [
    {
     "name": "stdout",
     "output_type": "stream",
     "text": [
      "Computing Reach\n",
      "     Processing node: 3K      \n"
     ]
    },
    {
     "data": {
      "text/plain": [
       "24.817326873753206"
      ]
     },
     "execution_count": 65,
     "metadata": {},
     "output_type": "execute_result"
    }
   ],
   "source": [
    "failure_vulnerability(bioconductor)"
   ]
  },
  {
   "cell_type": "code",
   "execution_count": 66,
   "metadata": {},
   "outputs": [
    {
     "name": "stdout",
     "output_type": "stream",
     "text": [
      "Reach retrieved from metrics cache\n",
      "Building Olivia Model\n",
      "     Finding strongly connected components (SCCs)...\n",
      "     Building condensation network...\n",
      "     Adding structural meta-data...\n",
      "     Done\n",
      "Computing Reach\n",
      "     Processing node: 3K      \n"
     ]
    },
    {
     "data": {
      "text/plain": [
       "1.1658592191507537"
      ]
     },
     "execution_count": 66,
     "metadata": {},
     "output_type": "execute_result"
    }
   ],
   "source": [
    "immunization_delta(bioconductor,{'methods','BiocGenerics'})"
   ]
  },
  {
   "attachments": {},
   "cell_type": "markdown",
   "metadata": {},
   "source": [
    "By immunizing this set of three well known Python packages, we reduce the REACH-vulnerability by 0.20, i.e we reduce  by 0.20 the expected amount of potentially affected packages by a random failure (from 15.73 to 15.53). It is not a drastic reduction, but it is not bad either, for working only on three packages of about 50000.\n",
    "\n",
    "The default algorithm of *immunizacion_delta(...)* is called *'network'*. It computes the cost function network-wide, immunizes the target set of packages provided, rebuilds the model, computes the cost function again and returns the diference in vulnerability. In the previous code example, you may notice that the first calculation was retrieved from the model's cache, as we had computed REACH just before by calling *failure_vulnerability(pypi)*.\n",
    "\n",
    "This does not seem to be a particularly efficient method and indeed it is not. However, it is not clear that a better technique exists for calculating the immunization delta of arbitrary sets and cost functions.\n",
    "\n",
    "\n",
    "For the particular case of the REACH cost function, OLIVIA provides another algorithm for the immunization delta computation, *'analytic'*. In this case, the entire network is not processed. A mathematical formulation that only considers the packages transitively related to the target set is used to analytically calculate the vulnerability reduction associated with its immunization. This can be way faster for certain type of immunization sets, but in large complex networks it is often not the case, and the *'network'* method is time-bound and better.\n",
    "\n",
    "The two methods are exact but there may be small differences due to rounding."
   ]
  },
  {
   "cell_type": "code",
   "execution_count": 67,
   "metadata": {},
   "outputs": [],
   "source": [
    "target = {'methods','BiocGenerics'}"
   ]
  },
  {
   "cell_type": "code",
   "execution_count": 68,
   "metadata": {},
   "outputs": [
    {
     "name": "stdout",
     "output_type": "stream",
     "text": [
      "Reach retrieved from metrics cache\n",
      "Building Olivia Model\n",
      "     Finding strongly connected components (SCCs)...\n",
      "     Building condensation network...\n",
      "     Adding structural meta-data...\n",
      "     Done\n",
      "Computing Reach\n",
      "     Processing node: 3K      \n",
      "CPU times: user 309 ms, sys: 3.21 ms, total: 313 ms\n",
      "Wall time: 317 ms\n"
     ]
    },
    {
     "data": {
      "text/plain": [
       "1.1658592191507537"
      ]
     },
     "execution_count": 68,
     "metadata": {},
     "output_type": "execute_result"
    }
   ],
   "source": [
    "%time immunization_delta(bioconductor, target)"
   ]
  },
  {
   "cell_type": "code",
   "execution_count": 69,
   "metadata": {},
   "outputs": [
    {
     "name": "stdout",
     "output_type": "stream",
     "text": [
      "CPU times: user 55.7 ms, sys: 0 ns, total: 55.7 ms\n",
      "Wall time: 54.7 ms\n"
     ]
    },
    {
     "data": {
      "text/plain": [
       "1.1658592191507553"
      ]
     },
     "execution_count": 69,
     "metadata": {},
     "output_type": "execute_result"
    }
   ],
   "source": [
    "%time immunization_delta(bioconductor, target, algorithm='analytic')"
   ]
  },
  {
   "attachments": {},
   "cell_type": "markdown",
   "metadata": {},
   "source": [
    "Of course you may be interested on computing immunizacion delta according to another cost metric:"
   ]
  },
  {
   "cell_type": "code",
   "execution_count": 70,
   "metadata": {},
   "outputs": [
    {
     "name": "stdout",
     "output_type": "stream",
     "text": [
      "Computing Impact\n",
      "     Processing node: 3K      \n",
      "Building Olivia Model\n",
      "     Finding strongly connected components (SCCs)...\n",
      "     Building condensation network...\n",
      "     Adding structural meta-data...\n",
      "     Done\n",
      "Computing Impact\n",
      "     Processing node: 3K      \n"
     ]
    },
    {
     "data": {
      "text/plain": [
       "6.757195782274152"
      ]
     },
     "execution_count": 70,
     "metadata": {},
     "output_type": "execute_result"
    }
   ],
   "source": [
    "immunization_delta(\n",
    "    bioconductor,\n",
    "    {'methods','BiocGenerics'}, \n",
    "    cost_metric = Impact\n",
    ")"
   ]
  },
  {
   "attachments": {},
   "cell_type": "markdown",
   "metadata": {},
   "source": [
    "Notice how we needed to compute IMPACT twice. However the values for the original network are cached and will be reused in subsequent queries:"
   ]
  },
  {
   "cell_type": "code",
   "execution_count": 71,
   "metadata": {},
   "outputs": [
    {
     "name": "stdout",
     "output_type": "stream",
     "text": [
      "Impact retrieved from metrics cache\n",
      "Building Olivia Model\n",
      "     Finding strongly connected components (SCCs)...\n",
      "     Building condensation network...\n",
      "     Adding structural meta-data...\n",
      "     Done\n",
      "Computing Impact\n",
      "     Processing node: 3K      \n"
     ]
    },
    {
     "data": {
      "text/plain": [
       "0.022513536620117236"
      ]
     },
     "execution_count": 71,
     "metadata": {},
     "output_type": "execute_result"
    }
   ],
   "source": [
    "immunization_delta(bioconductor,{'a4'}, cost_metric = Impact)"
   ]
  },
  {
   "attachments": {},
   "cell_type": "markdown",
   "metadata": {},
   "source": [
    "### 02 - Selecting Immunization targets - Subcritical networks\n",
    "OLIVIA includes tools to help locate good immunization sets in package dependency networks. \n",
    "\n",
    "Subcritical networks do not have many dependency cycles, and the largest strongly connected component (SCC) is small, logarithmic in relation to the size of the repository. PyPI is subcritical.\n",
    "\n",
    "From here on we will deal with REACH-vulnerability unless we note otherwise.\n",
    "\n",
    "¿How effective is to immunize random packages?"
   ]
  },
  {
   "cell_type": "code",
   "execution_count": 72,
   "metadata": {},
   "outputs": [
    {
     "name": "stdout",
     "output_type": "stream",
     "text": [
      "Reach retrieved from metrics cache\n"
     ]
    },
    {
     "data": {
      "text/plain": [
       "24.817326873753206"
      ]
     },
     "execution_count": 72,
     "metadata": {},
     "output_type": "execute_result"
    }
   ],
   "source": [
    "failure_vulnerability(bioconductor)"
   ]
  },
  {
   "cell_type": "code",
   "execution_count": 73,
   "metadata": {},
   "outputs": [
    {
     "data": {
      "text/plain": [
       "0.25021373610715303"
      ]
     },
     "execution_count": 73,
     "metadata": {},
     "output_type": "execute_result"
    }
   ],
   "source": [
    "immunization_delta(bioconductor, iset_random(bioconductor, 20), algorithm='analytic')"
   ]
  },
  {
   "attachments": {},
   "cell_type": "markdown",
   "metadata": {},
   "source": [
    "*iset_...* methods from *olivia.immunization* produce sets of packages intended as immunization targets. *iset_random(...)* is really more like a baseline tool, selecting uniformly arbitrary ones. The immunization of 20 random packages does not seem to do much for decreasing the vulnerability (-0.0066 out of 15.73 in this case)"
   ]
  },
  {
   "cell_type": "code",
   "execution_count": 74,
   "metadata": {},
   "outputs": [
    {
     "data": {
      "text/plain": [
       "15.898261612995155"
      ]
     },
     "execution_count": 74,
     "metadata": {},
     "output_type": "execute_result"
    }
   ],
   "source": [
    "immunization_delta(bioconductor, iset_random(bioconductor, 1000), algorithm='analytic')"
   ]
  },
  {
   "attachments": {},
   "cell_type": "markdown",
   "metadata": {},
   "source": [
    "Although appreciable, the immunization of 1000 random packages does not look spectacular either. *iset_random(...)* also provides an option to make an indirect selection, that is select randomly chosen dependencies of randomly chosen packages. This is a well known immunization tactic from Network Science, often used to exemplify advanced vaccination strategies. In this case it is also much better that pure random selection."
   ]
  },
  {
   "cell_type": "code",
   "execution_count": 75,
   "metadata": {},
   "outputs": [
    {
     "data": {
      "text/plain": [
       "4.048161869478484"
      ]
     },
     "execution_count": 75,
     "metadata": {},
     "output_type": "execute_result"
    }
   ],
   "source": [
    "immunization_delta(bioconductor, iset_random(bioconductor, 20, indirect=True), algorithm='analytic')"
   ]
  },
  {
   "attachments": {},
   "cell_type": "markdown",
   "metadata": {},
   "source": [
    "If we look at it, this indirect strategy is in fact a probabilistic approach to selection based on the number of dependents. Here we can just try the exact approach:"
   ]
  },
  {
   "cell_type": "code",
   "execution_count": 76,
   "metadata": {},
   "outputs": [
    {
     "name": "stdout",
     "output_type": "stream",
     "text": [
      "Computing Dependents Count\n"
     ]
    },
    {
     "data": {
      "text/plain": [
       "[('R', 1795),\n",
       " ('methods', 1492),\n",
       " ('stats', 1293),\n",
       " ('utils', 1063),\n",
       " ('ggplot2', 717),\n",
       " ('S4Vectors', 661),\n",
       " ('graphics', 639),\n",
       " ('grDevices', 593),\n",
       " ('GenomicRanges', 539),\n",
       " ('IRanges', 515),\n",
       " ('SummarizedExperiment', 509),\n",
       " ('BiocGenerics', 480),\n",
       " ('Biobase', 459),\n",
       " ('dplyr', 433),\n",
       " ('BiocParallel', 323),\n",
       " ('GenomeInfoDb', 308),\n",
       " ('data.table', 298),\n",
       " ('Biostrings', 291),\n",
       " ('parallel', 270),\n",
       " ('Matrix', 267)]"
      ]
     },
     "execution_count": 76,
     "metadata": {},
     "output_type": "execute_result"
    }
   ],
   "source": [
    "target = bioconductor.get_metric(DependentsCount).top(20)\n",
    "target"
   ]
  },
  {
   "cell_type": "code",
   "execution_count": 77,
   "metadata": {},
   "outputs": [
    {
     "data": {
      "text/plain": [
       "10.490738102023368"
      ]
     },
     "execution_count": 77,
     "metadata": {},
     "output_type": "execute_result"
    }
   ],
   "source": [
    "immunization_delta(bioconductor, {l[0] for l in target}, algorithm='analytic')"
   ]
  },
  {
   "attachments": {},
   "cell_type": "markdown",
   "metadata": {},
   "source": [
    "*iset_naive_ranking(...)* is a shortcut to select a set of nodes based simply on a ranking over a metricStats object:"
   ]
  },
  {
   "cell_type": "code",
   "execution_count": 78,
   "metadata": {},
   "outputs": [
    {
     "name": "stdout",
     "output_type": "stream",
     "text": [
      "DependentsCount retrieved from metrics cache\n"
     ]
    },
    {
     "data": {
      "text/plain": [
       "10.490738102023368"
      ]
     },
     "execution_count": 78,
     "metadata": {},
     "output_type": "execute_result"
    }
   ],
   "source": [
    "immunization_delta(bioconductor, \n",
    "                   iset_naive_ranking(20, bioconductor.get_metric(DependentsCount)),\n",
    "                   algorithm='analytic')"
   ]
  },
  {
   "attachments": {},
   "cell_type": "markdown",
   "metadata": {},
   "source": [
    "Choosing the 20 packages with higher count of direct dependants is even better that indirect selection. Now we achieve a vulnerability reduction of near a third, acting only on 20 out of 50.000 packages.\n",
    "\n",
    "If we want to reduce REACH-vulnerability, a simple idea to consider could be to immunize the nodes with the greatest REACH value. It is somewhat surprising that this strategy is worse than the dependants count based one:"
   ]
  },
  {
   "cell_type": "code",
   "execution_count": 79,
   "metadata": {},
   "outputs": [
    {
     "name": "stdout",
     "output_type": "stream",
     "text": [
      "Reach retrieved from metrics cache\n"
     ]
    },
    {
     "data": {
      "text/plain": [
       "8.719293245939014"
      ]
     },
     "execution_count": 79,
     "metadata": {},
     "output_type": "execute_result"
    }
   ],
   "source": [
    "immunization_delta(bioconductor, \n",
    "                   iset_naive_ranking(20, bioconductor.get_metric(Reach)),\n",
    "                   algorithm='analytic')"
   ]
  },
  {
   "attachments": {},
   "cell_type": "markdown",
   "metadata": {},
   "source": [
    "In addition to ranking methods, OLIVIA provides some specific techniques to find good targets. *iset_delta_set_reach(...)* computes a set of nodes that meets certain theoretical constraints on REACH and SURFACE values to ensure that it contains the best single node to immunize from the network. It is possible that the set contains other good targets.\n",
    "\n",
    "The size of the delta set is given by the algorithm. For PyPI it is really small, of only 18 packages."
   ]
  },
  {
   "cell_type": "code",
   "execution_count": 80,
   "metadata": {},
   "outputs": [
    {
     "name": "stdout",
     "output_type": "stream",
     "text": [
      "Reach retrieved from metrics cache\n",
      "Computing Surface\n",
      "     Processing node: 0K      \n",
      "Reach retrieved from metrics cache\n",
      "Surface retrieved from metrics cache\n",
      "{'Biostrings', 'HDF5Array', 'BiocParallel', 'GenomeInfoDb', 'clusterProfiler', 'genefilter', 'ensembldb', 'BiocIO', 'IRanges', 'DESeq2', 'GenomicAlignments', 'Rsamtools', 'biomaRt', 'GenomicFeatures', 'BiocGenerics', 'limma', 'Biobase', 'biovizBase', 'scuttle', 'KEGGREST', 'VariantAnnotation', 'MatrixGenerics', 'bumphunter', 'DelayedMatrixStats', 'S4Vectors', 'XVector', 'Gviz', 'BSgenome', 'AnnotationHub', 'AnnotationDbi', 'GSEABase', 'SingleCellExperiment', 'annotate', 'rtracklayer', 'BiocFileCache', 'minfi', 'GenomicRanges', 'DelayedArray', 'enrichplot', 'SummarizedExperiment'}\n"
     ]
    }
   ],
   "source": [
    "delta_set = iset_delta_set_reach(bioconductor)\n",
    "print(delta_set)"
   ]
  },
  {
   "cell_type": "code",
   "execution_count": 81,
   "metadata": {},
   "outputs": [
    {
     "data": {
      "text/plain": [
       "13.260758050726702"
      ]
     },
     "execution_count": 81,
     "metadata": {},
     "output_type": "execute_result"
    }
   ],
   "source": [
    "immunization_delta(bioconductor, delta_set, algorithm='analytic')"
   ]
  },
  {
   "attachments": {},
   "cell_type": "markdown",
   "metadata": {},
   "source": [
    "This is our best result so far, a 6.40 out of 15.73 (41%) decrease in vulnerability by immunizing 18 packages."
   ]
  },
  {
   "attachments": {},
   "cell_type": "markdown",
   "metadata": {},
   "source": [
    "Of course we can also rank the results within the delta set for finding smaller sets:"
   ]
  },
  {
   "cell_type": "code",
   "execution_count": 82,
   "metadata": {},
   "outputs": [
    {
     "name": "stdout",
     "output_type": "stream",
     "text": [
      "DependentsCount retrieved from metrics cache\n",
      "{'GenomicRanges', 'SummarizedExperiment', 'S4Vectors', 'IRanges'}\n"
     ]
    },
    {
     "data": {
      "text/plain": [
       "2.7771444856084355"
      ]
     },
     "execution_count": 82,
     "metadata": {},
     "output_type": "execute_result"
    }
   ],
   "source": [
    "smaller = iset_naive_ranking(4, bioconductor.get_metric(DependentsCount), subset = delta_set)\n",
    "print(smaller)\n",
    "immunization_delta(bioconductor, smaller, algorithm='analytic')"
   ]
  },
  {
   "attachments": {},
   "cell_type": "markdown",
   "metadata": {},
   "source": [
    "### 03 - Selecting Immunization targets - Supercritical networks"
   ]
  },
  {
   "attachments": {},
   "cell_type": "markdown",
   "metadata": {},
   "source": [
    "Supercritical packet dependency networks are those that contain a strongly connected (SCC) component of significant size. Maven is one of them."
   ]
  },
  {
   "cell_type": "code",
   "execution_count": 83,
   "metadata": {},
   "outputs": [
    {
     "ename": "FileNotFoundError",
     "evalue": "[Errno 2] No such file or directory: 'data/maven-2020-01-12.olv'",
     "output_type": "error",
     "traceback": [
      "\u001b[0;31m---------------------------------------------------------------------------\u001b[0m",
      "\u001b[0;31mFileNotFoundError\u001b[0m                         Traceback (most recent call last)",
      "Cell \u001b[0;32mIn[83], line 1\u001b[0m\n\u001b[0;32m----> 1\u001b[0m maven \u001b[39m=\u001b[39m OliviaNetwork(\u001b[39mr\u001b[39;49m\u001b[39m'\u001b[39;49m\u001b[39mdata/maven-2020-01-12.olv\u001b[39;49m\u001b[39m'\u001b[39;49m)\n",
      "File \u001b[0;32m~/Documentos/repositorios/olivia-finder/olivia_finder/notebooks/olivia/../../../olivia/olivia/model.py:106\u001b[0m, in \u001b[0;36mOliviaNetwork.__init__\u001b[0;34m(self, file)\u001b[0m\n\u001b[1;32m    104\u001b[0m     \u001b[39mself\u001b[39m\u001b[39m.\u001b[39m_network \u001b[39m=\u001b[39m {}\n\u001b[1;32m    105\u001b[0m \u001b[39melse\u001b[39;00m:\n\u001b[0;32m--> 106\u001b[0m     \u001b[39mself\u001b[39;49m\u001b[39m.\u001b[39;49mload(file)\n",
      "File \u001b[0;32m~/Documentos/repositorios/olivia-finder/olivia_finder/notebooks/olivia/../../../olivia/olivia/model.py:122\u001b[0m, in \u001b[0;36mOliviaNetwork.load\u001b[0;34m(self, file)\u001b[0m\n\u001b[1;32m    108\u001b[0m \u001b[39mdef\u001b[39;00m \u001b[39mload\u001b[39m(\u001b[39mself\u001b[39m, file):\n\u001b[1;32m    109\u001b[0m \u001b[39m    \u001b[39m\u001b[39m\"\"\"\u001b[39;00m\n\u001b[1;32m    110\u001b[0m \u001b[39m    Load an OliviaNetwork model from file.\u001b[39;00m\n\u001b[1;32m    111\u001b[0m \n\u001b[0;32m   (...)\u001b[0m\n\u001b[1;32m    120\u001b[0m \n\u001b[1;32m    121\u001b[0m \u001b[39m    \"\"\"\u001b[39;00m\n\u001b[0;32m--> 122\u001b[0m     \u001b[39mwith\u001b[39;00m gzip\u001b[39m.\u001b[39;49mGzipFile(file, \u001b[39m'\u001b[39;49m\u001b[39mrb\u001b[39;49m\u001b[39m'\u001b[39;49m) \u001b[39mas\u001b[39;00m f:\n\u001b[1;32m    123\u001b[0m         load_dict \u001b[39m=\u001b[39m pickle\u001b[39m.\u001b[39mload(f)\n\u001b[1;32m    125\u001b[0m     \u001b[39mself\u001b[39m\u001b[39m.\u001b[39m_network \u001b[39m=\u001b[39m nx\u001b[39m.\u001b[39mfrom_dict_of_lists(load_dict[\u001b[39m'\u001b[39m\u001b[39mnetwork\u001b[39m\u001b[39m'\u001b[39m], create_using\u001b[39m=\u001b[39mnx\u001b[39m.\u001b[39mDiGraph())\n",
      "File \u001b[0;32m~/.pyenv/versions/3.8.16/lib/python3.8/gzip.py:173\u001b[0m, in \u001b[0;36mGzipFile.__init__\u001b[0;34m(self, filename, mode, compresslevel, fileobj, mtime)\u001b[0m\n\u001b[1;32m    171\u001b[0m     mode \u001b[39m+\u001b[39m\u001b[39m=\u001b[39m \u001b[39m'\u001b[39m\u001b[39mb\u001b[39m\u001b[39m'\u001b[39m\n\u001b[1;32m    172\u001b[0m \u001b[39mif\u001b[39;00m fileobj \u001b[39mis\u001b[39;00m \u001b[39mNone\u001b[39;00m:\n\u001b[0;32m--> 173\u001b[0m     fileobj \u001b[39m=\u001b[39m \u001b[39mself\u001b[39m\u001b[39m.\u001b[39mmyfileobj \u001b[39m=\u001b[39m builtins\u001b[39m.\u001b[39;49mopen(filename, mode \u001b[39mor\u001b[39;49;00m \u001b[39m'\u001b[39;49m\u001b[39mrb\u001b[39;49m\u001b[39m'\u001b[39;49m)\n\u001b[1;32m    174\u001b[0m \u001b[39mif\u001b[39;00m filename \u001b[39mis\u001b[39;00m \u001b[39mNone\u001b[39;00m:\n\u001b[1;32m    175\u001b[0m     filename \u001b[39m=\u001b[39m \u001b[39mgetattr\u001b[39m(fileobj, \u001b[39m'\u001b[39m\u001b[39mname\u001b[39m\u001b[39m'\u001b[39m, \u001b[39m'\u001b[39m\u001b[39m'\u001b[39m)\n",
      "\u001b[0;31mFileNotFoundError\u001b[0m: [Errno 2] No such file or directory: 'data/maven-2020-01-12.olv'"
     ]
    }
   ],
   "source": [
    "maven = OliviaNetwork(r'data/maven-2020-01-12.olv')"
   ]
  },
  {
   "attachments": {},
   "cell_type": "markdown",
   "metadata": {},
   "source": [
    "Supercritical networks are much more vulnerable, because the big SCC contributes greatly to the propagation of defects."
   ]
  },
  {
   "cell_type": "code",
   "execution_count": null,
   "metadata": {},
   "outputs": [
    {
     "name": "stdout",
     "output_type": "stream",
     "text": [
      "Computing Reach\n",
      "     Processing node: 124K      \n"
     ]
    },
    {
     "data": {
      "text/plain": [
       "1805.5391236430194"
      ]
     },
     "execution_count": 31,
     "metadata": {},
     "output_type": "execute_result"
    }
   ],
   "source": [
    "failure_vulnerability(maven)"
   ]
  },
  {
   "attachments": {},
   "cell_type": "markdown",
   "metadata": {},
   "source": [
    "Lets see what happens if we immunize the delta set for Maven:"
   ]
  },
  {
   "cell_type": "code",
   "execution_count": null,
   "metadata": {},
   "outputs": [
    {
     "name": "stdout",
     "output_type": "stream",
     "text": [
      "Reach retrieved from metrics cache\n",
      "Computing Surface\n",
      "     Processing node: 0K        \n",
      "Reach retrieved from metrics cache\n",
      "Surface retrieved from metrics cache\n",
      "Reach retrieved from metrics cache\n",
      "Building Olivia Model\n",
      "     Finding strongly connected components (SCCs)...\n",
      "     Building condensation network...\n",
      "     Adding structural meta-data...\n",
      "     Done\n",
      "Computing Reach\n",
      "     Processing node: 119K      \n"
     ]
    },
    {
     "data": {
      "text/plain": [
       "1800.3279159303206"
      ]
     },
     "execution_count": 32,
     "metadata": {},
     "output_type": "execute_result"
    }
   ],
   "source": [
    "maven_delta_set = iset_delta_set_reach (maven)\n",
    "immunization_delta(maven, maven_delta_set)"
   ]
  },
  {
   "attachments": {},
   "cell_type": "markdown",
   "metadata": {},
   "source": [
    "We reduced the vulnerability of Maven by 1800!. This means that before immunization, the failure of a single package could affect an average of 1805 other packages. After immunization, this number is 5 (five packages).\n",
    "\n",
    "However, there is a catch."
   ]
  },
  {
   "cell_type": "code",
   "execution_count": null,
   "metadata": {},
   "outputs": [
    {
     "data": {
      "text/plain": [
       "6540"
      ]
     },
     "execution_count": 33,
     "metadata": {},
     "output_type": "execute_result"
    }
   ],
   "source": [
    "len(maven_delta_set)"
   ]
  },
  {
   "attachments": {},
   "cell_type": "markdown",
   "metadata": {},
   "source": [
    "In supercrítical networks, the delta set is larger. Here it represent aproximately 5% of the network (was 0.04% in PyPI). In fact, the delta set is not very useful in supercritical networks, as it usually contains the largest SCC, which is the real cause of the high vulnerability.\n",
    "\n",
    "*iset_sap(...)* computes an immunization set by detecting the strong articulation points (SAP) of the biggest SCC in the network. SAPs are packages whose immunization is likely to contribute to the break-up of the SCC, reducing its ability to spread defects."
   ]
  },
  {
   "cell_type": "code",
   "execution_count": null,
   "metadata": {},
   "outputs": [
    {
     "name": "stdout",
     "output_type": "stream",
     "text": [
      "Reach retrieved from metrics cache\n",
      "Building Olivia Model\n",
      "     Finding strongly connected components (SCCs)...\n",
      "     Building condensation network...\n",
      "     Adding structural meta-data...\n",
      "     Done\n",
      "Computing Reach\n",
      "     Processing node: 125K      \n"
     ]
    },
    {
     "data": {
      "text/plain": [
       "1695.3186300807877"
      ]
     },
     "execution_count": 40,
     "metadata": {},
     "output_type": "execute_result"
    }
   ],
   "source": [
    "sap = iset_sap(maven)\n",
    "\n",
    "immunization_delta(maven, sap)"
   ]
  },
  {
   "cell_type": "code",
   "execution_count": null,
   "metadata": {},
   "outputs": [
    {
     "data": {
      "text/plain": [
       "351"
      ]
     },
     "execution_count": 42,
     "metadata": {},
     "output_type": "execute_result"
    }
   ],
   "source": [
    "len(sap)"
   ]
  },
  {
   "attachments": {},
   "cell_type": "markdown",
   "metadata": {},
   "source": [
    "SAP is much smaller (0.28%), and still achieves a reduction in vulnerability of near 94%\n",
    "\n",
    "Note that here we have not used the 'analityc' method for the calculation of the immunization delta, since sets are larger and it could be really slow.\n",
    "\n",
    "Ranking on the SAP set gives us a tool for finding smaller sets:"
   ]
  },
  {
   "cell_type": "code",
   "execution_count": null,
   "metadata": {},
   "outputs": [
    {
     "name": "stdout",
     "output_type": "stream",
     "text": [
      "DependentsCount retrieved from metrics cache\n",
      "Reach retrieved from metrics cache\n",
      "Building Olivia Model\n",
      "     Finding strongly connected components (SCCs)...\n",
      "     Building condensation network...\n",
      "     Adding structural meta-data...\n",
      "     Done\n",
      "Computing Reach\n",
      "     Processing node: 125K      \n"
     ]
    },
    {
     "data": {
      "text/plain": [
       "1544.4391883362787"
      ]
     },
     "execution_count": 52,
     "metadata": {},
     "output_type": "execute_result"
    }
   ],
   "source": [
    "immunization_delta(maven, iset_naive_ranking(100, maven.get_metric(DependentsCount), subset=sap))"
   ]
  },
  {
   "attachments": {},
   "cell_type": "markdown",
   "metadata": {},
   "source": [
    "Notice that the SAP approach is completely innefective in subcritical networks"
   ]
  },
  {
   "cell_type": "code",
   "execution_count": null,
   "metadata": {},
   "outputs": [
    {
     "data": {
      "text/plain": [
       "0.013040223771815782"
      ]
     },
     "execution_count": 55,
     "metadata": {},
     "output_type": "execute_result"
    }
   ],
   "source": [
    "immunization_delta(bioconductor, iset_sap(bioconductor), algorithm='analytic')"
   ]
  },
  {
   "attachments": {},
   "cell_type": "markdown",
   "metadata": {},
   "source": [
    "Even the immunization of the largest SCC in full has a negligible effect on the network's vulnerability"
   ]
  },
  {
   "cell_type": "code",
   "execution_count": null,
   "metadata": {},
   "outputs": [
    {
     "data": {
      "text/plain": [
       "0.019717921443485796"
      ]
     },
     "execution_count": 56,
     "metadata": {},
     "output_type": "execute_result"
    }
   ],
   "source": [
    "immunization_delta(bioconductor, bioconductor.sorted_clusters()[0], algorithm='analytic')"
   ]
  },
  {
   "attachments": {},
   "cell_type": "markdown",
   "metadata": {},
   "source": [
    "### 03 - Selecting Immunization targets - Advanced\n",
    "\n",
    "Calculating the immunization delta is computationally expensive and the problem of selecting an optimal immunization set of a given size is mathematically intractable for large repositories.\n",
    "\n",
    "In this guide we have used PyPI and Maven, but there are much larger networks, such as npm with over a million packages.\n",
    "\n",
    "We will now give some ideas of additional techniques that can be used for the heuristic exploration of the problem."
   ]
  },
  {
   "attachments": {},
   "cell_type": "markdown",
   "metadata": {},
   "source": [
    "#### Manipulating immunization sets"
   ]
  },
  {
   "attachments": {},
   "cell_type": "markdown",
   "metadata": {},
   "source": [
    "Set operations may be interesting to facilitate the experimental search for good immunization sets."
   ]
  },
  {
   "attachments": {},
   "cell_type": "markdown",
   "metadata": {},
   "source": [
    "Packages both in PyPI delta set and in top 100 by dependentsCount:"
   ]
  },
  {
   "cell_type": "code",
   "execution_count": 84,
   "metadata": {},
   "outputs": [
    {
     "name": "stdout",
     "output_type": "stream",
     "text": [
      "DependentsCount retrieved from metrics cache\n"
     ]
    },
    {
     "data": {
      "text/plain": [
       "{'AnnotationDbi',\n",
       " 'AnnotationHub',\n",
       " 'BSgenome',\n",
       " 'Biobase',\n",
       " 'BiocFileCache',\n",
       " 'BiocGenerics',\n",
       " 'BiocParallel',\n",
       " 'Biostrings',\n",
       " 'DESeq2',\n",
       " 'DelayedArray',\n",
       " 'GSEABase',\n",
       " 'GenomeInfoDb',\n",
       " 'GenomicAlignments',\n",
       " 'GenomicFeatures',\n",
       " 'GenomicRanges',\n",
       " 'Gviz',\n",
       " 'IRanges',\n",
       " 'Rsamtools',\n",
       " 'S4Vectors',\n",
       " 'SingleCellExperiment',\n",
       " 'SummarizedExperiment',\n",
       " 'VariantAnnotation',\n",
       " 'biomaRt',\n",
       " 'limma',\n",
       " 'rtracklayer'}"
      ]
     },
     "execution_count": 84,
     "metadata": {},
     "output_type": "execute_result"
    }
   ],
   "source": [
    "delta_set & iset_naive_ranking(100, bioconductor.get_metric(DependentsCount))"
   ]
  },
  {
   "cell_type": "code",
   "execution_count": null,
   "metadata": {},
   "outputs": [
    {
     "data": {
      "text/plain": [
       "5.7339360989638735"
      ]
     },
     "execution_count": 64,
     "metadata": {},
     "output_type": "execute_result"
    }
   ],
   "source": [
    "immunization_delta(bioconductor, {'boto3',\n",
    "                         'configparser',\n",
    "                         'cryptography',\n",
    "                         'jsonschema',\n",
    "                         'packaging',\n",
    "                         'pbr',\n",
    "                         'pytest',\n",
    "                         'requests',\n",
    "                         'setuptools',\n",
    "                         'wheel'}, algorithm='analytic')"
   ]
  },
  {
   "attachments": {},
   "cell_type": "markdown",
   "metadata": {},
   "source": [
    "That approach is much better than simply selecting the top 10 packages by DependentsCount:"
   ]
  },
  {
   "cell_type": "code",
   "execution_count": null,
   "metadata": {},
   "outputs": [
    {
     "name": "stdout",
     "output_type": "stream",
     "text": [
      "DependentsCount retrieved from metrics cache\n"
     ]
    },
    {
     "data": {
      "text/plain": [
       "3.7312768388291375"
      ]
     },
     "execution_count": 65,
     "metadata": {},
     "output_type": "execute_result"
    }
   ],
   "source": [
    "immunization_delta(bioconductor,\n",
    "                   iset_naive_ranking(10, bioconductor.get_metric(DependentsCount)), \n",
    "                   algorithm='analytic')"
   ]
  },
  {
   "attachments": {},
   "cell_type": "markdown",
   "metadata": {},
   "source": [
    "#### Ranking by compound metrics"
   ]
  },
  {
   "attachments": {},
   "cell_type": "markdown",
   "metadata": {},
   "source": [
    "Since arithmetic operations can be performed with MetricStats objects, it is easy to employ ranking functions with compound metrics. For example, REACH*SURFACE is a theoretical upper bound of immunization delta."
   ]
  },
  {
   "cell_type": "code",
   "execution_count": null,
   "metadata": {},
   "outputs": [
    {
     "name": "stdout",
     "output_type": "stream",
     "text": [
      "Reach retrieved from metrics cache\n",
      "Surface retrieved from metrics cache\n"
     ]
    },
    {
     "data": {
      "text/plain": [
       "8.024760666587873"
      ]
     },
     "execution_count": 71,
     "metadata": {},
     "output_type": "execute_result"
    }
   ],
   "source": [
    "upper = iset_naive_ranking(50, bioconductor.get_metric(Reach)*bioconductor.get_metric(Surface))\n",
    "immunization_delta(bioconductor, upper, algorithm='analytic')"
   ]
  },
  {
   "attachments": {},
   "cell_type": "markdown",
   "metadata": {},
   "source": [
    "In fact, in this case we can get exactly the PyPI delta set, using this technique with the added benefit of being able to regulate the number of elements in the set."
   ]
  },
  {
   "cell_type": "code",
   "execution_count": null,
   "metadata": {},
   "outputs": [
    {
     "data": {
      "text/plain": [
       "18"
      ]
     },
     "execution_count": 72,
     "metadata": {},
     "output_type": "execute_result"
    }
   ],
   "source": [
    "len(delta_set)"
   ]
  },
  {
   "cell_type": "code",
   "execution_count": null,
   "metadata": {},
   "outputs": [
    {
     "name": "stdout",
     "output_type": "stream",
     "text": [
      "Reach retrieved from metrics cache\n",
      "Surface retrieved from metrics cache\n"
     ]
    }
   ],
   "source": [
    "upper = iset_naive_ranking(18, bioconductor.get_metric(Reach)*bioconductor.get_metric(Surface))"
   ]
  },
  {
   "cell_type": "code",
   "execution_count": null,
   "metadata": {},
   "outputs": [
    {
     "data": {
      "text/plain": [
       "set()"
      ]
     },
     "execution_count": 75,
     "metadata": {},
     "output_type": "execute_result"
    }
   ],
   "source": [
    "# void set\n",
    "delta_set-upper"
   ]
  },
  {
   "attachments": {},
   "cell_type": "markdown",
   "metadata": {},
   "source": [
    "#### Brute force and Greedy selection"
   ]
  },
  {
   "attachments": {},
   "cell_type": "markdown",
   "metadata": {},
   "source": [
    "Once we get small enough candidate sets, we could try brute-force and greedy approaches for finding smaller sets. \n",
    "\n",
    "Considering the PyPI delta set, let's see which package individually contributes most to vulnerability reduction:"
   ]
  },
  {
   "cell_type": "code",
   "execution_count": 88,
   "metadata": {},
   "outputs": [
    {
     "data": {
      "text/plain": [
       "[('Biostrings', 1.1137076090054145),\n",
       " ('HDF5Array', 0.08064975776574522),\n",
       " ('BiocParallel', 1.17041892277002),\n",
       " ('GenomeInfoDb', 1.0048446850954689),\n",
       " ('clusterProfiler', 0.23311484753491024),\n",
       " ('genefilter', 0.3174693644913081),\n",
       " ('ensembldb', 0.10686805357651753),\n",
       " ('BiocIO', 0.12852664576802508),\n",
       " ('IRanges', 0.4066685665431747),\n",
       " ('DESeq2', 0.13337133086349387),\n",
       " ('GenomicAlignments', 0.40267882587631804),\n",
       " ('Rsamtools', 0.3579367341122827),\n",
       " ('biomaRt', 1.048731832430892),\n",
       " ('GenomicFeatures', 0.8466799658022228),\n",
       " ('BiocGenerics', 0.6015958962667427),\n",
       " ('limma', 0.18324308919920204),\n",
       " ('Biobase', 0.4970076944998575),\n",
       " ('biovizBase', 0.16414933029353093),\n",
       " ('scuttle', 0.03163294385864919),\n",
       " ('KEGGREST', 0.8757480763750356),\n",
       " ('VariantAnnotation', 0.3120547164434312),\n",
       " ('MatrixGenerics', 0.42832715873468225),\n",
       " ('bumphunter', 0.14733542319749215),\n",
       " ('DelayedMatrixStats', 0.0957537760045597),\n",
       " ('S4Vectors', 0.4351667141635794),\n",
       " ('XVector', 0.7056141350812197),\n",
       " ('Gviz', 0.30521516101453405),\n",
       " ('BSgenome', 0.1652892561983471),\n",
       " ('AnnotationHub', 0.19606725562838415),\n",
       " ('AnnotationDbi', 1.207181533200342),\n",
       " ('GSEABase', 0.14933029353092048),\n",
       " ('SingleCellExperiment', 0.12653177543459676),\n",
       " ('annotate', 0.16984895981761186),\n",
       " ('rtracklayer', 0.6702764320319179),\n",
       " ('BiocFileCache', 0.6027358221715589),\n",
       " ('minfi', 0.3952693074950128),\n",
       " ('GenomicRanges', 0.5953263037902536),\n",
       " ('DelayedArray', 0.31689940153889995),\n",
       " ('enrichplot', 0.20746651467654603),\n",
       " ('SummarizedExperiment', 1.2282701624394414)]"
      ]
     },
     "execution_count": 88,
     "metadata": {},
     "output_type": "execute_result"
    }
   ],
   "source": [
    "[(i, immunization_delta(bioconductor, {i}, algorithm='analytic')) for i in delta_set]"
   ]
  },
  {
   "attachments": {},
   "cell_type": "markdown",
   "metadata": {},
   "source": [
    "It should be noted that, as the sets of dependants and transitional dependencies are interrelated, the immunization delta is not additive. For example, if you take out *'importlib-metadata'* from the delta set, immunization delta decreases only by a small amount:"
   ]
  },
  {
   "cell_type": "code",
   "execution_count": 89,
   "metadata": {},
   "outputs": [
    {
     "data": {
      "text/plain": [
       "12.834995725277857"
      ]
     },
     "execution_count": 89,
     "metadata": {},
     "output_type": "execute_result"
    }
   ],
   "source": [
    "immunization_delta(bioconductor, delta_set-{'Biostrings'}, algorithm='analytic')"
   ]
  },
  {
   "attachments": {},
   "cell_type": "markdown",
   "metadata": {},
   "source": [
    "#### Using other centrality measures"
   ]
  },
  {
   "attachments": {},
   "cell_type": "markdown",
   "metadata": {},
   "source": [
    "Common measures of centrality in the field of network science, or more custom or specific ones, can be used to select immunization sets. You may need to narrow down the set of candidates to  make the computation feasible.\n",
    "\n",
    "For example, using betweenness centrality on the SAP set gives the best results we have found for small immunization sets in Maven:"
   ]
  },
  {
   "cell_type": "code",
   "execution_count": null,
   "metadata": {},
   "outputs": [],
   "source": [
    "import networkx as nx\n",
    "\n",
    "# Using the NetworkX implementation of betweenness centrality\n",
    "# You can access the full NetworkX network underlying the repository using OliviaModel.network.\n",
    "# Here we restrict the centrality computation to the subgraph induced by the SAP set:\n",
    "sap_betweenness = nx.betweenness_centrality(maven.network.subgraph(sap))"
   ]
  },
  {
   "cell_type": "code",
   "execution_count": null,
   "metadata": {},
   "outputs": [],
   "source": [
    "from olivia.packagemetrics import MetricStats\n",
    "\n",
    "# Build a MetricStats object to use in iset_naive_ranking\n",
    "# MetricStats constructor admits a dictionary of values such as those produced by NetworkX\n",
    "sap_betweenness = MetricStats(sap_betweenness)"
   ]
  },
  {
   "cell_type": "code",
   "execution_count": null,
   "metadata": {},
   "outputs": [
    {
     "name": "stdout",
     "output_type": "stream",
     "text": [
      "Reach retrieved from metrics cache\n",
      "Building Olivia Model\n",
      "     Finding strongly connected components (SCCs)...\n",
      "     Building condensation network...\n",
      "     Adding structural meta-data...\n",
      "     Done\n",
      "Computing Reach\n",
      "     Processing node: 125K      \n"
     ]
    },
    {
     "data": {
      "text/plain": [
       "471.4254134057055"
      ]
     },
     "execution_count": 86,
     "metadata": {},
     "output_type": "execute_result"
    }
   ],
   "source": [
    "immunization_delta(maven, iset_naive_ranking(10, sap_betweenness))"
   ]
  },
  {
   "attachments": {},
   "cell_type": "markdown",
   "metadata": {},
   "source": [
    "Follows a visual representation of this technique. The drawn portion (981 nodes) is the biggest SCC of Maven , representing about 0.8% of the network. \n",
    "\n",
    "The highlighted white nodes correspond to the SAP set (351 nodes), whose immunization reduces by 93.9% the REACH-vulnerability of the network as a whole. The blue highlights are the 10 SAP with the highest out-degree centrality (number of dependants) and the red ones the 10 with the highest betweenness. By immunizing these sets, a reduction in network vulnerability of 13% and 26% respectively is achieved.\n",
    "The representation omits the direction of the arcs and uses the Kamada-kawai algorithm."
   ]
  },
  {
   "attachments": {},
   "cell_type": "markdown",
   "metadata": {},
   "source": [
    "<br>\n",
    "\n",
    "![Maven SCC](docs/img/maven.png \"SAP immunization of Maven with betweenness ranking\")  \n",
    "\n",
    "<br>"
   ]
  },
  {
   "cell_type": "code",
   "execution_count": null,
   "metadata": {},
   "outputs": [],
   "source": []
  }
 ],
 "metadata": {
  "kernelspec": {
   "display_name": "Python 3",
   "language": "python",
   "name": "python3"
  },
  "language_info": {
   "codemirror_mode": {
    "name": "ipython",
    "version": 3
   },
   "file_extension": ".py",
   "mimetype": "text/x-python",
   "name": "python",
   "nbconvert_exporter": "python",
   "pygments_lexer": "ipython3",
   "version": "3.8.16"
  }
 },
 "nbformat": 4,
 "nbformat_minor": 4
}
