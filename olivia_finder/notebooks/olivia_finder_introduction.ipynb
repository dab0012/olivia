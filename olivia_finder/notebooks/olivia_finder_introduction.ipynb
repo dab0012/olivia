{
 "cells": [
  {
   "attachments": {},
   "cell_type": "markdown",
   "metadata": {},
   "source": [
    "# **Olivia-Finder introduction**\n",
    "\n",
    "Olivia Finder is an open source tool for extracting data from software package dependency networks in package managers, designed to be used in conjunction with Olivia.\n",
    "Olivia Finder uses the web-scraping technique to get updated data, in addition to CSV files as another data source.\n",
    "\n",
    "\n",
    "**You can find the documentation in:**\n",
    "\n",
    "<a href=\"https://dab0012.github.io/olivia-finder\">\n",
    "<svg xmlns=\"http://www.w3.org/2000/svg\" xmlns:xlink=\"http://www.w3.org/1999/xlink\" width=\"132\" height=\"20\" role=\"img\" aria-label=\"docs: at Github Pages\"><title>docs: at Github Pages</title><linearGradient id=\"s\" x2=\"0\" y2=\"100%\"><stop offset=\"0\" stop-color=\"#bbb\" stop-opacity=\".1\"/><stop offset=\"1\" stop-opacity=\".1\"/></linearGradient><clipPath id=\"r\"><rect width=\"132\" height=\"20\" rx=\"3\" fill=\"#fff\"/></clipPath><g clip-path=\"url(#r)\"><rect width=\"35\" height=\"20\" fill=\"#555\"/><rect x=\"35\" width=\"97\" height=\"20\" fill=\"#4c1\"/><rect width=\"132\" height=\"20\" fill=\"url(#s)\"/></g><g fill=\"#fff\" text-anchor=\"middle\" font-family=\"Verdana,Geneva,DejaVu Sans,sans-serif\" text-rendering=\"geometricPrecision\" font-size=\"110\"><text aria-hidden=\"true\" x=\"185\" y=\"150\" fill=\"#010101\" fill-opacity=\".3\" transform=\"scale(.1)\" textLength=\"250\">docs</text><text x=\"185\" y=\"140\" transform=\"scale(.1)\" fill=\"#fff\" textLength=\"250\">docs</text><text aria-hidden=\"true\" x=\"825\" y=\"150\" fill=\"#010101\" fill-opacity=\".3\" transform=\"scale(.1)\" textLength=\"870\">at Github Pages</text><text x=\"825\" y=\"140\" transform=\"scale(.1)\" fill=\"#fff\" textLength=\"870\">at Github Pages</text></g></svg>\n",
    "</a>\n",
    "\n",
    "**Author:**\n",
    "\n",
    "Daniel Alonso Báscones"
   ]
  },
  {
   "attachments": {},
   "cell_type": "markdown",
   "metadata": {},
   "source": [
    "## **Previous requirements**\n",
    "\n",
    "**<span style=\"color: crimson\">\n",
    "Important:\n",
    "</span>**"
   ]
  },
  {
   "attachments": {},
   "cell_type": "markdown",
   "metadata": {},
   "source": [
    "We make sure to have the requirements installed\n"
   ]
  },
  {
   "cell_type": "code",
   "execution_count": null,
   "metadata": {},
   "outputs": [],
   "source": [
    "%pip install -r ../requirements.txt"
   ]
  },
  {
   "attachments": {},
   "cell_type": "markdown",
   "metadata": {},
   "source": [
    "Add the Library Route to Path"
   ]
  },
  {
   "cell_type": "code",
   "execution_count": 1,
   "metadata": {},
   "outputs": [],
   "source": [
    "# Add the path to the olivia_finder package\n",
    "import sys\n",
    "sys.path.append('../')"
   ]
  },
  {
   "attachments": {},
   "cell_type": "markdown",
   "metadata": {},
   "source": [
    "## **DataSource**"
   ]
  },
  {
   "attachments": {},
   "cell_type": "markdown",
   "metadata": {},
   "source": [
    "The datasource interface allows us to obtain data from different sources:\n",
    "\n",
    "At this time we have two implementations available\n",
    "\n",
    "-   Web Scraping based\n",
    "-   CSV files based\n"
   ]
  },
  {
   "attachments": {},
   "cell_type": "markdown",
   "metadata": {},
   "source": [
    "In the first place we import the implementation of the data source we want, for this example we will use the Bioconductor Scraper"
   ]
  },
  {
   "attachments": {},
   "cell_type": "markdown",
   "metadata": {},
   "source": [
    "#### Initialization of the class"
   ]
  },
  {
   "cell_type": "code",
   "execution_count": 2,
   "metadata": {},
   "outputs": [
    {
     "ename": "TypeError",
     "evalue": "Can't instantiate abstract class BiocScraper with abstract method obtain_package_dependency_network",
     "output_type": "error",
     "traceback": [
      "\u001b[0;31m---------------------------------------------------------------------------\u001b[0m",
      "\u001b[0;31mTypeError\u001b[0m                                 Traceback (most recent call last)",
      "Cell \u001b[0;32mIn[2], line 2\u001b[0m\n\u001b[1;32m      1\u001b[0m \u001b[39mfrom\u001b[39;00m \u001b[39molivia_finder\u001b[39;00m\u001b[39m.\u001b[39;00m\u001b[39mdata_source\u001b[39;00m\u001b[39m.\u001b[39;00m\u001b[39mscrapers\u001b[39;00m\u001b[39m.\u001b[39;00m\u001b[39mbioconductor\u001b[39;00m \u001b[39mimport\u001b[39;00m BiocScraper\n\u001b[0;32m----> 2\u001b[0m bioc_scraper_ds \u001b[39m=\u001b[39m BiocScraper()\n",
      "\u001b[0;31mTypeError\u001b[0m: Can't instantiate abstract class BiocScraper with abstract method obtain_package_dependency_network"
     ]
    }
   ],
   "source": [
    "from olivia_finder.data_source.scrapers.bioconductor import BiocScraper\n",
    "bioc_scraper_ds = BiocScraper()"
   ]
  },
  {
   "cell_type": "code",
   "execution_count": 2,
   "metadata": {},
   "outputs": [],
   "source": [
    "from olivia_finder.data_source.csv_network import CSVNetwork\n",
    "# Load the network\n",
    "bioc_csv_ds = CSVNetwork(\n",
    "    \"results/csv_datasets/bioconductor_adjlist_scraping.csv\",  # Path to the CSV file\n",
    "    \"Bioconductor\",                         # Name of the data source\n",
    "    \"Bioconductor as a CSV file\",            # Description of the data source\n",
    "    dependent_field=\"name\",                 # Name of the field that contains the dependencies\n",
    "    dependency_field=\"dependency\",          # Name of the field that contains the name of the package\n",
    "    dependent_version_field=\"version\",      # Name of the field that contains the version of the package\n",
    "    dependency_version_field=\"dependency_version\",     # Name of the field that contains the version of the dependency\n",
    "    dependent_url_field=\"url\",              # Name of the field that contains the URL of the package\n",
    ")"
   ]
  },
  {
   "attachments": {},
   "cell_type": "markdown",
   "metadata": {},
   "source": [
    "#### Obtain package names"
   ]
  },
  {
   "attachments": {},
   "cell_type": "markdown",
   "metadata": {},
   "source": [
    "Specifically, the BiocScraper class gets the list of packages from <a href=\"https://bioconductor.org/packages/release/BiocViews.html#___Software\">Bioconductor packages list</a>\n",
    "\n",
    "Each specific implementation of a Scraper must manage this process on its own."
   ]
  },
  {
   "cell_type": "code",
   "execution_count": 3,
   "metadata": {},
   "outputs": [
    {
     "data": {
      "text/plain": [
       "['ABSSeq',\n",
       " 'ABarray',\n",
       " 'ACE',\n",
       " 'ACME',\n",
       " 'ADAM',\n",
       " 'ADAMgui',\n",
       " 'ADImpute',\n",
       " 'ADaCGH2',\n",
       " 'AGDEX',\n",
       " 'AIMS']"
      ]
     },
     "execution_count": 3,
     "metadata": {},
     "output_type": "execute_result"
    }
   ],
   "source": [
    "package_list = bioc_scraper_ds.obtain_package_names()\n",
    "package_list[:10]"
   ]
  },
  {
   "attachments": {},
   "cell_type": "markdown",
   "metadata": {},
   "source": [
    "On the other hand, the CSV-based implementation obtains the names of the dataset"
   ]
  },
  {
   "cell_type": "code",
   "execution_count": 4,
   "metadata": {},
   "outputs": [
    {
     "data": {
      "text/plain": [
       "['ABSSeq',\n",
       " 'ABarray',\n",
       " 'ACE',\n",
       " 'ACME',\n",
       " 'ADAM',\n",
       " 'ADAMgui',\n",
       " 'ADImpute',\n",
       " 'ADaCGH2',\n",
       " 'AGDEX',\n",
       " 'AIMS']"
      ]
     },
     "execution_count": 4,
     "metadata": {},
     "output_type": "execute_result"
    }
   ],
   "source": [
    "package_list = bioc_csv_ds.obtain_package_names()\n",
    "package_list[:10]"
   ]
  },
  {
   "attachments": {},
   "cell_type": "markdown",
   "metadata": {},
   "source": [
    "#### Obtain package data"
   ]
  },
  {
   "attachments": {},
   "cell_type": "markdown",
   "metadata": {},
   "source": [
    "We can get the data from a list of package names using the function:\n",
    "-   ```python\n",
    "    obtain_packages_data(list[str])\n",
    "    ```"
   ]
  },
  {
   "cell_type": "code",
   "execution_count": null,
   "metadata": {},
   "outputs": [
    {
     "data": {
      "text/plain": [
       "{'name': 'DeepBlueR',\n",
       " 'version': '1.24.1',\n",
       " 'dependencies': [{'name': 'R', 'version': '>= 3.3'},\n",
       "  {'name': 'XML', 'version': ''},\n",
       "  {'name': 'RCurl', 'version': ''},\n",
       "  {'name': 'GenomicRanges', 'version': ''},\n",
       "  {'name': 'data.table', 'version': ''},\n",
       "  {'name': 'stringr', 'version': ''},\n",
       "  {'name': 'diffr', 'version': ''},\n",
       "  {'name': 'dplyr', 'version': ''},\n",
       "  {'name': 'methods', 'version': ''},\n",
       "  {'name': 'rjson', 'version': ''},\n",
       "  {'name': 'utils', 'version': ''},\n",
       "  {'name': 'R.utils', 'version': ''},\n",
       "  {'name': 'foreach', 'version': ''},\n",
       "  {'name': 'withr', 'version': ''},\n",
       "  {'name': 'rtracklayer', 'version': ''},\n",
       "  {'name': 'GenomeInfoDb', 'version': ''},\n",
       "  {'name': 'settings', 'version': ''},\n",
       "  {'name': 'filehash', 'version': ''}],\n",
       " 'url': 'https://www.bioconductor.org/packages/release/bioc/html/DeepBlueR.html'}"
      ]
     },
     "metadata": {},
     "output_type": "display_data"
    }
   ],
   "source": [
    "deepbluer = bioc_scraper_ds.obtain_package_data(\"DeepBlueR\")\n",
    "deepbluer"
   ]
  },
  {
   "cell_type": "markdown",
   "metadata": {},
   "source": [
    "Be careful with the sensitivity to **caps**, if the package has not been found, an **ScraperError** exception is raised"
   ]
  },
  {
   "cell_type": "code",
   "execution_count": 5,
   "metadata": {},
   "outputs": [
    {
     "name": "stdout",
     "output_type": "stream",
     "text": [
      "ScraperError: Package deepbluer not found\n"
     ]
    }
   ],
   "source": [
    "try:\n",
    "    deepbluer2 = bioc_scraper_ds.obtain_package_data(\"deepbluer\")\n",
    "except Exception as e:\n",
    "    print(e)"
   ]
  },
  {
   "cell_type": "code",
   "execution_count": 5,
   "metadata": {},
   "outputs": [
    {
     "data": {
      "text/plain": [
       "{'name': 'DeepBlueR',\n",
       " 'version': '1.24.1',\n",
       " 'url': 'https://www.bioconductor.org/packages/release/bioc/html/DeepBlueR.html',\n",
       " 'dependencies': [{'name': 'R', 'version': '>= 3.3'},\n",
       "  {'name': 'XML', 'version': nan},\n",
       "  {'name': 'RCurl', 'version': nan},\n",
       "  {'name': 'GenomicRanges', 'version': nan},\n",
       "  {'name': 'data.table', 'version': nan},\n",
       "  {'name': 'stringr', 'version': nan},\n",
       "  {'name': 'diffr', 'version': nan},\n",
       "  {'name': 'dplyr', 'version': nan},\n",
       "  {'name': 'methods', 'version': nan},\n",
       "  {'name': 'rjson', 'version': nan},\n",
       "  {'name': 'utils', 'version': nan},\n",
       "  {'name': 'R.utils', 'version': nan},\n",
       "  {'name': 'foreach', 'version': nan},\n",
       "  {'name': 'withr', 'version': nan},\n",
       "  {'name': 'rtracklayer', 'version': nan},\n",
       "  {'name': 'GenomeInfoDb', 'version': nan},\n",
       "  {'name': 'settings', 'version': nan},\n",
       "  {'name': 'filehash', 'version': nan}]}"
      ]
     },
     "execution_count": 5,
     "metadata": {},
     "output_type": "execute_result"
    }
   ],
   "source": [
    "deepbluer = bioc_csv_ds.obtain_package_data(\"DeepBlueR\")\n",
    "deepbluer"
   ]
  },
  {
   "attachments": {},
   "cell_type": "markdown",
   "metadata": {},
   "source": [
    "#### Obtain packages data"
   ]
  },
  {
   "cell_type": "code",
   "execution_count": null,
   "metadata": {},
   "outputs": [
    {
     "data": {
      "text/plain": [
       "[{'name': 'ABSSeq',\n",
       "  'version': '1.52.0',\n",
       "  'dependencies': [{'name': 'R', 'version': '>= 2.10'},\n",
       "   {'name': 'methods', 'version': ''},\n",
       "   {'name': 'locfit', 'version': ''},\n",
       "   {'name': 'limma', 'version': ''}],\n",
       "  'url': 'https://www.bioconductor.org/packages/release/bioc/html/ABSSeq.html'},\n",
       " {'name': 'ABarray',\n",
       "  'version': '1.66.0',\n",
       "  'dependencies': [{'name': 'Biobase', 'version': ''},\n",
       "   {'name': 'graphics', 'version': ''},\n",
       "   {'name': 'grDevices', 'version': ''},\n",
       "   {'name': 'methods', 'version': ''},\n",
       "   {'name': 'multtest', 'version': ''},\n",
       "   {'name': 'stats', 'version': ''},\n",
       "   {'name': 'tcltk', 'version': ''},\n",
       "   {'name': 'utils', 'version': ''}],\n",
       "  'url': 'https://www.bioconductor.org/packages/release/bioc/html/ABarray.html'},\n",
       " {'name': 'ACE',\n",
       "  'version': '1.16.0',\n",
       "  'dependencies': [{'name': 'R', 'version': '>= 3.4'},\n",
       "   {'name': 'Biobase', 'version': ''},\n",
       "   {'name': 'QDNAseq', 'version': ''},\n",
       "   {'name': 'ggplot2', 'version': ''},\n",
       "   {'name': 'grid', 'version': ''},\n",
       "   {'name': 'stats', 'version': ''},\n",
       "   {'name': 'utils', 'version': ''},\n",
       "   {'name': 'methods', 'version': ''},\n",
       "   {'name': 'grDevices', 'version': ''},\n",
       "   {'name': 'GenomicRanges', 'version': ''}],\n",
       "  'url': 'https://www.bioconductor.org/packages/release/bioc/html/ACE.html'}]"
      ]
     },
     "metadata": {},
     "output_type": "display_data"
    }
   ],
   "source": [
    "pkgs_data, not_found = bioc_scraper_ds.obtain_packages_data(package_list[:3])\n",
    "pkgs_data"
   ]
  },
  {
   "cell_type": "code",
   "execution_count": 7,
   "metadata": {},
   "outputs": [
    {
     "data": {
      "text/plain": [
       "[{'name': 'ABSSeq',\n",
       "  'version': '1.52.0',\n",
       "  'url': 'https://www.bioconductor.org/packages/release/bioc/html/ABSSeq.html',\n",
       "  'dependencies': [{'name': 'R', 'version': '>= 2.10'},\n",
       "   {'name': 'methods', 'version': nan},\n",
       "   {'name': 'locfit', 'version': nan},\n",
       "   {'name': 'limma', 'version': nan}]},\n",
       " {'name': 'ABarray',\n",
       "  'version': '1.66.0',\n",
       "  'url': 'https://www.bioconductor.org/packages/release/bioc/html/ABarray.html',\n",
       "  'dependencies': [{'name': 'Biobase', 'version': nan},\n",
       "   {'name': 'graphics', 'version': nan},\n",
       "   {'name': 'grDevices', 'version': nan},\n",
       "   {'name': 'methods', 'version': nan},\n",
       "   {'name': 'multtest', 'version': nan},\n",
       "   {'name': 'stats', 'version': nan},\n",
       "   {'name': 'tcltk', 'version': nan},\n",
       "   {'name': 'utils', 'version': nan}]},\n",
       " {'name': 'ACE',\n",
       "  'version': '1.16.0',\n",
       "  'url': 'https://www.bioconductor.org/packages/release/bioc/html/ACE.html',\n",
       "  'dependencies': [{'name': 'R', 'version': '>= 3.4'},\n",
       "   {'name': 'Biobase', 'version': nan},\n",
       "   {'name': 'QDNAseq', 'version': nan},\n",
       "   {'name': 'ggplot2', 'version': nan},\n",
       "   {'name': 'grid', 'version': nan},\n",
       "   {'name': 'stats', 'version': nan},\n",
       "   {'name': 'utils', 'version': nan},\n",
       "   {'name': 'methods', 'version': nan},\n",
       "   {'name': 'grDevices', 'version': nan},\n",
       "   {'name': 'GenomicRanges', 'version': nan}]}]"
      ]
     },
     "execution_count": 7,
     "metadata": {},
     "output_type": "execute_result"
    }
   ],
   "source": [
    "packages = bioc_csv_ds.obtain_packages_data(package_list[:3])\n",
    "packages"
   ]
  },
  {
   "cell_type": "markdown",
   "metadata": {},
   "source": [
    "Packages not found appear as the second object of the tuple"
   ]
  },
  {
   "cell_type": "code",
   "execution_count": 7,
   "metadata": {},
   "outputs": [
    {
     "data": {
      "text/plain": [
       "['deepbluer']"
      ]
     },
     "execution_count": 7,
     "metadata": {},
     "output_type": "execute_result"
    }
   ],
   "source": [
    "pkgs_data, not_found = bioc_scraper_ds.obtain_packages_data([\"deepbluer\", \"DeepBlueR\"])\n",
    "not_found"
   ]
  },
  {
   "attachments": {},
   "cell_type": "markdown",
   "metadata": {},
   "source": [
    "#### Obtain dependencies recursively"
   ]
  },
  {
   "cell_type": "code",
   "execution_count": 4,
   "metadata": {},
   "outputs": [
    {
     "data": {
      "text/plain": [
       "{'DeepBlueR': ['R',\n",
       "  'XML',\n",
       "  'RCurl',\n",
       "  'GenomicRanges',\n",
       "  'data.table',\n",
       "  'stringr',\n",
       "  'diffr',\n",
       "  'dplyr',\n",
       "  'methods',\n",
       "  'rjson',\n",
       "  'utils',\n",
       "  'R.utils',\n",
       "  'foreach',\n",
       "  'withr',\n",
       "  'rtracklayer',\n",
       "  'GenomeInfoDb',\n",
       "  'settings',\n",
       "  'filehash'],\n",
       " 'GenomicRanges': ['S4Vectors',\n",
       "  'methods',\n",
       "  'GenomeInfoDb',\n",
       "  'stats4',\n",
       "  'IRanges',\n",
       "  'XVector',\n",
       "  'utils',\n",
       "  'BiocGenerics',\n",
       "  'stats',\n",
       "  'R'],\n",
       " 'BiocGenerics': ['methods', 'utils', 'stats', 'graphics', 'R'],\n",
       " 'S4Vectors': ['methods', 'stats4', 'utils', 'BiocGenerics', 'stats', 'R'],\n",
       " 'IRanges': ['S4Vectors',\n",
       "  'methods',\n",
       "  'stats4',\n",
       "  'utils',\n",
       "  'BiocGenerics',\n",
       "  'stats',\n",
       "  'R'],\n",
       " 'GenomeInfoDb': ['S4Vectors',\n",
       "  'methods',\n",
       "  'stats4',\n",
       "  'RCurl',\n",
       "  'IRanges',\n",
       "  'utils',\n",
       "  'BiocGenerics',\n",
       "  'GenomeInfoDbData',\n",
       "  'stats',\n",
       "  'R'],\n",
       " 'XVector': ['S4Vectors',\n",
       "  'methods',\n",
       "  'IRanges',\n",
       "  'tools',\n",
       "  'utils',\n",
       "  'BiocGenerics',\n",
       "  'R',\n",
       "  'zlibbioc'],\n",
       " 'zlibbioc': [nan],\n",
       " 'rtracklayer': ['R',\n",
       "  'methods',\n",
       "  'GenomicRanges',\n",
       "  'XML',\n",
       "  'BiocGenerics',\n",
       "  'S4Vectors',\n",
       "  'IRanges',\n",
       "  'XVector',\n",
       "  'GenomeInfoDb',\n",
       "  'Biostrings',\n",
       "  'zlibbioc',\n",
       "  'RCurl',\n",
       "  'Rsamtools',\n",
       "  'GenomicAlignments',\n",
       "  'BiocIO',\n",
       "  'tools',\n",
       "  'restfulr'],\n",
       " 'Biostrings': ['S4Vectors',\n",
       "  'methods',\n",
       "  'GenomeInfoDb',\n",
       "  'IRanges',\n",
       "  'grDevices',\n",
       "  'XVector',\n",
       "  'utils',\n",
       "  'BiocGenerics',\n",
       "  'graphics',\n",
       "  'stats',\n",
       "  'crayon',\n",
       "  'R'],\n",
       " 'Rsamtools': ['S4Vectors',\n",
       "  'Biostrings',\n",
       "  'methods',\n",
       "  'GenomeInfoDb',\n",
       "  'BiocParallel',\n",
       "  'IRanges',\n",
       "  'GenomicRanges',\n",
       "  'XVector',\n",
       "  'utils',\n",
       "  'BiocGenerics',\n",
       "  'stats',\n",
       "  'bitops',\n",
       "  'R',\n",
       "  'zlibbioc'],\n",
       " 'BiocParallel': ['methods',\n",
       "  'snow',\n",
       "  'R',\n",
       "  'codetools',\n",
       "  'utils',\n",
       "  'parallel',\n",
       "  'stats',\n",
       "  'futile.logger'],\n",
       " 'GenomicAlignments': ['R',\n",
       "  'methods',\n",
       "  'BiocGenerics',\n",
       "  'S4Vectors',\n",
       "  'IRanges',\n",
       "  'GenomeInfoDb',\n",
       "  'GenomicRanges',\n",
       "  'SummarizedExperiment',\n",
       "  'Biostrings',\n",
       "  'Rsamtools',\n",
       "  'methods',\n",
       "  'utils',\n",
       "  'stats',\n",
       "  'BiocGenerics',\n",
       "  'S4Vectors',\n",
       "  'IRanges',\n",
       "  'GenomicRanges',\n",
       "  'Biostrings',\n",
       "  'Rsamtools',\n",
       "  'BiocParallel'],\n",
       " 'SummarizedExperiment': ['R',\n",
       "  'methods',\n",
       "  'MatrixGenerics',\n",
       "  'GenomicRanges',\n",
       "  'Biobase',\n",
       "  'utils',\n",
       "  'stats',\n",
       "  'tools',\n",
       "  'Matrix',\n",
       "  'BiocGenerics',\n",
       "  'S4Vectors',\n",
       "  'IRanges',\n",
       "  'GenomeInfoDb',\n",
       "  'DelayedArray'],\n",
       " 'MatrixGenerics': ['matrixStats', 'methods'],\n",
       " 'Biobase': ['R', 'BiocGenerics', 'utils', 'methods'],\n",
       " 'DelayedArray': ['R',\n",
       "  'methods',\n",
       "  'stats4',\n",
       "  'Matrix',\n",
       "  'BiocGenerics',\n",
       "  'MatrixGenerics',\n",
       "  'S4Vectors',\n",
       "  'IRanges',\n",
       "  'stats'],\n",
       " 'BiocIO': ['R', 'BiocGenerics', 'S4Vectors', 'methods', 'tools']}"
      ]
     },
     "execution_count": 4,
     "metadata": {},
     "output_type": "execute_result"
    }
   ],
   "source": [
    "dependency_network = bioc_csv_ds.generate_package_dependency_network(\"DeepBlueR\")\n",
    "dependency_network"
   ]
  },
  {
   "attachments": {},
   "cell_type": "markdown",
   "metadata": {},
   "source": []
  },
  {
   "attachments": {},
   "cell_type": "markdown",
   "metadata": {},
   "source": [
    "## **Package manager**"
   ]
  },
  {
   "cell_type": "code",
   "execution_count": 3,
   "metadata": {},
   "outputs": [],
   "source": [
    "from olivia_finder.package_manager import PackageManager"
   ]
  },
  {
   "attachments": {},
   "cell_type": "markdown",
   "metadata": {},
   "source": [
    "### **Initialization**"
   ]
  },
  {
   "attachments": {},
   "cell_type": "markdown",
   "metadata": {},
   "source": [
    "**Declare the class**\n",
    "\n",
    "Initialize the packagemanager class with the implementation of the scraper we want"
   ]
  },
  {
   "cell_type": "code",
   "execution_count": 4,
   "metadata": {},
   "outputs": [],
   "source": [
    "from olivia_finder.data_source.scrapers.pypi import PypiScraper\n",
    "pypi_scraper_pm = PackageManager(PypiScraper())\n",
    "\n",
    "from olivia_finder.data_source.scrapers.npm import NpmScraper\n",
    "npm_scraper_pm = PackageManager(NpmScraper())"
   ]
  },
  {
   "attachments": {},
   "cell_type": "markdown",
   "metadata": {},
   "source": [
    "Or init the class from csv file"
   ]
  },
  {
   "cell_type": "code",
   "execution_count": 4,
   "metadata": {},
   "outputs": [],
   "source": [
    "from olivia_finder.data_source.csv_network import CSVNetwork\n",
    "\n",
    "# Cran data from scraping\n",
    "cran_scraped_csv_pm = PackageManager(\n",
    "    CSVNetwork(\n",
    "        \"results/csv_datasets/cran_adjlist_scraping.csv\",   # Path to the CSV file\n",
    "        \"CRAN\",                                             # Name of the data source\n",
    "        \"CRAN as a CSV file\",                               # Description of the data source\n",
    "        dependent_field=\"name\",                             # Name of the field that contains the dependencies\n",
    "        dependency_field=\"dependency\",                      # Name of the field that contains the name of the package\n",
    "        dependent_version_field=\"version\",                  # Name of the field that contains the version of the package\n",
    "        dependency_version_field=\"dependency_version\",     # Name of the field that contains the version of the dependency\n",
    "        dependent_url_field=\"url\",                          # Name of the field that contains the URL of the package\n",
    "    )\n",
    ")\n",
    "\n",
    "# Cran data from libraries.io\n",
    "cran_librariesio_csv_pm = PackageManager(\n",
    "    CSVNetwork(\n",
    "        \"results/csv_datasets/cran_librariesio_dependencies.csv\",   # Path to the CSV file  \n",
    "        \"CRAN\",                                                     # Name of the data source\n",
    "        \"CRAN as a CSV file\",                                       # Description of the data source\n",
    "        dependent_field=\"Project Name\",                             # Name of the field that contains the dependencies\n",
    "        dependency_field=\"Dependency Name\",                         # Name of the field that contains the name of the package\n",
    "        dependent_version_field=\"Version Number\",                   # Name of the field that contains the version of the package\n",
    "        dependency_version_field=\"Dependency Requirements\"          # Name of the field that contains the version of the dependency\n",
    "    )\n",
    ")"
   ]
  },
  {
   "attachments": {},
   "cell_type": "markdown",
   "metadata": {},
   "source": [
    "### **Obtain packages**"
   ]
  },
  {
   "attachments": {},
   "cell_type": "markdown",
   "metadata": {},
   "source": [
    "#### Get a package from package manager"
   ]
  },
  {
   "cell_type": "code",
   "execution_count": 10,
   "metadata": {},
   "outputs": [
    {
     "name": "stdout",
     "output_type": "stream",
     "text": [
      "Package:\n",
      "  name: networkx\n",
      "  version: 3.0\n",
      "  url: https://pypi.org/project/networkx/\n",
      "  dependencies:\n",
      "    numpy:(>=1.20)\n",
      "    scipy:(>=1.8)\n",
      "    matplotlib:(>=3.4)\n",
      "    pandas:(>=1.3)\n",
      "    pre-commit:(>=2.20)\n",
      "    mypy:(>=0.991)\n",
      "    sphinx:(==5.2.3)\n",
      "    pydata-sphinx-theme:(>=0.11)\n",
      "    sphinx-gallery:(>=0.11)\n",
      "    numpydoc:(>=1.5)\n",
      "    pillow:(>=9.2)\n",
      "    nb2plots:(>=0.6)\n",
      "    texext:(>=0.6.7)\n",
      "    lxml:(>=4.6)\n",
      "    pygraphviz:(>=1.10)\n",
      "    pydot:(>=1.4.2)\n",
      "    sympy:(>=1.10)\n",
      "    pytest:(>=7.2)\n",
      "    pytest-cov:(>=4.0)\n",
      "    codecov:(>=2.1)\n"
     ]
    }
   ],
   "source": [
    "networkx = pypi_scraper_pm.obtain_package(\"networkx\")\n",
    "networkx.print()"
   ]
  },
  {
   "cell_type": "code",
   "execution_count": 5,
   "metadata": {},
   "outputs": [
    {
     "name": "stdout",
     "output_type": "stream",
     "text": [
      "Package:\n",
      "  name: A3\n",
      "  version: 1.0.0\n",
      "  url: https://cran.r-project.org/package=A3\n",
      "  dependencies:\n",
      "    R:≥ 2.15.0\n",
      "    xtable:nan\n",
      "    pbapply:nan\n"
     ]
    }
   ],
   "source": [
    "cran_scraped_csv_pm.obtain_package(\"A3\").print()"
   ]
  },
  {
   "attachments": {},
   "cell_type": "markdown",
   "metadata": {},
   "source": [
    "#### Get packages from a list of package names"
   ]
  },
  {
   "attachments": {},
   "cell_type": "markdown",
   "metadata": {},
   "source": [
    "Webscraping-based implementation obtains the data manager website data"
   ]
  },
  {
   "cell_type": "code",
   "execution_count": 11,
   "metadata": {},
   "outputs": [
    {
     "data": {
      "text/plain": [
       "[<olivia_finder.package.Package at 0x7fed5937bd90>,\n",
       " <olivia_finder.package.Package at 0x7fed27ae2250>,\n",
       " <olivia_finder.package.Package at 0x7fed27ae26a0>]"
      ]
     },
     "execution_count": 11,
     "metadata": {},
     "output_type": "execute_result"
    }
   ],
   "source": [
    "packages = pypi_scraper_pm.obtain_packages([\"networkx\", \"numpy\", \"pandas\"])\n",
    "packages"
   ]
  },
  {
   "attachments": {},
   "cell_type": "markdown",
   "metadata": {},
   "source": [
    "CSV file-based implementation obtains file data from the csv"
   ]
  },
  {
   "cell_type": "code",
   "execution_count": 12,
   "metadata": {},
   "outputs": [
    {
     "data": {
      "text/plain": [
       "[<olivia_finder.package.Package at 0x7f28bada7340>,\n",
       " <olivia_finder.package.Package at 0x7f28bad7c5e0>,\n",
       " <olivia_finder.package.Package at 0x7f28bad7e0b0>]"
      ]
     },
     "execution_count": 12,
     "metadata": {},
     "output_type": "execute_result"
    }
   ],
   "source": [
    "cran_packages = cran_scraped_csv_pm.obtain_packages([\"A3\", \"pbapply\", \"xtable\"])\n",
    "cran_packages"
   ]
  },
  {
   "attachments": {},
   "cell_type": "markdown",
   "metadata": {},
   "source": [
    "#### Get all packages from a package manager"
   ]
  },
  {
   "attachments": {},
   "cell_type": "markdown",
   "metadata": {},
   "source": [
    "***Note:***\n",
    "\n",
    "The functionality of storing packages in the PackageManager object has been implemented\n",
    "\n",
    "-   Can be activated by flag\n",
    "\n",
    "    ```python\n",
    "    extend=True\n",
    "    ```\n",
    "\n",
    "The functionality of showing the progress of obtaining packages has been implemented\n",
    "\n",
    "-   Can be activated by flag\n",
    "\n",
    "    ```python\n",
    "    show_progress=True\n",
    "    ```"
   ]
  },
  {
   "attachments": {},
   "cell_type": "markdown",
   "metadata": {},
   "source": [
    "Getting all the packages from a package manager can take a while, so it is recommended to save the data to a CSV file for later use.\n",
    "\n",
    "We can see that the execution time for half a million packages (Pypi) is around 7 hours.\n",
    "In the case of Bioconductor, to obtain the 2000 packages it contains, the execution time is around 4 minutes."
   ]
  },
  {
   "attachments": {},
   "cell_type": "markdown",
   "metadata": {},
   "source": [
    "-   From **Spraper** data source implementation"
   ]
  },
  {
   "cell_type": "code",
   "execution_count": 7,
   "metadata": {},
   "outputs": [
    {
     "name": "stderr",
     "output_type": "stream",
     "text": [
      " 15%|█▌        | 66423/438514 [1:14:50<6:40:39, 15.48it/s] "
     ]
    }
   ],
   "source": [
    "pypi_packages = pypi_scraper_pm.obtain_packages(extend=True, show_progress=True)"
   ]
  },
  {
   "cell_type": "code",
   "execution_count": null,
   "metadata": {},
   "outputs": [
    {
     "name": "stderr",
     "output_type": "stream",
     "text": [
      "100%|██████████| 2183/2183 [03:47<00:00,  9.59it/s]\n"
     ]
    }
   ],
   "source": [
    "bioc_scraper_pm = PackageManager(BiocScraper())\n",
    "bioconductor_packages = bioc_scraper_pm.obtain_packages(extend=True, show_progress=True)"
   ]
  },
  {
   "attachments": {},
   "cell_type": "markdown",
   "metadata": {},
   "source": [
    "-   From **CSVNetwork** data source implementation"
   ]
  },
  {
   "cell_type": "code",
   "execution_count": 8,
   "metadata": {},
   "outputs": [
    {
     "name": "stderr",
     "output_type": "stream",
     "text": [
      "100%|██████████| 18195/18195 [02:04<00:00, 145.67it/s]\n"
     ]
    }
   ],
   "source": [
    "cran_packages = cran_scraped_csv_pm.obtain_packages(extend=True, show_progress=True)"
   ]
  },
  {
   "attachments": {},
   "cell_type": "markdown",
   "metadata": {},
   "source": [
    "As can be seen there is inconsistency among the different data sources, it is recommended to use the most up-to-date source"
   ]
  },
  {
   "attachments": {},
   "cell_type": "markdown",
   "metadata": {},
   "source": [
    "### **Data persistence**"
   ]
  },
  {
   "attachments": {},
   "cell_type": "markdown",
   "metadata": {},
   "source": [
    "The functionality of saving the PackageManager object in disk and loading of it has also been implemented, in order to maintain persistence and not repeat processes such as WebScraping."
   ]
  },
  {
   "attachments": {},
   "cell_type": "markdown",
   "metadata": {},
   "source": [
    "**Save the PackageManager object**\n",
    "\n",
    "We can save the object through the `save` function\n",
    "\n",
    "The file extension is irrelevant since it is a binary serialization, but by agreement the extension has been chosen **.olvpm** \"to identify the PackageManager files"
   ]
  },
  {
   "cell_type": "code",
   "execution_count": 13,
   "metadata": {},
   "outputs": [],
   "source": [
    "cran_scraped_csv_pm.save(\"results/package_managers/cran.olvpm\")"
   ]
  },
  {
   "attachments": {},
   "cell_type": "markdown",
   "metadata": {},
   "source": [
    "**Load the PackageManager object**\n",
    "\n",
    "We can load the PackageManager object through the static method\n",
    "\n",
    "```python \n",
    "    PackageManager.load(path:str)\n",
    "```"
   ]
  },
  {
   "cell_type": "code",
   "execution_count": 6,
   "metadata": {},
   "outputs": [],
   "source": [
    "cran_loaded_csv_pm = PackageManager.load(\"results/package_managers/cran.olvpm\")"
   ]
  },
  {
   "attachments": {},
   "cell_type": "markdown",
   "metadata": {},
   "source": [
    "**Export the CSV format**\n",
    "\n",
    "We can export the data of the packages to a CSV, with a structure similar to that of the data of Libraries.\n",
    "\n",
    "We can use the following function to generate a Pandas Dataframe and then write the file as CSV\n",
    "\n",
    "-   \n",
    "    ```python\n",
    "    pandas_df = package_manager.export_adjlist()\n",
    "    ```\n"
   ]
  },
  {
   "cell_type": "code",
   "execution_count": 7,
   "metadata": {},
   "outputs": [
    {
     "data": {
      "text/html": [
       "<div>\n",
       "<style scoped>\n",
       "    .dataframe tbody tr th:only-of-type {\n",
       "        vertical-align: middle;\n",
       "    }\n",
       "\n",
       "    .dataframe tbody tr th {\n",
       "        vertical-align: top;\n",
       "    }\n",
       "\n",
       "    .dataframe thead th {\n",
       "        text-align: right;\n",
       "    }\n",
       "</style>\n",
       "<table border=\"1\" class=\"dataframe\">\n",
       "  <thead>\n",
       "    <tr style=\"text-align: right;\">\n",
       "      <th></th>\n",
       "      <th>name</th>\n",
       "      <th>dependency</th>\n",
       "    </tr>\n",
       "  </thead>\n",
       "  <tbody>\n",
       "    <tr>\n",
       "      <th>0</th>\n",
       "      <td>A3</td>\n",
       "      <td>R</td>\n",
       "    </tr>\n",
       "    <tr>\n",
       "      <th>1</th>\n",
       "      <td>A3</td>\n",
       "      <td>xtable</td>\n",
       "    </tr>\n",
       "    <tr>\n",
       "      <th>2</th>\n",
       "      <td>A3</td>\n",
       "      <td>pbapply</td>\n",
       "    </tr>\n",
       "    <tr>\n",
       "      <th>3</th>\n",
       "      <td>AATtools</td>\n",
       "      <td>R</td>\n",
       "    </tr>\n",
       "    <tr>\n",
       "      <th>4</th>\n",
       "      <td>AATtools</td>\n",
       "      <td>magrittr</td>\n",
       "    </tr>\n",
       "  </tbody>\n",
       "</table>\n",
       "</div>"
      ],
      "text/plain": [
       "       name dependency\n",
       "0        A3          R\n",
       "1        A3     xtable\n",
       "2        A3    pbapply\n",
       "3  AATtools          R\n",
       "4  AATtools   magrittr"
      ]
     },
     "execution_count": 7,
     "metadata": {},
     "output_type": "execute_result"
    }
   ],
   "source": [
    "# Store the package manager as a adjacency list\n",
    "cran_df = cran_loaded_csv_pm.export_adjlist()\n",
    "cran_df.to_csv(\"results/csv_datasets/cran_full_adjlist.csv\", index=False)\n",
    "cran_df.head()"
   ]
  }
 ],
 "metadata": {
  "kernelspec": {
   "display_name": "gt",
   "language": "python",
   "name": "python3"
  },
  "language_info": {
   "codemirror_mode": {
    "name": "ipython",
    "version": 3
   },
   "file_extension": ".py",
   "mimetype": "text/x-python",
   "name": "python",
   "nbconvert_exporter": "python",
   "pygments_lexer": "ipython3",
   "version": "3.10.6"
  },
  "orig_nbformat": 4
 },
 "nbformat": 4,
 "nbformat_minor": 2
}
