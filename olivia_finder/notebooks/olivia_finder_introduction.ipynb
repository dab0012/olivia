{
 "cells": [
  {
   "attachments": {},
   "cell_type": "markdown",
   "metadata": {},
   "source": [
    "# Olivia-Finder introduction"
   ]
  },
  {
   "attachments": {},
   "cell_type": "markdown",
   "metadata": {},
   "source": [
    "## 0 - Previous requirements"
   ]
  },
  {
   "attachments": {},
   "cell_type": "markdown",
   "metadata": {},
   "source": [
    "**We make sure to have the necessary units installed**"
   ]
  },
  {
   "cell_type": "code",
   "execution_count": null,
   "metadata": {},
   "outputs": [],
   "source": [
    "%pip install -r ../requirements.txt"
   ]
  },
  {
   "attachments": {},
   "cell_type": "markdown",
   "metadata": {},
   "source": [
    "**Add the Library Route to Path**"
   ]
  },
  {
   "cell_type": "code",
   "execution_count": 1,
   "metadata": {},
   "outputs": [],
   "source": [
    "# Add the path to the olivia_finder package\n",
    "import sys\n",
    "sys.path.append('../')"
   ]
  },
  {
   "attachments": {},
   "cell_type": "markdown",
   "metadata": {},
   "source": [
    "## 1 - DataSource"
   ]
  },
  {
   "attachments": {},
   "cell_type": "markdown",
   "metadata": {},
   "source": [
    "The class **DataSource** provides an interface for the obtaining of data from the different existing Packs managers.\n",
    "\n",
    "A datasource can implement classes:\n",
    "\n",
    "- **Scraper**, to obtain the data directly from the website of the package manager\n",
    "- **CSVNetwork**, to obtain the data from a CSV file"
   ]
  },
  {
   "attachments": {},
   "cell_type": "markdown",
   "metadata": {},
   "source": [
    "In this example we will instantize the desired implementation of data source class\n",
    "\n",
    "Below are some of its most relevant features"
   ]
  },
  {
   "attachments": {},
   "cell_type": "markdown",
   "metadata": {},
   "source": [
    "### Data obtaining via web scarping"
   ]
  },
  {
   "attachments": {},
   "cell_type": "markdown",
   "metadata": {},
   "source": [
    "In the first place we import the implementation of the data source we want, for this example we will use the Bioconductor Scraper"
   ]
  },
  {
   "cell_type": "code",
   "execution_count": 2,
   "metadata": {},
   "outputs": [],
   "source": [
    "from olivia_finder.data_source.scrapers.bioconductor import BiocScraper\n",
    "bioc_scraper_ds = BiocScraper()"
   ]
  },
  {
   "attachments": {},
   "cell_type": "markdown",
   "metadata": {},
   "source": [
    "Show relevant information about the data source"
   ]
  },
  {
   "cell_type": "code",
   "execution_count": 3,
   "metadata": {},
   "outputs": [
    {
     "name": "stdout",
     "output_type": "stream",
     "text": [
      "{'name': 'Bioconductor', 'description': 'Scraper class implementation for the Bioconductor package network'}\n"
     ]
    }
   ],
   "source": [
    "print(bioc_scraper_ds.get_info())"
   ]
  },
  {
   "attachments": {},
   "cell_type": "markdown",
   "metadata": {},
   "source": [
    "Get a list with the name of the packages obtained from this source\n",
    "\n",
    "Specifically, the Biic Scraper class gets the list of packages from the url:\n",
    "\n",
    "-   https://bioconductor.org/packages/release/BiocViews.html#___Software"
   ]
  },
  {
   "attachments": {},
   "cell_type": "markdown",
   "metadata": {},
   "source": [
    "Each specific implementation of a Scraper must manage this process on its own."
   ]
  },
  {
   "cell_type": "code",
   "execution_count": 3,
   "metadata": {},
   "outputs": [
    {
     "data": {
      "text/plain": [
       "['ABSSeq',\n",
       " 'ABarray',\n",
       " 'ACE',\n",
       " 'ACME',\n",
       " 'ADAM',\n",
       " 'ADAMgui',\n",
       " 'ADImpute',\n",
       " 'ADaCGH2',\n",
       " 'AGDEX',\n",
       " 'AIMS']"
      ]
     },
     "execution_count": 3,
     "metadata": {},
     "output_type": "execute_result"
    }
   ],
   "source": [
    "package_list = bioc_scraper_ds.obtain_package_names()\n",
    "package_list[:10]"
   ]
  },
  {
   "attachments": {},
   "cell_type": "markdown",
   "metadata": {},
   "source": [
    "We can obtain the data from a specific package, for example the **`DeepBlueR`** package"
   ]
  },
  {
   "cell_type": "code",
   "execution_count": 4,
   "metadata": {},
   "outputs": [
    {
     "data": {
      "text/plain": [
       "{'name': 'DeepBlueR',\n",
       " 'version': '1.24.1',\n",
       " 'dependencies': [{'name': 'R', 'version': '>= 3.3'},\n",
       "  {'name': 'XML', 'version': ''},\n",
       "  {'name': 'RCurl', 'version': ''},\n",
       "  {'name': 'GenomicRanges', 'version': ''},\n",
       "  {'name': 'data.table', 'version': ''},\n",
       "  {'name': 'stringr', 'version': ''},\n",
       "  {'name': 'diffr', 'version': ''},\n",
       "  {'name': 'dplyr', 'version': ''},\n",
       "  {'name': 'methods', 'version': ''},\n",
       "  {'name': 'rjson', 'version': ''},\n",
       "  {'name': 'utils', 'version': ''},\n",
       "  {'name': 'R.utils', 'version': ''},\n",
       "  {'name': 'foreach', 'version': ''},\n",
       "  {'name': 'withr', 'version': ''},\n",
       "  {'name': 'rtracklayer', 'version': ''},\n",
       "  {'name': 'GenomeInfoDb', 'version': ''},\n",
       "  {'name': 'settings', 'version': ''},\n",
       "  {'name': 'filehash', 'version': ''}],\n",
       " 'url': 'https://www.bioconductor.org/packages/release/bioc/html/DeepBlueR.html'}"
      ]
     },
     "execution_count": 4,
     "metadata": {},
     "output_type": "execute_result"
    }
   ],
   "source": [
    "deepbluer = bioc_scraper_ds.obtain_package_data(\"DeepBlueR\")\n",
    "deepbluer"
   ]
  },
  {
   "attachments": {},
   "cell_type": "markdown",
   "metadata": {},
   "source": [
    "Be careful with the sensitivity to **caps**, if the package has not been found, an **ScraperError** exception is raised"
   ]
  },
  {
   "cell_type": "code",
   "execution_count": 5,
   "metadata": {},
   "outputs": [
    {
     "name": "stdout",
     "output_type": "stream",
     "text": [
      "ScraperError: Package deepbluer not found\n"
     ]
    }
   ],
   "source": [
    "try:\n",
    "    deepbluer2 = bioc_scraper_ds.obtain_package_data(\"deepbluer\")\n",
    "except Exception as e:\n",
    "    print(e)"
   ]
  },
  {
   "attachments": {},
   "cell_type": "markdown",
   "metadata": {},
   "source": [
    "We can get the data from a list of package names using the function:\n",
    "-   ```python\n",
    "    obtain_packages_data(list[str])\n",
    "    ```"
   ]
  },
  {
   "cell_type": "code",
   "execution_count": 6,
   "metadata": {},
   "outputs": [
    {
     "data": {
      "text/plain": [
       "[{'name': 'ABSSeq',\n",
       "  'version': '1.52.0',\n",
       "  'dependencies': [{'name': 'R', 'version': '>= 2.10'},\n",
       "   {'name': 'methods', 'version': ''},\n",
       "   {'name': 'locfit', 'version': ''},\n",
       "   {'name': 'limma', 'version': ''}],\n",
       "  'url': 'https://www.bioconductor.org/packages/release/bioc/html/ABSSeq.html'},\n",
       " {'name': 'ABarray',\n",
       "  'version': '1.66.0',\n",
       "  'dependencies': [{'name': 'Biobase', 'version': ''},\n",
       "   {'name': 'graphics', 'version': ''},\n",
       "   {'name': 'grDevices', 'version': ''},\n",
       "   {'name': 'methods', 'version': ''},\n",
       "   {'name': 'multtest', 'version': ''},\n",
       "   {'name': 'stats', 'version': ''},\n",
       "   {'name': 'tcltk', 'version': ''},\n",
       "   {'name': 'utils', 'version': ''}],\n",
       "  'url': 'https://www.bioconductor.org/packages/release/bioc/html/ABarray.html'},\n",
       " {'name': 'ACE',\n",
       "  'version': '1.16.0',\n",
       "  'dependencies': [{'name': 'R', 'version': '>= 3.4'},\n",
       "   {'name': 'Biobase', 'version': ''},\n",
       "   {'name': 'QDNAseq', 'version': ''},\n",
       "   {'name': 'ggplot2', 'version': ''},\n",
       "   {'name': 'grid', 'version': ''},\n",
       "   {'name': 'stats', 'version': ''},\n",
       "   {'name': 'utils', 'version': ''},\n",
       "   {'name': 'methods', 'version': ''},\n",
       "   {'name': 'grDevices', 'version': ''},\n",
       "   {'name': 'GenomicRanges', 'version': ''}],\n",
       "  'url': 'https://www.bioconductor.org/packages/release/bioc/html/ACE.html'}]"
      ]
     },
     "execution_count": 6,
     "metadata": {},
     "output_type": "execute_result"
    }
   ],
   "source": [
    "pkgs_data, not_found = bioc_scraper_ds.obtain_packages_data(package_list[:3])\n",
    "pkgs_data"
   ]
  },
  {
   "cell_type": "code",
   "execution_count": 9,
   "metadata": {},
   "outputs": [
    {
     "name": "stdout",
     "output_type": "stream",
     "text": [
      "Package: ABSSeq (1.52.0)\n",
      "-   Dependency: R >= 2.10\n",
      "-   Dependency: methods \n",
      "-   Dependency: locfit \n",
      "-   Dependency: limma \n",
      "Package: ABarray (1.66.0)\n",
      "-   Dependency: Biobase \n",
      "-   Dependency: graphics \n",
      "-   Dependency: grDevices \n",
      "-   Dependency: methods \n",
      "-   Dependency: multtest \n",
      "-   Dependency: stats \n",
      "-   Dependency: tcltk \n",
      "-   Dependency: utils \n",
      "Package: ACE (1.16.0)\n",
      "-   Dependency: R >= 3.4\n",
      "-   Dependency: Biobase \n",
      "-   Dependency: QDNAseq \n",
      "-   Dependency: ggplot2 \n",
      "-   Dependency: grid \n",
      "-   Dependency: stats \n",
      "-   Dependency: utils \n",
      "-   Dependency: methods \n",
      "-   Dependency: grDevices \n",
      "-   Dependency: GenomicRanges \n"
     ]
    }
   ],
   "source": [
    "for p in pkgs_data:\n",
    "    print(f'Package: {p[\"name\"]} ({p[\"version\"]})')\n",
    "\n",
    "    for d in p[\"dependencies\"]:\n",
    "        print(f'-   Dependency: {d[\"name\"]} {d[\"version\"]}')"
   ]
  },
  {
   "attachments": {},
   "cell_type": "markdown",
   "metadata": {},
   "source": [
    "Packages not found appear as the second object of the tuple"
   ]
  },
  {
   "cell_type": "code",
   "execution_count": 7,
   "metadata": {},
   "outputs": [
    {
     "data": {
      "text/plain": [
       "['deepbluer']"
      ]
     },
     "execution_count": 7,
     "metadata": {},
     "output_type": "execute_result"
    }
   ],
   "source": [
    "pkgs_data, not_found = bioc_scraper_ds.obtain_packages_data([\"deepbluer\", \"DeepBlueR\"])\n",
    "not_found"
   ]
  },
  {
   "attachments": {},
   "cell_type": "markdown",
   "metadata": {},
   "source": [
    "### Data obtaining from CSV files"
   ]
  },
  {
   "cell_type": "code",
   "execution_count": 2,
   "metadata": {},
   "outputs": [],
   "source": [
    "from olivia_finder.data_source.csv_network import CSVNetwork"
   ]
  },
  {
   "cell_type": "code",
   "execution_count": 4,
   "metadata": {},
   "outputs": [],
   "source": [
    "# Load the network\n",
    "bioc_csv_ds = CSVNetwork(\n",
    "    \"results/csv_datasets/bioconductor_adjlist_scraping.csv\",  # Path to the CSV file\n",
    "    \"Bioconductor\",                         # Name of the data source\n",
    "    \"Bioconductor as a CSV file\",            # Description of the data source\n",
    "    dependent_field=\"name\",                 # Name of the field that contains the dependencies\n",
    "    dependency_field=\"dependency\",          # Name of the field that contains the name of the package\n",
    "    dependent_version_field=\"version\",      # Name of the field that contains the version of the package\n",
    "    dependency_version_field=\"dependency_version\",     # Name of the field that contains the version of the dependency\n",
    "    dependent_url_field=\"url\",              # Name of the field that contains the URL of the package\n",
    ")"
   ]
  },
  {
   "cell_type": "code",
   "execution_count": 5,
   "metadata": {},
   "outputs": [
    {
     "data": {
      "text/plain": [
       "['ABSSeq',\n",
       " 'ABarray',\n",
       " 'ACE',\n",
       " 'ACME',\n",
       " 'ADAM',\n",
       " 'ADAMgui',\n",
       " 'ADImpute',\n",
       " 'ADaCGH2',\n",
       " 'AGDEX',\n",
       " 'AIMS']"
      ]
     },
     "execution_count": 5,
     "metadata": {},
     "output_type": "execute_result"
    }
   ],
   "source": [
    "package_list = bioc_csv_ds.obtain_package_names()\n",
    "package_list[:10]"
   ]
  },
  {
   "cell_type": "code",
   "execution_count": 6,
   "metadata": {},
   "outputs": [
    {
     "data": {
      "text/plain": [
       "{'name': 'DeepBlueR',\n",
       " 'version': '1.24.1',\n",
       " 'url': 'https://www.bioconductor.org/packages/release/bioc/html/DeepBlueR.html',\n",
       " 'dependencies': [{'name': 'R', 'version': '>= 3.3'},\n",
       "  {'name': 'XML', 'version': nan},\n",
       "  {'name': 'RCurl', 'version': nan},\n",
       "  {'name': 'GenomicRanges', 'version': nan},\n",
       "  {'name': 'data.table', 'version': nan},\n",
       "  {'name': 'stringr', 'version': nan},\n",
       "  {'name': 'diffr', 'version': nan},\n",
       "  {'name': 'dplyr', 'version': nan},\n",
       "  {'name': 'methods', 'version': nan},\n",
       "  {'name': 'rjson', 'version': nan},\n",
       "  {'name': 'utils', 'version': nan},\n",
       "  {'name': 'R.utils', 'version': nan},\n",
       "  {'name': 'foreach', 'version': nan},\n",
       "  {'name': 'withr', 'version': nan},\n",
       "  {'name': 'rtracklayer', 'version': nan},\n",
       "  {'name': 'GenomeInfoDb', 'version': nan},\n",
       "  {'name': 'settings', 'version': nan},\n",
       "  {'name': 'filehash', 'version': nan}]}"
      ]
     },
     "execution_count": 6,
     "metadata": {},
     "output_type": "execute_result"
    }
   ],
   "source": [
    "deepbluer = bioc_csv_ds.obtain_package_data(\"DeepBlueR\")\n",
    "deepbluer"
   ]
  },
  {
   "cell_type": "code",
   "execution_count": 7,
   "metadata": {},
   "outputs": [
    {
     "data": {
      "text/plain": [
       "[{'name': 'ABSSeq',\n",
       "  'version': '1.52.0',\n",
       "  'url': 'https://www.bioconductor.org/packages/release/bioc/html/ABSSeq.html',\n",
       "  'dependencies': [{'name': 'R', 'version': '>= 2.10'},\n",
       "   {'name': 'methods', 'version': nan},\n",
       "   {'name': 'locfit', 'version': nan},\n",
       "   {'name': 'limma', 'version': nan}]},\n",
       " {'name': 'ABarray',\n",
       "  'version': '1.66.0',\n",
       "  'url': 'https://www.bioconductor.org/packages/release/bioc/html/ABarray.html',\n",
       "  'dependencies': [{'name': 'Biobase', 'version': nan},\n",
       "   {'name': 'graphics', 'version': nan},\n",
       "   {'name': 'grDevices', 'version': nan},\n",
       "   {'name': 'methods', 'version': nan},\n",
       "   {'name': 'multtest', 'version': nan},\n",
       "   {'name': 'stats', 'version': nan},\n",
       "   {'name': 'tcltk', 'version': nan},\n",
       "   {'name': 'utils', 'version': nan}]},\n",
       " {'name': 'ACE',\n",
       "  'version': '1.16.0',\n",
       "  'url': 'https://www.bioconductor.org/packages/release/bioc/html/ACE.html',\n",
       "  'dependencies': [{'name': 'R', 'version': '>= 3.4'},\n",
       "   {'name': 'Biobase', 'version': nan},\n",
       "   {'name': 'QDNAseq', 'version': nan},\n",
       "   {'name': 'ggplot2', 'version': nan},\n",
       "   {'name': 'grid', 'version': nan},\n",
       "   {'name': 'stats', 'version': nan},\n",
       "   {'name': 'utils', 'version': nan},\n",
       "   {'name': 'methods', 'version': nan},\n",
       "   {'name': 'grDevices', 'version': nan},\n",
       "   {'name': 'GenomicRanges', 'version': nan}]}]"
      ]
     },
     "execution_count": 7,
     "metadata": {},
     "output_type": "execute_result"
    }
   ],
   "source": [
    "packages = bioc_csv_ds.obtain_packages_data(package_list[:3])\n",
    "packages"
   ]
  },
  {
   "attachments": {},
   "cell_type": "markdown",
   "metadata": {},
   "source": [
    "---"
   ]
  },
  {
   "attachments": {},
   "cell_type": "markdown",
   "metadata": {},
   "source": [
    "## 2 - Initialization of a package manager"
   ]
  },
  {
   "cell_type": "code",
   "execution_count": 8,
   "metadata": {},
   "outputs": [],
   "source": [
    "from olivia_finder.package_manager import PackageManager"
   ]
  },
  {
   "attachments": {},
   "cell_type": "markdown",
   "metadata": {},
   "source": [
    "**Declare the class**\n",
    "\n",
    "Initialize the packagemanager class with the implementation of the scraper we want"
   ]
  },
  {
   "cell_type": "code",
   "execution_count": 9,
   "metadata": {},
   "outputs": [],
   "source": [
    "from olivia_finder.data_source.scrapers.pypi import PypiScraper\n",
    "pypi_scraper_pm = PackageManager(PypiScraper())"
   ]
  },
  {
   "attachments": {},
   "cell_type": "markdown",
   "metadata": {},
   "source": [
    "Or init the class from csv file"
   ]
  },
  {
   "cell_type": "code",
   "execution_count": 5,
   "metadata": {},
   "outputs": [],
   "source": [
    "from olivia_finder.data_source.csv_network import CSVNetwork"
   ]
  },
  {
   "cell_type": "code",
   "execution_count": 6,
   "metadata": {},
   "outputs": [
    {
     "name": "stdout",
     "output_type": "stream",
     "text": [
      "Scraped CRAN packages: 18195\n"
     ]
    }
   ],
   "source": [
    "cran_scraped_csv_pm = PackageManager(\n",
    "    CSVNetwork(\n",
    "        \"results/csv_datasets/cran_adjlist_scraping.csv\",   # Path to the CSV file\n",
    "        \"CRAN\",                                             # Name of the data source\n",
    "        \"CRAN as a CSV file\",                               # Description of the data source\n",
    "        dependent_field=\"name\",                             # Name of the field that contains the dependencies\n",
    "        dependency_field=\"dependency\",                      # Name of the field that contains the name of the package\n",
    "        dependent_version_field=\"version\",                  # Name of the field that contains the version of the package\n",
    "        dependency_version_field=\"dependency_version\",     # Name of the field that contains the version of the dependency\n",
    "        dependent_url_field=\"url\",                          # Name of the field that contains the URL of the package\n",
    "    )\n",
    ")\n",
    "\n",
    "print(f'Scraped CRAN packages: {len(cran_scraped_csv_pm.data_source.obtain_package_names())}')"
   ]
  },
  {
   "cell_type": "code",
   "execution_count": 7,
   "metadata": {},
   "outputs": [
    {
     "name": "stdout",
     "output_type": "stream",
     "text": [
      "Libraries.io CRAN packages: 15522\n"
     ]
    }
   ],
   "source": [
    "cran_librariesio_csv_pm = PackageManager(\n",
    "    CSVNetwork(\n",
    "        \"results/csv_datasets/cran_librariesio_dependencies.csv\",   # Path to the CSV file  \n",
    "        \"CRAN\",                                                     # Name of the data source\n",
    "        \"CRAN as a CSV file\",                                       # Description of the data source\n",
    "        dependent_field=\"Project Name\",                             # Name of the field that contains the dependencies\n",
    "        dependency_field=\"Dependency Name\",                         # Name of the field that contains the name of the package\n",
    "        dependent_version_field=\"Version Number\",                   # Name of the field that contains the version of the package\n",
    "        dependency_version_field=\"Dependency Requirements\"          # Name of the field that contains the version of the dependency\n",
    "    )\n",
    ")\n",
    "print(f'Libraries.io CRAN packages: {len(cran_librariesio_csv_pm.data_source.obtain_package_names())}')"
   ]
  },
  {
   "attachments": {},
   "cell_type": "markdown",
   "metadata": {},
   "source": [
    "**Get a package from package manager**"
   ]
  },
  {
   "cell_type": "code",
   "execution_count": 10,
   "metadata": {},
   "outputs": [
    {
     "name": "stdout",
     "output_type": "stream",
     "text": [
      "Package:\n",
      "  name: networkx\n",
      "  version: 3.0\n",
      "  url: https://pypi.org/project/networkx/\n",
      "  dependencies:\n",
      "    numpy:(>=1.20)\n",
      "    scipy:(>=1.8)\n",
      "    matplotlib:(>=3.4)\n",
      "    pandas:(>=1.3)\n",
      "    pre-commit:(>=2.20)\n",
      "    mypy:(>=0.991)\n",
      "    sphinx:(==5.2.3)\n",
      "    pydata-sphinx-theme:(>=0.11)\n",
      "    sphinx-gallery:(>=0.11)\n",
      "    numpydoc:(>=1.5)\n",
      "    pillow:(>=9.2)\n",
      "    nb2plots:(>=0.6)\n",
      "    texext:(>=0.6.7)\n",
      "    lxml:(>=4.6)\n",
      "    pygraphviz:(>=1.10)\n",
      "    pydot:(>=1.4.2)\n",
      "    sympy:(>=1.10)\n",
      "    pytest:(>=7.2)\n",
      "    pytest-cov:(>=4.0)\n",
      "    codecov:(>=2.1)\n"
     ]
    }
   ],
   "source": [
    "networkx = pypi_scraper_pm.obtain_package(\"networkx\")\n",
    "networkx.print()"
   ]
  },
  {
   "cell_type": "code",
   "execution_count": 8,
   "metadata": {},
   "outputs": [
    {
     "name": "stdout",
     "output_type": "stream",
     "text": [
      "Package:\n",
      "  name: A3\n",
      "  version: 1.0.0\n",
      "  url: https://cran.r-project.org/package=A3\n",
      "  dependencies:\n",
      "    R:≥ 2.15.0\n",
      "    xtable:nan\n",
      "    pbapply:nan\n",
      "\n",
      "------------------\n",
      "\n",
      "Package:\n",
      "  name: A3\n",
      "  version: 1.0.0\n",
      "  url: None\n",
      "  dependencies:\n",
      "    R:>= 2.15.0\n",
      "    randomForest:*\n"
     ]
    }
   ],
   "source": [
    "cran_scraped_csv_pm.obtain_package(\"A3\").print()\n",
    "print(\"\\n------------------\\n\")\n",
    "cran_librariesio_csv_pm.obtain_package(\"A3\").print()"
   ]
  },
  {
   "attachments": {},
   "cell_type": "markdown",
   "metadata": {},
   "source": [
    "**Get packages from a list of package names**"
   ]
  },
  {
   "attachments": {},
   "cell_type": "markdown",
   "metadata": {},
   "source": [
    "Webscraping-based implementation obtains the data manager website data"
   ]
  },
  {
   "cell_type": "code",
   "execution_count": 11,
   "metadata": {},
   "outputs": [
    {
     "data": {
      "text/plain": [
       "[<olivia_finder.package.Package at 0x7fed5937bd90>,\n",
       " <olivia_finder.package.Package at 0x7fed27ae2250>,\n",
       " <olivia_finder.package.Package at 0x7fed27ae26a0>]"
      ]
     },
     "execution_count": 11,
     "metadata": {},
     "output_type": "execute_result"
    }
   ],
   "source": [
    "packages = pypi_scraper_pm.obtain_packages([\"networkx\", \"numpy\", \"pandas\"])\n",
    "packages"
   ]
  },
  {
   "cell_type": "code",
   "execution_count": 20,
   "metadata": {},
   "outputs": [
    {
     "name": "stdout",
     "output_type": "stream",
     "text": [
      "Package:\n",
      "  name: pandas\n",
      "  version: 1.5.3\n",
      "  url: https://pypi.org/project/pandas/\n",
      "  dependencies:\n",
      "    python-dateutil:(>=2.8.1)\n",
      "    pytz:(>=2020.1)\n",
      "    numpy:(>=1.23.2)\n",
      "    hypothesis:(>=5.5.3)\n",
      "    pytest:(>=6.0)\n",
      "    pytest-xdist:(>=1.31)\n"
     ]
    }
   ],
   "source": [
    "packages[2].print()"
   ]
  },
  {
   "attachments": {},
   "cell_type": "markdown",
   "metadata": {},
   "source": [
    "CSV file-based implementation obtains file data from the csv"
   ]
  },
  {
   "cell_type": "code",
   "execution_count": 14,
   "metadata": {},
   "outputs": [
    {
     "name": "stdout",
     "output_type": "stream",
     "text": [
      "\n",
      "------------------\n",
      "\n",
      "Package:\n",
      "  name: A3\n",
      "  version: 1.0.0\n",
      "  url: https://cran.r-project.org/package=A3\n",
      "  dependencies:\n",
      "    R:≥ 2.15.0\n",
      "    xtable:nan\n",
      "    pbapply:nan\n",
      "\n",
      "------------------\n",
      "\n",
      "Package:\n",
      "  name: pbapply\n",
      "  version: 1.7-0\n",
      "  url: https://cran.r-project.org/package=pbapply\n",
      "  dependencies:\n",
      "    R:≥ 3.2.0\n",
      "    parallel:nan\n",
      "\n",
      "------------------\n",
      "\n",
      "Package:\n",
      "  name: xtable\n",
      "  version: 1.8-4\n",
      "  url: https://cran.r-project.org/package=xtable\n",
      "  dependencies:\n",
      "    R:≥ 2.10.0\n",
      "    stats:nan\n",
      "    utils:nan\n"
     ]
    }
   ],
   "source": [
    "cran_packages = cran_scraped_csv_pm.obtain_packages([\"A3\", \"pbapply\", \"xtable\"])\n",
    "for p in cran_packages:\n",
    "    print(\"\\n------------------\\n\")\n",
    "    p.print()"
   ]
  },
  {
   "attachments": {},
   "cell_type": "markdown",
   "metadata": {},
   "source": [
    "**Get all packages from a package manager**"
   ]
  },
  {
   "attachments": {},
   "cell_type": "markdown",
   "metadata": {},
   "source": [
    "***Note:***\n",
    "\n",
    "The functionality of storing packages in the PackageManager object has been implemented\n",
    "\n",
    "-   Can be activated by flag\n",
    "\n",
    "    ```python\n",
    "    extend=True\n",
    "    ```\n",
    "\n",
    "The functionality of showing the progress of obtaining packages has been implemented\n",
    "\n",
    "-   Can be activated by flag\n",
    "\n",
    "    ```python\n",
    "    show_progress=True\n",
    "    ```"
   ]
  },
  {
   "attachments": {},
   "cell_type": "markdown",
   "metadata": {},
   "source": [
    "Getting all the packages from a package manager can take a while, so it is recommended to save the data to a CSV file for later use.\n",
    "\n",
    "We can see that the execution time for half a million packages (Pypi) is around 7 hours.\n",
    "In the case of Bioconductor, to obtain the 2000 packages it contains, the execution time is around 4 minutes."
   ]
  },
  {
   "attachments": {},
   "cell_type": "markdown",
   "metadata": {},
   "source": [
    "-   From **Spraper** data source implementation"
   ]
  },
  {
   "cell_type": "code",
   "execution_count": 7,
   "metadata": {},
   "outputs": [
    {
     "name": "stderr",
     "output_type": "stream",
     "text": [
      " 15%|█▌        | 66423/438514 [1:14:50<6:40:39, 15.48it/s] "
     ]
    }
   ],
   "source": [
    "pypi_packages = pypi_scraper_pm.obtain_packages(extend=True, show_progress=True)"
   ]
  },
  {
   "cell_type": "code",
   "execution_count": null,
   "metadata": {},
   "outputs": [
    {
     "name": "stderr",
     "output_type": "stream",
     "text": [
      "100%|██████████| 2183/2183 [03:47<00:00,  9.59it/s]\n"
     ]
    }
   ],
   "source": [
    "bioc_scraper_pm = PackageManager(BiocScraper())\n",
    "bioconductor_packages = bioc_scraper_pm.obtain_packages(extend=True, show_progress=True)"
   ]
  },
  {
   "attachments": {},
   "cell_type": "markdown",
   "metadata": {},
   "source": [
    "-   From **CSVNetwork** data source implementation"
   ]
  },
  {
   "cell_type": "code",
   "execution_count": 8,
   "metadata": {},
   "outputs": [
    {
     "name": "stderr",
     "output_type": "stream",
     "text": [
      "100%|██████████| 18195/18195 [02:04<00:00, 145.67it/s]\n"
     ]
    }
   ],
   "source": [
    "cran_packages = cran_scraped_csv_pm.obtain_packages(extend=True, show_progress=True)"
   ]
  },
  {
   "cell_type": "code",
   "execution_count": 15,
   "metadata": {},
   "outputs": [
    {
     "name": "stdout",
     "output_type": "stream",
     "text": [
      "Package:\n",
      "  name: A3\n",
      "  version: 1.0.0\n",
      "  url: https://cran.r-project.org/package=A3\n",
      "  dependencies:\n",
      "    R:≥ 2.15.0\n",
      "    xtable:nan\n",
      "    pbapply:nan\n"
     ]
    }
   ],
   "source": [
    "cran_scraped_csv_pm.obtain_package(\"A3\").print()"
   ]
  },
  {
   "cell_type": "code",
   "execution_count": 16,
   "metadata": {},
   "outputs": [
    {
     "name": "stdout",
     "output_type": "stream",
     "text": [
      "Package:\n",
      "  name: A3\n",
      "  version: 1.0.0\n",
      "  url: None\n",
      "  dependencies:\n",
      "    R:>= 2.15.0\n",
      "    randomForest:*\n"
     ]
    }
   ],
   "source": [
    "cran_librariesio_csv_pm.obtain_package(\"A3\").print()"
   ]
  },
  {
   "attachments": {},
   "cell_type": "markdown",
   "metadata": {},
   "source": [
    "As can be seen there is inconsistency among the different data sources, it is recommended to use the most up-to-date source"
   ]
  },
  {
   "attachments": {},
   "cell_type": "markdown",
   "metadata": {},
   "source": [
    "#### Data persistence"
   ]
  },
  {
   "attachments": {},
   "cell_type": "markdown",
   "metadata": {},
   "source": [
    "The functionality of saving the PackageManager object in disk and loading of it has also been implemented, in order to maintain persistence and not repeat processes such as WebScraping."
   ]
  },
  {
   "attachments": {},
   "cell_type": "markdown",
   "metadata": {},
   "source": [
    "**Save the PackageManager object**\n",
    "\n",
    "We can save the object through the `save` function\n",
    "\n",
    "The file extension is irrelevant since it is a binary serialization, but by agreement the extension has been chosen **.olvpm** \"to identify the PackageManager files"
   ]
  },
  {
   "cell_type": "code",
   "execution_count": 18,
   "metadata": {},
   "outputs": [],
   "source": [
    "cran_scraped_csv_pm.save(\"results/package_managers/cran.olvpm\")"
   ]
  },
  {
   "attachments": {},
   "cell_type": "markdown",
   "metadata": {},
   "source": [
    "**Load the PackageManager object**\n",
    "\n",
    "We can load the PackageManager object through the static method\n",
    "\n",
    "```python \n",
    "    PackageManager.load(path:str)\n",
    "```"
   ]
  },
  {
   "cell_type": "code",
   "execution_count": 13,
   "metadata": {},
   "outputs": [
    {
     "name": "stdout",
     "output_type": "stream",
     "text": [
      "Package:\n",
      "  name: A3\n",
      "  version: 1.0.0\n",
      "  url: https://cran.r-project.org/package=A3\n",
      "  dependencies:\n",
      "    R:≥ 2.15.0\n",
      "    xtable:nan\n",
      "    pbapply:nan\n"
     ]
    }
   ],
   "source": [
    "cran_loaded_csv_pm = PackageManager.load(\"results/package_managers/cran.olvpm\")\n",
    "cran_loaded_csv_pm.obtain_package(\"A3\").print()"
   ]
  },
  {
   "attachments": {},
   "cell_type": "markdown",
   "metadata": {},
   "source": [
    "**Export the CSV format**\n",
    "\n",
    "We can export the data of the packages to a CSV, with a structure similar to that of the data of Libraries.\n",
    "\n",
    "We can use the following function to generate a Pandas Dataframe and then write the file as Dis CSV\n",
    "\n",
    "-   \n",
    "    ```python\n",
    "    pandas_df = package_manager.export_full_adjlist()\n",
    "    ```\n"
   ]
  },
  {
   "cell_type": "code",
   "execution_count": 15,
   "metadata": {},
   "outputs": [
    {
     "ename": "AttributeError",
     "evalue": "'list' object has no attribute 'to_csv'",
     "output_type": "error",
     "traceback": [
      "\u001b[0;31m---------------------------------------------------------------------------\u001b[0m",
      "\u001b[0;31mAttributeError\u001b[0m                            Traceback (most recent call last)",
      "Cell \u001b[0;32mIn[15], line 3\u001b[0m\n\u001b[1;32m      1\u001b[0m \u001b[39m# Store the package manager as a adjacency list\u001b[39;00m\n\u001b[1;32m      2\u001b[0m cran_df \u001b[39m=\u001b[39m cran_loaded_csv_pm\u001b[39m.\u001b[39mget_package_list()\n\u001b[0;32m----> 3\u001b[0m cran_df\u001b[39m.\u001b[39;49mto_csv(\u001b[39m\"\u001b[39m\u001b[39mresults/csv_datasets/cran_full_adjlist.csv\u001b[39m\u001b[39m\"\u001b[39m, index\u001b[39m=\u001b[39m\u001b[39mFalse\u001b[39;00m)\n\u001b[1;32m      4\u001b[0m cran_df\u001b[39m.\u001b[39mhead()\n",
      "\u001b[0;31mAttributeError\u001b[0m: 'list' object has no attribute 'to_csv'"
     ]
    }
   ],
   "source": [
    "# Store the package manager as a adjacency list\n",
    "cran_df = cran_loaded_csv_pm.get_package_list()\n",
    "cran_df.to_csv(\"results/csv_datasets/cran_full_adjlist.csv\", index=False)\n",
    "cran_df.head()"
   ]
  }
 ],
 "metadata": {
  "kernelspec": {
   "display_name": "gt",
   "language": "python",
   "name": "python3"
  },
  "language_info": {
   "codemirror_mode": {
    "name": "ipython",
    "version": 3
   },
   "file_extension": ".py",
   "mimetype": "text/x-python",
   "name": "python",
   "nbconvert_exporter": "python",
   "pygments_lexer": "ipython3",
   "version": "3.9.12"
  },
  "orig_nbformat": 4
 },
 "nbformat": 4,
 "nbformat_minor": 2
}
