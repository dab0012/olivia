{
 "cells": [
  {
   "cell_type": "markdown",
   "metadata": {},
   "source": [
    "# OLIVIA\n",
    "**Open-source Library Indexes Vulnerability Identification and Analysis**\n",
    "\n",
    "https://github.com/dsr0018/olivia\n",
    "\n",
    "The use of centralized library repositories to reduce development times and costs is universal, in virtually all languages and types of software projects. Due to the transitivity of dependencies, the appearance of a single defect in the repository can have extensive and difficult-to-predict effects on the ecosystem. These defects cause functional errors or performance or security problems. The risk is difficult to grasp for developers, who only explicitly import a small part of the dependencies.\n",
    "\n",
    "OLVIA uses an approach based on the vulnerability of the dependency network of software packages, which measures how sensitive the repository is to the random introduction of defects. The goals of the model are  to contribute to the understanding of propagation mechanisms of software defects and to study feasible protection strategies. This can benefit multiple parties:\n",
    "\n",
    "* **Centralised package managers**, to establish policies and manual or automatic control processes that improve the security and stability of the repositories.\n",
    "* **Software developers** in general, to assess the different risks introduced by the dependencies used in their projects, and **package developers** in particular to understand their responsibility on the ecosystem.\n",
    "* Developers of **continuous quality tools**, to define the concept of vulnerability based on the modeling of the network of package dependencies.\n",
    "\n",
    "***\n",
    "*This notebook is part of a user guide series that cover in detail the operation of the library.\n",
    "This time we treat the basic operations of loading/creating models and dealing with package properties and metrics.*\n",
    "***"
   ]
  },
  {
   "cell_type": "markdown",
   "metadata": {},
   "source": [
    "\n",
    "## A - Basic model usage\n",
    "\n",
    "*OliviaNetwork* is essentially a directed graph with some additional structures to facilitate working with metrics in large dependency networks. The model can be built from a NetworkX directed network or from a file in adjacency list format."
   ]
  },
  {
   "cell_type": "code",
   "execution_count": 1,
   "metadata": {},
   "outputs": [],
   "source": [
    "from olivia.model import OliviaNetwork"
   ]
  },
  {
   "cell_type": "markdown",
   "metadata": {},
   "source": [
    "### 01 - Load model\n",
    "\n",
    "Load a pre-built model from file. This one is based in a snapshot of the Python Package Index (https://pypi.org/) from 2020-01 (data from https://libraries.io/):"
   ]
  },
  {
   "cell_type": "code",
   "execution_count": 2,
   "metadata": {},
   "outputs": [],
   "source": [
    "pypi = OliviaNetwork(r'data/pypi-2020-01-12.olv')"
   ]
  },
  {
   "cell_type": "markdown",
   "metadata": {},
   "source": [
    "As expected, *len()* returns the number of the packages in the network:"
   ]
  },
  {
   "cell_type": "code",
   "execution_count": 3,
   "metadata": {},
   "outputs": [
    {
     "data": {
      "text/plain": [
       "50766"
      ]
     },
     "execution_count": 3,
     "metadata": {},
     "output_type": "execute_result"
    }
   ],
   "source": [
    "len(pypi)"
   ]
  },
  {
   "cell_type": "markdown",
   "metadata": {},
   "source": [
    "You may iterate over package names:"
   ]
  },
  {
   "cell_type": "code",
   "execution_count": 126,
   "metadata": {},
   "outputs": [
    {
     "name": "stdout",
     "output_type": "stream",
     "text": [
      "zaim\n",
      "zaifer\n",
      "zaius-export\n",
      "zaidan\n"
     ]
    }
   ],
   "source": [
    "# Packages in PyPI starting with 'zai'\n",
    "for package in pypi:\n",
    "    if package[0:3]=='zai':\n",
    "        print(package)"
   ]
  },
  {
   "cell_type": "markdown",
   "metadata": {},
   "source": [
    "### 02 - Package properties"
   ]
  },
  {
   "cell_type": "markdown",
   "metadata": {},
   "source": [
    "Access via *getitem* returns a special view object:"
   ]
  },
  {
   "cell_type": "code",
   "execution_count": 30,
   "metadata": {},
   "outputs": [
    {
     "data": {
      "text/plain": [
       "<olivia.model.PackageInfoView at 0x2416a2b0>"
      ]
     },
     "execution_count": 30,
     "metadata": {},
     "output_type": "execute_result"
    }
   ],
   "source": [
    "pypi['networkx']"
   ]
  },
  {
   "cell_type": "markdown",
   "metadata": {},
   "source": [
    "PackageInfoView contains methods returning stats for specific packages. For example, direct dependants are other packages that import networkx in their code:"
   ]
  },
  {
   "cell_type": "code",
   "execution_count": 34,
   "metadata": {},
   "outputs": [
    {
     "data": {
      "text/plain": [
       "{'ASLPAw',\n",
       " 'BioSAK',\n",
       " 'CAMSA',\n",
       " 'CGRtools',\n",
       " 'CNFgen',\n",
       " 'Ciw',\n",
       " 'ClearWrap',\n",
       " 'CommonModules',\n",
       " 'ComplexNetworkSim',\n",
       " 'CountRings',\n",
       " 'FIDL',\n",
       " 'GN',\n",
       " 'GenIce',\n",
       " 'HyperKitty',\n",
       " 'JSONSchema2PoPo2',\n",
       " 'KEGGutils',\n",
       " 'LaueTools',\n",
       " 'LbNightlyTools',\n",
       " 'Lightflow',\n",
       " 'MDAnalysis',\n",
       " 'MXFusion',\n",
       " 'MetEvolSim',\n",
       " 'OSMnx',\n",
       " 'Orange3',\n",
       " 'Orange3-Network',\n",
       " 'Py-YAML-Fixtures',\n",
       " 'PyBEL',\n",
       " 'PyDCD',\n",
       " 'PyDTMC',\n",
       " 'PyDelphin',\n",
       " 'PyVoltha',\n",
       " 'RPackUtils',\n",
       " 'ReacNetGenerator',\n",
       " 'SLRIC',\n",
       " 'StrawberryFields',\n",
       " 'VNE_SIM',\n",
       " 'acopy',\n",
       " 'adage',\n",
       " 'adhesive',\n",
       " 'adviewer',\n",
       " 'agora-py',\n",
       " 'aido-protocols',\n",
       " 'aido-protocols-daffy',\n",
       " 'alcpack',\n",
       " 'allegedb',\n",
       " 'anadama2',\n",
       " 'androguard',\n",
       " 'angel-cd',\n",
       " 'angr',\n",
       " 'anonlink',\n",
       " 'anti-sybil',\n",
       " 'anx',\n",
       " 'aocref',\n",
       " 'arcana',\n",
       " 'arithmat',\n",
       " 'artifact-py',\n",
       " 'asamended',\n",
       " 'ast-scope',\n",
       " 'attacksurfacemeter',\n",
       " 'autonetkit',\n",
       " 'avimigrationtools',\n",
       " 'backbone-network',\n",
       " 'bake-cli',\n",
       " 'bake-cli-imports',\n",
       " 'bayesian-networks',\n",
       " 'bbopt',\n",
       " 'bigants',\n",
       " 'bilateralshapley',\n",
       " 'birkhoff',\n",
       " 'bitcoin-graph',\n",
       " 'blizzard',\n",
       " 'boundary-layer',\n",
       " 'bourbaki',\n",
       " 'bourbaki.introspection',\n",
       " 'bubbletools',\n",
       " 'cadbiom',\n",
       " 'cameo',\n",
       " 'casq',\n",
       " 'catpy',\n",
       " 'cfn-sphere',\n",
       " 'cfn-square',\n",
       " 'chaospy',\n",
       " 'charmrunner',\n",
       " 'chinese-whispers',\n",
       " 'cimpyorm',\n",
       " 'cirq-dev',\n",
       " 'cirq-unstable',\n",
       " 'clang-build',\n",
       " 'click-project',\n",
       " 'clkhash',\n",
       " 'closure-problem',\n",
       " 'cloudify',\n",
       " 'cloudify-common',\n",
       " 'cloudify-dsl-parser',\n",
       " 'cloudify-plugins-common',\n",
       " 'cnftools',\n",
       " 'colomoto_jupyter',\n",
       " 'colormath',\n",
       " 'company-graph',\n",
       " 'compmake',\n",
       " 'conan-ue4cli',\n",
       " 'concrete',\n",
       " 'contrail-api-cli-extra',\n",
       " 'cortexpy',\n",
       " 'cortix',\n",
       " 'cosmos-wfm',\n",
       " 'csirtg-indicator',\n",
       " 'csirtg_indicator',\n",
       " 'ctarn',\n",
       " 'curver',\n",
       " 'cvopt',\n",
       " 'd3graph',\n",
       " 'daflsim',\n",
       " 'dafsa',\n",
       " 'dagmar',\n",
       " 'datajoint',\n",
       " 'dbp',\n",
       " 'dbt-core',\n",
       " 'ddf-pycompss',\n",
       " 'debacl',\n",
       " 'dectree',\n",
       " 'demon',\n",
       " 'depender',\n",
       " 'dials-dependencies',\n",
       " 'diskimage-builder',\n",
       " 'distinctiveness',\n",
       " 'dit',\n",
       " 'django-genomix-workflows',\n",
       " 'dockerbuild-images',\n",
       " 'doconv',\n",
       " 'dppy',\n",
       " 'dstools',\n",
       " 'duckietown-challenges',\n",
       " 'duckietown-challenges-daffy',\n",
       " 'duckietown-world',\n",
       " 'dvc',\n",
       " 'dwave-networkx',\n",
       " 'dwave-system',\n",
       " 'dwavebinarycsp',\n",
       " 'edgesense',\n",
       " 'emspy',\n",
       " 'enigma-catalyst',\n",
       " 'envinspector-sha1n',\n",
       " 'envinstaller-sha1n',\n",
       " 'etudier',\n",
       " 'eva-lcd',\n",
       " 'faucet',\n",
       " 'fcn',\n",
       " 'femagtools',\n",
       " 'flowket',\n",
       " 'flowtest',\n",
       " 'fluent-prov',\n",
       " 'followthemoney',\n",
       " 'forest-benchmarking',\n",
       " 'francy-widget',\n",
       " 'g2p',\n",
       " 'geneblocks',\n",
       " 'geometric',\n",
       " 'ggea',\n",
       " 'giotto-learn-nightly',\n",
       " 'girder-worker',\n",
       " 'glow-navigator',\n",
       " 'glycompare',\n",
       " 'go-stats',\n",
       " 'googleapis-artman',\n",
       " 'gpmap',\n",
       " 'graaf-tools',\n",
       " 'grapetree',\n",
       " 'graph-nets',\n",
       " 'graphannis',\n",
       " 'graphdot',\n",
       " 'graphembed',\n",
       " 'graphlearn',\n",
       " 'graphstat',\n",
       " 'graphtik',\n",
       " 'graphunc',\n",
       " 'grimp',\n",
       " 'grinpy',\n",
       " 'harvesttext',\n",
       " 'hpo-similarity',\n",
       " 'hypothesis-networkx',\n",
       " 'idapython-core-utils',\n",
       " 'idapython-utils-core',\n",
       " 'ignition-framework',\n",
       " 'importlab',\n",
       " 'indra',\n",
       " 'ipysigma',\n",
       " 'isa-rwval',\n",
       " 'isatools',\n",
       " 'isomer',\n",
       " 'janis-pipelines',\n",
       " 'janis-pipelines.core',\n",
       " 'jatnipy',\n",
       " 'jcvi',\n",
       " 'jdna',\n",
       " 'jena-sempy',\n",
       " 'jgtextrank',\n",
       " 'jolt',\n",
       " 'karateclub',\n",
       " 'kdap',\n",
       " 'kimimaro',\n",
       " 'kmaxtools',\n",
       " 'koala2',\n",
       " 'kubeflow-kale',\n",
       " 'larc',\n",
       " 'lattices',\n",
       " 'layer-linter',\n",
       " 'lcapy',\n",
       " 'linkalman',\n",
       " 'lndmanage',\n",
       " 'losd',\n",
       " 'matchengine-V2',\n",
       " 'mbuild',\n",
       " 'mdkit',\n",
       " 'mechwolf',\n",
       " 'metaknowledge',\n",
       " 'minus80',\n",
       " 'mistral',\n",
       " 'modelx',\n",
       " 'mosaik',\n",
       " 'mosaik-web',\n",
       " 'mosaik.Core-semver',\n",
       " 'mrakun',\n",
       " 'msticpy',\n",
       " 'muteria',\n",
       " 'my-mosaik',\n",
       " 'myo',\n",
       " 'ndex-dev',\n",
       " 'ndex2',\n",
       " 'ndexutil',\n",
       " 'netdiff',\n",
       " 'netomaton',\n",
       " 'netwulf',\n",
       " 'ngram_graphs',\n",
       " 'nipype',\n",
       " 'niworkflows',\n",
       " 'node-conformity',\n",
       " 'nttc',\n",
       " 'obj-tables',\n",
       " 'oddt',\n",
       " 'odooup',\n",
       " 'onegov.core',\n",
       " 'ontobio',\n",
       " 'openmdao',\n",
       " 'openomics',\n",
       " 'ophyd',\n",
       " 'or2ywtool',\n",
       " 'orquesta',\n",
       " 'ortoolpy',\n",
       " 'osaca',\n",
       " 'osrframework',\n",
       " 'ovp',\n",
       " 'pangtreebuild',\n",
       " 'paramnet',\n",
       " 'parrotprediction-openai-envs',\n",
       " 'penaltymodel',\n",
       " 'penaltymodel-mip',\n",
       " 'pep2prot',\n",
       " 'phenopy',\n",
       " 'piniverse',\n",
       " 'pinspect',\n",
       " 'pmk',\n",
       " 'pomegranate',\n",
       " 'proactive-jupyter-kernel',\n",
       " 'pronto',\n",
       " 'properties-inheritance-graph',\n",
       " 'prosodic',\n",
       " 'prov',\n",
       " 'pvactools',\n",
       " 'pyConTextNLP',\n",
       " 'pyNTM',\n",
       " 'pyadigraph',\n",
       " 'pyannote.core',\n",
       " 'pybbn',\n",
       " 'pybel',\n",
       " 'pyblastbio',\n",
       " 'pycel',\n",
       " 'pycoSHARK',\n",
       " 'pydent',\n",
       " 'pydna',\n",
       " 'pydra',\n",
       " 'pyemap',\n",
       " 'pyfastg',\n",
       " 'pygrank',\n",
       " 'pymatgen',\n",
       " 'pymatuning',\n",
       " 'pymedphys-monomanage',\n",
       " 'pynets',\n",
       " 'pypants',\n",
       " 'pyphs',\n",
       " 'pypowervm',\n",
       " 'pyproteinsExt',\n",
       " 'pypsa',\n",
       " 'pyquil',\n",
       " 'pyrates',\n",
       " 'pyrender',\n",
       " 'pyro-ppl',\n",
       " 'pyrthomas',\n",
       " 'pysemigroup',\n",
       " 'pysnafu',\n",
       " 'pyspread',\n",
       " 'python-dice',\n",
       " 'python-louvain',\n",
       " 'python-vitrageclient',\n",
       " 'python-watcher',\n",
       " 'pythran',\n",
       " 'pyvis',\n",
       " 'pyvoltha',\n",
       " 'queueing-tool',\n",
       " 'raco',\n",
       " 'raiden-services',\n",
       " 'rasa-core',\n",
       " 'renku',\n",
       " 'reponetwork',\n",
       " 'retentioneering',\n",
       " 'rgmining-fraud-eagle',\n",
       " 'rgmining-ria',\n",
       " 'rgmining-rsd',\n",
       " 'rhasspy-nlu',\n",
       " 'roadmaptools',\n",
       " 'rolling-pin',\n",
       " 'rstmarcutree',\n",
       " 'sanskrit-parser',\n",
       " 'sceptre',\n",
       " 'sceptre-core',\n",
       " 'schedula',\n",
       " 'scikit-image',\n",
       " 'score.init',\n",
       " 'sdss-marvin',\n",
       " 'shminspector',\n",
       " 'shminspector-sha1n',\n",
       " 'shminstaller',\n",
       " 'shminstaller-sha1n',\n",
       " 'shuffle-graph',\n",
       " 'simulaqron',\n",
       " 'slric',\n",
       " 'snakemake',\n",
       " 'sos',\n",
       " 'spacy-pattern-builder',\n",
       " 'spada',\n",
       " 'spherogram',\n",
       " 'status-map',\n",
       " 'stubbed',\n",
       " 'sweetpea',\n",
       " 'switchyard',\n",
       " 'synpp',\n",
       " 'taskflow',\n",
       " 'tesp_support',\n",
       " 'textacy',\n",
       " 'textrankr',\n",
       " 'thapbi-pict',\n",
       " 'thoth-lab',\n",
       " 'topicnetwork',\n",
       " 'trimesh',\n",
       " 'tsm',\n",
       " 'tsplib95',\n",
       " 'tvb-library',\n",
       " 'uk-boards',\n",
       " 'urdfpy',\n",
       " 'utool',\n",
       " 'vermouth',\n",
       " 'vitrage',\n",
       " 'vk_analyse',\n",
       " 'wmipa',\n",
       " 'womg-core',\n",
       " 'workstation-install-sha1n',\n",
       " 'xe2',\n",
       " 'xossynchronizer',\n",
       " 'ybt',\n",
       " 'zag',\n",
       " 'zkviz',\n",
       " 'zuper-nodes-z5'}"
      ]
     },
     "execution_count": 34,
     "metadata": {},
     "output_type": "execute_result"
    }
   ],
   "source": [
    "pypi['networkx'].direct_dependants()"
   ]
  },
  {
   "cell_type": "code",
   "execution_count": 35,
   "metadata": {},
   "outputs": [
    {
     "name": "stdout",
     "output_type": "stream",
     "text": [
      "NetworkX has 372 direct dependants\n"
     ]
    }
   ],
   "source": [
    "print(f\"NetworkX has {len(pypi['networkx'].direct_dependants())} direct dependants\")"
   ]
  },
  {
   "cell_type": "markdown",
   "metadata": {},
   "source": [
    "Packages may depend on NetworkX not only directly, but also via transitive dependencies:"
   ]
  },
  {
   "cell_type": "code",
   "execution_count": 38,
   "metadata": {},
   "outputs": [
    {
     "name": "stdout",
     "output_type": "stream",
     "text": [
      "NetworkX has 589 transitive dependants (includes direct dependants)\n"
     ]
    }
   ],
   "source": [
    "print(f\"NetworkX has {len(pypi['networkx'].transitive_dependants())} transitive dependants (includes direct dependants)\")"
   ]
  },
  {
   "cell_type": "markdown",
   "metadata": {},
   "source": [
    "Packages are returned as sets so we may apply the usual set operators. For example, these packages depend on NetworkX but do not explicitly import it:"
   ]
  },
  {
   "cell_type": "code",
   "execution_count": 40,
   "metadata": {
    "scrolled": true
   },
   "outputs": [
    {
     "name": "stdout",
     "output_type": "stream",
     "text": [
      "{'ceilometer-powervm', 'nobrainer', 'irdap', 'mosaik.Demo-semver', 'LiSE', 'nslsii', 'angrop', 'mosaik.ScenarioTools', 'imply', 'xenonpy', 'score.jinja2', 'mriqc', 'nodepool', 'score.sa.db', 'pyvcloud', 'balkhash', 'dvc-cc', 'envdump-sha1n', 'ue4-ci-helpers', 'ndexgenehancerloader', 'toai', 'brainio', 'networking-powervm', 'mosaik.SimConfig', 'pyxrf', 'degas', 'fastr', 'termlink', 'scan-to-paperless', 'compath-utils', 'galaxy-lib', 'prov-db-connector', 'biobakery-workflows', 'biobb-analysis', 'sos-python', 'dbt-spark', 'scriptcwl', 'omesa', 'Orange3-Text', 'cifsdk_zyre', 'mosaik.scenario-tools', 'csirtgsdk', 'lime', 'xd-cwl-utils', 'sdcflows', 'score.jsapi', 'ephysiopy', 'score.ctx', 'qpsphere', 'score.ws', 'sceptre-aws-resolver', 'score.auth', 'dbt-snowflake', 'trove', 'mzml2isa', 'biobb-io', 'tridentx', 'girder-tech-journal', 'niflow-nipype1-workflows', 'cwltool', 'followthemoney-enrich', 'score.webassets', 'colorific', 'score.projects', 'girder-large-image', 'calrissian', 'malwareconfig', 'tensorfont', 'netQuil', 'score.js', 'ctr', 'django-phenotype-ontologies', 'vertices', 'dhlab', 'large-image-tasks', 'multicolorfits', 'janis-pipelines.runner', 'odessa-etape', 'fluidasserts', 'dsc', 'score.tpl', 'followthemoney-util', 'refcliq', 'import-linter', 'janis-pipelines.templates', 'penaltymodel-maxgap', 'duckietown-challenges-runner', 'histomicsui', 'kismet', 'ginsim', 'lifelib', 'planemo', 'toytree', 'htrc', 'ndexstringloader', 'dagster-dbt', 'austen', 'sceptre-s3-packager', 'medImgProc', 'clickpoints', 'ConsumerCheck', 'pytype', 'DeepSR', 'pytranskit', 'apeer-ometiff-library', 'ibl-pipeline', 'wc-utils', 'agora-graphql', 'nova', 'bio-pyvol', 'container-service-extension', 'proMAD', 'janis-pipelines.pipelines', 'pydens', 'girder-slicer-cli-web', 'bourbaki.application', 'badlands-companion', 'Orange-Spectroscopy', 'octavia', 'rasl', 'cwl-airflow-tester', 'score.cli', 'janis-pipelines.bioinformatics', 'differential-evolution', 'iglovikov-helper-functions', 'sahara-image-elements', 'LbScriptsLegacy', 'yadage', 'smriprep', 'starfish', 'dwave-ocean-sdk', 'stardist', 'reana-client', 'bio2bel-entrez', 'bespin-cli', 'biobb-pmx', 'GPlayCli', 'dumpshmamp-sha1n', 'motionSegmentation', 'ndexbiogridloader', 'duckietown-shell', 'face-engine', 'biosteam', 'mvp-module-library', 'cifsdk', 'glance', 'toyplot', 'onegov.winterthur', 'followthemoney-integrate', 'score.serve', 'pulsar-app', 'cinderlib', 'vcd-cli', 'pyannote.generators', 'dumpshmamp', 'score.jslib', 'card-trick', 'fm-track', 'cadbiom-gui', 'axibot', 'sos-pbs', 'cwlab', 'biobb-common', 'image-quality', 'csirtg-smrt', 'eelbrain', 'ndexncipidloader', 'dival', 'karbor', 'aperturesynth', 'jupyter_marvinjs', 'pyprocar', 'fbt', 'sevenbridges-cwl-draft2-upgrader', 'masakari', 'dbt-sqlserver', 'vespasian', 'csirtg_smrt', 'penaltymodel-cache', 'bio2bel-hgnc', 'girder-large-image-annotation', 'impulse', 'sos-notebook', 'biobb-chemistry', 'truegaze', 'cadbiom-cmd', 'biobb-structure-utils', 'mgzdb', 'bohra', 'tomaster', 'nova-powervm', 'sos-papermill', 'pubrunner', 'janis-pipelines.unix', 'cinder', 'magnum', 'score.session', 'dbt-bigquery', 'IndicoIo', 'dbt-mssql', 'agora-cli', 'score.http', 'ironic-python-agent-builder', 'nnabla_ext-cuda', 'wbuild', 'emmaa', 'mir-flare', 'angr-management', 'apstools', 'score.perf', 'UQpy', 'pyannote.db.etape', 'pybel-cx', 'score.sa.orm', 'nnabla', 'pyannote.database', 'torsiondrive'}\n"
     ]
    }
   ],
   "source": [
    "print(pypi['networkx'].transitive_dependants() - pypi['networkx'].direct_dependants())"
   ]
  },
  {
   "cell_type": "markdown",
   "metadata": {},
   "source": [
    "Lets pick one of them and check its dependencies, the packages on which it depends:"
   ]
  },
  {
   "cell_type": "code",
   "execution_count": 43,
   "metadata": {},
   "outputs": [
    {
     "data": {
      "text/plain": [
       "{'click', 'nibabel', 'numpy', 'scikit-image', 'tensorflow-probability'}"
      ]
     },
     "execution_count": 43,
     "metadata": {},
     "output_type": "execute_result"
    }
   ],
   "source": [
    "pypi['nobrainer'].direct_dependencies()"
   ]
  },
  {
   "cell_type": "markdown",
   "metadata": {},
   "source": [
    "NetworkX is not a direct dependency but a transitive one:"
   ]
  },
  {
   "cell_type": "code",
   "execution_count": 41,
   "metadata": {},
   "outputs": [
    {
     "data": {
      "text/plain": [
       "{'PyWavelets',\n",
       " 'bz2file',\n",
       " 'click',\n",
       " 'cloudpickle',\n",
       " 'decorator',\n",
       " 'gast',\n",
       " 'matplotlib',\n",
       " 'networkx',\n",
       " 'nibabel',\n",
       " 'numpy',\n",
       " 'pillow',\n",
       " 'scikit-image',\n",
       " 'scipy',\n",
       " 'six',\n",
       " 'tensorflow-probability'}"
      ]
     },
     "execution_count": 41,
     "metadata": {},
     "output_type": "execute_result"
    }
   ],
   "source": [
    "pypi['nobrainer'].transitive_dependencies()"
   ]
  },
  {
   "cell_type": "markdown",
   "metadata": {},
   "source": [
    "### 03 - Package metrics"
   ]
  },
  {
   "cell_type": "markdown",
   "metadata": {},
   "source": [
    "**REACH** of a package *u* is the number of transitive dependents of *u* plus 1."
   ]
  },
  {
   "cell_type": "code",
   "execution_count": 4,
   "metadata": {},
   "outputs": [
    {
     "data": {
      "text/plain": [
       "590"
      ]
     },
     "execution_count": 4,
     "metadata": {},
     "output_type": "execute_result"
    }
   ],
   "source": [
    "pypi['networkx'].reach()"
   ]
  },
  {
   "cell_type": "markdown",
   "metadata": {},
   "source": [
    "REACH represents the number of packages in the network that could be affected by the occurrence of a defect in *u*, like a bug or a security vulnerability. A bug in networkx could affect 590 packages, including NetworkX.\n",
    "\n",
    "You may calculate REACH package by package, as in the previous example. However, this involves many redundant computations and is very slow. OLIVIA provides efficient methods to calculate REACH for all the nodes in the network."
   ]
  },
  {
   "cell_type": "code",
   "execution_count": 3,
   "metadata": {},
   "outputs": [
    {
     "name": "stdout",
     "output_type": "stream",
     "text": [
      "Computing Reach\n",
      "     Processing node: 50K      \n"
     ]
    }
   ],
   "source": [
    "from olivia.packagemetrics import Reach\n",
    "pypi_reach = pypi.get_metric(Reach)"
   ]
  },
  {
   "cell_type": "markdown",
   "metadata": {},
   "source": [
    "*OliviaModel.get_metric(...)* returns a MetricStats object with the results of the computation. *get_metric(...)* accepts as parameter classes implementing the *compute()* method, such as the ones in *olivia.packagemetrics*"
   ]
  },
  {
   "cell_type": "code",
   "execution_count": 50,
   "metadata": {},
   "outputs": [
    {
     "data": {
      "text/plain": [
       "<olivia.packagemetrics.MetricStats at 0x248710b8>"
      ]
     },
     "execution_count": 50,
     "metadata": {},
     "output_type": "execute_result"
    }
   ],
   "source": [
    "pypi_reach"
   ]
  },
  {
   "cell_type": "code",
   "execution_count": 6,
   "metadata": {},
   "outputs": [
    {
     "data": {
      "text/plain": [
       "590"
      ]
     },
     "execution_count": 6,
     "metadata": {},
     "output_type": "execute_result"
    }
   ],
   "source": [
    "pypi_reach['networkx']"
   ]
  },
  {
   "cell_type": "markdown",
   "metadata": {},
   "source": [
    "Once calculated through *get_metric*, the *MetricStats* object is cached into the *OliviaNetwork* model. In this way, other complex algorithms that use large metric results are freed from managing each one on their own. \n",
    "\n",
    "So there is really no need to store the results into an independent variable like we did."
   ]
  },
  {
   "cell_type": "code",
   "execution_count": 16,
   "metadata": {},
   "outputs": [
    {
     "name": "stdout",
     "output_type": "stream",
     "text": [
      "Reach retrieved from metrics cache\n"
     ]
    }
   ],
   "source": [
    "pypi_reach = pypi.get_metric(Reach)"
   ]
  },
  {
   "cell_type": "code",
   "execution_count": 53,
   "metadata": {},
   "outputs": [
    {
     "name": "stdout",
     "output_type": "stream",
     "text": [
      "Reach retrieved from metrics cache\n"
     ]
    },
    {
     "data": {
      "text/plain": [
       "590"
      ]
     },
     "execution_count": 53,
     "metadata": {},
     "output_type": "execute_result"
    }
   ],
   "source": [
    "pypi.get_metric(Reach)['networkx']"
   ]
  },
  {
   "cell_type": "markdown",
   "metadata": {},
   "source": [
    "The management of the cache is semi-automatic. You can request a value from a network-wide metric that has not yet been calculated and it will be computed and cached the first time:"
   ]
  },
  {
   "cell_type": "code",
   "execution_count": 7,
   "metadata": {},
   "outputs": [
    {
     "name": "stdout",
     "output_type": "stream",
     "text": [
      "Computing Impact\n",
      "     Processing node: 50K      \n",
      "Wall time: 2.64 s\n"
     ]
    },
    {
     "data": {
      "text/plain": [
       "680"
      ]
     },
     "execution_count": 7,
     "metadata": {},
     "output_type": "execute_result"
    }
   ],
   "source": [
    "from olivia.packagemetrics import Impact\n",
    "%time pypi.get_metric(Impact)['networkx']"
   ]
  },
  {
   "cell_type": "code",
   "execution_count": 10,
   "metadata": {},
   "outputs": [
    {
     "name": "stdout",
     "output_type": "stream",
     "text": [
      "Impact retrieved from metrics cache\n",
      "Wall time: 0 ns\n"
     ]
    },
    {
     "data": {
      "text/plain": [
       "680"
      ]
     },
     "execution_count": 10,
     "metadata": {},
     "output_type": "execute_result"
    }
   ],
   "source": [
    "%time pypi.get_metric(Impact)['networkx']"
   ]
  },
  {
   "cell_type": "code",
   "execution_count": 56,
   "metadata": {},
   "outputs": [
    {
     "name": "stdout",
     "output_type": "stream",
     "text": [
      "Impact retrieved from metrics cache\n"
     ]
    },
    {
     "data": {
      "text/plain": [
       "8104"
      ]
     },
     "execution_count": 56,
     "metadata": {},
     "output_type": "execute_result"
    }
   ],
   "source": [
    "pypi.get_metric(Impact)['numpy']"
   ]
  },
  {
   "cell_type": "code",
   "execution_count": 57,
   "metadata": {},
   "outputs": [
    {
     "name": "stdout",
     "output_type": "stream",
     "text": [
      "Impact retrieved from metrics cache\n"
     ]
    },
    {
     "data": {
      "text/plain": [
       "831"
      ]
     },
     "execution_count": 57,
     "metadata": {},
     "output_type": "execute_result"
    }
   ],
   "source": [
    "pypi.get_metric(Impact)['matplotlib']"
   ]
  },
  {
   "cell_type": "markdown",
   "metadata": {},
   "source": [
    "By the way, **IMPACT** is an alternative way of measuring the effect of a defect appearing in the network. It corresponds to the number of \"links\" affected (the number of \"imports\" in Python terms), it could be a better measure of the effort required to recover the network. Technically speaking it is the number of arcs in the graph induced by a node and its transitive dependents.\n",
    "\n",
    "On the other hand, **SURFACE** is the size of the set of transitive dependencies plus 1. SURFACE(*u*) is the number of packages whose defects could affect *u*. High SURFACE packages are more vulnerable to random failures."
   ]
  },
  {
   "cell_type": "code",
   "execution_count": 12,
   "metadata": {},
   "outputs": [
    {
     "name": "stdout",
     "output_type": "stream",
     "text": [
      "Computing Surface\n",
      "     Processing node: 0K       \n"
     ]
    },
    {
     "data": {
      "text/plain": [
       "5"
      ]
     },
     "execution_count": 12,
     "metadata": {},
     "output_type": "execute_result"
    }
   ],
   "source": [
    "from olivia.packagemetrics import Surface\n",
    "pypi.get_metric(Surface)['pandas']"
   ]
  },
  {
   "cell_type": "markdown",
   "metadata": {},
   "source": [
    "*MetricStats* is not just about storing values. It also has some basic methods that are useful for working with metrics. For example, you can get top and bottom packages according to the metric value:"
   ]
  },
  {
   "cell_type": "code",
   "execution_count": 61,
   "metadata": {},
   "outputs": [
    {
     "data": {
      "text/plain": [
       "[('six', 22315),\n",
       " ('idna', 17223),\n",
       " ('certifi', 16760),\n",
       " ('urllib3', 16438),\n",
       " ('chardet', 16384),\n",
       " ('chardet2', 15732),\n",
       " ('requests', 15731),\n",
       " ('attrs', 14606),\n",
       " ('pyparsing', 13873),\n",
       " ('appdirs', 13828)]"
      ]
     },
     "execution_count": 61,
     "metadata": {},
     "output_type": "execute_result"
    }
   ],
   "source": [
    "pypi_reach.top(10)"
   ]
  },
  {
   "cell_type": "code",
   "execution_count": 62,
   "metadata": {},
   "outputs": [
    {
     "data": {
      "text/plain": [
       "[('1pass', 1)]"
      ]
     },
     "execution_count": 62,
     "metadata": {},
     "output_type": "execute_result"
    }
   ],
   "source": [
    "pypi_reach.bottom()"
   ]
  },
  {
   "cell_type": "code",
   "execution_count": 83,
   "metadata": {},
   "outputs": [
    {
     "name": "stdout",
     "output_type": "stream",
     "text": [
      "Surface retrieved from metrics cache\n"
     ]
    },
    {
     "data": {
      "text/plain": [
       "[('sos-papermill', 248),\n",
       " ('dsc', 248),\n",
       " ('dvc-cc', 235),\n",
       " ('paasta-tools', 227),\n",
       " ('sos-python', 226),\n",
       " ('networking-baremetal', 225),\n",
       " ('sos-notebook', 225),\n",
       " ('molecule-azure', 223),\n",
       " ('magnum', 223),\n",
       " ('karbor', 222)]"
      ]
     },
     "execution_count": 83,
     "metadata": {},
     "output_type": "execute_result"
    }
   ],
   "source": [
    "pypi.get_metric(Surface).top(10)"
   ]
  },
  {
   "cell_type": "markdown",
   "metadata": {},
   "source": [
    "As *MetricStats* implements arithmetic operators, you may define compound metrics or other operations like corrections or normalization:"
   ]
  },
  {
   "cell_type": "code",
   "execution_count": 4,
   "metadata": {},
   "outputs": [
    {
     "name": "stdout",
     "output_type": "stream",
     "text": [
      "Reach retrieved from metrics cache\n"
     ]
    },
    {
     "data": {
      "text/plain": [
       "[('six', 0.43956585116022534),\n",
       " ('idna', 0.33926249852263324),\n",
       " ('certifi', 0.3301422211716503),\n",
       " ('urllib3', 0.3237993932947248),\n",
       " ('chardet', 0.32273568924083046),\n",
       " ('chardet2', 0.3098924477012174),\n",
       " ('requests', 0.3098727494779971),\n",
       " ('attrs', 0.2877122483551984),\n",
       " ('pyparsing', 0.27327345073474374),\n",
       " ('appdirs', 0.2723870306898318)]"
      ]
     },
     "execution_count": 4,
     "metadata": {},
     "output_type": "execute_result"
    }
   ],
   "source": [
    "normalized_reach = pypi.get_metric(Reach)/len(pypi)\n",
    "normalized_reach.top(10)"
   ]
  },
  {
   "cell_type": "markdown",
   "metadata": {},
   "source": [
    "and there we can see that a failure in *six* could affect more than 40% of the packets in the network.\n",
    "\n",
    "Likewise, if we normalize SURFACE in relation to the size of the network, we obtain the probability that a uniformly random failure will affect each package:\n"
   ]
  },
  {
   "cell_type": "code",
   "execution_count": 13,
   "metadata": {},
   "outputs": [
    {
     "name": "stdout",
     "output_type": "stream",
     "text": [
      "Surface retrieved from metrics cache\n"
     ]
    },
    {
     "data": {
      "text/plain": [
       "[('sos-papermill', 0.004885159358625852),\n",
       " ('dsc', 0.004885159358625852),\n",
       " ('dvc-cc', 0.0046290824567624),\n",
       " ('paasta-tools', 0.0044714966710002755),\n",
       " ('sos-python', 0.00445179844778001),\n",
       " ('networking-baremetal', 0.0044321002245597445),\n",
       " ('sos-notebook', 0.0044321002245597445),\n",
       " ('molecule-azure', 0.0043927037781192136),\n",
       " ('magnum', 0.0043927037781192136),\n",
       " ('karbor', 0.004373005554898948)]"
      ]
     },
     "execution_count": 13,
     "metadata": {},
     "output_type": "execute_result"
    }
   ],
   "source": [
    "(pypi.get_metric(Surface)/len(pypi)).top(10)"
   ]
  },
  {
   "cell_type": "markdown",
   "metadata": {},
   "source": [
    "Some examples of compound metrics:"
   ]
  },
  {
   "cell_type": "code",
   "execution_count": 5,
   "metadata": {},
   "outputs": [
    {
     "name": "stdout",
     "output_type": "stream",
     "text": [
      "Computing Dependents Count\n",
      "DependentsCount retrieved from metrics cache\n"
     ]
    },
    {
     "data": {
      "text/plain": [
       "[('requests', 112783115.1271673),\n",
       " ('six', 25109514.74037298),\n",
       " ('numpy', 15271991.188468162),\n",
       " ('click', 6329951.601658093),\n",
       " ('setuptools', 4468740.2382258745)]"
      ]
     },
     "execution_count": 5,
     "metadata": {},
     "output_type": "execute_result"
    }
   ],
   "source": [
    "from olivia.packagemetrics import DependentsCount\n",
    "\n",
    "mean_degree = pypi.get_metric(DependentsCount).values.mean()\n",
    "degree_divergence = (pypi.get_metric(DependentsCount)-mean_degree)**2\n",
    "degree_divergence.top(5)"
   ]
  },
  {
   "cell_type": "code",
   "execution_count": 10,
   "metadata": {},
   "outputs": [
    {
     "name": "stdout",
     "output_type": "stream",
     "text": [
      "Impact retrieved from metrics cache\n",
      "Reach retrieved from metrics cache\n"
     ]
    },
    {
     "data": {
      "text/plain": [
       "[('jsii', 5.434782608695652),\n",
       " ('publication', 5.407407407407407),\n",
       " ('aws-cdk.aws-iam', 5.174418604651163),\n",
       " ('aws-cdk.region-info', 5.149425287356322),\n",
       " ('cattrs', 4.829787234042553)]"
      ]
     },
     "execution_count": 10,
     "metadata": {},
     "output_type": "execute_result"
    }
   ],
   "source": [
    "# Impact / Reach ratio\n",
    "(pypi.get_metric(Impact)/pypi.get_metric(Reach)).top(5)"
   ]
  },
  {
   "cell_type": "markdown",
   "metadata": {},
   "source": [
    "### 04 - Custom models"
   ]
  },
  {
   "cell_type": "markdown",
   "metadata": {},
   "source": [
    "An *OliviaNetwork* model can be built from a text file with package dependencies in adjacency list format. You may provide compressed GZIP or BZ2 files."
   ]
  },
  {
   "cell_type": "code",
   "execution_count": 121,
   "metadata": {},
   "outputs": [
    {
     "name": "stdout",
     "output_type": "stream",
     "text": [
      "Reading dependencies file...\n",
      "Building Olivia Model\n",
      "     Finding strongly connected components (SCCs)...\n",
      "     Building condensation network...\n",
      "     Adding structural meta-data...\n",
      "     Done\n"
     ]
    }
   ],
   "source": [
    "net = OliviaNetwork()\n",
    "net.build_model(r'data/pypi-dependencies-net-2020-01-12.bz2')"
   ]
  },
  {
   "cell_type": "code",
   "execution_count": 122,
   "metadata": {},
   "outputs": [
    {
     "name": "stdout",
     "output_type": "stream",
     "text": [
      "Computing Reach\n",
      "     Processing node: 50K      \n"
     ]
    },
    {
     "data": {
      "text/plain": [
       "[('six', 22315),\n",
       " ('idna', 17223),\n",
       " ('certifi', 16760),\n",
       " ('urllib3', 16438),\n",
       " ('chardet', 16384),\n",
       " ('chardet2', 15732),\n",
       " ('requests', 15731),\n",
       " ('attrs', 14606),\n",
       " ('pyparsing', 13873),\n",
       " ('appdirs', 13828)]"
      ]
     },
     "execution_count": 122,
     "metadata": {},
     "output_type": "execute_result"
    }
   ],
   "source": [
    "net.get_metric(Reach).top(10)"
   ]
  },
  {
   "cell_type": "markdown",
   "metadata": {},
   "source": [
    " *build_model(...)* also accepts an arbitrary NetworkX directed network as input:"
   ]
  },
  {
   "cell_type": "code",
   "execution_count": 123,
   "metadata": {},
   "outputs": [
    {
     "name": "stdout",
     "output_type": "stream",
     "text": [
      "Building Olivia Model\n",
      "     Finding strongly connected components (SCCs)...\n",
      "     Building condensation network...\n",
      "     Adding structural meta-data...\n",
      "     Done\n"
     ]
    }
   ],
   "source": [
    "import networkx as nx\n",
    "net = OliviaNetwork()\n",
    "net.build_model(nx.path_graph(5, create_using=nx.DiGraph))"
   ]
  },
  {
   "cell_type": "code",
   "execution_count": 125,
   "metadata": {},
   "outputs": [
    {
     "name": "stdout",
     "output_type": "stream",
     "text": [
      "Reach retrieved from metrics cache\n"
     ]
    },
    {
     "data": {
      "text/plain": [
       "[(0, 5), (1, 4), (2, 3), (3, 2), (4, 1)]"
      ]
     },
     "execution_count": 125,
     "metadata": {},
     "output_type": "execute_result"
    }
   ],
   "source": [
    "net.get_metric(Reach).top(5)"
   ]
  },
  {
   "cell_type": "markdown",
   "metadata": {},
   "source": [
    "'network' property is a reference to a NetworkX (https://networkx.org/) DiGraph object representing the dependency structure:"
   ]
  },
  {
   "cell_type": "markdown",
   "metadata": {},
   "source": [
    "Once built, models may be saved with *OliviaNetwork.save(filename)* method. Files are GZIP compressed and also store the cached metrics."
   ]
  },
  {
   "cell_type": "code",
   "execution_count": null,
   "metadata": {},
   "outputs": [],
   "source": []
  }
 ],
 "metadata": {
  "kernelspec": {
   "display_name": "Python 3",
   "language": "python",
   "name": "python3"
  },
  "language_info": {
   "codemirror_mode": {
    "name": "ipython",
    "version": 3
   },
   "file_extension": ".py",
   "mimetype": "text/x-python",
   "name": "python",
   "nbconvert_exporter": "python",
   "pygments_lexer": "ipython3",
   "version": "3.7.3"
  }
 },
 "nbformat": 4,
 "nbformat_minor": 4
}
