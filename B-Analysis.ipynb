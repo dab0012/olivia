{
 "cells": [
  {
   "cell_type": "markdown",
   "metadata": {},
   "source": [
    "# OLIVIA\n",
    "**Open-source Library Indexes Vulnerability Identification and Analysis**\n",
    "\n",
    "https://github.com/dsr0018/olivia\n",
    "\n",
    "The use of centralized library repositories to reduce development times and costs is universal, in virtually all languages and types of software projects. Due to the transitivity of dependencies, the appearance of a single defect in the repository can have extensive and difficult-to-predict effects on the ecosystem. These defects cause functional errors or performance or security problems. The risk is difficult to grasp for developers, who only explicitly import a small part of the dependencies.\n",
    "\n",
    "OLVIA uses an approach based on the vulnerability of the dependency network of software packages, which measures how sensitive the repository is to the random introduction of defects. The goals of the model are  to contribute to the understanding of propagation mechanisms of software defects and to study feasible protection strategies. This can benefit multiple parties:\n",
    "\n",
    "* **Centralised package managers**, to establish policies and manual or automatic control processes that improve the security and stability of the repositories.\n",
    "* **Software developers** in general, to assess the different risks introduced by the dependencies used in their projects, and **package developers** in particular to understand their responsibility on the ecosystem.\n",
    "* Developers of **continuous quality tools**, to define the concept of vulnerability based on the modeling of the network of package dependencies.\n",
    "\n",
    "***\n",
    "*This notebook is part of a user guide series that cover in detail the operation of the library.\n",
    "Here we study the dependency relations between packages and the vulnerability of the network.*\n",
    "***"
   ]
  },
  {
   "cell_type": "markdown",
   "metadata": {},
   "source": [
    "\n",
    "## B - Analysis\n",
    "\n",
    "[01 - Coupling](#01---Coupling)&ensp;|&ensp;[02 - Strongly connected components](#02---Strongly-connected-components)&ensp;|&ensp;[03 - Network vulnerability](#03---Network-vulnerability)\n",
    "\n",
    "Simply saying that one package depends transitively on another does not tell the whole story. A defect in one package can affect another in different ways, depending on the structure of the network.\n",
    "\n",
    "### 01 - Coupling"
   ]
  },
  {
   "cell_type": "code",
   "execution_count": 2,
   "metadata": {},
   "outputs": [],
   "source": [
    "from olivia.model import OliviaNetwork\n",
    "\n",
    "pypi = OliviaNetwork(r'data/pypi-2020-01-12.olv')"
   ]
  },
  {
   "cell_type": "markdown",
   "metadata": {},
   "source": [
    "Let's choose a simple case study.\n",
    "\n",
    "*spaCy* (https://spacy.io/) is an open-source software library for advanced natural language processing."
   ]
  },
  {
   "cell_type": "code",
   "execution_count": 33,
   "metadata": {},
   "outputs": [
    {
     "data": {
      "text/plain": [
       "{'blis',\n",
       " 'cloudpickle',\n",
       " 'cymem',\n",
       " 'dill',\n",
       " 'ftfy',\n",
       " 'html5lib',\n",
       " 'msgpack-numpy',\n",
       " 'msgpack-python',\n",
       " 'murmurhash',\n",
       " 'numpy',\n",
       " 'pathlib',\n",
       " 'pip',\n",
       " 'plac',\n",
       " 'preshed',\n",
       " 'regex',\n",
       " 'requests',\n",
       " 'six',\n",
       " 'sputnik',\n",
       " 'srsly',\n",
       " 'text_unidecode',\n",
       " 'thinc',\n",
       " 'ujson',\n",
       " 'unidecode',\n",
       " 'wasabi',\n",
       " 'wget'}"
      ]
     },
     "execution_count": 33,
     "metadata": {},
     "output_type": "execute_result"
    }
   ],
   "source": [
    "pypi['spacy'].direct_dependencies()"
   ]
  },
  {
   "cell_type": "markdown",
   "metadata": {},
   "source": [
    "*spaCy* employs 25 direct dependencies. These are the ones that the developers have explicitly imported, for example *requests*, a useful HTTP library. It should be clear to them that they take a risk by using *requests*. If it disappear, or include a bug or a vulnerability that their developers don't fix, the *spaCy* developers will have a problem. They would have to look for alternatives or perhaps directly implement the *requests* functionality.\n",
    "\n",
    "However, *spaCy* indirectly depends on more packages:"
   ]
  },
  {
   "cell_type": "code",
   "execution_count": 34,
   "metadata": {},
   "outputs": [
    {
     "data": {
      "text/plain": [
       "73"
      ]
     },
     "execution_count": 34,
     "metadata": {},
     "output_type": "execute_result"
    }
   ],
   "source": [
    "len(pypi['spacy'].transitive_dependencies())"
   ]
  },
  {
   "cell_type": "markdown",
   "metadata": {},
   "source": [
    "So there are not 25 but 73 packages that can cause trouble.  This is a fact that many developers may be aware of, although it is maybe not generally considered seriously enough.\n",
    "\n",
    "There is however another more elusive phenomenon. This is the fact that a single failure in a transitive dependency can affect several direct dependencies, if the latter depend in turn on the first. So *spaCy* does not depend equally on all its transitive dependencies.\n",
    "\n",
    "**Transitive coupling** is the number of direct dependencies that would be affected by the failure of one specific transitive dependency. Observe for example the following figure, where a defect in *u* will affect 3 of the 4 direct dependencies of *v*:"
   ]
  },
  {
   "cell_type": "markdown",
   "metadata": {},
   "source": [
    "<br>\n",
    "\n",
    "![Transitive coupling](docs/img/trancoup.png \"Transitive coupling\")  \n",
    "\n",
    "<br>"
   ]
  },
  {
   "cell_type": "code",
   "execution_count": 35,
   "metadata": {},
   "outputs": [
    {
     "data": {
      "text/plain": [
       "4"
      ]
     },
     "execution_count": 35,
     "metadata": {},
     "output_type": "execute_result"
    }
   ],
   "source": [
    "from olivia.coupling import *\n",
    "\n",
    "transitive_coupling(pypi,'six','spacy')"
   ]
  },
  {
   "cell_type": "markdown",
   "metadata": {},
   "source": [
    "There it is. The failure of *six* does not only affect one direct dependency, but four. Which ones? We call this set the **coupling interface** of *six* over *spaCy*."
   ]
  },
  {
   "cell_type": "code",
   "execution_count": 37,
   "metadata": {},
   "outputs": [
    {
     "data": {
      "text/plain": [
       "{'ftfy', 'html5lib', 'six', 'thinc'}"
      ]
     },
     "execution_count": 37,
     "metadata": {},
     "output_type": "execute_result"
    }
   ],
   "source": [
    "coupling_interface(pypi,'six','spacy')"
   ]
  },
  {
   "cell_type": "markdown",
   "metadata": {},
   "source": [
    "So let's consider that *six* changes its MIT license for a more restrictive one. Its transitional dependents in turn are forced to upgrade and ultimately *ftfy*, *html5lib*, *thinc* also change their software licenses.  If *spaCY* cannot or do not want to comply with this new model, it has to look for alternatives for *six* and also *ftfy*, *html5lib* and *thinc*. \n",
    "\n",
    "This change of license in *six* could also have been a shift in functionality, the removal of certain certification, a bug, a security problem... Transitive coupling is a measure of the potential effort needed to fix *spaCY* if *six* fails. Note that the sum of transitive couplings of a package with all its transitive dependants equals the IMPACT metric.\n",
    "\n",
    "Finally, OLIVIA provides a method for computing all the transitive interfaces of transitive dependencies of a package over it. This is an indexed family of sets that we call **coupling profile**:\n"
   ]
  },
  {
   "cell_type": "code",
   "execution_count": 38,
   "metadata": {
    "scrolled": true
   },
   "outputs": [
    {
     "data": {
      "text/plain": [
       "{'click': {'thinc'},\n",
       " 'wcwidth': {'ftfy'},\n",
       " 'six': {'ftfy', 'html5lib', 'six', 'thinc'},\n",
       " 'html5lib': {'ftfy', 'html5lib'},\n",
       " 'text_unidecode': {'text_unidecode'},\n",
       " 'requests': {'requests'},\n",
       " 'thinc': {'thinc'},\n",
       " 'flexmock': {'thinc'},\n",
       " 'idna': {'requests'},\n",
       " 'typing_extensions': {'thinc'},\n",
       " 'filelock': {'thinc'},\n",
       " 'itertoolz': {'thinc'},\n",
       " 'chainer': {'thinc'},\n",
       " 'enum34': {'thinc'},\n",
       " 'ftfy': {'ftfy'},\n",
       " 'protobuf': {'thinc'},\n",
       " 'setuptools_git': {'thinc'},\n",
       " 'certifi': {'requests'},\n",
       " 'msgpack-python': {'msgpack-numpy', 'msgpack-python', 'thinc'},\n",
       " 'tqdm': {'thinc'},\n",
       " 'sortedcontainers': {'thinc'},\n",
       " 'msgpack-numpy': {'msgpack-numpy', 'thinc'},\n",
       " 'sputnik': {'sputnik'},\n",
       " 'pathlib': {'pathlib', 'thinc'},\n",
       " 'packaging': {'ftfy', 'html5lib', 'thinc'},\n",
       " 'uncompyle6': {'thinc'},\n",
       " 'cytoolz': {'thinc'},\n",
       " 'scandir': {'thinc'},\n",
       " 'funcsigs': {'thinc'},\n",
       " 'chardet2': {'requests'},\n",
       " 'wrapt': {'thinc'},\n",
       " 'coverage': {'thinc'},\n",
       " 'wasabi': {'thinc', 'wasabi'},\n",
       " 'toolz': {'thinc'},\n",
       " 'cupy': {'thinc'},\n",
       " 'plac': {'plac', 'thinc'},\n",
       " 'mock': {'thinc'},\n",
       " 'ujson': {'ujson'},\n",
       " 'd2to1': {'thinc'},\n",
       " 'blis': {'blis', 'thinc'},\n",
       " 'urllib3': {'requests'},\n",
       " 'thinc_gpu_ops': {'thinc'},\n",
       " 'pbr': {'thinc'},\n",
       " 'setuptools': {'ftfy', 'html5lib', 'thinc'},\n",
       " 'preshed': {'preshed', 'thinc'},\n",
       " 'nose': {'thinc'},\n",
       " 'chardet': {'requests'},\n",
       " 'cloudpickle': {'cloudpickle', 'thinc'},\n",
       " 'wget': {'wget'},\n",
       " 'regex': {'regex'},\n",
       " 'unidecode': {'unidecode'},\n",
       " 'webencodings': {'ftfy', 'html5lib'},\n",
       " 'numpy': {'msgpack-numpy', 'numpy', 'thinc'},\n",
       " 'spark-parser': {'thinc'},\n",
       " 'functoolz': {'thinc'},\n",
       " 'distribute': {'thinc'},\n",
       " 'xdis': {'thinc'},\n",
       " 'appdirs': {'ftfy', 'html5lib', 'thinc'},\n",
       " 'ordereddict': {'thinc'},\n",
       " 'pathlib2': {'thinc'},\n",
       " 'pip': {'pip', 'thinc'},\n",
       " 'hypothesis': {'thinc'},\n",
       " 'msgpack': {'msgpack-numpy', 'msgpack-python', 'thinc'},\n",
       " 'pyparsing': {'ftfy', 'html5lib', 'thinc'},\n",
       " 'jinja2': {'thinc'},\n",
       " 'dill': {'dill', 'thinc'},\n",
       " 'cymem': {'cymem', 'preshed', 'thinc'},\n",
       " 'srsly': {'srsly', 'thinc'},\n",
       " 'argparse': {'plac', 'thinc'},\n",
       " 'murmurhash': {'murmurhash', 'preshed', 'thinc'},\n",
       " 'attrs': {'ftfy', 'html5lib', 'thinc'},\n",
       " 'typing': {'thinc'},\n",
       " 'termcolor': {'thinc'}}"
      ]
     },
     "execution_count": 38,
     "metadata": {},
     "output_type": "execute_result"
    }
   ],
   "source": [
    "coupling_profile(pypi,'spacy')"
   ]
  },
  {
   "cell_type": "markdown",
   "metadata": {},
   "source": [
    "The frequency histogram of transitive coupling values for a package is an interesting view of the structure of dependencies:"
   ]
  },
  {
   "cell_type": "code",
   "execution_count": 66,
   "metadata": {},
   "outputs": [
    {
     "data": {
      "text/plain": [
       "Text(0.5, 1.0, 'package: spacy')"
      ]
     },
     "execution_count": 66,
     "metadata": {},
     "output_type": "execute_result"
    },
    {
     "data": {
      "image/png": "[encoded data removed]",
      "text/plain": [
       "<Figure size 432x288 with 1 Axes>"
      ]
     },
     "metadata": {
      "needs_background": "light"
     },
     "output_type": "display_data"
    }
   ],
   "source": [
    "# Requires Matplotlib installed\n",
    "import matplotlib.pyplot as plt\n",
    "\n",
    "cp = coupling_profile(pypi,'spacy')\n",
    "ls = [len(cp[l]) for l in cp]\n",
    "bins = np.arange(0, max(ls) + 1.5) - 0.5\n",
    "plt.hist(ls,bins,color='black',histtype='stepfilled')\n",
    "plt.xlabel('Transitive coupling')\n",
    "plt.ylabel('Number of transitive dependencies')\n",
    "plt.title('package: spacy')"
   ]
  },
  {
   "cell_type": "markdown",
   "metadata": {},
   "source": [
    "You may also access coupling methods via *PackageInfoView*:"
   ]
  },
  {
   "cell_type": "code",
   "execution_count": 68,
   "metadata": {},
   "outputs": [
    {
     "data": {
      "text/plain": [
       "{'ftfy', 'html5lib', 'six', 'thinc'}"
      ]
     },
     "execution_count": 68,
     "metadata": {},
     "output_type": "execute_result"
    }
   ],
   "source": [
    "pypi['spacy'].coupling_interface_from('six')"
   ]
  },
  {
   "cell_type": "code",
   "execution_count": 69,
   "metadata": {},
   "outputs": [
    {
     "data": {
      "text/plain": [
       "{'ftfy', 'html5lib', 'six', 'thinc'}"
      ]
     },
     "execution_count": 69,
     "metadata": {},
     "output_type": "execute_result"
    }
   ],
   "source": [
    "pypi['six'].coupling_interface_to('spacy')"
   ]
  },
  {
   "cell_type": "code",
   "execution_count": 72,
   "metadata": {
    "scrolled": true
   },
   "outputs": [
    {
     "data": {
      "text/plain": [
       "{'click': {'thinc'},\n",
       " 'wcwidth': {'ftfy'},\n",
       " 'six': {'ftfy', 'html5lib', 'six', 'thinc'},\n",
       " 'html5lib': {'ftfy', 'html5lib'},\n",
       " 'text_unidecode': {'text_unidecode'},\n",
       " 'requests': {'requests'},\n",
       " 'thinc': {'thinc'},\n",
       " 'flexmock': {'thinc'},\n",
       " 'idna': {'requests'},\n",
       " 'typing_extensions': {'thinc'},\n",
       " 'filelock': {'thinc'},\n",
       " 'itertoolz': {'thinc'},\n",
       " 'chainer': {'thinc'},\n",
       " 'enum34': {'thinc'},\n",
       " 'ftfy': {'ftfy'},\n",
       " 'protobuf': {'thinc'},\n",
       " 'setuptools_git': {'thinc'},\n",
       " 'certifi': {'requests'},\n",
       " 'msgpack-python': {'msgpack-numpy', 'msgpack-python', 'thinc'},\n",
       " 'tqdm': {'thinc'},\n",
       " 'sortedcontainers': {'thinc'},\n",
       " 'msgpack-numpy': {'msgpack-numpy', 'thinc'},\n",
       " 'sputnik': {'sputnik'},\n",
       " 'pathlib': {'pathlib', 'thinc'},\n",
       " 'packaging': {'ftfy', 'html5lib', 'thinc'},\n",
       " 'uncompyle6': {'thinc'},\n",
       " 'cytoolz': {'thinc'},\n",
       " 'scandir': {'thinc'},\n",
       " 'funcsigs': {'thinc'},\n",
       " 'chardet2': {'requests'},\n",
       " 'wrapt': {'thinc'},\n",
       " 'coverage': {'thinc'},\n",
       " 'wasabi': {'thinc', 'wasabi'},\n",
       " 'toolz': {'thinc'},\n",
       " 'cupy': {'thinc'},\n",
       " 'plac': {'plac', 'thinc'},\n",
       " 'mock': {'thinc'},\n",
       " 'ujson': {'ujson'},\n",
       " 'd2to1': {'thinc'},\n",
       " 'blis': {'blis', 'thinc'},\n",
       " 'urllib3': {'requests'},\n",
       " 'thinc_gpu_ops': {'thinc'},\n",
       " 'pbr': {'thinc'},\n",
       " 'setuptools': {'ftfy', 'html5lib', 'thinc'},\n",
       " 'preshed': {'preshed', 'thinc'},\n",
       " 'nose': {'thinc'},\n",
       " 'chardet': {'requests'},\n",
       " 'cloudpickle': {'cloudpickle', 'thinc'},\n",
       " 'wget': {'wget'},\n",
       " 'regex': {'regex'},\n",
       " 'unidecode': {'unidecode'},\n",
       " 'webencodings': {'ftfy', 'html5lib'},\n",
       " 'numpy': {'msgpack-numpy', 'numpy', 'thinc'},\n",
       " 'spark-parser': {'thinc'},\n",
       " 'functoolz': {'thinc'},\n",
       " 'distribute': {'thinc'},\n",
       " 'xdis': {'thinc'},\n",
       " 'appdirs': {'ftfy', 'html5lib', 'thinc'},\n",
       " 'ordereddict': {'thinc'},\n",
       " 'pathlib2': {'thinc'},\n",
       " 'pip': {'pip', 'thinc'},\n",
       " 'hypothesis': {'thinc'},\n",
       " 'msgpack': {'msgpack-numpy', 'msgpack-python', 'thinc'},\n",
       " 'pyparsing': {'ftfy', 'html5lib', 'thinc'},\n",
       " 'jinja2': {'thinc'},\n",
       " 'dill': {'dill', 'thinc'},\n",
       " 'cymem': {'cymem', 'preshed', 'thinc'},\n",
       " 'srsly': {'srsly', 'thinc'},\n",
       " 'argparse': {'plac', 'thinc'},\n",
       " 'murmurhash': {'murmurhash', 'preshed', 'thinc'},\n",
       " 'attrs': {'ftfy', 'html5lib', 'thinc'},\n",
       " 'typing': {'thinc'},\n",
       " 'termcolor': {'thinc'}}"
      ]
     },
     "execution_count": 72,
     "metadata": {},
     "output_type": "execute_result"
    }
   ],
   "source": [
    "pypi['spacy'].coupling_profile()"
   ]
  },
  {
   "cell_type": "markdown",
   "metadata": {},
   "source": [
    "### 02 - Strongly connected components\n",
    "\n",
    "An strongly connected component (SCC) is a set of packages where each one depends transitively on every one else. So a defect in any package or in any dependency of any package in the SCC could affect the whole SCC.\n",
    "\n",
    "A simple cycle of dependencies creates an SCC, but there can be much more complicated ones.\n",
    "\n",
    "This is an example of a simple SCC:"
   ]
  },
  {
   "cell_type": "markdown",
   "metadata": {},
   "source": [
    "<br>\n",
    "\n",
    "![SCC](docs/img/scc.png \"Strongly connected component\")  \n",
    "\n",
    "<br>"
   ]
  },
  {
   "cell_type": "markdown",
   "metadata": {},
   "source": [
    "As OLIVIA internally uses the precomputed structure of SCCs of the dependency network, you can iterate immediatly over SCCs: "
   ]
  },
  {
   "cell_type": "code",
   "execution_count": 97,
   "metadata": {},
   "outputs": [
    {
     "name": "stdout",
     "output_type": "stream",
     "text": [
      "{'1pass'}\n",
      "{'simple-pbkdf2'}\n",
      "{'Alarmageddon'}\n",
      "...\n"
     ]
    }
   ],
   "source": [
    "scc_iterator = pypi.sccs()\n",
    "print(next(scc_iterator))\n",
    "print(next(scc_iterator))\n",
    "print(next(scc_iterator))\n",
    "print(\"...\")"
   ]
  },
  {
   "cell_type": "markdown",
   "metadata": {},
   "source": [
    "Each package forms its own SCC. PyPI has some small SCCs of size greater than one. These are the most interesting so OLIVIA provides a way of getting a list of SCCs in size order:"
   ]
  },
  {
   "cell_type": "code",
   "execution_count": 83,
   "metadata": {},
   "outputs": [
    {
     "data": {
      "text/plain": [
       "[{'aws-cdk.assets',\n",
       "  'aws-cdk.aws-lambda',\n",
       "  'aws-cdk.aws-s3',\n",
       "  'aws-cdk.aws-s3-assets',\n",
       "  'aws-cdk.aws-s3-notifications',\n",
       "  'aws-cdk.aws-sns',\n",
       "  'aws-cdk.aws-sqs'},\n",
       " {'cloudtoken',\n",
       "  'cloudtoken-plugin.json-exporter',\n",
       "  'cloudtoken-plugin.saml',\n",
       "  'cloudtoken-plugin.shell-exporter'},\n",
       " {'dash', 'dash-core-components', 'dash-html-components', 'dash-table'},\n",
       " {'SimpleSQLite', 'pytablereader', 'pytablewriter', 'sqliteschema'},\n",
       " {'classutils', 'configurationutil', 'fdutil', 'uiutil'},\n",
       " {'joker', 'joker-broker', 'joker-cast', 'joker-textmanip'},\n",
       " {'cs.debug', 'cs.queues', 'cs.result', 'cs.threads'},\n",
       " {'ogc', 'ogc-plugins-env', 'ogc-plugins-runner'},\n",
       " {'databasetools', 'dirutility', 'mysql-toolkit'},\n",
       " {'indb', 'metadb', 'metaform'}]"
      ]
     },
     "execution_count": 83,
     "metadata": {},
     "output_type": "execute_result"
    }
   ],
   "source": [
    "pypi.sorted_clusters()[:10]"
   ]
  },
  {
   "cell_type": "markdown",
   "metadata": {},
   "source": [
    "It is also possible to query which SCC a package belongs to, via PackageInfoView:"
   ]
  },
  {
   "cell_type": "code",
   "execution_count": 85,
   "metadata": {},
   "outputs": [
    {
     "data": {
      "text/plain": [
       "{'indb', 'metadb', 'metaform'}"
      ]
     },
     "execution_count": 85,
     "metadata": {},
     "output_type": "execute_result"
    }
   ],
   "source": [
    "pypi['indb'].scc()"
   ]
  },
  {
   "cell_type": "markdown",
   "metadata": {},
   "source": [
    "It turns out that some networks have much larger SCCs"
   ]
  },
  {
   "cell_type": "code",
   "execution_count": 86,
   "metadata": {},
   "outputs": [],
   "source": [
    "maven = OliviaNetwork(r'data/maven-2020-01-12.olv')"
   ]
  },
  {
   "cell_type": "markdown",
   "metadata": {},
   "source": [
    "Maven Central, the package repository for Java (https://mvnrepository.com/) has a SCC of almost a thousand packages:"
   ]
  },
  {
   "cell_type": "code",
   "execution_count": 89,
   "metadata": {},
   "outputs": [
    {
     "data": {
      "text/plain": [
       "981"
      ]
     },
     "execution_count": 89,
     "metadata": {},
     "output_type": "execute_result"
    }
   ],
   "source": [
    "len(maven.sorted_clusters()[0])"
   ]
  },
  {
   "cell_type": "markdown",
   "metadata": {},
   "source": [
    "### 03 - Network vulnerability"
   ]
  },
  {
   "cell_type": "markdown",
   "metadata": {},
   "source": [
    "The vulnerability of the dependency network of software packages measures how sensitive the repository is to the random introduction of defects.\n",
    "\n",
    "It is the average of some cost function over all the packages in the network, so it equals the expected cost of a random failure o defect, assuming a uniform failure probability.\n",
    "\n",
    "We may use REACH as one of such cost functions. In this case, the vulnerability value would represent the expected number of packages potentially affected by a random failure.\n",
    "\n",
    "The following figure shows several examples of simple networks with node values for REACH (R) and IMPACT (I) and below the corresponding REACH and IMPACT-vulnerability (preceded by the letter $\\varphi$)"
   ]
  },
  {
   "cell_type": "markdown",
   "metadata": {},
   "source": [
    "<br>\n",
    "\n",
    "![Transitive coupling](docs/img/vulnerabilidad.png \"Transitive coupling\")  \n",
    "\n",
    "<br>"
   ]
  },
  {
   "cell_type": "code",
   "execution_count": 91,
   "metadata": {},
   "outputs": [
    {
     "name": "stdout",
     "output_type": "stream",
     "text": [
      "Computing Reach\n",
      "     Processing node: 50K      \n"
     ]
    },
    {
     "data": {
      "text/plain": [
       "15.730114643659142"
      ]
     },
     "execution_count": 91,
     "metadata": {},
     "output_type": "execute_result"
    }
   ],
   "source": [
    "from olivia.networkmetrics import *\n",
    "\n",
    "failure_vulnerability(pypi)"
   ]
  },
  {
   "cell_type": "markdown",
   "metadata": {},
   "source": [
    "*failure_vulnerability* assumes REACH as cost function. As this model does not have a REACH cached, it is computed on the fly.  The calculation uses exact cost function values for each package in the network.  usually these functions have extremely skewed distributions, so average value is hard to sample.\n",
    "\n",
    "PyPI has a REACH-vulnerability of about 16. This means that a random bug in a package could propagate in average to other 15 packages.\n",
    "\n",
    "Maven is much more vulnerable to random failures, due to the presence of a significant size SCC."
   ]
  },
  {
   "cell_type": "code",
   "execution_count": 92,
   "metadata": {},
   "outputs": [
    {
     "name": "stdout",
     "output_type": "stream",
     "text": [
      "Computing Reach\n",
      "     Processing node: 124K      \n"
     ]
    },
    {
     "data": {
      "text/plain": [
       "1805.5391236430194"
      ]
     },
     "execution_count": 92,
     "metadata": {},
     "output_type": "execute_result"
    }
   ],
   "source": [
    "failure_vulnerability(maven)"
   ]
  },
  {
   "cell_type": "code",
   "execution_count": 93,
   "metadata": {},
   "outputs": [
    {
     "data": {
      "text/plain": [
       "126752"
      ]
     },
     "execution_count": 93,
     "metadata": {},
     "output_type": "execute_result"
    }
   ],
   "source": [
    "len(maven)"
   ]
  },
  {
   "cell_type": "markdown",
   "metadata": {},
   "source": [
    "Even considering the size difference, this is much worse that PyPI. At least other network, npm (https://www.npmjs.com/), the repository of Node.js, has even bigger relative values."
   ]
  },
  {
   "cell_type": "markdown",
   "metadata": {},
   "source": [
    "Other cost functions provide different perspectives on network vulnerability:"
   ]
  },
  {
   "cell_type": "code",
   "execution_count": 96,
   "metadata": {},
   "outputs": [
    {
     "name": "stdout",
     "output_type": "stream",
     "text": [
      "Computing Impact\n",
      "     Processing node: 50K      \n"
     ]
    },
    {
     "data": {
      "text/plain": [
       "23.16392861363905"
      ]
     },
     "execution_count": 96,
     "metadata": {},
     "output_type": "execute_result"
    }
   ],
   "source": [
    "from olivia.packagemetrics import Impact\n",
    "\n",
    "failure_vulnerability(pypi, metric=Impact)"
   ]
  },
  {
   "cell_type": "markdown",
   "metadata": {},
   "source": [
    "A single random failure on PyPI causes a expected potential value of 23 individual dependencies to fix. As REACH-vulnerability could reflect the propagation of defects, IMPACT-vulnerability gives an idea of the average effort needed to recover the network."
   ]
  },
  {
   "cell_type": "code",
   "execution_count": null,
   "metadata": {},
   "outputs": [],
   "source": []
  }
 ],
 "metadata": {
  "kernelspec": {
   "display_name": "Python 3",
   "language": "python",
   "name": "python3"
  },
  "language_info": {
   "codemirror_mode": {
    "name": "ipython",
    "version": 3
   },
   "file_extension": ".py",
   "mimetype": "text/x-python",
   "name": "python",
   "nbconvert_exporter": "python",
   "pygments_lexer": "ipython3",
   "version": "3.7.3"
  }
 },
 "nbformat": 4,
 "nbformat_minor": 4
}
