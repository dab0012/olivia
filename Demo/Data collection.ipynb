{
 "cells": [
  {
   "attachments": {},
   "cell_type": "markdown",
   "metadata": {},
   "source": [
    "<style>\n",
    ".tit { \n",
    "    text-align: left; \n",
    "    font-family: Arial Black; \n",
    "    font-weight: bold; \n",
    "    font-size: 50px; \n",
    "    color: #06cc70; \n",
    "    text-shadow: -1px 0 #000, 0 1px #000, 3px 0 #000, 0 -1px #000;\n",
    "}\n",
    "</style>\n",
    "\n",
    "<h1 class=\"tit\">Data collection</h1>"
   ]
  },
  {
   "attachments": {},
   "cell_type": "markdown",
   "metadata": {},
   "source": [
    "#### **Information regarding this notebook**"
   ]
  },
  {
   "attachments": {},
   "cell_type": "markdown",
   "metadata": {},
   "source": [
    "\n",
    "The data collection process is a set of techniques and methods used to collect, extract, retrieve and store useful information for a specific purpose. This process is critical for a wide range of applications, including data analytics, artificial intelligence, and machine learning.\n",
    "\n",
    "The data collection process consists of several steps, including:\n",
    "\n",
    "**1. Identifying the data source:**\n",
    "\n",
    "The first step is to identify where the data you want to collect is located. Data sources can include databases, files, web pages, and other online sources.\n",
    "\n",
    "**2. Connection to the data source:** \n",
    "\n",
    "Once the data source has been identified, the necessary connections must be established to access the data.\n",
    "\n",
    "**3. Data Extraction:** \n",
    "\n",
    "Once the data source is accessed, the data needed for the specific purpose must be extracted.\n",
    "\n",
    "**4. Data cleaning and transformation:**\n",
    "\n",
    "The extracted data may contain errors, duplicates or irrelevant information. Therefore, it is necessary to clean and transform the data to ensure that it is accurate and useful for further analysis.\n",
    "\n",
    "**5. Data storage:**\n",
    "\n",
    "Finally, the clean and transformed data must be stored in a suitable format for later use.\n",
    "\n",
    "In general, the data collection process is a critical step in data analysis and informed decision making. Therefore, it is important to ensure that the data is accurate, complete and relevant for the specific purpose."
   ]
  },
  {
   "attachments": {},
   "cell_type": "markdown",
   "metadata": {},
   "source": [
    "#### <span style=\"color:yellow\">Load the dependencies used in the notebook</span>"
   ]
  },
  {
   "attachments": {},
   "cell_type": "markdown",
   "metadata": {},
   "source": [
    "Install packages that are requirements"
   ]
  },
  {
   "cell_type": "code",
   "execution_count": 6,
   "metadata": {},
   "outputs": [
    {
     "name": "stdout",
     "output_type": "stream",
     "text": [
      "Defaulting to user installation because normal site-packages is not writeable\n",
      "Requirement already satisfied: sqlalchemy in /home/daniel_alonso/.local/lib/python3.10/site-packages (from -r Demo_requirements.txt (line 1)) (1.4.45)\n",
      "Requirement already satisfied: mysql-connector-python in /home/daniel_alonso/.local/lib/python3.10/site-packages (from -r Demo_requirements.txt (line 2)) (8.0.32)\n",
      "Requirement already satisfied: numpy in /home/daniel_alonso/.local/lib/python3.10/site-packages (from -r Demo_requirements.txt (line 3)) (1.24.2)\n",
      "Requirement already satisfied: pandas in /home/daniel_alonso/.local/lib/python3.10/site-packages (from -r Demo_requirements.txt (line 4)) (1.5.3)\n",
      "Requirement already satisfied: matplotlib in /home/daniel_alonso/.local/lib/python3.10/site-packages (from -r Demo_requirements.txt (line 5)) (3.7.0)\n",
      "Requirement already satisfied: tqdm in /home/daniel_alonso/.local/lib/python3.10/site-packages (from -r Demo_requirements.txt (line 6)) (4.64.1)\n",
      "Collecting BeautifulSoup4\n",
      "  Using cached beautifulsoup4-4.11.2-py3-none-any.whl (129 kB)\n",
      "Requirement already satisfied: greenlet!=0.4.17 in /home/daniel_alonso/.local/lib/python3.10/site-packages (from sqlalchemy->-r Demo_requirements.txt (line 1)) (2.0.2)\n",
      "Requirement already satisfied: protobuf<=3.20.3,>=3.11.0 in /usr/lib/python3/dist-packages (from mysql-connector-python->-r Demo_requirements.txt (line 2)) (3.12.4)\n",
      "Requirement already satisfied: python-dateutil>=2.8.1 in /home/daniel_alonso/.local/lib/python3.10/site-packages (from pandas->-r Demo_requirements.txt (line 4)) (2.8.1)\n",
      "Requirement already satisfied: pytz>=2020.1 in /home/daniel_alonso/.local/lib/python3.10/site-packages (from pandas->-r Demo_requirements.txt (line 4)) (2022.7.1)\n",
      "Requirement already satisfied: pyparsing>=2.3.1 in /usr/lib/python3/dist-packages (from matplotlib->-r Demo_requirements.txt (line 5)) (2.4.7)\n",
      "Requirement already satisfied: packaging>=20.0 in /home/daniel_alonso/.local/lib/python3.10/site-packages (from matplotlib->-r Demo_requirements.txt (line 5)) (23.0)\n",
      "Requirement already satisfied: kiwisolver>=1.0.1 in /home/daniel_alonso/.local/lib/python3.10/site-packages (from matplotlib->-r Demo_requirements.txt (line 5)) (1.4.4)\n",
      "Requirement already satisfied: contourpy>=1.0.1 in /home/daniel_alonso/.local/lib/python3.10/site-packages (from matplotlib->-r Demo_requirements.txt (line 5)) (1.0.7)\n",
      "Requirement already satisfied: pillow>=6.2.0 in /usr/lib/python3/dist-packages (from matplotlib->-r Demo_requirements.txt (line 5)) (9.0.1)\n",
      "Requirement already satisfied: fonttools>=4.22.0 in /home/daniel_alonso/.local/lib/python3.10/site-packages (from matplotlib->-r Demo_requirements.txt (line 5)) (4.38.0)\n",
      "Requirement already satisfied: cycler>=0.10 in /home/daniel_alonso/.local/lib/python3.10/site-packages (from matplotlib->-r Demo_requirements.txt (line 5)) (0.11.0)\n",
      "Collecting soupsieve>1.2\n",
      "  Using cached soupsieve-2.4-py3-none-any.whl (37 kB)\n",
      "Requirement already satisfied: six>=1.5 in /usr/lib/python3/dist-packages (from python-dateutil>=2.8.1->pandas->-r Demo_requirements.txt (line 4)) (1.16.0)\n",
      "Installing collected packages: soupsieve, BeautifulSoup4\n",
      "Successfully installed BeautifulSoup4-4.11.2 soupsieve-2.4\n"
     ]
    }
   ],
   "source": [
    "%pip install -r Demo_requirements.txt"
   ]
  },
  {
   "attachments": {},
   "cell_type": "markdown",
   "metadata": {},
   "source": [
    "**Set environment variables**"
   ]
  },
  {
   "cell_type": "code",
   "execution_count": 2,
   "metadata": {},
   "outputs": [],
   "source": [
    "# Set up the environment variables using python\n",
    "import os\n",
    "os.environ['LIBRARIES_API_KEY'] = 'dcc8a237b15dac0e6334df54bd9573fb'"
   ]
  },
  {
   "attachments": {},
   "cell_type": "markdown",
   "metadata": {},
   "source": [
    "**Import libraries**"
   ]
  },
  {
   "cell_type": "code",
   "execution_count": 3,
   "metadata": {},
   "outputs": [],
   "source": [
    "# Import modules\n",
    "import os\n",
    "import warnings\n",
    "import datetime\n",
    "import pickle\n",
    "import requests\n",
    "import numpy as np\n",
    "import pandas as pd\n",
    "import matplotlib.pyplot as plt\n",
    "from tqdm import tqdm\n",
    "from bs4 import BeautifulSoup\n",
    "from sqlalchemy import create_engine\n",
    "from sqlalchemy.orm import sessionmaker\n",
    "from pybraries import Search   \n",
    "\n",
    "# Own modules\n",
    "from modules.scraping.ProxyRequest import RequestHandler\n",
    "from modules.scraping.CranScraper import CranScraper\n",
    "from modules.Package import Package\n",
    "from modules.Util import *\n",
    "from modules.db.ORM_Model import *"
   ]
  },
  {
   "attachments": {},
   "cell_type": "markdown",
   "metadata": {},
   "source": [
    "# <ins>**1 - Using datasets**</ins>"
   ]
  },
  {
   "attachments": {},
   "cell_type": "markdown",
   "metadata": {},
   "source": [
    "## **1.1 - Data from libraries.io**"
   ]
  },
  {
   "attachments": {},
   "cell_type": "markdown",
   "metadata": {},
   "source": [
    "### **1.1.0 - Previous notes (about libraries.io):**"
   ]
  },
  {
   "attachments": {},
   "cell_type": "markdown",
   "metadata": {},
   "source": [
    "<a href=\"https://libraries.io/\">Libraries.io</a> is a platform that tracks and aggregates information about open source projects and software packages. \n",
    "\n",
    "Provides an overview of projects and packages, including information about their dependencies, development status, licenses, and supported platforms. This information can be useful for developers who are looking for specific projects and packages to include in their projects, or for those who simply want to explore the different options available. \n",
    "\n",
    "Furthermore, Libraries.io also allows users to monitor and receive notifications about changes and updates to specific projects and packages.\n",
    "\n",
    "Taking into account the material provided by <a href=\"https://libraries.io/\">libraries.io</a> as a source of information, a series of functions have been implemented to extract the data.\n",
    "Libraries.io provides us with a compressed file that contains a series of datasets in csv format, each one of them contains the data referring to a standard classification, specifically and according to the documentation:\n",
    "\n",
    "Libraries.io's data is organised into seven packages.\n",
    "\n",
    "| Term | Definition |\n",
    "| --- | --- |\n",
    "| Projects | A Libraries.io project is the definition of a package available from one of the 32 Package Managers that it supports. |\n",
    "| Versions | A Libraries.io version is a definition of an immutable published version of a Project from a package manager. Not all package managers have a concept of publishing versions, often relying directly on tags/branches from a source control. |\n",
    "| Tags | A Libraries.io tag is equivalent to a tag in git or other source control systems. |\n",
    "| Dependencies | Libraries.io dependencies belong to versions of a project, each version can have different sets of dependencies with different versions. Dependencies point at a specific version or range of versions of other projects, the resolution of that project version change over time as new versions are published and dependent on the specifics of the platform. Almost all package managers dependencies will be from the same package manager, although the extra `Dependency Platform` field exists otherwise. |\n",
    "| Repositories | A Libraries.io repository represents a publically accessible source code repository from either github.com, gitlab.com or bitbucket.org. |\n",
    "| Repository Dependencies | A Libraries.io repository dependency is where a dependency on a Project from a package manager has been specified in a manifest file, either as a manually added dependency committed by a user or listed as a generated dependency listed in a lockfile that has been automatically generated by a package manager and commited. |\n",
    "| Projects with related Repository fields | This is an alternative projects export that denormalizes a projects related source code repository inline to reduce the need to join between two data sets. |"
   ]
  },
  {
   "attachments": {},
   "cell_type": "markdown",
   "metadata": {},
   "source": [
    "We can download the data from the following url:\n",
    "\n",
    "- https://zenodo.org/record/3626071/files/libraries-1.6.0-2020-01-12.tar.gz "
   ]
  },
  {
   "attachments": {},
   "cell_type": "markdown",
   "metadata": {},
   "source": [
    "### **1.1.1 - Introduction**"
   ]
  },
  {
   "attachments": {},
   "cell_type": "markdown",
   "metadata": {},
   "source": [
    "<style>\n",
    ".green {color: green;}\n",
    "</style>\n",
    "**Packages**\n",
    "\n",
    "In relation to the previous note, for the analysis of the network of package dependencies in software repositories.\n",
    "\n",
    "We are going to focus on the information provided by the Projects file <span class=\"green\">projects-1.6.0-2020-01-12.csv</span>, where we can find information regarding the package and its metadata.\n",
    "\n",
    "It has the following structure:\n",
    "\n",
    "| Field Name | Data Type | Description |\n",
    "| --- | --- | --- |\n",
    "| ID  | integer | The unique primary key of the project in the Libraries.io database |\n",
    "| Platform | string | The name of the Package manager the project is available on. |\n",
    "| Name | string | The name of the project, unique by Platform (case sensitive). |\n",
    "| Created Timestamp | datetime | The timestamp of when Libraries.io first discovered the project. |\n",
    "| Updated Timestamp | datetime | The timestamp of when Libraries.io last saved a change to the project. |\n",
    "| Description | string | Description provided by the package manager, falling back to description from repository if empty. |\n",
    "| Keywords | string | Comma separated array of keywords if supported by package manager. |\n",
    "| Homepage URL | string | URL of webpage or repository as provided by package managers that support it. |\n",
    "| Licenses | string | Comma separated array of SPDX identifiers for licenses declared in package manager meta data or submitted manually by Libraries.io user via \"project suggestion\" feature. |\n",
    "| Repository URL | string | URL of source code repository declared in package manager metadata or submitted manually by Libraries.io user via \"project suggestion\" feature. |\n",
    "| Versions Count | integer | Number of published versions of the project found by Libraries.io. |\n",
    "| SourceRank | integer | Libraries.io defined score based on quality, popularity and community metrics. |\n",
    "| Latest Release Publish Timestamp | datetime | Time of the latest release detected by Libraries.io (ordered by semver, falling back to publish date for invalid semver). |\n",
    "| Latest Release Number | string | Version number of the latest release detected by Libraries.io (ordered by semver, falling back to publish date for invalid semver). |\n",
    "| Package Manager ID | integer | Unique ID of project from package manager API. |\n",
    "| Dependent Projects Count | integer | Number of other projects that declare the project as a dependency in one or more of their versions. |\n",
    "| Language | string | Primary programming language the project is written in, pulled from the repository if source is hosted on GitHub. |\n",
    "| Status | string | The current status of the project, as determined by Libraries.io |"
   ]
  },
  {
   "attachments": {},
   "cell_type": "markdown",
   "metadata": {},
   "source": [
    "**Dependencies**\n",
    "\n",
    "The dependencies file contains information about the dependencies of the packages, according to the documentation:\n",
    "\n",
    "- Libraries.io dependencies belong to versions of a project, each version can have different sets of dependencies with different versions. Dependencies point at a specific version or range of versions of other projects, the resolution of that project version change over time as new versions are published and dependent on the specifics of the platform.\n",
    "\n",
    "- Almost all package managers dependencies will be from the same package manager, although the extra `Dependency Platform` field exists otherwise\n",
    "\n",
    "|Field|Type|Description|\n",
    "|---|---|---|\n",
    "|ID|integer|The unique primary key of the dependency in the Libraries.io database|\n",
    "|Platform|string|The name of the package manager on which the dependency is available|\n",
    "|Project Name|string|The name of the project the dependency belongs to|\n",
    "|Project ID|integer|The project's unique primary key for this dependency in the Libraries.io database|\n",
    "|Version Number|string|The version number to which the dependency belongs|\n",
    "|Version ID|integer|The version's unique primary key for this dependency in the Libraries.io database|\n",
    "|Dependency Name|string|The name of the project that specifies the dependency|\n",
    "|Dependency Platform|string|The name of the package manager from which the project specifying the dependency is available|\n",
    "|Dependency Kind|string|The kind of dependency, often declared for the use phase, eg runtime, test, develop, compile.|\n",
    "|Optional Dependency|boolean|Is the dependency optional?|\n",
    "|Dependency Requirements|string|The version or range of versions that the dependency specifies, the resolution of that specific version is specific to the package manager.|\n",
    "|Dependency Project ID|integer|The unique project primary key for this dependency in the Libraries.io database|"
   ]
  },
  {
   "attachments": {},
   "cell_type": "markdown",
   "metadata": {},
   "source": [
    "### **1.1.2 - Data filtering**"
   ]
  },
  {
   "attachments": {},
   "cell_type": "markdown",
   "metadata": {},
   "source": [
    "#### Packages"
   ]
  },
  {
   "attachments": {},
   "cell_type": "markdown",
   "metadata": {},
   "source": [
    "Since this Notebook is focused on CRAN as a proof of concept and due to the large file size, we have isolated the CRAN data in a new dataset."
   ]
  },
  {
   "attachments": {},
   "cell_type": "markdown",
   "metadata": {},
   "source": [
    "We generate a new csv that will contain only the CRAN data\n",
    "\n",
    "**Note:** \n",
    "\n",
    "The file <kbd>'projects-1.6.0-2020-01-12.csv'</kbd> is very large, for this reason it is not included in the repository, you can download the data from the link provided above\n",
    "\n",
    "We leave the code commented so as not to carry out this process every time the notebook is executed\n"
   ]
  },
  {
   "cell_type": "code",
   "execution_count": 2,
   "metadata": {},
   "outputs": [
    {
     "name": "stderr",
     "output_type": "stream",
     "text": [
      "/tmp/ipykernel_11136/1172569731.py:3: DtypeWarning: Columns (17) have mixed types. Specify dtype option on import or set low_memory=False.\n",
      "  packages_df = pd.read_csv(path + 'projects-1.6.0-2020-01-12.csv')\n"
     ]
    }
   ],
   "source": [
    "# # # Read the csv file and extract the data with column 'Platform' = 'CRAN' to a new dataframe\n",
    "# path = '/media/dnllns/Externo/libraries_data/libraries-1.6.0-2020-01-12/'\n",
    "# packages_df = pd.read_csv(path + 'projects-1.6.0-2020-01-12.csv')\n",
    "# packages_df = packages_df[packages_df['Platform'] == 'CRAN']\n",
    "\n",
    "# # Save the new dataframe to a csv file\n",
    "# packages_df.to_csv('data/projects-1.6.0-2020-01-12-cran.csv', index=False)"
   ]
  },
  {
   "attachments": {},
   "cell_type": "markdown",
   "metadata": {},
   "source": [
    "Finally we visualize the generated csv"
   ]
  },
  {
   "cell_type": "code",
   "execution_count": 13,
   "metadata": {},
   "outputs": [
    {
     "data": {
      "text/html": [
       "<div>\n",
       "<style scoped>\n",
       "    .dataframe tbody tr th:only-of-type {\n",
       "        vertical-align: middle;\n",
       "    }\n",
       "\n",
       "    .dataframe tbody tr th {\n",
       "        vertical-align: top;\n",
       "    }\n",
       "\n",
       "    .dataframe thead th {\n",
       "        text-align: right;\n",
       "    }\n",
       "</style>\n",
       "<table border=\"1\" class=\"dataframe\">\n",
       "  <thead>\n",
       "    <tr style=\"text-align: right;\">\n",
       "      <th></th>\n",
       "      <th>ID</th>\n",
       "      <th>Platform</th>\n",
       "      <th>Name</th>\n",
       "      <th>Created Timestamp</th>\n",
       "      <th>Updated Timestamp</th>\n",
       "      <th>Description</th>\n",
       "      <th>Keywords</th>\n",
       "      <th>Homepage URL</th>\n",
       "      <th>Licenses</th>\n",
       "      <th>Repository URL</th>\n",
       "      <th>...</th>\n",
       "      <th>SourceRank</th>\n",
       "      <th>Latest Release Publish Timestamp</th>\n",
       "      <th>Latest Release Number</th>\n",
       "      <th>Package Manager ID</th>\n",
       "      <th>Dependent Projects Count</th>\n",
       "      <th>Language</th>\n",
       "      <th>Status</th>\n",
       "      <th>Last synced Timestamp</th>\n",
       "      <th>Dependent Repositories Count</th>\n",
       "      <th>Repository ID</th>\n",
       "    </tr>\n",
       "  </thead>\n",
       "  <tbody>\n",
       "    <tr>\n",
       "      <th>0</th>\n",
       "      <td>687281</td>\n",
       "      <td>CRAN</td>\n",
       "      <td>archivist</td>\n",
       "      <td>2015-03-02 00:48:14 UTC</td>\n",
       "      <td>2019-10-11 14:26:28 UTC</td>\n",
       "      <td>Tools for Storing, Restoring and Searching for...</td>\n",
       "      <td>NaN</td>\n",
       "      <td>https://pbiecek.github.io/archivist/</td>\n",
       "      <td>GPL-2.0</td>\n",
       "      <td>https://github.com/pbiecek/archivist</td>\n",
       "      <td>...</td>\n",
       "      <td>14</td>\n",
       "      <td>2019-08-31 00:00:00 UTC</td>\n",
       "      <td>2.3.4</td>\n",
       "      <td>NaN</td>\n",
       "      <td>6</td>\n",
       "      <td>HTML</td>\n",
       "      <td>NaN</td>\n",
       "      <td>2019-10-11 14:26:25 UTC</td>\n",
       "      <td>12</td>\n",
       "      <td>339318.0</td>\n",
       "    </tr>\n",
       "    <tr>\n",
       "      <th>1</th>\n",
       "      <td>687282</td>\n",
       "      <td>CRAN</td>\n",
       "      <td>ggthemes</td>\n",
       "      <td>2015-03-02 00:48:15 UTC</td>\n",
       "      <td>2019-05-13 09:52:57 UTC</td>\n",
       "      <td>Extra Themes, Scales and Geoms for 'ggplot2'</td>\n",
       "      <td>NaN</td>\n",
       "      <td>http://github.com/jrnold/ggthemes</td>\n",
       "      <td>GPL-2.0</td>\n",
       "      <td>https://github.com/jrnold/ggthemes</td>\n",
       "      <td>...</td>\n",
       "      <td>19</td>\n",
       "      <td>2019-05-13 00:00:00 UTC</td>\n",
       "      <td>4.2.0</td>\n",
       "      <td>NaN</td>\n",
       "      <td>64</td>\n",
       "      <td>R</td>\n",
       "      <td>NaN</td>\n",
       "      <td>2019-05-13 09:52:55 UTC</td>\n",
       "      <td>232</td>\n",
       "      <td>339319.0</td>\n",
       "    </tr>\n",
       "  </tbody>\n",
       "</table>\n",
       "<p>2 rows × 21 columns</p>\n",
       "</div>"
      ],
      "text/plain": [
       "       ID Platform       Name        Created Timestamp  \\\n",
       "0  687281     CRAN  archivist  2015-03-02 00:48:14 UTC   \n",
       "1  687282     CRAN   ggthemes  2015-03-02 00:48:15 UTC   \n",
       "\n",
       "         Updated Timestamp                                        Description  \\\n",
       "0  2019-10-11 14:26:28 UTC  Tools for Storing, Restoring and Searching for...   \n",
       "1  2019-05-13 09:52:57 UTC       Extra Themes, Scales and Geoms for 'ggplot2'   \n",
       "\n",
       "   Keywords                          Homepage URL Licenses  \\\n",
       "0       NaN  https://pbiecek.github.io/archivist/  GPL-2.0   \n",
       "1       NaN     http://github.com/jrnold/ggthemes  GPL-2.0   \n",
       "\n",
       "                         Repository URL  ...  SourceRank  \\\n",
       "0  https://github.com/pbiecek/archivist  ...          14   \n",
       "1    https://github.com/jrnold/ggthemes  ...          19   \n",
       "\n",
       "   Latest Release Publish Timestamp Latest Release Number Package Manager ID  \\\n",
       "0           2019-08-31 00:00:00 UTC                 2.3.4                NaN   \n",
       "1           2019-05-13 00:00:00 UTC                 4.2.0                NaN   \n",
       "\n",
       "   Dependent Projects Count  Language Status    Last synced Timestamp  \\\n",
       "0                         6      HTML    NaN  2019-10-11 14:26:25 UTC   \n",
       "1                        64         R    NaN  2019-05-13 09:52:55 UTC   \n",
       "\n",
       "  Dependent Repositories Count  Repository ID  \n",
       "0                           12       339318.0  \n",
       "1                          232       339319.0  \n",
       "\n",
       "[2 rows x 21 columns]"
      ]
     },
     "execution_count": 13,
     "metadata": {},
     "output_type": "execute_result"
    }
   ],
   "source": [
    "# Read the csv file generated from the previous step\n",
    "packages_df = pd.read_csv('data/projects-1.6.0-2020-01-12-cran.csv')\n",
    "packages_df.head(2)"
   ]
  },
  {
   "attachments": {},
   "cell_type": "markdown",
   "metadata": {},
   "source": [
    "We can see that in total we have 16695 packages in the CRAN csv"
   ]
  },
  {
   "cell_type": "code",
   "execution_count": 4,
   "metadata": {},
   "outputs": [
    {
     "data": {
      "text/plain": [
       "(16695, 21)"
      ]
     },
     "execution_count": 4,
     "metadata": {},
     "output_type": "execute_result"
    }
   ],
   "source": [
    "# Contar el número de proyectos en el dataframe\n",
    "packages_df.shape"
   ]
  },
  {
   "attachments": {},
   "cell_type": "markdown",
   "metadata": {},
   "source": [
    "As an example, let's get the data of the A3 package"
   ]
  },
  {
   "cell_type": "code",
   "execution_count": 5,
   "metadata": {},
   "outputs": [
    {
     "data": {
      "text/html": [
       "<div>\n",
       "<style scoped>\n",
       "    .dataframe tbody tr th:only-of-type {\n",
       "        vertical-align: middle;\n",
       "    }\n",
       "\n",
       "    .dataframe tbody tr th {\n",
       "        vertical-align: top;\n",
       "    }\n",
       "\n",
       "    .dataframe thead th {\n",
       "        text-align: right;\n",
       "    }\n",
       "</style>\n",
       "<table border=\"1\" class=\"dataframe\">\n",
       "  <thead>\n",
       "    <tr style=\"text-align: right;\">\n",
       "      <th></th>\n",
       "      <th>ID</th>\n",
       "      <th>Platform</th>\n",
       "      <th>Name</th>\n",
       "      <th>Created Timestamp</th>\n",
       "      <th>Updated Timestamp</th>\n",
       "      <th>Description</th>\n",
       "      <th>Keywords</th>\n",
       "      <th>Homepage URL</th>\n",
       "      <th>Licenses</th>\n",
       "      <th>Repository URL</th>\n",
       "      <th>...</th>\n",
       "      <th>SourceRank</th>\n",
       "      <th>Latest Release Publish Timestamp</th>\n",
       "      <th>Latest Release Number</th>\n",
       "      <th>Package Manager ID</th>\n",
       "      <th>Dependent Projects Count</th>\n",
       "      <th>Language</th>\n",
       "      <th>Status</th>\n",
       "      <th>Last synced Timestamp</th>\n",
       "      <th>Dependent Repositories Count</th>\n",
       "      <th>Repository ID</th>\n",
       "    </tr>\n",
       "  </thead>\n",
       "  <tbody>\n",
       "    <tr>\n",
       "      <th>5143</th>\n",
       "      <td>692488</td>\n",
       "      <td>CRAN</td>\n",
       "      <td>A3</td>\n",
       "      <td>2015-03-02 01:14:48 UTC</td>\n",
       "      <td>2019-10-11 17:58:17 UTC</td>\n",
       "      <td>Accurate, Adaptable, and Accessible Error Metr...</td>\n",
       "      <td>NaN</td>\n",
       "      <td>NaN</td>\n",
       "      <td>CNRI-Python-GPL-Compatible,CNRI-Python-GPL-Com...</td>\n",
       "      <td>NaN</td>\n",
       "      <td>...</td>\n",
       "      <td>5</td>\n",
       "      <td>2015-08-16 00:00:00 UTC</td>\n",
       "      <td>1.0.0</td>\n",
       "      <td>NaN</td>\n",
       "      <td>0</td>\n",
       "      <td>NaN</td>\n",
       "      <td>NaN</td>\n",
       "      <td>2019-10-11 17:58:17 UTC</td>\n",
       "      <td>0</td>\n",
       "      <td>NaN</td>\n",
       "    </tr>\n",
       "  </tbody>\n",
       "</table>\n",
       "<p>1 rows × 21 columns</p>\n",
       "</div>"
      ],
      "text/plain": [
       "          ID Platform Name        Created Timestamp        Updated Timestamp  \\\n",
       "5143  692488     CRAN   A3  2015-03-02 01:14:48 UTC  2019-10-11 17:58:17 UTC   \n",
       "\n",
       "                                            Description  Keywords  \\\n",
       "5143  Accurate, Adaptable, and Accessible Error Metr...       NaN   \n",
       "\n",
       "     Homepage URL                                           Licenses  \\\n",
       "5143          NaN  CNRI-Python-GPL-Compatible,CNRI-Python-GPL-Com...   \n",
       "\n",
       "     Repository URL  ...  SourceRank  Latest Release Publish Timestamp  \\\n",
       "5143            NaN  ...           5           2015-08-16 00:00:00 UTC   \n",
       "\n",
       "     Latest Release Number Package Manager ID  Dependent Projects Count  \\\n",
       "5143                 1.0.0                NaN                         0   \n",
       "\n",
       "      Language Status    Last synced Timestamp Dependent Repositories Count  \\\n",
       "5143       NaN    NaN  2019-10-11 17:58:17 UTC                            0   \n",
       "\n",
       "      Repository ID  \n",
       "5143            NaN  \n",
       "\n",
       "[1 rows x 21 columns]"
      ]
     },
     "execution_count": 5,
     "metadata": {},
     "output_type": "execute_result"
    }
   ],
   "source": [
    "# Get the A3 package data from the df dataframe\n",
    "packages_df[packages_df['Name'] == 'A3']"
   ]
  },
  {
   "attachments": {},
   "cell_type": "markdown",
   "metadata": {},
   "source": [
    "#### Dependencies"
   ]
  },
  {
   "attachments": {},
   "cell_type": "markdown",
   "metadata": {},
   "source": [
    "As before, we are going to extract this information from the dependencies file"
   ]
  },
  {
   "cell_type": "code",
   "execution_count": 8,
   "metadata": {},
   "outputs": [],
   "source": [
    "path = '/media/dnllns/Externo/libraries_data/libraries-1.6.0-2020-01-12'\n",
    "dependencies_df = pd.read_csv(path + os.sep + 'dependencies-1.6.0-2020-01-12.csv', nrows=5)"
   ]
  },
  {
   "cell_type": "code",
   "execution_count": 9,
   "metadata": {},
   "outputs": [
    {
     "data": {
      "text/html": [
       "<div>\n",
       "<style scoped>\n",
       "    .dataframe tbody tr th:only-of-type {\n",
       "        vertical-align: middle;\n",
       "    }\n",
       "\n",
       "    .dataframe tbody tr th {\n",
       "        vertical-align: top;\n",
       "    }\n",
       "\n",
       "    .dataframe thead th {\n",
       "        text-align: right;\n",
       "    }\n",
       "</style>\n",
       "<table border=\"1\" class=\"dataframe\">\n",
       "  <thead>\n",
       "    <tr style=\"text-align: right;\">\n",
       "      <th></th>\n",
       "      <th>ID</th>\n",
       "      <th>Platform</th>\n",
       "      <th>Project Name</th>\n",
       "      <th>Project ID</th>\n",
       "      <th>Version Number</th>\n",
       "      <th>Version ID</th>\n",
       "      <th>Dependency Name</th>\n",
       "      <th>Dependency Platform</th>\n",
       "      <th>Dependency Kind</th>\n",
       "      <th>Optional Dependency</th>\n",
       "      <th>Dependency Requirements</th>\n",
       "      <th>Dependency Project ID</th>\n",
       "    </tr>\n",
       "  </thead>\n",
       "  <tbody>\n",
       "    <tr>\n",
       "      <th>0</th>\n",
       "      <td>8737</td>\n",
       "      <td>Dub</td>\n",
       "      <td>a4g</td>\n",
       "      <td>197</td>\n",
       "      <td>0.1.0</td>\n",
       "      <td>2</td>\n",
       "      <td>a4g:client</td>\n",
       "      <td>Dub</td>\n",
       "      <td>runtime</td>\n",
       "      <td>False</td>\n",
       "      <td>*</td>\n",
       "      <td>NaN</td>\n",
       "    </tr>\n",
       "    <tr>\n",
       "      <th>1</th>\n",
       "      <td>8738</td>\n",
       "      <td>Dub</td>\n",
       "      <td>a4g</td>\n",
       "      <td>197</td>\n",
       "      <td>0.1.0</td>\n",
       "      <td>2</td>\n",
       "      <td>a4g:server</td>\n",
       "      <td>Dub</td>\n",
       "      <td>runtime</td>\n",
       "      <td>False</td>\n",
       "      <td>*</td>\n",
       "      <td>NaN</td>\n",
       "    </tr>\n",
       "  </tbody>\n",
       "</table>\n",
       "</div>"
      ],
      "text/plain": [
       "     ID Platform Project Name  Project ID Version Number  Version ID  \\\n",
       "0  8737      Dub          a4g         197          0.1.0           2   \n",
       "1  8738      Dub          a4g         197          0.1.0           2   \n",
       "\n",
       "  Dependency Name Dependency Platform Dependency Kind  Optional Dependency  \\\n",
       "0      a4g:client                 Dub         runtime                False   \n",
       "1      a4g:server                 Dub         runtime                False   \n",
       "\n",
       "  Dependency Requirements  Dependency Project ID  \n",
       "0                       *                    NaN  \n",
       "1                       *                    NaN  "
      ]
     },
     "execution_count": 9,
     "metadata": {},
     "output_type": "execute_result"
    }
   ],
   "source": [
    "dependencies_df.head(2)"
   ]
  },
  {
   "attachments": {},
   "cell_type": "markdown",
   "metadata": {},
   "source": [
    "This file is very large and the machine I have does not have enough RAM to open it, so the only solution is to cut it into smaller pieces.\n",
    "\n",
    "In a linux system we can use the following command to split the file into files of 10000 lines each"
   ]
  },
  {
   "cell_type": "code",
   "execution_count": 5,
   "metadata": {},
   "outputs": [],
   "source": [
    "#!cat dependencies-1.6.0-2020-01-12.csv | parallel --header : --pipe -N10000 'cat >dependencies-1.6.0-2020-01-12/split_dependencies-1.6.0-2020-01-12_{#}.csv'"
   ]
  },
  {
   "attachments": {},
   "cell_type": "markdown",
   "metadata": {},
   "source": [
    "We can see that the file has been divided into 19040 smaller files."
   ]
  },
  {
   "cell_type": "code",
   "execution_count": 7,
   "metadata": {},
   "outputs": [
    {
     "name": "stdout",
     "output_type": "stream",
     "text": [
      "19040\n"
     ]
    }
   ],
   "source": [
    "## Count the number of files in the directory\n",
    "PATH_ = '/media/dnllns/Externo/libraries_data/libraries-1.6.0-2020-01-12/' \n",
    "!ls -l $PATH_\"dependencies-1.6.0-2020-01-12\" | wc -l"
   ]
  },
  {
   "cell_type": "code",
   "execution_count": 10,
   "metadata": {},
   "outputs": [
    {
     "name": "stderr",
     "output_type": "stream",
     "text": [
      "100%|██████████| 19039/19039 [1:12:52<00:00,  4.35it/s]    \n"
     ]
    }
   ],
   "source": [
    "\n",
    "warnings.filterwarnings(\"ignore\", category=FutureWarning)\n",
    "\n",
    "\n",
    "file_count = 0\n",
    "dependencies_df = pd.DataFrame()\n",
    "files = os.listdir(path + os.sep + 'dependencies-1.6.0-2020-01-12')\n",
    "\n",
    "# Procesar los archivos de dependencias\n",
    "# Si la fila tiene un valor 'CRAN' en la columna 'Dependency Platform', se guarda en un nuevo dataframe\n",
    "pbar = tqdm(total=len(files))\n",
    "for file in files:\n",
    "    if file.endswith(\".csv\"):\n",
    "        file_count += 1\n",
    "        temp_dependencies_df = pd.read_csv(path + os.sep + 'dependencies-1.6.0-2020-01-12/' + file)\n",
    "        dependencies_df = pd.concat([dependencies_df, temp_dependencies_df[temp_dependencies_df['Dependency Platform'] == 'CRAN']])\n",
    "    pbar.update(1)\n",
    "pbar.close()\n",
    "\n",
    "dependencies_df.to_csv('data' + os.sep + 'dependencies-1.6.0-2020-01-12-cran.csv', index=False)"
   ]
  },
  {
   "attachments": {},
   "cell_type": "markdown",
   "metadata": {},
   "source": [
    "Once all the files have been processed we have a csv that contains the dependencies of the CRAN packages.\n",
    "\n",
    "\n",
    "We will show the dependencies of the A3 package of type imports and depends for version 1.0.0"
   ]
  },
  {
   "cell_type": "code",
   "execution_count": 11,
   "metadata": {},
   "outputs": [
    {
     "data": {
      "text/html": [
       "<div>\n",
       "<style scoped>\n",
       "    .dataframe tbody tr th:only-of-type {\n",
       "        vertical-align: middle;\n",
       "    }\n",
       "\n",
       "    .dataframe tbody tr th {\n",
       "        vertical-align: top;\n",
       "    }\n",
       "\n",
       "    .dataframe thead th {\n",
       "        text-align: right;\n",
       "    }\n",
       "</style>\n",
       "<table border=\"1\" class=\"dataframe\">\n",
       "  <thead>\n",
       "    <tr style=\"text-align: right;\">\n",
       "      <th></th>\n",
       "      <th>ID</th>\n",
       "      <th>Platform</th>\n",
       "      <th>Project Name</th>\n",
       "      <th>Project ID</th>\n",
       "      <th>Version Number</th>\n",
       "      <th>Version ID</th>\n",
       "      <th>Dependency Name</th>\n",
       "      <th>Dependency Platform</th>\n",
       "      <th>Dependency Kind</th>\n",
       "      <th>Optional Dependency</th>\n",
       "      <th>Dependency Requirements</th>\n",
       "      <th>Dependency Project ID</th>\n",
       "    </tr>\n",
       "  </thead>\n",
       "  <tbody>\n",
       "    <tr>\n",
       "      <th>233050</th>\n",
       "      <td>29214218</td>\n",
       "      <td>CRAN</td>\n",
       "      <td>A3</td>\n",
       "      <td>692488</td>\n",
       "      <td>1.0.0</td>\n",
       "      <td>3549070</td>\n",
       "      <td>R</td>\n",
       "      <td>CRAN</td>\n",
       "      <td>depends</td>\n",
       "      <td>False</td>\n",
       "      <td>&gt;= 2.15.0</td>\n",
       "      <td>NaN</td>\n",
       "    </tr>\n",
       "  </tbody>\n",
       "</table>\n",
       "</div>"
      ],
      "text/plain": [
       "              ID Platform Project Name  Project ID Version Number  Version ID  \\\n",
       "233050  29214218     CRAN           A3      692488          1.0.0     3549070   \n",
       "\n",
       "       Dependency Name Dependency Platform Dependency Kind  \\\n",
       "233050               R                CRAN         depends   \n",
       "\n",
       "        Optional Dependency Dependency Requirements  Dependency Project ID  \n",
       "233050                False               >= 2.15.0                    NaN  "
      ]
     },
     "execution_count": 11,
     "metadata": {},
     "output_type": "execute_result"
    }
   ],
   "source": [
    "dependencies_df = pd.read_csv('data/dependencies-1.6.0-2020-01-12-cran.csv')\n",
    "\n",
    "# Obtener la ultima version de la libreria A3 y guardarla en una variable\n",
    "last_version =  dependencies_df[dependencies_df['Project Name'] == 'A3'].sort_values(by=['Version Number'], ascending=False).head(1)['Version Number'].values[0]\n",
    "\n",
    "# Show the dependencies of the last version of A3 package y and the field (Dependency Kind) is 'depends' or 'imports'\n",
    "dependencies_df[(dependencies_df['Project Name'] == 'A3') & (dependencies_df['Version Number'] == last_version) & (dependencies_df['Dependency Kind'].isin(['depends', 'imports']))]"
   ]
  },
  {
   "cell_type": "code",
   "execution_count": 21,
   "metadata": {},
   "outputs": [
    {
     "name": "stdout",
     "output_type": "stream",
     "text": [
      "Total packages:  16695\n",
      "Total packages with dependencies :  16174\n",
      "Total packages that are dependencies of others:  5501\n",
      "Total packages without dependencies:  1173\n"
     ]
    }
   ],
   "source": [
    "# Obtener un set con los distintos nombres de las librerias\n",
    "dependency_packages = set(dependencies_df['Dependency Name'].values)\n",
    "packages_with_dependencies = set(dependencies_df['Project Name'].values)\n",
    "total_packages = set(packages_df['Name'].values)\n",
    "packages_without_dependencies = total_packages - packages_with_dependencies\n",
    "\n",
    "# Total number of packages (csv of projects)\n",
    "print('Total packages: ', len(total_packages))\n",
    "print('Total packages with dependencies : ', len(dependency_packages | packages_with_dependencies))\n",
    "print('Total packages that are dependencies of others: ', len(dependency_packages))\n",
    "print('Total packages without dependencies: ', len(packages_without_dependencies))"
   ]
  },
  {
   "attachments": {},
   "cell_type": "markdown",
   "metadata": {},
   "source": [
    "We build a histogram to represent the analyzed information"
   ]
  },
  {
   "cell_type": "code",
   "execution_count": 23,
   "metadata": {},
   "outputs": [
    {
     "data": {
      "image/png": "[encoded data removed]",
      "text/plain": [
       "<Figure size 576x288 with 1 Axes>"
      ]
     },
     "metadata": {
      "needs_background": "light"
     },
     "output_type": "display_data"
    }
   ],
   "source": [
    "# Data to plot as a histogram\n",
    "data1 = [len(total_packages), 0, 0, 0]\n",
    "data2 = [0, len(dependency_packages | packages_with_dependencies), 0, 0]\n",
    "data3 = [0, 0, len(dependency_packages), 0]\n",
    "data4 = [0, 0, 0, len(packages_without_dependencies)]\n",
    "\n",
    "fig, ax = plt.subplots(figsize=(8, 4))\n",
    "index = np.arange(4)\n",
    "bar_width = 0.35\n",
    "opacity = 0.8\n",
    "rects1 = plt.bar(index, data1, bar_width, alpha=opacity, color='b', label='Total packages')\n",
    "rects2 = plt.bar(index+bar_width, data2, bar_width, alpha=opacity, color='g', label='Packages with dependencies')\n",
    "rects3 = plt.bar(index+2*bar_width, data3, bar_width, alpha=opacity, color='r', label='Packages that are dependencies of others')\n",
    "rects4 = plt.bar(index+3*bar_width, data4, bar_width, alpha=opacity, color='y', label='Packages without dependencies')\n",
    "plt.xlabel('Packages')\n",
    "plt.ylabel('Number of packages')\n",
    "plt.title('Packages')\n",
    "plt.xticks(index + bar_width, ())\n",
    "\n",
    "# Add a grid    \n",
    "plt.grid(axis='y', alpha=0.75)\n",
    "ax.legend(loc='upper right')\n",
    "plt.tight_layout()\n",
    "plt.show()\n"
   ]
  },
  {
   "attachments": {},
   "cell_type": "markdown",
   "metadata": {},
   "source": [
    "---"
   ]
  },
  {
   "attachments": {},
   "cell_type": "markdown",
   "metadata": {},
   "source": [
    "# <ins>**2 - Web Scraping**</ins>"
   ]
  },
  {
   "attachments": {},
   "cell_type": "markdown",
   "metadata": {},
   "source": [
    "## **2.0 - Previous notes (about the web scraping technique):**"
   ]
  },
  {
   "attachments": {},
   "cell_type": "markdown",
   "metadata": {},
   "source": [
    "Web scraping is a technique for extracting data from web pages in order to obtain information for further analysis. It is done through the use of software programs that automate the task of browsing web pages and extracting specific information.\n",
    "\n",
    "Advantages of this technique include the ability to collect large amounts of data in a short period of time, accessibility to otherwise difficult-to-obtain information, and the ability to perform real-time data analysis.\n",
    "\n",
    "However, there are also drawbacks, such as the lack of guarantee of the accuracy and timeliness of the information obtained, the possibility of violating the privacy and security policies of websites, and the illegality of the technique in some cases.\n",
    "\n",
    "In the case where the information is not available in dataset format or in some other way, web scraping becomes a useful tool to extract such information from web pages. However, it is important to note that the information extracted may not be accurate or out of date, and that the data extraction may be illegal or violate the privacy and security policies of the websites. Therefore, it is important to carefully assess the need and potential impact before taking any web scraping action."
   ]
  },
  {
   "attachments": {},
   "cell_type": "markdown",
   "metadata": {},
   "source": [
    "## **2.1 - Implementation Details**"
   ]
  },
  {
   "attachments": {},
   "cell_type": "markdown",
   "metadata": {},
   "source": [
    "**ProxyRequest module**\n",
    "\n",
    "To carry out the task of obtaining data through web scraping, the module <span style=\"color:green; font-weight:bold\">ProxyRequest</span> with the class <span style=\"color:green; font-weight:bold\">RequestHandler</span> has been implemented to make the operation more transparent.\n",
    "\n",
    "\n",
    "The RequestHandler module allows us to make requests using different *proxies and useragents* with the aim of avoiding the denial of service by the server to our requests, which will happen if or if due to their high number.\n",
    "\n",
    "The implementation of the class is not defined in this notebook due to not extending the contents much.\n",
    "\n",
    "You can see the implementation of the module and more information at:\n",
    "\n",
    "- https://github.com/dab0012/olivia/blob/master/Demo/modules/scraping/ProxyRequest.py\n",
    "\n"
   ]
  },
  {
   "attachments": {},
   "cell_type": "markdown",
   "metadata": {},
   "source": [
    "**CranScraper module**\n",
    "\n",
    "This module has been implemented with the objective of extracting the information of the packages housed on the Cran website.\n",
    "\n",
    "This website contains a list of packages currently dissipable in Cran, as well as the packages that have been filed (orphanage or by express desire for the maintainer)\n",
    "\n",
    "The <span style=\"color:green; font-weight:bold\">CranScraper</span> class implemented in this module allows us to extract the information stored in the HTML and process it with the aim of generating an object of the package class that we have previously implemented.\n",
    "\n",
    "You can see the implementation of the module in the next URL:\n",
    "\n",
    "- https://github.com/dab0012/olivia/blob/master/Demo/modules/scraping/CranScraper.py"
   ]
  },
  {
   "attachments": {},
   "cell_type": "markdown",
   "metadata": {},
   "source": [
    "## **2.2 - Scraping process**"
   ]
  },
  {
   "cell_type": "markdown",
   "metadata": {},
   "source": [
    "### Package processing"
   ]
  },
  {
   "attachments": {},
   "cell_type": "markdown",
   "metadata": {},
   "source": [
    "We do a test getting a package"
   ]
  },
  {
   "cell_type": "code",
   "execution_count": 2,
   "metadata": {},
   "outputs": [
    {
     "name": "stdout",
     "output_type": "stream",
     "text": [
      "\u001b[31mRequest failed as Exception:\u001b[0m\n",
      "Exception getting package MASS: local variable 'proxy' referenced before assignment\n",
      "Exception parsing dependencies of package MASS: 'NoneType' object has no attribute 'get'\n",
      "Exception parsing dependencies of package MASS: 'NoneType' object has no attribute 'get'\n"
     ]
    },
    {
     "ename": "TypeError",
     "evalue": "'NoneType' object is not subscriptable",
     "output_type": "error",
     "traceback": [
      "\u001b[0;31m---------------------------------------------------------------------------\u001b[0m",
      "\u001b[0;31mTypeError\u001b[0m                                 Traceback (most recent call last)",
      "Cell \u001b[0;32mIn[2], line 2\u001b[0m\n\u001b[1;32m      1\u001b[0m cran_scraper \u001b[39m=\u001b[39m CranScraper(RequestHandler())        \u001b[39m# Create object of class CranScraper\u001b[39;00m\n\u001b[0;32m----> 2\u001b[0m p \u001b[39m=\u001b[39m cran_scraper\u001b[39m.\u001b[39;49mpkg_builder(\u001b[39m'\u001b[39;49m\u001b[39mMASS\u001b[39;49m\u001b[39m'\u001b[39;49m)                \u001b[39m# Get the MASS package data\u001b[39;00m\n\u001b[1;32m      3\u001b[0m p\u001b[39m.\u001b[39mdump()                                            \u001b[39m# Print the package data                     \u001b[39;00m\n",
      "File \u001b[0;32m~/tfg/olivia/Demo/modules/scraping/CranScraper.py:217\u001b[0m, in \u001b[0;36mCranScraper.pkg_builder\u001b[0;34m(self, pkg_name)\u001b[0m\n\u001b[1;32m    215\u001b[0m package \u001b[39m=\u001b[39m Package()\n\u001b[1;32m    216\u001b[0m package\u001b[39m.\u001b[39mname \u001b[39m=\u001b[39m pkg_name\n\u001b[0;32m--> 217\u001b[0m package\u001b[39m.\u001b[39mdescription \u001b[39m=\u001b[39m pkg_data[\u001b[39m'\u001b[39;49m\u001b[39mdescription\u001b[39;49m\u001b[39m'\u001b[39;49m]\n\u001b[1;32m    218\u001b[0m package\u001b[39m.\u001b[39mversion \u001b[39m=\u001b[39m pkg_data[\u001b[39m'\u001b[39m\u001b[39mversion\u001b[39m\u001b[39m'\u001b[39m]\n\u001b[1;32m    219\u001b[0m package\u001b[39m.\u001b[39mpublication_date \u001b[39m=\u001b[39m pkg_data[\u001b[39m'\u001b[39m\u001b[39mpublication_date\u001b[39m\u001b[39m'\u001b[39m]\n",
      "\u001b[0;31mTypeError\u001b[0m: 'NoneType' object is not subscriptable"
     ]
    }
   ],
   "source": [
    "cran_scraper = CranScraper(RequestHandler())        # Create object of class CranScraper\n",
    "p = cran_scraper.pkg_builder('MASS')                # Get the MASS package data\n",
    "p.dump()                                            # Print the package data                     "
   ]
  },
  {
   "attachments": {},
   "cell_type": "markdown",
   "metadata": {},
   "source": [
    "### Scraping CRAN website"
   ]
  },
  {
   "attachments": {},
   "cell_type": "markdown",
   "metadata": {},
   "source": [
    "Once all the tools have been obtained, the only thing left is to obtain the information of each of the packages."
   ]
  },
  {
   "attachments": {},
   "cell_type": "markdown",
   "metadata": {},
   "source": [
    "#### Get a list of packages"
   ]
  },
  {
   "cell_type": "code",
   "execution_count": 12,
   "metadata": {},
   "outputs": [],
   "source": [
    "packages = []"
   ]
  },
  {
   "attachments": {},
   "cell_type": "markdown",
   "metadata": {},
   "source": [
    "We make a request to the CRAN web server and get the list of packages"
   ]
  },
  {
   "cell_type": "code",
   "execution_count": 13,
   "metadata": {},
   "outputs": [
    {
     "name": "stdout",
     "output_type": "stream",
     "text": [
      "Request successful\n"
     ]
    }
   ],
   "source": [
    "# URL to get the list of packages from CRAN\n",
    "CRAN_pkgs_url = \"https://cran.r-project.org/web/packages/available_packages_by_name.html\"\n",
    "\n",
    "# Create object of class RequestHandler\n",
    "rh = RequestHandler()\n",
    "\n",
    "# Do the request\n",
    "response = rh.do_request(CRAN_pkgs_url, retry=True)\n",
    "\n",
    "# If the request was successful\n",
    "if response.status_code == 200:\n",
    "    print(\"Request successful\")\n",
    "else:\n",
    "    print(\"Error in request\")"
   ]
  },
  {
   "attachments": {},
   "cell_type": "markdown",
   "metadata": {},
   "source": [
    "If the request was correct, we will begin to extract the information we need"
   ]
  },
  {
   "attachments": {},
   "cell_type": "markdown",
   "metadata": {},
   "source": [
    "We will use the BeautifullSoup4 library to do the scraping"
   ]
  },
  {
   "cell_type": "code",
   "execution_count": 14,
   "metadata": {},
   "outputs": [],
   "source": [
    "# We parse the HTML content of the web page using BeautifulSoup\n",
    "# We extract the table that contains the information of the CRAN packages\n",
    "soup = BeautifulSoup(response.content, \"html.parser\")\n",
    "table = soup.find(\"table\")\n",
    "rows = table.find_all(\"tr\")"
   ]
  },
  {
   "attachments": {},
   "cell_type": "markdown",
   "metadata": {},
   "source": [
    "As you can see we have the information stored in a table, now we iterate each row to extract the name of the packages"
   ]
  },
  {
   "cell_type": "code",
   "execution_count": 15,
   "metadata": {},
   "outputs": [
    {
     "data": {
      "text/plain": [
       "[<tr id=\"available-packages-A\"> <td></td> </tr>,\n",
       " <tr>\n",
       " <td><a href=\"../../web/packages/A3/index.html\">A3</a></td><td>Accurate, Adaptable, and Accessible Error Metrics for Predictive\n",
       " Models</td></tr>,\n",
       " <tr>\n",
       " <td><a href=\"../../web/packages/AATtools/index.html\">AATtools</a></td><td>Reliability and Scoring Routines for the Approach-Avoidance Task</td></tr>,\n",
       " <tr>\n",
       " <td><a href=\"../../web/packages/ABACUS/index.html\">ABACUS</a></td><td>Apps Based Activities for Communicating and Understanding\n",
       " Statistics</td></tr>,\n",
       " <tr>\n",
       " <td><a href=\"../../web/packages/abbreviate/index.html\">abbreviate</a></td><td>Readable String Abbreviation</td></tr>]"
      ]
     },
     "execution_count": 15,
     "metadata": {},
     "output_type": "execute_result"
    }
   ],
   "source": [
    "rows[:5]"
   ]
  },
  {
   "attachments": {},
   "cell_type": "markdown",
   "metadata": {},
   "source": [
    "The data could be pre-processed to remove unwanted debris, although we will handle this later."
   ]
  },
  {
   "cell_type": "code",
   "execution_count": 16,
   "metadata": {},
   "outputs": [
    {
     "data": {
      "text/plain": [
       "<tr id=\"available-packages-A\"> <td></td> </tr>"
      ]
     },
     "execution_count": 16,
     "metadata": {},
     "output_type": "execute_result"
    }
   ],
   "source": [
    "rows[0]"
   ]
  },
  {
   "cell_type": "code",
   "execution_count": 17,
   "metadata": {},
   "outputs": [
    {
     "data": {
      "text/plain": [
       "<tr id=\"available-packages-A\"> <td></td> </tr>"
      ]
     },
     "execution_count": 17,
     "metadata": {},
     "output_type": "execute_result"
    }
   ],
   "source": [
    "rows.pop(0)"
   ]
  },
  {
   "attachments": {},
   "cell_type": "markdown",
   "metadata": {},
   "source": [
    "We import the Packages module, whose implementation is documented in the 'Data storage and Persistence' notebook\n",
    "\n",
    "We also import the Util module, which contains code to garnish the stdout output (Nothing relevant)"
   ]
  },
  {
   "cell_type": "code",
   "execution_count": null,
   "metadata": {},
   "outputs": [],
   "source": [
    "# We iterate over each row of the table\n",
    "for row in rows:\n",
    "\n",
    "    # We extract the cells of the current row\n",
    "    cells = row.find_all(\"td\")\n",
    "\n",
    "    package_name = \"\"\n",
    "    # If there are cells in the row\n",
    "    if cells:\n",
    "        try: \n",
    "            # We extract the name of the package\n",
    "            # The name is in the first cell of the row\n",
    "            package_name = cells[0].find(\"a\").text   \n",
    "\n",
    "            # We add the package name to the list of packages\n",
    "            packages.append(package_name)\n",
    "\n",
    "            # Show success message\n",
    "            message = \"Package \" + package_name + \" added to the list\"\n",
    "            print_colored(message, GREEN)\n",
    "            \n",
    "\n",
    "        # If an error occurs, we show the error message\n",
    "        except Exception as e:\n",
    "            \n",
    "            # message string\n",
    "            message = \"Error processing package: \" + package_name\n",
    "            message += \"Exception: \" + e.__class__.__name__ \n",
    "            message += \"Error: \" + str(e)\n",
    "\n",
    "            # Print error message\n",
    "            print_colored(message, RED)\n",
    "            print(\"Continuing...\")"
   ]
  },
  {
   "cell_type": "code",
   "execution_count": 21,
   "metadata": {},
   "outputs": [
    {
     "name": "stdout",
     "output_type": "stream",
     "text": [
      "Number of packages processed:  19231\n"
     ]
    }
   ],
   "source": [
    "# We show the number of packages that we have processed\n",
    "print(\"Number of packages processed: \", len(packages))"
   ]
  },
  {
   "attachments": {},
   "cell_type": "markdown",
   "metadata": {},
   "source": [
    "We can store the list of packages in a file so as not to repeat this step more times unless we want to update"
   ]
  },
  {
   "cell_type": "code",
   "execution_count": 22,
   "metadata": {},
   "outputs": [],
   "source": [
    "# We open the file in write mode\n",
    "timestampe = datetime.datetime.now().strftime(\"%Y%m%d%H%M%S\")\n",
    "file_name = \"data\" + os.sep + \"packages_\" + timestampe + \".pkl\"\n",
    "with open(file_name, \"wb\") as f:\n",
    "    # We dump the packages list in the file\n",
    "    pickle.dump(packages, f)\n"
   ]
  },
  {
   "attachments": {},
   "cell_type": "markdown",
   "metadata": {},
   "source": [
    "Check that the package file has been properly generated"
   ]
  },
  {
   "cell_type": "code",
   "execution_count": 23,
   "metadata": {},
   "outputs": [
    {
     "data": {
      "text/plain": [
       "['dependencies-1.6.0-2020-01-12-cran.csv',\n",
       " 'packages_20230221121430.pkl',\n",
       " 'projects-1.6.0-2020-01-12-cran.csv']"
      ]
     },
     "execution_count": 23,
     "metadata": {},
     "output_type": "execute_result"
    }
   ],
   "source": [
    "os.listdir(\"data\")"
   ]
  },
  {
   "cell_type": "code",
   "execution_count": 30,
   "metadata": {},
   "outputs": [
    {
     "name": "stdout",
     "output_type": "stream",
     "text": [
      "Latest file:  packages_20230221121430.pkl\n"
     ]
    }
   ],
   "source": [
    "# Get the latest file pkl packages file stored in the data folder using the file creation date\n",
    "pkl_package_list = max([f for f in os.listdir(\"data\") if f.endswith(\".pkl\")], key=lambda x: os.path.getctime(os.path.join(\"data\", x)))\n",
    "print(\"Latest file: \", pkl_package_list)"
   ]
  },
  {
   "attachments": {},
   "cell_type": "markdown",
   "metadata": {},
   "source": [
    "We are going to show some basic statistics to get a little better idea of ​​the data we have."
   ]
  },
  {
   "cell_type": "code",
   "execution_count": 31,
   "metadata": {},
   "outputs": [],
   "source": [
    "# Compare the list of packages obtained by scraping with the list of packages obtained by the libraries.io dataset\n",
    "# -------------------------------------------------------------------------------------------------------------\n",
    "\n",
    "# We load the list of packages obtained by scraping\n",
    "with open(\"data\" + os.sep + pkl_package_list, \"rb\") as f:\n",
    "    packages_scraping = pickle.load(f)\n",
    "\n",
    "# We load the list of packages obtained by the libraries.io dataset, from the csv file\n",
    "packages_librariesio = pd.read_csv(\"data\" + os.sep + \"projects-1.6.0-2020-01-12-cran.csv\")\n",
    "\n",
    "# We get the names of the packages obtained by scraping\n",
    "packages_scraping_names = set(packages_scraping)\n",
    "\n",
    "# We get the names of the packages obtained by the libraries.io dataset\n",
    "packages_librariesio_names = set(packages_librariesio['Name'].values)\n",
    "\n",
    "# We get the packages that are in the libraries.io dataset, but not in the scraping dataset\n",
    "packages_librariesio_not_in_scraping = packages_librariesio_names - packages_scraping_names\n",
    "\n",
    "# We get the packages that are in the scraping dataset, but not in the libraries.io dataset\n",
    "packages_scraping_not_in_librariesio = packages_scraping_names - packages_librariesio_names"
   ]
  },
  {
   "cell_type": "code",
   "execution_count": 32,
   "metadata": {},
   "outputs": [
    {
     "name": "stdout",
     "output_type": "stream",
     "text": [
      "Number of packages in the libraries.io dataset:  16695\n",
      "Number of packages in the scraping dataset:  19230\n",
      "Number of packages in the libraries.io dataset, but not in the scraping dataset:  4092\n",
      "Number of packages in the scraping dataset, but not in the libraries.io dataset:  6627\n",
      "Number of packages in both datasets:  12603\n"
     ]
    }
   ],
   "source": [
    "print(\"Number of packages in the libraries.io dataset: \", len(packages_librariesio_names))\n",
    "print(\"Number of packages in the scraping dataset: \", len(packages_scraping_names))\n",
    "print(\"Number of packages in the libraries.io dataset, but not in the scraping dataset: \", len(packages_librariesio_not_in_scraping))\n",
    "print(\"Number of packages in the scraping dataset, but not in the libraries.io dataset: \", len(packages_scraping_not_in_librariesio))\n",
    "\n",
    "# We show the number of packages that are in both datasets\n",
    "print(\"Number of packages in both datasets: \", len(packages_scraping_names & packages_librariesio_names))"
   ]
  },
  {
   "attachments": {},
   "cell_type": "markdown",
   "metadata": {},
   "source": [
    "We create a bar graph"
   ]
  },
  {
   "cell_type": "code",
   "execution_count": 33,
   "metadata": {},
   "outputs": [
    {
     "data": {
      "image/png": "[encoded data removed]",
      "text/plain": [
       "<Figure size 1000x500 with 1 Axes>"
      ]
     },
     "metadata": {},
     "output_type": "display_data"
    }
   ],
   "source": [
    "# Graphical representation of the previous results with a bar chart\n",
    "# ------------------------------------------------------------------\n",
    "\n",
    "# We create the data to represent in the bar chart\n",
    "data1 = [len(packages_librariesio_names), len(packages_scraping_names)]\n",
    "data2 = [len(packages_librariesio_not_in_scraping), len(packages_scraping_not_in_librariesio)]\n",
    "labels = [\"libraries.io\", \"scraping\"]\n",
    "plt.figure(figsize=(8, 4))\n",
    "bar_width = 0.35\n",
    "opacity = 0.8\n",
    "\n",
    "# We create the bars\n",
    "index = np.arange(len(labels))\n",
    "rects1 = plt.bar(index, data1, bar_width, alpha=opacity, color='b', label='Packages of this dataset')\n",
    "rects2 = plt.bar(index+bar_width, data2, bar_width, alpha=opacity, color='g', label='Packages only in this dataset')\n",
    "\n",
    "plt.xlabel('Datasets')\n",
    "plt.ylabel('Number of packages')\n",
    "plt.title('Packages')\n",
    "plt.xticks(index + bar_width, labels)\n",
    "plt.legend()\n",
    "\n",
    "plt.tight_layout()\n",
    "plt.show()"
   ]
  },
  {
   "attachments": {},
   "cell_type": "markdown",
   "metadata": {},
   "source": [
    "#### Scrape packages"
   ]
  },
  {
   "attachments": {},
   "cell_type": "markdown",
   "metadata": {},
   "source": [
    "The webscraping process is very expensive due to the multiple requests that are going to be made on the server, and the long time that this task requires.\n",
    "\n",
    "\n",
    "This section has been implemented in such a way that even if the execution of the cell is interrupted, the next time it is executed it will resume the process from the last successfully processed packet"
   ]
  },
  {
   "cell_type": "code",
   "execution_count": 5,
   "metadata": {},
   "outputs": [
    {
     "name": "stdout",
     "output_type": "stream",
     "text": [
      "olivia_mysql\n",
      "CONTAINER ID   IMAGE            COMMAND                  CREATED       STATUS                    PORTS                                                  NAMES\n",
      "1da3f7b9a9f5   mysql:latest     \"docker-entrypoint.s…\"   5 hours ago   Up Less than a second     0.0.0.0:3306->3306/tcp, :::3306->3306/tcp, 33060/tcp   olivia_mysql\n",
      "6cdd9865d743   mariadb:latest   \"docker-entrypoint.s…\"   4 days ago    Exited (0) 23 hours ago                                                          docker_mariadbsso_1\n"
     ]
    }
   ],
   "source": [
    "!docker start olivia_mysql\n",
    "!docker ps -a"
   ]
  },
  {
   "attachments": {},
   "cell_type": "markdown",
   "metadata": {},
   "source": [
    "Create a session to interact with the database"
   ]
  },
  {
   "cell_type": "code",
   "execution_count": 4,
   "metadata": {},
   "outputs": [],
   "source": [
    "db_connector =  \"mysql+mysqlconnector\"\n",
    "db_user      =  \"root\"\n",
    "db_passwd    =  \"olivia\"\n",
    "db_host      =  '172.17.0.2'\n",
    "db_name      =  \"r_network\"\n",
    "\n",
    "# We create the engine\n",
    "engine = create_engine(db_connector + \"://\" + db_user + \":\" + db_passwd + \"@\" + db_host + \"/\" + db_name)\n",
    "\n",
    "# We create the session\n",
    "session = sessionmaker(bind=engine)()"
   ]
  },
  {
   "attachments": {},
   "cell_type": "markdown",
   "metadata": {},
   "source": [
    "We reset the database if necessary"
   ]
  },
  {
   "cell_type": "code",
   "execution_count": 3,
   "metadata": {},
   "outputs": [],
   "source": [
    "Base.metadata.drop_all(engine)\n",
    "Base.metadata.create_all(engine)"
   ]
  },
  {
   "attachments": {},
   "cell_type": "markdown",
   "metadata": {},
   "source": [
    "Get the last package that was inserted into the database"
   ]
  },
  {
   "cell_type": "code",
   "execution_count": 4,
   "metadata": {},
   "outputs": [
    {
     "name": "stdout",
     "output_type": "stream",
     "text": [
      "Last inserted package:  None\n",
      "Number of packages in the database:  0\n"
     ]
    }
   ],
   "source": [
    "last_package = session.query(Package_MySQL).order_by(Package_MySQL.id.desc()).first()\n",
    "number_of_packages = session.query(Package_MySQL).count()\n",
    "\n",
    "print(\"Last inserted package: \", last_package)\n",
    "print(\"Number of packages in the database: \", number_of_packages)"
   ]
  },
  {
   "attachments": {},
   "cell_type": "markdown",
   "metadata": {},
   "source": [
    "We get the package list from the pkl file"
   ]
  },
  {
   "cell_type": "code",
   "execution_count": 5,
   "metadata": {},
   "outputs": [
    {
     "name": "stdout",
     "output_type": "stream",
     "text": [
      "Latest file:  packages_20230221121430.pkl\n"
     ]
    }
   ],
   "source": [
    "# Get the latest file pkl packages file stored in the data folder using the file creation date\n",
    "pkl_package_list = max([f for f in os.listdir(\"data\") if f.endswith(\".pkl\")], key=lambda x: os.path.getctime(os.path.join(\"data\", x)))\n",
    "print(\"Latest file: \", pkl_package_list)"
   ]
  },
  {
   "attachments": {},
   "cell_type": "markdown",
   "metadata": {},
   "source": [
    "**Start of scraping process**\n",
    "\n",
    "First we eliminate all the packages that we have already inserted into the database (fruit of an previous execution) from the package list (fruit of an previous execution)"
   ]
  },
  {
   "cell_type": "code",
   "execution_count": null,
   "metadata": {},
   "outputs": [],
   "source": [
    "# We load the list of packages obtained by scraping\n",
    "with open(\"data\" + os.sep + pkl_package_list, \"rb\") as f:\n",
    "    packages = pickle.load(f)\n",
    "    \n",
    "if last_package is not None:\n",
    "\n",
    "    # Get the index in the list of the last package inserted in db\n",
    "    # ---------------------------------------------------------------\n",
    "    last_package_index = packages.index(last_package)\n",
    "    packages = packages[last_package_index:]\n",
    "\n",
    "packages"
   ]
  },
  {
   "attachments": {},
   "cell_type": "markdown",
   "metadata": {},
   "source": [
    "Once we have the list with the packages we have to obtain, we execute the next code and the scraping process begins."
   ]
  },
  {
   "cell_type": "code",
   "execution_count": null,
   "metadata": {},
   "outputs": [],
   "source": [
    "\n",
    "print(\"Starting to process packages...\")\n",
    "print(\"Number of packages: \", len(packages))\n",
    "\n",
    "scraper = CranScraper(RequestHandler())\n",
    "for package in packages:\n",
    "\n",
    "    print_colored(\"\\nProcessing package: \" + package, Fore.BLUE)\n",
    "\n",
    "    # Get the package from the database, If the package is already in the database, dont do anything\n",
    "    p = Package()\n",
    "    p.name = package\n",
    "    if p.build_from_db(session):\n",
    "\n",
    "        message = \"Package already in database: \" + package\n",
    "        message += \"\\nNumber of packages saved in db: \" + str(number_of_packages) + \"/\" + str(len(packages)) + \" (\" + str(round(number_of_packages / len(packages) * 100, 2)) + \"%)\"\n",
    "        print_colored(message, Fore.YELLOW)\n",
    "        continue\n",
    "\n",
    "    # Process the package\n",
    "    p.in_cran = True\n",
    "    p = scraper.pkg_builder(package)\n",
    "\n",
    "    # Save the package in the database\n",
    "    result = p.save_in_db(session)\n",
    "\n",
    "    # If the package wasn't saved in the database, Print error message string\n",
    "    if not result:\n",
    "        message = \"Error saving package: \" + p.name\n",
    "        message += \"\\nNumber of packages saved in db: \" + str(number_of_packages) + \"/\" + str(len(packages)) + \" (\" + str(round(number_of_packages / len(packages) * 100, 2)) + \"%)\"\n",
    "        print_colored(message, Fore.RED)\n",
    "        print(\"Ending program execution\")\n",
    "        session.close()\n",
    "        exit()\n",
    "\n",
    "    # If the package was saved in the database, Increment the number of packages in the database\n",
    "    else:\n",
    "        number_of_packages += 1\n",
    "        message = \"Package saved: \" + p.name\n",
    "        message += \"\\nNumber of packages saved in db: \" + str(number_of_packages) + \"/\" + str(len(packages)) + \" (\" + str(round(number_of_packages / len(packages) * 100, 2)) + \"%)\"\n",
    "        print_colored(message, Fore.GREEN)"
   ]
  },
  {
   "attachments": {},
   "cell_type": "markdown",
   "metadata": {},
   "source": [
    "Once the process is finished we can obtain any Cran package"
   ]
  },
  {
   "cell_type": "code",
   "execution_count": 10,
   "metadata": {},
   "outputs": [
    {
     "name": "stdout",
     "output_type": "stream",
     "text": [
      "Name: abind\n",
      "Description:\n",
      "Combine multidimensional arrays into a single array.\n",
      "  This is a generalization of 'cbind' and 'rbind'.  Works with\n",
      "  vectors, matrices, and higher-dimensional arrays.  Also\n",
      "  provides functions 'adrop', 'asub', and 'afill' for manipulating,\n",
      "  extracting and replacing data in arrays.\n",
      "Version: 1.4-5\n",
      "Publication date: 2016-07-21\n",
      "Mantainer: Tony Plate  <tplate@acm.org>\n",
      "Authors:\n",
      "Tony Plate and Richard Heiberger\n",
      "Dependencies:\n",
      "  - None\n",
      "Requires compilation: None\n",
      "In CRAN: True\n",
      "In Bioconductor: None\n",
      "Licenses:\n",
      "LGPL-2 | LGPL-2.1 | LGPL-3 [expanded from: LGPL (≥ 2)]\n",
      "Links:\n",
      "https://cran.r-project.org/package=abind\n",
      "\n"
     ]
    }
   ],
   "source": [
    "p = Package(\"abind\")\n",
    "p.build_from_db(session)\n",
    "p.dump()\n",
    "\n",
    "a = 0"
   ]
  },
  {
   "attachments": {},
   "cell_type": "markdown",
   "metadata": {},
   "source": [
    "# <ins>**3 - Libraries.io web API**</ins>"
   ]
  },
  {
   "attachments": {},
   "cell_type": "markdown",
   "metadata": {},
   "source": [
    "Libraries.io offers us an API through which we can obtain the data referred to the beginning of this notebook.\n",
    "\n",
    "Unfortunately, if we have no data of the packages in the repository, we cannot obtain any data, since the API requires specifying the name of the package for which we want to obtain information.\n",
    "\n",
    "We can get more information about the API at:\n",
    "\n",
    "- https://libraries.io/api"
   ]
  },
  {
   "attachments": {},
   "cell_type": "markdown",
   "metadata": {},
   "source": [
    "**Basic example of use of the API:**\n",
    "\n",
    "We get a list of 30 repositories available in *Libraries.io*"
   ]
  },
  {
   "cell_type": "code",
   "execution_count": 6,
   "metadata": {},
   "outputs": [
    {
     "name": "stdout",
     "output_type": "stream",
     "text": [
      "200\n",
      "[{\"name\":\"NPM\",\"project_count\":2881620,\"homepage\":\"https://www.npmjs.com\",\"color\":\"#f1e05a\",\"default_language\":\"JavaScript\"},{\"name\":\"Pypi\",\"project_count\":530242,\"homepage\":\"https://pypi.org/\",\"color\":\"#3572A5\",\"default_language\":\"Python\"},{\"name\":\"Maven\",\"project_count\":525139,\"homepage\":\"http://maven.org\",\"color\":\"#b07219\",\"default_language\":\"Java\"},{\"name\":\"Go\",\"project_count\":439657,\"homepage\":\"https://pkg.go.dev\",\"color\":\"#375eab\",\"default_language\":null},{\"name\":\"NuGet\",\"project_count\":419186,\"homepage\":\"https://www.nuget.org\",\"color\":\"#178600\",\"default_language\":\"C#\"},{\"name\":\"Packagist\",\"project_count\":373559,\"homepage\":\"https://packagist.org\",\"color\":\"#4F5D95\",\"default_language\":\"PHP\"},{\"name\":\"Rubygems\",\"project_count\":182768,\"homepage\":\"https://rubygems.org\",\"color\":\"#701516\",\"default_language\":\"Ruby\"},{\"name\":\"Cargo\",\"project_count\":106971,\"homepage\":\"https://crates.io\",\"color\":\"#dea584\",\"default_language\":\"Rust\"},{\"name\":\"CocoaPods\",\"project_count\":92178,\"homepage\":\"http://cocoapods.org/\",\"color\":\"#438eff\",\"default_language\":\"Objective-C\"},{\"name\":\"Bower\",\"project_count\":69218,\"homepage\":\"http://bower.io\",\"color\":\"#563d7c\",\"default_language\":\"CSS\"},{\"name\":\"CPAN\",\"project_count\":39880,\"homepage\":\"https://metacpan.org\",\"color\":\"#0298c3\",\"default_language\":\"Perl\"},{\"name\":\"Pub\",\"project_count\":39455,\"homepage\":\"https://pub.dartlang.org\",\"color\":\"#00B4AB\",\"default_language\":\"Dart\"},{\"name\":\"Clojars\",\"project_count\":24268,\"homepage\":\"https://clojars.org\",\"color\":\"#db5855\",\"default_language\":\"Clojure\"},{\"name\":\"CRAN\",\"project_count\":23758,\"homepage\":\"https://cran.r-project.org/\",\"color\":\"#198CE7\",\"default_language\":\"R\"},{\"name\":\"Conda\",\"project_count\":18701,\"homepage\":\"https://anaconda.org\",\"color\":\"#fff\",\"default_language\":null},{\"name\":\"Hackage\",\"project_count\":16985,\"homepage\":\"http://hackage.haskell.org\",\"color\":\"#29b544\",\"default_language\":null},{\"name\":\"Hex\",\"project_count\":14151,\"homepage\":\"https://hex.pm\",\"color\":\"#6e4a7e\",\"default_language\":\"Elixir\"},{\"name\":\"Meteor\",\"project_count\":13338,\"homepage\":\"https://atmospherejs.com\",\"color\":\"#f1e05a\",\"default_language\":\"JavaScript\"},{\"name\":\"Homebrew\",\"project_count\":7523,\"homepage\":\"http://brew.sh/\",\"color\":\"#555555\",\"default_language\":\"C\"},{\"name\":\"Puppet\",\"project_count\":6920,\"homepage\":\"https://forge.puppet.com\",\"color\":\"#302B6D\",\"default_language\":\"Puppet\"},{\"name\":\"Carthage\",\"project_count\":4617,\"homepage\":\"https://github.com/Carthage/Carthage\",\"color\":\"#ffac45\",\"default_language\":\"Swift\"},{\"name\":\"SwiftPM\",\"project_count\":4201,\"homepage\":\"https://developer.apple.com/swift/\",\"color\":\"#ffac45\",\"default_language\":\"Swift\"},{\"name\":\"Julia\",\"project_count\":3041,\"homepage\":\"http://pkg.julialang.org/\",\"color\":\"#a270ba\",\"default_language\":\"Julia\"},{\"name\":\"Elm\",\"project_count\":2773,\"homepage\":\"http://package.elm-lang.org/\",\"color\":\"#60B5CC\",\"default_language\":\"Elm\"},{\"name\":\"Dub\",\"project_count\":2561,\"homepage\":\"http://code.dlang.org\",\"color\":\"#ba595e\",\"default_language\":\"D\"},{\"name\":\"Racket\",\"project_count\":2413,\"homepage\":\"http://pkgs.racket-lang.org/\",\"color\":\"#375eab\",\"default_language\":null},{\"name\":\"Nimble\",\"project_count\":2132,\"homepage\":\"https://github.com/nim-lang/nimble\",\"color\":\"#37775b\",\"default_language\":\"Nim\"},{\"name\":\"Haxelib\",\"project_count\":1694,\"homepage\":\"https://lib.haxe.org\",\"color\":\"#df7900\",\"default_language\":\"Haxe\"},{\"name\":\"PureScript\",\"project_count\":685,\"homepage\":\"https://github.com/purescript/psc-package\",\"color\":\"#1D222D\",\"default_language\":\"PureScript\"},{\"name\":\"Alcatraz\",\"project_count\":462,\"homepage\":\"http://alcatraz.io\",\"color\":\"#438eff\",\"default_language\":\"Objective-C\"},{\"name\":\"Inqlude\",\"project_count\":225,\"homepage\":\"https://inqlude.org/\",\"color\":\"#f34b7d\",\"default_language\":\"C++\"}]\n"
     ]
    }
   ],
   "source": [
    "api_key = \"dcc8a237b15dac0e6334df54bd9573fb\"\n",
    "\n",
    "# make a request to the API\n",
    "response = requests.get(\"https://libraries.io/api/platforms?api_key=\" + api_key)\n",
    "print(response.status_code)\n",
    "print(response.text)"
   ]
  },
  {
   "attachments": {},
   "cell_type": "markdown",
   "metadata": {},
   "source": [
    "There is a Python wrapper for the API.\n",
    "\n",
    "- https://pypi.org/project/pybraries/\n",
    "- https://pybraries.readthedocs.io/en/latest/stubs/pybraries.search.Search.html"
   ]
  },
  {
   "cell_type": "code",
   "execution_count": 14,
   "metadata": {},
   "outputs": [
    {
     "name": "stdout",
     "output_type": "stream",
     "text": [
      "Repositories: \n",
      "NPM; Pypi; Maven; Go; NuGet; Packagist; Rubygems; Cargo; CocoaPods; Bower; CPAN; Pub; Clojars; CRAN; Conda; Hackage; Hex; Meteor; Homebrew; Puppet; Carthage; SwiftPM; Julia; Elm; Dub; Racket; Nimble; Haxelib; PureScript; Alcatraz; Inqlude; \n",
      "\n",
      "CRAN's A3 package data at libraries.io:\n",
      "dependent_repos_count: 0\n",
      "dependents_count: 0\n",
      "deprecation_reason: None\n",
      "description: Accurate, Adaptable, and Accessible Error Metrics for Predictive\n",
      "Models\n",
      "forks: 0\n",
      "homepage: None\n",
      "keywords: []\n",
      "language: None\n",
      "latest_download_url: https://cran.r-project.org/src/contrib/A3_1.0.0.tar.gz\n",
      "latest_release_number: 1.0.0\n",
      "latest_release_published_at: 2015-08-16T00:00:00.000Z\n",
      "latest_stable_release_number: 1.0.0\n",
      "latest_stable_release_published_at: 2015-08-16T00:00:00.000Z\n",
      "license_normalized: False\n",
      "licenses: GPL-2 | GPL-3 [expanded from: GPL (≥ 2)]\n",
      "name: A3\n",
      "normalized_licenses: ['CNRI-Python-GPL-Compatible', 'CNRI-Python-GPL-Compatible']\n",
      "package_manager_url: https://cran.r-project.org/package=A3\n",
      "platform: CRAN\n",
      "rank: 5\n",
      "repository_license: None\n",
      "repository_url: None\n",
      "stars: 0\n",
      "status: None\n",
      "versions: [{'number': '0.9.1', 'published_at': '2013-02-07T10:00:00.000Z', 'spdx_expression': None, 'original_license': None, 'researched_at': None, 'repository_sources': ['CRAN']}, {'number': '0.9.2', 'published_at': '2013-03-26T00:00:00.000Z', 'spdx_expression': None, 'original_license': None, 'researched_at': None, 'repository_sources': ['CRAN']}, {'number': '1.0.0', 'published_at': '2015-08-16T00:00:00.000Z', 'spdx_expression': None, 'original_license': None, 'researched_at': None, 'repository_sources': ['CRAN']}]\n"
     ]
    }
   ],
   "source": [
    "search = Search()\n",
    "\n",
    "\n",
    "repo_list = search.platforms() \n",
    "print(\"Repositories: \")\n",
    "for repo in repo_list:\n",
    "    print(repo['name'] + \"; \", end='')\n",
    "\n",
    "print(\"\\n\\nCRAN's A3 package data at libraries.io:\")\n",
    "A3_api = search.project(\"CRAN\", \"A3\")\n",
    "for key, value in A3_api.items():\n",
    "    print(key + \": \" + str(value))\n"
   ]
  }
 ],
 "metadata": {
  "kernelspec": {
   "display_name": "Python 3",
   "language": "python",
   "name": "python3"
  },
  "language_info": {
   "codemirror_mode": {
    "name": "ipython",
    "version": 3
   },
   "file_extension": ".py",
   "mimetype": "text/x-python",
   "name": "python",
   "nbconvert_exporter": "python",
   "pygments_lexer": "ipython3",
   "version": "3.10.6"
  },
  "orig_nbformat": 4,
  "vscode": {
   "interpreter": {
    "hash": "916dbcbb3f70747c44a77c7bcd40155683ae19c65e1c03b4aa3499c5328201f1"
   }
  }
 },
 "nbformat": 4,
 "nbformat_minor": 2
}
