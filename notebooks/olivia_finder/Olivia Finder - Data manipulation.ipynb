{
 "cells": [
  {
   "attachments": {},
   "cell_type": "markdown",
   "metadata": {},
   "source": [
    "<h1 style=\"font-size: 80px; color: blue\"> \n",
    "Olivia Finder - Data manipulation\n",
    "</h1>\n"
   ]
  },
  {
   "attachments": {},
   "cell_type": "markdown",
   "metadata": {},
   "source": [
    "# <span style=\"color: red\">**0 - Previous requirements**</span>"
   ]
  },
  {
   "attachments": {},
   "cell_type": "markdown",
   "metadata": {},
   "source": [
    "## Setup venv and install requirements"
   ]
  },
  {
   "cell_type": "code",
   "execution_count": null,
   "metadata": {},
   "outputs": [],
   "source": [
    "%pip install -r requirements.txt"
   ]
  },
  {
   "attachments": {},
   "cell_type": "markdown",
   "metadata": {},
   "source": [
    "If you use a virtual environment, it is necessary to configure it as selected in the Jupyter kernel\n"
   ]
  },
  {
   "attachments": {},
   "cell_type": "markdown",
   "metadata": {},
   "source": [
    "## Setup library path"
   ]
  },
  {
   "attachments": {},
   "cell_type": "markdown",
   "metadata": {},
   "source": [
    "Make sure to run this cell to have the **olivia-finder** library at PATH"
   ]
  },
  {
   "cell_type": "code",
   "execution_count": 2,
   "metadata": {},
   "outputs": [],
   "source": [
    "# Append the path to the olivia_finder package\n",
    "import sys\n",
    "sys.path.append('../../olivia_finder/')"
   ]
  },
  {
   "attachments": {},
   "cell_type": "markdown",
   "metadata": {},
   "source": [
    "## Setup configuration"
   ]
  },
  {
   "attachments": {},
   "cell_type": "markdown",
   "metadata": {},
   "source": [
    "It is necessary to initialize the configuration, the most comfortable and global way to do so is through an environment variable"
   ]
  },
  {
   "cell_type": "code",
   "execution_count": 3,
   "metadata": {},
   "outputs": [],
   "source": [
    "# Add the environment variable OLIVIA_FINDER_CONFIG_FILE_PATH\n",
    "\n",
    "import os\n",
    "os.environ['OLIVIA_FINDER_CONFIG_FILE_PATH'] = \"../../olivia_finder/config.ini\""
   ]
  },
  {
   "attachments": {},
   "cell_type": "markdown",
   "metadata": {},
   "source": [
    "# **Package manager object**"
   ]
  },
  {
   "cell_type": "code",
   "execution_count": 4,
   "metadata": {},
   "outputs": [],
   "source": [
    "from olivia_finder.package_manager import PackageManager\n",
    "from olivia_finder.data_source.csv_ds import CSVDataSource\n",
    "from olivia_finder.data_source.librariesio_ds import LibrariesioDataSource\n",
    "from olivia_finder.data_source.repository_scrapers.github import GithubScraper\n",
    "from olivia_finder.data_source.repository_scrapers.bioconductor import BioconductorScraper\n",
    "from olivia_finder.data_source.repository_scrapers.cran import CranScraper\n",
    "from olivia_finder.data_source.repository_scrapers.pypi import PypiScraper\n",
    "from olivia_finder.data_source.repository_scrapers.npm import NpmScraper"
   ]
  },
  {
   "attachments": {},
   "cell_type": "markdown",
   "metadata": {},
   "source": [
    "## 1 - Scraping based"
   ]
  },
  {
   "cell_type": "code",
   "execution_count": 5,
   "metadata": {},
   "outputs": [],
   "source": [
    "bioconductor_pm_scraper = PackageManager(\n",
    "    data_sources=[BioconductorScraper()]\n",
    ")"
   ]
  },
  {
   "attachments": {},
   "cell_type": "markdown",
   "metadata": {},
   "source": [
    "Obtain a list with the packages available directly from the Scraping Data Source"
   ]
  },
  {
   "cell_type": "code",
   "execution_count": 6,
   "metadata": {},
   "outputs": [
    {
     "data": {
      "text/plain": [
       "['Dino',\n",
       " 'Director',\n",
       " 'DirichletMultinomial',\n",
       " 'DiscoRhythm',\n",
       " 'DominoEffect',\n",
       " 'Doscheda',\n",
       " 'DriverNet',\n",
       " 'DropletUtils',\n",
       " 'DrugVsDisease',\n",
       " 'Dune',\n",
       " 'DynDoc',\n",
       " 'EBImage',\n",
       " 'EBSEA',\n",
       " 'EBSeq',\n",
       " 'EBSeqHMM',\n",
       " 'EBarrays',\n",
       " 'EBcoexpress',\n",
       " 'EDASeq',\n",
       " 'EDIRquery',\n",
       " 'EGAD']"
      ]
     },
     "execution_count": 6,
     "metadata": {},
     "output_type": "execute_result"
    }
   ],
   "source": [
    "bioconductor_pm_scraper.fetch_package_names()[300:320]"
   ]
  },
  {
   "attachments": {},
   "cell_type": "markdown",
   "metadata": {},
   "source": [
    "Perform the scraping process, loading the packages data in the PackageManager structure"
   ]
  },
  {
   "cell_type": "code",
   "execution_count": 7,
   "metadata": {},
   "outputs": [
    {
     "name": "stderr",
     "output_type": "stream",
     "text": [
      "Loading packages: 100%|\u001b[32m██████████\u001b[0m| 2230/2230 [03:55<00:00,  9.47packages/s]"
     ]
    },
    {
     "name": "stdout",
     "output_type": "stream",
     "text": [
      "Initial length: 0\n",
      "Final length: 2230\n"
     ]
    },
    {
     "name": "stderr",
     "output_type": "stream",
     "text": [
      "\n"
     ]
    }
   ],
   "source": [
    "# Inial len of packages list in bioconductor_pm_scraper\n",
    "initial_len = len(bioconductor_pm_scraper.get_packages())\n",
    "\n",
    "# Initialize the package manager\n",
    "bioconductor_pm_scraper.initialize(show_progress=True)\n",
    "\n",
    "# Final len of packages list in bioconductor_pm_scraper\n",
    "final_len = len(bioconductor_pm_scraper.get_packages())\n",
    "\n",
    "print(f\"Initial length: {initial_len}\")\n",
    "print(f\"Final length: {final_len}\")\n"
   ]
  },
  {
   "attachments": {},
   "cell_type": "markdown",
   "metadata": {},
   "source": [
    "Export the package data to dict"
   ]
  },
  {
   "cell_type": "code",
   "execution_count": 8,
   "metadata": {},
   "outputs": [
    {
     "data": {
      "text/plain": [
       "{'name': 'a4',\n",
       " 'version': '1.48.0',\n",
       " 'url': 'https://www.bioconductor.org/packages/release/bioc/html/a4.html',\n",
       " 'dependencies': [{'name': 'a4Base',\n",
       "   'version': '',\n",
       "   'url': None,\n",
       "   'dependencies': []},\n",
       "  {'name': 'a4Preproc', 'version': '', 'url': None, 'dependencies': []},\n",
       "  {'name': 'a4Classif', 'version': '', 'url': None, 'dependencies': []},\n",
       "  {'name': 'a4Core', 'version': '', 'url': None, 'dependencies': []},\n",
       "  {'name': 'a4Reporting', 'version': '', 'url': None, 'dependencies': []}]}"
      ]
     },
     "execution_count": 8,
     "metadata": {},
     "output_type": "execute_result"
    }
   ],
   "source": [
    "bioconductor_pm_scraper.get_package(\"a4\").to_dict()"
   ]
  },
  {
   "attachments": {},
   "cell_type": "markdown",
   "metadata": {},
   "source": [
    "## 2 - CSV file based"
   ]
  },
  {
   "cell_type": "code",
   "execution_count": 9,
   "metadata": {},
   "outputs": [],
   "source": [
    "cran_pm_csv = PackageManager(\n",
    "    data_sources=[                  # List of data sources\n",
    "        CSVDataSource(\n",
    "            \"aux_data/cran_adjlist_test.csv\",\n",
    "            dependent_field=\"Project Name\",\n",
    "            dependency_field=\"Dependency Name\",\n",
    "            dependent_version_field=\"Version Number\",\n",
    "        )\n",
    "    ]\n",
    ")"
   ]
  },
  {
   "cell_type": "code",
   "execution_count": 10,
   "metadata": {},
   "outputs": [
    {
     "name": "stderr",
     "output_type": "stream",
     "text": [
      "Loading packages:   0%|\u001b[32m          \u001b[0m| 0/275 [00:00<?, ?packages/s]"
     ]
    },
    {
     "name": "stderr",
     "output_type": "stream",
     "text": [
      "Loading packages: 100%|\u001b[32m██████████\u001b[0m| 275/275 [00:00<00:00, 418.67packages/s]\n"
     ]
    }
   ],
   "source": [
    "cran_pm_csv.initialize(show_progress=True)"
   ]
  },
  {
   "cell_type": "code",
   "execution_count": 13,
   "metadata": {},
   "outputs": [
    {
     "data": {
      "text/plain": [
       "{'name': 'nmfem',\n",
       " 'version': '1.0.4',\n",
       " 'url': None,\n",
       " 'dependencies': [{'name': 'rmarkdown',\n",
       "   'version': None,\n",
       "   'url': None,\n",
       "   'dependencies': []},\n",
       "  {'name': 'testthat', 'version': None, 'url': None, 'dependencies': []},\n",
       "  {'name': 'knitr', 'version': None, 'url': None, 'dependencies': []},\n",
       "  {'name': 'tidyr', 'version': None, 'url': None, 'dependencies': []},\n",
       "  {'name': 'mixtools', 'version': None, 'url': None, 'dependencies': []},\n",
       "  {'name': 'd3heatmap', 'version': None, 'url': None, 'dependencies': []},\n",
       "  {'name': 'dplyr', 'version': None, 'url': None, 'dependencies': []},\n",
       "  {'name': 'plyr', 'version': None, 'url': None, 'dependencies': []},\n",
       "  {'name': 'R', 'version': None, 'url': None, 'dependencies': []}]}"
      ]
     },
     "execution_count": 13,
     "metadata": {},
     "output_type": "execute_result"
    }
   ],
   "source": [
    "cran_pm_csv.get_package(\"nmfem\").to_dict()"
   ]
  },
  {
   "attachments": {},
   "cell_type": "markdown",
   "metadata": {},
   "source": [
    "## 3 - Libraries.io API based"
   ]
  },
  {
   "cell_type": "code",
   "execution_count": 14,
   "metadata": {},
   "outputs": [],
   "source": [
    "maven_pm_libio = PackageManager(\n",
    "    data_sources=[                \n",
    "        LibrariesioDataSource(platform=\"maven\")\n",
    "    ]\n",
    ")"
   ]
  },
  {
   "cell_type": "code",
   "execution_count": 15,
   "metadata": {},
   "outputs": [
    {
     "data": {
      "text/plain": [
       "{'name': 'org.apache.commons:commons-lang3',\n",
       " 'version': '3.9',\n",
       " 'url': 'https://repo1.maven.org/maven2/org/apache/commons/commons-lang3',\n",
       " 'dependencies': [{'name': 'org.openjdk.jmh:jmh-generator-annprocess',\n",
       "   'version': '1.25.2',\n",
       "   'url': None,\n",
       "   'dependencies': []},\n",
       "  {'name': 'org.openjdk.jmh:jmh-core',\n",
       "   'version': '1.25.2',\n",
       "   'url': None,\n",
       "   'dependencies': []},\n",
       "  {'name': 'org.easymock:easymock',\n",
       "   'version': '5.1.0',\n",
       "   'url': None,\n",
       "   'dependencies': []},\n",
       "  {'name': 'org.hamcrest:hamcrest',\n",
       "   'version': None,\n",
       "   'url': None,\n",
       "   'dependencies': []},\n",
       "  {'name': 'org.junit-pioneer:junit-pioneer',\n",
       "   'version': '2.0.1',\n",
       "   'url': None,\n",
       "   'dependencies': []},\n",
       "  {'name': 'org.junit.jupiter:junit-jupiter',\n",
       "   'version': '5.9.3',\n",
       "   'url': None,\n",
       "   'dependencies': []}]}"
      ]
     },
     "execution_count": 15,
     "metadata": {},
     "output_type": "execute_result"
    }
   ],
   "source": [
    "maven_pm_libio.fetch_package(\"org.apache.commons:commons-lang3\").to_dict()"
   ]
  },
  {
   "attachments": {},
   "cell_type": "markdown",
   "metadata": {},
   "source": [
    "## 4 - Github network based"
   ]
  },
  {
   "cell_type": "code",
   "execution_count": 16,
   "metadata": {},
   "outputs": [
    {
     "data": {
      "text/plain": [
       "{'name': 'dab0012/olivia-finder',\n",
       " 'version': '',\n",
       " 'url': 'https://github.com/dab0012/olivia-finder',\n",
       " 'dependencies': [{'name': 'inveniosoftware-contrib/intbitset',\n",
       "   'version': '2.4.0',\n",
       "   'url': None,\n",
       "   'dependencies': []},\n",
       "  {'name': 'matplotlib/matplotlib',\n",
       "   'version': '',\n",
       "   'url': None,\n",
       "   'dependencies': []},\n",
       "  {'name': 'networkx/networkx',\n",
       "   'version': '',\n",
       "   'url': None,\n",
       "   'dependencies': []},\n",
       "  {'name': 'numpy/numpy',\n",
       "   'version': '1.18.5',\n",
       "   'url': None,\n",
       "   'dependencies': []},\n",
       "  {'name': 'pandas-dev/pandas',\n",
       "   'version': '',\n",
       "   'url': None,\n",
       "   'dependencies': []},\n",
       "  {'name': 'getanewsletter/BeautifulSoup4',\n",
       "   'version': '',\n",
       "   'url': None,\n",
       "   'dependencies': []},\n",
       "  {'name': 'pybraries/pybraries',\n",
       "   'version': '',\n",
       "   'url': None,\n",
       "   'dependencies': []},\n",
       "  {'name': 'psf/requests', 'version': '', 'url': None, 'dependencies': []},\n",
       "  {'name': 'scipy/scipy', 'version': '', 'url': None, 'dependencies': []},\n",
       "  {'name': 'SeleniumHQ/selenium',\n",
       "   'version': '',\n",
       "   'url': None,\n",
       "   'dependencies': []},\n",
       "  {'name': 'tqdm/tqdm', 'version': '', 'url': None, 'dependencies': []},\n",
       "  {'name': 'python/typing', 'version': '', 'url': None, 'dependencies': []}]}"
      ]
     },
     "execution_count": 16,
     "metadata": {},
     "output_type": "execute_result"
    }
   ],
   "source": [
    "github_pm = PackageManager(\n",
    "    data_sources=[                  # List of data sources\n",
    "        GithubScraper()\n",
    "    ]\n",
    ")\n",
    "\n",
    "github_pm.fetch_package(\"dab0012/olivia-finder\").to_dict()"
   ]
  },
  {
   "attachments": {},
   "cell_type": "markdown",
   "metadata": {},
   "source": [
    "## 5 - Multiple datasource based"
   ]
  },
  {
   "cell_type": "code",
   "execution_count": 17,
   "metadata": {},
   "outputs": [],
   "source": [
    "bioconductor_pm_multiple = PackageManager(\n",
    "    data_sources=[                  # List of data sources\n",
    "        BioconductorScraper(),\n",
    "        CSVDataSource(\n",
    "            file_path=\"aux_data/cran_adjlist_test.csv\",\n",
    "            dependent_field=\"Project Name\",\n",
    "            dependency_field=\"Dependency Name\",\n",
    "            dependent_version_field=\"Version Number\",\n",
    "        ),\n",
    "        CranScraper(),\n",
    "        LibrariesioDataSource(\n",
    "            platform=\"cran\",\n",
    "        )\n",
    "    ]\n",
    ")"
   ]
  },
  {
   "cell_type": "code",
   "execution_count": 18,
   "metadata": {},
   "outputs": [
    {
     "data": {
      "text/plain": [
       "{'name': 'a4',\n",
       " 'version': '1.48.0',\n",
       " 'url': 'https://www.bioconductor.org/packages/release/bioc/html/a4.html',\n",
       " 'dependencies': [{'name': 'a4Base',\n",
       "   'version': '',\n",
       "   'url': None,\n",
       "   'dependencies': []},\n",
       "  {'name': 'a4Preproc', 'version': '', 'url': None, 'dependencies': []},\n",
       "  {'name': 'a4Classif', 'version': '', 'url': None, 'dependencies': []},\n",
       "  {'name': 'a4Core', 'version': '', 'url': None, 'dependencies': []},\n",
       "  {'name': 'a4Reporting', 'version': '', 'url': None, 'dependencies': []}]}"
      ]
     },
     "execution_count": 18,
     "metadata": {},
     "output_type": "execute_result"
    }
   ],
   "source": [
    "bioconductor_pm_multiple.fetch_package(\"a4\").to_dict()"
   ]
  },
  {
   "attachments": {},
   "cell_type": "markdown",
   "metadata": {},
   "source": [
    "Obtain the transitive dependencies of the package *a4*"
   ]
  },
  {
   "cell_type": "code",
   "execution_count": 22,
   "metadata": {},
   "outputs": [
    {
     "data": {
      "text/plain": [
       "NodeView(('a4Base', 'a4', 'a4Preproc', 'a4Classif', 'a4Core', 'a4Reporting', 'methods', 'graphics', 'grid', 'Biobase', 'annaffy', 'mpm', 'genefilter', 'limma', 'multtest', 'glmnet', 'gplots', 'BiocGenerics', 'stats', 'R', 'utils', 'BiocManager', 'GO.db', 'AnnotationDbi', 'DBI', 'MatrixGenerics', 'annotate', 'survival', 'grDevices', 'MASS', 'stats4', 'ROCR', 'pamr', 'varSelRF', 'xtable'))"
      ]
     },
     "execution_count": 22,
     "metadata": {},
     "output_type": "execute_result"
    }
   ],
   "source": [
    "\n",
    "a4_G = bioconductor_pm_multiple.get_transitive_network_graph(\"a4\", deep_level=3, generate=True)\n",
    "a4_G.nodes()"
   ]
  }
 ],
 "metadata": {
  "kernelspec": {
   "display_name": ".venv_3816",
   "language": "python",
   "name": "python3"
  },
  "language_info": {
   "codemirror_mode": {
    "name": "ipython",
    "version": 3
   },
   "file_extension": ".py",
   "mimetype": "text/x-python",
   "name": "python",
   "nbconvert_exporter": "python",
   "pygments_lexer": "ipython3",
   "version": "3.8.16"
  },
  "orig_nbformat": 4
 },
 "nbformat": 4,
 "nbformat_minor": 2
}
