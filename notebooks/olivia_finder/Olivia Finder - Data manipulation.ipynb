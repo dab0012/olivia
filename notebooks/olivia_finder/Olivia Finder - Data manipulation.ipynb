{
 "cells": [
  {
   "attachments": {},
   "cell_type": "markdown",
   "metadata": {},
   "source": [
    "<h1 style=\"font-size: 80px; color: blue\"> \n",
    "Olivia Finder - Data manipulation\n",
    "</h1>\n"
   ]
  },
  {
   "attachments": {},
   "cell_type": "markdown",
   "metadata": {},
   "source": [
    "# <span style=\"color: red\">**0 - Previous requirements**</span>"
   ]
  },
  {
   "attachments": {},
   "cell_type": "markdown",
   "metadata": {},
   "source": [
    "## Setup venv and install requirements"
   ]
  },
  {
   "cell_type": "code",
   "execution_count": 1,
   "metadata": {},
   "outputs": [
    {
     "name": "stdout",
     "output_type": "stream",
     "text": [
      "Collecting pandas\n",
      "  Downloading pandas-2.0.1-cp38-cp38-manylinux_2_17_x86_64.manylinux2014_x86_64.whl (12.3 MB)\n",
      "\u001b[2K     \u001b[90m━━━━━━━━━━━━━━━━━━━━━━━━━━━━━━━━━━━━━━━━\u001b[0m \u001b[32m12.3/12.3 MB\u001b[0m \u001b[31m41.2 MB/s\u001b[0m eta \u001b[36m0:00:00\u001b[0m00:01\u001b[0m00:01\u001b[0m\n",
      "\u001b[?25hCollecting tqdm\n",
      "  Using cached tqdm-4.65.0-py3-none-any.whl (77 kB)\n",
      "Collecting requests\n",
      "  Downloading requests-2.31.0-py3-none-any.whl (62 kB)\n",
      "\u001b[2K     \u001b[90m━━━━━━━━━━━━━━━━━━━━━━━━━━━━━━━━━━━━━━━━\u001b[0m \u001b[32m62.6/62.6 KB\u001b[0m \u001b[31m15.6 MB/s\u001b[0m eta \u001b[36m0:00:00\u001b[0m\n",
      "\u001b[?25hCollecting BeautifulSoup4\n",
      "  Using cached beautifulsoup4-4.12.2-py3-none-any.whl (142 kB)\n",
      "Collecting selenium\n",
      "  Using cached selenium-4.9.1-py3-none-any.whl (6.6 MB)\n",
      "Collecting networkx\n",
      "  Using cached networkx-3.1-py3-none-any.whl (2.1 MB)\n",
      "Collecting matplotlib\n",
      "  Downloading matplotlib-3.7.1-cp38-cp38-manylinux_2_12_x86_64.manylinux2010_x86_64.whl (9.2 MB)\n",
      "\u001b[2K     \u001b[90m━━━━━━━━━━━━━━━━━━━━━━━━━━━━━━━━━━━━━━━━\u001b[0m \u001b[32m9.2/9.2 MB\u001b[0m \u001b[31m46.3 MB/s\u001b[0m eta \u001b[36m0:00:00\u001b[0m00:01\u001b[0m00:01\u001b[0m\n",
      "\u001b[?25hCollecting pybraries\n",
      "  Using cached pybraries-0.4.0-py3-none-any.whl (10 kB)\n",
      "Requirement already satisfied: typing_extensions in /home/daniel.alonso/.pyenv/versions/3.8.16/lib/python3.8/site-packages (from -r requirements.txt (line 9)) (4.6.2)\n",
      "Collecting pytz>=2020.1\n",
      "  Using cached pytz-2023.3-py2.py3-none-any.whl (502 kB)\n",
      "Requirement already satisfied: python-dateutil>=2.8.2 in /home/daniel.alonso/.pyenv/versions/3.8.16/lib/python3.8/site-packages (from pandas->-r requirements.txt (line 1)) (2.8.2)\n",
      "Collecting tzdata>=2022.1\n",
      "  Using cached tzdata-2023.3-py2.py3-none-any.whl (341 kB)\n",
      "Collecting numpy>=1.20.3\n",
      "  Downloading numpy-1.24.3-cp38-cp38-manylinux_2_17_x86_64.manylinux2014_x86_64.whl (17.3 MB)\n",
      "\u001b[2K     \u001b[90m━━━━━━━━━━━━━━━━━━━━━━━━━━━━━━━━━━━━━━━━\u001b[0m \u001b[32m17.3/17.3 MB\u001b[0m \u001b[31m22.7 MB/s\u001b[0m eta \u001b[36m0:00:00\u001b[0m00:01\u001b[0m00:01\u001b[0m\n",
      "\u001b[?25hCollecting charset-normalizer<4,>=2\n",
      "  Using cached charset_normalizer-3.1.0-cp38-cp38-manylinux_2_17_x86_64.manylinux2014_x86_64.whl (195 kB)\n",
      "Collecting idna<4,>=2.5\n",
      "  Using cached idna-3.4-py3-none-any.whl (61 kB)\n",
      "Collecting certifi>=2017.4.17\n",
      "  Using cached certifi-2023.5.7-py3-none-any.whl (156 kB)\n",
      "Collecting urllib3<3,>=1.21.1\n",
      "  Using cached urllib3-2.0.2-py3-none-any.whl (123 kB)\n",
      "Collecting soupsieve>1.2\n",
      "  Using cached soupsieve-2.4.1-py3-none-any.whl (36 kB)\n",
      "Collecting trio-websocket~=0.9\n",
      "  Using cached trio_websocket-0.10.2-py3-none-any.whl (17 kB)\n",
      "Collecting trio~=0.17\n",
      "  Using cached trio-0.22.0-py3-none-any.whl (384 kB)\n",
      "Collecting fonttools>=4.22.0\n",
      "  Using cached fonttools-4.39.4-py3-none-any.whl (1.0 MB)\n",
      "Collecting kiwisolver>=1.0.1\n",
      "  Downloading kiwisolver-1.4.4-cp38-cp38-manylinux_2_5_x86_64.manylinux1_x86_64.whl (1.2 MB)\n",
      "\u001b[2K     \u001b[90m━━━━━━━━━━━━━━━━━━━━━━━━━━━━━━━━━━━━━━━━\u001b[0m \u001b[32m1.2/1.2 MB\u001b[0m \u001b[31m43.0 MB/s\u001b[0m eta \u001b[36m0:00:00\u001b[0m\n",
      "\u001b[?25hCollecting cycler>=0.10\n",
      "  Using cached cycler-0.11.0-py3-none-any.whl (6.4 kB)\n",
      "Requirement already satisfied: packaging>=20.0 in /home/daniel.alonso/.pyenv/versions/3.8.16/lib/python3.8/site-packages (from matplotlib->-r requirements.txt (line 7)) (23.1)\n",
      "Collecting pyparsing>=2.3.1\n",
      "  Using cached pyparsing-3.0.9-py3-none-any.whl (98 kB)\n",
      "Collecting importlib-resources>=3.2.0\n",
      "  Using cached importlib_resources-5.12.0-py3-none-any.whl (36 kB)\n",
      "Collecting pillow>=6.2.0\n",
      "  Downloading Pillow-9.5.0-cp38-cp38-manylinux_2_28_x86_64.whl (3.4 MB)\n",
      "\u001b[2K     \u001b[90m━━━━━━━━━━━━━━━━━━━━━━━━━━━━━━━━━━━━━━━━\u001b[0m \u001b[32m3.4/3.4 MB\u001b[0m \u001b[31m34.5 MB/s\u001b[0m eta \u001b[36m0:00:00\u001b[0ma \u001b[36m0:00:01\u001b[0m\n",
      "\u001b[?25hCollecting contourpy>=1.0.1\n",
      "  Downloading contourpy-1.0.7-cp38-cp38-manylinux_2_17_x86_64.manylinux2014_x86_64.whl (300 kB)\n",
      "\u001b[2K     \u001b[90m━━━━━━━━━━━━━━━━━━━━━━━━━━━━━━━━━━━━━━\u001b[0m \u001b[32m300.0/300.0 KB\u001b[0m \u001b[31m56.6 MB/s\u001b[0m eta \u001b[36m0:00:00\u001b[0m\n",
      "\u001b[?25hCollecting fire>0.1.1\n",
      "  Using cached fire-0.5.0.tar.gz (88 kB)\n",
      "  Preparing metadata (setup.py) ... \u001b[?25ldone\n",
      "\u001b[?25hRequirement already satisfied: six in /home/daniel.alonso/.pyenv/versions/3.8.16/lib/python3.8/site-packages (from fire>0.1.1->pybraries->-r requirements.txt (line 8)) (1.16.0)\n",
      "Collecting termcolor\n",
      "  Using cached termcolor-2.3.0-py3-none-any.whl (6.9 kB)\n",
      "Requirement already satisfied: zipp>=3.1.0 in /home/daniel.alonso/.pyenv/versions/3.8.16/lib/python3.8/site-packages (from importlib-resources>=3.2.0->matplotlib->-r requirements.txt (line 7)) (3.15.0)\n",
      "Collecting sortedcontainers\n",
      "  Using cached sortedcontainers-2.4.0-py2.py3-none-any.whl (29 kB)\n",
      "Collecting sniffio\n",
      "  Using cached sniffio-1.3.0-py3-none-any.whl (10 kB)\n",
      "Collecting exceptiongroup>=1.0.0rc9\n",
      "  Using cached exceptiongroup-1.1.1-py3-none-any.whl (14 kB)\n",
      "Collecting async-generator>=1.9\n",
      "  Using cached async_generator-1.10-py3-none-any.whl (18 kB)\n",
      "Collecting outcome\n",
      "  Using cached outcome-1.2.0-py2.py3-none-any.whl (9.7 kB)\n",
      "Collecting attrs>=19.2.0\n",
      "  Using cached attrs-23.1.0-py3-none-any.whl (61 kB)\n",
      "Collecting wsproto>=0.14\n",
      "  Using cached wsproto-1.2.0-py3-none-any.whl (24 kB)\n",
      "Collecting pysocks!=1.5.7,<2.0,>=1.5.6\n",
      "  Using cached PySocks-1.7.1-py3-none-any.whl (16 kB)\n",
      "Collecting h11<1,>=0.9.0\n",
      "  Using cached h11-0.14.0-py3-none-any.whl (58 kB)\n",
      "Using legacy 'setup.py install' for fire, since package 'wheel' is not installed.\n",
      "Installing collected packages: sortedcontainers, pytz, urllib3, tzdata, tqdm, termcolor, soupsieve, sniffio, pysocks, pyparsing, pillow, numpy, networkx, kiwisolver, importlib-resources, idna, h11, fonttools, exceptiongroup, cycler, charset-normalizer, certifi, attrs, async-generator, wsproto, requests, pandas, outcome, fire, contourpy, BeautifulSoup4, trio, pybraries, matplotlib, trio-websocket, selenium\n",
      "  Running setup.py install for fire ... \u001b[?25ldone\n",
      "\u001b[?25hSuccessfully installed BeautifulSoup4-4.12.2 async-generator-1.10 attrs-23.1.0 certifi-2023.5.7 charset-normalizer-3.1.0 contourpy-1.0.7 cycler-0.11.0 exceptiongroup-1.1.1 fire-0.5.0 fonttools-4.39.4 h11-0.14.0 idna-3.4 importlib-resources-5.12.0 kiwisolver-1.4.4 matplotlib-3.7.1 networkx-3.1 numpy-1.24.3 outcome-1.2.0 pandas-2.0.1 pillow-9.5.0 pybraries-0.4.0 pyparsing-3.0.9 pysocks-1.7.1 pytz-2023.3 requests-2.31.0 selenium-4.9.1 sniffio-1.3.0 sortedcontainers-2.4.0 soupsieve-2.4.1 termcolor-2.3.0 tqdm-4.65.0 trio-0.22.0 trio-websocket-0.10.2 tzdata-2023.3 urllib3-2.0.2 wsproto-1.2.0\n",
      "\u001b[33mWARNING: You are using pip version 22.0.4; however, version 23.1.2 is available.\n",
      "You should consider upgrading via the '/home/daniel.alonso/.pyenv/versions/3.8.16/bin/python -m pip install --upgrade pip' command.\u001b[0m\u001b[33m\n",
      "\u001b[0mNote: you may need to restart the kernel to use updated packages.\n"
     ]
    }
   ],
   "source": [
    "%pip install -r requirements.txt"
   ]
  },
  {
   "attachments": {},
   "cell_type": "markdown",
   "metadata": {},
   "source": [
    "If you use a virtual environment, it is necessary to configure it as selected in the Jupyter kernel\n"
   ]
  },
  {
   "attachments": {},
   "cell_type": "markdown",
   "metadata": {},
   "source": [
    "## Setup library path"
   ]
  },
  {
   "attachments": {},
   "cell_type": "markdown",
   "metadata": {},
   "source": [
    "Make sure to run this cell to have the **olivia-finder** library at PATH"
   ]
  },
  {
   "cell_type": "code",
   "execution_count": 1,
   "metadata": {},
   "outputs": [],
   "source": [
    "# Append the path to the olivia_finder package\n",
    "import sys\n",
    "sys.path.append('../../olivia_finder/')"
   ]
  },
  {
   "attachments": {},
   "cell_type": "markdown",
   "metadata": {},
   "source": [
    "## Setup configuration"
   ]
  },
  {
   "attachments": {},
   "cell_type": "markdown",
   "metadata": {},
   "source": [
    "It is necessary to initialize the configuration, the most comfortable and global way to do so is through an environment variable"
   ]
  },
  {
   "cell_type": "code",
   "execution_count": 2,
   "metadata": {},
   "outputs": [],
   "source": [
    "# Add the environment variable OLIVIA_FINDER_CONFIG_FILE_PATH\n",
    "\n",
    "import os\n",
    "os.environ['OLIVIA_FINDER_CONFIG_FILE_PATH'] = \"../../olivia_finder/config.ini\""
   ]
  },
  {
   "attachments": {},
   "cell_type": "markdown",
   "metadata": {},
   "source": [
    "# **Package manager object**"
   ]
  },
  {
   "cell_type": "code",
   "execution_count": 3,
   "metadata": {},
   "outputs": [],
   "source": [
    "from olivia_finder.package_manager import PackageManager\n",
    "from olivia_finder.data_source.csv_ds import CSVDataSource\n",
    "from olivia_finder.data_source.librariesio_ds import LibrariesioDataSource\n",
    "from olivia_finder.data_source.repository_scrapers.github import GithubScraper\n",
    "from olivia_finder.data_source.repository_scrapers.bioconductor import BioconductorScraper\n",
    "from olivia_finder.data_source.repository_scrapers.cran import CranScraper\n",
    "from olivia_finder.data_source.repository_scrapers.pypi import PypiScraper\n",
    "from olivia_finder.data_source.repository_scrapers.npm import NpmScraper"
   ]
  },
  {
   "attachments": {},
   "cell_type": "markdown",
   "metadata": {},
   "source": [
    "## 1 - Scraping based"
   ]
  },
  {
   "cell_type": "code",
   "execution_count": 4,
   "metadata": {},
   "outputs": [],
   "source": [
    "bioconductor_pm_scraper = PackageManager(\n",
    "    data_sources=[BioconductorScraper()]\n",
    ")"
   ]
  },
  {
   "attachments": {},
   "cell_type": "markdown",
   "metadata": {},
   "source": [
    "Obtain a list with the packages available directly from the Scraping Data Source"
   ]
  },
  {
   "cell_type": "code",
   "execution_count": 5,
   "metadata": {},
   "outputs": [
    {
     "data": {
      "text/plain": [
       "['Dino',\n",
       " 'Director',\n",
       " 'DirichletMultinomial',\n",
       " 'DiscoRhythm',\n",
       " 'DominoEffect',\n",
       " 'Doscheda',\n",
       " 'DriverNet',\n",
       " 'DropletUtils',\n",
       " 'DrugVsDisease',\n",
       " 'Dune',\n",
       " 'DynDoc',\n",
       " 'EBImage',\n",
       " 'EBSEA',\n",
       " 'EBSeq',\n",
       " 'EBSeqHMM',\n",
       " 'EBarrays',\n",
       " 'EBcoexpress',\n",
       " 'EDASeq',\n",
       " 'EDIRquery',\n",
       " 'EGAD']"
      ]
     },
     "execution_count": 5,
     "metadata": {},
     "output_type": "execute_result"
    }
   ],
   "source": [
    "bioconductor_pm_scraper.fetch_package_names()[300:320]"
   ]
  },
  {
   "attachments": {},
   "cell_type": "markdown",
   "metadata": {},
   "source": [
    "Perform the scraping process, loading the packages data in the PackageManager structure"
   ]
  },
  {
   "cell_type": "code",
   "execution_count": 8,
   "metadata": {},
   "outputs": [
    {
     "name": "stderr",
     "output_type": "stream",
     "text": [
      "Loading packages: 100%|\u001b[32m██████████\u001b[0m| 2230/2230 [06:04<00:00,  6.11packages/s]"
     ]
    },
    {
     "name": "stdout",
     "output_type": "stream",
     "text": [
      "Initial length: 0\n",
      "Final length: 2230\n"
     ]
    },
    {
     "name": "stderr",
     "output_type": "stream",
     "text": [
      "\n"
     ]
    }
   ],
   "source": [
    "# Inial len of packages list in bioconductor_pm_scraper\n",
    "initial_len = len(bioconductor_pm_scraper.get_packages())\n",
    "\n",
    "# Initialize the package manager\n",
    "bioconductor_pm_scraper.initialize(show_progress=True)\n",
    "\n",
    "# Final len of packages list in bioconductor_pm_scraper\n",
    "final_len = len(bioconductor_pm_scraper.get_packages())\n",
    "\n",
    "print(f\"Initial length: {initial_len}\")\n",
    "print(f\"Final length: {final_len}\")\n"
   ]
  },
  {
   "attachments": {},
   "cell_type": "markdown",
   "metadata": {},
   "source": [
    "Export the package data to dict"
   ]
  },
  {
   "cell_type": "code",
   "execution_count": 9,
   "metadata": {},
   "outputs": [
    {
     "data": {
      "text/plain": [
       "{'name': 'a4',\n",
       " 'version': '1.48.0',\n",
       " 'url': 'https://www.bioconductor.org/packages/release/bioc/html/a4.html',\n",
       " 'dependencies': [{'name': 'a4Base',\n",
       "   'version': '',\n",
       "   'url': None,\n",
       "   'dependencies': []},\n",
       "  {'name': 'a4Preproc', 'version': '', 'url': None, 'dependencies': []},\n",
       "  {'name': 'a4Classif', 'version': '', 'url': None, 'dependencies': []},\n",
       "  {'name': 'a4Core', 'version': '', 'url': None, 'dependencies': []},\n",
       "  {'name': 'a4Reporting', 'version': '', 'url': None, 'dependencies': []}]}"
      ]
     },
     "execution_count": 9,
     "metadata": {},
     "output_type": "execute_result"
    }
   ],
   "source": [
    "bioconductor_pm_scraper.get_package(\"a4\").to_dict()"
   ]
  },
  {
   "attachments": {},
   "cell_type": "markdown",
   "metadata": {},
   "source": [
    "## 2 - CSV file based"
   ]
  },
  {
   "cell_type": "code",
   "execution_count": 10,
   "metadata": {},
   "outputs": [],
   "source": [
    "cran_pm_csv = PackageManager(\n",
    "    data_sources=[                  # List of data sources\n",
    "        CSVDataSource(\n",
    "            \"results/csv_datasets/cran/cran_adjlist_librariesio.csv\",\n",
    "            dependent_field=\"Project Name\",\n",
    "            dependency_field=\"Dependency Name\",\n",
    "            dependent_version_field=\"Version Number\",\n",
    "        )\n",
    "    ]\n",
    ")"
   ]
  },
  {
   "cell_type": "code",
   "execution_count": 11,
   "metadata": {},
   "outputs": [
    {
     "name": "stderr",
     "output_type": "stream",
     "text": [
      "Loading packages: 100%|\u001b[32m██████████\u001b[0m| 15522/15522 [08:39<00:00, 29.85packages/s]\n"
     ]
    }
   ],
   "source": [
    "cran_pm_csv.initialize(show_progress=True)"
   ]
  },
  {
   "cell_type": "code",
   "execution_count": 12,
   "metadata": {},
   "outputs": [
    {
     "data": {
      "text/plain": [
       "{'name': 'A3',\n",
       " 'version': '1.0.0',\n",
       " 'url': None,\n",
       " 'dependencies': [{'name': 'R',\n",
       "   'version': None,\n",
       "   'url': None,\n",
       "   'dependencies': []},\n",
       "  {'name': 'randomForest', 'version': None, 'url': None, 'dependencies': []}]}"
      ]
     },
     "execution_count": 12,
     "metadata": {},
     "output_type": "execute_result"
    }
   ],
   "source": [
    "cran_pm_csv.get_package(\"A3\").to_dict()"
   ]
  },
  {
   "attachments": {},
   "cell_type": "markdown",
   "metadata": {},
   "source": [
    "## 3 - Libraries.io API based"
   ]
  },
  {
   "cell_type": "code",
   "execution_count": 13,
   "metadata": {},
   "outputs": [],
   "source": [
    "maven_pm_libio = PackageManager(\n",
    "    data_sources=[                  # List of data sources\n",
    "        LibrariesioDataSource(platform=\"maven\")\n",
    "    ]\n",
    ")"
   ]
  },
  {
   "cell_type": "code",
   "execution_count": 14,
   "metadata": {},
   "outputs": [
    {
     "name": "stderr",
     "output_type": "stream",
     "text": [
      "\u001b[32;20m2023-06-04 18:46:16,346 [olivia_finder.librariesio(DEBUG)] -> librariesio_ds.py:104\u001b[0m\n",
      "Obtaining data of org.apache.commons:commons-lang3\n",
      "\u001b[32;20m2023-06-04 18:46:17,731 [olivia_finder.librariesio(DEBUG)] -> librariesio_ds.py:133\u001b[0m\n",
      "Package org.apache.commons:commons-lang3 found\n"
     ]
    },
    {
     "data": {
      "text/plain": [
       "{'name': 'org.apache.commons:commons-lang3',\n",
       " 'version': '3.9',\n",
       " 'url': 'https://repo1.maven.org/maven2/org/apache/commons/commons-lang3',\n",
       " 'dependencies': [{'name': 'org.openjdk.jmh:jmh-generator-annprocess',\n",
       "   'version': '1.25.2',\n",
       "   'url': None,\n",
       "   'dependencies': []},\n",
       "  {'name': 'org.openjdk.jmh:jmh-core',\n",
       "   'version': '1.25.2',\n",
       "   'url': None,\n",
       "   'dependencies': []},\n",
       "  {'name': 'org.easymock:easymock',\n",
       "   'version': '5.1.0',\n",
       "   'url': None,\n",
       "   'dependencies': []},\n",
       "  {'name': 'org.hamcrest:hamcrest',\n",
       "   'version': None,\n",
       "   'url': None,\n",
       "   'dependencies': []},\n",
       "  {'name': 'org.junit-pioneer:junit-pioneer',\n",
       "   'version': '2.0.1',\n",
       "   'url': None,\n",
       "   'dependencies': []},\n",
       "  {'name': 'org.junit.jupiter:junit-jupiter',\n",
       "   'version': '5.9.3',\n",
       "   'url': None,\n",
       "   'dependencies': []}]}"
      ]
     },
     "execution_count": 14,
     "metadata": {},
     "output_type": "execute_result"
    }
   ],
   "source": [
    "maven_pm_libio.fetch_package(\"org.apache.commons:commons-lang3\").to_dict()"
   ]
  },
  {
   "attachments": {},
   "cell_type": "markdown",
   "metadata": {},
   "source": [
    "## 4 - Github network based"
   ]
  },
  {
   "cell_type": "code",
   "execution_count": 4,
   "metadata": {},
   "outputs": [
    {
     "data": {
      "text/plain": [
       "{'name': 'dab0012/olivia-finder',\n",
       " 'version': '',\n",
       " 'url': 'https://github.com/dab0012/olivia-finder',\n",
       " 'dependencies': [{'name': 'intbitset',\n",
       "   'version': '2.4.0',\n",
       "   'url': None,\n",
       "   'dependencies': []},\n",
       "  {'name': 'matplotlib', 'version': '', 'url': None, 'dependencies': []},\n",
       "  {'name': 'networkx', 'version': '', 'url': None, 'dependencies': []},\n",
       "  {'name': 'numpy', 'version': '1.18.5', 'url': None, 'dependencies': []},\n",
       "  {'name': 'pandas', 'version': '', 'url': None, 'dependencies': []},\n",
       "  {'name': 'beautifulsoup4', 'version': '', 'url': None, 'dependencies': []},\n",
       "  {'name': 'pybraries', 'version': '', 'url': None, 'dependencies': []},\n",
       "  {'name': 'requests', 'version': '', 'url': None, 'dependencies': []},\n",
       "  {'name': 'selenium', 'version': '', 'url': None, 'dependencies': []},\n",
       "  {'name': 'tqdm', 'version': '', 'url': None, 'dependencies': []},\n",
       "  {'name': 'typing-extensions',\n",
       "   'version': '',\n",
       "   'url': None,\n",
       "   'dependencies': []},\n",
       "  {'name': 'singleton-decorator',\n",
       "   'version': '',\n",
       "   'url': None,\n",
       "   'dependencies': []}]}"
      ]
     },
     "execution_count": 4,
     "metadata": {},
     "output_type": "execute_result"
    }
   ],
   "source": [
    "github_pm = PackageManager(\n",
    "    data_sources=[                  # List of data sources\n",
    "        GithubScraper()\n",
    "    ]\n",
    ")\n",
    "\n",
    "github_pm.fetch_package(\"dab0012/olivia-finder\").to_dict()"
   ]
  },
  {
   "attachments": {},
   "cell_type": "markdown",
   "metadata": {},
   "source": [
    "## 5 - Multiple datasource based"
   ]
  },
  {
   "cell_type": "code",
   "execution_count": 8,
   "metadata": {},
   "outputs": [],
   "source": [
    "bioconductor_pm_multiple = PackageManager(\n",
    "    data_sources=[                  # List of data sources\n",
    "        BioconductorScraper(),\n",
    "        CSVDataSource(\n",
    "            file_path=\"../results/csv_datasets/cran/cran_adjlist_scraping.csv\",\n",
    "            dependent_field=\"name\",\n",
    "            dependency_field=\"dependency\",\n",
    "        ),\n",
    "        CranScraper(),\n",
    "        LibrariesioDataSource(\n",
    "            platform=\"cran\",\n",
    "        )\n",
    "    ]\n",
    ")"
   ]
  },
  {
   "cell_type": "code",
   "execution_count": 9,
   "metadata": {},
   "outputs": [
    {
     "data": {
      "text/plain": [
       "{'name': 'a4',\n",
       " 'version': '1.48.0',\n",
       " 'url': 'https://www.bioconductor.org/packages/release/bioc/html/a4.html',\n",
       " 'dependencies': [{'name': 'a4Base',\n",
       "   'version': '',\n",
       "   'url': None,\n",
       "   'dependencies': []},\n",
       "  {'name': 'a4Preproc', 'version': '', 'url': None, 'dependencies': []},\n",
       "  {'name': 'a4Classif', 'version': '', 'url': None, 'dependencies': []},\n",
       "  {'name': 'a4Core', 'version': '', 'url': None, 'dependencies': []},\n",
       "  {'name': 'a4Reporting', 'version': '', 'url': None, 'dependencies': []}]}"
      ]
     },
     "execution_count": 9,
     "metadata": {},
     "output_type": "execute_result"
    }
   ],
   "source": [
    "bioconductor_pm_multiple.fetch_package(\"a4\").to_dict()"
   ]
  },
  {
   "cell_type": "markdown",
   "metadata": {},
   "source": [
    "Obtain the transitive dependencies of the package *a4*"
   ]
  },
  {
   "cell_type": "code",
   "execution_count": 10,
   "metadata": {},
   "outputs": [
    {
     "data": {
      "text/plain": [
       "NodeView(('a4', 'a4Base', 'a4Preproc', 'a4Classif', 'a4Core', 'a4Reporting', 'methods', 'graphics', 'grid', 'Biobase', 'annaffy', 'mpm', 'genefilter', 'limma', 'multtest', 'glmnet', 'gplots', 'BiocGenerics', 'stats', 'R', 'utils', 'BiocManager', 'GO.db', 'AnnotationDbi', 'DBI', 'MatrixGenerics', 'annotate', 'survival', 'grDevices', 'MASS', 'stats4', 'ROCR', 'pamr', 'varSelRF', 'xtable'))"
      ]
     },
     "execution_count": 10,
     "metadata": {},
     "output_type": "execute_result"
    }
   ],
   "source": [
    "\n",
    "a4_G = bioconductor_pm_multiple.get_dependency_network(\"a4\", deep_level=3, generate=True)\n",
    "a4_G.nodes()"
   ]
  }
 ],
 "metadata": {
  "kernelspec": {
   "display_name": ".venv_3816",
   "language": "python",
   "name": "python3"
  },
  "language_info": {
   "codemirror_mode": {
    "name": "ipython",
    "version": 3
   },
   "file_extension": ".py",
   "mimetype": "text/x-python",
   "name": "python",
   "nbconvert_exporter": "python",
   "pygments_lexer": "ipython3",
   "version": "3.8.16"
  },
  "orig_nbformat": 4
 },
 "nbformat": 4,
 "nbformat_minor": 2
}
