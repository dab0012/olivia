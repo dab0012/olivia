{
 "cells": [
  {
   "attachments": {},
   "cell_type": "markdown",
   "metadata": {},
   "source": [
    "<h1 style=\"font-size: 80px; color: blue\"> \n",
    "Olivia Finder - Data manipulation\n",
    "</h1>\n"
   ]
  },
  {
   "attachments": {},
   "cell_type": "markdown",
   "metadata": {},
   "source": [
    "# <span style=\"color: red\">**0 - Previous requirements**</span>"
   ]
  },
  {
   "attachments": {},
   "cell_type": "markdown",
   "metadata": {},
   "source": [
    "## Setup venv and install requirements"
   ]
  },
  {
   "cell_type": "code",
   "execution_count": 22,
   "metadata": {},
   "outputs": [],
   "source": [
    "# %pip install -r requirements.txt"
   ]
  },
  {
   "attachments": {},
   "cell_type": "markdown",
   "metadata": {},
   "source": [
    "If you use a virtual environment, it is necessary to configure it as selected in the Jupyter kernel\n"
   ]
  },
  {
   "attachments": {},
   "cell_type": "markdown",
   "metadata": {},
   "source": [
    "## Setup library path"
   ]
  },
  {
   "attachments": {},
   "cell_type": "markdown",
   "metadata": {},
   "source": [
    "Make sure to run this cell to have the **olivia-finder** library at PATH"
   ]
  },
  {
   "cell_type": "code",
   "execution_count": 2,
   "metadata": {},
   "outputs": [],
   "source": [
    "# Append the path to the olivia_finder package\n",
    "import sys\n",
    "sys.path.append('../../olivia_finder/')"
   ]
  },
  {
   "attachments": {},
   "cell_type": "markdown",
   "metadata": {},
   "source": [
    "## Setup configuration"
   ]
  },
  {
   "attachments": {},
   "cell_type": "markdown",
   "metadata": {},
   "source": [
    "It is necessary to initialize the configuration, the most comfortable and global way to do so is through an environment variable"
   ]
  },
  {
   "cell_type": "code",
   "execution_count": 3,
   "metadata": {},
   "outputs": [],
   "source": [
    "# Add the environment variable OLIVIA_FINDER_CONFIG_FILE_PATH\n",
    "\n",
    "import os\n",
    "os.environ['OLIVIA_FINDER_CONFIG_FILE_PATH'] = \"../../olivia_finder/olivia_finder/config.ini\""
   ]
  },
  {
   "attachments": {},
   "cell_type": "markdown",
   "metadata": {},
   "source": [
    "# Initialize a package manager object"
   ]
  },
  {
   "cell_type": "code",
   "execution_count": 4,
   "metadata": {},
   "outputs": [],
   "source": [
    "from olivia_finder.package_manager import PackageManager\n",
    "from olivia_finder.data_source.csv_ds import CSVDataSource\n",
    "from olivia_finder.data_source.librariesio_ds import LibrariesioDataSource\n",
    "from olivia_finder.data_source.repository_scrapers.github import GithubScraper\n",
    "from olivia_finder.data_source.repository_scrapers.bioconductor import BioconductorScraper\n",
    "from olivia_finder.data_source.repository_scrapers.cran import CranScraper\n",
    "from olivia_finder.data_source.repository_scrapers.pypi import PypiScraper\n",
    "from olivia_finder.data_source.repository_scrapers.npm import NpmScraper"
   ]
  },
  {
   "attachments": {},
   "cell_type": "markdown",
   "metadata": {},
   "source": [
    "Scraping based"
   ]
  },
  {
   "cell_type": "code",
   "execution_count": 26,
   "metadata": {},
   "outputs": [],
   "source": [
    "bioconductor_pm_scraper = PackageManager(\n",
    "    data_sources=[                  # List of data sources\n",
    "        BioconductorScraper(),\n",
    "    ]\n",
    ")"
   ]
  },
  {
   "cell_type": "code",
   "execution_count": 30,
   "metadata": {},
   "outputs": [
    {
     "data": {
      "text/plain": [
       "['Dino',\n",
       " 'Director',\n",
       " 'DirichletMultinomial',\n",
       " 'DiscoRhythm',\n",
       " 'DominoEffect',\n",
       " 'Doscheda',\n",
       " 'DriverNet',\n",
       " 'DropletUtils',\n",
       " 'DrugVsDisease',\n",
       " 'Dune',\n",
       " 'DynDoc',\n",
       " 'EBImage',\n",
       " 'EBSEA',\n",
       " 'EBSeq',\n",
       " 'EBSeqHMM',\n",
       " 'EBarrays',\n",
       " 'EBcoexpress',\n",
       " 'EDASeq',\n",
       " 'EDIRquery',\n",
       " 'EGAD']"
      ]
     },
     "execution_count": 30,
     "metadata": {},
     "output_type": "execute_result"
    }
   ],
   "source": [
    "bioconductor_pm_scraper.fetch_package_names()[300:320]"
   ]
  },
  {
   "cell_type": "code",
   "execution_count": null,
   "metadata": {},
   "outputs": [
    {
     "name": "stdout",
     "output_type": "stream",
     "text": [
      "Initial length: 0\n",
      "Final length: 2230\n"
     ]
    }
   ],
   "source": [
    "initial_len = len(bioconductor_pm_scraper.get_packages())\n",
    "bioconductor_pm_scraper.initialize()\n",
    "final_len = len(bioconductor_pm_scraper.get_packages())\n",
    "print(f\"Initial length: {initial_len}\")\n",
    "print(f\"Final length: {final_len}\")\n"
   ]
  },
  {
   "cell_type": "code",
   "execution_count": 32,
   "metadata": {},
   "outputs": [
    {
     "data": {
      "text/plain": [
       "{'name': 'a4',\n",
       " 'version': '1.48.0',\n",
       " 'url': 'https://www.bioconductor.org/packages/release/bioc/html/a4.html',\n",
       " 'dependencies': [{'name': 'a4Base',\n",
       "   'version': '',\n",
       "   'url': None,\n",
       "   'dependencies': []},\n",
       "  {'name': 'a4Preproc', 'version': '', 'url': None, 'dependencies': []},\n",
       "  {'name': 'a4Classif', 'version': '', 'url': None, 'dependencies': []},\n",
       "  {'name': 'a4Core', 'version': '', 'url': None, 'dependencies': []},\n",
       "  {'name': 'a4Reporting', 'version': '', 'url': None, 'dependencies': []}]}"
      ]
     },
     "execution_count": 32,
     "metadata": {},
     "output_type": "execute_result"
    }
   ],
   "source": [
    "bioconductor_pm_scraper.get_package(\"a4\").to_dict()"
   ]
  },
  {
   "attachments": {},
   "cell_type": "markdown",
   "metadata": {},
   "source": [
    "Csv file based"
   ]
  },
  {
   "cell_type": "code",
   "execution_count": 5,
   "metadata": {},
   "outputs": [],
   "source": [
    "cran_pm_csv = PackageManager(\n",
    "    data_sources=[                  # List of data sources\n",
    "        CSVDataSource(\n",
    "            \"results/csv_datasets/cran/cran_adjlist_librariesio.csv\",\n",
    "            dependent_field=\"Project Name\",\n",
    "            dependency_field=\"Dependency Name\",\n",
    "            dependent_version_field=\"Version Number\",\n",
    "        )\n",
    "    ]\n",
    ")"
   ]
  },
  {
   "cell_type": "code",
   "execution_count": 7,
   "metadata": {},
   "outputs": [
    {
     "name": "stderr",
     "output_type": "stream",
     "text": [
      "Loading packages:   0%|\u001b[32m          \u001b[0m| 0/15522 [00:00<?, ?packages/s]"
     ]
    },
    {
     "name": "stderr",
     "output_type": "stream",
     "text": [
      "Loading packages: 100%|\u001b[32m██████████\u001b[0m| 15522/15522 [05:29<00:00, 47.09packages/s]\n"
     ]
    }
   ],
   "source": [
    "cran_pm_csv.initialize(show_progress=True)"
   ]
  },
  {
   "cell_type": "code",
   "execution_count": null,
   "metadata": {},
   "outputs": [
    {
     "data": {
      "text/plain": [
       "{'name': 'A3',\n",
       " 'version': '1.0.0',\n",
       " 'url': None,\n",
       " 'dependencies': [{'name': 'R',\n",
       "   'version': None,\n",
       "   'url': None,\n",
       "   'dependencies': []},\n",
       "  {'name': 'randomForest', 'version': None, 'url': None, 'dependencies': []}]}"
      ]
     },
     "metadata": {},
     "output_type": "display_data"
    }
   ],
   "source": [
    "cran_pm_csv.get_package(\"A3\").to_dict()"
   ]
  },
  {
   "attachments": {},
   "cell_type": "markdown",
   "metadata": {},
   "source": [
    "librariesio api based"
   ]
  },
  {
   "cell_type": "code",
   "execution_count": 10,
   "metadata": {},
   "outputs": [],
   "source": [
    "maven_pm_libio = PackageManager(\n",
    "    data_sources=[                  # List of data sources\n",
    "        LibrariesioDataSource(platform=\"maven\")\n",
    "    ]\n",
    ")"
   ]
  },
  {
   "cell_type": "code",
   "execution_count": 15,
   "metadata": {},
   "outputs": [
    {
     "name": "stderr",
     "output_type": "stream",
     "text": [
      "\u001b[32;20m2023-05-26 00:24:05,682 [olivia_finder.librariesio(DEBUG)] -> librariesio_ds.py:104\u001b[0m\n",
      "Obtaining data of org.apache.commons:commons-lang3\n",
      "\u001b[32;20m2023-05-26 00:24:23,165 [olivia_finder.librariesio(DEBUG)] -> librariesio_ds.py:133\u001b[0m\n",
      "Package org.apache.commons:commons-lang3 found\n"
     ]
    },
    {
     "data": {
      "text/plain": [
       "{'name': 'org.apache.commons:commons-lang3',\n",
       " 'version': '3.9',\n",
       " 'url': 'https://repo1.maven.org/maven2/org/apache/commons/commons-lang3',\n",
       " 'dependencies': [{'name': 'org.openjdk.jmh:jmh-generator-annprocess',\n",
       "   'version': '1.25.2',\n",
       "   'url': None,\n",
       "   'dependencies': []},\n",
       "  {'name': 'org.openjdk.jmh:jmh-core',\n",
       "   'version': '1.25.2',\n",
       "   'url': None,\n",
       "   'dependencies': []},\n",
       "  {'name': 'org.easymock:easymock',\n",
       "   'version': '5.1.0',\n",
       "   'url': None,\n",
       "   'dependencies': []},\n",
       "  {'name': 'org.hamcrest:hamcrest',\n",
       "   'version': None,\n",
       "   'url': None,\n",
       "   'dependencies': []},\n",
       "  {'name': 'org.junit-pioneer:junit-pioneer',\n",
       "   'version': '2.0.1',\n",
       "   'url': None,\n",
       "   'dependencies': []},\n",
       "  {'name': 'org.junit.jupiter:junit-jupiter',\n",
       "   'version': '5.9.3',\n",
       "   'url': None,\n",
       "   'dependencies': []}]}"
      ]
     },
     "execution_count": 15,
     "metadata": {},
     "output_type": "execute_result"
    }
   ],
   "source": [
    "maven_pm_libio.fetch_package(\"org.apache.commons:commons-lang3\").to_dict()"
   ]
  },
  {
   "attachments": {},
   "cell_type": "markdown",
   "metadata": {},
   "source": [
    "Multiple datasource based"
   ]
  },
  {
   "cell_type": "code",
   "execution_count": 17,
   "metadata": {},
   "outputs": [],
   "source": [
    "bioconductor_pm_multiple = PackageManager(\n",
    "    data_sources=[                  # List of data sources\n",
    "        BioconductorScraper(),\n",
    "        CSVDataSource(\n",
    "            file_path=\"results/csv_datasets/cran/cran_adjlist_scraping.csv\",\n",
    "            dependent_field=\"name\",\n",
    "            dependency_field=\"dependency\",\n",
    "        ),\n",
    "        CranScraper(),\n",
    "        LibrariesioDataSource(\n",
    "            platform=\"cran\",\n",
    "        )\n",
    "    ]\n",
    ")"
   ]
  },
  {
   "cell_type": "code",
   "execution_count": 18,
   "metadata": {},
   "outputs": [
    {
     "data": {
      "text/plain": [
       "{'name': 'a4',\n",
       " 'version': '1.48.0',\n",
       " 'url': 'https://www.bioconductor.org/packages/release/bioc/html/a4.html',\n",
       " 'dependencies': [{'name': 'a4Base',\n",
       "   'version': '',\n",
       "   'url': None,\n",
       "   'dependencies': []},\n",
       "  {'name': 'a4Preproc', 'version': '', 'url': None, 'dependencies': []},\n",
       "  {'name': 'a4Classif', 'version': '', 'url': None, 'dependencies': []},\n",
       "  {'name': 'a4Core', 'version': '', 'url': None, 'dependencies': []},\n",
       "  {'name': 'a4Reporting', 'version': '', 'url': None, 'dependencies': []}]}"
      ]
     },
     "execution_count": 18,
     "metadata": {},
     "output_type": "execute_result"
    }
   ],
   "source": [
    "bioconductor_pm_multiple.fetch_package(\"a4\").to_dict()"
   ]
  },
  {
   "cell_type": "code",
   "execution_count": null,
   "metadata": {},
   "outputs": [
    {
     "name": "stderr",
     "output_type": "stream",
     "text": [
      "Worker 0: Error doing request job: <Response [404]>\n",
      "Request for methods: https://www.bioconductor.org/packages/release/bioc/html/methods.html failed: response is None\n",
      "Worker 0: Error doing request job: <Response [404]>\n",
      "Request for graphics: https://www.bioconductor.org/packages/release/bioc/html/graphics.html failed: response is None\n",
      "Worker 0: Error doing request job: <Response [404]>\n",
      "Request for grid: https://www.bioconductor.org/packages/release/bioc/html/grid.html failed: response is None\n",
      "Worker 0: Error doing request job: <Response [404]>\n",
      "Request for mpm: https://www.bioconductor.org/packages/release/bioc/html/mpm.html failed: response is None\n",
      "Worker 0: Error doing request job: <Response [404]>\n",
      "Request for glmnet: https://www.bioconductor.org/packages/release/bioc/html/glmnet.html failed: response is None\n",
      "Worker 0: Error doing request job: <Response [404]>\n",
      "Request for gplots: https://www.bioconductor.org/packages/release/bioc/html/gplots.html failed: response is None\n",
      "Worker 0: Error doing request job: <Response [404]>\n",
      "Request for ROCR: https://www.bioconductor.org/packages/release/bioc/html/ROCR.html failed: response is None\n",
      "Worker 0: Error doing request job: <Response [404]>\n",
      "Request for pamr: https://www.bioconductor.org/packages/release/bioc/html/pamr.html failed: response is None\n",
      "Worker 0: Error doing request job: <Response [404]>\n",
      "Request for varSelRF: https://www.bioconductor.org/packages/release/bioc/html/varSelRF.html failed: response is None\n",
      "Worker 0: Error doing request job: <Response [404]>\n",
      "Request for utils: https://www.bioconductor.org/packages/release/bioc/html/utils.html failed: response is None\n",
      "Worker 0: Error doing request job: <Response [404]>\n",
      "Request for stats: https://www.bioconductor.org/packages/release/bioc/html/stats.html failed: response is None\n",
      "Worker 0: Error doing request job: <Response [404]>\n",
      "Request for xtable: https://www.bioconductor.org/packages/release/bioc/html/xtable.html failed: response is None\n"
     ]
    },
    {
     "data": {
      "text/plain": [
       "NodeView(('a4', 'a4Base', 'a4Preproc', 'a4Classif', 'a4Core', 'a4Reporting', 'methods', 'graphics', 'grid', 'Biobase', 'annaffy', 'mpm', 'genefilter', 'limma', 'multtest', 'glmnet', 'gplots', 'BiocGenerics', 'stats', 'R', 'utils', 'BiocManager', 'GO.db', 'AnnotationDbi', 'DBI', 'MatrixGenerics', 'annotate', 'survival', 'grDevices', 'MASS', 'stats4', 'ROCR', 'pamr', 'varSelRF', 'xtable'))"
      ]
     },
     "metadata": {},
     "output_type": "display_data"
    }
   ],
   "source": [
    "\n",
    "a4_G = bioconductor_pm_multiple.get_dependency_network(\"a4\", deep_level=3, generate=True)\n",
    "a4_G.nodes()"
   ]
  }
 ],
 "metadata": {
  "kernelspec": {
   "display_name": ".venv_3816",
   "language": "python",
   "name": "python3"
  },
  "language_info": {
   "codemirror_mode": {
    "name": "ipython",
    "version": 3
   },
   "file_extension": ".py",
   "mimetype": "text/x-python",
   "name": "python",
   "nbconvert_exporter": "python",
   "pygments_lexer": "ipython3",
   "version": "3.8.16"
  },
  "orig_nbformat": 4
 },
 "nbformat": 4,
 "nbformat_minor": 2
}
