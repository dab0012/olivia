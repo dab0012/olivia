{
 "cells": [
  {
   "attachments": {},
   "cell_type": "markdown",
   "metadata": {},
   "source": [
    "<h1 style=\"font-size: 80px; color: blue\"> \n",
    "Olivia Finder - Usage\n",
    "</h1>\n"
   ]
  },
  {
   "attachments": {},
   "cell_type": "markdown",
   "metadata": {},
   "source": [
    "This notebook consists in the use of the **Olivia** library with the different data obtained through **Olivia Finder**"
   ]
  },
  {
   "attachments": {},
   "cell_type": "markdown",
   "metadata": {},
   "source": [
    "# <span style=\"color: red\">**0 - Previous requirements**</span>"
   ]
  },
  {
   "attachments": {},
   "cell_type": "markdown",
   "metadata": {},
   "source": [
    "## Setup venv and install requirements"
   ]
  },
  {
   "cell_type": "code",
   "execution_count": 1,
   "metadata": {},
   "outputs": [
    {
     "name": "stdout",
     "output_type": "stream",
     "text": [
      "Requirement already satisfied: intbitset==2.4.0 in /home/dnllns/.pyenv/versions/3.8.16/envs/.venv_3816/lib/python3.8/site-packages (from -r ../olivia/requirements.txt (line 1)) (2.4.0)\n",
      "Requirement already satisfied: numpy==1.18.5 in /home/dnllns/.pyenv/versions/3.8.16/envs/.venv_3816/lib/python3.8/site-packages (from -r ../olivia/requirements.txt (line 2)) (1.18.5)\n",
      "Requirement already satisfied: networkx==2.4 in /home/dnllns/.pyenv/versions/3.8.16/envs/.venv_3816/lib/python3.8/site-packages (from -r ../olivia/requirements.txt (line 3)) (2.4)\n",
      "Requirement already satisfied: pandas==1.1.5 in /home/dnllns/.pyenv/versions/3.8.16/envs/.venv_3816/lib/python3.8/site-packages (from -r ../olivia/requirements.txt (line 4)) (1.1.5)\n",
      "Requirement already satisfied: matplotlib==3.2.2 in /home/dnllns/.pyenv/versions/3.8.16/envs/.venv_3816/lib/python3.8/site-packages (from -r ../olivia/requirements.txt (line 5)) (3.2.2)\n",
      "Requirement already satisfied: six in /home/dnllns/.pyenv/versions/3.8.16/envs/.venv_3816/lib/python3.8/site-packages (from intbitset==2.4.0->-r ../olivia/requirements.txt (line 1)) (1.16.0)\n",
      "Requirement already satisfied: decorator>=4.3.0 in /home/dnllns/.pyenv/versions/3.8.16/envs/.venv_3816/lib/python3.8/site-packages (from networkx==2.4->-r ../olivia/requirements.txt (line 3)) (5.1.1)\n",
      "Requirement already satisfied: python-dateutil>=2.7.3 in /home/dnllns/.pyenv/versions/3.8.16/envs/.venv_3816/lib/python3.8/site-packages (from pandas==1.1.5->-r ../olivia/requirements.txt (line 4)) (2.8.2)\n",
      "Requirement already satisfied: pytz>=2017.2 in /home/dnllns/.pyenv/versions/3.8.16/envs/.venv_3816/lib/python3.8/site-packages (from pandas==1.1.5->-r ../olivia/requirements.txt (line 4)) (2023.3)\n",
      "Requirement already satisfied: cycler>=0.10 in /home/dnllns/.pyenv/versions/3.8.16/envs/.venv_3816/lib/python3.8/site-packages (from matplotlib==3.2.2->-r ../olivia/requirements.txt (line 5)) (0.11.0)\n",
      "Requirement already satisfied: kiwisolver>=1.0.1 in /home/dnllns/.pyenv/versions/3.8.16/envs/.venv_3816/lib/python3.8/site-packages (from matplotlib==3.2.2->-r ../olivia/requirements.txt (line 5)) (1.4.4)\n",
      "Requirement already satisfied: pyparsing!=2.0.4,!=2.1.2,!=2.1.6,>=2.0.1 in /home/dnllns/.pyenv/versions/3.8.16/envs/.venv_3816/lib/python3.8/site-packages (from matplotlib==3.2.2->-r ../olivia/requirements.txt (line 5)) (3.0.9)\n",
      "Note: you may need to restart the kernel to use updated packages.\n"
     ]
    }
   ],
   "source": [
    "# Olivia requirements\n",
    "%pip install -r ../olivia/requirements.txt"
   ]
  },
  {
   "cell_type": "code",
   "execution_count": 2,
   "metadata": {},
   "outputs": [
    {
     "name": "stdout",
     "output_type": "stream",
     "text": [
      "Requirement already satisfied: pandas in /home/dnllns/.pyenv/versions/3.8.16/envs/.venv_3816/lib/python3.8/site-packages (from -r requirements.txt (line 1)) (1.1.5)\n",
      "Requirement already satisfied: tqdm in /home/dnllns/.pyenv/versions/3.8.16/envs/.venv_3816/lib/python3.8/site-packages (from -r requirements.txt (line 2)) (4.65.0)\n",
      "Requirement already satisfied: requests in /home/dnllns/.pyenv/versions/3.8.16/envs/.venv_3816/lib/python3.8/site-packages (from -r requirements.txt (line 3)) (2.31.0)\n",
      "Requirement already satisfied: BeautifulSoup4 in /home/dnllns/.pyenv/versions/3.8.16/envs/.venv_3816/lib/python3.8/site-packages (from -r requirements.txt (line 4)) (4.12.2)\n",
      "Requirement already satisfied: selenium in /home/dnllns/.pyenv/versions/3.8.16/envs/.venv_3816/lib/python3.8/site-packages (from -r requirements.txt (line 5)) (4.9.1)\n",
      "Requirement already satisfied: networkx in /home/dnllns/.pyenv/versions/3.8.16/envs/.venv_3816/lib/python3.8/site-packages (from -r requirements.txt (line 6)) (2.4)\n",
      "Requirement already satisfied: matplotlib in /home/dnllns/.pyenv/versions/3.8.16/envs/.venv_3816/lib/python3.8/site-packages (from -r requirements.txt (line 7)) (3.2.2)\n",
      "Requirement already satisfied: pybraries in /home/dnllns/.pyenv/versions/3.8.16/envs/.venv_3816/lib/python3.8/site-packages (from -r requirements.txt (line 8)) (0.4.0)\n",
      "Requirement already satisfied: typing_extensions in /home/dnllns/.pyenv/versions/3.8.16/envs/.venv_3816/lib/python3.8/site-packages (from -r requirements.txt (line 9)) (4.5.0)\n",
      "Requirement already satisfied: python-dateutil>=2.7.3 in /home/dnllns/.pyenv/versions/3.8.16/envs/.venv_3816/lib/python3.8/site-packages (from pandas->-r requirements.txt (line 1)) (2.8.2)\n",
      "Requirement already satisfied: pytz>=2017.2 in /home/dnllns/.pyenv/versions/3.8.16/envs/.venv_3816/lib/python3.8/site-packages (from pandas->-r requirements.txt (line 1)) (2023.3)\n",
      "Requirement already satisfied: numpy>=1.15.4 in /home/dnllns/.pyenv/versions/3.8.16/envs/.venv_3816/lib/python3.8/site-packages (from pandas->-r requirements.txt (line 1)) (1.18.5)\n",
      "Requirement already satisfied: charset-normalizer<4,>=2 in /home/dnllns/.pyenv/versions/3.8.16/envs/.venv_3816/lib/python3.8/site-packages (from requests->-r requirements.txt (line 3)) (3.1.0)\n",
      "Requirement already satisfied: idna<4,>=2.5 in /home/dnllns/.pyenv/versions/3.8.16/envs/.venv_3816/lib/python3.8/site-packages (from requests->-r requirements.txt (line 3)) (3.4)\n",
      "Requirement already satisfied: urllib3<3,>=1.21.1 in /home/dnllns/.pyenv/versions/3.8.16/envs/.venv_3816/lib/python3.8/site-packages (from requests->-r requirements.txt (line 3)) (2.0.2)\n",
      "Requirement already satisfied: certifi>=2017.4.17 in /home/dnllns/.pyenv/versions/3.8.16/envs/.venv_3816/lib/python3.8/site-packages (from requests->-r requirements.txt (line 3)) (2023.5.7)\n",
      "Requirement already satisfied: soupsieve>1.2 in /home/dnllns/.pyenv/versions/3.8.16/envs/.venv_3816/lib/python3.8/site-packages (from BeautifulSoup4->-r requirements.txt (line 4)) (2.4.1)\n",
      "Requirement already satisfied: trio~=0.17 in /home/dnllns/.pyenv/versions/3.8.16/envs/.venv_3816/lib/python3.8/site-packages (from selenium->-r requirements.txt (line 5)) (0.22.0)\n",
      "Requirement already satisfied: trio-websocket~=0.9 in /home/dnllns/.pyenv/versions/3.8.16/envs/.venv_3816/lib/python3.8/site-packages (from selenium->-r requirements.txt (line 5)) (0.10.2)\n",
      "Requirement already satisfied: decorator>=4.3.0 in /home/dnllns/.pyenv/versions/3.8.16/envs/.venv_3816/lib/python3.8/site-packages (from networkx->-r requirements.txt (line 6)) (5.1.1)\n",
      "Requirement already satisfied: cycler>=0.10 in /home/dnllns/.pyenv/versions/3.8.16/envs/.venv_3816/lib/python3.8/site-packages (from matplotlib->-r requirements.txt (line 7)) (0.11.0)\n",
      "Requirement already satisfied: kiwisolver>=1.0.1 in /home/dnllns/.pyenv/versions/3.8.16/envs/.venv_3816/lib/python3.8/site-packages (from matplotlib->-r requirements.txt (line 7)) (1.4.4)\n",
      "Requirement already satisfied: pyparsing!=2.0.4,!=2.1.2,!=2.1.6,>=2.0.1 in /home/dnllns/.pyenv/versions/3.8.16/envs/.venv_3816/lib/python3.8/site-packages (from matplotlib->-r requirements.txt (line 7)) (3.0.9)\n",
      "Requirement already satisfied: fire>0.1.1 in /home/dnllns/.pyenv/versions/3.8.16/envs/.venv_3816/lib/python3.8/site-packages (from pybraries->-r requirements.txt (line 8)) (0.5.0)\n",
      "Requirement already satisfied: six in /home/dnllns/.pyenv/versions/3.8.16/envs/.venv_3816/lib/python3.8/site-packages (from fire>0.1.1->pybraries->-r requirements.txt (line 8)) (1.16.0)\n",
      "Requirement already satisfied: termcolor in /home/dnllns/.pyenv/versions/3.8.16/envs/.venv_3816/lib/python3.8/site-packages (from fire>0.1.1->pybraries->-r requirements.txt (line 8)) (2.3.0)\n",
      "Requirement already satisfied: attrs>=19.2.0 in /home/dnllns/.pyenv/versions/3.8.16/envs/.venv_3816/lib/python3.8/site-packages (from trio~=0.17->selenium->-r requirements.txt (line 5)) (23.1.0)\n",
      "Requirement already satisfied: sortedcontainers in /home/dnllns/.pyenv/versions/3.8.16/envs/.venv_3816/lib/python3.8/site-packages (from trio~=0.17->selenium->-r requirements.txt (line 5)) (2.4.0)\n",
      "Requirement already satisfied: async-generator>=1.9 in /home/dnllns/.pyenv/versions/3.8.16/envs/.venv_3816/lib/python3.8/site-packages (from trio~=0.17->selenium->-r requirements.txt (line 5)) (1.10)\n",
      "Requirement already satisfied: outcome in /home/dnllns/.pyenv/versions/3.8.16/envs/.venv_3816/lib/python3.8/site-packages (from trio~=0.17->selenium->-r requirements.txt (line 5)) (1.2.0)\n",
      "Requirement already satisfied: sniffio in /home/dnllns/.pyenv/versions/3.8.16/envs/.venv_3816/lib/python3.8/site-packages (from trio~=0.17->selenium->-r requirements.txt (line 5)) (1.3.0)\n",
      "Requirement already satisfied: exceptiongroup>=1.0.0rc9 in /home/dnllns/.pyenv/versions/3.8.16/envs/.venv_3816/lib/python3.8/site-packages (from trio~=0.17->selenium->-r requirements.txt (line 5)) (1.1.1)\n",
      "Requirement already satisfied: wsproto>=0.14 in /home/dnllns/.pyenv/versions/3.8.16/envs/.venv_3816/lib/python3.8/site-packages (from trio-websocket~=0.9->selenium->-r requirements.txt (line 5)) (1.2.0)\n",
      "Requirement already satisfied: pysocks!=1.5.7,<2.0,>=1.5.6 in /home/dnllns/.pyenv/versions/3.8.16/envs/.venv_3816/lib/python3.8/site-packages (from urllib3<3,>=1.21.1->requests->-r requirements.txt (line 3)) (1.7.1)\n",
      "Requirement already satisfied: h11<1,>=0.9.0 in /home/dnllns/.pyenv/versions/3.8.16/envs/.venv_3816/lib/python3.8/site-packages (from wsproto>=0.14->trio-websocket~=0.9->selenium->-r requirements.txt (line 5)) (0.14.0)\n",
      "Note: you may need to restart the kernel to use updated packages.\n"
     ]
    }
   ],
   "source": [
    "# Olivia Finder requirements\n",
    "%pip install -r requirements.txt"
   ]
  },
  {
   "attachments": {},
   "cell_type": "markdown",
   "metadata": {},
   "source": [
    "If you use a virtual environment, it is necessary to configure it as selected in the Jupyter kernel\n"
   ]
  },
  {
   "attachments": {},
   "cell_type": "markdown",
   "metadata": {},
   "source": [
    "## Setup library path"
   ]
  },
  {
   "attachments": {},
   "cell_type": "markdown",
   "metadata": {},
   "source": [
    "Make sure to run this cell to have the **olivia** and **olivia-finder** library at PATH"
   ]
  },
  {
   "cell_type": "code",
   "execution_count": 1,
   "metadata": {},
   "outputs": [],
   "source": [
    "# Append the path to the olivia_finder package\n",
    "import sys\n",
    "sys.path.append('../../olivia/')\n",
    "sys.path.append('../../olivia_finder/')\n"
   ]
  },
  {
   "attachments": {},
   "cell_type": "markdown",
   "metadata": {},
   "source": [
    "## Setup configuration"
   ]
  },
  {
   "attachments": {},
   "cell_type": "markdown",
   "metadata": {},
   "source": [
    "It is necessary to initialize the configuration, the most comfortable and global way to do so is through an environment variable"
   ]
  },
  {
   "cell_type": "code",
   "execution_count": 2,
   "metadata": {},
   "outputs": [],
   "source": [
    "# Add the environment variable OLIVIA_FINDER_CONFIG_FILE_PATH\n",
    "\n",
    "import os\n",
    "os.environ['OLIVIA_FINDER_CONFIG_FILE_PATH'] = \"../../olivia_finder/olivia_finder/config.ini\""
   ]
  },
  {
   "attachments": {},
   "cell_type": "markdown",
   "metadata": {},
   "source": [
    "# **1 - Build the dataset**"
   ]
  },
  {
   "attachments": {},
   "cell_type": "markdown",
   "metadata": {},
   "source": [
    "In this section we will use Olivia Finder to build the dataset of the network that we want to analyze"
   ]
  },
  {
   "cell_type": "code",
   "execution_count": 3,
   "metadata": {},
   "outputs": [],
   "source": [
    "from olivia_finder.package_manager import PackageManager\n",
    "import gc\n"
   ]
  },
  {
   "attachments": {},
   "cell_type": "markdown",
   "metadata": {},
   "source": [
    "## Using data from persistence"
   ]
  },
  {
   "attachments": {},
   "cell_type": "markdown",
   "metadata": {},
   "source": [
    "### Olivia finder persistence objects"
   ]
  },
  {
   "cell_type": "code",
   "execution_count": 7,
   "metadata": {},
   "outputs": [
    {
     "name": "stderr",
     "output_type": "stream",
     "text": [
      "\u001b[34;20m2023-05-25 22:18:37,174 [olivia_finder.packagemanager(INFO)] -> package_manager.py:111\u001b[0m\n",
      "Loading package manager from results/package_managers/bioconductor_scraper.olvpm\n",
      "\u001b[34;20m2023-05-25 22:18:37,385 [olivia_finder.packagemanager(INFO)] -> package_manager.py:114\u001b[0m\n",
      "Package manager loaded\n"
     ]
    },
    {
     "name": "stdout",
     "output_type": "stream",
     "text": [
      "Nodes: 3509\n",
      "Edges: 28320\n"
     ]
    }
   ],
   "source": [
    "bioconductor_pm_loaded = PackageManager.load_from_persistence(\"results/package_managers/bioconductor_scraper.olvpm\")\n",
    "bioconductor_G_loaded = bioconductor_pm_loaded.get_network()\n",
    "del bioconductor_pm_loaded\n",
    "print(f'Nodes: {len(bioconductor_G_loaded.nodes)}')\n",
    "print(f'Edges: {len(bioconductor_G_loaded.edges)}')"
   ]
  },
  {
   "cell_type": "code",
   "execution_count": 8,
   "metadata": {},
   "outputs": [
    {
     "name": "stderr",
     "output_type": "stream",
     "text": [
      "\u001b[34;20m2023-05-25 22:18:37,485 [olivia_finder.packagemanager(INFO)] -> package_manager.py:111\u001b[0m\n",
      "Loading package manager from results/package_managers/cran_scraper.olvpm\n",
      "\u001b[34;20m2023-05-25 22:18:38,408 [olivia_finder.packagemanager(INFO)] -> package_manager.py:114\u001b[0m\n",
      "Package manager loaded\n"
     ]
    },
    {
     "name": "stdout",
     "output_type": "stream",
     "text": [
      "Nodes: 18867\n",
      "Edges: 114642\n"
     ]
    }
   ],
   "source": [
    "cran_pm_loaded = PackageManager.load_from_persistence(\"results/package_managers/cran_scraper.olvpm\")\n",
    "cran_G_loaded = cran_pm_loaded.get_network()\n",
    "del cran_pm_loaded\n",
    "print(f'Nodes: {len(cran_G_loaded.nodes)}')\n",
    "print(f'Edges: {len(cran_G_loaded.edges)}')"
   ]
  },
  {
   "cell_type": "code",
   "execution_count": 9,
   "metadata": {},
   "outputs": [
    {
     "name": "stderr",
     "output_type": "stream",
     "text": [
      "\u001b[34;20m2023-05-25 22:18:38,935 [olivia_finder.packagemanager(INFO)] -> package_manager.py:111\u001b[0m\n",
      "Loading package manager from results/package_managers/pypi_scraper.olvpm\n",
      "\u001b[34;20m2023-05-25 22:18:46,264 [olivia_finder.packagemanager(INFO)] -> package_manager.py:114\u001b[0m\n",
      "Package manager loaded\n"
     ]
    },
    {
     "name": "stdout",
     "output_type": "stream",
     "text": [
      "Nodes: 214470\n",
      "Edges: 933955\n"
     ]
    }
   ],
   "source": [
    "pypi_pm_loaded = PackageManager.load_from_persistence(\"results/package_managers/pypi_scraper.olvpm\")\n",
    "pypi_G_loaded = pypi_pm_loaded.get_network()\n",
    "del pypi_pm_loaded\n",
    "print(f'Nodes: {len(pypi_G_loaded.nodes)}')\n",
    "print(f'Edges: {len(pypi_G_loaded.edges)}')"
   ]
  },
  {
   "cell_type": "code",
   "execution_count": 10,
   "metadata": {},
   "outputs": [
    {
     "name": "stderr",
     "output_type": "stream",
     "text": [
      "\u001b[34;20m2023-05-25 22:18:52,740 [olivia_finder.packagemanager(INFO)] -> package_manager.py:111\u001b[0m\n",
      "Loading package manager from results/package_managers/npm_scraper.olvpm\n",
      "\u001b[34;20m2023-05-25 22:19:30,041 [olivia_finder.packagemanager(INFO)] -> package_manager.py:114\u001b[0m\n",
      "Package manager loaded\n"
     ]
    },
    {
     "name": "stdout",
     "output_type": "stream",
     "text": [
      "Nodes: 1059782\n",
      "Edges: 4855094\n"
     ]
    }
   ],
   "source": [
    "npm_pm_loaded = PackageManager.load_from_persistence(\"results/package_managers/npm_scraper.olvpm\")\n",
    "npm_G_loaded = npm_pm_loaded.get_network()\n",
    "del npm_pm_loaded\n",
    "print(f'Nodes: {len(npm_G_loaded.nodes)}')\n",
    "print(f'Edges: {len(npm_G_loaded.edges)}')"
   ]
  },
  {
   "attachments": {},
   "cell_type": "markdown",
   "metadata": {},
   "source": [
    "### Csv files"
   ]
  },
  {
   "attachments": {},
   "cell_type": "markdown",
   "metadata": {},
   "source": [
    "Load the bioconductor network using a CSV file on a package manager object"
   ]
  },
  {
   "cell_type": "code",
   "execution_count": 11,
   "metadata": {},
   "outputs": [
    {
     "name": "stderr",
     "output_type": "stream",
     "text": [
      "\u001b[34;20m2023-05-25 22:19:59,914 [olivia_finder.packagemanager(INFO)] -> package_manager.py:187\u001b[0m\n",
      "Loading csv file from results/csv_datasets/bioconductor/bioconductor_adjlist_scraping.csv\n"
     ]
    },
    {
     "name": "stdout",
     "output_type": "stream",
     "text": [
      "Nodes: 3509\n",
      "Edges: 28320\n"
     ]
    }
   ],
   "source": [
    "bioconductor_pm_csv =  PackageManager.load_from_csv(\n",
    "    \"results/csv_datasets/bioconductor/bioconductor_adjlist_scraping.csv\",\n",
    "    default_format=True\n",
    ")\n",
    "bioconductor_G_csv = bioconductor_pm_csv.get_network()\n",
    "del bioconductor_pm_csv\n",
    "print(f'Nodes: {len(bioconductor_G_csv.nodes)}')\n",
    "print(f'Edges: {len(bioconductor_G_csv.edges)}')"
   ]
  },
  {
   "attachments": {},
   "cell_type": "markdown",
   "metadata": {},
   "source": [
    "Load the NPM network as it has been done up"
   ]
  },
  {
   "cell_type": "code",
   "execution_count": 12,
   "metadata": {},
   "outputs": [
    {
     "name": "stdout",
     "output_type": "stream",
     "text": [
      "Nodes: 1059780\n",
      "Edges: 4851183\n"
     ]
    }
   ],
   "source": [
    "npm_pm_csv =  PackageManager.load_from_csv(\n",
    "    \"results/csv_datasets/npm/npm_adjlist_scraping.csv\",\n",
    "    default_format=True\n",
    ")\n",
    "npm_G_csv = npm_pm_csv.get_network()\n",
    "del npm_pm_csv\n",
    "print(f'Nodes: {len(npm_G_csv.nodes)}')\n",
    "print(f'Edges: {len(npm_G_csv.edges)}')"
   ]
  },
  {
   "attachments": {},
   "cell_type": "markdown",
   "metadata": {},
   "source": [
    "## Build custom network"
   ]
  },
  {
   "attachments": {},
   "cell_type": "markdown",
   "metadata": {},
   "source": [
    "**Instantance the Package Manager object according to our needs**"
   ]
  },
  {
   "attachments": {},
   "cell_type": "markdown",
   "metadata": {},
   "source": [
    "#### Scraping data"
   ]
  },
  {
   "attachments": {},
   "cell_type": "markdown",
   "metadata": {},
   "source": [
    "Build the network for the \"retire\" package"
   ]
  },
  {
   "cell_type": "code",
   "execution_count": 13,
   "metadata": {},
   "outputs": [
    {
     "name": "stdout",
     "output_type": "stream",
     "text": [
      "Nodes: 19\n",
      "Edges: 30\n"
     ]
    }
   ],
   "source": [
    "from olivia_finder.data_source.repository_scrapers.npm import NpmScraper\n",
    "\n",
    "npm_pm = PackageManager(\n",
    "    data_sources=[NpmScraper()]\n",
    ")\n",
    "retire_G  = npm_pm.get_dependency_network(\n",
    "    package_name=\"retire\", \n",
    "    deep_level=3, \n",
    "    generate=True\n",
    ")\n",
    "del npm_pm\n",
    "print(f'Nodes: {len(retire_G.nodes)}')\n",
    "print(f'Edges: {len(retire_G.edges)}')"
   ]
  },
  {
   "attachments": {},
   "cell_type": "markdown",
   "metadata": {},
   "source": [
    "Build the retwork for \"GOstats\" combining 2 differents data source"
   ]
  },
  {
   "cell_type": "code",
   "execution_count": 14,
   "metadata": {},
   "outputs": [
    {
     "name": "stderr",
     "output_type": "stream",
     "text": [
      "Worker 0: Error doing request job: <Response [404]>\n",
      "Request for R: https://www.bioconductor.org/packages/release/bioc/html/R.html failed: response is None\n",
      "Worker 0: Error doing request job: <Response [404]>\n",
      "Request for R: https://cran.r-project.org/package=R failed: response is None\n",
      "Worker 0: Error doing request job: <Response [404]>\n",
      "Request for utils: https://www.bioconductor.org/packages/release/bioc/html/utils.html failed: response is None\n",
      "Worker 0: Error doing request job: <Response [404]>\n",
      "Request for utils: https://cran.r-project.org/package=utils failed: response is None\n",
      "Worker 0: Error doing request job: <Response [404]>\n",
      "Request for methods: https://www.bioconductor.org/packages/release/bioc/html/methods.html failed: response is None\n",
      "Worker 0: Error doing request job: <Response [404]>\n",
      "Request for methods: https://cran.r-project.org/package=methods failed: response is None\n",
      "Worker 0: Error doing request job: <Response [404]>\n",
      "Request for stats4: https://www.bioconductor.org/packages/release/bioc/html/stats4.html failed: response is None\n",
      "Worker 0: Error doing request job: <Response [404]>\n",
      "Request for stats4: https://cran.r-project.org/package=stats4 failed: response is None\n",
      "Worker 0: Error doing request job: <Response [404]>\n",
      "Request for Matrix: https://www.bioconductor.org/packages/release/bioc/html/Matrix.html failed: response is None\n",
      "Worker 0: Error doing request job: <Response [404]>\n",
      "Request for stats: https://www.bioconductor.org/packages/release/bioc/html/stats.html failed: response is None\n",
      "Worker 0: Error doing request job: <Response [404]>\n",
      "Request for stats: https://cran.r-project.org/package=stats failed: response is None\n",
      "Worker 0: Error doing request job: <Response [404]>\n",
      "Request for DBI: https://www.bioconductor.org/packages/release/bioc/html/DBI.html failed: response is None\n",
      "Error while obtaining the imports of the package: 'NoneType' object has no attribute 'find_next_sibling'\n",
      "Worker 0: Error doing request job: <Response [404]>\n",
      "Request for GO.db: https://www.bioconductor.org/packages/release/bioc/html/GO.db.html failed: response is None\n",
      "Worker 0: Error doing request job: <Response [404]>\n",
      "Request for GO.db: https://cran.r-project.org/package=GO.db failed: response is None\n",
      "Worker 0: Error doing request job: <Response [404]>\n",
      "Request for RSQLite: https://www.bioconductor.org/packages/release/bioc/html/RSQLite.html failed: response is None\n",
      "Worker 0: Error doing request job: <Response [404]>\n",
      "Request for XML: https://www.bioconductor.org/packages/release/bioc/html/XML.html failed: response is None\n",
      "Error while obtaining the imports of the package: 'NoneType' object has no attribute 'find_next_sibling'\n",
      "Worker 0: Error doing request job: <Response [404]>\n",
      "Request for RCurl: https://www.bioconductor.org/packages/release/bioc/html/RCurl.html failed: response is None\n",
      "Worker 0: Error doing request job: <Response [404]>\n",
      "Request for grid: https://www.bioconductor.org/packages/release/bioc/html/grid.html failed: response is None\n",
      "Error while obtaining the name of the package: 'NoneType' object has no attribute 'text'\n",
      "Worker 0: Error doing request job: <Response [404]>\n",
      "Request for graphics: https://www.bioconductor.org/packages/release/bioc/html/graphics.html failed: response is None\n",
      "Worker 0: Error doing request job: <Response [404]>\n",
      "Request for graphics: https://cran.r-project.org/package=graphics failed: response is None\n",
      "Worker 0: Error doing request job: <Response [404]>\n",
      "Request for grDevices: https://www.bioconductor.org/packages/release/bioc/html/grDevices.html failed: response is None\n",
      "Worker 0: Error doing request job: <Response [404]>\n",
      "Request for grDevices: https://cran.r-project.org/package=grDevices failed: response is None\n"
     ]
    },
    {
     "name": "stdout",
     "output_type": "stream",
     "text": [
      "Nodes: 39\n",
      "Edges: 131\n"
     ]
    }
   ],
   "source": [
    "from olivia_finder.data_source.repository_scrapers.cran import CranScraper\n",
    "from olivia_finder.data_source.repository_scrapers.bioconductor import BioconductorScraper\n",
    "\n",
    "bioconductor_pm_multiple = PackageManager(\n",
    "    data_sources=[\n",
    "        BioconductorScraper(),\n",
    "        CranScraper(),\n",
    "    ]\n",
    ")\n",
    "GOstats_G = bioconductor_pm_multiple.get_dependency_network(\n",
    "    package_name=\"GOstats\",\n",
    "    deep_level=3,\n",
    "    generate=True\n",
    ")\n",
    "del bioconductor_pm_multiple\n",
    "print(f'Nodes: {len(GOstats_G.nodes)}')\n",
    "print(f'Edges: {len(GOstats_G.edges)}')"
   ]
  },
  {
   "cell_type": "code",
   "execution_count": null,
   "metadata": {},
   "outputs": [],
   "source": [
    "gc.collect()"
   ]
  },
  {
   "attachments": {},
   "cell_type": "markdown",
   "metadata": {},
   "source": [
    "# **2 - Build olivia model**"
   ]
  },
  {
   "cell_type": "code",
   "execution_count": 4,
   "metadata": {},
   "outputs": [],
   "source": [
    "from olivia.model import OliviaNetwork"
   ]
  },
  {
   "attachments": {},
   "cell_type": "markdown",
   "metadata": {},
   "source": [
    "### Using full network data from scraping"
   ]
  },
  {
   "cell_type": "code",
   "execution_count": 16,
   "metadata": {},
   "outputs": [
    {
     "name": "stdout",
     "output_type": "stream",
     "text": [
      "Building Olivia Model\n",
      "     Finding strongly connected components (SCCs)...\n",
      "     Building condensation network...\n",
      "     Adding structural meta-data...\n",
      "     Done\n"
     ]
    }
   ],
   "source": [
    "bioconductor_model = OliviaNetwork()\n",
    "bioconductor_model.build_model(bioconductor_G_loaded)"
   ]
  },
  {
   "cell_type": "code",
   "execution_count": 17,
   "metadata": {},
   "outputs": [
    {
     "name": "stdout",
     "output_type": "stream",
     "text": [
      "Building Olivia Model\n",
      "     Finding strongly connected components (SCCs)...\n",
      "     Building condensation network...\n",
      "     Adding structural meta-data...\n",
      "     Done\n"
     ]
    }
   ],
   "source": [
    "cran_model = OliviaNetwork()\n",
    "cran_model.build_model(cran_G_loaded)"
   ]
  },
  {
   "cell_type": "code",
   "execution_count": 18,
   "metadata": {},
   "outputs": [
    {
     "name": "stdout",
     "output_type": "stream",
     "text": [
      "Building Olivia Model\n",
      "     Finding strongly connected components (SCCs)...\n",
      "     Building condensation network...\n",
      "     Adding structural meta-data...\n",
      "     Done\n"
     ]
    }
   ],
   "source": [
    "pypi_model = OliviaNetwork()\n",
    "pypi_model.build_model(pypi_G_loaded)"
   ]
  },
  {
   "attachments": {},
   "cell_type": "markdown",
   "metadata": {},
   "source": [
    "Also we can load a prebuilt model"
   ]
  },
  {
   "cell_type": "code",
   "execution_count": 19,
   "metadata": {},
   "outputs": [
    {
     "name": "stdout",
     "output_type": "stream",
     "text": [
      "Building Olivia Model\n",
      "     Finding strongly connected components (SCCs)...\n",
      "     Building condensation network...\n",
      "     Adding structural meta-data...\n",
      "     Done\n"
     ]
    }
   ],
   "source": [
    "# npm_model = OliviaNetwork()\n",
    "# npm_model.build_model(npm_G_loaded)"
   ]
  },
  {
   "cell_type": "code",
   "execution_count": 5,
   "metadata": {},
   "outputs": [],
   "source": [
    "# load prebuilt models\n",
    "npm_model = OliviaNetwork()\n",
    "npm_model.load(\"results/olivia_prebuilts/npm.olv\")"
   ]
  },
  {
   "attachments": {},
   "cell_type": "markdown",
   "metadata": {},
   "source": [
    "### Using single package networks"
   ]
  },
  {
   "cell_type": "code",
   "execution_count": 20,
   "metadata": {},
   "outputs": [
    {
     "name": "stdout",
     "output_type": "stream",
     "text": [
      "Building Olivia Model\n",
      "     Finding strongly connected components (SCCs)...\n",
      "     Building condensation network...\n",
      "     Adding structural meta-data...\n",
      "     Done\n"
     ]
    }
   ],
   "source": [
    "retire_network_model = OliviaNetwork()\n",
    "retire_network_model.build_model(retire_G)"
   ]
  },
  {
   "cell_type": "code",
   "execution_count": 21,
   "metadata": {},
   "outputs": [
    {
     "name": "stdout",
     "output_type": "stream",
     "text": [
      "Building Olivia Model\n",
      "     Finding strongly connected components (SCCs)...\n",
      "     Building condensation network...\n",
      "     Adding structural meta-data...\n",
      "     Done\n"
     ]
    }
   ],
   "source": [
    "gostats_network_model = OliviaNetwork()\n",
    "gostats_network_model.build_model(GOstats_G)"
   ]
  },
  {
   "attachments": {},
   "cell_type": "markdown",
   "metadata": {},
   "source": [
    "# **3 - Olivia metrics**"
   ]
  },
  {
   "cell_type": "code",
   "execution_count": 7,
   "metadata": {},
   "outputs": [],
   "source": [
    "from olivia.networkmetrics import attack_vulnerability, failure_vulnerability"
   ]
  },
  {
   "cell_type": "code",
   "execution_count": 23,
   "metadata": {},
   "outputs": [
    {
     "name": "stdout",
     "output_type": "stream",
     "text": [
      "Bioconductor\n",
      "Computing Reach\n",
      "     Processing node: 3K      \n",
      "Attack vulnerability: 2109\n",
      "Reach retrieved from metrics cache\n",
      "Failure vulnerability: 24.817326873753206\n"
     ]
    }
   ],
   "source": [
    "bioconductor_atack_vulnerability = attack_vulnerability(bioconductor_model)\n",
    "bioconductor_failure_vulnerability = failure_vulnerability(bioconductor_model)"
   ]
  },
  {
   "cell_type": "code",
   "execution_count": 24,
   "metadata": {},
   "outputs": [
    {
     "name": "stdout",
     "output_type": "stream",
     "text": [
      "CRAN\n",
      "Computing Reach\n",
      "     Processing node: 18K      \n",
      "Attack vulnerability: 17415\n",
      "Reach retrieved from metrics cache\n",
      "Failure vulnerability: 33.597498277415596\n"
     ]
    }
   ],
   "source": [
    "cran_atack_vulnerability = attack_vulnerability(cran_model)\n",
    "cran_failure_vulnerability = failure_vulnerability(cran_model)"
   ]
  },
  {
   "cell_type": "code",
   "execution_count": 25,
   "metadata": {},
   "outputs": [
    {
     "name": "stdout",
     "output_type": "stream",
     "text": [
      "PyPI\n",
      "Computing Reach\n",
      "     Processing node: 213K      \n",
      "Attack vulnerability: 145000\n",
      "Reach retrieved from metrics cache\n",
      "Failure vulnerability: 489.5503893318413\n"
     ]
    }
   ],
   "source": [
    "pypi_atack_vulnerability = attack_vulnerability(pypi_model)\n",
    "pypi_failure_vulnerability = failure_vulnerability(pypi_model)"
   ]
  },
  {
   "cell_type": "code",
   "execution_count": 8,
   "metadata": {},
   "outputs": [
    {
     "name": "stdout",
     "output_type": "stream",
     "text": [
      "Computing Reach\n",
      "     Processing node: 902K      \r"
     ]
    },
    {
     "ename": "",
     "evalue": "",
     "output_type": "error",
     "traceback": [
      "\u001b[1;31mCannot execute code, session has been disposed. Please try restarting the Kernel."
     ]
    },
    {
     "ename": "",
     "evalue": "",
     "output_type": "error",
     "traceback": [
      "\u001b[1;31mThe Kernel crashed while executing code in the the current cell or a previous cell. Please review the code in the cell(s) to identify a possible cause of the failure. Click <a href='https://aka.ms/vscodeJupyterKernelCrash'>here</a> for more info. View Jupyter <a href='command:jupyter.viewOutput'>log</a> for further details."
     ]
    }
   ],
   "source": [
    "npm_atack_vulnerability = attack_vulnerability(npm_model)\n",
    "npm_failure_vulnerability = failure_vulnerability(npm_model)"
   ]
  },
  {
   "cell_type": "code",
   "execution_count": null,
   "metadata": {},
   "outputs": [],
   "source": [
    "retire_atack_vulnerability = attack_vulnerability(retire_network_model)\n",
    "retire_failure_vulnerability = failure_vulnerability(retire_network_model)"
   ]
  },
  {
   "cell_type": "code",
   "execution_count": null,
   "metadata": {},
   "outputs": [
    {
     "name": "stdout",
     "output_type": "stream",
     "text": [
      "GOstats\n",
      "Computing Reach\n",
      "     Processing node: 0K      \n",
      "Attack vulnerability: 39\n",
      "Reach retrieved from metrics cache\n",
      "Failure vulnerability: 7.205128205128205\n"
     ]
    }
   ],
   "source": [
    "gostats_atack_vulnerability = attack_vulnerability(gostats_network_model)\n",
    "gostats_failure_vulnerability = failure_vulnerability(gostats_network_model)"
   ]
  },
  {
   "attachments": {},
   "cell_type": "markdown",
   "metadata": {},
   "source": []
  }
 ],
 "metadata": {
  "kernelspec": {
   "display_name": ".venv_3816",
   "language": "python",
   "name": "python3"
  },
  "language_info": {
   "codemirror_mode": {
    "name": "ipython",
    "version": 3
   },
   "file_extension": ".py",
   "mimetype": "text/x-python",
   "name": "python",
   "nbconvert_exporter": "python",
   "pygments_lexer": "ipython3",
   "version": "3.8.16"
  },
  "orig_nbformat": 4
 },
 "nbformat": 4,
 "nbformat_minor": 2
}
