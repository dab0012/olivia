{
 "cells": [
  {
   "cell_type": "markdown",
   "id": "6751a681",
   "metadata": {
    "papermill": {
     "duration": 0.004391,
     "end_time": "2023-07-01T16:52:22.677343",
     "exception": false,
     "start_time": "2023-07-01T16:52:22.672952",
     "status": "completed"
    },
    "tags": []
   },
   "source": [
    "# Olivia model builder"
   ]
  },
  {
   "cell_type": "code",
   "execution_count": 1,
   "id": "103f6cc8",
   "metadata": {
    "execution": {
     "iopub.execute_input": "2023-07-01T16:52:22.687179Z",
     "iopub.status.busy": "2023-07-01T16:52:22.685805Z",
     "iopub.status.idle": "2023-07-01T16:52:53.705425Z",
     "shell.execute_reply": "2023-07-01T16:52:53.703771Z"
    },
    "papermill": {
     "duration": 31.028489,
     "end_time": "2023-07-01T16:52:53.709496",
     "exception": false,
     "start_time": "2023-07-01T16:52:22.681007",
     "status": "completed"
    },
    "tags": []
   },
   "outputs": [
    {
     "name": "stdout",
     "output_type": "stream",
     "text": [
      "\u001b[33mWARNING: Running pip as the 'root' user can result in broken permissions and conflicting behaviour with the system package manager. It is recommended to use a virtual environment instead: https://pip.pypa.io/warnings/venv\u001b[0m\u001b[33m\r\n",
      "\u001b[0m"
     ]
    }
   ],
   "source": [
    "!pip install -r /kaggle/input/olivia-finder-repo/olivia/requirements.txt"
   ]
  },
  {
   "cell_type": "code",
   "execution_count": 2,
   "id": "e1ca2edf",
   "metadata": {
    "execution": {
     "iopub.execute_input": "2023-07-01T16:52:53.719337Z",
     "iopub.status.busy": "2023-07-01T16:52:53.718941Z",
     "iopub.status.idle": "2023-07-01T16:52:54.551691Z",
     "shell.execute_reply": "2023-07-01T16:52:54.550345Z"
    },
    "papermill": {
     "duration": 0.840302,
     "end_time": "2023-07-01T16:52:54.554072",
     "exception": false,
     "start_time": "2023-07-01T16:52:53.713770",
     "status": "completed"
    },
    "tags": []
   },
   "outputs": [],
   "source": [
    "# Append the path to the olivia_finder package\n",
    "import sys\n",
    "sys.path.append('/kaggle/input/olivia-finder-repo/olivia/')\n",
    "\n",
    "from olivia.model import OliviaNetwork"
   ]
  },
  {
   "cell_type": "code",
   "execution_count": 3,
   "id": "0d836cb3",
   "metadata": {
    "execution": {
     "iopub.execute_input": "2023-07-01T16:52:54.562376Z",
     "iopub.status.busy": "2023-07-01T16:52:54.562014Z",
     "iopub.status.idle": "2023-07-01T16:52:54.567229Z",
     "shell.execute_reply": "2023-07-01T16:52:54.566213Z"
    },
    "papermill": {
     "duration": 0.011685,
     "end_time": "2023-07-01T16:52:54.569411",
     "exception": false,
     "start_time": "2023-07-01T16:52:54.557726",
     "status": "completed"
    },
    "tags": []
   },
   "outputs": [],
   "source": [
    "def build_model(data_path):\n",
    "    model = OliviaNetwork()\n",
    "    model.build_model(data_path)\n",
    "    return model"
   ]
  },
  {
   "cell_type": "code",
   "execution_count": 4,
   "id": "1e7adebd",
   "metadata": {
    "execution": {
     "iopub.execute_input": "2023-07-01T16:52:54.577639Z",
     "iopub.status.busy": "2023-07-01T16:52:54.577340Z",
     "iopub.status.idle": "2023-07-01T16:52:54.582737Z",
     "shell.execute_reply": "2023-07-01T16:52:54.581548Z"
    },
    "papermill": {
     "duration": 0.0118,
     "end_time": "2023-07-01T16:52:54.584774",
     "exception": false,
     "start_time": "2023-07-01T16:52:54.572974",
     "status": "completed"
    },
    "tags": []
   },
   "outputs": [],
   "source": [
    "INPUT_PATH = \"/kaggle/input/network-graphs\"\n",
    "OUTPUT_PATH = \"/kaggle/working\""
   ]
  },
  {
   "cell_type": "markdown",
   "id": "5110e158",
   "metadata": {
    "papermill": {
     "duration": 0.003009,
     "end_time": "2023-07-01T16:52:54.591411",
     "exception": false,
     "start_time": "2023-07-01T16:52:54.588402",
     "status": "completed"
    },
    "tags": []
   },
   "source": [
    "Bioconductor"
   ]
  },
  {
   "cell_type": "code",
   "execution_count": 5,
   "id": "264acbc3",
   "metadata": {
    "execution": {
     "iopub.execute_input": "2023-07-01T16:52:54.601783Z",
     "iopub.status.busy": "2023-07-01T16:52:54.601411Z",
     "iopub.status.idle": "2023-07-01T16:52:55.512117Z",
     "shell.execute_reply": "2023-07-01T16:52:55.510236Z"
    },
    "papermill": {
     "duration": 0.9208,
     "end_time": "2023-07-01T16:52:55.515362",
     "exception": false,
     "start_time": "2023-07-01T16:52:54.594562",
     "status": "completed"
    },
    "tags": []
   },
   "outputs": [
    {
     "name": "stdout",
     "output_type": "stream",
     "text": [
      "Reading dependencies file...\n",
      "Building Olivia Model\n",
      "     Finding strongly connected components (SCCs)...\n",
      "     Building condensation network...\n",
      "     Adding structural meta-data...\n",
      "     Done\n"
     ]
    }
   ],
   "source": [
    "bioconductor = build_model(f'{INPUT_PATH}/bioconductor_adjlist_scraping.bz2')\n",
    "bioconductor.save(f'{OUTPUT_PATH}/bioconductor_adjlist_scraping.olv')"
   ]
  },
  {
   "cell_type": "markdown",
   "id": "ac7e73dc",
   "metadata": {
    "papermill": {
     "duration": 0.003196,
     "end_time": "2023-07-01T16:52:55.522540",
     "exception": false,
     "start_time": "2023-07-01T16:52:55.519344",
     "status": "completed"
    },
    "tags": []
   },
   "source": [
    "CRAN"
   ]
  },
  {
   "cell_type": "code",
   "execution_count": 6,
   "id": "55fd55c7",
   "metadata": {
    "execution": {
     "iopub.execute_input": "2023-07-01T16:52:55.530917Z",
     "iopub.status.busy": "2023-07-01T16:52:55.530569Z",
     "iopub.status.idle": "2023-07-01T16:52:58.980677Z",
     "shell.execute_reply": "2023-07-01T16:52:58.978859Z"
    },
    "papermill": {
     "duration": 3.457613,
     "end_time": "2023-07-01T16:52:58.983464",
     "exception": false,
     "start_time": "2023-07-01T16:52:55.525851",
     "status": "completed"
    },
    "tags": []
   },
   "outputs": [
    {
     "name": "stdout",
     "output_type": "stream",
     "text": [
      "Reading dependencies file...\n",
      "Building Olivia Model\n",
      "     Finding strongly connected components (SCCs)...\n",
      "     Building condensation network...\n",
      "     Adding structural meta-data...\n",
      "     Done\n"
     ]
    }
   ],
   "source": [
    "cran_1 = build_model(f'{INPUT_PATH}/cran_adjlist_scraping.bz2')\n",
    "cran_1.save(f'{OUTPUT_PATH}/cran_adjlist_scraping.olv')"
   ]
  },
  {
   "cell_type": "code",
   "execution_count": 7,
   "id": "cd0fcc8b",
   "metadata": {
    "execution": {
     "iopub.execute_input": "2023-07-01T16:52:58.993666Z",
     "iopub.status.busy": "2023-07-01T16:52:58.993266Z",
     "iopub.status.idle": "2023-07-01T16:53:01.816018Z",
     "shell.execute_reply": "2023-07-01T16:53:01.814537Z"
    },
    "papermill": {
     "duration": 2.831093,
     "end_time": "2023-07-01T16:53:01.818895",
     "exception": false,
     "start_time": "2023-07-01T16:52:58.987802",
     "status": "completed"
    },
    "tags": []
   },
   "outputs": [
    {
     "name": "stdout",
     "output_type": "stream",
     "text": [
      "Reading dependencies file...\n",
      "Building Olivia Model\n",
      "     Finding strongly connected components (SCCs)...\n",
      "     Building condensation network...\n",
      "     Adding structural meta-data...\n",
      "     Done\n"
     ]
    }
   ],
   "source": [
    "cran_2 = build_model(f'{INPUT_PATH}/cran_adjlist_librariesio_filtered_(imports_depends).bz2')\n",
    "cran_2.save(f'{OUTPUT_PATH}/cran_adjlist_librariesio_filtered_(imports_depends).olv')"
   ]
  },
  {
   "cell_type": "markdown",
   "id": "3cfa114e",
   "metadata": {
    "papermill": {
     "duration": 0.003968,
     "end_time": "2023-07-01T16:53:01.827370",
     "exception": false,
     "start_time": "2023-07-01T16:53:01.823402",
     "status": "completed"
    },
    "tags": []
   },
   "source": [
    "PyPI"
   ]
  },
  {
   "cell_type": "code",
   "execution_count": 8,
   "id": "28c6bff9",
   "metadata": {
    "execution": {
     "iopub.execute_input": "2023-07-01T16:53:01.837669Z",
     "iopub.status.busy": "2023-07-01T16:53:01.837269Z",
     "iopub.status.idle": "2023-07-01T16:53:37.372489Z",
     "shell.execute_reply": "2023-07-01T16:53:37.371408Z"
    },
    "papermill": {
     "duration": 35.54376,
     "end_time": "2023-07-01T16:53:37.375492",
     "exception": false,
     "start_time": "2023-07-01T16:53:01.831732",
     "status": "completed"
    },
    "tags": []
   },
   "outputs": [
    {
     "name": "stdout",
     "output_type": "stream",
     "text": [
      "Reading dependencies file...\n",
      "Building Olivia Model\n",
      "     Finding strongly connected components (SCCs)...\n",
      "     Building condensation network...\n",
      "     Adding structural meta-data...\n",
      "     Done\n"
     ]
    }
   ],
   "source": [
    "pypi_1 = build_model(f'{INPUT_PATH}/pypi_adjlist_scraping.bz2')\n",
    "pypi_1.save(f'{OUTPUT_PATH}/pypi_adjlist_scraping.olv')"
   ]
  },
  {
   "cell_type": "code",
   "execution_count": 9,
   "id": "bdca5704",
   "metadata": {
    "execution": {
     "iopub.execute_input": "2023-07-01T16:53:37.386744Z",
     "iopub.status.busy": "2023-07-01T16:53:37.386285Z",
     "iopub.status.idle": "2023-07-01T16:53:43.631329Z",
     "shell.execute_reply": "2023-07-01T16:53:43.630238Z"
    },
    "papermill": {
     "duration": 6.253707,
     "end_time": "2023-07-01T16:53:43.633950",
     "exception": false,
     "start_time": "2023-07-01T16:53:37.380243",
     "status": "completed"
    },
    "tags": []
   },
   "outputs": [
    {
     "name": "stdout",
     "output_type": "stream",
     "text": [
      "Reading dependencies file...\n",
      "Building Olivia Model\n",
      "     Finding strongly connected components (SCCs)...\n",
      "     Building condensation network...\n",
      "     Adding structural meta-data...\n",
      "     Done\n"
     ]
    }
   ],
   "source": [
    "pypi_2 = build_model(f'{INPUT_PATH}/pypi_adjlist_librariesio_filtered.bz2')\n",
    "pypi_2.save(f'{OUTPUT_PATH}/pypi_adjlist_librariesio_filtered.olv')"
   ]
  },
  {
   "cell_type": "markdown",
   "id": "c6cb7991",
   "metadata": {
    "papermill": {
     "duration": 0.004407,
     "end_time": "2023-07-01T16:53:43.643265",
     "exception": false,
     "start_time": "2023-07-01T16:53:43.638858",
     "status": "completed"
    },
    "tags": []
   },
   "source": [
    "npm"
   ]
  },
  {
   "cell_type": "code",
   "execution_count": 10,
   "id": "3e500a17",
   "metadata": {
    "execution": {
     "iopub.execute_input": "2023-07-01T16:53:43.654207Z",
     "iopub.status.busy": "2023-07-01T16:53:43.653809Z",
     "iopub.status.idle": "2023-07-01T17:01:05.956281Z",
     "shell.execute_reply": "2023-07-01T17:01:05.954447Z"
    },
    "papermill": {
     "duration": 442.311535,
     "end_time": "2023-07-01T17:01:05.959243",
     "exception": false,
     "start_time": "2023-07-01T16:53:43.647708",
     "status": "completed"
    },
    "tags": []
   },
   "outputs": [
    {
     "name": "stdout",
     "output_type": "stream",
     "text": [
      "Reading dependencies file...\n",
      "Building Olivia Model\n",
      "     Finding strongly connected components (SCCs)...\n",
      "     Building condensation network...\n",
      "     Adding structural meta-data...\n",
      "     Done\n"
     ]
    }
   ],
   "source": [
    "npm_1 = build_model(f'{INPUT_PATH}/npm_adjlist_scraping.bz2')\n",
    "npm_1.save(f'{OUTPUT_PATH}/npm_adjlist_scraping.olv')"
   ]
  },
  {
   "cell_type": "code",
   "execution_count": 11,
   "id": "a6bdbfbe",
   "metadata": {
    "execution": {
     "iopub.execute_input": "2023-07-01T17:01:05.971604Z",
     "iopub.status.busy": "2023-07-01T17:01:05.971207Z",
     "iopub.status.idle": "2023-07-01T17:05:11.253019Z",
     "shell.execute_reply": "2023-07-01T17:05:11.251108Z"
    },
    "papermill": {
     "duration": 245.291643,
     "end_time": "2023-07-01T17:05:11.256298",
     "exception": false,
     "start_time": "2023-07-01T17:01:05.964655",
     "status": "completed"
    },
    "tags": []
   },
   "outputs": [
    {
     "name": "stdout",
     "output_type": "stream",
     "text": [
      "Reading dependencies file...\n",
      "Building Olivia Model\n",
      "     Finding strongly connected components (SCCs)...\n",
      "     Building condensation network...\n",
      "     Adding structural meta-data...\n",
      "     Done\n"
     ]
    }
   ],
   "source": [
    "npm_2 = build_model(f'{INPUT_PATH}/npm_adjlist_librariesio_filtered.bz2')\n",
    "npm_2.save(f'{OUTPUT_PATH}/npm_adjlist_librariesio_filtered.olv')"
   ]
  }
 ],
 "metadata": {
  "kernelspec": {
   "display_name": "Python 3",
   "language": "python",
   "name": "python3"
  },
  "language_info": {
   "codemirror_mode": {
    "name": "ipython",
    "version": 3
   },
   "file_extension": ".py",
   "mimetype": "text/x-python",
   "name": "python",
   "nbconvert_exporter": "python",
   "pygments_lexer": "ipython3",
   "version": "3.10.10"
  },
  "papermill": {
   "default_parameters": {},
   "duration": 782.420587,
   "end_time": "2023-07-01T17:05:14.691726",
   "environment_variables": {},
   "exception": null,
   "input_path": "__notebook__.ipynb",
   "output_path": "__notebook__.ipynb",
   "parameters": {},
   "start_time": "2023-07-01T16:52:12.271139",
   "version": "2.4.0"
  }
 },
 "nbformat": 4,
 "nbformat_minor": 5
}
