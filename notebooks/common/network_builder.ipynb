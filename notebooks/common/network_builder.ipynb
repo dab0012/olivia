{
 "cells": [
  {
   "attachments": {},
   "cell_type": "markdown",
   "metadata": {},
   "source": [
    "# Olivia network builder"
   ]
  },
  {
   "attachments": {},
   "cell_type": "markdown",
   "metadata": {},
   "source": [
    "This notebook requires Olivia, so we make sure to have the installed Olivia dependencies"
   ]
  },
  {
   "cell_type": "code",
   "execution_count": 1,
   "metadata": {},
   "outputs": [
    {
     "name": "stdout",
     "output_type": "stream",
     "text": [
      "Requirement already satisfied: intbitset==2.4.0 in /home/dnllns/.pyenv/versions/3.8.16/envs/.venv_3816/lib/python3.8/site-packages (from -r requirements.txt (line 1)) (2.4.0)\n",
      "Requirement already satisfied: numpy==1.18.5 in /home/dnllns/.pyenv/versions/3.8.16/envs/.venv_3816/lib/python3.8/site-packages (from -r requirements.txt (line 2)) (1.18.5)\n",
      "Requirement already satisfied: networkx==2.4 in /home/dnllns/.pyenv/versions/3.8.16/envs/.venv_3816/lib/python3.8/site-packages (from -r requirements.txt (line 3)) (2.4)\n",
      "Requirement already satisfied: pandas==1.1.5 in /home/dnllns/.pyenv/versions/3.8.16/envs/.venv_3816/lib/python3.8/site-packages (from -r requirements.txt (line 4)) (1.1.5)\n",
      "Requirement already satisfied: matplotlib==3.2.2 in /home/dnllns/.pyenv/versions/3.8.16/envs/.venv_3816/lib/python3.8/site-packages (from -r requirements.txt (line 5)) (3.2.2)\n",
      "Requirement already satisfied: six in /home/dnllns/.pyenv/versions/3.8.16/envs/.venv_3816/lib/python3.8/site-packages (from intbitset==2.4.0->-r requirements.txt (line 1)) (1.16.0)\n",
      "Requirement already satisfied: decorator>=4.3.0 in /home/dnllns/.pyenv/versions/3.8.16/envs/.venv_3816/lib/python3.8/site-packages (from networkx==2.4->-r requirements.txt (line 3)) (5.1.1)\n",
      "Requirement already satisfied: python-dateutil>=2.7.3 in /home/dnllns/.pyenv/versions/3.8.16/envs/.venv_3816/lib/python3.8/site-packages (from pandas==1.1.5->-r requirements.txt (line 4)) (2.8.2)\n",
      "Requirement already satisfied: pytz>=2017.2 in /home/dnllns/.pyenv/versions/3.8.16/envs/.venv_3816/lib/python3.8/site-packages (from pandas==1.1.5->-r requirements.txt (line 4)) (2023.3)\n",
      "Requirement already satisfied: cycler>=0.10 in /home/dnllns/.pyenv/versions/3.8.16/envs/.venv_3816/lib/python3.8/site-packages (from matplotlib==3.2.2->-r requirements.txt (line 5)) (0.11.0)\n",
      "Requirement already satisfied: kiwisolver>=1.0.1 in /home/dnllns/.pyenv/versions/3.8.16/envs/.venv_3816/lib/python3.8/site-packages (from matplotlib==3.2.2->-r requirements.txt (line 5)) (1.4.4)\n",
      "Requirement already satisfied: pyparsing!=2.0.4,!=2.1.2,!=2.1.6,>=2.0.1 in /home/dnllns/.pyenv/versions/3.8.16/envs/.venv_3816/lib/python3.8/site-packages (from matplotlib==3.2.2->-r requirements.txt (line 5)) (3.0.9)\n"
     ]
    }
   ],
   "source": [
    "!pip install -r requirements.txt"
   ]
  },
  {
   "cell_type": "code",
   "execution_count": 1,
   "metadata": {},
   "outputs": [],
   "source": [
    "import sys\n",
    "sys.path.append('../../olivia')\n",
    "\n",
    "from olivia.model import OliviaNetwork"
   ]
  },
  {
   "attachments": {},
   "cell_type": "markdown",
   "metadata": {},
   "source": [
    "## Graph builder"
   ]
  },
  {
   "attachments": {},
   "cell_type": "markdown",
   "metadata": {},
   "source": [
    "Auxiliary function to generate a graph from the structure of list of links stored in a CSV file"
   ]
  },
  {
   "cell_type": "code",
   "execution_count": 3,
   "metadata": {},
   "outputs": [],
   "source": [
    "from time import time\n",
    "import os\n",
    "from typing import Any\n",
    "import psutil\n",
    "import pandas as pd\n",
    "import networkx as nx\n",
    "\n",
    "\n",
    "def add_chunk(\n",
    "    df, G, dependent_field, dependency_field,\n",
    "    filter_field=None,\n",
    "    filter_value=None\n",
    "):\n",
    "    \"\"\" Utility method for build_dependency_network\"\"\"\n",
    "\n",
    "    filtered = df[df[filter_field] == filter_value] if filter_field else df\n",
    "    links = list(zip(filtered[dependency_field], filtered[dependent_field]))\n",
    "    G.add_edges_from(links)\n",
    "    return G\n",
    "\n",
    "def build_dependency_network(\n",
    "    input_file,\n",
    "    output_file,\n",
    "    chunk_size,\n",
    "    dependent_field: str = 'Project Name',\n",
    "    dependency_field: str = 'Dependency Name',\n",
    "    filter_field = None,\n",
    "    filter_value = None,\n",
    "    verbose: bool = True\n",
    ") -> None:\n",
    "\n",
    "    \"\"\"\n",
    "    Builds a dependency network from a file with package dependencies information\n",
    "\n",
    "    Reads from a CSV file and writes to a txt file with adjacency lists\n",
    "    corresponding to network model. Compression methods are inferred from file\n",
    "    extension (.gz and .bz2 are supported from NetworkX IO methods)\n",
    "\n",
    "    Parameters\n",
    "    ----------\n",
    "    input_file : str\n",
    "        Path to csv file with dependencies information\n",
    "    output_file : str\n",
    "        Path to write resulting network file\n",
    "    chunk_size : int\n",
    "        Amount of lines to be read at once from input_file in batch  processing.\n",
    "    dependent_field : str\n",
    "        DataFrame column Id for the dependent package\n",
    "    dependency_field : str\n",
    "        Dataframe column Id for the dependency package\n",
    "    filter_field : str, optional\n",
    "        If not None, only add records where filter_field equals filter_value\n",
    "    filter_value : str, optional\n",
    "        If not None, only add records where filter_field equals filter_value\n",
    "    verbose: bool, optional\n",
    "        If True, processing information is written to standard output.\n",
    "    Returns\n",
    "    -------\n",
    "        None\n",
    "    \"\"\"\n",
    "\n",
    "    # Print only if verbose\n",
    "    vprint = print if verbose else lambda *a, **k: None\n",
    "    process = psutil.Process(os.getpid())\n",
    "    vprint(\"Using process \", process)\n",
    "    t = time()\n",
    "    try:\n",
    "        vprint(f'Opening \"{input_file}\"... ', end='')\n",
    "        # Obtain reader iterator\n",
    "        reader = pd.read_csv(input_file, chunksize=chunk_size)\n",
    "        vprint('OK')\n",
    "        vprint('Initializing graph... ', end='')\n",
    "        # New NetworkX directed Graph\n",
    "        G = nx.DiGraph()\n",
    "        vprint('OK')\n",
    "        for i, chunk in enumerate(reader):\n",
    "            # Add dependencies from chunk to G\n",
    "            add_chunk(\n",
    "                chunk, \n",
    "                G,\n",
    "                dependent_field=dependent_field,\n",
    "                dependency_field=dependency_field,\n",
    "                filter_field=filter_field,\n",
    "                filter_value=filter_value\n",
    "            )\n",
    "            vprint(f'{round(i*chunk_size/1e6,1)}M lines | {len(G)} nodes,{len(G.edges)} deps. ({int(time()-t)}s) {round(process.memory_info().rss/1e6,1)}Mb ')\n",
    "        vprint('Done reading file')\n",
    "        vprint(f'Saving network as \"{output_file}\"... ', end='')\n",
    "        nx.write_adjlist(G, output_file)\n",
    "        vprint('OK')\n",
    "    except Exception as e:\n",
    "        print('\\n', e)"
   ]
  },
  {
   "attachments": {},
   "cell_type": "markdown",
   "metadata": {},
   "source": [
    "## Builds"
   ]
  },
  {
   "attachments": {},
   "cell_type": "markdown",
   "metadata": {},
   "source": [
    "**Bioconductor**"
   ]
  },
  {
   "cell_type": "code",
   "execution_count": 4,
   "metadata": {},
   "outputs": [
    {
     "name": "stdout",
     "output_type": "stream",
     "text": [
      "Using process  psutil.Process(pid=189586, name='python', status='running', started='21:49:00')\n",
      "Opening \"results/csv_datasets/bioconductor/bioconductor_adjlist_scraping.csv\"... OK\n",
      "Initializing graph... OK\n",
      "0.0M lines | 3509 nodes,28320 deps. (0s) 112.9Mb \n",
      "Done reading file\n",
      "Saving network as \"results/network_models/bioconductor_adjlist_scraping.bz2\"... OK\n",
      "Reading dependencies file...\n",
      "Building Olivia Model\n",
      "     Finding strongly connected components (SCCs)...\n",
      "     Building condensation network...\n",
      "     Adding structural meta-data...\n",
      "     Done\n"
     ]
    }
   ],
   "source": [
    "# Build Bioconductor network with scraping data\n",
    "build_dependency_network(\n",
    "    input_file='results/csv_datasets/bioconductor/bioconductor_adjlist_scraping.csv',\n",
    "    output_file='results/network_models/bioconductor_adjlist_scraping.bz2',\n",
    "    chunk_size=int(1e6),\n",
    "    dependent_field=\"name\",\n",
    "    dependency_field=\"dependency\"\n",
    ")\n",
    "\n",
    "# Build olivia model from network\n",
    "on = OliviaNetwork()\n",
    "on.build_model('results/network_models/bioconductor_adjlist_scraping.bz2')\n",
    "on.save('results/olivia_prebuilts/bioconductor.olv')"
   ]
  },
  {
   "attachments": {},
   "cell_type": "markdown",
   "metadata": {},
   "source": [
    "**CRAN**"
   ]
  },
  {
   "cell_type": "code",
   "execution_count": 5,
   "metadata": {},
   "outputs": [
    {
     "name": "stdout",
     "output_type": "stream",
     "text": [
      "Using process  psutil.Process(pid=189586, name='python', status='running', started='21:49:00')\n",
      "Opening \"results/csv_datasets/cran/cran_adjlist_scraping.csv\"... OK\n",
      "Initializing graph... OK\n",
      "0.0M lines | 18671 nodes,113273 deps. (0s) 185.7Mb \n",
      "Done reading file\n",
      "Saving network as \"results/network_models/cran_adjlist_scraping.bz2\"... OK\n",
      "Reading dependencies file...\n",
      "Building Olivia Model\n",
      "     Finding strongly connected components (SCCs)...\n",
      "     Building condensation network...\n",
      "     Adding structural meta-data...\n",
      "     Done\n"
     ]
    }
   ],
   "source": [
    "# Build CRAN network with scraping data\n",
    "build_dependency_network(\n",
    "    input_file='results/csv_datasets/cran/cran_adjlist_scraping.csv',\n",
    "    output_file='results/network_models/cran_adjlist_scraping.bz2',\n",
    "    chunk_size=1e6,\n",
    "    dependent_field=\"name\",\n",
    "    dependency_field=\"dependency\"\n",
    ")\n",
    "\n",
    "# Build olivia model from network\n",
    "on = OliviaNetwork()\n",
    "on.build_model('results/network_models/cran_adjlist_scraping.bz2')\n",
    "on.save('results/olivia_prebuilts/cran.olv')"
   ]
  },
  {
   "attachments": {},
   "cell_type": "markdown",
   "metadata": {},
   "source": [
    "**PyPi**"
   ]
  },
  {
   "cell_type": "code",
   "execution_count": 6,
   "metadata": {},
   "outputs": [
    {
     "name": "stdout",
     "output_type": "stream",
     "text": [
      "Using process  psutil.Process(pid=189586, name='python', status='running', started='21:49:00')\n",
      "Opening \"results/csv_datasets/pypi/pypi_adjlist_scraping.csv\"... OK\n",
      "Initializing graph... OK\n",
      "0.0M lines | 214470 nodes,933955 deps. (3s) 776.3Mb \n",
      "Done reading file\n",
      "Saving network as \"results/network_models/pypi_adjlist_scraping.bz2\"... OK\n",
      "Reading dependencies file...\n",
      "Building Olivia Model\n",
      "     Finding strongly connected components (SCCs)...\n",
      "     Building condensation network...\n",
      "     Adding structural meta-data...\n",
      "     Done\n"
     ]
    }
   ],
   "source": [
    "# Building PyPI network with scraping data\n",
    "build_dependency_network(\n",
    "    input_file='results/csv_datasets/pypi/pypi_adjlist_scraping.csv',\n",
    "    output_file='results/network_models/pypi_adjlist_scraping.bz2',\n",
    "    chunk_size=1e6,\n",
    "    dependent_field=\"name\",\n",
    "    dependency_field=\"dependency\"\n",
    ")\n",
    "\n",
    "# Build olivia model from network\n",
    "on = OliviaNetwork()\n",
    "on.build_model('results/network_models/pypi_adjlist_scraping.bz2')\n",
    "on.save('results/olivia_prebuilts/pypi.olv')"
   ]
  },
  {
   "attachments": {},
   "cell_type": "markdown",
   "metadata": {},
   "source": [
    "**NPM**"
   ]
  },
  {
   "cell_type": "code",
   "execution_count": 7,
   "metadata": {},
   "outputs": [
    {
     "name": "stdout",
     "output_type": "stream",
     "text": [
      "Using process  psutil.Process(pid=189586, name='python', status='running', started='21:49:00')\n",
      "Opening \"results/csv_datasets/npm/npm_adjlist_scraping.csv\"... OK\n",
      "Initializing graph... OK\n",
      "0.0M lines | 245059 nodes,1000000 deps. (5s) 1729.9Mb \n",
      "1.0M lines | 482752 nodes,2000000 deps. (10s) 2272.4Mb \n",
      "2.0M lines | 698525 nodes,3000000 deps. (15s) 2756.3Mb \n",
      "3.0M lines | 888042 nodes,4000000 deps. (19s) 3295.0Mb \n",
      "4.0M lines | 1059780 nodes,4855094 deps. (25s) 3675.1Mb \n",
      "Done reading file\n",
      "Saving network as \"results/network_models/npm_adjlist_scraping.bz2\"... OK\n",
      "Reading dependencies file...\n",
      "Building Olivia Model\n",
      "     Finding strongly connected components (SCCs)...\n",
      "     Building condensation network...\n",
      "     Adding structural meta-data...\n",
      "     Done\n"
     ]
    }
   ],
   "source": [
    "# Building NPM network with scraping data\n",
    "build_dependency_network(\n",
    "    input_file='results/csv_datasets/npm/npm_adjlist_scraping.csv',\n",
    "    output_file='results/network_models/npm_adjlist_scraping.bz2',\n",
    "    chunk_size=1e6,\n",
    "    dependent_field=\"name\",\n",
    "    dependency_field=\"dependency\"\n",
    ")\n",
    "\n",
    "# Build olivia model from network\n",
    "on = OliviaNetwork()\n",
    "on.build_model('results/network_models/npm_adjlist_scraping.bz2')\n",
    "on.save('results/olivia_prebuilts/npm.olv')"
   ]
  }
 ],
 "metadata": {
  "kernelspec": {
   "display_name": "Python 3",
   "language": "python",
   "name": "python3"
  },
  "language_info": {
   "codemirror_mode": {
    "name": "ipython",
    "version": 3
   },
   "file_extension": ".py",
   "mimetype": "text/x-python",
   "name": "python",
   "nbconvert_exporter": "python",
   "pygments_lexer": "ipython3",
   "version": "3.8.16"
  }
 },
 "nbformat": 4,
 "nbformat_minor": 2
}
