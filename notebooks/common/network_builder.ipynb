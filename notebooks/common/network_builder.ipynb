{
 "cells": [
  {
   "attachments": {},
   "cell_type": "markdown",
   "metadata": {},
   "source": [
    "# Network builder"
   ]
  },
  {
   "attachments": {},
   "cell_type": "markdown",
   "metadata": {},
   "source": [
    "#### Aux"
   ]
  },
  {
   "attachments": {},
   "cell_type": "markdown",
   "metadata": {},
   "source": [
    "Auxiliary function to generate a graph from the structure of list of links stored in a CSV file"
   ]
  },
  {
   "cell_type": "code",
   "execution_count": 2,
   "metadata": {},
   "outputs": [],
   "source": [
    "from time import time\n",
    "import os\n",
    "from typing import Any\n",
    "import psutil\n",
    "import pandas as pd\n",
    "import networkx as nx\n",
    "\n",
    "\n",
    "def add_chunk(\n",
    "    df, G, dependent_field, dependency_field,\n",
    "    filter_field=None,\n",
    "    filter_value=None\n",
    "):\n",
    "    \"\"\" Utility method for build_dependency_network\"\"\"\n",
    "\n",
    "    filtered = df[df[filter_field] == filter_value] if filter_field else df\n",
    "    links = list(zip(filtered[dependency_field], filtered[dependent_field]))\n",
    "    G.add_edges_from(links)\n",
    "    return G\n",
    "\n",
    "def build_dependency_network(\n",
    "    input_file,\n",
    "    output_file,\n",
    "    chunk_size,\n",
    "    dependent_field: str = 'Project Name',\n",
    "    dependency_field: str = 'Dependency Name',\n",
    "    filter_field = None,\n",
    "    filter_value = None,\n",
    "    verbose: bool = True\n",
    ") -> None:\n",
    "\n",
    "    \"\"\"\n",
    "    Builds a dependency network from a file with package dependencies information\n",
    "\n",
    "    Reads from a CSV file and writes to a txt file with adjacency lists\n",
    "    corresponding to network model. Compression methods are inferred from file\n",
    "    extension (.gz and .bz2 are supported from NetworkX IO methods)\n",
    "\n",
    "    Parameters\n",
    "    ----------\n",
    "    input_file : str\n",
    "        Path to csv file with dependencies information\n",
    "    output_file : str\n",
    "        Path to write resulting network file\n",
    "    chunk_size : int\n",
    "        Amount of lines to be read at once from input_file in batch  processing.\n",
    "    dependent_field : str\n",
    "        DataFrame column Id for the dependent package\n",
    "    dependency_field : str\n",
    "        Dataframe column Id for the dependency package\n",
    "    filter_field : str, optional\n",
    "        If not None, only add records where filter_field equals filter_value\n",
    "    filter_value : str, optional\n",
    "        If not None, only add records where filter_field equals filter_value\n",
    "    verbose: bool, optional\n",
    "        If True, processing information is written to standard output.\n",
    "    Returns\n",
    "    -------\n",
    "        None\n",
    "    \"\"\"\n",
    "\n",
    "    # Print only if verbose\n",
    "    vprint = print if verbose else lambda *a, **k: None\n",
    "    process = psutil.Process(os.getpid())\n",
    "    vprint(\"Using process \", process)\n",
    "    t = time()\n",
    "    try:\n",
    "        vprint(f'Opening \"{input_file}\"... ', end='')\n",
    "        # Obtain reader iterator\n",
    "        reader = pd.read_csv(input_file, chunksize=chunk_size)\n",
    "        vprint('OK')\n",
    "        vprint('Initializing graph... ', end='')\n",
    "        # New NetworkX directed Graph\n",
    "        G = nx.DiGraph()\n",
    "        vprint('OK')\n",
    "        for i, chunk in enumerate(reader):\n",
    "            # Add dependencies from chunk to G\n",
    "            add_chunk(\n",
    "                chunk, \n",
    "                G,\n",
    "                dependent_field=dependent_field,\n",
    "                dependency_field=dependency_field,\n",
    "                filter_field=filter_field,\n",
    "                filter_value=filter_value\n",
    "            )\n",
    "            vprint(f'{round(i*chunk_size/1e6,1)}M lines | {len(G)} nodes,{len(G.edges)} deps. ({int(time()-t)}s) {round(process.memory_info().rss/1e6,1)}Mb ')\n",
    "        vprint('Done reading file')\n",
    "        vprint(f'Saving network as \"{output_file}\"... ', end='')\n",
    "        nx.write_adjlist(G, output_file)\n",
    "        vprint('OK')\n",
    "    except Exception as e:\n",
    "        print('\\n', e)"
   ]
  },
  {
   "attachments": {},
   "cell_type": "markdown",
   "metadata": {},
   "source": [
    "## Builds"
   ]
  },
  {
   "attachments": {},
   "cell_type": "markdown",
   "metadata": {},
   "source": [
    "**Bioconductor**"
   ]
  },
  {
   "cell_type": "code",
   "execution_count": 4,
   "metadata": {},
   "outputs": [
    {
     "name": "stdout",
     "output_type": "stream",
     "text": [
      "Using process  psutil.Process(pid=71182, name='python', status='running', started='16:36:36')\n",
      "Opening \"../results/csv_datasets/bioconductor/bioconductor_adjlist_scraping.csv\"... OK\n",
      "Initializing graph... OK\n",
      "0.0M lines | 3509 nodes,28320 deps. (0s) 122.7Mb \n",
      "Done reading file\n",
      "Saving network as \"../results/network_models/bioconductor_adjlist_scraping.bz2\"... OK\n"
     ]
    }
   ],
   "source": [
    "# Build Bioconductor network with scraping data\n",
    "build_dependency_network(\n",
    "    input_file='../results/csv_datasets/bioconductor/bioconductor_adjlist_scraping.csv',\n",
    "    output_file='../results/network_models/bioconductor_adjlist_scraping.bz2',\n",
    "    chunk_size=int(1e6),\n",
    "    dependent_field=\"name\",\n",
    "    dependency_field=\"dependency\"\n",
    ")"
   ]
  },
  {
   "attachments": {},
   "cell_type": "markdown",
   "metadata": {},
   "source": [
    "**CRAN**"
   ]
  },
  {
   "cell_type": "code",
   "execution_count": 5,
   "metadata": {},
   "outputs": [
    {
     "name": "stdout",
     "output_type": "stream",
     "text": [
      "Using process  psutil.Process(pid=71182, name='python', status='running', started='16:36:36')\n",
      "Opening \"../results/csv_datasets/cran/cran_adjlist_scraping.csv\"... OK\n",
      "Initializing graph... OK\n",
      "0.0M lines | 18671 nodes,113273 deps. (0s) 168.8Mb \n",
      "Done reading file\n",
      "Saving network as \"../results/network_models/cran_adjlist_scraping.bz2\"... OK\n"
     ]
    }
   ],
   "source": [
    "# Build CRAN network with scraping data\n",
    "build_dependency_network(\n",
    "    input_file='../results/csv_datasets/cran/cran_adjlist_scraping.csv',\n",
    "    output_file='../results/network_models/cran_adjlist_scraping.bz2',\n",
    "    chunk_size=1e6,\n",
    "    dependent_field=\"name\",\n",
    "    dependency_field=\"dependency\"\n",
    ")"
   ]
  },
  {
   "cell_type": "code",
   "execution_count": 6,
   "metadata": {},
   "outputs": [
    {
     "name": "stdout",
     "output_type": "stream",
     "text": [
      "Using process  psutil.Process(pid=71182, name='python', status='running', started='16:36:36')\n",
      "Opening \"../results/csv_datasets/cran/cran_adjlist_librariesio_filtered_(imports_depends).csv\"... OK\n",
      "Initializing graph... OK\n",
      "0.0M lines | 15647 nodes,76207 deps. (0s) 159.4Mb \n",
      "Done reading file\n",
      "Saving network as \"../results/network_models/cran_adjlist_librariesio_filtered_(imports_depends).bz2\"... OK\n"
     ]
    }
   ],
   "source": [
    "# build CRAN network with libraries.io data\n",
    "build_dependency_network(\n",
    "    input_file='../results/csv_datasets/cran/cran_adjlist_librariesio_filtered_(imports_depends).csv',\n",
    "    output_file='../results/network_models/cran_adjlist_librariesio_filtered_(imports_depends).bz2',\n",
    "    chunk_size=1e6,\n",
    "    dependent_field=\"Project Name\",\n",
    "    dependency_field=\"Dependency Name\"\n",
    ")"
   ]
  },
  {
   "attachments": {},
   "cell_type": "markdown",
   "metadata": {},
   "source": [
    "**PyPi**"
   ]
  },
  {
   "cell_type": "code",
   "execution_count": 7,
   "metadata": {},
   "outputs": [
    {
     "name": "stdout",
     "output_type": "stream",
     "text": [
      "Using process  psutil.Process(pid=71182, name='python', status='running', started='16:36:36')\n",
      "Opening \"../results/csv_datasets/pypi/pypi_adjlist_scraping.csv\"... OK\n",
      "Initializing graph... OK\n",
      "0.0M lines | 214470 nodes,933955 deps. (3s) 666.8Mb \n",
      "Done reading file\n",
      "Saving network as \"../results/network_models/pypi_adjlist_scraping.bz2\"... OK\n"
     ]
    }
   ],
   "source": [
    "# Building PyPI network with scraping data\n",
    "build_dependency_network(\n",
    "    input_file='../results/csv_datasets/pypi/pypi_adjlist_scraping.csv',\n",
    "    output_file='../results/network_models/pypi_adjlist_scraping.bz2',\n",
    "    chunk_size=1e6,\n",
    "    dependent_field=\"name\",\n",
    "    dependency_field=\"dependency\"\n",
    ")"
   ]
  },
  {
   "cell_type": "code",
   "execution_count": 8,
   "metadata": {},
   "outputs": [
    {
     "name": "stdout",
     "output_type": "stream",
     "text": [
      "Using process  psutil.Process(pid=71182, name='python', status='running', started='16:36:36')\n",
      "Opening \"../results/csv_datasets/pypi/pypi_adjlist_librariesio_filtered.csv\"... OK\n",
      "Initializing graph... OK\n",
      "0.0M lines | 49306 nodes,134575 deps. (0s) 253.1Mb \n",
      "Done reading file\n",
      "Saving network as \"../results/network_models/pypi_adjlist_librariesio_filtered.bz2\"... OK\n"
     ]
    }
   ],
   "source": [
    "# build CRAN network with libraries.io data\n",
    "build_dependency_network(\n",
    "    input_file='../results/csv_datasets/pypi/pypi_adjlist_librariesio_filtered.csv',\n",
    "    output_file='../results/network_models/pypi_adjlist_librariesio_filtered.bz2',\n",
    "    chunk_size=1e6,\n",
    "    dependent_field=\"Project Name\",\n",
    "    dependency_field=\"Dependency Name\"\n",
    ")"
   ]
  },
  {
   "attachments": {},
   "cell_type": "markdown",
   "metadata": {},
   "source": [
    "**NPM**"
   ]
  },
  {
   "cell_type": "code",
   "execution_count": null,
   "metadata": {},
   "outputs": [],
   "source": [
    "# Building NPM network with scraping data\n",
    "build_dependency_network(\n",
    "    input_file='../results/csv_datasets/npm/npm_adjlist_scraping.csv',\n",
    "    output_file='../results/network_models/npm_adjlist_scraping.bz2',\n",
    "    chunk_size=1e6,\n",
    "    dependent_field=\"name\",\n",
    "    dependency_field=\"dependency\"\n",
    ")"
   ]
  },
  {
   "cell_type": "code",
   "execution_count": 7,
   "metadata": {},
   "outputs": [
    {
     "name": "stdout",
     "output_type": "stream",
     "text": [
      "Using process  psutil.Process(pid=92719, name='python', status='running', started='18:18:06')\n",
      "Opening \"../results/csv_datasets/npm/npm_adjlist_librariesio_filtered.csv\"... OK\n",
      "Initializing graph... OK\n",
      "0.0M lines | 140404 nodes,998885 deps. (2s) 593.1Mb \n",
      "1.0M lines | 252639 nodes,1998725 deps. (5s) 1033.4Mb \n",
      "2.0M lines | 353102 nodes,2998630 deps. (8s) 1467.3Mb \n",
      "3.0M lines | 445359 nodes,3998390 deps. (11s) 1870.1Mb \n",
      "4.0M lines | 537958 nodes,4998329 deps. (15s) 2261.2Mb \n",
      "5.0M lines | 669991 nodes,5998191 deps. (19s) 2689.3Mb \n",
      "6.0M lines | 747240 nodes,6998046 deps. (21s) 3198.0Mb \n",
      "7.0M lines | 820506 nodes,7997938 deps. (26s) 3539.0Mb \n",
      "8.0M lines | 896257 nodes,8986097 deps. (28s) 3892.5Mb \n",
      "9.0M lines | 971594 nodes,9985862 deps. (31s) 4274.2Mb \n",
      "10.0M lines | 1036116 nodes,10985745 deps. (36s) 4642.3Mb \n",
      "11.0M lines | 1064572 nodes,11405277 deps. (37s) 4793.5Mb \n",
      "Done reading file\n",
      "Saving network as \"../results/network_models/npm_adjlist_librariesio_filtered.bz2\"... OK\n"
     ]
    }
   ],
   "source": [
    "# Building NPM network with scraping data\n",
    "build_dependency_network(\n",
    "    input_file='../results/csv_datasets/npm/npm_adjlist_librariesio_filtered.csv',\n",
    "    output_file='../results/network_models/npm_adjlist_librariesio_filtered.bz2',\n",
    "    chunk_size=1e6,\n",
    "    dependent_field=\"Project Name\",\n",
    "    dependency_field=\"Dependency Name\"\n",
    ")"
   ]
  }
 ],
 "metadata": {
  "kernelspec": {
   "display_name": "Python 3",
   "language": "python",
   "name": "python3"
  },
  "language_info": {
   "codemirror_mode": {
    "name": "ipython",
    "version": 3
   },
   "file_extension": ".py",
   "mimetype": "text/x-python",
   "name": "python",
   "nbconvert_exporter": "python",
   "pygments_lexer": "ipython3",
   "version": "3.8.16"
  }
 },
 "nbformat": 4,
 "nbformat_minor": 2
}
