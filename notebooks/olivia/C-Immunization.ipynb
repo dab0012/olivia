{
 "cells": [
  {
   "attachments": {},
   "cell_type": "markdown",
   "metadata": {},
   "source": [
    "# **OLIVIA - Immunization**"
   ]
  },
  {
   "cell_type": "code",
   "execution_count": 10,
   "metadata": {},
   "outputs": [
    {
     "name": "stdout",
     "output_type": "stream",
     "text": [
      "Requirement already satisfied: intbitset==2.4.0 in /home/dnllns/.pyenv/versions/3.8.16/envs/.venv_3816/lib/python3.8/site-packages (from -r requirements.txt (line 1)) (2.4.0)\n",
      "Requirement already satisfied: numpy==1.18.5 in /home/dnllns/.pyenv/versions/3.8.16/envs/.venv_3816/lib/python3.8/site-packages (from -r requirements.txt (line 2)) (1.18.5)\n",
      "Requirement already satisfied: networkx==2.4 in /home/dnllns/.pyenv/versions/3.8.16/envs/.venv_3816/lib/python3.8/site-packages (from -r requirements.txt (line 3)) (2.4)\n",
      "Requirement already satisfied: pandas==1.1.5 in /home/dnllns/.pyenv/versions/3.8.16/envs/.venv_3816/lib/python3.8/site-packages (from -r requirements.txt (line 4)) (1.1.5)\n",
      "Requirement already satisfied: matplotlib==3.2.2 in /home/dnllns/.pyenv/versions/3.8.16/envs/.venv_3816/lib/python3.8/site-packages (from -r requirements.txt (line 5)) (3.2.2)\n",
      "Requirement already satisfied: six in /home/dnllns/.pyenv/versions/3.8.16/envs/.venv_3816/lib/python3.8/site-packages (from intbitset==2.4.0->-r requirements.txt (line 1)) (1.16.0)\n",
      "Requirement already satisfied: decorator>=4.3.0 in /home/dnllns/.pyenv/versions/3.8.16/envs/.venv_3816/lib/python3.8/site-packages (from networkx==2.4->-r requirements.txt (line 3)) (5.1.1)\n",
      "Requirement already satisfied: python-dateutil>=2.7.3 in /home/dnllns/.pyenv/versions/3.8.16/envs/.venv_3816/lib/python3.8/site-packages (from pandas==1.1.5->-r requirements.txt (line 4)) (2.8.2)\n",
      "Requirement already satisfied: pytz>=2017.2 in /home/dnllns/.pyenv/versions/3.8.16/envs/.venv_3816/lib/python3.8/site-packages (from pandas==1.1.5->-r requirements.txt (line 4)) (2023.3)\n",
      "Requirement already satisfied: cycler>=0.10 in /home/dnllns/.pyenv/versions/3.8.16/envs/.venv_3816/lib/python3.8/site-packages (from matplotlib==3.2.2->-r requirements.txt (line 5)) (0.11.0)\n",
      "Requirement already satisfied: kiwisolver>=1.0.1 in /home/dnllns/.pyenv/versions/3.8.16/envs/.venv_3816/lib/python3.8/site-packages (from matplotlib==3.2.2->-r requirements.txt (line 5)) (1.4.4)\n",
      "Requirement already satisfied: pyparsing!=2.0.4,!=2.1.2,!=2.1.6,>=2.0.1 in /home/dnllns/.pyenv/versions/3.8.16/envs/.venv_3816/lib/python3.8/site-packages (from matplotlib==3.2.2->-r requirements.txt (line 5)) (3.0.9)\n"
     ]
    }
   ],
   "source": [
    "import sys\n",
    "sys.path.append('../../olivia')\n",
    "\n",
    "!pip install -r requirements.txt"
   ]
  },
  {
   "attachments": {},
   "cell_type": "markdown",
   "metadata": {},
   "source": [
    "# BIOCONDUCTOR TEST"
   ]
  },
  {
   "attachments": {},
   "cell_type": "markdown",
   "metadata": {},
   "source": [
    "### Immunization"
   ]
  },
  {
   "cell_type": "code",
   "execution_count": 11,
   "metadata": {},
   "outputs": [],
   "source": [
    "from olivia.model import OliviaNetwork\n",
    "from olivia.immunization import *\n",
    "\n",
    "bioconductor = OliviaNetwork(r'../olivia_finder/results/olivia_prebuilts/bioconductor.olv')"
   ]
  },
  {
   "cell_type": "code",
   "execution_count": 12,
   "metadata": {},
   "outputs": [
    {
     "name": "stdout",
     "output_type": "stream",
     "text": [
      "Computing Reach\n",
      "     Processing node: 3K      \n"
     ]
    },
    {
     "data": {
      "text/plain": [
       "24.817326873753206"
      ]
     },
     "execution_count": 12,
     "metadata": {},
     "output_type": "execute_result"
    }
   ],
   "source": [
    "failure_vulnerability(bioconductor)"
   ]
  },
  {
   "cell_type": "code",
   "execution_count": 13,
   "metadata": {},
   "outputs": [
    {
     "name": "stdout",
     "output_type": "stream",
     "text": [
      "Reach retrieved from metrics cache\n",
      "Building Olivia Model\n",
      "     Finding strongly connected components (SCCs)...\n",
      "     Building condensation network...\n",
      "     Adding structural meta-data...\n",
      "     Done\n",
      "Computing Reach\n",
      "     Processing node: 3K      \n"
     ]
    },
    {
     "data": {
      "text/plain": [
       "1.1658592191507537"
      ]
     },
     "execution_count": 13,
     "metadata": {},
     "output_type": "execute_result"
    }
   ],
   "source": [
    "immunization_delta(bioconductor,{'methods','BiocGenerics'})"
   ]
  },
  {
   "cell_type": "code",
   "execution_count": 14,
   "metadata": {},
   "outputs": [],
   "source": [
    "target = {'methods','BiocGenerics'}"
   ]
  },
  {
   "cell_type": "code",
   "execution_count": 15,
   "metadata": {},
   "outputs": [
    {
     "name": "stdout",
     "output_type": "stream",
     "text": [
      "Reach retrieved from metrics cache\n",
      "Building Olivia Model\n",
      "     Finding strongly connected components (SCCs)...\n",
      "     Building condensation network...\n",
      "     Adding structural meta-data...\n",
      "     Done\n",
      "Computing Reach\n",
      "     Processing node: 3K      \n",
      "CPU times: user 307 ms, sys: 11.5 ms, total: 318 ms\n",
      "Wall time: 313 ms\n"
     ]
    },
    {
     "data": {
      "text/plain": [
       "1.1658592191507537"
      ]
     },
     "execution_count": 15,
     "metadata": {},
     "output_type": "execute_result"
    }
   ],
   "source": [
    "%time immunization_delta(bioconductor, target)"
   ]
  },
  {
   "cell_type": "code",
   "execution_count": 16,
   "metadata": {},
   "outputs": [
    {
     "name": "stdout",
     "output_type": "stream",
     "text": [
      "CPU times: user 44.5 ms, sys: 225 µs, total: 44.7 ms\n",
      "Wall time: 43.6 ms\n"
     ]
    },
    {
     "data": {
      "text/plain": [
       "1.1658592191507553"
      ]
     },
     "execution_count": 16,
     "metadata": {},
     "output_type": "execute_result"
    }
   ],
   "source": [
    "%time immunization_delta(bioconductor, target, algorithm='analytic')"
   ]
  },
  {
   "cell_type": "code",
   "execution_count": 17,
   "metadata": {},
   "outputs": [
    {
     "name": "stdout",
     "output_type": "stream",
     "text": [
      "Computing Impact\n",
      "     Processing node: 3K      \n",
      "Building Olivia Model\n",
      "     Finding strongly connected components (SCCs)...\n",
      "     Building condensation network...\n",
      "     Adding structural meta-data...\n",
      "     Done\n",
      "Computing Impact\n",
      "     Processing node: 3K      \n"
     ]
    },
    {
     "data": {
      "text/plain": [
       "6.757195782274152"
      ]
     },
     "execution_count": 17,
     "metadata": {},
     "output_type": "execute_result"
    }
   ],
   "source": [
    "immunization_delta(\n",
    "    bioconductor,\n",
    "    {'methods','BiocGenerics'}, \n",
    "    cost_metric = Impact\n",
    ")"
   ]
  },
  {
   "cell_type": "code",
   "execution_count": 18,
   "metadata": {},
   "outputs": [
    {
     "name": "stdout",
     "output_type": "stream",
     "text": [
      "Impact retrieved from metrics cache\n",
      "Building Olivia Model\n",
      "     Finding strongly connected components (SCCs)...\n",
      "     Building condensation network...\n",
      "     Adding structural meta-data...\n",
      "     Done\n",
      "Computing Impact\n",
      "     Processing node: 3K      \n"
     ]
    },
    {
     "data": {
      "text/plain": [
       "0.022513536620117236"
      ]
     },
     "execution_count": 18,
     "metadata": {},
     "output_type": "execute_result"
    }
   ],
   "source": [
    "immunization_delta(bioconductor,{'a4'}, cost_metric = Impact)"
   ]
  },
  {
   "attachments": {},
   "cell_type": "markdown",
   "metadata": {},
   "source": [
    "### Selecting Immunization targets - Subcritical networks\n"
   ]
  },
  {
   "cell_type": "code",
   "execution_count": 19,
   "metadata": {},
   "outputs": [
    {
     "name": "stdout",
     "output_type": "stream",
     "text": [
      "Reach retrieved from metrics cache\n"
     ]
    },
    {
     "data": {
      "text/plain": [
       "24.817326873753206"
      ]
     },
     "execution_count": 19,
     "metadata": {},
     "output_type": "execute_result"
    }
   ],
   "source": [
    "failure_vulnerability(bioconductor)"
   ]
  },
  {
   "cell_type": "code",
   "execution_count": 20,
   "metadata": {},
   "outputs": [
    {
     "data": {
      "text/plain": [
       "0.28213166144200624"
      ]
     },
     "execution_count": 20,
     "metadata": {},
     "output_type": "execute_result"
    }
   ],
   "source": [
    "immunization_delta(bioconductor, iset_random(bioconductor, 20), algorithm='analytic')"
   ]
  },
  {
   "cell_type": "code",
   "execution_count": 21,
   "metadata": {},
   "outputs": [
    {
     "data": {
      "text/plain": [
       "13.868623539469935"
      ]
     },
     "execution_count": 21,
     "metadata": {},
     "output_type": "execute_result"
    }
   ],
   "source": [
    "immunization_delta(bioconductor, iset_random(bioconductor, 1000), algorithm='analytic')"
   ]
  },
  {
   "cell_type": "code",
   "execution_count": 22,
   "metadata": {},
   "outputs": [
    {
     "data": {
      "text/plain": [
       "5.237389569677971"
      ]
     },
     "execution_count": 22,
     "metadata": {},
     "output_type": "execute_result"
    }
   ],
   "source": [
    "immunization_delta(bioconductor, iset_random(bioconductor, 20, indirect=True), algorithm='analytic')"
   ]
  },
  {
   "cell_type": "code",
   "execution_count": 23,
   "metadata": {},
   "outputs": [
    {
     "name": "stdout",
     "output_type": "stream",
     "text": [
      "Computing Dependents Count\n"
     ]
    },
    {
     "data": {
      "text/plain": [
       "[('R', 1795),\n",
       " ('methods', 1492),\n",
       " ('stats', 1293),\n",
       " ('utils', 1063),\n",
       " ('ggplot2', 717),\n",
       " ('S4Vectors', 661),\n",
       " ('graphics', 639),\n",
       " ('grDevices', 593),\n",
       " ('GenomicRanges', 539),\n",
       " ('IRanges', 515),\n",
       " ('SummarizedExperiment', 509),\n",
       " ('BiocGenerics', 480),\n",
       " ('Biobase', 459),\n",
       " ('dplyr', 433),\n",
       " ('BiocParallel', 323),\n",
       " ('GenomeInfoDb', 308),\n",
       " ('data.table', 298),\n",
       " ('Biostrings', 291),\n",
       " ('parallel', 270),\n",
       " ('Matrix', 267)]"
      ]
     },
     "execution_count": 23,
     "metadata": {},
     "output_type": "execute_result"
    }
   ],
   "source": [
    "target = bioconductor.get_metric(DependentsCount).top(20)\n",
    "target"
   ]
  },
  {
   "cell_type": "code",
   "execution_count": 24,
   "metadata": {},
   "outputs": [
    {
     "data": {
      "text/plain": [
       "10.490738102023368"
      ]
     },
     "execution_count": 24,
     "metadata": {},
     "output_type": "execute_result"
    }
   ],
   "source": [
    "immunization_delta(bioconductor, {l[0] for l in target}, algorithm='analytic')"
   ]
  },
  {
   "cell_type": "code",
   "execution_count": 25,
   "metadata": {},
   "outputs": [
    {
     "name": "stdout",
     "output_type": "stream",
     "text": [
      "DependentsCount retrieved from metrics cache\n"
     ]
    },
    {
     "data": {
      "text/plain": [
       "10.490738102023368"
      ]
     },
     "execution_count": 25,
     "metadata": {},
     "output_type": "execute_result"
    }
   ],
   "source": [
    "immunization_delta(bioconductor, \n",
    "                   iset_naive_ranking(20, bioconductor.get_metric(DependentsCount)),\n",
    "                   algorithm='analytic')"
   ]
  },
  {
   "cell_type": "code",
   "execution_count": 26,
   "metadata": {},
   "outputs": [
    {
     "name": "stdout",
     "output_type": "stream",
     "text": [
      "Reach retrieved from metrics cache\n"
     ]
    },
    {
     "data": {
      "text/plain": [
       "8.719293245939014"
      ]
     },
     "execution_count": 26,
     "metadata": {},
     "output_type": "execute_result"
    }
   ],
   "source": [
    "immunization_delta(bioconductor, \n",
    "                   iset_naive_ranking(20, bioconductor.get_metric(Reach)),\n",
    "                   algorithm='analytic')"
   ]
  },
  {
   "cell_type": "code",
   "execution_count": 27,
   "metadata": {},
   "outputs": [
    {
     "name": "stdout",
     "output_type": "stream",
     "text": [
      "Reach retrieved from metrics cache\n",
      "Computing Surface\n",
      "     Processing node: 0K      \n",
      "Reach retrieved from metrics cache\n",
      "Surface retrieved from metrics cache\n",
      "{'DelayedArray', 'BiocIO', 'SummarizedExperiment', 'GenomeInfoDb', 'rtracklayer', 'IRanges', 'clusterProfiler', 'limma', 'annotate', 'genefilter', 'BiocGenerics', 'DelayedMatrixStats', 'VariantAnnotation', 'GenomicAlignments', 'AnnotationDbi', 'XVector', 'ensembldb', 'bumphunter', 'S4Vectors', 'Biostrings', 'BiocFileCache', 'KEGGREST', 'MatrixGenerics', 'biovizBase', 'GSEABase', 'Gviz', 'Rsamtools', 'minfi', 'enrichplot', 'HDF5Array', 'DESeq2', 'GenomicRanges', 'GenomicFeatures', 'scuttle', 'BSgenome', 'Biobase', 'SingleCellExperiment', 'AnnotationHub', 'BiocParallel', 'biomaRt'}\n"
     ]
    }
   ],
   "source": [
    "delta_set = iset_delta_set_reach(bioconductor)\n",
    "print(delta_set)"
   ]
  },
  {
   "cell_type": "code",
   "execution_count": 28,
   "metadata": {},
   "outputs": [
    {
     "data": {
      "text/plain": [
       "13.260758050726702"
      ]
     },
     "execution_count": 28,
     "metadata": {},
     "output_type": "execute_result"
    }
   ],
   "source": [
    "immunization_delta(bioconductor, delta_set, algorithm='analytic')"
   ]
  },
  {
   "cell_type": "code",
   "execution_count": 29,
   "metadata": {},
   "outputs": [
    {
     "name": "stdout",
     "output_type": "stream",
     "text": [
      "DependentsCount retrieved from metrics cache\n",
      "{'S4Vectors', 'SummarizedExperiment', 'GenomicRanges', 'IRanges'}\n"
     ]
    },
    {
     "data": {
      "text/plain": [
       "2.7771444856084355"
      ]
     },
     "execution_count": 29,
     "metadata": {},
     "output_type": "execute_result"
    }
   ],
   "source": [
    "smaller = iset_naive_ranking(4, bioconductor.get_metric(DependentsCount), subset = delta_set)\n",
    "print(smaller)\n",
    "immunization_delta(bioconductor, smaller, algorithm='analytic')"
   ]
  },
  {
   "attachments": {},
   "cell_type": "markdown",
   "metadata": {},
   "source": [
    "### 03 - Selecting Immunization targets - Supercritical networks"
   ]
  },
  {
   "attachments": {},
   "cell_type": "markdown",
   "metadata": {},
   "source": [
    "Supercritical packet dependency networks are those that contain a strongly connected (SCC) component of significant size. Maven is one of them."
   ]
  },
  {
   "cell_type": "code",
   "execution_count": 30,
   "metadata": {},
   "outputs": [
    {
     "ename": "FileNotFoundError",
     "evalue": "[Errno 2] No such file or directory: 'data/maven-2020-01-12.olv'",
     "output_type": "error",
     "traceback": [
      "\u001b[0;31m---------------------------------------------------------------------------\u001b[0m",
      "\u001b[0;31mFileNotFoundError\u001b[0m                         Traceback (most recent call last)",
      "Cell \u001b[0;32mIn[30], line 1\u001b[0m\n\u001b[0;32m----> 1\u001b[0m maven \u001b[39m=\u001b[39m OliviaNetwork(\u001b[39mr\u001b[39;49m\u001b[39m'\u001b[39;49m\u001b[39mdata/maven-2020-01-12.olv\u001b[39;49m\u001b[39m'\u001b[39;49m)\n",
      "File \u001b[0;32m~/Documentos/repositorios/olivia-finder/notebooks/olivia/../../olivia/olivia/model.py:106\u001b[0m, in \u001b[0;36mOliviaNetwork.__init__\u001b[0;34m(self, file)\u001b[0m\n\u001b[1;32m    104\u001b[0m     \u001b[39mself\u001b[39m\u001b[39m.\u001b[39m_network \u001b[39m=\u001b[39m {}\n\u001b[1;32m    105\u001b[0m \u001b[39melse\u001b[39;00m:\n\u001b[0;32m--> 106\u001b[0m     \u001b[39mself\u001b[39;49m\u001b[39m.\u001b[39;49mload(file)\n",
      "File \u001b[0;32m~/Documentos/repositorios/olivia-finder/notebooks/olivia/../../olivia/olivia/model.py:122\u001b[0m, in \u001b[0;36mOliviaNetwork.load\u001b[0;34m(self, file)\u001b[0m\n\u001b[1;32m    108\u001b[0m \u001b[39mdef\u001b[39;00m \u001b[39mload\u001b[39m(\u001b[39mself\u001b[39m, file):\n\u001b[1;32m    109\u001b[0m \u001b[39m    \u001b[39m\u001b[39m\"\"\"\u001b[39;00m\n\u001b[1;32m    110\u001b[0m \u001b[39m    Load an OliviaNetwork model from file.\u001b[39;00m\n\u001b[1;32m    111\u001b[0m \n\u001b[0;32m   (...)\u001b[0m\n\u001b[1;32m    120\u001b[0m \n\u001b[1;32m    121\u001b[0m \u001b[39m    \"\"\"\u001b[39;00m\n\u001b[0;32m--> 122\u001b[0m     \u001b[39mwith\u001b[39;00m gzip\u001b[39m.\u001b[39;49mGzipFile(file, \u001b[39m'\u001b[39;49m\u001b[39mrb\u001b[39;49m\u001b[39m'\u001b[39;49m) \u001b[39mas\u001b[39;00m f:\n\u001b[1;32m    123\u001b[0m         load_dict \u001b[39m=\u001b[39m pickle\u001b[39m.\u001b[39mload(f)\n\u001b[1;32m    125\u001b[0m     \u001b[39mself\u001b[39m\u001b[39m.\u001b[39m_network \u001b[39m=\u001b[39m nx\u001b[39m.\u001b[39mfrom_dict_of_lists(load_dict[\u001b[39m'\u001b[39m\u001b[39mnetwork\u001b[39m\u001b[39m'\u001b[39m], create_using\u001b[39m=\u001b[39mnx\u001b[39m.\u001b[39mDiGraph())\n",
      "File \u001b[0;32m~/.pyenv/versions/3.8.16/lib/python3.8/gzip.py:173\u001b[0m, in \u001b[0;36mGzipFile.__init__\u001b[0;34m(self, filename, mode, compresslevel, fileobj, mtime)\u001b[0m\n\u001b[1;32m    171\u001b[0m     mode \u001b[39m+\u001b[39m\u001b[39m=\u001b[39m \u001b[39m'\u001b[39m\u001b[39mb\u001b[39m\u001b[39m'\u001b[39m\n\u001b[1;32m    172\u001b[0m \u001b[39mif\u001b[39;00m fileobj \u001b[39mis\u001b[39;00m \u001b[39mNone\u001b[39;00m:\n\u001b[0;32m--> 173\u001b[0m     fileobj \u001b[39m=\u001b[39m \u001b[39mself\u001b[39m\u001b[39m.\u001b[39mmyfileobj \u001b[39m=\u001b[39m builtins\u001b[39m.\u001b[39;49mopen(filename, mode \u001b[39mor\u001b[39;49;00m \u001b[39m'\u001b[39;49m\u001b[39mrb\u001b[39;49m\u001b[39m'\u001b[39;49m)\n\u001b[1;32m    174\u001b[0m \u001b[39mif\u001b[39;00m filename \u001b[39mis\u001b[39;00m \u001b[39mNone\u001b[39;00m:\n\u001b[1;32m    175\u001b[0m     filename \u001b[39m=\u001b[39m \u001b[39mgetattr\u001b[39m(fileobj, \u001b[39m'\u001b[39m\u001b[39mname\u001b[39m\u001b[39m'\u001b[39m, \u001b[39m'\u001b[39m\u001b[39m'\u001b[39m)\n",
      "\u001b[0;31mFileNotFoundError\u001b[0m: [Errno 2] No such file or directory: 'data/maven-2020-01-12.olv'"
     ]
    }
   ],
   "source": [
    "maven = OliviaNetwork(r'data/maven-2020-01-12.olv')"
   ]
  },
  {
   "attachments": {},
   "cell_type": "markdown",
   "metadata": {},
   "source": [
    "Supercritical networks are much more vulnerable, because the big SCC contributes greatly to the propagation of defects."
   ]
  },
  {
   "cell_type": "code",
   "execution_count": null,
   "metadata": {},
   "outputs": [
    {
     "name": "stdout",
     "output_type": "stream",
     "text": [
      "Computing Reach\n",
      "     Processing node: 124K      \n"
     ]
    },
    {
     "data": {
      "text/plain": [
       "1805.5391236430194"
      ]
     },
     "execution_count": 31,
     "metadata": {},
     "output_type": "execute_result"
    }
   ],
   "source": [
    "failure_vulnerability(maven)"
   ]
  },
  {
   "attachments": {},
   "cell_type": "markdown",
   "metadata": {},
   "source": [
    "Lets see what happens if we immunize the delta set for Maven:"
   ]
  },
  {
   "cell_type": "code",
   "execution_count": null,
   "metadata": {},
   "outputs": [
    {
     "name": "stdout",
     "output_type": "stream",
     "text": [
      "Reach retrieved from metrics cache\n",
      "Computing Surface\n",
      "     Processing node: 0K        \n",
      "Reach retrieved from metrics cache\n",
      "Surface retrieved from metrics cache\n",
      "Reach retrieved from metrics cache\n",
      "Building Olivia Model\n",
      "     Finding strongly connected components (SCCs)...\n",
      "     Building condensation network...\n",
      "     Adding structural meta-data...\n",
      "     Done\n",
      "Computing Reach\n",
      "     Processing node: 119K      \n"
     ]
    },
    {
     "data": {
      "text/plain": [
       "1800.3279159303206"
      ]
     },
     "execution_count": 32,
     "metadata": {},
     "output_type": "execute_result"
    }
   ],
   "source": [
    "maven_delta_set = iset_delta_set_reach (maven)\n",
    "immunization_delta(maven, maven_delta_set)"
   ]
  },
  {
   "cell_type": "code",
   "execution_count": null,
   "metadata": {},
   "outputs": [
    {
     "data": {
      "text/plain": [
       "6540"
      ]
     },
     "execution_count": 33,
     "metadata": {},
     "output_type": "execute_result"
    }
   ],
   "source": [
    "len(maven_delta_set)"
   ]
  },
  {
   "cell_type": "code",
   "execution_count": null,
   "metadata": {},
   "outputs": [
    {
     "name": "stdout",
     "output_type": "stream",
     "text": [
      "Reach retrieved from metrics cache\n",
      "Building Olivia Model\n",
      "     Finding strongly connected components (SCCs)...\n",
      "     Building condensation network...\n",
      "     Adding structural meta-data...\n",
      "     Done\n",
      "Computing Reach\n",
      "     Processing node: 125K      \n"
     ]
    },
    {
     "data": {
      "text/plain": [
       "1695.3186300807877"
      ]
     },
     "execution_count": 40,
     "metadata": {},
     "output_type": "execute_result"
    }
   ],
   "source": [
    "sap = iset_sap(maven)\n",
    "\n",
    "immunization_delta(maven, sap)"
   ]
  },
  {
   "cell_type": "code",
   "execution_count": null,
   "metadata": {},
   "outputs": [
    {
     "data": {
      "text/plain": [
       "351"
      ]
     },
     "execution_count": 42,
     "metadata": {},
     "output_type": "execute_result"
    }
   ],
   "source": [
    "len(sap)"
   ]
  },
  {
   "cell_type": "code",
   "execution_count": null,
   "metadata": {},
   "outputs": [
    {
     "name": "stdout",
     "output_type": "stream",
     "text": [
      "DependentsCount retrieved from metrics cache\n",
      "Reach retrieved from metrics cache\n",
      "Building Olivia Model\n",
      "     Finding strongly connected components (SCCs)...\n",
      "     Building condensation network...\n",
      "     Adding structural meta-data...\n",
      "     Done\n",
      "Computing Reach\n",
      "     Processing node: 125K      \n"
     ]
    },
    {
     "data": {
      "text/plain": [
       "1544.4391883362787"
      ]
     },
     "execution_count": 52,
     "metadata": {},
     "output_type": "execute_result"
    }
   ],
   "source": [
    "immunization_delta(maven, iset_naive_ranking(100, maven.get_metric(DependentsCount), subset=sap))"
   ]
  },
  {
   "attachments": {},
   "cell_type": "markdown",
   "metadata": {},
   "source": [
    "Notice that the SAP approach is completely innefective in subcritical networks"
   ]
  },
  {
   "cell_type": "code",
   "execution_count": null,
   "metadata": {},
   "outputs": [
    {
     "data": {
      "text/plain": [
       "0.013040223771815782"
      ]
     },
     "execution_count": 55,
     "metadata": {},
     "output_type": "execute_result"
    }
   ],
   "source": [
    "immunization_delta(bioconductor, iset_sap(bioconductor), algorithm='analytic')"
   ]
  },
  {
   "attachments": {},
   "cell_type": "markdown",
   "metadata": {},
   "source": [
    "Even the immunization of the largest SCC in full has a negligible effect on the network's vulnerability"
   ]
  },
  {
   "cell_type": "code",
   "execution_count": null,
   "metadata": {},
   "outputs": [
    {
     "data": {
      "text/plain": [
       "0.019717921443485796"
      ]
     },
     "execution_count": 56,
     "metadata": {},
     "output_type": "execute_result"
    }
   ],
   "source": [
    "immunization_delta(bioconductor, bioconductor.sorted_clusters()[0], algorithm='analytic')"
   ]
  },
  {
   "attachments": {},
   "cell_type": "markdown",
   "metadata": {},
   "source": [
    "### Selecting Immunization targets - Advanced"
   ]
  },
  {
   "attachments": {},
   "cell_type": "markdown",
   "metadata": {},
   "source": [
    "#### Manipulating immunization sets"
   ]
  },
  {
   "cell_type": "code",
   "execution_count": null,
   "metadata": {},
   "outputs": [
    {
     "name": "stdout",
     "output_type": "stream",
     "text": [
      "DependentsCount retrieved from metrics cache\n"
     ]
    },
    {
     "data": {
      "text/plain": [
       "{'AnnotationDbi',\n",
       " 'AnnotationHub',\n",
       " 'BSgenome',\n",
       " 'Biobase',\n",
       " 'BiocFileCache',\n",
       " 'BiocGenerics',\n",
       " 'BiocParallel',\n",
       " 'Biostrings',\n",
       " 'DESeq2',\n",
       " 'DelayedArray',\n",
       " 'GSEABase',\n",
       " 'GenomeInfoDb',\n",
       " 'GenomicAlignments',\n",
       " 'GenomicFeatures',\n",
       " 'GenomicRanges',\n",
       " 'Gviz',\n",
       " 'IRanges',\n",
       " 'Rsamtools',\n",
       " 'S4Vectors',\n",
       " 'SingleCellExperiment',\n",
       " 'SummarizedExperiment',\n",
       " 'VariantAnnotation',\n",
       " 'biomaRt',\n",
       " 'limma',\n",
       " 'rtracklayer'}"
      ]
     },
     "execution_count": 84,
     "metadata": {},
     "output_type": "execute_result"
    }
   ],
   "source": [
    "delta_set & iset_naive_ranking(100, bioconductor.get_metric(DependentsCount))"
   ]
  },
  {
   "cell_type": "code",
   "execution_count": null,
   "metadata": {},
   "outputs": [
    {
     "data": {
      "text/plain": [
       "5.7339360989638735"
      ]
     },
     "execution_count": 64,
     "metadata": {},
     "output_type": "execute_result"
    }
   ],
   "source": [
    "immunization_delta(bioconductor, {'boto3',\n",
    "                         'configparser',\n",
    "                         'cryptography',\n",
    "                         'jsonschema',\n",
    "                         'packaging',\n",
    "                         'pbr',\n",
    "                         'pytest',\n",
    "                         'requests',\n",
    "                         'setuptools',\n",
    "                         'wheel'}, algorithm='analytic')"
   ]
  },
  {
   "cell_type": "code",
   "execution_count": null,
   "metadata": {},
   "outputs": [
    {
     "name": "stdout",
     "output_type": "stream",
     "text": [
      "DependentsCount retrieved from metrics cache\n"
     ]
    },
    {
     "data": {
      "text/plain": [
       "3.7312768388291375"
      ]
     },
     "execution_count": 65,
     "metadata": {},
     "output_type": "execute_result"
    }
   ],
   "source": [
    "immunization_delta(bioconductor,\n",
    "                   iset_naive_ranking(10, bioconductor.get_metric(DependentsCount)), \n",
    "                   algorithm='analytic')"
   ]
  },
  {
   "attachments": {},
   "cell_type": "markdown",
   "metadata": {},
   "source": [
    "#### Ranking by compound metrics"
   ]
  },
  {
   "cell_type": "code",
   "execution_count": null,
   "metadata": {},
   "outputs": [
    {
     "name": "stdout",
     "output_type": "stream",
     "text": [
      "Reach retrieved from metrics cache\n",
      "Surface retrieved from metrics cache\n"
     ]
    },
    {
     "data": {
      "text/plain": [
       "8.024760666587873"
      ]
     },
     "execution_count": 71,
     "metadata": {},
     "output_type": "execute_result"
    }
   ],
   "source": [
    "upper = iset_naive_ranking(50, bioconductor.get_metric(Reach)*bioconductor.get_metric(Surface))\n",
    "immunization_delta(bioconductor, upper, algorithm='analytic')"
   ]
  },
  {
   "cell_type": "code",
   "execution_count": null,
   "metadata": {},
   "outputs": [
    {
     "data": {
      "text/plain": [
       "18"
      ]
     },
     "execution_count": 72,
     "metadata": {},
     "output_type": "execute_result"
    }
   ],
   "source": [
    "len(delta_set)"
   ]
  },
  {
   "cell_type": "code",
   "execution_count": null,
   "metadata": {},
   "outputs": [
    {
     "name": "stdout",
     "output_type": "stream",
     "text": [
      "Reach retrieved from metrics cache\n",
      "Surface retrieved from metrics cache\n"
     ]
    }
   ],
   "source": [
    "upper = iset_naive_ranking(18, bioconductor.get_metric(Reach)*bioconductor.get_metric(Surface))"
   ]
  },
  {
   "cell_type": "code",
   "execution_count": null,
   "metadata": {},
   "outputs": [
    {
     "data": {
      "text/plain": [
       "set()"
      ]
     },
     "execution_count": 75,
     "metadata": {},
     "output_type": "execute_result"
    }
   ],
   "source": [
    "# void set\n",
    "delta_set-upper"
   ]
  },
  {
   "attachments": {},
   "cell_type": "markdown",
   "metadata": {},
   "source": [
    "#### Brute force and Greedy selection"
   ]
  },
  {
   "cell_type": "code",
   "execution_count": null,
   "metadata": {},
   "outputs": [
    {
     "data": {
      "text/plain": [
       "[('Biostrings', 1.1137076090054145),\n",
       " ('HDF5Array', 0.08064975776574522),\n",
       " ('BiocParallel', 1.17041892277002),\n",
       " ('GenomeInfoDb', 1.0048446850954689),\n",
       " ('clusterProfiler', 0.23311484753491024),\n",
       " ('genefilter', 0.3174693644913081),\n",
       " ('ensembldb', 0.10686805357651753),\n",
       " ('BiocIO', 0.12852664576802508),\n",
       " ('IRanges', 0.4066685665431747),\n",
       " ('DESeq2', 0.13337133086349387),\n",
       " ('GenomicAlignments', 0.40267882587631804),\n",
       " ('Rsamtools', 0.3579367341122827),\n",
       " ('biomaRt', 1.048731832430892),\n",
       " ('GenomicFeatures', 0.8466799658022228),\n",
       " ('BiocGenerics', 0.6015958962667427),\n",
       " ('limma', 0.18324308919920204),\n",
       " ('Biobase', 0.4970076944998575),\n",
       " ('biovizBase', 0.16414933029353093),\n",
       " ('scuttle', 0.03163294385864919),\n",
       " ('KEGGREST', 0.8757480763750356),\n",
       " ('VariantAnnotation', 0.3120547164434312),\n",
       " ('MatrixGenerics', 0.42832715873468225),\n",
       " ('bumphunter', 0.14733542319749215),\n",
       " ('DelayedMatrixStats', 0.0957537760045597),\n",
       " ('S4Vectors', 0.4351667141635794),\n",
       " ('XVector', 0.7056141350812197),\n",
       " ('Gviz', 0.30521516101453405),\n",
       " ('BSgenome', 0.1652892561983471),\n",
       " ('AnnotationHub', 0.19606725562838415),\n",
       " ('AnnotationDbi', 1.207181533200342),\n",
       " ('GSEABase', 0.14933029353092048),\n",
       " ('SingleCellExperiment', 0.12653177543459676),\n",
       " ('annotate', 0.16984895981761186),\n",
       " ('rtracklayer', 0.6702764320319179),\n",
       " ('BiocFileCache', 0.6027358221715589),\n",
       " ('minfi', 0.3952693074950128),\n",
       " ('GenomicRanges', 0.5953263037902536),\n",
       " ('DelayedArray', 0.31689940153889995),\n",
       " ('enrichplot', 0.20746651467654603),\n",
       " ('SummarizedExperiment', 1.2282701624394414)]"
      ]
     },
     "execution_count": 88,
     "metadata": {},
     "output_type": "execute_result"
    }
   ],
   "source": [
    "[(i, immunization_delta(bioconductor, {i}, algorithm='analytic')) for i in delta_set]"
   ]
  },
  {
   "cell_type": "code",
   "execution_count": null,
   "metadata": {},
   "outputs": [
    {
     "data": {
      "text/plain": [
       "12.834995725277857"
      ]
     },
     "execution_count": 89,
     "metadata": {},
     "output_type": "execute_result"
    }
   ],
   "source": [
    "immunization_delta(bioconductor, delta_set-{'Biostrings'}, algorithm='analytic')"
   ]
  },
  {
   "attachments": {},
   "cell_type": "markdown",
   "metadata": {},
   "source": [
    "#### Using other centrality measures"
   ]
  },
  {
   "cell_type": "code",
   "execution_count": null,
   "metadata": {},
   "outputs": [],
   "source": [
    "import networkx as nx\n",
    "\n",
    "# Using the NetworkX implementation of betweenness centrality\n",
    "# You can access the full NetworkX network underlying the repository using OliviaModel.network.\n",
    "# Here we restrict the centrality computation to the subgraph induced by the SAP set:\n",
    "sap_betweenness = nx.betweenness_centrality(maven.network.subgraph(sap))"
   ]
  },
  {
   "cell_type": "code",
   "execution_count": null,
   "metadata": {},
   "outputs": [],
   "source": [
    "from olivia.packagemetrics import MetricStats\n",
    "\n",
    "# Build a MetricStats object to use in iset_naive_ranking\n",
    "# MetricStats constructor admits a dictionary of values such as those produced by NetworkX\n",
    "sap_betweenness = MetricStats(sap_betweenness)"
   ]
  },
  {
   "cell_type": "code",
   "execution_count": null,
   "metadata": {},
   "outputs": [
    {
     "name": "stdout",
     "output_type": "stream",
     "text": [
      "Reach retrieved from metrics cache\n",
      "Building Olivia Model\n",
      "     Finding strongly connected components (SCCs)...\n",
      "     Building condensation network...\n",
      "     Adding structural meta-data...\n",
      "     Done\n",
      "Computing Reach\n",
      "     Processing node: 125K      \n"
     ]
    },
    {
     "data": {
      "text/plain": [
       "471.4254134057055"
      ]
     },
     "execution_count": 86,
     "metadata": {},
     "output_type": "execute_result"
    }
   ],
   "source": [
    "immunization_delta(maven, iset_naive_ranking(10, sap_betweenness))"
   ]
  }
 ],
 "metadata": {
  "kernelspec": {
   "display_name": "Python 3",
   "language": "python",
   "name": "python3"
  },
  "language_info": {
   "codemirror_mode": {
    "name": "ipython",
    "version": 3
   },
   "file_extension": ".py",
   "mimetype": "text/x-python",
   "name": "python",
   "nbconvert_exporter": "python",
   "pygments_lexer": "ipython3",
   "version": "3.8.16"
  }
 },
 "nbformat": 4,
 "nbformat_minor": 4
}
