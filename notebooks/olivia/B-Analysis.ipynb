{
 "cells": [
  {
   "attachments": {},
   "cell_type": "markdown",
   "metadata": {},
   "source": [
    "# **OLIVIA - Analisis**"
   ]
  },
  {
   "attachments": {},
   "cell_type": "markdown",
   "metadata": {},
   "source": [
    "Import olivia"
   ]
  },
  {
   "cell_type": "code",
   "execution_count": 1,
   "metadata": {},
   "outputs": [],
   "source": [
    "# Add olivia to the python path\n",
    "import sys\n",
    "sys.path.append('../../olivia')"
   ]
  },
  {
   "attachments": {},
   "cell_type": "markdown",
   "metadata": {},
   "source": [
    "Install requirements (use python3.8)"
   ]
  },
  {
   "cell_type": "code",
   "execution_count": 2,
   "metadata": {},
   "outputs": [
    {
     "name": "stdout",
     "output_type": "stream",
     "text": [
      "Requirement already satisfied: intbitset==2.4.0 in /home/dnllns/.pyenv/versions/3.8.16/envs/.venv_3816/lib/python3.8/site-packages (from -r requirements.txt (line 1)) (2.4.0)\n",
      "Requirement already satisfied: numpy==1.18.5 in /home/dnllns/.pyenv/versions/3.8.16/envs/.venv_3816/lib/python3.8/site-packages (from -r requirements.txt (line 2)) (1.18.5)\n",
      "Requirement already satisfied: networkx==2.4 in /home/dnllns/.pyenv/versions/3.8.16/envs/.venv_3816/lib/python3.8/site-packages (from -r requirements.txt (line 3)) (2.4)\n",
      "Requirement already satisfied: pandas==1.1.5 in /home/dnllns/.pyenv/versions/3.8.16/envs/.venv_3816/lib/python3.8/site-packages (from -r requirements.txt (line 4)) (1.1.5)\n",
      "Requirement already satisfied: matplotlib==3.2.2 in /home/dnllns/.pyenv/versions/3.8.16/envs/.venv_3816/lib/python3.8/site-packages (from -r requirements.txt (line 5)) (3.2.2)\n",
      "Requirement already satisfied: six in /home/dnllns/.pyenv/versions/3.8.16/envs/.venv_3816/lib/python3.8/site-packages (from intbitset==2.4.0->-r requirements.txt (line 1)) (1.16.0)\n",
      "Requirement already satisfied: decorator>=4.3.0 in /home/dnllns/.pyenv/versions/3.8.16/envs/.venv_3816/lib/python3.8/site-packages (from networkx==2.4->-r requirements.txt (line 3)) (5.1.1)\n",
      "Requirement already satisfied: python-dateutil>=2.7.3 in /home/dnllns/.pyenv/versions/3.8.16/envs/.venv_3816/lib/python3.8/site-packages (from pandas==1.1.5->-r requirements.txt (line 4)) (2.8.2)\n",
      "Requirement already satisfied: pytz>=2017.2 in /home/dnllns/.pyenv/versions/3.8.16/envs/.venv_3816/lib/python3.8/site-packages (from pandas==1.1.5->-r requirements.txt (line 4)) (2023.3)\n",
      "Requirement already satisfied: cycler>=0.10 in /home/dnllns/.pyenv/versions/3.8.16/envs/.venv_3816/lib/python3.8/site-packages (from matplotlib==3.2.2->-r requirements.txt (line 5)) (0.11.0)\n",
      "Requirement already satisfied: kiwisolver>=1.0.1 in /home/dnllns/.pyenv/versions/3.8.16/envs/.venv_3816/lib/python3.8/site-packages (from matplotlib==3.2.2->-r requirements.txt (line 5)) (1.4.4)\n",
      "Requirement already satisfied: pyparsing!=2.0.4,!=2.1.2,!=2.1.6,>=2.0.1 in /home/dnllns/.pyenv/versions/3.8.16/envs/.venv_3816/lib/python3.8/site-packages (from matplotlib==3.2.2->-r requirements.txt (line 5)) (3.0.9)\n"
     ]
    }
   ],
   "source": [
    "!pip install -r requirements.txt"
   ]
  },
  {
   "attachments": {},
   "cell_type": "markdown",
   "metadata": {},
   "source": [
    "## BIOCONDUCTOR TEST\n"
   ]
  },
  {
   "attachments": {},
   "cell_type": "markdown",
   "metadata": {},
   "source": [
    "### Model"
   ]
  },
  {
   "cell_type": "code",
   "execution_count": null,
   "metadata": {},
   "outputs": [],
   "source": [
    "from olivia.model import OliviaNetwork"
   ]
  },
  {
   "attachments": {},
   "cell_type": "markdown",
   "metadata": {},
   "source": [
    "Load prebuilt bioconductor model"
   ]
  },
  {
   "cell_type": "code",
   "execution_count": 4,
   "metadata": {},
   "outputs": [],
   "source": [
    "bioconductor = OliviaNetwork(r'../olivia_finder/results/olivia_prebuilts/bioconductor.olv')"
   ]
  },
  {
   "cell_type": "code",
   "execution_count": 5,
   "metadata": {},
   "outputs": [
    {
     "data": {
      "text/plain": [
       "{'a4Base', 'a4Classif', 'a4Core', 'a4Preproc', 'a4Reporting'}"
      ]
     },
     "execution_count": 5,
     "metadata": {},
     "output_type": "execute_result"
    }
   ],
   "source": [
    "bioconductor['a4'].direct_dependencies()"
   ]
  },
  {
   "cell_type": "code",
   "execution_count": 7,
   "metadata": {},
   "outputs": [
    {
     "data": {
      "text/plain": [
       "50"
      ]
     },
     "execution_count": 7,
     "metadata": {},
     "output_type": "execute_result"
    }
   ],
   "source": [
    "len(bioconductor['a4'].transitive_dependencies())"
   ]
  },
  {
   "attachments": {},
   "cell_type": "markdown",
   "metadata": {},
   "source": [
    "### Coupling"
   ]
  },
  {
   "cell_type": "code",
   "execution_count": 6,
   "metadata": {},
   "outputs": [],
   "source": [
    "from olivia.coupling import *"
   ]
  },
  {
   "cell_type": "code",
   "execution_count": 8,
   "metadata": {},
   "outputs": [
    {
     "data": {
      "text/plain": [
       "1"
      ]
     },
     "execution_count": 8,
     "metadata": {},
     "output_type": "execute_result"
    }
   ],
   "source": [
    "transitive_coupling(bioconductor,'a4Classif','a4')"
   ]
  },
  {
   "cell_type": "code",
   "execution_count": null,
   "metadata": {},
   "outputs": [
    {
     "data": {
      "text/plain": [
       "{'a4Classif'}"
      ]
     },
     "execution_count": 24,
     "metadata": {},
     "output_type": "execute_result"
    }
   ],
   "source": [
    "coupling_interface(bioconductor,'a4Classif','a4')"
   ]
  },
  {
   "cell_type": "code",
   "execution_count": null,
   "metadata": {
    "scrolled": true
   },
   "outputs": [
    {
     "data": {
      "text/plain": [
       "{'survival': {'a4Base'},\n",
       " 'KEGGREST': {'a4Base'},\n",
       " 'grid': {'a4Base'},\n",
       " 'varSelRF': {'a4Classif'},\n",
       " 'multtest': {'a4Base'},\n",
       " 'crayon': {'a4Base'},\n",
       " 'MASS': {'a4Base'},\n",
       " 'RSQLite': {'a4Base'},\n",
       " 'genefilter': {'a4Base'},\n",
       " 'IRanges': {'a4Base'},\n",
       " 'AnnotationDbi': {'a4Base'},\n",
       " 'tools': {'a4Base'},\n",
       " 'GenomeInfoDbData': {'a4Base'},\n",
       " 'Biostrings': {'a4Base'},\n",
       " 'GenomeInfoDb': {'a4Base'},\n",
       " 'zlibbioc': {'a4Base'},\n",
       " 'limma': {'a4Base'},\n",
       " 'png': {'a4Base'},\n",
       " 'utils': {'a4Base', 'a4Classif', 'a4Core', 'a4Preproc'},\n",
       " 'annotate': {'a4Base'},\n",
       " 'XML': {'a4Base'},\n",
       " 'BiocGenerics': {'a4Base', 'a4Classif', 'a4Core', 'a4Preproc'},\n",
       " 'mpm': {'a4Base'},\n",
       " 'a4Core': {'a4Base', 'a4Classif', 'a4Core'},\n",
       " 'pamr': {'a4Classif'},\n",
       " 'Biobase': {'a4Base', 'a4Classif', 'a4Core', 'a4Preproc'},\n",
       " 'DBI': {'a4Base'},\n",
       " 'grDevices': {'a4Base'},\n",
       " 'MatrixGenerics': {'a4Base'},\n",
       " 'graphics': {'a4Base', 'a4Classif', 'a4Core', 'a4Preproc'},\n",
       " 'glmnet': {'a4Base', 'a4Classif', 'a4Core'},\n",
       " 'R': {'a4Base', 'a4Classif', 'a4Core', 'a4Preproc'},\n",
       " 'gplots': {'a4Base'},\n",
       " 'a4Classif': {'a4Classif'},\n",
       " 'RCurl': {'a4Base'},\n",
       " 'stats': {'a4Base', 'a4Classif', 'a4Core', 'a4Preproc'},\n",
       " 'annaffy': {'a4Base'},\n",
       " 'stats4': {'a4Base'},\n",
       " 'GO.db': {'a4Base'},\n",
       " 'a4Base': {'a4Base'},\n",
       " 'BiocManager': {'a4Base'},\n",
       " 'xtable': {'a4Base', 'a4Reporting'},\n",
       " 'S4Vectors': {'a4Base'},\n",
       " 'httr': {'a4Base'},\n",
       " 'matrixStats': {'a4Base'},\n",
       " 'a4Reporting': {'a4Reporting'},\n",
       " 'methods': {'a4Base', 'a4Classif', 'a4Core', 'a4Preproc', 'a4Reporting'},\n",
       " 'XVector': {'a4Base'},\n",
       " 'a4Preproc': {'a4Base', 'a4Classif', 'a4Preproc'},\n",
       " 'ROCR': {'a4Classif'}}"
      ]
     },
     "execution_count": 25,
     "metadata": {},
     "output_type": "execute_result"
    }
   ],
   "source": [
    "coupling_profile(bioconductor,'a4')"
   ]
  },
  {
   "cell_type": "code",
   "execution_count": null,
   "metadata": {},
   "outputs": [
    {
     "data": {
      "text/plain": [
       "Text(0.5, 1.0, 'package: a4')"
      ]
     },
     "execution_count": 28,
     "metadata": {},
     "output_type": "execute_result"
    },
    {
     "data": {
      "image/png": "[encoded data removed]",
      "text/plain": [
       "<Figure size 640x480 with 1 Axes>"
      ]
     },
     "metadata": {},
     "output_type": "display_data"
    }
   ],
   "source": [
    "# Requires Matplotlib installed\n",
    "import matplotlib.pyplot as plt\n",
    "import numpy as np\n",
    "\n",
    "cp = coupling_profile(bioconductor,'a4')\n",
    "ls = [len(cp[l]) for l in cp]\n",
    "bins = np.arange(0, max(ls) + 1.5) - 0.5\n",
    "plt.hist(ls,bins,color='black',histtype='stepfilled')\n",
    "plt.xlabel('Transitive coupling')\n",
    "plt.ylabel('Number of transitive dependencies')\n",
    "plt.title('package: a4')"
   ]
  },
  {
   "attachments": {},
   "cell_type": "markdown",
   "metadata": {},
   "source": [
    "You may also access coupling methods via *PackageInfoView*:"
   ]
  },
  {
   "cell_type": "code",
   "execution_count": null,
   "metadata": {},
   "outputs": [
    {
     "data": {
      "text/plain": [
       "set()"
      ]
     },
     "execution_count": 34,
     "metadata": {},
     "output_type": "execute_result"
    }
   ],
   "source": [
    "bioconductor['a4'].coupling_interface_to('a4Base')"
   ]
  },
  {
   "cell_type": "code",
   "execution_count": null,
   "metadata": {
    "scrolled": true
   },
   "outputs": [
    {
     "data": {
      "text/plain": [
       "{'survival': {'a4Base'},\n",
       " 'KEGGREST': {'a4Base'},\n",
       " 'grid': {'a4Base'},\n",
       " 'varSelRF': {'a4Classif'},\n",
       " 'multtest': {'a4Base'},\n",
       " 'crayon': {'a4Base'},\n",
       " 'MASS': {'a4Base'},\n",
       " 'RSQLite': {'a4Base'},\n",
       " 'genefilter': {'a4Base'},\n",
       " 'IRanges': {'a4Base'},\n",
       " 'AnnotationDbi': {'a4Base'},\n",
       " 'tools': {'a4Base'},\n",
       " 'GenomeInfoDbData': {'a4Base'},\n",
       " 'Biostrings': {'a4Base'},\n",
       " 'GenomeInfoDb': {'a4Base'},\n",
       " 'zlibbioc': {'a4Base'},\n",
       " 'limma': {'a4Base'},\n",
       " 'png': {'a4Base'},\n",
       " 'utils': {'a4Base', 'a4Classif', 'a4Core', 'a4Preproc'},\n",
       " 'annotate': {'a4Base'},\n",
       " 'XML': {'a4Base'},\n",
       " 'BiocGenerics': {'a4Base', 'a4Classif', 'a4Core', 'a4Preproc'},\n",
       " 'mpm': {'a4Base'},\n",
       " 'a4Core': {'a4Base', 'a4Classif', 'a4Core'},\n",
       " 'pamr': {'a4Classif'},\n",
       " 'Biobase': {'a4Base', 'a4Classif', 'a4Core', 'a4Preproc'},\n",
       " 'DBI': {'a4Base'},\n",
       " 'grDevices': {'a4Base'},\n",
       " 'MatrixGenerics': {'a4Base'},\n",
       " 'graphics': {'a4Base', 'a4Classif', 'a4Core', 'a4Preproc'},\n",
       " 'glmnet': {'a4Base', 'a4Classif', 'a4Core'},\n",
       " 'R': {'a4Base', 'a4Classif', 'a4Core', 'a4Preproc'},\n",
       " 'gplots': {'a4Base'},\n",
       " 'a4Classif': {'a4Classif'},\n",
       " 'RCurl': {'a4Base'},\n",
       " 'stats': {'a4Base', 'a4Classif', 'a4Core', 'a4Preproc'},\n",
       " 'annaffy': {'a4Base'},\n",
       " 'stats4': {'a4Base'},\n",
       " 'GO.db': {'a4Base'},\n",
       " 'a4Base': {'a4Base'},\n",
       " 'BiocManager': {'a4Base'},\n",
       " 'xtable': {'a4Base', 'a4Reporting'},\n",
       " 'S4Vectors': {'a4Base'},\n",
       " 'httr': {'a4Base'},\n",
       " 'matrixStats': {'a4Base'},\n",
       " 'a4Reporting': {'a4Reporting'},\n",
       " 'methods': {'a4Base', 'a4Classif', 'a4Core', 'a4Preproc', 'a4Reporting'},\n",
       " 'XVector': {'a4Base'},\n",
       " 'a4Preproc': {'a4Base', 'a4Classif', 'a4Preproc'},\n",
       " 'ROCR': {'a4Classif'}}"
      ]
     },
     "execution_count": 35,
     "metadata": {},
     "output_type": "execute_result"
    }
   ],
   "source": [
    "bioconductor['a4'].coupling_profile()"
   ]
  },
  {
   "attachments": {},
   "cell_type": "markdown",
   "metadata": {},
   "source": [
    "### Strongly connected components"
   ]
  },
  {
   "attachments": {},
   "cell_type": "markdown",
   "metadata": {},
   "source": [
    "As OLIVIA internally uses the precomputed structure of SCCs of the dependency network, you can iterate immediatly over SCCs: "
   ]
  },
  {
   "cell_type": "code",
   "execution_count": 9,
   "metadata": {},
   "outputs": [
    {
     "name": "stdout",
     "output_type": "stream",
     "text": [
      "{'metaseqR2'}\n",
      "{'ABSSeq'}\n",
      "{'MODA'}\n",
      "...\n"
     ]
    }
   ],
   "source": [
    "scc_iterator = bioconductor.sccs()\n",
    "print(next(scc_iterator))\n",
    "print(next(scc_iterator))\n",
    "print(next(scc_iterator))\n",
    "print(\"...\")"
   ]
  },
  {
   "cell_type": "code",
   "execution_count": 10,
   "metadata": {},
   "outputs": [
    {
     "data": {
      "text/plain": [
       "[{'metaseqR2'},\n",
       " {'ABSSeq'},\n",
       " {'MODA'},\n",
       " {'AMOUNTAIN'},\n",
       " {'ASEB'},\n",
       " {'NADfinder'},\n",
       " {'ATACseqQC'},\n",
       " {'AlphaBeta'},\n",
       " {'epimutacions'},\n",
       " {'signifinder'}]"
      ]
     },
     "execution_count": 10,
     "metadata": {},
     "output_type": "execute_result"
    }
   ],
   "source": [
    "bioconductor.sorted_clusters()[:10]"
   ]
  },
  {
   "cell_type": "code",
   "execution_count": 11,
   "metadata": {},
   "outputs": [
    {
     "data": {
      "text/plain": [
       "{'genefilter'}"
      ]
     },
     "execution_count": 11,
     "metadata": {},
     "output_type": "execute_result"
    }
   ],
   "source": [
    "bioconductor['genefilter'].scc()"
   ]
  },
  {
   "attachments": {},
   "cell_type": "markdown",
   "metadata": {},
   "source": [
    "### Network vulnerability"
   ]
  },
  {
   "cell_type": "code",
   "execution_count": 14,
   "metadata": {},
   "outputs": [],
   "source": [
    "from olivia.networkmetrics import *\n",
    "from olivia.packagemetrics import Impact"
   ]
  },
  {
   "cell_type": "code",
   "execution_count": 13,
   "metadata": {},
   "outputs": [
    {
     "name": "stdout",
     "output_type": "stream",
     "text": [
      "Computing Reach\n",
      "     Processing node: 3K      \n"
     ]
    },
    {
     "data": {
      "text/plain": [
       "24.817326873753206"
      ]
     },
     "execution_count": 13,
     "metadata": {},
     "output_type": "execute_result"
    }
   ],
   "source": [
    "failure_vulnerability(bioconductor)"
   ]
  },
  {
   "cell_type": "code",
   "execution_count": 15,
   "metadata": {},
   "outputs": [
    {
     "name": "stdout",
     "output_type": "stream",
     "text": [
      "Computing Impact\n",
      "     Processing node: 3K      \n"
     ]
    },
    {
     "data": {
      "text/plain": [
       "56.51154174978626"
      ]
     },
     "execution_count": 15,
     "metadata": {},
     "output_type": "execute_result"
    }
   ],
   "source": [
    "\n",
    "failure_vulnerability(bioconductor, metric=Impact)"
   ]
  },
  {
   "attachments": {},
   "cell_type": "markdown",
   "metadata": {},
   "source": [
    "## CRAN TEST"
   ]
  }
 ],
 "metadata": {
  "kernelspec": {
   "display_name": "Python 3",
   "language": "python",
   "name": "python3"
  },
  "language_info": {
   "codemirror_mode": {
    "name": "ipython",
    "version": 3
   },
   "file_extension": ".py",
   "mimetype": "text/x-python",
   "name": "python",
   "nbconvert_exporter": "python",
   "pygments_lexer": "ipython3",
   "version": "3.8.16"
  }
 },
 "nbformat": 4,
 "nbformat_minor": 4
}
