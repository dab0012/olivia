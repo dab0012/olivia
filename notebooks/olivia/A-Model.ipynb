{
 "cells": [
  {
   "attachments": {},
   "cell_type": "markdown",
   "metadata": {},
   "source": [
    "# **OLIVIA - Model**"
   ]
  },
  {
   "cell_type": "code",
   "execution_count": 1,
   "metadata": {},
   "outputs": [
    {
     "name": "stdout",
     "output_type": "stream",
     "text": [
      "Requirement already satisfied: intbitset==2.4.0 in /home/dnllns/.pyenv/versions/3.8.16/envs/.venv_3816/lib/python3.8/site-packages (from -r requirements.txt (line 1)) (2.4.0)\n",
      "Requirement already satisfied: numpy==1.18.5 in /home/dnllns/.pyenv/versions/3.8.16/envs/.venv_3816/lib/python3.8/site-packages (from -r requirements.txt (line 2)) (1.18.5)\n",
      "Requirement already satisfied: networkx==2.4 in /home/dnllns/.pyenv/versions/3.8.16/envs/.venv_3816/lib/python3.8/site-packages (from -r requirements.txt (line 3)) (2.4)\n",
      "Requirement already satisfied: pandas==1.1.5 in /home/dnllns/.pyenv/versions/3.8.16/envs/.venv_3816/lib/python3.8/site-packages (from -r requirements.txt (line 4)) (1.1.5)\n",
      "Requirement already satisfied: matplotlib==3.2.2 in /home/dnllns/.pyenv/versions/3.8.16/envs/.venv_3816/lib/python3.8/site-packages (from -r requirements.txt (line 5)) (3.2.2)\n",
      "Requirement already satisfied: six in /home/dnllns/.pyenv/versions/3.8.16/envs/.venv_3816/lib/python3.8/site-packages (from intbitset==2.4.0->-r requirements.txt (line 1)) (1.16.0)\n",
      "Requirement already satisfied: decorator>=4.3.0 in /home/dnllns/.pyenv/versions/3.8.16/envs/.venv_3816/lib/python3.8/site-packages (from networkx==2.4->-r requirements.txt (line 3)) (5.1.1)\n",
      "Requirement already satisfied: python-dateutil>=2.7.3 in /home/dnllns/.pyenv/versions/3.8.16/envs/.venv_3816/lib/python3.8/site-packages (from pandas==1.1.5->-r requirements.txt (line 4)) (2.8.2)\n",
      "Requirement already satisfied: pytz>=2017.2 in /home/dnllns/.pyenv/versions/3.8.16/envs/.venv_3816/lib/python3.8/site-packages (from pandas==1.1.5->-r requirements.txt (line 4)) (2023.3)\n",
      "Requirement already satisfied: cycler>=0.10 in /home/dnllns/.pyenv/versions/3.8.16/envs/.venv_3816/lib/python3.8/site-packages (from matplotlib==3.2.2->-r requirements.txt (line 5)) (0.11.0)\n",
      "Requirement already satisfied: kiwisolver>=1.0.1 in /home/dnllns/.pyenv/versions/3.8.16/envs/.venv_3816/lib/python3.8/site-packages (from matplotlib==3.2.2->-r requirements.txt (line 5)) (1.4.4)\n",
      "Requirement already satisfied: pyparsing!=2.0.4,!=2.1.2,!=2.1.6,>=2.0.1 in /home/dnllns/.pyenv/versions/3.8.16/envs/.venv_3816/lib/python3.8/site-packages (from matplotlib==3.2.2->-r requirements.txt (line 5)) (3.0.9)\n"
     ]
    }
   ],
   "source": [
    "# Add olivia to the python path\n",
    "import sys\n",
    "sys.path.append('../../olivia')\n",
    "\n",
    "# Install the requirements\n",
    "!pip install -r requirements.txt"
   ]
  },
  {
   "attachments": {},
   "cell_type": "markdown",
   "metadata": {},
   "source": [
    "## BIOCONDUCTOR TEST"
   ]
  },
  {
   "attachments": {},
   "cell_type": "markdown",
   "metadata": {},
   "source": [
    "### Basic use"
   ]
  },
  {
   "cell_type": "code",
   "execution_count": 2,
   "metadata": {},
   "outputs": [],
   "source": [
    "from olivia.model import OliviaNetwork"
   ]
  },
  {
   "cell_type": "code",
   "execution_count": 3,
   "metadata": {},
   "outputs": [],
   "source": [
    "bioconductor = OliviaNetwork(r'../olivia_finder/results/olivia_prebuilts/bioconductor.olv')"
   ]
  },
  {
   "cell_type": "code",
   "execution_count": 4,
   "metadata": {},
   "outputs": [
    {
     "data": {
      "text/plain": [
       "3509"
      ]
     },
     "execution_count": 4,
     "metadata": {},
     "output_type": "execute_result"
    }
   ],
   "source": [
    "len(bioconductor)"
   ]
  },
  {
   "cell_type": "code",
   "execution_count": 5,
   "metadata": {},
   "outputs": [
    {
     "name": "stdout",
     "output_type": "stream",
     "text": [
      "basecallQC\n",
      "benchdamic\n",
      "biscuiteer\n",
      "branchpointer\n",
      "bamsignals\n",
      "bayNorm\n",
      "bigPint\n",
      "biomformat\n",
      "banocc\n",
      "bcSeq\n",
      "bigmelon\n",
      "biodbKegg\n",
      "bnbc\n",
      "bugsigdbr\n",
      "bandle\n",
      "bioDist\n",
      "biodb\n",
      "biodbNci\n",
      "blacksheepr\n",
      "bsseq\n",
      "barcodetrackR\n",
      "beadarray\n",
      "bioCancer\n",
      "biodbHmdb\n",
      "biodbUniprot\n",
      "blima\n",
      "breakpointR\n",
      "bambu\n",
      "baySeq\n",
      "bgx\n",
      "biocViews\n",
      "biodbLipidmaps\n",
      "bnem\n",
      "bumphunter\n",
      "ballgown\n",
      "bioassayR\n",
      "biodbExpasy\n",
      "biodbNcbi\n",
      "biovizBase\n",
      "brainflowprobes\n",
      "bacon\n",
      "beer\n",
      "biobroom\n",
      "biodbChebi\n",
      "biodbMirbase\n",
      "biotmle\n",
      "borealis\n",
      "batchelor\n",
      "biobtreeR\n",
      "biomaRt\n",
      "bluster\n",
      "biocGraph\n",
      "biomvRCNS\n",
      "beachmat\n",
      "biosigner\n",
      "basilisk.utils\n",
      "beadarraySNP\n",
      "basilisk\n",
      "brendaDb\n",
      "betareg\n",
      "biocthis\n",
      "broom\n",
      "base64enc\n",
      "bit64\n",
      "biglm\n",
      "beanplot\n",
      "boot\n",
      "biclust\n",
      "bitops\n",
      "biscuiteerData\n",
      "bezier\n",
      "bigmemory\n",
      "binom\n",
      "bbmle\n",
      "batchtools\n",
      "bookdown\n",
      "biwt\n",
      "biganalytics\n",
      "beeswarm\n",
      "bibtex\n",
      "bslib\n",
      "base\n",
      "bestNormalize\n",
      "bigrquery\n",
      "bnlearn\n",
      "bsplus\n",
      "baseline\n",
      "brglm\n",
      "bootstrap\n",
      "brew\n",
      "bamlss\n",
      "benchmarkme\n",
      "breastCancerVDX\n",
      "bench\n",
      "backbone\n",
      "bs4Dash\n",
      "bdsmatrix\n",
      "breakpointRdata\n",
      "bit\n",
      "base64url\n",
      "bladderbatch\n",
      "base64\n",
      "blockmodeling\n",
      "binr\n",
      "blme\n",
      "babelgene\n",
      "bnstruct\n",
      "bigstatsr\n",
      "biomartr\n",
      "broom.mixed\n"
     ]
    }
   ],
   "source": [
    "for package in bioconductor:\n",
    "    if package[0]=='b':\n",
    "        print(package)"
   ]
  },
  {
   "attachments": {},
   "cell_type": "markdown",
   "metadata": {},
   "source": [
    "### Package properties"
   ]
  },
  {
   "attachments": {},
   "cell_type": "markdown",
   "metadata": {},
   "source": [
    "Access via *getitem* returns a special view object:"
   ]
  },
  {
   "cell_type": "code",
   "execution_count": 6,
   "metadata": {},
   "outputs": [
    {
     "data": {
      "text/plain": [
       "<olivia.model.PackageInfoView at 0x7f03f42476a0>"
      ]
     },
     "execution_count": 6,
     "metadata": {},
     "output_type": "execute_result"
    }
   ],
   "source": [
    "bioconductor['BiocGenerics']"
   ]
  },
  {
   "cell_type": "code",
   "execution_count": 7,
   "metadata": {},
   "outputs": [
    {
     "name": "stdout",
     "output_type": "stream",
     "text": [
      "BiocGenerics has 480 direct dependants\n"
     ]
    }
   ],
   "source": [
    "print(f\"BiocGenerics has {len(bioconductor['BiocGenerics'].direct_dependants())} direct dependants\")  "
   ]
  },
  {
   "cell_type": "code",
   "execution_count": 8,
   "metadata": {},
   "outputs": [
    {
     "name": "stdout",
     "output_type": "stream",
     "text": [
      "BiocGenerics has 1704 transitive dependants (includes direct dependants)\n"
     ]
    }
   ],
   "source": [
    "print(f\"BiocGenerics has {len(bioconductor['BiocGenerics'].transitive_dependants())} transitive dependants (includes direct dependants)\")"
   ]
  },
  {
   "cell_type": "code",
   "execution_count": 9,
   "metadata": {
    "scrolled": true
   },
   "outputs": [
    {
     "name": "stdout",
     "output_type": "stream",
     "text": [
      "{'nucleoSim', 'BioNAR', 'SIAMCAT', 'CellNOptR', 'tidySummarizedExperiment', 'GEOquery', 'microSTASIS', 'ImmuneSpaceR', 'NormalyzerDE', 'cageminer', 'scds', 'BioMM', 'crisprVerse', 'methrix', 'RTNsurvival', 'trio', 'tenXplore', 'ROCpAI', 'mBPCR', 'ballgown', 'affyContam', 'EnrichedHeatmap', 'CexoR', 'rifiComparative', 'Voyager', 'MsExperiment', 'Risa', 'GeneTonic', 'MsFeatures', 'mnem', 'GenomicDistributions', 'doppelgangR', 'ExpressionAtlas', 'tidybulk', 'genomation', 'TileDBArray', 'MBQN', 'SCANVIS', 'CNVfilteR', 'EBSEA', 'factDesign', 'MethTargetedNGS', 'rgsepd', 'dmrseq', 'VplotR', 'pipeComp', 'extraChIPs', 'MungeSumstats', 'Cormotif', 'MatrixRider', 'GeneSelectMMD', 'TnT', 'GeneNetworkBuilder', 'trigger', 'FISHalyseR', 'netZooR', 'regioneR', 'flowViz', 'netDx', 'regioneReloaded', 'omicade4', 'RBioFormats', 'BioTIP', 'STATegRa', 'NetSAM', 'TFARM', 'sampleClassifier', 'cfTools', 'simpleSeg', 'nanotatoR', 'RBioinf', 'scone', 'flowBeads', 'ptairMS', 'CoSIA', 'scp', 'BioMVCClass', 'SGCP', 'clipper', 'biomvRCNS', 'MEAT', 'Guitar', 'consensusOV', 'rGREAT', 'NCIgraph', 'CellBarcode', 'rifi', 'BEAT', 'oposSOM', 'SCATE', 'AMARETTO', 'microbiome', 'OVESEG', 'planttfhunter', 'Rtpca', 'GSVA', 'karyoploteR', 'singscore', 'ccmap', 'Harshlight', 'BiocFHIR', 'hapFabia', 'arrayQualityMetrics', 'qrqc', 'RESOLVE', 'EWCE', 'scGPS', 'Mulcom', 'CAMERA', 'satuRn', 'scmeth', 'HybridMTest', 'lefser', 'BgeeDB', 'diggit', 'CellScore', 'TargetDecoy', 'MobilityTransformR', 'Scale4C', 'GEOexplorer', 'AssessORF', 'PADOG', 'flowMatch', 'Rtreemix', 'cnvGSA', 'attract', 'scoreInvHap', 'PhyloProfile', 'NanoTube', 'iSEEhex', 'BgeeCall', 'aCGH', 'globaltest', 'SubCellBarCode', 'dStruct', 'aggregateBioVar', 'kebabs', 'EDIRquery', 'scCB2', 'GenomicOZone', 'mbkmeans', 'survtype', 'Glimma', 'CNORfeeder', 'BindingSiteFinder', 'goProfiles', 'circRNAprofiler', 'paircompviz', 'spiky', 'wiggleplotr', 'RegEnrich', 'flowVS', 'MSA2dist', 'PREDA', 'BiocSklearn', 'Organism.dplyr', 'tilingArray', 'DEsubs', 'speckle', 'padma', 'corral', 'AIMS', 'pathview', 'diffUTR', 'flowCut', 'tRanslatome', 'Mfuzz', 'OncoScore', 'gscreend', 'tracktables', 'bcSeq', 'bandle', 'CRImage', 'BOBaFIT', 'proBAMr', 'PPInfer', 'customCMPdb', 'sevenbridges', 'metagene2', 'CNVMetrics', 'SCAN.UPC', 'vidger', 'CytoDx', 'combi', 'appreci8R', 'BiocHubsShiny', 'isobar', 'cleaver', 'arrayMvout', 'qsvaR', 'ELMER', 'mCSEA', 'ssviz', 'GeoDiff', 'brainflowprobes', 'baySeq', 'projectR', 'TADCompare', 'rTRM', 'AgiMicroRna', 'BiocOncoTK', 'SIMAT', 'marr', 'Rnits', 'MetaboSignal', 'muscle', 'immunoClust', 'MSPrep', 'SpatialDecon', 'bluster', 'GNET2', 'deltaCaptureC', 'EBcoexpress', 'alabaster.vcf', 'TDbasedUFE', 'edge', 'ReadqPCR', 'RBGL', 'ACE', 'MEB', 'waddR', 'farms', 'Dino', 'bgx', 'pcaExplorer', 'schex', 'iBMQ', 'idiogram', 'OncoSimulR', 'CopyNumberPlots', 'pairedGSEA', 'MsQuality', 'infinityFlow', 'SemDist', 'CSAR', 'GeneMeta', 'Rhisat2', 'protGear', 'regionReport', 'RTNduals', 'recount', 'BBCAnalyzer', 'recount3', 'adSplit', 'SpatialCPie', 'ADaCGH2', 'goSTAG', 'miQC', 'AnnotationFilter', 'LiquidAssociation', 'maSigPro', 'LoomExperiment', 'CNORfuzzy', 'pipeFrame', 'metavizr', 'diffcyt', 'VegaMC', 'a4Core', 'kissDE', 'ASSIGN', 'CNTools', 'ExperimentSubset', 'RSVSim', 'miRNAmeConverter', 'TFutils', 'alabaster.mae', 'DeMixT', 'chromPlot', 'tricycle', 'Maaslin2', 'h5vc', 'SingleR', 'FoldGO', 'chihaya', 'TimiRGeN', 'SIM', 'covRNA', 'SpatialOmicsOverlay', 'MetaPhOR', 'GeneStructureTools', 'convert', 'hummingbird', 'GRmetrics', 'ClassifyR', 'biosigner', 'oppar', 'MSstatsQC', 'sSNAPPY', 'BioNet', 'qpcrNorm', 'CODEX', 'KnowSeq', 'bioDist', 'qsmooth', 'ATACCoGAPS', 'MicrobiotaProcess', 'SpectralTAD', 'qmtools', 'MCbiclust', 'InterCellar', 'scDataviz', 'recountmethylation', 'MethCP', 'lumi', 'transomics2cytoscape', 'rrvgo', 'scDD', 'esetVis', 'iCheck', 'miRcomp', 'RgnTX', 'a4Base', 'epivizrData', 'FCBF', 'BUMHMM', 'msmsTests', 'SeqGate', 'R4RNA', 'Metab', 'KEGGREST', 'MAGeCKFlute', 'cTRAP', 'Basic4Cseq', 'crisprseekplus', 'SELEX', 'lionessR', 'fishpond', 'ReQON', 'missRows', 'artMS', 'TCC', 'SpotClean', 'DAPAR', 'InterMineR', 'VarCon', 'TEKRABber', 'MAI', 'IMMAN', 'PrInCE', 'scFeatures', 'DIAlignR', 'CNVrd2', 'SICtools', 'packFinder', 'MsCoreUtils', 'IFAA', 'KEGGlincs', 'Rmmquant', 'ChIPsim', 'MDTS', 'proteasy', 'SomaticSignatures', 'GOfuncR', 'graphite', 'structToolbox', 'bnem', 'pogos', 'censcyt', 'hmdbQuery', 'getDEE2', 'PAIRADISE', 'BiocNeighbors', 'ExCluster', 'OmicCircos', 'Uniquorn', 'dasper', 'ADImpute', 'GraphPAC', 'IntOMICS', 'LACE', 'MWASTools', 'debrowser', 'rGADEM', 'MEIGOR', 'NewWave', 'RMassBank', 'iCNV', 'ChIPXpress', 'Dune', 'HiCcompare', 'MetCirc', 'SparseSignatures', 'distinct', 'flowMeans', 'SplicingFactory', 'ZygosityPredictor', 'regsplice', 'customProDB', 'MicrobiomeProfiler', 'alabaster.base', 'SPONGE', 'dpeak', 'EBarrays', 'genefu', 'comapr', 'RolDE', 'fCCAC', 'PECA', 'transformGamPoi', 'ANCOMBC', 'GARS', 'SPLINTER', 'BAGS', 'Rgraphviz', 'MuData', 'QuartPAC', 'Prostar', 'frmaTools', 'GCSscore', 'MOGAMUN', 'ecolitk', 'GlobalAncova', 'basecallQC', 'rbsurv', 'viper', 'MAIT', 'DegNorm', 'normalize450K', 'sscore', 'GAPGOM', 'metagene', 'geneRecommender', 'BadRegionFinder', 'msgbsR', 'snapcount', 'VAExprs', 'MEDIPS', 'miRspongeR', 'gcrma', 'DELocal', 'HiCBricks', 'SigCheck', 'BiocSet', 'DominoEffect', 'VariantExperiment', 'martini', 'Rcpi', 'stageR', 'GOexpress', 'Sconify', 'CopywriteR', 'synapsis', 'LowMACA', 'oneSENSE', 'coMethDMR', 'flowGate', 'OmaDB', 'miRNAtap', 'NanoMethViz', 'DECIPHER', 'methylKit', 'gemma.R', 'CytoML', 'GISPA', 'lapmix', 'spaSim', 'ChIPanalyser', 'mAPKL', 'ADAM', 'MsDataHub', 'seqArchRplus', 'SPIA', 'GeneGeneInteR', 'scReClassify', 'GDCRNATools', 'zinbwave', 'multiHiCcompare', 'BatchQC', 'GSEABenchmarkeR', 'beer', 'Cepo', 'singleCellTK', 'pepStat', 'RNAinteract', 'VaSP', 'BiFET', 'OrderedList', 'condiments', 'cliqueMS', 'safe', 'reconsi', 'AHMassBank', 'SAIGEgds', 'tradeSeq', 'ggmsa', 'ReUseData', 'APL', 'idpr', 'sva', 'tscR', 'scry', 'EnrichmentBrowser', 'shinyepico', 'geneXtendeR', 'ddPCRclust', 'VDJdive', 'hyperdraw', 'selectKSigs', 'GOSim', 'CGHnormaliter', 'sesame', 'FuseSOM', 'microbiomeExplorer', 'scMerge', 'RIPAT', 'methylGSA', 'CancerSubtypes', 'PrecisionTrialDrawer', 'openPrimeRui', 'DFP', 'PAST', 'scAnnotatR', 'terraTCGAdata', 'BRGenomics', 'sechm', 'TPP', 'pvac', 'deco', 'ROTS', 'mosbi', 'FilterFFPE', 'biomaRt', 'flowDensity', 'annotationTools', 'COTAN', 'SVMDO', 'ORFhunteR', 'famat', 'flowClean', 'scRNAseqApp', 'vissE', 'MiChip', 'makecdfenv', 'Cogito', 'IgGeneUsage', 'cycle', 'FEAST', 'sigsquared', 'epivizr', 'MSstatsQCgui', 'procoil', 'doubletrouble', 'nempi', 'ropls', 'HiCDCPlus', 'ENmix', 'MEDME', 'HTqPCR', 'maanova', 'annaffy', 'fastLiquidAssociation', 'motifmatchr', 'clusterStab', 'SiPSiC', 'benchdamic', 'flowPloidy', 'SynExtend', 'NeighborNet', 'DExMA', 'DeconRNASeq', 'MSstatsShiny', 'ERSSA', 'affyILM', 'flowAI', 'vtpnet', 'BioNERO', 'cbaf', 'CAEN', 'moanin', 'KEGGgraph', 'scTGIF', 'peakPantheR', 'CSSQ', 'SBGNview', 'imageHTS', 'MGFR', 'RepViz', 'twoddpcr', 'MiPP', 'epidecodeR', 'CoCiteStats', 'OutSplice', 'atSNP', 'Nebulosa', 'DMRScan', 'rRDP', 'PROMISE', 'PAA', 'mygene', 'mbQTL', 'LRBaseDbi', 'pathRender', 'BANDITS', 'syntenet', 'ADAMgui', 'xcore', 'IdeoViz', 'EventPointer', 'CBNplot', 'Rmagpie', 'iSEEhub', 'CytoPipeline', 'hipathia', 'MACSr', 'epiNEM', 'BasicSTARRseq', 'ribor', 'AffiXcan', 'Xeva', 'cleanUpdTSeq', 'GRaNIE', 'DelayedTensor', 'QDNAseq', 'Rcwl', 'GeoTcgaData', 'animalcules', 'mfa', 'microRNA', 'BDMMAcorrect', 'exomeCopy', 'HilbertCurve', 'preciseTAD', 'adductomicsR', 'maPredictDSC', 'ExiMiR', 'DSS', 'odseq', 'Rbowtie2', 'stJoincount', 'APAlyzer', 'fgga', 'HumanTranscriptomeCompendium', 'RTCA', 'ExploreModelMatrix', 'CeTF', 'lineagespot', 'DeepBlueR', 'cancerclass', 'phantasus', 'GRridge', 'multiscan', 'midasHLA', 'MeSHDbi', 'sangerseqR', 'ASpediaFI', 'SeqSQC', 'dyebias', 'alabaster.matrix', 'GBScleanR', 'subSeq', 'HTSFilter', 'MoonlightR', 'OGRE', 'flowTime', 'MetaboCoreUtils', 'methimpute', 'CTdata', 'staRank', 'cosmosR', 'OTUbase', 'cliProfiler', 'RTN', 'IWTomics', 'gsean', 'chromswitch', 'Doscheda', 'systemPipeTools', 'zenith', 'ViSEAGO', 'GmicR', 'DNAshapeR', 'MAGAR', 'EpiMix', 'ccfindR', 'ROntoTools', 'discordant', 'coRdon', 'ggspavis', 'imcRtools', 'snapCGH', 'TFHAZ', 'BLMA', 'segmenter', 'TBSignatureProfiler', 'airpart', 'optimalFlow', 'DMRforPairs', 'webbioc', 'methylInheritance', 'SingleCellSignalR', 'receptLoss', 'miRmine', 'alabaster.string', 'psygenet2r', 'BiGGR', 'GOSemSim', 'Statial', 'Qtlizer', 'CiteFuse', 'POMA', 'ideal', 'methylclock', 'scTensor', 'seqbias', 'MetaCyto', 'HEM', 'DifferentialRegulation', 'SRAdb', 'RefPlus', 'scanMiRApp', 'msImpute', 'sigFeature', 'flowTrans', 'CoverageView', 'prebs', 'CelliD', 'GEOsubmission', 'OMICsPCA', 'proFIA', 'msmsEDA', 'BUScorrect', 'escheR', 'goSorensen', 'katdetectr', 'sangeranalyseR', 'MSstatsLiP', 'RnaSeqSampleSize', 'RIVER', 'PFP', 'CONFESS', 'PeacoQC', 'pwrEWAS', 'quantro', 'hpar', 'proActiv', 'TOAST', 'BRAIN', 'StarBioTrek', 'TTMap', 'ArrayExpress', 'srnadiff', 'DEP', 'scifer', 'alabaster.spatial', 'struct', 'cogena', 'nnSVG', 'DMCHMM', 'PSEA', 'CNORode', 'GWENA', 'sarks', 'CINdex', 'copa', 'ComplexHeatmap', 'ssPATHS', 'PICS', 'scviR', 'eudysbiome', 'CNViz', 'oncoscanR', 'plgem', 'BaalChIP', 'myvariant', 'gwasurvivr', 'MIMOSA', 'pmp', 'maigesPack', 'chimeraviz', 'phenoTest', 'PCAtools', 'pqsfinder', 'omicRexposome', 'BUSseq', 'GreyListChIP', 'cpvSNP', 'netboxr', 'ABarray', 'screenCounter', 'multiGSEA', 'CEMiTool', 'covEB', 'CATALYST', 'divergence', 'ChAMP', 'omicsViewer', 'pareg', 'evaluomeR', 'epihet', 'MetaNeighbor', 'fedup', 'rfPred', 'hypergraph', 'ANF', 'transcriptogramer', 'genomicInstability', 'pulsedSilac', 'MLSeq', 'CyTOFpower', 'DiffBind', 'slingshot', 'GeneRegionScan', 'SPsimSeq', 'plier', 'CellMapper', 'gtrellis', 'countsimQC', 'ipdDb', 'metabCombiner', 'InPAS', 'scTreeViz', 'goTools', 'spatialHeatmap', 'qcmetrics', 'scanMiR', 'phenopath', 'TCGAbiolinks', 'msPurity', 'TFEA.ChIP', 'plotgardener', 'GOstats', 'metaSeq', 'GeneBreak', 'NeuCA', 'ncRNAtools', 'SigFuge', 'r3Cseq', 'DOSE', 'CGHcall', 'MOSim', 'CCPROMISE', 'MsBackendRawFileReader', 'wpm', 'scde', 'tidySingleCellExperiment', 'orthogene', 'seqCAT', 'RUVnormalize', 'CHETAH', 'GenomicInteractionNodes', 'a4Classif', 'rhdf5client', 'BloodGen3Module', 'coMET', 'mirIntegrator', 'Pviz', 'BioNetStat', 'enrichplot', 'pkgDepTools', 'loci2path', 'anota', 'MOFA2', 'TissueEnrich', 'MPRAnalyze', 'iterClust', 'ConsensusClusterPlus', 'musicatk', 'PhenStat', 'NetActivity', 'Rbec', 'awst', 'PROPS', 'muscat', 'SMITE', 'IPO', 'methylscaper', 'fcScan', 'ALDEx2', 'rprimer', 'made4', 'miRSM', 'celda', 'qpgraph', 'MsBackendMsp', 'CHRONOS', 'iterativeBMA', 'blacksheepr', 'GenomicDataCommons', 'MGFM', 'deepSNV', 'msqrob2', 'multiSight', 'branchpointer', 'iSEEu', 'GateFinder', 'MADSEQ', 'metabolomicsWorkbenchR', 'flagme', 'pvca', 'MouseFM', 'panp', 'TrajectoryUtils', 'SPIAT', 'GMRP', 'DMRcaller', 'traseR', 'apComplex', 'gaga', 'glmSparseNet', 'epigraHMM', 'ScaledMatrix', 'gage', 'tximeta', 'IRISFGM', 'cellity', 'cellbaseR', 'cogeqc', 'TMixClust', 'MsBackendMassbank', 'GraphAT', 'chromDraw', 'qusage', 'FeatSeekR', 'cmapR', 'TREG', 'anota2seq', 'MetID', 'BCRANK', 'RNAAgeCalc', 'mastR', 'GenomicSuperSignature', 'CMA', 'runibic', 'cn.farms', 'slalom', 'rqt', 'seqArchR', 'FastqCleaner', 'UCell', 'ResidualMatrix', 'SWATH2stats', 'regutools', 'GSRI', 'quantiseqr', 'TNBC.CMS', 'scMET', 'bayNorm', 'hiAnnotator', 'periodicDNA', 'mosaics', 'netOmics', 'methylCC', 'puma', 'CluMSID', 'variancePartition', 'EasyCellType', 'megadepth', 'segmentSeq', 'gespeR', 'ReactomePA', 'clustifyr', 'randPack', 'POWSC', 'BayesSpace', 'tomoda', 'twilight', 'scPCA', 'MatrixQCvis', 'Melissa', 'EGAD', 'CGHregions', 'maskBAD', 'scRepertoire', 'CAFE', 'PERFect', 'derfinderPlot', 'ontoProc', 'SeqGSEA', 'annotatr', 'RcwlPipelines', 'rfaRm', 'alabaster', 'keggorthology', 'timecourse', 'barcodetrackR', 'ggcyto', 'pageRank', 'ChIPexoQual', 'MMDiff2', 'metabomxtr', 'DEFormats', 'PathoStat', 'triplex', 'NormqPCR', 'cosmiq', 'FELLA', 'CNORdt', 'm6Aboost', 'synapter', 'ASURAT', 'psichomics', 'gaggle', 'SPEM', 'groHMM', 'EGSEA', 'vsn', 'MultiBaC', 'fabia', 'HELP', 'skewr', 'ILoReg', 'restfulSE', 'DelayedRandomArray', 'nullranges', 'SpacePAC', 'MethReg', 'geneRxCluster', 'LinkHD', 'rexposome', 'NOISeq', 'borealis', 'magpie', 'rcellminer', 'iPAC', 'TRONCO', 'DaMiRseq', 'iasva', 'BiocPkgTools', 'clippda', 'RTopper', 'omicsPrint', 'seqsetvis', 'HIPPO', 'BiocCheck', 'SPOTlight', 'BPRMeth', 'SEtools', 'drugTargetInteractions', 'siggenes', 'consICA', 'NanoStringQCPro', 'SimBindProfiles', 'scBFA', 'coseq', 'meshes', 'idr2d', 'XNAString', 'BEARscc', 'HiCool', 'MsBackendSql', 'nethet', 'beadarraySNP', 'SimFFPE', 'sccomp', 'MSstatsPTM', 'scClassify', 'clusterProfiler', 'ChromSCape', 'netSmooth', 'riboSeqR', 'Pigengene', 'ncGTW', 'RUVSeq', 'cytomapper', 'treekoR', 'polyester', 'tLOH', 'canceR', 'logitT', 'BioCor', 'spatialDE', 'alabaster.sce', 'lipidr', 'NBAMSeq', 'trena', 'DMRcate', 'geNetClassifier', 'rmspc', 'cardelino', 'uncoverappLib', 'a4', 'GSEAlm', 'scHOT', 'PLPE', 'rain', 'macat', 'RLSeq', 'ITALICS', 'doseR', 'Spaniel', 'microbiomeDASim', 'RbcBook1', 'SigsPack', 'scDDboost', 'BioQC', 'DEGraph', 'PanomiR', 'CBEA', 'HiTC', 'RNAsense', 'SpidermiR', 'metagenomeSeq', 'dce', 'omicplotR', 'RCM', 'netresponse', 'GSReg', 'flowCHIC', 'SISPA', 'proBatch', 'GEOmetadb', 'bigPint', 'panelcn.mops', 'MoleculeExperiment', 'GWASTools', 'CTDquerier', 'SeqArray', 'supersigs', 'cytoviewer', 'fcoex', 'STROMA4', 'RGraph2js', 'AGDEX', 'LineagePulse', 'SDAMS', 'switchde', 'GeneAccord', 'phenomis', 'SpeCond', 'LRcell', 'miaSim', 'easier', 'vulcan', 'gCrisprTools', 'octad', 'pairkat', 'ggmanh', 'FunChIP', 'CoGAPS', 'SimBu', 'conumee', 'motifcounter', 'compartmap', 'MBECS', 'funtooNorm', 'ivygapSE', 'eegc', 'CGHbase', 'cBioPortalData', 'OCplus', 'MLP', 'RITAN', 'flowMerge', 'TDbasedUFEadv', 'zFPKM', 'motifStack', 'MOMA', 'CTSV', 'cyanoFilter', 'biobroom', 'cytoMEM', 'genefilter', 'surfaltr', 'vsclust', 'Trendy', 'MethylSeekR', 'CrispRVariants', 'seqPattern', 'MesKit', 'MetNet', 'ProteoMM', 'massiR', 'miRLAB', 'wateRmelon', 'SCArray', 'NanoStringDiff', 'YAPSA', 'BicARE', 'splineTimeR', 'zellkonverter', 'multiOmicsViz', 'peco', 'TOP', 'cytofQC', 'yarn', 'affycomp', 'MMUPHin', 'bioCancer', 'MethPed', 'cytoKernel', 'Macarron', 'normr', 'oncomix', 'InteractiveComplexHeatmap', 'apeglm', 'GOpro', 'escape', 'derfinderHelper', 'rCGH', 'spkTools', 'Anaquin', 'seq2pathway', 'LymphoSeq', 'ASICS', 'BASiCStan', 'BumpyMatrix', 'gwascat', 'PloGO2', 'RVS', 'GeneExpressionSignature', 'debCAM', 'TurboNorm', 'mitoClone2', 'AffyRNADegradation', 'alpine', 'memes', 'methylSig', 'gep2pep', 'BayesKnockdown', 'traviz', 'flowcatchR', 'TRESS', 'biocViews', 'DMCFB', 'DelayedMatrixStats', 'concordexR', 'nondetects', 'MsBackendMgf', 'progeny', 'LOBSTAHS', 'dittoSeq', 'TSCAN', 'NoRCE', 'rTRMui'}\n"
     ]
    }
   ],
   "source": [
    "print(bioconductor['BiocGenerics'].transitive_dependants() - bioconductor['BiocGenerics'].direct_dependants())"
   ]
  },
  {
   "cell_type": "code",
   "execution_count": 10,
   "metadata": {},
   "outputs": [
    {
     "data": {
      "text/plain": [
       "{'R', 'graphics', 'methods', 'stats', 'utils'}"
      ]
     },
     "execution_count": 10,
     "metadata": {},
     "output_type": "execute_result"
    }
   ],
   "source": [
    "bioconductor['BiocGenerics'].direct_dependencies()"
   ]
  },
  {
   "cell_type": "code",
   "execution_count": 11,
   "metadata": {},
   "outputs": [
    {
     "data": {
      "text/plain": [
       "{'BiocGenerics',\n",
       " 'MASS',\n",
       " 'MsCoreUtils',\n",
       " 'R',\n",
       " 'S4Vectors',\n",
       " 'clue',\n",
       " 'graphics',\n",
       " 'methods',\n",
       " 'stats',\n",
       " 'stats4',\n",
       " 'utils'}"
      ]
     },
     "execution_count": 11,
     "metadata": {},
     "output_type": "execute_result"
    }
   ],
   "source": [
    "bioconductor['MetaboCoreUtils'].transitive_dependencies()"
   ]
  },
  {
   "attachments": {},
   "cell_type": "markdown",
   "metadata": {},
   "source": [
    "### Package metrics"
   ]
  },
  {
   "cell_type": "code",
   "execution_count": 12,
   "metadata": {},
   "outputs": [
    {
     "data": {
      "text/plain": [
       "1705"
      ]
     },
     "execution_count": 12,
     "metadata": {},
     "output_type": "execute_result"
    }
   ],
   "source": [
    "bioconductor['BiocGenerics'].reach()"
   ]
  },
  {
   "cell_type": "code",
   "execution_count": 13,
   "metadata": {},
   "outputs": [
    {
     "name": "stdout",
     "output_type": "stream",
     "text": [
      "Computing Reach\n",
      "     Processing node: 3K      \n"
     ]
    }
   ],
   "source": [
    "from olivia.packagemetrics import Reach\n",
    "bioconductor_reach = bioconductor.get_metric(Reach)"
   ]
  },
  {
   "cell_type": "code",
   "execution_count": 14,
   "metadata": {},
   "outputs": [
    {
     "data": {
      "text/plain": [
       "<olivia.packagemetrics.MetricStats at 0x7f03e40dc640>"
      ]
     },
     "execution_count": 14,
     "metadata": {},
     "output_type": "execute_result"
    }
   ],
   "source": [
    "bioconductor_reach"
   ]
  },
  {
   "cell_type": "code",
   "execution_count": 15,
   "metadata": {},
   "outputs": [
    {
     "data": {
      "text/plain": [
       "1705"
      ]
     },
     "execution_count": 15,
     "metadata": {},
     "output_type": "execute_result"
    }
   ],
   "source": [
    "bioconductor_reach['BiocGenerics']"
   ]
  },
  {
   "cell_type": "code",
   "execution_count": 16,
   "metadata": {},
   "outputs": [
    {
     "name": "stdout",
     "output_type": "stream",
     "text": [
      "Reach retrieved from metrics cache\n"
     ]
    }
   ],
   "source": [
    "bioconductor_reach = bioconductor.get_metric(Reach)"
   ]
  },
  {
   "cell_type": "code",
   "execution_count": 17,
   "metadata": {},
   "outputs": [
    {
     "name": "stdout",
     "output_type": "stream",
     "text": [
      "Reach retrieved from metrics cache\n"
     ]
    },
    {
     "data": {
      "text/plain": [
       "1705"
      ]
     },
     "execution_count": 17,
     "metadata": {},
     "output_type": "execute_result"
    }
   ],
   "source": [
    "bioconductor.get_metric(Reach)['BiocGenerics']"
   ]
  },
  {
   "cell_type": "code",
   "execution_count": 18,
   "metadata": {},
   "outputs": [
    {
     "name": "stdout",
     "output_type": "stream",
     "text": [
      "Computing Impact\n",
      "     Processing node: 3K      \n",
      "CPU times: user 158 ms, sys: 7.78 ms, total: 166 ms\n",
      "Wall time: 164 ms\n"
     ]
    },
    {
     "data": {
      "text/plain": [
       "7357"
      ]
     },
     "execution_count": 18,
     "metadata": {},
     "output_type": "execute_result"
    }
   ],
   "source": [
    "from olivia.packagemetrics import Impact\n",
    "\n",
    "%time bioconductor.get_metric(Impact)['BiocGenerics']"
   ]
  },
  {
   "cell_type": "code",
   "execution_count": 19,
   "metadata": {},
   "outputs": [
    {
     "name": "stdout",
     "output_type": "stream",
     "text": [
      "Impact retrieved from metrics cache\n",
      "CPU times: user 56 µs, sys: 31 µs, total: 87 µs\n",
      "Wall time: 76.8 µs\n"
     ]
    },
    {
     "data": {
      "text/plain": [
       "7357"
      ]
     },
     "execution_count": 19,
     "metadata": {},
     "output_type": "execute_result"
    }
   ],
   "source": [
    "%time bioconductor.get_metric(Impact)['BiocGenerics']"
   ]
  },
  {
   "cell_type": "code",
   "execution_count": 20,
   "metadata": {},
   "outputs": [
    {
     "name": "stdout",
     "output_type": "stream",
     "text": [
      "Impact retrieved from metrics cache\n"
     ]
    },
    {
     "data": {
      "text/plain": [
       "1"
      ]
     },
     "execution_count": 20,
     "metadata": {},
     "output_type": "execute_result"
    }
   ],
   "source": [
    "bioconductor.get_metric(Impact)['BANDITS']"
   ]
  },
  {
   "cell_type": "code",
   "execution_count": 21,
   "metadata": {},
   "outputs": [
    {
     "name": "stdout",
     "output_type": "stream",
     "text": [
      "Impact retrieved from metrics cache\n"
     ]
    },
    {
     "data": {
      "text/plain": [
       "462"
      ]
     },
     "execution_count": 21,
     "metadata": {},
     "output_type": "execute_result"
    }
   ],
   "source": [
    "bioconductor.get_metric(Impact)['GenomicFeatures']"
   ]
  },
  {
   "cell_type": "code",
   "execution_count": 22,
   "metadata": {},
   "outputs": [
    {
     "name": "stdout",
     "output_type": "stream",
     "text": [
      "Computing Surface\n",
      "     Processing node: 0K      \n"
     ]
    },
    {
     "data": {
      "text/plain": [
       "6"
      ]
     },
     "execution_count": 22,
     "metadata": {},
     "output_type": "execute_result"
    }
   ],
   "source": [
    "from olivia.packagemetrics import Surface\n",
    "\n",
    "bioconductor.get_metric(Surface)['BiocGenerics']"
   ]
  },
  {
   "cell_type": "code",
   "execution_count": 23,
   "metadata": {},
   "outputs": [
    {
     "data": {
      "text/plain": [
       "[('R', 2109),\n",
       " ('stats', 1997),\n",
       " ('methods', 1982),\n",
       " ('utils', 1957),\n",
       " ('graphics', 1860),\n",
       " ('BiocGenerics', 1705),\n",
       " ('stats4', 1533),\n",
       " ('grDevices', 1490),\n",
       " ('S4Vectors', 1462),\n",
       " ('Biobase', 1437)]"
      ]
     },
     "execution_count": 23,
     "metadata": {},
     "output_type": "execute_result"
    }
   ],
   "source": [
    "bioconductor_reach.top(10)"
   ]
  },
  {
   "cell_type": "code",
   "execution_count": 24,
   "metadata": {},
   "outputs": [
    {
     "data": {
      "text/plain": [
       "[('metaseqR2', 1)]"
      ]
     },
     "execution_count": 24,
     "metadata": {},
     "output_type": "execute_result"
    }
   ],
   "source": [
    "bioconductor_reach.bottom()"
   ]
  },
  {
   "cell_type": "code",
   "execution_count": 25,
   "metadata": {},
   "outputs": [
    {
     "name": "stdout",
     "output_type": "stream",
     "text": [
      "Surface retrieved from metrics cache\n"
     ]
    },
    {
     "data": {
      "text/plain": [
       "[('singleCellTK', 210),\n",
       " ('ChAMP', 168),\n",
       " ('benchdamic', 152),\n",
       " ('miRSM', 151),\n",
       " ('methylGSA', 144),\n",
       " ('netZooR', 141),\n",
       " ('microbiomeMarker', 141),\n",
       " ('FLAMES', 139),\n",
       " ('DMRcate', 138),\n",
       " ('epimutacions', 135)]"
      ]
     },
     "execution_count": 25,
     "metadata": {},
     "output_type": "execute_result"
    }
   ],
   "source": [
    "bioconductor.get_metric(Surface).top(10)"
   ]
  },
  {
   "cell_type": "code",
   "execution_count": 26,
   "metadata": {},
   "outputs": [
    {
     "name": "stdout",
     "output_type": "stream",
     "text": [
      "Reach retrieved from metrics cache\n"
     ]
    },
    {
     "data": {
      "text/plain": [
       "[('R', 0.6010259333143345),\n",
       " ('stats', 0.5691080079794814),\n",
       " ('methods', 0.5648332858364207),\n",
       " ('utils', 0.5577087489313195),\n",
       " ('graphics', 0.5300655457395269),\n",
       " ('BiocGenerics', 0.48589341692789967),\n",
       " ('stats4', 0.43687660302080367),\n",
       " ('grDevices', 0.42462239954402964),\n",
       " ('S4Vectors', 0.41664291821031635),\n",
       " ('Biobase', 0.4095183813052152)]"
      ]
     },
     "execution_count": 26,
     "metadata": {},
     "output_type": "execute_result"
    }
   ],
   "source": [
    "normalized_reach = bioconductor.get_metric(Reach)/len(bioconductor)\n",
    "normalized_reach.top(10)"
   ]
  },
  {
   "cell_type": "code",
   "execution_count": 27,
   "metadata": {},
   "outputs": [
    {
     "name": "stdout",
     "output_type": "stream",
     "text": [
      "Surface retrieved from metrics cache\n"
     ]
    },
    {
     "data": {
      "text/plain": [
       "[('singleCellTK', 0.05984611000284981),\n",
       " ('ChAMP', 0.04787688800227985),\n",
       " ('benchdamic', 0.04331718438301511),\n",
       " ('miRSM', 0.043032202906811055),\n",
       " ('methylGSA', 0.04103733257338273),\n",
       " ('netZooR', 0.04018238814477059),\n",
       " ('microbiomeMarker', 0.04018238814477059),\n",
       " ('FLAMES', 0.039612425192362494),\n",
       " ('DMRcate', 0.03932744371615845),\n",
       " ('epimutacions', 0.038472499287546306)]"
      ]
     },
     "execution_count": 27,
     "metadata": {},
     "output_type": "execute_result"
    }
   ],
   "source": [
    "(bioconductor.get_metric(Surface)/len(bioconductor)).top(10)"
   ]
  },
  {
   "cell_type": "code",
   "execution_count": 28,
   "metadata": {},
   "outputs": [
    {
     "name": "stdout",
     "output_type": "stream",
     "text": [
      "Computing Dependents Count\n",
      "DependentsCount retrieved from metrics cache\n"
     ]
    },
    {
     "data": {
      "text/plain": [
       "[('R', 3193116.4110936164),\n",
       " ('methods', 2202046.240389712),\n",
       " ('stats', 1651043.3692013395),\n",
       " ('utils', 1112875.8798881448),\n",
       " ('ggplot2', 502580.78726916516)]"
      ]
     },
     "execution_count": 28,
     "metadata": {},
     "output_type": "execute_result"
    }
   ],
   "source": [
    "from olivia.packagemetrics import DependentsCount\n",
    "\n",
    "mean_degree = bioconductor.get_metric(DependentsCount).values.mean()\n",
    "degree_divergence = (bioconductor.get_metric(DependentsCount)-mean_degree)**2\n",
    "degree_divergence.top(5)"
   ]
  },
  {
   "cell_type": "code",
   "execution_count": 29,
   "metadata": {},
   "outputs": [
    {
     "name": "stdout",
     "output_type": "stream",
     "text": [
      "Impact retrieved from metrics cache\n",
      "Reach retrieved from metrics cache\n"
     ]
    },
    {
     "data": {
      "text/plain": [
       "[('methods', 5.011604439959637),\n",
       " ('R', 4.87624466571835),\n",
       " ('stats', 4.815723585378067),\n",
       " ('utils', 4.7884517118037815),\n",
       " ('graphics', 4.51505376344086)]"
      ]
     },
     "execution_count": 29,
     "metadata": {},
     "output_type": "execute_result"
    }
   ],
   "source": [
    "# Impact / Reach ratio\n",
    "(bioconductor.get_metric(Impact)/bioconductor.get_metric(Reach)).top(5)"
   ]
  }
 ],
 "metadata": {
  "kernelspec": {
   "display_name": "Python 3",
   "language": "python",
   "name": "python3"
  },
  "language_info": {
   "codemirror_mode": {
    "name": "ipython",
    "version": 3
   },
   "file_extension": ".py",
   "mimetype": "text/x-python",
   "name": "python",
   "nbconvert_exporter": "python",
   "pygments_lexer": "ipython3",
   "version": "3.8.16"
  }
 },
 "nbformat": 4,
 "nbformat_minor": 4
}
