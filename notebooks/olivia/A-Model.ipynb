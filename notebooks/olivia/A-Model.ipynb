{
 "cells": [
  {
   "attachments": {},
   "cell_type": "markdown",
   "metadata": {},
   "source": [
    "# **OLIVIA - Model**"
   ]
  },
  {
   "cell_type": "code",
   "execution_count": 3,
   "metadata": {},
   "outputs": [
    {
     "name": "stdout",
     "output_type": "stream",
     "text": [
      "Requirement already satisfied: intbitset==2.4.0 in /home/dnllns/.pyenv/versions/3.8.16/envs/.venv_3816/lib/python3.8/site-packages (from -r requirements.txt (line 1)) (2.4.0)\n",
      "Requirement already satisfied: numpy==1.18.5 in /home/dnllns/.pyenv/versions/3.8.16/envs/.venv_3816/lib/python3.8/site-packages (from -r requirements.txt (line 2)) (1.18.5)\n",
      "Requirement already satisfied: networkx==2.4 in /home/dnllns/.pyenv/versions/3.8.16/envs/.venv_3816/lib/python3.8/site-packages (from -r requirements.txt (line 3)) (2.4)\n",
      "Requirement already satisfied: pandas==1.1.5 in /home/dnllns/.pyenv/versions/3.8.16/envs/.venv_3816/lib/python3.8/site-packages (from -r requirements.txt (line 4)) (1.1.5)\n",
      "Requirement already satisfied: matplotlib==3.2.2 in /home/dnllns/.pyenv/versions/3.8.16/envs/.venv_3816/lib/python3.8/site-packages (from -r requirements.txt (line 5)) (3.2.2)\n",
      "Requirement already satisfied: six in /home/dnllns/.pyenv/versions/3.8.16/envs/.venv_3816/lib/python3.8/site-packages (from intbitset==2.4.0->-r requirements.txt (line 1)) (1.16.0)\n",
      "Requirement already satisfied: decorator>=4.3.0 in /home/dnllns/.pyenv/versions/3.8.16/envs/.venv_3816/lib/python3.8/site-packages (from networkx==2.4->-r requirements.txt (line 3)) (5.1.1)\n",
      "Requirement already satisfied: python-dateutil>=2.7.3 in /home/dnllns/.pyenv/versions/3.8.16/envs/.venv_3816/lib/python3.8/site-packages (from pandas==1.1.5->-r requirements.txt (line 4)) (2.8.2)\n",
      "Requirement already satisfied: pytz>=2017.2 in /home/dnllns/.pyenv/versions/3.8.16/envs/.venv_3816/lib/python3.8/site-packages (from pandas==1.1.5->-r requirements.txt (line 4)) (2023.3)\n",
      "Requirement already satisfied: cycler>=0.10 in /home/dnllns/.pyenv/versions/3.8.16/envs/.venv_3816/lib/python3.8/site-packages (from matplotlib==3.2.2->-r requirements.txt (line 5)) (0.11.0)\n",
      "Requirement already satisfied: kiwisolver>=1.0.1 in /home/dnllns/.pyenv/versions/3.8.16/envs/.venv_3816/lib/python3.8/site-packages (from matplotlib==3.2.2->-r requirements.txt (line 5)) (1.4.4)\n",
      "Requirement already satisfied: pyparsing!=2.0.4,!=2.1.2,!=2.1.6,>=2.0.1 in /home/dnllns/.pyenv/versions/3.8.16/envs/.venv_3816/lib/python3.8/site-packages (from matplotlib==3.2.2->-r requirements.txt (line 5)) (3.0.9)\n"
     ]
    }
   ],
   "source": [
    "# Add olivia to the python path\n",
    "import sys\n",
    "sys.path.append('../../olivia')\n",
    "\n",
    "# Install the requirements\n",
    "!pip install -r requirements.txt"
   ]
  },
  {
   "attachments": {},
   "cell_type": "markdown",
   "metadata": {},
   "source": [
    "## BIOCONDUCTOR TEST"
   ]
  },
  {
   "cell_type": "markdown",
   "metadata": {},
   "source": [
    "Build bioconductor model"
   ]
  },
  {
   "cell_type": "code",
   "execution_count": 4,
   "metadata": {},
   "outputs": [
    {
     "name": "stdout",
     "output_type": "stream",
     "text": [
      "Building Olivia Model\n",
      "     Finding strongly connected components (SCCs)...\n",
      "     Building condensation network...\n",
      "     Adding structural meta-data...\n",
      "     Done\n"
     ]
    }
   ],
   "source": [
    "from olivia.model import OliviaNetwork\n",
    "from olivia.immunization import *\n",
    "import networkx as nx\n",
    "import pandas as pd\n",
    "\n",
    "\n",
    "bioconductor_df = pd.read_csv('aux_data/bioconductor_adjlist_scraping.csv')\n",
    "bioconductor_G = nx.from_pandas_edgelist(bioconductor_df, source='dependency', target='name', create_using=nx.DiGraph())\n",
    "bioconductor = OliviaNetwork()\n",
    "bioconductor.build_model(bioconductor_G)\n",
    "\n",
    "# Save the model\n",
    "bioconductor.save('aux_data/bioconductor_model.olv')"
   ]
  },
  {
   "attachments": {},
   "cell_type": "markdown",
   "metadata": {},
   "source": [
    "### Basic use"
   ]
  },
  {
   "cell_type": "code",
   "execution_count": 5,
   "metadata": {},
   "outputs": [],
   "source": [
    "from olivia.model import OliviaNetwork"
   ]
  },
  {
   "cell_type": "code",
   "execution_count": 6,
   "metadata": {},
   "outputs": [],
   "source": [
    "bioconductor = OliviaNetwork(r'aux_data/bioconductor_model.olv')"
   ]
  },
  {
   "cell_type": "code",
   "execution_count": 7,
   "metadata": {},
   "outputs": [
    {
     "data": {
      "text/plain": [
       "3509"
      ]
     },
     "execution_count": 7,
     "metadata": {},
     "output_type": "execute_result"
    }
   ],
   "source": [
    "len(bioconductor)"
   ]
  },
  {
   "cell_type": "code",
   "execution_count": 8,
   "metadata": {},
   "outputs": [
    {
     "name": "stdout",
     "output_type": "stream",
     "text": [
      "betareg\n",
      "biocViews\n",
      "biovizBase\n",
      "broom\n",
      "base64enc\n",
      "biomaRt\n",
      "bit64\n",
      "bsseq\n",
      "biglm\n",
      "beanplot\n",
      "boot\n",
      "bioDist\n",
      "biclust\n",
      "bitops\n",
      "basecallQC\n",
      "batchelor\n",
      "beachmat\n",
      "benchdamic\n",
      "biobtreeR\n",
      "biscuiteer\n",
      "biscuiteerData\n",
      "branchpointer\n",
      "bumphunter\n",
      "basilisk\n",
      "bezier\n",
      "bamsignals\n",
      "bigmemory\n",
      "biodb\n",
      "biodbChebi\n",
      "binom\n",
      "bbmle\n",
      "batchtools\n",
      "bookdown\n",
      "ballgown\n",
      "bayNorm\n",
      "bigPint\n",
      "biocthis\n",
      "biomformat\n",
      "bluster\n",
      "brendaDb\n",
      "biwt\n",
      "beadarray\n",
      "biganalytics\n",
      "beeswarm\n",
      "bibtex\n",
      "bslib\n",
      "base\n",
      "bestNormalize\n",
      "bigrquery\n",
      "bnlearn\n",
      "bsplus\n",
      "baseline\n",
      "brglm\n",
      "bootstrap\n",
      "banocc\n",
      "bcSeq\n",
      "bigmelon\n",
      "biocGraph\n",
      "biodbKegg\n",
      "biomvRCNS\n",
      "bnbc\n",
      "bugsigdbr\n",
      "basilisk.utils\n",
      "brew\n",
      "bamlss\n",
      "benchmarkme\n",
      "bandle\n",
      "biodbNci\n",
      "blacksheepr\n",
      "baySeq\n",
      "breastCancerVDX\n",
      "bench\n",
      "backbone\n",
      "bs4Dash\n",
      "bdsmatrix\n",
      "barcodetrackR\n",
      "bioCancer\n",
      "biodbHmdb\n",
      "biodbUniprot\n",
      "blima\n",
      "breakpointR\n",
      "breakpointRdata\n",
      "bit\n",
      "biosigner\n",
      "base64url\n",
      "bladderbatch\n",
      "biobroom\n",
      "bambu\n",
      "bgx\n",
      "biodbLipidmaps\n",
      "bnem\n",
      "base64\n",
      "blockmodeling\n",
      "beadarraySNP\n",
      "bioassayR\n",
      "biodbExpasy\n",
      "biodbNcbi\n",
      "brainflowprobes\n",
      "binr\n",
      "blme\n",
      "babelgene\n",
      "bnstruct\n",
      "bigstatsr\n",
      "biomartr\n",
      "bacon\n",
      "beer\n",
      "biodbMirbase\n",
      "biotmle\n",
      "borealis\n",
      "broom.mixed\n"
     ]
    }
   ],
   "source": [
    "for package in bioconductor:\n",
    "    if package[0]=='b':\n",
    "        print(package)"
   ]
  },
  {
   "attachments": {},
   "cell_type": "markdown",
   "metadata": {},
   "source": [
    "### Package properties"
   ]
  },
  {
   "attachments": {},
   "cell_type": "markdown",
   "metadata": {},
   "source": [
    "Access via *getitem* returns a special view object:"
   ]
  },
  {
   "cell_type": "code",
   "execution_count": 9,
   "metadata": {},
   "outputs": [
    {
     "data": {
      "text/plain": [
       "<olivia.model.PackageInfoView at 0x7f07dbac6e80>"
      ]
     },
     "execution_count": 9,
     "metadata": {},
     "output_type": "execute_result"
    }
   ],
   "source": [
    "bioconductor['BiocGenerics']"
   ]
  },
  {
   "cell_type": "code",
   "execution_count": 10,
   "metadata": {},
   "outputs": [
    {
     "name": "stdout",
     "output_type": "stream",
     "text": [
      "BiocGenerics has 480 direct dependants\n"
     ]
    }
   ],
   "source": [
    "print(f\"BiocGenerics has {len(bioconductor['BiocGenerics'].direct_dependants())} direct dependants\")  "
   ]
  },
  {
   "cell_type": "code",
   "execution_count": 11,
   "metadata": {},
   "outputs": [
    {
     "name": "stdout",
     "output_type": "stream",
     "text": [
      "BiocGenerics has 1704 transitive dependants (includes direct dependants)\n"
     ]
    }
   ],
   "source": [
    "print(f\"BiocGenerics has {len(bioconductor['BiocGenerics'].transitive_dependants())} transitive dependants (includes direct dependants)\")"
   ]
  },
  {
   "cell_type": "code",
   "execution_count": 12,
   "metadata": {
    "scrolled": true
   },
   "outputs": [
    {
     "name": "stdout",
     "output_type": "stream",
     "text": [
      "{'beer', 'CNTools', 'Trendy', 'DMRcate', 'vissE', 'escape', 'cytoMEM', 'NanoStringDiff', 'oncoscanR', 'BioQC', 'VaSP', 'CHETAH', 'MGFR', 'tradeSeq', 'DaMiRseq', 'discordant', 'RITAN', 'wpm', 'phantasus', 'mCSEA', 'proActiv', 'segmenter', 'crisprVerse', 'CoGAPS', 'BgeeCall', 'affyContam', 'CTdata', 'LowMACA', 'PICS', 'MWASTools', 'cBioPortalData', 'RefPlus', 'metagenomeSeq', 'divergence', 'consensusOV', 'vidger', 'zellkonverter', 'progeny', 'normr', 'affyILM', 'SigFuge', 'FCBF', 'CrispRVariants', 'DominoEffect', 'alabaster', 'missRows', 'omicsViewer', 'miRspongeR', 'scBFA', 'Risa', 'rbsurv', 'EventPointer', 'BANDITS', 'combi', 'OncoSimulR', 'karyoploteR', 'miRmine', 'sangeranalyseR', 'treekoR', 'SplicingFactory', 'traviz', 'MatrixQCvis', 'qmtools', 'stJoincount', 'BEARscc', 'chihaya', 'GeneExpressionSignature', 'clustifyr', 'SeqSQC', 'motifmatchr', 'RBioinf', 'CRImage', 'BiFET', 'bioCancer', 'cogena', 'dce', 'a4', 'QDNAseq', 'GenomicOZone', 'GenomicDataCommons', 'VariantExperiment', 'transcriptogramer', 'NormqPCR', 'a4Core', 'ADImpute', 'PSEA', 'LRcell', 'multiHiCcompare', 'mirIntegrator', 'TRESS', 'scGPS', 'MSPrep', 'memes', 'scDataviz', 'Nebulosa', 'PFP', 'motifcounter', 'simpleSeg', 'EBcoexpress', 'UCell', 'PROMISE', 'MicrobiomeProfiler', 'Cepo', 'lapmix', 'MuData', 'HiTC', 'ccmap', 'hummingbird', 'RbcBook1', 'adductomicsR', 'bluster', 'nucleoSim', 'MethReg', 'GMRP', 'spiky', 'methylGSA', 'RUVSeq', 'tidySummarizedExperiment', 'ReactomePA', 'geneRecommender', 'miaSim', 'DEP', 'flowCut', 'transomics2cytoscape', 'sarks', 'coMethDMR', 'maanova', 'regutools', 'lionessR', 'idr2d', 'CAMERA', 'SISPA', 'mitoClone2', 'InterMineR', 'GeneRegionScan', 'Scale4C', 'SVMDO', 'CATALYST', 'RVS', 'MetNet', 'BiocSklearn', 'pogos', 'MetID', 'OCplus', 'MLSeq', 'MGFM', 'vsclust', 'polyester', 'tximeta', 'cytoviewer', 'ProteoMM', 'iCheck', 'scmeth', 'GSRI', 'DIAlignR', 'gCrisprTools', 'GlobalAncova', 'cosmiq', 'MSstatsLiP', 'staRank', 'rain', 'msmsEDA', 'DSS', 'genomicInstability', 'DelayedRandomArray', 'MetaCyto', 'deepSNV', 'CeTF', 'getDEE2', 'zinbwave', 'ITALICS', 'CSSQ', 'PAA', 'CMA', 'flowTrans', 'wateRmelon', 'ncRNAtools', 'FeatSeekR', 'GraphAT', 'factDesign', 'hyperdraw', 'MAGeCKFlute', 'Uniquorn', 'OmicCircos', 'SingleCellSignalR', 'PERFect', 'schex', 'QuartPAC', 'synapter', 'countsimQC', 'PLPE', 'DeconRNASeq', 'MSstatsQC', 'qsvaR', 'GeoTcgaData', 'canceR', 'switchde', 'ggmanh', 'RepViz', 'scRNAseqApp', 'SCANVIS', 'GeneStructureTools', 'projectR', 'maigesPack', 'gcrma', 'flowDensity', 'MOSim', 'paircompviz', 'ConsensusClusterPlus', 'SynExtend', 'seqbias', 'tracktables', 'muscle', 'exomeCopy', 'pathRender', 'ExiMiR', 'cyanoFilter', 'surfaltr', 'BiocFHIR', 'TADCompare', 'iBMQ', 'SPEM', 'distinct', 'easier', 'Rbowtie2', 'KnowSeq', 'BiocOncoTK', 'MLP', 'epihet', 'Cogito', 'sigFeature', 'ScaledMatrix', 'ReadqPCR', 'VplotR', 'chromPlot', 'slalom', 'SpacePAC', 'SpectralTAD', 'MatrixRider', 'mAPKL', 'mastR', 'TTMap', 'NeighborNet', 'BiGGR', 'pepStat', 'netOmics', 'periodicDNA', 'cardelino', 'MSstatsPTM', 'FELLA', 'sevenbridges', 'msgbsR', 'optimalFlow', 'transformGamPoi', 'enrichplot', 'RESOLVE', 'omicsPrint', 'ROTS', 'TrajectoryUtils', 'CINdex', 'spaSim', 'rprimer', 'doppelgangR', 'MEB', 'cmapR', 'sangerseqR', 'rrvgo', 'alabaster.string', 'ClassifyR', 'copa', 'GeneTonic', 'DAPAR', 'geneRxCluster', 'annotatr', 'cTRAP', 'CiteFuse', 'BadRegionFinder', 'scviR', 'customProDB', 'CNORode', 'planttfhunter', 'pareg', 'Harshlight', 'biomaRt', 'APL', 'TFEA.ChIP', 'multiOmicsViz', 'survtype', 'flowMerge', 'PhyloProfile', 'IWTomics', 'doseR', 'MBECS', 'cn.farms', 'anota2seq', 'IMMAN', 'BatchQC', 'musicatk', 'muscat', 'RnaSeqSampleSize', 'BindingSiteFinder', 'HilbertCurve', 'GEOquery', 'ExpressionAtlas', 'BiocPkgTools', 'Spaniel', 'OutSplice', 'genefu', 'ComplexHeatmap', 'ENmix', 'TissueEnrich', 'SpeCond', 'covRNA', 'conumee', 'oppar', 'FISHalyseR', 'nnSVG', 'SeqArray', 'HiCool', 'goSTAG', 'STATegRa', 'sechm', 'katdetectr', 'attract', 'qusage', 'MsDataHub', 'dpeak', 'viper', 'MultiBaC', 'cageminer', 'hapFabia', 'goTools', 'MethTargetedNGS', 'geneXtendeR', 'debrowser', 'Mfuzz', 'sccomp', 'clusterProfiler', 'iSEEhub', 'gaga', 'snapCGH', 'diggit', 'ncGTW', 'normalize450K', 'rTRMui', 'NanoTube', 'TEKRABber', 'trena', 'SigsPack', 'VAExprs', 'branchpointer', 'cleanUpdTSeq', 'qcmetrics', 'condiments', 'MAI', 'SPONGE', 'BasicSTARRseq', 'CGHnormaliter', 'MAGAR', 'deco', 'CopywriteR', 'MsExperiment', 'MSA2dist', 'metagene', 'SCArray', 'scDDboost', 'RLSeq', 'FEAST', 'fcoex', 'ropls', 'qsmooth', 'ViSEAGO', 'qpcrNorm', 'siggenes', 'tomoda', 'MOFA2', 'PCAtools', 'kissDE', 'esetVis', 'msImpute', 'extraChIPs', 'ANF', 'rcellminer', 'receptLoss', 'plgem', 'regioneR', 'DelayedTensor', 'vulcan', 'rgsepd', 'ASpediaFI', 'SPLINTER', 'RCM', 'ChIPexoQual', 'ERSSA', 'GSEAlm', 'pairkat', 'MiChip', 'scry', 'AnnotationFilter', 'HiCBricks', 'CNORdt', 'SMITE', 'DExMA', 'MouseFM', 'bioDist', 'RNAAgeCalc', 'tilingArray', 'openPrimeRui', 'metabomxtr', 'ReQON', 'blacksheepr', 'PROPS', 'ABarray', 'GOstats', 'BiocCheck', 'DEGraph', 'marr', 'AffyRNADegradation', 'genefilter', 'flowBeads', 'CTDquerier', 'metaSeq', 'hypergraph', 'GOexpress', 'GEOsubmission', 'DMRScan', 'Macarron', 'IdeoViz', 'rGREAT', 'pairedGSEA', 'scCB2', 'iterClust', 'sigsquared', 'LRBaseDbi', 'HTqPCR', 'SeqGate', 'LACE', 'nethet', 'aggregateBioVar', 'recount', 'ALDEx2', 'twilight', 'martini', 'nempi', 'AHMassBank', 'bigPint', 'NoRCE', 'MOMA', 'clusterStab', 'TargetDecoy', 'CBNplot', 'EGSEA', 'SIM', 'scde', 'SIMAT', 'IPO', 'GAPGOM', 'SAIGEgds', 'RTCA', 'GARS', 'scClassify', 'MetCirc', 'diffcyt', 'motifStack', 'netZooR', 'FuseSOM', 'mygene', 'safe', 'flowViz', 'doubletrouble', 'nondetects', 'ChIPanalyser', 'zFPKM', 'TDbasedUFE', 'BgeeDB', 'TSCAN', 'TFutils', 'FoldGO', 'seqsetvis', 'scanMiR', 'midasHLA', 'CoverageView', 'DifferentialRegulation', 'MAIT', 'proFIA', 'kebabs', 'reconsi', 'rTRM', 'TnT', 'MsBackendRawFileReader', 'GreyListChIP', 'CellNOptR', 'cellity', 'qrqc', 'MetaNeighbor', 'CTSV', 'myvariant', 'r3Cseq', 'synapsis', 'moanin', 'mbQTL', 'BCRANK', 'BayesKnockdown', 'chromswitch', 'DNAshapeR', 'bcSeq', 'alabaster.spatial', 'traseR', 'systemPipeTools', 'convert', 'biobroom', 'BumpyMatrix', 'timecourse', 'microbiomeExplorer', 'dasper', 'xcore', 'DECIPHER', 'metabCombiner', 'BaalChIP', 'restfulSE', 'animalcules', 'SICtools', 'infinityFlow', 'HiCDCPlus', 'barcodetrackR', 'globaltest', 'rRDP', 'microRNA', 'MobilityTransformR', 'splineTimeR', 'randPack', 'GWENA', 'scds', 'scifer', 'adSplit', 'GBScleanR', 'SCATE', 'scHOT', 'HiCcompare', 'BASiCStan', 'msmsTests', 'shinyepico', 'BPRMeth', 'wiggleplotr', 'multiGSEA', 'scMET', 'tscR', 'scFeatures', 'HEM', 'metagene2', 'OmaDB', 'Sconify', 'HumanTranscriptomeCompendium', 'ArrayExpress', 'regionReport', 'ribor', 'multiscan', 'ASSIGN', 'GSReg', 'alabaster.base', 'benchdamic', 'Rtreemix', 'snapcount', 'srnadiff', 'TDbasedUFEadv', 'SimBu', 'RegEnrich', 'brainflowprobes', 'NeuCA', 'MsQuality', 'BioTIP', 'flowMatch', 'Rmagpie', 'KEGGlincs', 'GISPA', 'clipper', 'gep2pep', 'RSVSim', 'meshes', 'flowPloidy', 'ssviz', 'TPP', 'Rgraphviz', 'ExperimentSubset', 'appreci8R', 'evaluomeR', 'cancerclass', 'LoomExperiment', 'OrderedList', 'sesame', 'LineagePulse', 'protGear', 'seq2pathway', 'CluMSID', 'PrInCE', 'rhdf5client', 'customCMPdb', 'artMS', 'AMARETTO', 'airpart', 'panp', 'SomaticSignatures', 'MesKit', 'VegaMC', 'scAnnotatR', 'EpiMix', 'BayesSpace', 'MEDIPS', 'cpvSNP', 'ADAMgui', 'Rmmquant', 'CellBarcode', 'metavizr', 'SimBindProfiles', 'SPOTlight', 'fgga', 'idiogram', 'scDD', 'GOSim', 'DEFormats', 'twoddpcr', 'DMCFB', 'mBPCR', 'bnem', 'NetActivity', 'coMET', 'SpotClean', 'clippda', 'flagme', 'derfinderHelper', 'EGAD', 'PathoStat', 'skewr', 'keggorthology', 'GSEABenchmarkeR', 'flowCHIC', 'GeneMeta', 'scTensor', 'mosbi', 'MEIGOR', 'maskBAD', 'SeqGSEA', 'microbiomeDASim', 'idpr', 'ChAMP', 'scp', 'MsBackendMsp', 'sva', 'DFP', 'ReUseData', 'FilterFFPE', 'RMassBank', 'miRcomp', 'CNVMetrics', 'coseq', 'RgnTX', 'gemma.R', 'StarBioTrek', 'ImmuneSpaceR', 'peakPantheR', 'RNAinteract', 'GEOexplorer', 'DELocal', 'MetaPhOR', 'celda', 'crisprseekplus', 'YAPSA', 'singleCellTK', 'DMRcaller', 'ZygosityPredictor', 'RUVnormalize', 'TRONCO', 'RIPAT', 'ivygapSE', 'TREG', 'MethCP', 'CGHcall', 'EBSEA', 'loci2path', 'CancerSubtypes', 'ROCpAI', 'dmrseq', 'imcRtools', 'InteractiveComplexHeatmap', 'slingshot', 'cnvGSA', 'DEsubs', 'TOAST', 'methylscaper', 'panelcn.mops', 'PhenStat', 'biomvRCNS', 'Rcpi', 'Organism.dplyr', 'NanoMethViz', 'multiSight', 'Pviz', 'gaggle', 'CNVfilteR', 'vtpnet', 'MEDME', 'maPredictDSC', 'segmentSeq', 'ssPATHS', 'SIAMCAT', 'pvac', 'Qtlizer', 'DOSE', 'proBAMr', 'puma', 'alabaster.vcf', 'BAGS', 'quantiseqr', 'SPIA', 'ExploreModelMatrix', 'magpie', 'macat', 'TCC', 'RNAsense', 'Rcwl', 'dittoSeq', 'netSmooth', 'TFHAZ', 'cliProfiler', 'SpatialDecon', 'CyTOFpower', 'groHMM', 'miRNAmeConverter', 'ANCOMBC', 'SEtools', 'nullranges', 'ResidualMatrix', 'singscore', 'geNetClassifier', 'scPCA', 'maSigPro', 'anota', 'omicplotR', 'CoCiteStats', 'msqrob2', 'IFAA', 'R4RNA', 'BloodGen3Module', 'pcaExplorer', 'MsFeatures', 'GmicR', 'DegNorm', 'AGDEX', 'MoonlightR', 'aCGH', 'BUSseq', 'cogeqc', 'mfa', 'CelliD', 'GateFinder', 'OGRE', 'tidySingleCellExperiment', 'frmaTools', 'methylSig', 'MoleculeExperiment', 'POMA', 'Rbec', 'tricycle', 'MPRAnalyze', 'FastqCleaner', 'Glimma', 'netDx', 'h5vc', 'CopyNumberPlots', 'ASURAT', 'GOpro', 'PloGO2', 'GEOmetadb', 'rfPred', 'BRAIN', 'fCCAC', 'coRdon', 'packFinder', 'proBatch', 'recountmethylation', 'AgiMicroRna', 'SpidermiR', 'CAFE', 'ggmsa', 'methylKit', 'flowTime', 'GCSscore', 'MungeSumstats', 'drugTargetInteractions', 'pvca', 'subSeq', 'VarCon', 'isobar', 'zenith', 'FunChIP', 'IntOMICS', 'BiocHubsShiny', 'structToolbox', 'rifi', 'gscreend', 'rfaRm', 'APAlyzer', 'methimpute', 'RolDE', 'IRISFGM', 'NOISeq', 'vsn', 'LOBSTAHS', 'CEMiTool', 'padma', 'rGADEM', 'made4', 'ILoReg', 'ptairMS', 'borealis', 'CODEX', 'recount3', 'spatialHeatmap', 'fishpond', 'apeglm', 'SparseSignatures', 'quantro', 'TBSignatureProfiler', 'KEGGREST', 'epigraHMM', 'MethPed', 'GOSemSim', 'TMixClust', 'cleaver', 'EWCE', 'pipeFrame', 'miRSM', 'metabolomicsWorkbenchR', 'fcScan', 'annotationTools', 'netresponse', 'CHRONOS', 'Statial', 'microbiome', 'AffiXcan', 'gtrellis', 'apComplex', 'PECA', 'GeneNetworkBuilder', 'Prostar', 'ideal', 'cellbaseR', 'alabaster.sce', 'XNAString', 'SpatialCPie', 'scRepertoire', 'lumi', 'GSVA', 'KEGGgraph', 'ORFhunteR', 'GenomicSuperSignature', 'gsean', 'TCGAbiolinks', 'censcyt', 'psichomics', 'sSNAPPY', 'HELP', 'CytoPipeline', 'deltaCaptureC', 'MetaboSignal', 'rCGH', 'scMerge', 'tLOH', 'waddR', 'HTSFilter', 'eudysbiome', 'prebs', 'cytofQC', 'SELEX', 'goProfiles', 'CGHregions', 'fabia', 'BDMMAcorrect', 'ExCluster', 'chromDraw', 'NormalyzerDE', 'mnem', 'MDTS', 'GeoDiff', 'CytoDx', 'graphite', 'MsBackendSql', 'NBAMSeq', 'Cormotif', 'rexposome', 'STROMA4', 'imageHTS', 'pmp', 'NewWave', 'methylInheritance', 'nanotatoR', 'trio', 'spatialDE', 'ggcyto', 'Dino', 'TFARM', 'riboSeqR', 'TimiRGeN', 'SimFFPE', 'ccfindR', 'ChIPsim', 'RTN', 'dStruct', 'webbioc', 'rmspc', 'BioMM', 'megadepth', 'RTNduals', 'Voyager', 'seqArchRplus', 'SiPSiC', 'SPsimSeq', 'tRanslatome', 'RBGL', 'alabaster.matrix', 'iasva', 'fedup', 'PAST', 'gespeR', 'BLMA', 'PanomiR', 'MADSEQ', 'CBEA', 'oneSENSE', 'Mulcom', 'sscore', 'supersigs', 'cytoKernel', 'MetaboCoreUtils', 'SRAdb', 'cbaf', 'pwrEWAS', 'CAEN', 'microSTASIS', 'variancePartition', 'OMICsPCA', 'InPAS', 'IgGeneUsage', 'NetSAM', 'methylclock', 'cfTools', 'DMRforPairs', 'GenomicDistributions', 'Dune', 'affycomp', 'circRNAprofiler', 'plotgardener', 'Melissa', 'SWATH2stats', 'iCNV', 'immunoClust', 'screenCounter', 'DelayedMatrixStats', 'GRridge', 'CexoR', 'gage', 'MCbiclust', 'goSorensen', 'bandle', 'POWSC', 'ecolitk', 'ADaCGH2', 'runibic', 'Guitar', 'compartmap', 'BioNERO', 'derfinderPlot', 'baySeq', 'peco', 'alpine', 'uncoverappLib', 'pathview', 'flowAI', 'MSstatsQCgui', 'RIVER', 'chimeraviz', 'miRNAtap', 'escheR', 'massiR', 'Rtpca', 'BiocSet', 'struct', 'BRGenomics', 'flowcatchR', 'ELMER', 'bgx', 'stageR', 'scReClassify', 'flowClean', 'miRLAB', 'gwasurvivr', 'DeMixT', 'Maaslin2', 'tidybulk', 'methrix', 'rqt', 'CNORfuzzy', 'SCAN.UPC', 'qpgraph', 'GRmetrics', 'flowGate', 'PPInfer', 'iPAC', 'Rhisat2', 'SingleR', 'arrayQualityMetrics', 'CytoML', 'EDIRquery', 'GOfuncR', 'corral', 'CNVrd2', 'MethylSeekR', 'proteasy', 'scTGIF', 'edge', 'ballgown', 'arrayMvout', 'hiAnnotator', 'cosmosR', 'pqsfinder', 'iterativeBMA', 'COTAN', 'SubCellBarCode', 'ACE', 'ADAM', 'ROntoTools', 'GRaNIE', 'hpar', 'GenomicInteractionNodes', 'PeacoQC', 'phenopath', 'annaffy', 'oncomix', 'tenXplore', 'epivizr', 'cycle', 'debCAM', 'EasyCellType', 'seqCAT', 'SBGNview', 'ggspavis', 'psygenet2r', 'InterCellar', 'RcwlPipelines', 'Doscheda', 'satuRn', 'NanoStringQCPro', 'DiffBind', 'speckle', 'spkTools', 'ontoProc', 'Rnits', 'epidecodeR', 'BioNetStat', 'phenoTest', 'BUMHMM', 'odseq', 'glmSparseNet', 'scanMiRApp', 'flowVS', 'omicRexposome', 'lineagespot', 'flowMeans', 'MicrobiotaProcess', 'eegc', 'epiNEM', 'MSstatsShiny', 'GWASTools', 'm6Aboost', 'BiocNeighbors', 'BEAT', 'atSNP', 'SGCP', 'CCPROMISE', 'EnrichmentBrowser', 'MMUPHin', 'CellMapper', 'basecallQC', 'MBQN', 'plier', 'TileDBArray', 'PADOG', 'CoSIA', 'GraphPAC', 'scoreInvHap', 'Anaquin', 'awst', 'CONFESS', 'TNBC.CMS', 'Basic4Cseq', 'miQC', 'SemDist', 'phenomis', 'MeSHDbi', 'terraTCGAdata', 'lipidr', 'ipdDb', 'consICA', 'a4Classif', 'OVESEG', 'methylCC', 'cliqueMS', 'BioCor', 'MsCoreUtils', 'GeneBreak', 'RTNsurvival', 'fastLiquidAssociation', 'biocViews', 'funtooNorm', 'preciseTAD', 'iSEEu', 'MiPP', 'scTreeViz', 'AIMS', 'SDAMS', 'BioMVCClass', 'CNORfeeder', 'seqPattern', 'MIMOSA', 'ddPCRclust', 'cytomapper', 'alabaster.mae', 'MOGAMUN', 'concordexR', 'MsBackendMassbank', 'lefser', 'selectKSigs', 'GNET2', 'mbkmeans', 'dyebias', 'trigger', 'famat', 'ASICS', 'Metab', 'TOP', 'comapr', 'MEAT', 'RTopper', 'HybridMTest', 'GeneAccord', 'BUScorrect', 'syntenet', 'SPIAT', 'BOBaFIT', 'pageRank', 'oposSOM', 'yarn', 'AssessORF', 'Pigengene', 'beadarraySNP', 'MsBackendMgf', 'genomation', 'omicade4', 'DMCHMM', 'regsplice', 'PREDA', 'bayNorm', 'PrecisionTrialDrawer', 'gwascat', 'triplex', 'regioneReloaded', 'PAIRADISE', 'EnrichedHeatmap', 'OTUbase', 'BicARE', 'TurboNorm', 'mosaics', 'EBarrays', 'LinkHD', 'CNViz', 'pulsedSilac', 'NCIgraph', 'procoil', 'Xeva', 'orthogene', 'SigCheck', 'covEB', 'MMDiff2', 'diffUTR', 'ChromSCape', 'pkgDepTools', 'OncoScore', 'DeepBlueR', 'netboxr', 'VDJdive', 'LymphoSeq', 'RGraph2js', 'RBioFormats', 'BioNet', 'CGHbase', 'scone', 'ChIPXpress', 'MACSr', 'BBCAnalyzer', 'GeneSelectMMD', 'CSAR', 'rifiComparative', 'HIPPO', 'hipathia', 'ATACCoGAPS', 'msPurity', 'hmdbQuery', 'GeneGeneInteR', 'GDCRNATools', 'seqArchR', 'pipeComp', 'LiquidAssociation', 'epivizrData', 'SpatialOmicsOverlay', 'octad', 'iSEEhex', 'a4Base', 'BioNAR', 'biosigner', 'CellScore', 'logitT', 'farms', 'makecdfenv', 'sampleClassifier'}\n"
     ]
    }
   ],
   "source": [
    "print(bioconductor['BiocGenerics'].transitive_dependants() - bioconductor['BiocGenerics'].direct_dependants())"
   ]
  },
  {
   "cell_type": "code",
   "execution_count": 13,
   "metadata": {},
   "outputs": [
    {
     "data": {
      "text/plain": [
       "{'R', 'graphics', 'methods', 'stats', 'utils'}"
      ]
     },
     "execution_count": 13,
     "metadata": {},
     "output_type": "execute_result"
    }
   ],
   "source": [
    "bioconductor['BiocGenerics'].direct_dependencies()"
   ]
  },
  {
   "cell_type": "code",
   "execution_count": 14,
   "metadata": {},
   "outputs": [
    {
     "data": {
      "text/plain": [
       "{'BiocGenerics',\n",
       " 'MASS',\n",
       " 'MsCoreUtils',\n",
       " 'R',\n",
       " 'S4Vectors',\n",
       " 'clue',\n",
       " 'graphics',\n",
       " 'methods',\n",
       " 'stats',\n",
       " 'stats4',\n",
       " 'utils'}"
      ]
     },
     "execution_count": 14,
     "metadata": {},
     "output_type": "execute_result"
    }
   ],
   "source": [
    "bioconductor['MetaboCoreUtils'].transitive_dependencies()"
   ]
  },
  {
   "attachments": {},
   "cell_type": "markdown",
   "metadata": {},
   "source": [
    "### Package metrics"
   ]
  },
  {
   "cell_type": "code",
   "execution_count": 15,
   "metadata": {},
   "outputs": [
    {
     "data": {
      "text/plain": [
       "1705"
      ]
     },
     "execution_count": 15,
     "metadata": {},
     "output_type": "execute_result"
    }
   ],
   "source": [
    "bioconductor['BiocGenerics'].reach()"
   ]
  },
  {
   "cell_type": "code",
   "execution_count": 16,
   "metadata": {},
   "outputs": [
    {
     "name": "stdout",
     "output_type": "stream",
     "text": [
      "Computing Reach\n",
      "     Processing node: 3K      \n"
     ]
    }
   ],
   "source": [
    "from olivia.packagemetrics import Reach\n",
    "bioconductor_reach = bioconductor.get_metric(Reach)"
   ]
  },
  {
   "cell_type": "code",
   "execution_count": 17,
   "metadata": {},
   "outputs": [
    {
     "data": {
      "text/plain": [
       "<olivia.packagemetrics.MetricStats at 0x7f07d731a220>"
      ]
     },
     "execution_count": 17,
     "metadata": {},
     "output_type": "execute_result"
    }
   ],
   "source": [
    "bioconductor_reach"
   ]
  },
  {
   "cell_type": "code",
   "execution_count": 18,
   "metadata": {},
   "outputs": [
    {
     "data": {
      "text/plain": [
       "1705"
      ]
     },
     "execution_count": 18,
     "metadata": {},
     "output_type": "execute_result"
    }
   ],
   "source": [
    "bioconductor_reach['BiocGenerics']"
   ]
  },
  {
   "cell_type": "code",
   "execution_count": 19,
   "metadata": {},
   "outputs": [
    {
     "name": "stdout",
     "output_type": "stream",
     "text": [
      "Reach retrieved from metrics cache\n"
     ]
    }
   ],
   "source": [
    "bioconductor_reach = bioconductor.get_metric(Reach)"
   ]
  },
  {
   "cell_type": "code",
   "execution_count": 20,
   "metadata": {},
   "outputs": [
    {
     "name": "stdout",
     "output_type": "stream",
     "text": [
      "Reach retrieved from metrics cache\n"
     ]
    },
    {
     "data": {
      "text/plain": [
       "1705"
      ]
     },
     "execution_count": 20,
     "metadata": {},
     "output_type": "execute_result"
    }
   ],
   "source": [
    "bioconductor.get_metric(Reach)['BiocGenerics']"
   ]
  },
  {
   "cell_type": "code",
   "execution_count": 21,
   "metadata": {},
   "outputs": [
    {
     "name": "stdout",
     "output_type": "stream",
     "text": [
      "Computing Impact\n",
      "     Processing node: 3K      \n",
      "CPU times: user 88.8 ms, sys: 558 µs, total: 89.4 ms\n",
      "Wall time: 85 ms\n"
     ]
    },
    {
     "data": {
      "text/plain": [
       "7357"
      ]
     },
     "execution_count": 21,
     "metadata": {},
     "output_type": "execute_result"
    }
   ],
   "source": [
    "from olivia.packagemetrics import Impact\n",
    "\n",
    "%time bioconductor.get_metric(Impact)['BiocGenerics']"
   ]
  },
  {
   "cell_type": "code",
   "execution_count": 22,
   "metadata": {},
   "outputs": [
    {
     "name": "stdout",
     "output_type": "stream",
     "text": [
      "Impact retrieved from metrics cache\n",
      "CPU times: user 71 µs, sys: 0 ns, total: 71 µs\n",
      "Wall time: 74.1 µs\n"
     ]
    },
    {
     "data": {
      "text/plain": [
       "7357"
      ]
     },
     "execution_count": 22,
     "metadata": {},
     "output_type": "execute_result"
    }
   ],
   "source": [
    "%time bioconductor.get_metric(Impact)['BiocGenerics']"
   ]
  },
  {
   "cell_type": "code",
   "execution_count": 23,
   "metadata": {},
   "outputs": [
    {
     "name": "stdout",
     "output_type": "stream",
     "text": [
      "Impact retrieved from metrics cache\n"
     ]
    },
    {
     "data": {
      "text/plain": [
       "1"
      ]
     },
     "execution_count": 23,
     "metadata": {},
     "output_type": "execute_result"
    }
   ],
   "source": [
    "bioconductor.get_metric(Impact)['BANDITS']"
   ]
  },
  {
   "cell_type": "code",
   "execution_count": 24,
   "metadata": {},
   "outputs": [
    {
     "name": "stdout",
     "output_type": "stream",
     "text": [
      "Impact retrieved from metrics cache\n"
     ]
    },
    {
     "data": {
      "text/plain": [
       "462"
      ]
     },
     "execution_count": 24,
     "metadata": {},
     "output_type": "execute_result"
    }
   ],
   "source": [
    "bioconductor.get_metric(Impact)['GenomicFeatures']"
   ]
  },
  {
   "cell_type": "code",
   "execution_count": 25,
   "metadata": {},
   "outputs": [
    {
     "name": "stdout",
     "output_type": "stream",
     "text": [
      "Computing Surface\n",
      "     Processing node: 0K      \n"
     ]
    },
    {
     "data": {
      "text/plain": [
       "6"
      ]
     },
     "execution_count": 25,
     "metadata": {},
     "output_type": "execute_result"
    }
   ],
   "source": [
    "from olivia.packagemetrics import Surface\n",
    "\n",
    "bioconductor.get_metric(Surface)['BiocGenerics']"
   ]
  },
  {
   "cell_type": "code",
   "execution_count": 26,
   "metadata": {},
   "outputs": [
    {
     "data": {
      "text/plain": [
       "[('R', 2109),\n",
       " ('stats', 1997),\n",
       " ('methods', 1982),\n",
       " ('utils', 1957),\n",
       " ('graphics', 1860),\n",
       " ('BiocGenerics', 1705),\n",
       " ('stats4', 1533),\n",
       " ('grDevices', 1490),\n",
       " ('S4Vectors', 1462),\n",
       " ('Biobase', 1437)]"
      ]
     },
     "execution_count": 26,
     "metadata": {},
     "output_type": "execute_result"
    }
   ],
   "source": [
    "bioconductor_reach.top(10)"
   ]
  },
  {
   "cell_type": "code",
   "execution_count": 27,
   "metadata": {},
   "outputs": [
    {
     "data": {
      "text/plain": [
       "[('metaseqR2', 1)]"
      ]
     },
     "execution_count": 27,
     "metadata": {},
     "output_type": "execute_result"
    }
   ],
   "source": [
    "bioconductor_reach.bottom()"
   ]
  },
  {
   "cell_type": "code",
   "execution_count": 28,
   "metadata": {},
   "outputs": [
    {
     "name": "stdout",
     "output_type": "stream",
     "text": [
      "Surface retrieved from metrics cache\n"
     ]
    },
    {
     "data": {
      "text/plain": [
       "[('singleCellTK', 210),\n",
       " ('ChAMP', 168),\n",
       " ('benchdamic', 152),\n",
       " ('miRSM', 151),\n",
       " ('methylGSA', 144),\n",
       " ('netZooR', 141),\n",
       " ('microbiomeMarker', 141),\n",
       " ('FLAMES', 139),\n",
       " ('DMRcate', 138),\n",
       " ('epimutacions', 135)]"
      ]
     },
     "execution_count": 28,
     "metadata": {},
     "output_type": "execute_result"
    }
   ],
   "source": [
    "bioconductor.get_metric(Surface).top(10)"
   ]
  },
  {
   "cell_type": "code",
   "execution_count": 29,
   "metadata": {},
   "outputs": [
    {
     "name": "stdout",
     "output_type": "stream",
     "text": [
      "Reach retrieved from metrics cache\n"
     ]
    },
    {
     "data": {
      "text/plain": [
       "[('R', 0.6010259333143345),\n",
       " ('stats', 0.5691080079794814),\n",
       " ('methods', 0.5648332858364207),\n",
       " ('utils', 0.5577087489313195),\n",
       " ('graphics', 0.5300655457395269),\n",
       " ('BiocGenerics', 0.48589341692789967),\n",
       " ('stats4', 0.43687660302080367),\n",
       " ('grDevices', 0.42462239954402964),\n",
       " ('S4Vectors', 0.41664291821031635),\n",
       " ('Biobase', 0.4095183813052152)]"
      ]
     },
     "execution_count": 29,
     "metadata": {},
     "output_type": "execute_result"
    }
   ],
   "source": [
    "normalized_reach = bioconductor.get_metric(Reach)/len(bioconductor)\n",
    "normalized_reach.top(10)"
   ]
  },
  {
   "cell_type": "code",
   "execution_count": 30,
   "metadata": {},
   "outputs": [
    {
     "name": "stdout",
     "output_type": "stream",
     "text": [
      "Surface retrieved from metrics cache\n"
     ]
    },
    {
     "data": {
      "text/plain": [
       "[('singleCellTK', 0.05984611000284981),\n",
       " ('ChAMP', 0.04787688800227985),\n",
       " ('benchdamic', 0.04331718438301511),\n",
       " ('miRSM', 0.043032202906811055),\n",
       " ('methylGSA', 0.04103733257338273),\n",
       " ('netZooR', 0.04018238814477059),\n",
       " ('microbiomeMarker', 0.04018238814477059),\n",
       " ('FLAMES', 0.039612425192362494),\n",
       " ('DMRcate', 0.03932744371615845),\n",
       " ('epimutacions', 0.038472499287546306)]"
      ]
     },
     "execution_count": 30,
     "metadata": {},
     "output_type": "execute_result"
    }
   ],
   "source": [
    "(bioconductor.get_metric(Surface)/len(bioconductor)).top(10)"
   ]
  },
  {
   "cell_type": "code",
   "execution_count": 31,
   "metadata": {},
   "outputs": [
    {
     "name": "stdout",
     "output_type": "stream",
     "text": [
      "Computing Dependents Count\n",
      "DependentsCount retrieved from metrics cache\n"
     ]
    },
    {
     "data": {
      "text/plain": [
       "[('R', 3193116.4110936164),\n",
       " ('methods', 2202046.240389712),\n",
       " ('stats', 1651043.3692013395),\n",
       " ('utils', 1112875.8798881448),\n",
       " ('ggplot2', 502580.78726916516)]"
      ]
     },
     "execution_count": 31,
     "metadata": {},
     "output_type": "execute_result"
    }
   ],
   "source": [
    "from olivia.packagemetrics import DependentsCount\n",
    "\n",
    "mean_degree = bioconductor.get_metric(DependentsCount).values.mean()\n",
    "degree_divergence = (bioconductor.get_metric(DependentsCount)-mean_degree)**2\n",
    "degree_divergence.top(5)"
   ]
  },
  {
   "cell_type": "code",
   "execution_count": 32,
   "metadata": {},
   "outputs": [
    {
     "name": "stdout",
     "output_type": "stream",
     "text": [
      "Impact retrieved from metrics cache\n",
      "Reach retrieved from metrics cache\n"
     ]
    },
    {
     "data": {
      "text/plain": [
       "[('methods', 5.011604439959637),\n",
       " ('R', 4.87624466571835),\n",
       " ('stats', 4.815723585378067),\n",
       " ('utils', 4.7884517118037815),\n",
       " ('graphics', 4.51505376344086)]"
      ]
     },
     "execution_count": 32,
     "metadata": {},
     "output_type": "execute_result"
    }
   ],
   "source": [
    "# Impact / Reach ratio\n",
    "(bioconductor.get_metric(Impact)/bioconductor.get_metric(Reach)).top(5)"
   ]
  }
 ],
 "metadata": {
  "kernelspec": {
   "display_name": "Python 3",
   "language": "python",
   "name": "python3"
  },
  "language_info": {
   "codemirror_mode": {
    "name": "ipython",
    "version": 3
   },
   "file_extension": ".py",
   "mimetype": "text/x-python",
   "name": "python",
   "nbconvert_exporter": "python",
   "pygments_lexer": "ipython3",
   "version": "3.8.16"
  }
 },
 "nbformat": 4,
 "nbformat_minor": 4
}
