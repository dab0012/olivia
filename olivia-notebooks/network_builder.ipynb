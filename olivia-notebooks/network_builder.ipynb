{
 "cells": [
  {
   "cell_type": "markdown",
   "metadata": {
    "scrolled": true
   },
   "source": [
    "### Studying Vulnerabilities in Package Dependency Networks\n",
    "Code for building dependency networks from [libraries.io](https://libraries.io) data dump.\n",
    "\n",
    "Input file _dependencies-1.6.0-2020-01-12.csv_ not included in this distribution (20 GB, 1.5 GB zip-compressed). Available at https://libraries.io/data as part of _libraries-1.6.0-2020-01-12.tar.gz_"
   ]
  },
  {
   "cell_type": "code",
   "execution_count": 5,
   "metadata": {},
   "outputs": [],
   "source": [
    "from time import time\n",
    "import os\n",
    "import psutil\n",
    "import gc\n",
    "import pandas as pd\n",
    "import networkx as nx\n",
    "\n",
    "def add_chunk(df, G,\n",
    "              dependent_field,\n",
    "              dependency_field,\n",
    "              filter_field=None,\n",
    "              filter_value=None):\n",
    "    \n",
    "    \"\"\" Utility method for build_dependency_network\n",
    "    \"\"\"\n",
    "    if filter_field:\n",
    "        filtered = df[df[filter_field]==filter_value]\n",
    "    else:\n",
    "        filtered = df      \n",
    "    links = [(dependency, dependent) for (dependency, dependent) \n",
    "             in zip(filtered[dependency_field], filtered[dependent_field])]\n",
    "    G.add_edges_from(links)  \n",
    "    return G\n",
    "\n",
    "def build_dependency_network(input_file, \n",
    "                             output_file, \n",
    "                             chunk_size, \n",
    "                             dependent_field,\n",
    "                             dependency_field,\n",
    "                             filter_field=None, \n",
    "                             filter_value=None,\n",
    "                             verbose=True):\n",
    "    \"\"\"\n",
    "    Builds a dependency network from a file with package dependencies information\n",
    "    \n",
    "    Reads from a CSV file and writes to a txt file with adjacency lists\n",
    "    corresponding to network model. Compression methods are inferred from file\n",
    "    extension (.gz and .bz2 are supported from NetworkX IO methods)\n",
    "    \n",
    "    Parameters\n",
    "    ----------\n",
    "    input_file : str\n",
    "        Path to csv file with dependencies information\n",
    "    output_file : str\n",
    "        Path to write resulting network file\n",
    "    chunk_size : int\n",
    "        Amount of lines to be read at once from input_file in batch  processing.\n",
    "    dependent_field : str\n",
    "        DataFrame column Id for the dependent package\n",
    "    dependency_field : str\n",
    "        Dataframe column Id for the dependency package\n",
    "    filter_field : str, optional\n",
    "        If not None, only add records where filter_field equals filter_value\n",
    "    filter_value : str, optional\n",
    "        If not None, only add records where filter_field equals filter_value\n",
    "    verbose: bool, optional\n",
    "        If True, processing information is written to standard output.\n",
    "    Returns\n",
    "    -------\n",
    "        None\n",
    "    \"\"\"\n",
    "    \n",
    "    # Print only if verbose\n",
    "    vprint = print if verbose else lambda *a, **k: None\n",
    "    process = psutil.Process(os.getpid())\n",
    "    vprint(\"Using process \", process)\n",
    "    t = time()\n",
    "    try:   \n",
    "        vprint(f'Opening \"{input_file}\"... ', end='') \n",
    "        # Obtain reader iterator\n",
    "        reader = pd.read_csv(input_file, chunksize=chunk_size)\n",
    "        vprint('OK')\n",
    "        vprint('Initializing graph... ', end='')  \n",
    "        # New NetworkX directed Graph\n",
    "        G = nx.DiGraph()\n",
    "        vprint('OK')\n",
    "        for i,chunk in enumerate(reader):     \n",
    "            # Add dependencies from chunk to G\n",
    "            add_chunk(\n",
    "                chunk, G,\n",
    "                dependent_field=dependent_field,\n",
    "                dependency_field=dependency_field,\n",
    "                filter_field=filter_field, filter_value=filter_value\n",
    "            )\n",
    "            vprint(f'{round(i*chunk_size/1e6,1)}M lines | {len(G)} nodes,{len(G.edges)} deps. ({int(time()-t)}s) {round(process.memory_info().rss/1e6,1)}Mb ')\n",
    "        vprint('Done reading file')\n",
    "        vprint(f'Saving network as \"{output_file}\"... ',end='')\n",
    "        nx.write_adjlist(G,output_file)\n",
    "        vprint('OK')\n",
    "    except Exception as e:\n",
    "        print('\\n',e)"
   ]
  },
  {
   "cell_type": "code",
   "execution_count": 7,
   "metadata": {},
   "outputs": [
    {
     "name": "stdout",
     "output_type": "stream",
     "text": [
      "Using process  psutil.Process(pid=4492, name='python3', status='running', started='15:45:50')\n",
      "Opening \"../persistence/cran_dependencies.csv\"... OK\n",
      "Initializing graph... OK\n",
      "0.0M lines | 18671 nodes,113273 deps. (0s) 154.7Mb \n",
      "Done reading file\n",
      "Saving network as \"networks/cran_nrework.bz2\"... OK\n"
     ]
    }
   ],
   "source": [
    "CRAN_dataset = '../persistence/cran_dependencies.csv'\n",
    "\n",
    "# Building CRAN dependency network\n",
    "build_dependency_network(\n",
    "    CRAN_dataset,                    # Input file\n",
    "    'networks/cran_nrework.bz2',     # Output file\n",
    "    1e6,                             # Chunk size                    \n",
    "    dependent_field='dependency',    # Dependency field\n",
    "    dependency_field='name'          # Dependent field\n",
    ")"
   ]
  },
  {
   "cell_type": "code",
   "execution_count": 10,
   "metadata": {},
   "outputs": [
    {
     "name": "stdout",
     "output_type": "stream",
     "text": [
      "Using process  psutil.Process(pid=4492, name='python3', status='running', started='15:45:50')\n",
      "Opening \"../persistence/bioconductor_dependencies.csv\"... OK\n",
      "Initializing graph... OK\n",
      "0.0M lines | 3444 nodes,27627 deps. (0s) 401.9Mb \n",
      "Done reading file\n",
      "Saving network as \"networks/bioconductor_nrework.bz2\"... OK\n"
     ]
    }
   ],
   "source": [
    "bioconductor_dataset = '../persistence/bioconductor_dependencies.csv'\n",
    "\n",
    "# Building bioconductor dependency network\n",
    "build_dependency_network(\n",
    "    bioconductor_dataset,                   # Input file\n",
    "    'networks/bioconductor_nrework.bz2',    # Output file\n",
    "    1e6,                                    # Chunk size\n",
    "    dependent_field='dependency',           # Dependency field\n",
    "    dependency_field='name'                 # Dependent field\n",
    ")"
   ]
  },
  {
   "cell_type": "code",
   "execution_count": 9,
   "metadata": {},
   "outputs": [
    {
     "name": "stdout",
     "output_type": "stream",
     "text": [
      "Using process  psutil.Process(pid=4492, name='python3', status='running', started='15:45:50')\n",
      "Opening \"../persistence/pypi_dependencies.csv\"... OK\n",
      "Initializing graph... OK\n",
      "0.0M lines | 209356 nodes,928400 deps. (3s) 435.3Mb \n",
      "1.0M lines | 220292 nodes,987442 deps. (3s) 391.6Mb \n",
      "Done reading file\n",
      "Saving network as \"networks/pypi_nrework.bz2\"... OK\n"
     ]
    }
   ],
   "source": [
    "pypi_dataset = '../persistence/pypi_dependencies.csv'\n",
    "\n",
    "# Building PyPI dependency network\n",
    "build_dependency_network(\n",
    "    pypi_dataset,                   # Input file\n",
    "    'networks/pypi_nrework.bz2',    # Output file\n",
    "    1e6,                            # Chunk size\n",
    "    dependent_field='dependency',   # Dependency field\n",
    "    dependency_field='name'         # Dependent field\n",
    ")"
   ]
  }
 ],
 "metadata": {
  "kernelspec": {
   "display_name": "Python 3",
   "language": "python",
   "name": "python3"
  },
  "language_info": {
   "codemirror_mode": {
    "name": "ipython",
    "version": 3
   },
   "file_extension": ".py",
   "mimetype": "text/x-python",
   "name": "python",
   "nbconvert_exporter": "python",
   "pygments_lexer": "ipython3",
   "version": "3.10.6"
  },
  "vscode": {
   "interpreter": {
    "hash": "916dbcbb3f70747c44a77c7bcd40155683ae19c65e1c03b4aa3499c5328201f1"
   }
  }
 },
 "nbformat": 4,
 "nbformat_minor": 2
}
