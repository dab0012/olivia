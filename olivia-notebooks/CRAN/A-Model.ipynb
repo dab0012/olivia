{
 "cells": [
  {
   "cell_type": "markdown",
   "metadata": {},
   "source": [
    "# OLIVIA\n",
    "**Open-source Library Indexes Vulnerability Identification and Analysis**\n",
    "\n",
    "The use of centralized library repositories to reduce development times and costs is universal, in virtually all languages and types of software projects. Due to the transitivity of dependencies, the appearance of a single defect in the repository can have extensive and difficult-to-predict effects on the ecosystem. These defects cause functional errors or performance or security problems. The risk is difficult to grasp for developers, who only explicitly import a small part of the dependencies.\n",
    "\n",
    "OLVIA uses an approach based on the vulnerability of the dependency network of software packages, which measures how sensitive the repository is to the random introduction of defects. The goals of the model are  to contribute to the understanding of propagation mechanisms of software defects and to study feasible protection strategies. This can benefit multiple parties:\n",
    "\n",
    "* **Centralised package managers**, to establish policies and manual or automatic control processes that improve the security and stability of the repositories.\n",
    "* **Software developers** in general, to assess the different risks introduced by the dependencies used in their projects, and **package developers** in particular to understand their responsibility on the ecosystem.\n",
    "* Developers of **continuous quality tools**, to define the concept of vulnerability based on the modeling of the network of package dependencies.\n",
    "---\n",
    "\n",
    "**Author**: Daniel Setó Rey\n",
    "\n",
    "https://github.com/dsr0018/olivia\n",
    "\n",
    "**License**: Olivia and this notebook are published under a MIT [license](https://github.com/dsr0018/olivia/blob/master/LICENSE). The information of dependencies has been obtained from the libraries.io [data snapshots](https://libraries.io/data) (by Tidelift).\n",
    "\n",
    "---\n",
    "\n",
    "*This notebook is part of a user guide series that cover in detail the operation of the library.*\n",
    "*This time we treat the basic operations of loading/creating models and dealing with package properties and metrics.*\n",
    "\n"
   ]
  },
  {
   "cell_type": "markdown",
   "metadata": {},
   "source": [
    "\n",
    "## A - Basic model usage\n",
    "\n",
    "[01 - Load model](#01---Load-model)&ensp;|&ensp;[02 - Package properties](#02---Package-properties)&ensp;|&ensp;[03 - Package metrics](#03---Package-metrics)&ensp;|&ensp;[04 - Custom models](#04---Custom-models) \n",
    "\n",
    "*OliviaNetwork* is essentially a directed graph with some additional structures to facilitate working with metrics in large dependency networks. The model can be built from a NetworkX directed network or from a file in adjacency list format."
   ]
  },
  {
   "attachments": {},
   "cell_type": "markdown",
   "metadata": {},
   "source": [
    "Install requirements of olivia library"
   ]
  },
  {
   "cell_type": "code",
   "execution_count": 1,
   "metadata": {},
   "outputs": [
    {
     "name": "stdout",
     "output_type": "stream",
     "text": [
      "Requirement already satisfied: intbitset==2.4.0 in /home/dnllns/anaconda3/lib/python3.8/site-packages (from -r ../../olivia_finder/olivia/requirements.txt (line 1)) (2.4.0)\n",
      "Requirement already satisfied: numpy==1.18.5 in /home/dnllns/anaconda3/lib/python3.8/site-packages (from -r ../../olivia_finder/olivia/requirements.txt (line 2)) (1.18.5)\n",
      "Requirement already satisfied: networkx==2.4 in /home/dnllns/anaconda3/lib/python3.8/site-packages (from -r ../../olivia_finder/olivia/requirements.txt (line 3)) (2.4)\n",
      "Requirement already satisfied: six in /home/dnllns/anaconda3/lib/python3.8/site-packages (from intbitset==2.4.0->-r ../../olivia_finder/olivia/requirements.txt (line 1)) (1.15.0)\n",
      "Requirement already satisfied: decorator>=4.3.0 in /home/dnllns/anaconda3/lib/python3.8/site-packages (from networkx==2.4->-r ../../olivia_finder/olivia/requirements.txt (line 3)) (5.0.6)\n"
     ]
    }
   ],
   "source": [
    "!pip install -r \"../../olivia_finder/olivia/requirements.txt\""
   ]
  },
  {
   "cell_type": "code",
   "execution_count": 2,
   "metadata": {},
   "outputs": [],
   "source": [
    "# Add olivia to the path\n",
    "import sys, os\n",
    "sys.path.append('../../olivia_finder/olivia')"
   ]
  },
  {
   "cell_type": "code",
   "execution_count": 3,
   "metadata": {},
   "outputs": [],
   "source": [
    "from olivia.model import OliviaNetwork"
   ]
  },
  {
   "attachments": {},
   "cell_type": "markdown",
   "metadata": {},
   "source": [
    "### 0 - Build olivia model from graph"
   ]
  },
  {
   "cell_type": "code",
   "execution_count": 4,
   "metadata": {},
   "outputs": [],
   "source": [
    "# cran_network_graph_path = os.path.abspath('../networks/cran_nrework.bz2')\n",
    "# cran = OliviaNetwork()\n",
    "# cran.build_model(cran_network_graph_path)\n",
    "# cran.save('cran_model.olv')"
   ]
  },
  {
   "cell_type": "markdown",
   "metadata": {},
   "source": [
    "### 01 - Load model\n",
    "\n",
    "Load a pre-built model from file. This one is based in a snapshot of the Python Package Index (https://pypi.org/) from 2020-01 (data from https://libraries.io/):"
   ]
  },
  {
   "cell_type": "code",
   "execution_count": 5,
   "metadata": {},
   "outputs": [],
   "source": [
    "cran = OliviaNetwork(r'cran_model.olv')"
   ]
  },
  {
   "cell_type": "markdown",
   "metadata": {},
   "source": [
    "As expected, *len()* returns the number of the packages in the network:"
   ]
  },
  {
   "cell_type": "code",
   "execution_count": 6,
   "metadata": {},
   "outputs": [
    {
     "data": {
      "text/plain": [
       "18671"
      ]
     },
     "execution_count": 6,
     "metadata": {},
     "output_type": "execute_result"
    }
   ],
   "source": [
    "len(cran)"
   ]
  },
  {
   "cell_type": "markdown",
   "metadata": {},
   "source": [
    "### 02 - Package properties"
   ]
  },
  {
   "cell_type": "markdown",
   "metadata": {},
   "source": [
    "Access via *getitem* returns a special view object:"
   ]
  },
  {
   "cell_type": "code",
   "execution_count": 7,
   "metadata": {},
   "outputs": [
    {
     "data": {
      "text/plain": [
       "<olivia.model.PackageInfoView at 0x7fa0e4975be0>"
      ]
     },
     "execution_count": 7,
     "metadata": {},
     "output_type": "execute_result"
    }
   ],
   "source": [
    "cran['ggplot2']"
   ]
  },
  {
   "cell_type": "markdown",
   "metadata": {},
   "source": [
    "*PackageInfoView* contains methods returning stats for specific packages. For example, direct dependants are other packages that import networkx in their code:"
   ]
  },
  {
   "cell_type": "code",
   "execution_count": 8,
   "metadata": {},
   "outputs": [
    {
     "name": "stdout",
     "output_type": "stream",
     "text": [
      "ggplot2 has 16 direct dependants\n"
     ]
    }
   ],
   "source": [
    "print(f\"ggplot2 has {len(cran['ggplot2'].direct_dependants())} direct dependants\")  "
   ]
  },
  {
   "cell_type": "markdown",
   "metadata": {},
   "source": [
    "Packages may depend on NetworkX not only directly, but also via transitive dependencies:"
   ]
  },
  {
   "attachments": {},
   "cell_type": "markdown",
   "metadata": {},
   "source": [
    "![Dependants and transitive dependants](../../olivia_finder/olivia/docs/img/dependants.png \"Transitive dependencies\")  \n",
    "<br>"
   ]
  },
  {
   "cell_type": "code",
   "execution_count": 9,
   "metadata": {},
   "outputs": [
    {
     "name": "stdout",
     "output_type": "stream",
     "text": [
      "ggplot2 has 35 transitive dependants (includes direct dependants)\n"
     ]
    }
   ],
   "source": [
    "print(f\"ggplot2 has {len(cran['ggplot2'].transitive_dependants())} transitive dependants (includes direct dependants)\")"
   ]
  },
  {
   "cell_type": "markdown",
   "metadata": {},
   "source": [
    "Packages are returned as sets so we may apply the usual set operators. For example, these packages depend on NetworkX but do not explicitly import it:"
   ]
  },
  {
   "cell_type": "code",
   "execution_count": 10,
   "metadata": {
    "scrolled": true
   },
   "outputs": [
    {
     "name": "stdout",
     "output_type": "stream",
     "text": [
      "{'pillar', 'methods', 'utf8', 'colorspace', 'fansi', 'lattice', 'viridisLite', 'munsell', 'splines', 'pkgconfig', 'graphics', 'labeling', 'RColorBrewer', 'nlme', 'R6', 'farver', 'Matrix', 'magrittr', 'utils'}\n"
     ]
    }
   ],
   "source": [
    "print(cran['ggplot2'].transitive_dependants() - cran['ggplot2'].direct_dependants())"
   ]
  },
  {
   "cell_type": "markdown",
   "metadata": {},
   "source": [
    "Lets pick one of them and check its dependencies, the packages on which it depends:"
   ]
  },
  {
   "attachments": {},
   "cell_type": "markdown",
   "metadata": {},
   "source": [
    "**Direct Dependencies**"
   ]
  },
  {
   "cell_type": "code",
   "execution_count": 11,
   "metadata": {},
   "outputs": [
    {
     "name": "stdout",
     "output_type": "stream",
     "text": [
      "ggplot2 has 3192 direct dependencies\n"
     ]
    }
   ],
   "source": [
    "ggplot2_dd_count = len(cran['ggplot2'].direct_dependencies())\n",
    "print(f\"ggplot2 has {ggplot2_dd_count} direct dependencies\")"
   ]
  },
  {
   "attachments": {},
   "cell_type": "markdown",
   "metadata": {},
   "source": [
    "**Transitive Dependencies**"
   ]
  },
  {
   "cell_type": "code",
   "execution_count": 12,
   "metadata": {},
   "outputs": [
    {
     "name": "stdout",
     "output_type": "stream",
     "text": [
      "ggplot2 has 4719 transitive dependencies\n"
     ]
    }
   ],
   "source": [
    "parallel_td_count = len(cran['ggplot2'].transitive_dependencies())\n",
    "print(f\"ggplot2 has {parallel_td_count} transitive dependencies\")"
   ]
  },
  {
   "cell_type": "markdown",
   "metadata": {},
   "source": [
    "### 03 - Package metrics"
   ]
  },
  {
   "cell_type": "markdown",
   "metadata": {},
   "source": [
    "**REACH** of a package *u* is the number of transitive dependents of *u* plus 1."
   ]
  },
  {
   "cell_type": "code",
   "execution_count": 13,
   "metadata": {},
   "outputs": [
    {
     "data": {
      "text/plain": [
       "7"
      ]
     },
     "execution_count": 13,
     "metadata": {},
     "output_type": "execute_result"
    }
   ],
   "source": [
    "cran['A3'].reach()"
   ]
  },
  {
   "cell_type": "markdown",
   "metadata": {},
   "source": [
    "REACH represents the number of packages in the network that could be affected by the occurrence of a defect in *u*, like a bug or a security vulnerability. A bug in networkx could affect 590 packages, including NetworkX.\n",
    "\n",
    "You may calculate REACH package by package, as in the previous example. However, this involves many redundant computations and is very slow. OLIVIA provides efficient methods to calculate REACH for all the nodes in the network."
   ]
  },
  {
   "cell_type": "code",
   "execution_count": 14,
   "metadata": {},
   "outputs": [
    {
     "name": "stdout",
     "output_type": "stream",
     "text": [
      "Computing Reach\n",
      "     Processing node: 18K      \n"
     ]
    }
   ],
   "source": [
    "from olivia.packagemetrics import Reach\n",
    "cran_reach = cran.get_metric(Reach)"
   ]
  },
  {
   "cell_type": "markdown",
   "metadata": {},
   "source": [
    "*OliviaModel.get_metric(...)* returns a *MetricStats* object with the results of the computation. *get_metric(...)* accepts as parameter classes implementing the *compute()* method, such as the ones in *olivia.packagemetrics*"
   ]
  },
  {
   "cell_type": "code",
   "execution_count": 15,
   "metadata": {},
   "outputs": [
    {
     "data": {
      "text/plain": [
       "<olivia.packagemetrics.MetricStats at 0x7fa0e49f3b80>"
      ]
     },
     "execution_count": 15,
     "metadata": {},
     "output_type": "execute_result"
    }
   ],
   "source": [
    "cran_reach"
   ]
  },
  {
   "cell_type": "code",
   "execution_count": 16,
   "metadata": {},
   "outputs": [
    {
     "data": {
      "text/plain": [
       "36"
      ]
     },
     "execution_count": 16,
     "metadata": {},
     "output_type": "execute_result"
    }
   ],
   "source": [
    "cran_reach['ggplot2']"
   ]
  },
  {
   "cell_type": "markdown",
   "metadata": {},
   "source": [
    "Once calculated through *get_metric*, the *MetricStats* object is cached into the *OliviaNetwork* model. In this way, other complex algorithms that use large metric results are freed from managing each one on their own. \n",
    "\n",
    "So there is really no need to store the results into an independent variable like we did."
   ]
  },
  {
   "cell_type": "code",
   "execution_count": 17,
   "metadata": {},
   "outputs": [
    {
     "name": "stdout",
     "output_type": "stream",
     "text": [
      "Reach retrieved from metrics cache\n"
     ]
    }
   ],
   "source": [
    "pypi_reach = cran.get_metric(Reach)"
   ]
  },
  {
   "cell_type": "code",
   "execution_count": 18,
   "metadata": {},
   "outputs": [
    {
     "name": "stdout",
     "output_type": "stream",
     "text": [
      "Reach retrieved from metrics cache\n"
     ]
    },
    {
     "data": {
      "text/plain": [
       "36"
      ]
     },
     "execution_count": 18,
     "metadata": {},
     "output_type": "execute_result"
    }
   ],
   "source": [
    "cran.get_metric(Reach)['ggplot2']"
   ]
  },
  {
   "cell_type": "markdown",
   "metadata": {},
   "source": [
    "The management of the cache is semi-automatic. You can request a value from a network-wide metric that has not yet been calculated and it will be computed and cached the first time:"
   ]
  },
  {
   "cell_type": "code",
   "execution_count": 19,
   "metadata": {},
   "outputs": [
    {
     "name": "stdout",
     "output_type": "stream",
     "text": [
      "Computing Impact\n",
      "     Processing node: 18K      \n",
      "CPU times: user 410 ms, sys: 1.17 ms, total: 411 ms\n",
      "Wall time: 403 ms\n"
     ]
    },
    {
     "data": {
      "text/plain": [
       "116"
      ]
     },
     "execution_count": 19,
     "metadata": {},
     "output_type": "execute_result"
    }
   ],
   "source": [
    "from olivia.packagemetrics import Impact\n",
    "\n",
    "%time cran.get_metric(Impact)['ggplot2']"
   ]
  },
  {
   "cell_type": "code",
   "execution_count": 20,
   "metadata": {},
   "outputs": [
    {
     "name": "stdout",
     "output_type": "stream",
     "text": [
      "Impact retrieved from metrics cache\n",
      "CPU times: user 49 µs, sys: 18 µs, total: 67 µs\n",
      "Wall time: 70.6 µs\n"
     ]
    },
    {
     "data": {
      "text/plain": [
       "116"
      ]
     },
     "execution_count": 20,
     "metadata": {},
     "output_type": "execute_result"
    }
   ],
   "source": [
    "%time cran.get_metric(Impact)['ggplot2']"
   ]
  },
  {
   "cell_type": "code",
   "execution_count": 21,
   "metadata": {},
   "outputs": [
    {
     "name": "stdout",
     "output_type": "stream",
     "text": [
      "Impact retrieved from metrics cache\n"
     ]
    },
    {
     "data": {
      "text/plain": [
       "6"
      ]
     },
     "execution_count": 21,
     "metadata": {},
     "output_type": "execute_result"
    }
   ],
   "source": [
    "cran.get_metric(Impact)['MASS']"
   ]
  },
  {
   "cell_type": "code",
   "execution_count": 22,
   "metadata": {},
   "outputs": [
    {
     "name": "stdout",
     "output_type": "stream",
     "text": [
      "Impact retrieved from metrics cache\n"
     ]
    },
    {
     "data": {
      "text/plain": [
       "11"
      ]
     },
     "execution_count": 22,
     "metadata": {},
     "output_type": "execute_result"
    }
   ],
   "source": [
    "cran.get_metric(Impact)['nlme']"
   ]
  },
  {
   "cell_type": "markdown",
   "metadata": {},
   "source": [
    "By the way, **IMPACT** is an alternative way of measuring the effect of a defect appearing in the network. It corresponds to the number of \"links\" affected (the number of \"imports\" in Python terms), it could be a better measure of the effort required to recover the network. Technically speaking it is the number of arcs in the graph induced by a node and its transitive dependents.\n",
    "\n",
    "On the other hand, **SURFACE** is the size of the set of transitive dependencies plus 1. SURFACE(*u*) is the number of packages whose defects could affect *u*. High SURFACE packages are more vulnerable to random failures."
   ]
  },
  {
   "cell_type": "code",
   "execution_count": 23,
   "metadata": {},
   "outputs": [
    {
     "name": "stdout",
     "output_type": "stream",
     "text": [
      "Computing Surface\n",
      "     Processing node: 0K       \n"
     ]
    },
    {
     "data": {
      "text/plain": [
       "1088"
      ]
     },
     "execution_count": 23,
     "metadata": {},
     "output_type": "execute_result"
    }
   ],
   "source": [
    "from olivia.packagemetrics import Surface\n",
    "\n",
    "cran.get_metric(Surface)['igraph']"
   ]
  },
  {
   "attachments": {},
   "cell_type": "markdown",
   "metadata": {},
   "source": [
    "![Package metrics](../../olivia_finder/olivia/docs/img/pmetrics.png \"Olivia package metrics\")\n",
    "<br>"
   ]
  },
  {
   "cell_type": "markdown",
   "metadata": {},
   "source": [
    "*MetricStats* is not just about storing values. It also has some basic methods that are useful for working with metrics. For example, you can get top and bottom packages according to the metric value:"
   ]
  },
  {
   "cell_type": "code",
   "execution_count": 24,
   "metadata": {},
   "outputs": [
    {
     "data": {
      "text/plain": [
       "[('sMSROC', 253),\n",
       " ('popstudy', 237),\n",
       " ('PsychWordVec', 235),\n",
       " ('PALMO', 225),\n",
       " ('wallace', 224),\n",
       " ('jsmodule', 224),\n",
       " ('RISCA', 223),\n",
       " ('TidyConsultant', 221),\n",
       " ('mlmts', 218),\n",
       " ('packDAMipd', 215)]"
      ]
     },
     "execution_count": 24,
     "metadata": {},
     "output_type": "execute_result"
    }
   ],
   "source": [
    "cran_reach.top(10)"
   ]
  },
  {
   "attachments": {},
   "cell_type": "markdown",
   "metadata": {},
   "source": [
    "<ins>**Note:**</ins>  \n",
    "\n",
    "- **sMSROC**: a package that provides a function to calculate the area under the ROC curve for survival data.\n",
    "\n",
    "- **popstudy**: a package that provides tools for conducting population studies and calculating measures of prevalence and incidence.\n",
    "\n",
    "- **PsychWordVec**: a package that provides word vectors for the analysis of psychology and linguistics data.\n",
    "\n",
    "- **PALMO**: a package that provides tools for the analysis of paleontological and morphological data.\n",
    "\n",
    "- **wallace**: a package that provides tools for visualization and analysis of data on species and their geographic distribution.\n",
    "\n",
    "- **jsmodule**: a package that provides functions to import JavaScript modules into R.\n",
    "\n",
    "- **RISCA**: a package that provides tools for risk and safety analysis in the chemical industry.\n",
    "\n",
    "- **TidyConsultant**: a package that provides tools for enterprise data cleansing and analysis.\n",
    "\n",
    "- **mlmts**: a package that provides tools for multivariate time series analysis.\n",
    "\n",
    "- **packDAMipd**: a package that provides tools for microarray data analysis."
   ]
  },
  {
   "cell_type": "code",
   "execution_count": 25,
   "metadata": {},
   "outputs": [
    {
     "data": {
      "text/plain": [
       "[('R', 1)]"
      ]
     },
     "execution_count": 25,
     "metadata": {},
     "output_type": "execute_result"
    }
   ],
   "source": [
    "cran_reach.bottom()"
   ]
  },
  {
   "cell_type": "code",
   "execution_count": 26,
   "metadata": {},
   "outputs": [
    {
     "name": "stdout",
     "output_type": "stream",
     "text": [
      "Surface retrieved from metrics cache\n"
     ]
    },
    {
     "data": {
      "text/plain": [
       "[('R', 17223),\n",
       " ('methods', 15103),\n",
       " ('utils', 15037),\n",
       " ('stats', 14360),\n",
       " ('graphics', 12809),\n",
       " ('grDevices', 12763),\n",
       " ('grid', 9241),\n",
       " ('rlang', 8993),\n",
       " ('lattice', 8945),\n",
       " ('magrittr', 8916)]"
      ]
     },
     "execution_count": 26,
     "metadata": {},
     "output_type": "execute_result"
    }
   ],
   "source": [
    "cran.get_metric(Surface).top(10)"
   ]
  },
  {
   "cell_type": "markdown",
   "metadata": {},
   "source": [
    "As *MetricStats* implements arithmetic operators, you may define compound metrics or other operations like corrections or normalization:"
   ]
  },
  {
   "cell_type": "code",
   "execution_count": 27,
   "metadata": {},
   "outputs": [
    {
     "name": "stdout",
     "output_type": "stream",
     "text": [
      "Reach retrieved from metrics cache\n"
     ]
    },
    {
     "data": {
      "text/plain": [
       "[('sMSROC', 0.013550425794012104),\n",
       " ('popstudy', 0.012693481870280113),\n",
       " ('PsychWordVec', 0.012586363879813614),\n",
       " ('PALMO', 0.01205077392748112),\n",
       " ('wallace', 0.011997214932247872),\n",
       " ('jsmodule', 0.011997214932247872),\n",
       " ('RISCA', 0.011943655937014621),\n",
       " ('TidyConsultant', 0.011836537946548122),\n",
       " ('mlmts', 0.011675860960848375),\n",
       " ('packDAMipd', 0.011515183975148627)]"
      ]
     },
     "execution_count": 27,
     "metadata": {},
     "output_type": "execute_result"
    }
   ],
   "source": [
    "normalized_reach = cran.get_metric(Reach)/len(cran)\n",
    "normalized_reach.top(10)"
   ]
  },
  {
   "cell_type": "markdown",
   "metadata": {},
   "source": [
    "and there we can see that a failure in *six* could affect more than 40% of the packets in the network.\n",
    "\n",
    "Likewise, if we normalize SURFACE in relation to the size of the network, we obtain the probability that a uniformly random failure will affect each package:\n"
   ]
  },
  {
   "cell_type": "code",
   "execution_count": 28,
   "metadata": {},
   "outputs": [
    {
     "name": "stdout",
     "output_type": "stream",
     "text": [
      "Surface retrieved from metrics cache\n"
     ]
    },
    {
     "data": {
      "text/plain": [
       "[('R', 0.9224465749022548),\n",
       " ('methods', 0.808901505007766),\n",
       " ('utils', 0.8053666113223716),\n",
       " ('stats', 0.7691071715494617),\n",
       " ('graphics', 0.6860371699426919),\n",
       " ('grDevices', 0.6835734561619624),\n",
       " ('grid', 0.4949386749504579),\n",
       " ('rlang', 0.4816560441326121),\n",
       " ('lattice', 0.4790852123614161),\n",
       " ('magrittr', 0.47753200149965186)]"
      ]
     },
     "execution_count": 28,
     "metadata": {},
     "output_type": "execute_result"
    }
   ],
   "source": [
    "(cran.get_metric(Surface)/len(cran)).top(10)"
   ]
  },
  {
   "attachments": {},
   "cell_type": "markdown",
   "metadata": {},
   "source": [
    "<ins>**Note:**</ins>\n",
    "\n",
    "-   **R**: the base R package, which provides the core functionality of the R language.\n",
    "\n",
    "-   **methods**: a package that provides methods for generic functions, which are functions that can operate on objects of different classes.\n",
    "\n",
    "-   **utils**: a package that provides various utility functions for R, such as functions for reading and writing data, managing files and directories, and managing the R environment.\n",
    "\n",
    "-   **stats**: a package that provides functions for statistical modeling, inference, and analysis.\n",
    "\n",
    "-   **graphics**: a package that provides functions for creating and manipulating graphics in R, such as plots, charts, and diagrams.\n",
    "\n",
    "-   **grDevices**: a package that provides functions for interacting with graphical devices, such as displays, printers, and files.\n",
    "\n",
    "-   **grid**: a package that provides functions for creating and manipulating grid-based graphics, such as tables and plots.\n",
    "\n",
    "-   **rlang**: a package that provides functions for working with expressions and symbols in R, such as parsing, evaluation, and manipulation of expressions.\n",
    "\n",
    "-   **lattice**: a package that provides functions for creating and manipulating high-level graphics in R, such as trellis plots and conditioned plots.\n",
    "\n",
    "-   **magrittr**: a package that provides a pipe operator (%>%) for chaining together multiple operations in R, allowing for more readable and concise code."
   ]
  },
  {
   "cell_type": "markdown",
   "metadata": {},
   "source": [
    "Some examples of compound metrics:"
   ]
  },
  {
   "cell_type": "code",
   "execution_count": 29,
   "metadata": {},
   "outputs": [
    {
     "name": "stdout",
     "output_type": "stream",
     "text": [
      "Computing Dependents Count\n",
      "DependentsCount retrieved from metrics cache\n"
     ]
    },
    {
     "data": {
      "text/plain": [
       "[('Seurat', 1930.1271107449854),\n",
       " ('immunarch', 1594.6614152814323),\n",
       " ('pguIMP', 1220.3292959519908),\n",
       " ('epitweetr', 1151.4628720861026),\n",
       " ('MetaIntegrator', 956.8636004884377)]"
      ]
     },
     "execution_count": 29,
     "metadata": {},
     "output_type": "execute_result"
    }
   ],
   "source": [
    "from olivia.packagemetrics import DependentsCount\n",
    "\n",
    "mean_degree = cran.get_metric(DependentsCount).values.mean()\n",
    "degree_divergence = (cran.get_metric(DependentsCount)-mean_degree)**2\n",
    "degree_divergence.top(5)"
   ]
  },
  {
   "attachments": {},
   "cell_type": "markdown",
   "metadata": {},
   "source": [
    "<ins>**Note:**</ins>\n",
    "\n",
    "- **Seurat**: a package that provides tools for single cell data analysis, including clustering of similar cells and identification of differentially expressed genes.\n",
    "\n",
    "- **immunoarch**: a package that provides tools for the analysis of immune cell sequencing data, including immune cell sorting and clone identification.\n",
    "\n",
    "- **pguIMP**: a package that provides tools for comparative genomics data analysis, including the detection of genes that are present or absent in different genomes.\n",
    "\n",
    "- **epitweetr**: A package that provides tools for the collection and analysis of epidemiology-related Twitter data.\n",
    "\n",
    "- **MetaIntegrator**: a package that provides tools for meta-analysis data analysis, including combining results from individual studies and identifying heterogeneity between studies."
   ]
  },
  {
   "cell_type": "code",
   "execution_count": 30,
   "metadata": {},
   "outputs": [
    {
     "name": "stdout",
     "output_type": "stream",
     "text": [
      "Impact retrieved from metrics cache\n",
      "Reach retrieved from metrics cache\n"
     ]
    },
    {
     "data": {
      "text/plain": [
       "[('margaret', 5.348066298342541),\n",
       " ('packDAMipd', 5.255813953488372),\n",
       " ('hlaR', 5.15),\n",
       " ('healthyverse', 5.137931034482759),\n",
       " ('spatstat.local', 5.107142857142857)]"
      ]
     },
     "execution_count": 30,
     "metadata": {},
     "output_type": "execute_result"
    }
   ],
   "source": [
    "# Impact / Reach ratio\n",
    "(cran.get_metric(Impact)/cran.get_metric(Reach)).top(5)"
   ]
  }
 ],
 "metadata": {
  "kernelspec": {
   "display_name": "base",
   "language": "python",
   "name": "python3"
  },
  "language_info": {
   "codemirror_mode": {
    "name": "ipython",
    "version": 3
   },
   "file_extension": ".py",
   "mimetype": "text/x-python",
   "name": "python",
   "nbconvert_exporter": "python",
   "pygments_lexer": "ipython3",
   "version": "3.8.8"
  },
  "vscode": {
   "interpreter": {
    "hash": "7e6ac83646eb9cad61b06f84a14269a347a23aa598e02ce427c58e535b765bb8"
   }
  }
 },
 "nbformat": 4,
 "nbformat_minor": 4
}
