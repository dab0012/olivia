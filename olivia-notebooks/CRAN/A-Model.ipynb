{
 "cells": [
  {
   "cell_type": "markdown",
   "metadata": {},
   "source": [
    "# OLIVIA\n",
    "**Open-source Library Indexes Vulnerability Identification and Analysis**\n",
    "\n",
    "The use of centralized library repositories to reduce development times and costs is universal, in virtually all languages and types of software projects. Due to the transitivity of dependencies, the appearance of a single defect in the repository can have extensive and difficult-to-predict effects on the ecosystem. These defects cause functional errors or performance or security problems. The risk is difficult to grasp for developers, who only explicitly import a small part of the dependencies.\n",
    "\n",
    "OLVIA uses an approach based on the vulnerability of the dependency network of software packages, which measures how sensitive the repository is to the random introduction of defects. The goals of the model are  to contribute to the understanding of propagation mechanisms of software defects and to study feasible protection strategies. This can benefit multiple parties:\n",
    "\n",
    "* **Centralised package managers**, to establish policies and manual or automatic control processes that improve the security and stability of the repositories.\n",
    "* **Software developers** in general, to assess the different risks introduced by the dependencies used in their projects, and **package developers** in particular to understand their responsibility on the ecosystem.\n",
    "* Developers of **continuous quality tools**, to define the concept of vulnerability based on the modeling of the network of package dependencies.\n",
    "---\n",
    "\n",
    "**Author**: Daniel Setó Rey\n",
    "\n",
    "https://github.com/dsr0018/olivia\n",
    "\n",
    "**License**: Olivia and this notebook are published under a MIT [license](https://github.com/dsr0018/olivia/blob/master/LICENSE). The information of dependencies has been obtained from the libraries.io [data snapshots](https://libraries.io/data) (by Tidelift).\n",
    "\n",
    "---\n",
    "\n",
    "*This notebook is part of a user guide series that cover in detail the operation of the library.*\n",
    "*This time we treat the basic operations of loading/creating models and dealing with package properties and metrics.*\n",
    "\n"
   ]
  },
  {
   "cell_type": "markdown",
   "metadata": {},
   "source": [
    "\n",
    "## A - Basic model usage\n",
    "\n",
    "[01 - Load model](#01---Load-model)&ensp;|&ensp;[02 - Package properties](#02---Package-properties)&ensp;|&ensp;[03 - Package metrics](#03---Package-metrics)&ensp;|&ensp;[04 - Custom models](#04---Custom-models) \n",
    "\n",
    "*OliviaNetwork* is essentially a directed graph with some additional structures to facilitate working with metrics in large dependency networks. The model can be built from a NetworkX directed network or from a file in adjacency list format."
   ]
  },
  {
   "attachments": {},
   "cell_type": "markdown",
   "metadata": {},
   "source": [
    "Install requirements of olivia library"
   ]
  },
  {
   "cell_type": "code",
   "execution_count": 5,
   "metadata": {},
   "outputs": [
    {
     "name": "stdout",
     "output_type": "stream",
     "text": [
      "Requirement already satisfied: intbitset==2.4.0 in /home/daniel_alonso/miniconda3/lib/python3.9/site-packages (from -r ../../olivia_finder/olivia/requirements.txt (line 1)) (2.4.0)\n",
      "Collecting numpy==1.18.5\n",
      "  Downloading numpy-1.18.5.zip (5.4 MB)\n",
      "\u001b[K     |████████████████████████████████| 5.4 MB 6.0 MB/s eta 0:00:01     |███▌                            | 604 kB 6.0 MB/s eta 0:00:01     |███████▎                        | 1.2 MB 6.0 MB/s eta 0:00:01\n",
      "\u001b[?25h  Installing build dependencies ... \u001b[?25ldone\n",
      "\u001b[?25h  Getting requirements to build wheel ... \u001b[?25ldone\n",
      "\u001b[?25h    Preparing wheel metadata ... \u001b[?25ldone\n",
      "\u001b[?25hRequirement already satisfied: networkx==2.4 in /home/daniel_alonso/miniconda3/lib/python3.9/site-packages (from -r ../../olivia_finder/olivia/requirements.txt (line 3)) (2.4)\n",
      "Requirement already satisfied: six in /home/daniel_alonso/miniconda3/lib/python3.9/site-packages (from intbitset==2.4.0->-r ../../olivia_finder/olivia/requirements.txt (line 1)) (1.16.0)\n",
      "Requirement already satisfied: decorator>=4.3.0 in /home/daniel_alonso/miniconda3/lib/python3.9/site-packages (from networkx==2.4->-r ../../olivia_finder/olivia/requirements.txt (line 3)) (5.1.1)\n",
      "Building wheels for collected packages: numpy\n",
      "  Building wheel for numpy (PEP 517) ... \u001b[?25l/^C\n",
      "\u001b[?25canceled\n",
      "\u001b[31mERROR: Operation cancelled by user\u001b[0m\n"
     ]
    }
   ],
   "source": [
    "!pip install -r \"../../olivia_finder/olivia/requirements.txt\""
   ]
  },
  {
   "cell_type": "code",
   "execution_count": 2,
   "metadata": {},
   "outputs": [],
   "source": [
    "# Add olivia to the path\n",
    "import sys, os\n",
    "sys.path.append('../../olivia_finder/olivia')"
   ]
  },
  {
   "cell_type": "code",
   "execution_count": 4,
   "metadata": {},
   "outputs": [
    {
     "ename": "AttributeError",
     "evalue": "module 'numpy' has no attribute 'int'.\n`np.int` was a deprecated alias for the builtin `int`. To avoid this error in existing code, use `int` by itself. Doing this will not modify any behavior and is safe. When replacing `np.int`, you may wish to use e.g. `np.int64` or `np.int32` to specify the precision. If you wish to review your current use, check the release note link for additional information.\nThe aliases was originally deprecated in NumPy 1.20; for more details and guidance see the original release note at:\n    https://numpy.org/devdocs/release/1.20.0-notes.html#deprecations",
     "output_type": "error",
     "traceback": [
      "\u001b[0;31m---------------------------------------------------------------------------\u001b[0m",
      "\u001b[0;31mAttributeError\u001b[0m                            Traceback (most recent call last)",
      "Cell \u001b[0;32mIn[4], line 1\u001b[0m\n\u001b[0;32m----> 1\u001b[0m \u001b[39mfrom\u001b[39;00m \u001b[39molivia\u001b[39;00m\u001b[39m.\u001b[39;00m\u001b[39mmodel\u001b[39;00m \u001b[39mimport\u001b[39;00m OliviaNetwork\n",
      "File \u001b[0;32m~/tfg/olivia-finder/olivia-notebooks/CRAN/../../olivia_finder/olivia/olivia/model.py:8\u001b[0m\n\u001b[1;32m      1\u001b[0m \u001b[39m\"\"\"\u001b[39;00m\n\u001b[1;32m      2\u001b[0m \u001b[39mOlivia Model for studying the vulnerability of package dependency networks.\u001b[39;00m\n\u001b[1;32m      3\u001b[0m \n\u001b[1;32m      4\u001b[0m \u001b[39mOlivia stands for 'Open-source Library Indexes Vulnerability Identification and Analysis'.\u001b[39;00m\n\u001b[1;32m      5\u001b[0m \u001b[39mIncludes tools for the analysis of package dependency networks vulnerability to failures and attacks.\u001b[39;00m\n\u001b[1;32m      6\u001b[0m \u001b[39m\"\"\"\u001b[39;00m\n\u001b[0;32m----> 8\u001b[0m \u001b[39mimport\u001b[39;00m \u001b[39mnetworkx\u001b[39;00m \u001b[39mas\u001b[39;00m \u001b[39mnx\u001b[39;00m\n\u001b[1;32m      9\u001b[0m \u001b[39mimport\u001b[39;00m \u001b[39mgzip\u001b[39;00m\n\u001b[1;32m     10\u001b[0m \u001b[39mimport\u001b[39;00m \u001b[39mpickle\u001b[39;00m\n",
      "File \u001b[0;32m~/miniconda3/lib/python3.9/site-packages/networkx/__init__.py:115\u001b[0m\n\u001b[1;32m    112\u001b[0m \u001b[39mimport\u001b[39;00m \u001b[39mnetworkx\u001b[39;00m\u001b[39m.\u001b[39;00m\u001b[39mgenerators\u001b[39;00m\n\u001b[1;32m    113\u001b[0m \u001b[39mfrom\u001b[39;00m \u001b[39mnetworkx\u001b[39;00m\u001b[39m.\u001b[39;00m\u001b[39mgenerators\u001b[39;00m \u001b[39mimport\u001b[39;00m \u001b[39m*\u001b[39m\n\u001b[0;32m--> 115\u001b[0m \u001b[39mimport\u001b[39;00m \u001b[39mnetworkx\u001b[39;00m\u001b[39m.\u001b[39;00m\u001b[39mreadwrite\u001b[39;00m\n\u001b[1;32m    116\u001b[0m \u001b[39mfrom\u001b[39;00m \u001b[39mnetworkx\u001b[39;00m\u001b[39m.\u001b[39;00m\u001b[39mreadwrite\u001b[39;00m \u001b[39mimport\u001b[39;00m \u001b[39m*\u001b[39m\n\u001b[1;32m    118\u001b[0m \u001b[39m# Need to test with SciPy, when available\u001b[39;00m\n",
      "File \u001b[0;32m~/miniconda3/lib/python3.9/site-packages/networkx/readwrite/__init__.py:15\u001b[0m\n\u001b[1;32m     13\u001b[0m \u001b[39mfrom\u001b[39;00m \u001b[39mnetworkx\u001b[39;00m\u001b[39m.\u001b[39;00m\u001b[39mreadwrite\u001b[39;00m\u001b[39m.\u001b[39;00m\u001b[39mnx_yaml\u001b[39;00m \u001b[39mimport\u001b[39;00m \u001b[39m*\u001b[39m\n\u001b[1;32m     14\u001b[0m \u001b[39mfrom\u001b[39;00m \u001b[39mnetworkx\u001b[39;00m\u001b[39m.\u001b[39;00m\u001b[39mreadwrite\u001b[39;00m\u001b[39m.\u001b[39;00m\u001b[39mgml\u001b[39;00m \u001b[39mimport\u001b[39;00m \u001b[39m*\u001b[39m\n\u001b[0;32m---> 15\u001b[0m \u001b[39mfrom\u001b[39;00m \u001b[39mnetworkx\u001b[39;00m\u001b[39m.\u001b[39;00m\u001b[39mreadwrite\u001b[39;00m\u001b[39m.\u001b[39;00m\u001b[39mgraphml\u001b[39;00m \u001b[39mimport\u001b[39;00m \u001b[39m*\u001b[39m\n\u001b[1;32m     16\u001b[0m \u001b[39mfrom\u001b[39;00m \u001b[39mnetworkx\u001b[39;00m\u001b[39m.\u001b[39;00m\u001b[39mreadwrite\u001b[39;00m\u001b[39m.\u001b[39;00m\u001b[39mgexf\u001b[39;00m \u001b[39mimport\u001b[39;00m \u001b[39m*\u001b[39m\n\u001b[1;32m     17\u001b[0m \u001b[39mfrom\u001b[39;00m \u001b[39mnetworkx\u001b[39;00m\u001b[39m.\u001b[39;00m\u001b[39mreadwrite\u001b[39;00m\u001b[39m.\u001b[39;00m\u001b[39mnx_shp\u001b[39;00m \u001b[39mimport\u001b[39;00m \u001b[39m*\u001b[39m\n",
      "File \u001b[0;32m~/miniconda3/lib/python3.9/site-packages/networkx/readwrite/graphml.py:314\u001b[0m\n\u001b[1;32m    310\u001b[0m             \u001b[39mraise\u001b[39;00m nx\u001b[39m.\u001b[39mNetworkXError(\u001b[39m'\u001b[39m\u001b[39mfile not successfully read as graphml\u001b[39m\u001b[39m'\u001b[39m)\n\u001b[1;32m    311\u001b[0m     \u001b[39mreturn\u001b[39;00m glist[\u001b[39m0\u001b[39m]\n\u001b[0;32m--> 314\u001b[0m \u001b[39mclass\u001b[39;00m \u001b[39mGraphML\u001b[39;00m(\u001b[39mobject\u001b[39m):\n\u001b[1;32m    315\u001b[0m     NS_GRAPHML \u001b[39m=\u001b[39m \u001b[39m\"\u001b[39m\u001b[39mhttp://graphml.graphdrawing.org/xmlns\u001b[39m\u001b[39m\"\u001b[39m\n\u001b[1;32m    316\u001b[0m     NS_XSI \u001b[39m=\u001b[39m \u001b[39m\"\u001b[39m\u001b[39mhttp://www.w3.org/2001/XMLSchema-instance\u001b[39m\u001b[39m\"\u001b[39m\n",
      "File \u001b[0;32m~/miniconda3/lib/python3.9/site-packages/networkx/readwrite/graphml.py:346\u001b[0m, in \u001b[0;36mGraphML\u001b[0;34m()\u001b[0m\n\u001b[1;32m    341\u001b[0m     \u001b[39mpass\u001b[39;00m\n\u001b[1;32m    342\u001b[0m \u001b[39melse\u001b[39;00m:\n\u001b[1;32m    343\u001b[0m     \u001b[39m# prepend so that python types are created upon read (last entry wins)\u001b[39;00m\n\u001b[1;32m    344\u001b[0m     types \u001b[39m=\u001b[39m [(np\u001b[39m.\u001b[39mfloat64, \u001b[39m\"\u001b[39m\u001b[39mfloat\u001b[39m\u001b[39m\"\u001b[39m), (np\u001b[39m.\u001b[39mfloat32, \u001b[39m\"\u001b[39m\u001b[39mfloat\u001b[39m\u001b[39m\"\u001b[39m),\n\u001b[1;32m    345\u001b[0m              (np\u001b[39m.\u001b[39mfloat16, \u001b[39m\"\u001b[39m\u001b[39mfloat\u001b[39m\u001b[39m\"\u001b[39m), (np\u001b[39m.\u001b[39mfloat_, \u001b[39m\"\u001b[39m\u001b[39mfloat\u001b[39m\u001b[39m\"\u001b[39m),\n\u001b[0;32m--> 346\u001b[0m              (np\u001b[39m.\u001b[39;49mint, \u001b[39m\"\u001b[39m\u001b[39mint\u001b[39m\u001b[39m\"\u001b[39m), (np\u001b[39m.\u001b[39mint8, \u001b[39m\"\u001b[39m\u001b[39mint\u001b[39m\u001b[39m\"\u001b[39m),\n\u001b[1;32m    347\u001b[0m              (np\u001b[39m.\u001b[39mint16, \u001b[39m\"\u001b[39m\u001b[39mint\u001b[39m\u001b[39m\"\u001b[39m), (np\u001b[39m.\u001b[39mint32, \u001b[39m\"\u001b[39m\u001b[39mint\u001b[39m\u001b[39m\"\u001b[39m),\n\u001b[1;32m    348\u001b[0m              (np\u001b[39m.\u001b[39mint64, \u001b[39m\"\u001b[39m\u001b[39mint\u001b[39m\u001b[39m\"\u001b[39m), (np\u001b[39m.\u001b[39muint8, \u001b[39m\"\u001b[39m\u001b[39mint\u001b[39m\u001b[39m\"\u001b[39m),\n\u001b[1;32m    349\u001b[0m              (np\u001b[39m.\u001b[39muint16, \u001b[39m\"\u001b[39m\u001b[39mint\u001b[39m\u001b[39m\"\u001b[39m), (np\u001b[39m.\u001b[39muint32, \u001b[39m\"\u001b[39m\u001b[39mint\u001b[39m\u001b[39m\"\u001b[39m),\n\u001b[1;32m    350\u001b[0m              (np\u001b[39m.\u001b[39muint64, \u001b[39m\"\u001b[39m\u001b[39mint\u001b[39m\u001b[39m\"\u001b[39m), (np\u001b[39m.\u001b[39mint_, \u001b[39m\"\u001b[39m\u001b[39mint\u001b[39m\u001b[39m\"\u001b[39m),\n\u001b[1;32m    351\u001b[0m              (np\u001b[39m.\u001b[39mintc, \u001b[39m\"\u001b[39m\u001b[39mint\u001b[39m\u001b[39m\"\u001b[39m), (np\u001b[39m.\u001b[39mintp, \u001b[39m\"\u001b[39m\u001b[39mint\u001b[39m\u001b[39m\"\u001b[39m),\n\u001b[1;32m    352\u001b[0m             ] \u001b[39m+\u001b[39m types\n\u001b[1;32m    354\u001b[0m xml_type \u001b[39m=\u001b[39m \u001b[39mdict\u001b[39m(types)\n\u001b[1;32m    355\u001b[0m python_type \u001b[39m=\u001b[39m \u001b[39mdict\u001b[39m(\u001b[39mreversed\u001b[39m(a) \u001b[39mfor\u001b[39;00m a \u001b[39min\u001b[39;00m types)\n",
      "File \u001b[0;32m~/miniconda3/lib/python3.9/site-packages/numpy/__init__.py:305\u001b[0m, in \u001b[0;36m__getattr__\u001b[0;34m(attr)\u001b[0m\n\u001b[1;32m    300\u001b[0m     warnings\u001b[39m.\u001b[39mwarn(\n\u001b[1;32m    301\u001b[0m         \u001b[39mf\u001b[39m\u001b[39m\"\u001b[39m\u001b[39mIn the future `np.\u001b[39m\u001b[39m{\u001b[39;00mattr\u001b[39m}\u001b[39;00m\u001b[39m` will be defined as the \u001b[39m\u001b[39m\"\u001b[39m\n\u001b[1;32m    302\u001b[0m         \u001b[39m\"\u001b[39m\u001b[39mcorresponding NumPy scalar.\u001b[39m\u001b[39m\"\u001b[39m, \u001b[39mFutureWarning\u001b[39;00m, stacklevel\u001b[39m=\u001b[39m\u001b[39m2\u001b[39m)\n\u001b[1;32m    304\u001b[0m \u001b[39mif\u001b[39;00m attr \u001b[39min\u001b[39;00m __former_attrs__:\n\u001b[0;32m--> 305\u001b[0m     \u001b[39mraise\u001b[39;00m \u001b[39mAttributeError\u001b[39;00m(__former_attrs__[attr])\n\u001b[1;32m    307\u001b[0m \u001b[39m# Importing Tester requires importing all of UnitTest which is not a\u001b[39;00m\n\u001b[1;32m    308\u001b[0m \u001b[39m# cheap import Since it is mainly used in test suits, we lazy import it\u001b[39;00m\n\u001b[1;32m    309\u001b[0m \u001b[39m# here to save on the order of 10 ms of import time for most users\u001b[39;00m\n\u001b[1;32m    310\u001b[0m \u001b[39m#\u001b[39;00m\n\u001b[1;32m    311\u001b[0m \u001b[39m# The previous way Tester was imported also had a side effect of adding\u001b[39;00m\n\u001b[1;32m    312\u001b[0m \u001b[39m# the full `numpy.testing` namespace\u001b[39;00m\n\u001b[1;32m    313\u001b[0m \u001b[39mif\u001b[39;00m attr \u001b[39m==\u001b[39m \u001b[39m'\u001b[39m\u001b[39mtesting\u001b[39m\u001b[39m'\u001b[39m:\n",
      "\u001b[0;31mAttributeError\u001b[0m: module 'numpy' has no attribute 'int'.\n`np.int` was a deprecated alias for the builtin `int`. To avoid this error in existing code, use `int` by itself. Doing this will not modify any behavior and is safe. When replacing `np.int`, you may wish to use e.g. `np.int64` or `np.int32` to specify the precision. If you wish to review your current use, check the release note link for additional information.\nThe aliases was originally deprecated in NumPy 1.20; for more details and guidance see the original release note at:\n    https://numpy.org/devdocs/release/1.20.0-notes.html#deprecations"
     ]
    }
   ],
   "source": [
    "from olivia.model import OliviaNetwork"
   ]
  },
  {
   "attachments": {},
   "cell_type": "markdown",
   "metadata": {},
   "source": [
    "### 0 - Build olivia model from graph"
   ]
  },
  {
   "cell_type": "code",
   "execution_count": 21,
   "metadata": {},
   "outputs": [
    {
     "name": "stdout",
     "output_type": "stream",
     "text": [
      "Reading dependencies file...\n",
      "Building Olivia Model\n",
      "     Finding strongly connected components (SCCs)...\n",
      "     Building condensation network...\n",
      "     Adding structural meta-data...\n",
      "     Done\n"
     ]
    }
   ],
   "source": [
    "cran_network_graph_path = os.path.abspath('../networks/cran_nrework.bz2')\n",
    "cran = OliviaNetwork()\n",
    "cran.build_model(cran_network_graph_path)\n",
    "cran.save('cran_model.olv')"
   ]
  },
  {
   "cell_type": "markdown",
   "metadata": {},
   "source": [
    "### 01 - Load model\n",
    "\n",
    "Load a pre-built model from file. This one is based in a snapshot of the Python Package Index (https://pypi.org/) from 2020-01 (data from https://libraries.io/):"
   ]
  },
  {
   "cell_type": "code",
   "execution_count": 23,
   "metadata": {},
   "outputs": [],
   "source": [
    "cran = OliviaNetwork(r'cran_model.olv')"
   ]
  },
  {
   "cell_type": "markdown",
   "metadata": {},
   "source": [
    "As expected, *len()* returns the number of the packages in the network:"
   ]
  },
  {
   "cell_type": "code",
   "execution_count": 24,
   "metadata": {},
   "outputs": [
    {
     "data": {
      "text/plain": [
       "18671"
      ]
     },
     "execution_count": 24,
     "metadata": {},
     "output_type": "execute_result"
    }
   ],
   "source": [
    "len(cran)"
   ]
  },
  {
   "cell_type": "markdown",
   "metadata": {},
   "source": [
    "### 02 - Package properties"
   ]
  },
  {
   "cell_type": "markdown",
   "metadata": {},
   "source": [
    "Access via *getitem* returns a special view object:"
   ]
  },
  {
   "cell_type": "code",
   "execution_count": 29,
   "metadata": {},
   "outputs": [
    {
     "data": {
      "text/plain": [
       "<olivia.model.PackageInfoView at 0x7f0cbdfc9f00>"
      ]
     },
     "execution_count": 29,
     "metadata": {},
     "output_type": "execute_result"
    }
   ],
   "source": [
    "cran['A3']"
   ]
  },
  {
   "cell_type": "markdown",
   "metadata": {},
   "source": [
    "*PackageInfoView* contains methods returning stats for specific packages. For example, direct dependants are other packages that import networkx in their code:"
   ]
  },
  {
   "cell_type": "code",
   "execution_count": 31,
   "metadata": {},
   "outputs": [
    {
     "name": "stdout",
     "output_type": "stream",
     "text": [
      "A3 has 3 direct dependants\n"
     ]
    }
   ],
   "source": [
    "print(f\"A3 has {len(cran['A3'].direct_dependants())} direct dependants\")  "
   ]
  },
  {
   "cell_type": "markdown",
   "metadata": {},
   "source": [
    "Packages may depend on NetworkX not only directly, but also via transitive dependencies:"
   ]
  },
  {
   "attachments": {},
   "cell_type": "markdown",
   "metadata": {},
   "source": [
    "![Dependants and transitive dependants](../../olivia_finder/olivia/docs/img/dependants.png \"Transitive dependencies\")  \n",
    "<br>"
   ]
  },
  {
   "cell_type": "code",
   "execution_count": 32,
   "metadata": {},
   "outputs": [
    {
     "name": "stdout",
     "output_type": "stream",
     "text": [
      "A3 has 6 transitive dependants (includes direct dependants)\n"
     ]
    }
   ],
   "source": [
    "print(f\"A3 has {len(cran['A3'].transitive_dependants())} transitive dependants (includes direct dependants)\")"
   ]
  },
  {
   "cell_type": "markdown",
   "metadata": {},
   "source": [
    "Packages are returned as sets so we may apply the usual set operators. For example, these packages depend on NetworkX but do not explicitly import it:"
   ]
  },
  {
   "cell_type": "code",
   "execution_count": 33,
   "metadata": {
    "scrolled": true
   },
   "outputs": [
    {
     "name": "stdout",
     "output_type": "stream",
     "text": [
      "{'stats', 'parallel', 'utils'}\n"
     ]
    }
   ],
   "source": [
    "print(cran['A3'].transitive_dependants() - cran['A3'].direct_dependants())"
   ]
  },
  {
   "cell_type": "markdown",
   "metadata": {},
   "source": [
    "Lets pick one of them and check its dependencies, the packages on which it depends:"
   ]
  },
  {
   "attachments": {},
   "cell_type": "markdown",
   "metadata": {},
   "source": [
    "**Direct Dependencies**"
   ]
  },
  {
   "cell_type": "code",
   "execution_count": 38,
   "metadata": {},
   "outputs": [
    {
     "name": "stdout",
     "output_type": "stream",
     "text": [
      "parallel has 1147 direct dependencies\n"
     ]
    }
   ],
   "source": [
    "parallel_dd_count = len(cran['parallel'].direct_dependencies())\n",
    "print(f\"parallel has {parallel_dd_count} direct dependencies\")"
   ]
  },
  {
   "attachments": {},
   "cell_type": "markdown",
   "metadata": {},
   "source": [
    "**Transitive Dependencies**"
   ]
  },
  {
   "cell_type": "code",
   "execution_count": 37,
   "metadata": {},
   "outputs": [
    {
     "name": "stdout",
     "output_type": "stream",
     "text": [
      "parallel has 4309 transitive dependencies\n"
     ]
    }
   ],
   "source": [
    "parallel_td_count = len(cran['parallel'].transitive_dependencies())\n",
    "print(f\"parallel has {parallel_td_count} transitive dependencies\")"
   ]
  },
  {
   "cell_type": "markdown",
   "metadata": {},
   "source": [
    "### 03 - Package metrics"
   ]
  },
  {
   "cell_type": "markdown",
   "metadata": {},
   "source": [
    "**REACH** of a package *u* is the number of transitive dependents of *u* plus 1."
   ]
  },
  {
   "cell_type": "code",
   "execution_count": 41,
   "metadata": {},
   "outputs": [
    {
     "data": {
      "text/plain": [
       "7"
      ]
     },
     "execution_count": 41,
     "metadata": {},
     "output_type": "execute_result"
    }
   ],
   "source": [
    "cran['A3'].reach()"
   ]
  },
  {
   "cell_type": "markdown",
   "metadata": {},
   "source": [
    "REACH represents the number of packages in the network that could be affected by the occurrence of a defect in *u*, like a bug or a security vulnerability. A bug in networkx could affect 590 packages, including NetworkX.\n",
    "\n",
    "You may calculate REACH package by package, as in the previous example. However, this involves many redundant computations and is very slow. OLIVIA provides efficient methods to calculate REACH for all the nodes in the network."
   ]
  },
  {
   "cell_type": "code",
   "execution_count": 42,
   "metadata": {},
   "outputs": [
    {
     "ename": "ModuleNotFoundError",
     "evalue": "No module named 'intbitset'",
     "output_type": "error",
     "traceback": [
      "\u001b[0;31m---------------------------------------------------------------------------\u001b[0m",
      "\u001b[0;31mModuleNotFoundError\u001b[0m                       Traceback (most recent call last)",
      "Cell \u001b[0;32mIn[42], line 1\u001b[0m\n\u001b[0;32m----> 1\u001b[0m \u001b[39mfrom\u001b[39;00m \u001b[39molivia\u001b[39;00m\u001b[39m.\u001b[39;00m\u001b[39mpackagemetrics\u001b[39;00m \u001b[39mimport\u001b[39;00m Reach\n\u001b[1;32m      2\u001b[0m cran_reach \u001b[39m=\u001b[39m cran\u001b[39m.\u001b[39mget_metric(Reach)\n",
      "File \u001b[0;32m~/tfg/olivia-finder/olivia-notebooks/CRAN/../../olivia_finder/olivia/olivia/packagemetrics.py:5\u001b[0m\n\u001b[1;32m      1\u001b[0m \u001b[39m\"\"\"Olivia package metrics for network vulnerability analysis.\"\"\"\u001b[39;00m\n\u001b[1;32m      3\u001b[0m \u001b[39mimport\u001b[39;00m \u001b[39mnumbers\u001b[39;00m\n\u001b[0;32m----> 5\u001b[0m \u001b[39mfrom\u001b[39;00m \u001b[39molivia\u001b[39;00m\u001b[39m.\u001b[39;00m\u001b[39mlib\u001b[39;00m\u001b[39m.\u001b[39;00m\u001b[39maggregators\u001b[39;00m \u001b[39mimport\u001b[39;00m AscendentAggregator, DescendentAggregator\n\u001b[1;32m      6\u001b[0m \u001b[39mimport\u001b[39;00m \u001b[39mnumpy\u001b[39;00m \u001b[39mas\u001b[39;00m \u001b[39mnp\u001b[39;00m\n\u001b[1;32m      9\u001b[0m \u001b[39mclass\u001b[39;00m \u001b[39mReach\u001b[39;00m(AscendentAggregator):\n",
      "File \u001b[0;32m~/tfg/olivia-finder/olivia-notebooks/CRAN/../../olivia_finder/olivia/olivia/lib/aggregators.py:7\u001b[0m\n\u001b[1;32m      5\u001b[0m \u001b[39mimport\u001b[39;00m \u001b[39mnumpy\u001b[39;00m \u001b[39mas\u001b[39;00m \u001b[39mnp\u001b[39;00m\n\u001b[1;32m      6\u001b[0m \u001b[39mimport\u001b[39;00m \u001b[39mnetworkx\u001b[39;00m \u001b[39mas\u001b[39;00m \u001b[39mnx\u001b[39;00m\n\u001b[0;32m----> 7\u001b[0m \u001b[39mfrom\u001b[39;00m \u001b[39mintbitset\u001b[39;00m \u001b[39mimport\u001b[39;00m intbitset\n\u001b[1;32m      9\u001b[0m \u001b[39mfrom\u001b[39;00m \u001b[39molivia\u001b[39;00m\u001b[39m.\u001b[39;00m\u001b[39mlib\u001b[39;00m\u001b[39m.\u001b[39;00m\u001b[39mtransientsequence\u001b[39;00m \u001b[39mimport\u001b[39;00m TransientSequence\n\u001b[1;32m     12\u001b[0m \u001b[39mclass\u001b[39;00m \u001b[39mAscendentAggregator\u001b[39;00m(ABC):\n",
      "\u001b[0;31mModuleNotFoundError\u001b[0m: No module named 'intbitset'"
     ]
    }
   ],
   "source": [
    "from olivia.packagemetrics import Reach\n",
    "cran_reach = cran.get_metric(Reach)"
   ]
  },
  {
   "cell_type": "markdown",
   "metadata": {},
   "source": [
    "*OliviaModel.get_metric(...)* returns a *MetricStats* object with the results of the computation. *get_metric(...)* accepts as parameter classes implementing the *compute()* method, such as the ones in *olivia.packagemetrics*"
   ]
  },
  {
   "cell_type": "code",
   "execution_count": 50,
   "metadata": {},
   "outputs": [
    {
     "data": {
      "text/plain": [
       "<olivia.packagemetrics.MetricStats at 0x248710b8>"
      ]
     },
     "execution_count": 50,
     "metadata": {},
     "output_type": "execute_result"
    }
   ],
   "source": [
    "cran_reach"
   ]
  },
  {
   "cell_type": "code",
   "execution_count": 6,
   "metadata": {},
   "outputs": [
    {
     "data": {
      "text/plain": [
       "590"
      ]
     },
     "execution_count": 6,
     "metadata": {},
     "output_type": "execute_result"
    }
   ],
   "source": [
    "cran_reach['networkx']"
   ]
  },
  {
   "cell_type": "markdown",
   "metadata": {},
   "source": [
    "Once calculated through *get_metric*, the *MetricStats* object is cached into the *OliviaNetwork* model. In this way, other complex algorithms that use large metric results are freed from managing each one on their own. \n",
    "\n",
    "So there is really no need to store the results into an independent variable like we did."
   ]
  },
  {
   "cell_type": "code",
   "execution_count": 16,
   "metadata": {},
   "outputs": [
    {
     "name": "stdout",
     "output_type": "stream",
     "text": [
      "Reach retrieved from metrics cache\n"
     ]
    }
   ],
   "source": [
    "pypi_reach = cran.get_metric(Reach)"
   ]
  },
  {
   "cell_type": "code",
   "execution_count": 53,
   "metadata": {},
   "outputs": [
    {
     "name": "stdout",
     "output_type": "stream",
     "text": [
      "Reach retrieved from metrics cache\n"
     ]
    },
    {
     "data": {
      "text/plain": [
       "590"
      ]
     },
     "execution_count": 53,
     "metadata": {},
     "output_type": "execute_result"
    }
   ],
   "source": [
    "cran.get_metric(Reach)['networkx']"
   ]
  },
  {
   "cell_type": "markdown",
   "metadata": {},
   "source": [
    "The management of the cache is semi-automatic. You can request a value from a network-wide metric that has not yet been calculated and it will be computed and cached the first time:"
   ]
  },
  {
   "cell_type": "code",
   "execution_count": 7,
   "metadata": {},
   "outputs": [
    {
     "name": "stdout",
     "output_type": "stream",
     "text": [
      "Computing Impact\n",
      "     Processing node: 50K      \n",
      "Wall time: 2.64 s\n"
     ]
    },
    {
     "data": {
      "text/plain": [
       "680"
      ]
     },
     "execution_count": 7,
     "metadata": {},
     "output_type": "execute_result"
    }
   ],
   "source": [
    "from olivia.packagemetrics import Impact\n",
    "\n",
    "%time pypi.get_metric(Impact)['networkx']"
   ]
  },
  {
   "cell_type": "code",
   "execution_count": 10,
   "metadata": {},
   "outputs": [
    {
     "name": "stdout",
     "output_type": "stream",
     "text": [
      "Impact retrieved from metrics cache\n",
      "Wall time: 0 ns\n"
     ]
    },
    {
     "data": {
      "text/plain": [
       "680"
      ]
     },
     "execution_count": 10,
     "metadata": {},
     "output_type": "execute_result"
    }
   ],
   "source": [
    "%time pypi.get_metric(Impact)['networkx']"
   ]
  },
  {
   "cell_type": "code",
   "execution_count": 56,
   "metadata": {},
   "outputs": [
    {
     "name": "stdout",
     "output_type": "stream",
     "text": [
      "Impact retrieved from metrics cache\n"
     ]
    },
    {
     "data": {
      "text/plain": [
       "8104"
      ]
     },
     "execution_count": 56,
     "metadata": {},
     "output_type": "execute_result"
    }
   ],
   "source": [
    "cran.get_metric(Impact)['numpy']"
   ]
  },
  {
   "cell_type": "code",
   "execution_count": 57,
   "metadata": {},
   "outputs": [
    {
     "name": "stdout",
     "output_type": "stream",
     "text": [
      "Impact retrieved from metrics cache\n"
     ]
    },
    {
     "data": {
      "text/plain": [
       "831"
      ]
     },
     "execution_count": 57,
     "metadata": {},
     "output_type": "execute_result"
    }
   ],
   "source": [
    "cran.get_metric(Impact)['matplotlib']"
   ]
  },
  {
   "cell_type": "markdown",
   "metadata": {},
   "source": [
    "By the way, **IMPACT** is an alternative way of measuring the effect of a defect appearing in the network. It corresponds to the number of \"links\" affected (the number of \"imports\" in Python terms), it could be a better measure of the effort required to recover the network. Technically speaking it is the number of arcs in the graph induced by a node and its transitive dependents.\n",
    "\n",
    "On the other hand, **SURFACE** is the size of the set of transitive dependencies plus 1. SURFACE(*u*) is the number of packages whose defects could affect *u*. High SURFACE packages are more vulnerable to random failures."
   ]
  },
  {
   "cell_type": "code",
   "execution_count": 12,
   "metadata": {},
   "outputs": [
    {
     "name": "stdout",
     "output_type": "stream",
     "text": [
      "Computing Surface\n",
      "     Processing node: 0K       \n"
     ]
    },
    {
     "data": {
      "text/plain": [
       "5"
      ]
     },
     "execution_count": 12,
     "metadata": {},
     "output_type": "execute_result"
    }
   ],
   "source": [
    "from olivia.packagemetrics import Surface\n",
    "\n",
    "cran.get_metric(Surface)['pandas']"
   ]
  },
  {
   "cell_type": "markdown",
   "metadata": {},
   "source": [
    "![Package metrics](docs/img/pmetrics.png \"Olivia package metrics\")\n",
    "<br>"
   ]
  },
  {
   "cell_type": "markdown",
   "metadata": {},
   "source": [
    "*MetricStats* is not just about storing values. It also has some basic methods that are useful for working with metrics. For example, you can get top and bottom packages according to the metric value:"
   ]
  },
  {
   "cell_type": "code",
   "execution_count": 61,
   "metadata": {},
   "outputs": [
    {
     "data": {
      "text/plain": [
       "[('six', 22315),\n",
       " ('idna', 17223),\n",
       " ('certifi', 16760),\n",
       " ('urllib3', 16438),\n",
       " ('chardet', 16384),\n",
       " ('chardet2', 15732),\n",
       " ('requests', 15731),\n",
       " ('attrs', 14606),\n",
       " ('pyparsing', 13873),\n",
       " ('appdirs', 13828)]"
      ]
     },
     "execution_count": 61,
     "metadata": {},
     "output_type": "execute_result"
    }
   ],
   "source": [
    "pypi_reach.top(10)"
   ]
  },
  {
   "cell_type": "code",
   "execution_count": 62,
   "metadata": {},
   "outputs": [
    {
     "data": {
      "text/plain": [
       "[('1pass', 1)]"
      ]
     },
     "execution_count": 62,
     "metadata": {},
     "output_type": "execute_result"
    }
   ],
   "source": [
    "pypi_reach.bottom()"
   ]
  },
  {
   "cell_type": "code",
   "execution_count": 83,
   "metadata": {},
   "outputs": [
    {
     "name": "stdout",
     "output_type": "stream",
     "text": [
      "Surface retrieved from metrics cache\n"
     ]
    },
    {
     "data": {
      "text/plain": [
       "[('sos-papermill', 248),\n",
       " ('dsc', 248),\n",
       " ('dvc-cc', 235),\n",
       " ('paasta-tools', 227),\n",
       " ('sos-python', 226),\n",
       " ('networking-baremetal', 225),\n",
       " ('sos-notebook', 225),\n",
       " ('molecule-azure', 223),\n",
       " ('magnum', 223),\n",
       " ('karbor', 222)]"
      ]
     },
     "execution_count": 83,
     "metadata": {},
     "output_type": "execute_result"
    }
   ],
   "source": [
    "cran.get_metric(Surface).top(10)"
   ]
  },
  {
   "cell_type": "markdown",
   "metadata": {},
   "source": [
    "As *MetricStats* implements arithmetic operators, you may define compound metrics or other operations like corrections or normalization:"
   ]
  },
  {
   "cell_type": "code",
   "execution_count": 4,
   "metadata": {},
   "outputs": [
    {
     "name": "stdout",
     "output_type": "stream",
     "text": [
      "Reach retrieved from metrics cache\n"
     ]
    },
    {
     "data": {
      "text/plain": [
       "[('six', 0.43956585116022534),\n",
       " ('idna', 0.33926249852263324),\n",
       " ('certifi', 0.3301422211716503),\n",
       " ('urllib3', 0.3237993932947248),\n",
       " ('chardet', 0.32273568924083046),\n",
       " ('chardet2', 0.3098924477012174),\n",
       " ('requests', 0.3098727494779971),\n",
       " ('attrs', 0.2877122483551984),\n",
       " ('pyparsing', 0.27327345073474374),\n",
       " ('appdirs', 0.2723870306898318)]"
      ]
     },
     "execution_count": 4,
     "metadata": {},
     "output_type": "execute_result"
    }
   ],
   "source": [
    "normalized_reach = cran.get_metric(Reach)/len(cran)\n",
    "normalized_reach.top(10)"
   ]
  },
  {
   "cell_type": "markdown",
   "metadata": {},
   "source": [
    "and there we can see that a failure in *six* could affect more than 40% of the packets in the network.\n",
    "\n",
    "Likewise, if we normalize SURFACE in relation to the size of the network, we obtain the probability that a uniformly random failure will affect each package:\n"
   ]
  },
  {
   "cell_type": "code",
   "execution_count": 13,
   "metadata": {},
   "outputs": [
    {
     "name": "stdout",
     "output_type": "stream",
     "text": [
      "Surface retrieved from metrics cache\n"
     ]
    },
    {
     "data": {
      "text/plain": [
       "[('sos-papermill', 0.004885159358625852),\n",
       " ('dsc', 0.004885159358625852),\n",
       " ('dvc-cc', 0.0046290824567624),\n",
       " ('paasta-tools', 0.0044714966710002755),\n",
       " ('sos-python', 0.00445179844778001),\n",
       " ('networking-baremetal', 0.0044321002245597445),\n",
       " ('sos-notebook', 0.0044321002245597445),\n",
       " ('molecule-azure', 0.0043927037781192136),\n",
       " ('magnum', 0.0043927037781192136),\n",
       " ('karbor', 0.004373005554898948)]"
      ]
     },
     "execution_count": 13,
     "metadata": {},
     "output_type": "execute_result"
    }
   ],
   "source": [
    "(cran.get_metric(Surface)/len(cran)).top(10)"
   ]
  },
  {
   "cell_type": "markdown",
   "metadata": {},
   "source": [
    "Some examples of compound metrics:"
   ]
  },
  {
   "cell_type": "code",
   "execution_count": 5,
   "metadata": {},
   "outputs": [
    {
     "name": "stdout",
     "output_type": "stream",
     "text": [
      "Computing Dependents Count\n",
      "DependentsCount retrieved from metrics cache\n"
     ]
    },
    {
     "data": {
      "text/plain": [
       "[('requests', 112783115.1271673),\n",
       " ('six', 25109514.74037298),\n",
       " ('numpy', 15271991.188468162),\n",
       " ('click', 6329951.601658093),\n",
       " ('setuptools', 4468740.2382258745)]"
      ]
     },
     "execution_count": 5,
     "metadata": {},
     "output_type": "execute_result"
    }
   ],
   "source": [
    "from olivia.packagemetrics import DependentsCount\n",
    "\n",
    "mean_degree = cran.get_metric(DependentsCount).values.mean()\n",
    "degree_divergence = (cran.get_metric(DependentsCount)-mean_degree)**2\n",
    "degree_divergence.top(5)"
   ]
  },
  {
   "cell_type": "code",
   "execution_count": 10,
   "metadata": {},
   "outputs": [
    {
     "name": "stdout",
     "output_type": "stream",
     "text": [
      "Impact retrieved from metrics cache\n",
      "Reach retrieved from metrics cache\n"
     ]
    },
    {
     "data": {
      "text/plain": [
       "[('jsii', 5.434782608695652),\n",
       " ('publication', 5.407407407407407),\n",
       " ('aws-cdk.aws-iam', 5.174418604651163),\n",
       " ('aws-cdk.region-info', 5.149425287356322),\n",
       " ('cattrs', 4.829787234042553)]"
      ]
     },
     "execution_count": 10,
     "metadata": {},
     "output_type": "execute_result"
    }
   ],
   "source": [
    "# Impact / Reach ratio\n",
    "(cran.get_metric(Impact)/cran.get_metric(Reach)).top(5)"
   ]
  },
  {
   "cell_type": "markdown",
   "metadata": {},
   "source": [
    "### 04 - Custom models"
   ]
  },
  {
   "cell_type": "markdown",
   "metadata": {},
   "source": [
    "An *OliviaNetwork* model can be built from a text file with package dependencies in adjacency list format. You may provide compressed GZIP or BZ2 files."
   ]
  },
  {
   "cell_type": "code",
   "execution_count": 121,
   "metadata": {},
   "outputs": [
    {
     "name": "stdout",
     "output_type": "stream",
     "text": [
      "Reading dependencies file...\n",
      "Building Olivia Model\n",
      "     Finding strongly connected components (SCCs)...\n",
      "     Building condensation network...\n",
      "     Adding structural meta-data...\n",
      "     Done\n"
     ]
    }
   ],
   "source": [
    "net = OliviaNetwork()\n",
    "net.build_model(r'data/pypi-dependencies-net-2020-01-12.bz2')"
   ]
  },
  {
   "cell_type": "code",
   "execution_count": 122,
   "metadata": {},
   "outputs": [
    {
     "name": "stdout",
     "output_type": "stream",
     "text": [
      "Computing Reach\n",
      "     Processing node: 50K      \n"
     ]
    },
    {
     "data": {
      "text/plain": [
       "[('six', 22315),\n",
       " ('idna', 17223),\n",
       " ('certifi', 16760),\n",
       " ('urllib3', 16438),\n",
       " ('chardet', 16384),\n",
       " ('chardet2', 15732),\n",
       " ('requests', 15731),\n",
       " ('attrs', 14606),\n",
       " ('pyparsing', 13873),\n",
       " ('appdirs', 13828)]"
      ]
     },
     "execution_count": 122,
     "metadata": {},
     "output_type": "execute_result"
    }
   ],
   "source": [
    "net.get_metric(Reach).top(10)"
   ]
  },
  {
   "cell_type": "markdown",
   "metadata": {},
   "source": [
    " *build_model(...)* also accepts an arbitrary NetworkX directed network as input:"
   ]
  },
  {
   "cell_type": "code",
   "execution_count": 123,
   "metadata": {},
   "outputs": [
    {
     "name": "stdout",
     "output_type": "stream",
     "text": [
      "Building Olivia Model\n",
      "     Finding strongly connected components (SCCs)...\n",
      "     Building condensation network...\n",
      "     Adding structural meta-data...\n",
      "     Done\n"
     ]
    }
   ],
   "source": [
    "import networkx as nx\n",
    "net = OliviaNetwork()\n",
    "net.build_model(nx.path_graph(5, create_using=nx.DiGraph))"
   ]
  },
  {
   "cell_type": "code",
   "execution_count": 125,
   "metadata": {},
   "outputs": [
    {
     "name": "stdout",
     "output_type": "stream",
     "text": [
      "Reach retrieved from metrics cache\n"
     ]
    },
    {
     "data": {
      "text/plain": [
       "[(0, 5), (1, 4), (2, 3), (3, 2), (4, 1)]"
      ]
     },
     "execution_count": 125,
     "metadata": {},
     "output_type": "execute_result"
    }
   ],
   "source": [
    "net.get_metric(Reach).top(5)"
   ]
  },
  {
   "cell_type": "markdown",
   "metadata": {},
   "source": [
    "'network' property is a reference to a NetworkX (https://networkx.org/) DiGraph object representing the dependency structure:"
   ]
  },
  {
   "cell_type": "markdown",
   "metadata": {},
   "source": [
    "Once built, models may be saved with *OliviaNetwork.save(filename)* method. Files are GZIP compressed and also store the cached metrics."
   ]
  },
  {
   "cell_type": "code",
   "execution_count": null,
   "metadata": {},
   "outputs": [],
   "source": []
  }
 ],
 "metadata": {
  "kernelspec": {
   "display_name": "base",
   "language": "python",
   "name": "python3"
  },
  "language_info": {
   "codemirror_mode": {
    "name": "ipython",
    "version": 3
   },
   "file_extension": ".py",
   "mimetype": "text/x-python",
   "name": "python",
   "nbconvert_exporter": "python",
   "pygments_lexer": "ipython3",
   "version": "3.9.12"
  },
  "vscode": {
   "interpreter": {
    "hash": "d6d9862177019793610c3be0b10b2e822f484f7b224662fb96d9cd55d35ffa98"
   }
  }
 },
 "nbformat": 4,
 "nbformat_minor": 4
}
