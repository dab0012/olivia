{
  "cells": [
    {
      "cell_type": "markdown",
      "metadata": {
        "id": "view-in-github",
        "colab_type": "text"
      },
      "source": [
        "<a href=\"https://colab.research.google.com/github/dab0012/olivia/blob/master/Olivia.ipynb\" target=\"_parent\"><img src=\"https://colab.research.google.com/assets/colab-badge.svg\" alt=\"Open In Colab\"/></a>"
      ]
    },
    {
      "cell_type": "markdown",
      "metadata": {
        "id": "tj6lgbhmsaLH"
      },
      "source": [
        "# OLIVIA\n",
        "**Open-source Library Indexes Vulnerability Identification and Analysis**\n",
        "\n",
        "The use of centralized library repositories to reduce development times and costs is universal, in virtually all languages and types of software projects. Due to the transitivity of dependencies, the appearance of a single defect in the repository can have extensive and difficult-to-predict effects on the ecosystem. These defects cause functional errors or performance or security problems. The risk is difficult to grasp for developers, who only explicitly import a small part of the dependencies.\n",
        "\n",
        "OLVIA uses an approach based on the vulnerability of the dependency network of software packages, which measures how sensitive the repository is to the random introduction of defects. The goals of the model are  to contribute to the understanding of propagation mechanisms of software defects and to study feasible protection strategies. This can benefit multiple parties:\n",
        "\n",
        "* **Centralised package managers**, to establish policies and manual or automatic control processes that improve the security and stability of the repositories.\n",
        "* **Software developers** in general, to assess the different risks introduced by the dependencies used in their projects, and **package developers** in particular to understand their responsibility on the ecosystem.\n",
        "* Developers of **continuous quality tools**, to define the concept of vulnerability based on the modeling of the network of package dependencies.\n",
        "---\n",
        "\n",
        "**Author**: Daniel Setó Rey\n",
        "\n",
        "https://github.com/dsr0018/olivia\n",
        "\n",
        "**License**: Olivia and this notebook are published under a MIT [license](https://github.com/dsr0018/olivia/blob/master/LICENSE). The information of dependencies has been obtained from the libraries.io [data snapshots](https://libraries.io/data) (by Tidelift).\n",
        "\n",
        "---\n",
        "\n",
        "*This notebook is part of a user guide series that cover in detail the operation of the library.*\n",
        "*This time we treat the basic operations of loading/creating models and dealing with package properties and metrics.*\n",
        "\n"
      ]
    },
    {
      "cell_type": "markdown",
      "source": [
        "## Setup runtime environment"
      ],
      "metadata": {
        "id": "sddnhBSus7WX"
      }
    },
    {
      "cell_type": "code",
      "source": [
        "from google.colab import drive\n",
        "\n",
        "# Mount Gdrive\n",
        "drive.mount(\"/content/gdrive\")\n",
        "\n",
        "# Prepare test folders\n",
        "!mkdir \"/content/gdrive/My Drive/test_olivia\"\n",
        "%cd \"/content/gdrive/My Drive/test_olivia\"\n",
        "\n",
        "# Download source code from github\n",
        "!git clone https://github.com/dab0012/olivia\n",
        "%cd olivia\n",
        "\n",
        "# Install requeriments\n",
        "! pip install -r requirements.txt"
      ],
      "metadata": {
        "colab": {
          "base_uri": "https://localhost:8080/"
        },
        "id": "0A0UuI_Ntyiw",
        "outputId": "27cdf130-5a1c-473e-d680-2b9d04298b9b"
      },
      "execution_count": 1,
      "outputs": [
        {
          "output_type": "stream",
          "name": "stdout",
          "text": [
            "Drive already mounted at /content/gdrive; to attempt to forcibly remount, call drive.mount(\"/content/gdrive\", force_remount=True).\n",
            "mkdir: cannot create directory ‘/content/gdrive/My’: Operation not supported\n",
            "mkdir: cannot create directory ‘Drive/test_olivia’: No such file or directory\n",
            "[Errno 2] No such file or directory: '/content/gdrive/My Drive/test_olivia'\n",
            "/content\n",
            "fatal: destination path 'olivia' already exists and is not an empty directory.\n",
            "/content/olivia\n",
            "Looking in indexes: https://pypi.org/simple, https://us-python.pkg.dev/colab-wheels/public/simple/\n",
            "Requirement already satisfied: intbitset==2.4.0 in /usr/local/lib/python3.7/dist-packages (from -r requirements.txt (line 1)) (2.4.0)\n",
            "Requirement already satisfied: numpy in /usr/local/lib/python3.7/dist-packages (from -r requirements.txt (line 2)) (1.21.6)\n",
            "Requirement already satisfied: networkx==2.4 in /usr/local/lib/python3.7/dist-packages (from -r requirements.txt (line 3)) (2.4)\n",
            "Requirement already satisfied: six in /usr/local/lib/python3.7/dist-packages (from intbitset==2.4.0->-r requirements.txt (line 1)) (1.15.0)\n",
            "Requirement already satisfied: decorator>=4.3.0 in /usr/local/lib/python3.7/dist-packages (from networkx==2.4->-r requirements.txt (line 3)) (4.4.2)\n"
          ]
        }
      ]
    },
    {
      "cell_type": "markdown",
      "metadata": {
        "id": "FfWtWnIksaLM"
      },
      "source": [
        "\n",
        "## A - Basic model usage\n",
        "\n",
        "[01 - Load model](#01---Load-model)&ensp;|&ensp;[02 - Package properties](#02---Package-properties)&ensp;|&ensp;[03 - Package metrics](#03---Package-metrics)&ensp;|&ensp;[04 - Custom models](#04---Custom-models) \n",
        "\n",
        "*OliviaNetwork* is essentially a directed graph with some additional structures to facilitate working with metrics in large dependency networks. The model can be built from a NetworkX directed network or from a file in adjacency list format."
      ]
    },
    {
      "cell_type": "markdown",
      "metadata": {
        "id": "3JtG9H0DsaLR"
      },
      "source": [
        "### 01 - Load model\n",
        "\n",
        "Load a pre-built model from file. This one is based in a snapshot of the Python Package Index (https://pypi.org/) from 2020-01 (data from https://libraries.io/):"
      ]
    },
    {
      "cell_type": "code",
      "execution_count": 2,
      "metadata": {
        "id": "_15HTAGYsaLP"
      },
      "outputs": [],
      "source": [
        "from olivia.model import OliviaNetwork"
      ]
    },
    {
      "cell_type": "code",
      "execution_count": 3,
      "metadata": {
        "id": "8LPnu9BysaLT"
      },
      "outputs": [],
      "source": [
        "pypi = OliviaNetwork(r'data/pypi-2020-01-12.olv')"
      ]
    },
    {
      "cell_type": "markdown",
      "metadata": {
        "id": "oCAVuMN5saLU"
      },
      "source": [
        "As expected, *len()* returns the number of the packages in the network:"
      ]
    },
    {
      "cell_type": "code",
      "execution_count": 4,
      "metadata": {
        "colab": {
          "base_uri": "https://localhost:8080/"
        },
        "id": "hIklTYj6saLV",
        "outputId": "ab51cbb1-403e-4a0a-efd1-e1e5786c05bc"
      },
      "outputs": [
        {
          "output_type": "execute_result",
          "data": {
            "text/plain": [
              "50766"
            ]
          },
          "metadata": {},
          "execution_count": 4
        }
      ],
      "source": [
        "len(pypi)"
      ]
    },
    {
      "cell_type": "markdown",
      "metadata": {
        "id": "9_VnNJPcsaLX"
      },
      "source": [
        "You may iterate over package names:"
      ]
    },
    {
      "cell_type": "code",
      "execution_count": 5,
      "metadata": {
        "colab": {
          "base_uri": "https://localhost:8080/"
        },
        "id": "0IQsa4PJsaLY",
        "outputId": "b20aa24a-2e52-4895-ca4b-8c2febe7fc5b"
      },
      "outputs": [
        {
          "output_type": "stream",
          "name": "stdout",
          "text": [
            "zaim\n",
            "zaifer\n",
            "zaius-export\n",
            "zaidan\n"
          ]
        }
      ],
      "source": [
        "# Packages in PyPI starting with 'zai'\n",
        "for package in pypi:\n",
        "    if package[0:3]=='zai':\n",
        "        print(package)"
      ]
    },
    {
      "cell_type": "markdown",
      "metadata": {
        "id": "u3kYILTcsaLc"
      },
      "source": [
        "### 02 - Package properties"
      ]
    },
    {
      "cell_type": "markdown",
      "metadata": {
        "id": "82o09SCGsaLd"
      },
      "source": [
        "Access via *getitem* returns a special view object:"
      ]
    },
    {
      "cell_type": "code",
      "execution_count": 6,
      "metadata": {
        "colab": {
          "base_uri": "https://localhost:8080/"
        },
        "id": "ob1YGHsasaLe",
        "outputId": "a433c85a-39be-4ff3-e4a0-9b01a969469c"
      },
      "outputs": [
        {
          "output_type": "execute_result",
          "data": {
            "text/plain": [
              "<olivia.model.PackageInfoView at 0x7f2c41b2efd0>"
            ]
          },
          "metadata": {},
          "execution_count": 6
        }
      ],
      "source": [
        "pypi['networkx']"
      ]
    },
    {
      "cell_type": "markdown",
      "metadata": {
        "id": "rb65iGC2saLf"
      },
      "source": [
        "*PackageInfoView* contains methods returning stats for specific packages. For example, direct dependants are other packages that import networkx in their code:"
      ]
    },
    {
      "cell_type": "code",
      "execution_count": 7,
      "metadata": {
        "colab": {
          "base_uri": "https://localhost:8080/"
        },
        "id": "JRtAMr07saLg",
        "outputId": "b6e0b579-4d8b-4136-a019-ba49da78a8f3"
      },
      "outputs": [
        {
          "output_type": "stream",
          "name": "stdout",
          "text": [
            "NetworkX has 372 direct dependants\n"
          ]
        }
      ],
      "source": [
        "print(f\"NetworkX has {len(pypi['networkx'].direct_dependants())} direct dependants\")  "
      ]
    },
    {
      "cell_type": "markdown",
      "metadata": {
        "id": "YJcbDU6xsaLh"
      },
      "source": [
        "Packages may depend on NetworkX not only directly, but also via transitive dependencies:"
      ]
    },
    {
      "cell_type": "markdown",
      "metadata": {
        "id": "OOtCrjuGsaLi"
      },
      "source": [
        "![Dependants and transitive dependants](docs/img/dependants.png \"Transitive dependencies\")  \n",
        "<br>"
      ]
    },
    {
      "cell_type": "code",
      "execution_count": 8,
      "metadata": {
        "colab": {
          "base_uri": "https://localhost:8080/"
        },
        "id": "oirEzrK-saLj",
        "outputId": "460c9f24-ffeb-45bd-ec2c-8295473f8ce1"
      },
      "outputs": [
        {
          "output_type": "stream",
          "name": "stdout",
          "text": [
            "NetworkX has 589 transitive dependants (includes direct dependants)\n"
          ]
        }
      ],
      "source": [
        "print(f\"NetworkX has {len(pypi['networkx'].transitive_dependants())} transitive dependants (includes direct dependants)\")"
      ]
    },
    {
      "cell_type": "markdown",
      "metadata": {
        "id": "xgKIUCwfsaLk"
      },
      "source": [
        "Packages are returned as sets so we may apply the usual set operators. For example, these packages depend on NetworkX but do not explicitly import it:"
      ]
    },
    {
      "cell_type": "code",
      "execution_count": 9,
      "metadata": {
        "scrolled": true,
        "colab": {
          "base_uri": "https://localhost:8080/"
        },
        "id": "YbCpKSR5saLl",
        "outputId": "0925bfbc-2b37-4d47-dca3-b9e0bf0fbb61"
      },
      "outputs": [
        {
          "output_type": "stream",
          "name": "stdout",
          "text": [
            "{'girder-large-image', 'sos-pbs', 'score.webassets', 'janis-pipelines.unix', 'sos-papermill', 'score.http', 'biobb-structure-utils', 'penaltymodel-maxgap', 'followthemoney-enrich', 'histomicsui', 'janis-pipelines.pipelines', 'score.js', 'penaltymodel-cache', 'container-service-extension', 'nodepool', 'jupyter_marvinjs', 'emmaa', 'termlink', 'nslsii', 'IndicoIo', 'dhlab', 'dvc-cc', 'brainio', 'fluidasserts', 'impulse', 'cinderlib', 'DeepSR', 'biobb-io', 'rasl', 'tomaster', 'multicolorfits', 'mosaik.SimConfig', 'nova-powervm', 'Orange-Spectroscopy', 'ndexncipidloader', 'xd-cwl-utils', 'tensorfont', 'niflow-nipype1-workflows', 'ndexgenehancerloader', 'score.auth', 'biosteam', 'mosaik.Demo-semver', 'dumpshmamp-sha1n', 'dumpshmamp', 'austen', 'bespin-cli', 'axibot', 'medImgProc', 'django-phenotype-ontologies', 'sevenbridges-cwl-draft2-upgrader', 'ironic-python-agent-builder', 'score.session', 'fastr', 'aperturesynth', 'followthemoney-util', 'dival', 'networking-powervm', 'score.tpl', 'odessa-etape', 'ibl-pipeline', 'cadbiom-gui', 'ndexbiogridloader', 'galaxy-lib', 'nova', 'prov-db-connector', 'clickpoints', 'toytree', 'glance', 'janis-pipelines.bioinformatics', 'duckietown-shell', 'irdap', 'nnabla', 'csirtg-smrt', 'kismet', 'girder-large-image-annotation', 'magnum', 'biobb-pmx', 'stardist', 'dwave-ocean-sdk', 'vertices', 'Orange3-Text', 'dbt-sqlserver', 'scriptcwl', 'envdump-sha1n', 'karbor', 'toyplot', 'vespasian', 'janis-pipelines.runner', 'score.jinja2', 'trove', 'pybel-cx', 'torsiondrive', 'sahara-image-elements', 'agora-cli', 'mvp-module-library', 'bio2bel-hgnc', 'onegov.winterthur', 'score.jslib', 'degas', 'eelbrain', 'netQuil', 'motionSegmentation', 'girder-tech-journal', 'girder-slicer-cli-web', 'dbt-bigquery', 'biobb-analysis', 'qpsphere', 'ceilometer-powervm', 'pyannote.db.etape', 'apeer-ometiff-library', 'followthemoney-integrate', 'mosaik.scenario-tools', 'apstools', 'card-trick', 'imply', 'score.projects', 'ephysiopy', 'pyvcloud', 'badlands-companion', 'malwareconfig', 'csirtgsdk', 'dbt-spark', 'balkhash', 'large-image-tasks', 'bio2bel-entrez', 'iglovikov-helper-functions', 'octavia', 'compath-utils', 'cifsdk_zyre', 'score.ctx', 'sos-python', 'masakari', 'duckietown-challenges-runner', 'csirtg_smrt', 'fbt', 'sdcflows', 'mzml2isa', 'xenonpy', 'mgzdb', 'pydens', 'cifsdk', 'score.sa.db', 'starfish', 'pulsar-app', 'angrop', 'score.serve', 'score.sa.orm', 'smriprep', 'score.jsapi', 'face-engine', 'score.perf', 'dagster-dbt', 'pyannote.database', 'import-linter', 'ue4-ci-helpers', 'htrc', 'cwltool', 'sos-notebook', 'tridentx', 'toai', 'dbt-snowflake', 'mosaik.ScenarioTools', 'lime', 'LiSE', 'angr-management', 'UQpy', 'cwl-airflow-tester', 'biobakery-workflows', 'nnabla_ext-cuda', 'pytranskit', 'bio-pyvol', 'mriqc', 'biobb-chemistry', 'pubrunner', 'wc-utils', 'sceptre-aws-resolver', 'pyprocar', 'ctr', 'mir-flare', 'score.ws', 'fm-track', 'proMAD', 'LbScriptsLegacy', 'truegaze', 'cinder', 'cadbiom-cmd', 'refcliq', 'yadage', 'janis-pipelines.templates', 'sceptre-s3-packager', 'differential-evolution', 'planemo', 'wbuild', 'ginsim', 'pyxrf', 'dsc', 'bohra', 'cwlab', 'pyannote.generators', 'pytype', 'calrissian', 'ndexstringloader', 'image-quality', 'omesa', 'bourbaki.application', 'dbt-mssql', 'score.cli', 'reana-client', 'scan-to-paperless', 'lifelib', 'nobrainer', 'biobb-common', 'colorific', 'agora-graphql', 'GPlayCli', 'vcd-cli', 'ConsumerCheck'}\n"
          ]
        }
      ],
      "source": [
        "print(pypi['networkx'].transitive_dependants() - pypi['networkx'].direct_dependants())"
      ]
    },
    {
      "cell_type": "markdown",
      "metadata": {
        "id": "l8cgafRusaLm"
      },
      "source": [
        "Lets pick one of them and check its dependencies, the packages on which it depends:"
      ]
    },
    {
      "cell_type": "code",
      "execution_count": 10,
      "metadata": {
        "colab": {
          "base_uri": "https://localhost:8080/"
        },
        "id": "l_HPUEEVsaLm",
        "outputId": "9c0050b8-66e2-48b0-ae85-f137e87d156c"
      },
      "outputs": [
        {
          "output_type": "execute_result",
          "data": {
            "text/plain": [
              "{'click', 'nibabel', 'numpy', 'scikit-image', 'tensorflow-probability'}"
            ]
          },
          "metadata": {},
          "execution_count": 10
        }
      ],
      "source": [
        "pypi['nobrainer'].direct_dependencies()"
      ]
    },
    {
      "cell_type": "markdown",
      "metadata": {
        "id": "YAiyd5PKsaLm"
      },
      "source": [
        "NetworkX is not a direct dependency but a transitive one:"
      ]
    },
    {
      "cell_type": "code",
      "execution_count": 11,
      "metadata": {
        "colab": {
          "base_uri": "https://localhost:8080/"
        },
        "id": "JdOUh46usaLn",
        "outputId": "6166a393-1980-444c-9916-728f177d9ca3"
      },
      "outputs": [
        {
          "output_type": "execute_result",
          "data": {
            "text/plain": [
              "{'PyWavelets',\n",
              " 'bz2file',\n",
              " 'click',\n",
              " 'cloudpickle',\n",
              " 'decorator',\n",
              " 'gast',\n",
              " 'matplotlib',\n",
              " 'networkx',\n",
              " 'nibabel',\n",
              " 'numpy',\n",
              " 'pillow',\n",
              " 'scikit-image',\n",
              " 'scipy',\n",
              " 'six',\n",
              " 'tensorflow-probability'}"
            ]
          },
          "metadata": {},
          "execution_count": 11
        }
      ],
      "source": [
        "pypi['nobrainer'].transitive_dependencies()"
      ]
    },
    {
      "cell_type": "markdown",
      "metadata": {
        "id": "1ljA5grqsaLo"
      },
      "source": [
        "### 03 - Package metrics"
      ]
    },
    {
      "cell_type": "markdown",
      "metadata": {
        "id": "6c4f_CDWsaLo"
      },
      "source": [
        "**REACH** of a package *u* is the number of transitive dependents of *u* plus 1."
      ]
    },
    {
      "cell_type": "code",
      "execution_count": 12,
      "metadata": {
        "colab": {
          "base_uri": "https://localhost:8080/"
        },
        "id": "gXPWHo0fsaLp",
        "outputId": "41c45a39-78a7-40f4-cee0-001bde7e8c2f"
      },
      "outputs": [
        {
          "output_type": "execute_result",
          "data": {
            "text/plain": [
              "590"
            ]
          },
          "metadata": {},
          "execution_count": 12
        }
      ],
      "source": [
        "pypi['networkx'].reach()"
      ]
    },
    {
      "cell_type": "markdown",
      "metadata": {
        "id": "LnI_agm8saLq"
      },
      "source": [
        "REACH represents the number of packages in the network that could be affected by the occurrence of a defect in *u*, like a bug or a security vulnerability. A bug in networkx could affect 590 packages, including NetworkX.\n",
        "\n",
        "You may calculate REACH package by package, as in the previous example. However, this involves many redundant computations and is very slow. OLIVIA provides efficient methods to calculate REACH for all the nodes in the network."
      ]
    },
    {
      "cell_type": "code",
      "execution_count": 13,
      "metadata": {
        "colab": {
          "base_uri": "https://localhost:8080/"
        },
        "id": "mInDd1eksaLr",
        "outputId": "14070b56-2396-4830-b028-783a1cd47099"
      },
      "outputs": [
        {
          "output_type": "stream",
          "name": "stdout",
          "text": [
            "Computing Reach\n",
            "\n"
          ]
        }
      ],
      "source": [
        "from olivia.packagemetrics import Reach\n",
        "pypi_reach = pypi.get_metric(Reach)"
      ]
    },
    {
      "cell_type": "markdown",
      "metadata": {
        "id": "4C24jiSGsaLr"
      },
      "source": [
        "*OliviaModel.get_metric(...)* returns a *MetricStats* object with the results of the computation. *get_metric(...)* accepts as parameter classes implementing the *compute()* method, such as the ones in *olivia.packagemetrics*"
      ]
    },
    {
      "cell_type": "code",
      "execution_count": 14,
      "metadata": {
        "colab": {
          "base_uri": "https://localhost:8080/"
        },
        "id": "BJfb92CNsaLs",
        "outputId": "90b3b353-397b-4131-a681-071b6eab98fc"
      },
      "outputs": [
        {
          "output_type": "execute_result",
          "data": {
            "text/plain": [
              "<olivia.packagemetrics.MetricStats at 0x7f2c40452a90>"
            ]
          },
          "metadata": {},
          "execution_count": 14
        }
      ],
      "source": [
        "pypi_reach"
      ]
    },
    {
      "cell_type": "code",
      "execution_count": 15,
      "metadata": {
        "colab": {
          "base_uri": "https://localhost:8080/"
        },
        "id": "lonTGmk7saLt",
        "outputId": "fd9032eb-89cf-45bb-e48c-a7ebf6ed5f8f"
      },
      "outputs": [
        {
          "output_type": "execute_result",
          "data": {
            "text/plain": [
              "590"
            ]
          },
          "metadata": {},
          "execution_count": 15
        }
      ],
      "source": [
        "pypi_reach['networkx']"
      ]
    },
    {
      "cell_type": "markdown",
      "metadata": {
        "id": "1SIBAw0vsaLt"
      },
      "source": [
        "Once calculated through *get_metric*, the *MetricStats* object is cached into the *OliviaNetwork* model. In this way, other complex algorithms that use large metric results are freed from managing each one on their own. \n",
        "\n",
        "So there is really no need to store the results into an independent variable like we did."
      ]
    },
    {
      "cell_type": "code",
      "execution_count": 16,
      "metadata": {
        "colab": {
          "base_uri": "https://localhost:8080/"
        },
        "id": "FzuaCe6fsaLu",
        "outputId": "9de50b9d-1c01-4836-a5bc-4ad21984d55d"
      },
      "outputs": [
        {
          "output_type": "stream",
          "name": "stdout",
          "text": [
            "Reach retrieved from metrics cache\n"
          ]
        }
      ],
      "source": [
        "pypi_reach = pypi.get_metric(Reach)"
      ]
    },
    {
      "cell_type": "code",
      "execution_count": 17,
      "metadata": {
        "colab": {
          "base_uri": "https://localhost:8080/"
        },
        "id": "wHyDhlQysaLv",
        "outputId": "177751b6-4c62-4f69-b8ae-ef810668cc5f"
      },
      "outputs": [
        {
          "output_type": "stream",
          "name": "stdout",
          "text": [
            "Reach retrieved from metrics cache\n"
          ]
        },
        {
          "output_type": "execute_result",
          "data": {
            "text/plain": [
              "590"
            ]
          },
          "metadata": {},
          "execution_count": 17
        }
      ],
      "source": [
        "pypi.get_metric(Reach)['networkx']"
      ]
    },
    {
      "cell_type": "markdown",
      "metadata": {
        "id": "JscJ6WwUsaLw"
      },
      "source": [
        "The management of the cache is semi-automatic. You can request a value from a network-wide metric that has not yet been calculated and it will be computed and cached the first time:"
      ]
    },
    {
      "cell_type": "code",
      "execution_count": 18,
      "metadata": {
        "colab": {
          "base_uri": "https://localhost:8080/"
        },
        "id": "JeD79q0XsaLw",
        "outputId": "f7f8de40-786e-4923-f549-1d4f8b294034"
      },
      "outputs": [
        {
          "output_type": "stream",
          "name": "stdout",
          "text": [
            "Computing Impact\n",
            "\n",
            "CPU times: user 1.82 s, sys: 119 ms, total: 1.94 s\n",
            "Wall time: 2.02 s\n"
          ]
        },
        {
          "output_type": "execute_result",
          "data": {
            "text/plain": [
              "680"
            ]
          },
          "metadata": {},
          "execution_count": 18
        }
      ],
      "source": [
        "from olivia.packagemetrics import Impact\n",
        "\n",
        "%time pypi.get_metric(Impact)['networkx']"
      ]
    },
    {
      "cell_type": "code",
      "execution_count": 19,
      "metadata": {
        "colab": {
          "base_uri": "https://localhost:8080/"
        },
        "id": "hx0sbo77saLx",
        "outputId": "ac099f8e-ebc3-4965-dd0f-c292e021de28"
      },
      "outputs": [
        {
          "output_type": "stream",
          "name": "stdout",
          "text": [
            "Impact retrieved from metrics cache\n",
            "CPU times: user 85 µs, sys: 10 µs, total: 95 µs\n",
            "Wall time: 99.9 µs\n"
          ]
        },
        {
          "output_type": "execute_result",
          "data": {
            "text/plain": [
              "680"
            ]
          },
          "metadata": {},
          "execution_count": 19
        }
      ],
      "source": [
        "%time pypi.get_metric(Impact)['networkx']"
      ]
    },
    {
      "cell_type": "code",
      "execution_count": 20,
      "metadata": {
        "colab": {
          "base_uri": "https://localhost:8080/"
        },
        "id": "ZUA9bl4msaLy",
        "outputId": "ae16829d-5d69-4c0e-e1ff-b6c50ca4bb84"
      },
      "outputs": [
        {
          "output_type": "stream",
          "name": "stdout",
          "text": [
            "Impact retrieved from metrics cache\n"
          ]
        },
        {
          "output_type": "execute_result",
          "data": {
            "text/plain": [
              "8104"
            ]
          },
          "metadata": {},
          "execution_count": 20
        }
      ],
      "source": [
        "pypi.get_metric(Impact)['numpy']"
      ]
    },
    {
      "cell_type": "code",
      "execution_count": 21,
      "metadata": {
        "colab": {
          "base_uri": "https://localhost:8080/"
        },
        "id": "70entG8AsaLy",
        "outputId": "ace7520a-8b9a-4238-dbbc-c750e6df593a"
      },
      "outputs": [
        {
          "output_type": "stream",
          "name": "stdout",
          "text": [
            "Impact retrieved from metrics cache\n"
          ]
        },
        {
          "output_type": "execute_result",
          "data": {
            "text/plain": [
              "831"
            ]
          },
          "metadata": {},
          "execution_count": 21
        }
      ],
      "source": [
        "pypi.get_metric(Impact)['matplotlib']"
      ]
    },
    {
      "cell_type": "markdown",
      "metadata": {
        "id": "5fA5uUIDsaLz"
      },
      "source": [
        "By the way, **IMPACT** is an alternative way of measuring the effect of a defect appearing in the network. It corresponds to the number of \"links\" affected (the number of \"imports\" in Python terms), it could be a better measure of the effort required to recover the network. Technically speaking it is the number of arcs in the graph induced by a node and its transitive dependents.\n",
        "\n",
        "On the other hand, **SURFACE** is the size of the set of transitive dependencies plus 1. SURFACE(*u*) is the number of packages whose defects could affect *u*. High SURFACE packages are more vulnerable to random failures."
      ]
    },
    {
      "cell_type": "code",
      "execution_count": 22,
      "metadata": {
        "colab": {
          "base_uri": "https://localhost:8080/"
        },
        "id": "jD3Pv0igsaLz",
        "outputId": "67e63dad-394f-4d4f-d593-f7972dd56eb7"
      },
      "outputs": [
        {
          "output_type": "stream",
          "name": "stdout",
          "text": [
            "Computing Surface\n",
            "\n"
          ]
        },
        {
          "output_type": "execute_result",
          "data": {
            "text/plain": [
              "5"
            ]
          },
          "metadata": {},
          "execution_count": 22
        }
      ],
      "source": [
        "from olivia.packagemetrics import Surface\n",
        "\n",
        "pypi.get_metric(Surface)['pandas']"
      ]
    },
    {
      "cell_type": "markdown",
      "metadata": {
        "id": "O0fhazDLsaL0"
      },
      "source": [
        "![Package metrics](docs/img/pmetrics.png \"Olivia package metrics\")\n",
        "<br>"
      ]
    },
    {
      "cell_type": "markdown",
      "metadata": {
        "id": "cI58EYUZsaL0"
      },
      "source": [
        "*MetricStats* is not just about storing values. It also has some basic methods that are useful for working with metrics. For example, you can get top and bottom packages according to the metric value:"
      ]
    },
    {
      "cell_type": "code",
      "execution_count": 23,
      "metadata": {
        "colab": {
          "base_uri": "https://localhost:8080/"
        },
        "id": "txWuDMMNsaL1",
        "outputId": "dce2439d-72a9-4aba-e845-983108412d91"
      },
      "outputs": [
        {
          "output_type": "execute_result",
          "data": {
            "text/plain": [
              "[('six', 22315),\n",
              " ('idna', 17223),\n",
              " ('certifi', 16760),\n",
              " ('urllib3', 16438),\n",
              " ('chardet', 16384),\n",
              " ('chardet2', 15732),\n",
              " ('requests', 15731),\n",
              " ('attrs', 14606),\n",
              " ('pyparsing', 13873),\n",
              " ('appdirs', 13828)]"
            ]
          },
          "metadata": {},
          "execution_count": 23
        }
      ],
      "source": [
        "pypi_reach.top(10)"
      ]
    },
    {
      "cell_type": "code",
      "execution_count": 24,
      "metadata": {
        "colab": {
          "base_uri": "https://localhost:8080/"
        },
        "id": "_urMnUqcsaL1",
        "outputId": "0a0ccb71-3ef4-41ab-e57b-a4acd237d56b"
      },
      "outputs": [
        {
          "output_type": "execute_result",
          "data": {
            "text/plain": [
              "[('1pass', 1)]"
            ]
          },
          "metadata": {},
          "execution_count": 24
        }
      ],
      "source": [
        "pypi_reach.bottom()"
      ]
    },
    {
      "cell_type": "code",
      "execution_count": 25,
      "metadata": {
        "colab": {
          "base_uri": "https://localhost:8080/"
        },
        "id": "lmz9An3NsaL2",
        "outputId": "86dd3ad1-6f9b-4357-98b4-a99b2ae530ea"
      },
      "outputs": [
        {
          "output_type": "stream",
          "name": "stdout",
          "text": [
            "Surface retrieved from metrics cache\n"
          ]
        },
        {
          "output_type": "execute_result",
          "data": {
            "text/plain": [
              "[('sos-papermill', 248),\n",
              " ('dsc', 248),\n",
              " ('dvc-cc', 235),\n",
              " ('paasta-tools', 227),\n",
              " ('sos-python', 226),\n",
              " ('networking-baremetal', 225),\n",
              " ('sos-notebook', 225),\n",
              " ('molecule-azure', 223),\n",
              " ('magnum', 223),\n",
              " ('karbor', 222)]"
            ]
          },
          "metadata": {},
          "execution_count": 25
        }
      ],
      "source": [
        "pypi.get_metric(Surface).top(10)"
      ]
    },
    {
      "cell_type": "markdown",
      "metadata": {
        "id": "2yQDlNY-saL2"
      },
      "source": [
        "As *MetricStats* implements arithmetic operators, you may define compound metrics or other operations like corrections or normalization:"
      ]
    },
    {
      "cell_type": "code",
      "execution_count": 26,
      "metadata": {
        "colab": {
          "base_uri": "https://localhost:8080/"
        },
        "id": "ydf6fOu0saL2",
        "outputId": "419247e0-ebe6-460d-fe7f-382850f011f1"
      },
      "outputs": [
        {
          "output_type": "stream",
          "name": "stdout",
          "text": [
            "Reach retrieved from metrics cache\n"
          ]
        },
        {
          "output_type": "execute_result",
          "data": {
            "text/plain": [
              "[('six', 0.43956585116022534),\n",
              " ('idna', 0.33926249852263324),\n",
              " ('certifi', 0.3301422211716503),\n",
              " ('urllib3', 0.3237993932947248),\n",
              " ('chardet', 0.32273568924083046),\n",
              " ('chardet2', 0.3098924477012174),\n",
              " ('requests', 0.3098727494779971),\n",
              " ('attrs', 0.2877122483551984),\n",
              " ('pyparsing', 0.27327345073474374),\n",
              " ('appdirs', 0.2723870306898318)]"
            ]
          },
          "metadata": {},
          "execution_count": 26
        }
      ],
      "source": [
        "normalized_reach = pypi.get_metric(Reach)/len(pypi)\n",
        "normalized_reach.top(10)"
      ]
    },
    {
      "cell_type": "markdown",
      "metadata": {
        "id": "zwIBIpXssaL3"
      },
      "source": [
        "and there we can see that a failure in *six* could affect more than 40% of the packets in the network.\n",
        "\n",
        "Likewise, if we normalize SURFACE in relation to the size of the network, we obtain the probability that a uniformly random failure will affect each package:\n"
      ]
    },
    {
      "cell_type": "code",
      "execution_count": 27,
      "metadata": {
        "colab": {
          "base_uri": "https://localhost:8080/"
        },
        "id": "RFM-WDnssaL4",
        "outputId": "44081c51-7012-44d3-adb9-d8685dfc13cb"
      },
      "outputs": [
        {
          "output_type": "stream",
          "name": "stdout",
          "text": [
            "Surface retrieved from metrics cache\n"
          ]
        },
        {
          "output_type": "execute_result",
          "data": {
            "text/plain": [
              "[('sos-papermill', 0.004885159358625852),\n",
              " ('dsc', 0.004885159358625852),\n",
              " ('dvc-cc', 0.0046290824567624),\n",
              " ('paasta-tools', 0.0044714966710002755),\n",
              " ('sos-python', 0.00445179844778001),\n",
              " ('networking-baremetal', 0.0044321002245597445),\n",
              " ('sos-notebook', 0.0044321002245597445),\n",
              " ('molecule-azure', 0.0043927037781192136),\n",
              " ('magnum', 0.0043927037781192136),\n",
              " ('karbor', 0.004373005554898948)]"
            ]
          },
          "metadata": {},
          "execution_count": 27
        }
      ],
      "source": [
        "(pypi.get_metric(Surface)/len(pypi)).top(10)"
      ]
    },
    {
      "cell_type": "markdown",
      "metadata": {
        "id": "jUM-Zf6BsaL5"
      },
      "source": [
        "Some examples of compound metrics:"
      ]
    },
    {
      "cell_type": "code",
      "execution_count": 28,
      "metadata": {
        "colab": {
          "base_uri": "https://localhost:8080/"
        },
        "id": "CsRfPuLPsaL6",
        "outputId": "5cf0ee2d-2aa8-4eae-a63f-e32628563512"
      },
      "outputs": [
        {
          "output_type": "stream",
          "name": "stdout",
          "text": [
            "Computing Dependents Count\n",
            "DependentsCount retrieved from metrics cache\n"
          ]
        },
        {
          "output_type": "execute_result",
          "data": {
            "text/plain": [
              "[('requests', 112783115.1271673),\n",
              " ('six', 25109514.74037298),\n",
              " ('numpy', 15271991.188468162),\n",
              " ('click', 6329951.601658093),\n",
              " ('setuptools', 4468740.2382258745)]"
            ]
          },
          "metadata": {},
          "execution_count": 28
        }
      ],
      "source": [
        "from olivia.packagemetrics import DependentsCount\n",
        "\n",
        "mean_degree = pypi.get_metric(DependentsCount).values.mean()\n",
        "degree_divergence = (pypi.get_metric(DependentsCount)-mean_degree)**2\n",
        "degree_divergence.top(5)"
      ]
    },
    {
      "cell_type": "code",
      "execution_count": 29,
      "metadata": {
        "colab": {
          "base_uri": "https://localhost:8080/"
        },
        "id": "UYwAqqVhsaL7",
        "outputId": "3e2afcde-6ac2-4fab-86f6-c03d99bfe44d"
      },
      "outputs": [
        {
          "output_type": "stream",
          "name": "stdout",
          "text": [
            "Impact retrieved from metrics cache\n",
            "Reach retrieved from metrics cache\n"
          ]
        },
        {
          "output_type": "execute_result",
          "data": {
            "text/plain": [
              "[('jsii', 5.434782608695652),\n",
              " ('publication', 5.407407407407407),\n",
              " ('aws-cdk.aws-iam', 5.174418604651163),\n",
              " ('aws-cdk.region-info', 5.149425287356322),\n",
              " ('cattrs', 4.829787234042553)]"
            ]
          },
          "metadata": {},
          "execution_count": 29
        }
      ],
      "source": [
        "# Impact / Reach ratio\n",
        "(pypi.get_metric(Impact)/pypi.get_metric(Reach)).top(5)"
      ]
    },
    {
      "cell_type": "markdown",
      "metadata": {
        "id": "EwSRsCfqsaL8"
      },
      "source": [
        "### 04 - Custom models"
      ]
    },
    {
      "cell_type": "markdown",
      "metadata": {
        "id": "4ig5UQ6QsaL8"
      },
      "source": [
        "An *OliviaNetwork* model can be built from a text file with package dependencies in adjacency list format. You may provide compressed GZIP or BZ2 files."
      ]
    },
    {
      "cell_type": "code",
      "execution_count": 30,
      "metadata": {
        "colab": {
          "base_uri": "https://localhost:8080/"
        },
        "id": "tw0vhqO1saL8",
        "outputId": "ef56cea0-88e4-4a6d-f710-b9d29629576f"
      },
      "outputs": [
        {
          "output_type": "stream",
          "name": "stdout",
          "text": [
            "Reading dependencies file...\n",
            "Building Olivia Model\n",
            "     Finding strongly connected components (SCCs)...\n",
            "     Building condensation network...\n",
            "     Adding structural meta-data...\n",
            "     Done\n"
          ]
        }
      ],
      "source": [
        "net = OliviaNetwork()\n",
        "net.build_model(r'data/pypi-dependencies-net-2020-01-12.bz2')"
      ]
    },
    {
      "cell_type": "code",
      "execution_count": 31,
      "metadata": {
        "colab": {
          "base_uri": "https://localhost:8080/"
        },
        "id": "DLWuuoX8saL9",
        "outputId": "931198d3-d94c-477b-8be1-f7b5a4f4089b"
      },
      "outputs": [
        {
          "output_type": "stream",
          "name": "stdout",
          "text": [
            "Computing Reach\n",
            "\n"
          ]
        },
        {
          "output_type": "execute_result",
          "data": {
            "text/plain": [
              "[('six', 22315),\n",
              " ('idna', 17223),\n",
              " ('certifi', 16760),\n",
              " ('urllib3', 16438),\n",
              " ('chardet', 16384),\n",
              " ('chardet2', 15732),\n",
              " ('requests', 15731),\n",
              " ('attrs', 14606),\n",
              " ('pyparsing', 13873),\n",
              " ('appdirs', 13828)]"
            ]
          },
          "metadata": {},
          "execution_count": 31
        }
      ],
      "source": [
        "net.get_metric(Reach).top(10)"
      ]
    },
    {
      "cell_type": "markdown",
      "metadata": {
        "id": "4aRjAwWCsaL-"
      },
      "source": [
        " *build_model(...)* also accepts an arbitrary NetworkX directed network as input:"
      ]
    },
    {
      "cell_type": "code",
      "execution_count": 32,
      "metadata": {
        "colab": {
          "base_uri": "https://localhost:8080/"
        },
        "id": "LKrZKt7fsaL-",
        "outputId": "fc0f5192-51a6-4e6c-ec12-78a6cfef694a"
      },
      "outputs": [
        {
          "output_type": "stream",
          "name": "stdout",
          "text": [
            "Building Olivia Model\n",
            "     Finding strongly connected components (SCCs)...\n",
            "     Building condensation network...\n",
            "     Adding structural meta-data...\n",
            "     Done\n"
          ]
        }
      ],
      "source": [
        "import networkx as nx\n",
        "net = OliviaNetwork()\n",
        "net.build_model(nx.path_graph(5, create_using=nx.DiGraph))"
      ]
    },
    {
      "cell_type": "code",
      "execution_count": 33,
      "metadata": {
        "colab": {
          "base_uri": "https://localhost:8080/"
        },
        "id": "m6AMOyCDsaL_",
        "outputId": "42ef0d9f-8e78-4894-fed6-8c4bdec03da8"
      },
      "outputs": [
        {
          "output_type": "stream",
          "name": "stdout",
          "text": [
            "Computing Reach\n",
            "     Processing node: 0K      \r\n"
          ]
        },
        {
          "output_type": "execute_result",
          "data": {
            "text/plain": [
              "[(0, 5), (1, 4), (2, 3), (3, 2), (4, 1)]"
            ]
          },
          "metadata": {},
          "execution_count": 33
        }
      ],
      "source": [
        "net.get_metric(Reach).top(5)"
      ]
    },
    {
      "cell_type": "markdown",
      "metadata": {
        "id": "BmaUL8IWsaMA"
      },
      "source": [
        "'network' property is a reference to a NetworkX (https://networkx.org/) DiGraph object representing the dependency structure:"
      ]
    },
    {
      "cell_type": "markdown",
      "metadata": {
        "id": "Z9h49eTlsaMA"
      },
      "source": [
        "Once built, models may be saved with *OliviaNetwork.save(filename)* method. Files are GZIP compressed and also store the cached metrics."
      ]
    },
    {
      "cell_type": "code",
      "execution_count": 33,
      "metadata": {
        "id": "dMrm6c5osaMB"
      },
      "outputs": [],
      "source": []
    },
    {
      "cell_type": "markdown",
      "metadata": {
        "id": "vMNf9yLNVonC"
      },
      "source": [
        "\n",
        "## B - Analysis\n",
        "\n",
        "[01 - Coupling](#01---Coupling)&ensp;|&ensp;[02 - Strongly connected components](#02---Strongly-connected-components)&ensp;|&ensp;[03 - Network vulnerability](#03---Network-vulnerability)\n",
        "\n",
        "Simply saying that one package depends transitively on another does not tell the whole story. A defect in one package can affect another in different ways, depending on the structure of the network.\n",
        "\n",
        "### 01 - Coupling"
      ]
    },
    {
      "cell_type": "code",
      "execution_count": 34,
      "metadata": {
        "id": "hlM6m8ReVonD"
      },
      "outputs": [],
      "source": [
        "from olivia.model import OliviaNetwork\n",
        "\n",
        "pypi = OliviaNetwork(r'data/pypi-2020-01-12.olv')"
      ]
    },
    {
      "cell_type": "markdown",
      "metadata": {
        "id": "NH6CCPV0VonH"
      },
      "source": [
        "Let's choose a simple case study.\n",
        "\n",
        "*spaCy* (https://spacy.io/) is an open-source software library for advanced natural language processing."
      ]
    },
    {
      "cell_type": "code",
      "execution_count": 35,
      "metadata": {
        "id": "33xUi0_PVonH",
        "outputId": "a8373568-91f0-4725-e359-651bb6ccdb26",
        "colab": {
          "base_uri": "https://localhost:8080/"
        }
      },
      "outputs": [
        {
          "output_type": "execute_result",
          "data": {
            "text/plain": [
              "{'blis',\n",
              " 'cloudpickle',\n",
              " 'cymem',\n",
              " 'dill',\n",
              " 'ftfy',\n",
              " 'html5lib',\n",
              " 'msgpack-numpy',\n",
              " 'msgpack-python',\n",
              " 'murmurhash',\n",
              " 'numpy',\n",
              " 'pathlib',\n",
              " 'pip',\n",
              " 'plac',\n",
              " 'preshed',\n",
              " 'regex',\n",
              " 'requests',\n",
              " 'six',\n",
              " 'sputnik',\n",
              " 'srsly',\n",
              " 'text_unidecode',\n",
              " 'thinc',\n",
              " 'ujson',\n",
              " 'unidecode',\n",
              " 'wasabi',\n",
              " 'wget'}"
            ]
          },
          "metadata": {},
          "execution_count": 35
        }
      ],
      "source": [
        "pypi['spacy'].direct_dependencies()"
      ]
    },
    {
      "cell_type": "markdown",
      "metadata": {
        "id": "GkVE1Cm8VonI"
      },
      "source": [
        "*spaCy* employs 25 direct dependencies. These are the ones that the developers have explicitly imported, for example *requests*, a useful HTTP library. It should be clear to them that they take a risk by using *requests*. If it disappear, or include a bug or a vulnerability that their developers don't fix, the *spaCy* developers will have a problem. They would have to look for alternatives or perhaps directly implement the *requests* functionality.\n",
        "\n",
        "However, *spaCy* indirectly depends on more packages:"
      ]
    },
    {
      "cell_type": "code",
      "execution_count": 36,
      "metadata": {
        "id": "WI8C6REXVonI",
        "outputId": "69376c15-debd-497b-f4bf-ea18f804ce16",
        "colab": {
          "base_uri": "https://localhost:8080/"
        }
      },
      "outputs": [
        {
          "output_type": "execute_result",
          "data": {
            "text/plain": [
              "73"
            ]
          },
          "metadata": {},
          "execution_count": 36
        }
      ],
      "source": [
        "len(pypi['spacy'].transitive_dependencies())"
      ]
    },
    {
      "cell_type": "markdown",
      "metadata": {
        "id": "hOBVn7jGVonJ"
      },
      "source": [
        "So there are not 25 but 73 packages that can cause trouble.  This is a fact that many developers may be aware of, although it is maybe not generally considered seriously enough.\n",
        "\n",
        "There is however another more elusive phenomenon. This is the fact that a single failure in a transitive dependency can affect several direct dependencies, if the latter depend in turn on the first. So *spaCy* does not depend equally on all its transitive dependencies.\n",
        "\n",
        "**Transitive coupling** is the number of direct dependencies that would be affected by the failure of one specific transitive dependency. Observe for example the following figure, where a defect in *u* will affect 3 of the 4 direct dependencies of *v*:"
      ]
    },
    {
      "cell_type": "markdown",
      "metadata": {
        "id": "IbqmGo-KVonJ"
      },
      "source": [
        "<br>\n",
        "\n",
        "![Transitive coupling](docs/img/trancoup.png \"Transitive coupling\")  \n",
        "\n",
        "<br>"
      ]
    },
    {
      "cell_type": "code",
      "execution_count": 37,
      "metadata": {
        "id": "4Qwjw70fVonK",
        "outputId": "dbbb9825-84db-434f-f9a2-d7e594ea7178",
        "colab": {
          "base_uri": "https://localhost:8080/"
        }
      },
      "outputs": [
        {
          "output_type": "execute_result",
          "data": {
            "text/plain": [
              "4"
            ]
          },
          "metadata": {},
          "execution_count": 37
        }
      ],
      "source": [
        "from olivia.coupling import *\n",
        "\n",
        "transitive_coupling(pypi,'six','spacy')"
      ]
    },
    {
      "cell_type": "markdown",
      "metadata": {
        "id": "S_ipNWBKVonK"
      },
      "source": [
        "There it is. The failure of *six* does not only affect one direct dependency, but four. Which ones? We call this set the **coupling interface** of *six* over *spaCy*."
      ]
    },
    {
      "cell_type": "code",
      "execution_count": 38,
      "metadata": {
        "id": "OYyyYxQPVonL",
        "outputId": "53cfd919-061f-43ed-dc88-02f18391b7cb",
        "colab": {
          "base_uri": "https://localhost:8080/"
        }
      },
      "outputs": [
        {
          "output_type": "execute_result",
          "data": {
            "text/plain": [
              "{'ftfy', 'html5lib', 'six', 'thinc'}"
            ]
          },
          "metadata": {},
          "execution_count": 38
        }
      ],
      "source": [
        "coupling_interface(pypi,'six','spacy')"
      ]
    },
    {
      "cell_type": "markdown",
      "metadata": {
        "id": "zIgmd6VTVonL"
      },
      "source": [
        "So let's consider that *six* changes its MIT license for a more restrictive one. Its transitional dependents in turn are forced to upgrade and ultimately *ftfy*, *html5lib*, *thinc* also change their software licenses.  If *spaCY* cannot or do not want to comply with this new model, it has to look for alternatives for *six* and also *ftfy*, *html5lib* and *thinc*. \n",
        "\n",
        "This change of license in *six* could also have been a shift in functionality, the removal of certain certification, a bug, a security problem... Transitive coupling is a measure of the potential effort needed to fix *spaCY* if *six* fails. Note that the sum of transitive couplings of a package with all its transitive dependants equals the IMPACT metric.\n",
        "\n",
        "Finally, OLIVIA provides a method for computing all the transitive interfaces of transitive dependencies of a package over it. This is an indexed family of sets that we call **coupling profile**:\n"
      ]
    },
    {
      "cell_type": "code",
      "execution_count": 39,
      "metadata": {
        "scrolled": true,
        "id": "XxzuRUwJVonM",
        "outputId": "034845a9-0a1b-425d-f65c-27efc510339c",
        "colab": {
          "base_uri": "https://localhost:8080/"
        }
      },
      "outputs": [
        {
          "output_type": "execute_result",
          "data": {
            "text/plain": [
              "{'hypothesis': {'thinc'},\n",
              " 'thinc': {'thinc'},\n",
              " 'html5lib': {'ftfy', 'html5lib'},\n",
              " 'wrapt': {'thinc'},\n",
              " 'dill': {'dill', 'thinc'},\n",
              " 'regex': {'regex'},\n",
              " 'funcsigs': {'thinc'},\n",
              " 'appdirs': {'ftfy', 'html5lib', 'thinc'},\n",
              " 'toolz': {'thinc'},\n",
              " 'distribute': {'thinc'},\n",
              " 'filelock': {'thinc'},\n",
              " 'cloudpickle': {'cloudpickle', 'thinc'},\n",
              " 'wget': {'wget'},\n",
              " 'protobuf': {'thinc'},\n",
              " 'text_unidecode': {'text_unidecode'},\n",
              " 'xdis': {'thinc'},\n",
              " 'ujson': {'ujson'},\n",
              " 'itertoolz': {'thinc'},\n",
              " 'pyparsing': {'ftfy', 'html5lib', 'thinc'},\n",
              " 'termcolor': {'thinc'},\n",
              " 'flexmock': {'thinc'},\n",
              " 'six': {'ftfy', 'html5lib', 'six', 'thinc'},\n",
              " 'murmurhash': {'murmurhash', 'preshed', 'thinc'},\n",
              " 'thinc_gpu_ops': {'thinc'},\n",
              " 'tqdm': {'thinc'},\n",
              " 'mock': {'thinc'},\n",
              " 'urllib3': {'requests'},\n",
              " 'webencodings': {'ftfy', 'html5lib'},\n",
              " 'spark-parser': {'thinc'},\n",
              " 'certifi': {'requests'},\n",
              " 'srsly': {'srsly', 'thinc'},\n",
              " 'numpy': {'msgpack-numpy', 'numpy', 'thinc'},\n",
              " 'chardet2': {'requests'},\n",
              " 'pathlib': {'pathlib', 'thinc'},\n",
              " 'attrs': {'ftfy', 'html5lib', 'thinc'},\n",
              " 'msgpack-python': {'msgpack-numpy', 'msgpack-python', 'thinc'},\n",
              " 'typing_extensions': {'thinc'},\n",
              " 'setuptools': {'ftfy', 'html5lib', 'thinc'},\n",
              " 'scandir': {'thinc'},\n",
              " 'ftfy': {'ftfy'},\n",
              " 'sortedcontainers': {'thinc'},\n",
              " 'plac': {'plac', 'thinc'},\n",
              " 'cupy': {'thinc'},\n",
              " 'uncompyle6': {'thinc'},\n",
              " 'nose': {'thinc'},\n",
              " 'argparse': {'plac', 'thinc'},\n",
              " 'pbr': {'thinc'},\n",
              " 'wasabi': {'thinc', 'wasabi'},\n",
              " 'coverage': {'thinc'},\n",
              " 'click': {'thinc'},\n",
              " 'chainer': {'thinc'},\n",
              " 'wcwidth': {'ftfy'},\n",
              " 'sputnik': {'sputnik'},\n",
              " 'blis': {'blis', 'thinc'},\n",
              " 'functoolz': {'thinc'},\n",
              " 'unidecode': {'unidecode'},\n",
              " 'msgpack-numpy': {'msgpack-numpy', 'thinc'},\n",
              " 'msgpack': {'msgpack-numpy', 'msgpack-python', 'thinc'},\n",
              " 'cymem': {'cymem', 'preshed', 'thinc'},\n",
              " 'setuptools_git': {'thinc'},\n",
              " 'pathlib2': {'thinc'},\n",
              " 'enum34': {'thinc'},\n",
              " 'chardet': {'requests'},\n",
              " 'requests': {'requests'},\n",
              " 'preshed': {'preshed', 'thinc'},\n",
              " 'pip': {'pip', 'thinc'},\n",
              " 'idna': {'requests'},\n",
              " 'ordereddict': {'thinc'},\n",
              " 'cytoolz': {'thinc'},\n",
              " 'packaging': {'ftfy', 'html5lib', 'thinc'},\n",
              " 'typing': {'thinc'},\n",
              " 'jinja2': {'thinc'},\n",
              " 'd2to1': {'thinc'}}"
            ]
          },
          "metadata": {},
          "execution_count": 39
        }
      ],
      "source": [
        "coupling_profile(pypi,'spacy')"
      ]
    },
    {
      "cell_type": "markdown",
      "metadata": {
        "id": "m04yRtXsVonM"
      },
      "source": [
        "The frequency histogram of transitive coupling values for a package is an interesting view of the structure of dependencies:"
      ]
    },
    {
      "cell_type": "code",
      "execution_count": 42,
      "metadata": {
        "id": "vogrx9q3VonM",
        "outputId": "243df68d-ca87-4390-e5c1-3e22ca256b3a",
        "colab": {
          "base_uri": "https://localhost:8080/",
          "height": 312
        }
      },
      "outputs": [
        {
          "output_type": "execute_result",
          "data": {
            "text/plain": [
              "Text(0.5, 1.0, 'package: spacy')"
            ]
          },
          "metadata": {},
          "execution_count": 42
        },
        {
          "output_type": "display_data",
          "data": {
            "text/plain": [
              "<Figure size 432x288 with 1 Axes>"
            ],
            "image/png": "[encoded data removed]"
          },
          "metadata": {
            "needs_background": "light"
          }
        }
      ],
      "source": [
        "# Requires Matplotlib installed\n",
        "import matplotlib.pyplot as plt\n",
        "import numpy as np\n",
        "\n",
        "cp = coupling_profile(pypi,'spacy')\n",
        "ls = [len(cp[l]) for l in cp]\n",
        "bins = np.arange(0, max(ls) + 1.5) - 0.5\n",
        "plt.hist(ls,bins,color='black',histtype='stepfilled')\n",
        "plt.xlabel('Transitive coupling')\n",
        "plt.ylabel('Number of transitive dependencies')\n",
        "plt.title('package: spacy')"
      ]
    },
    {
      "cell_type": "markdown",
      "metadata": {
        "id": "sgHtWqjdVonM"
      },
      "source": [
        "You may also access coupling methods via *PackageInfoView*:"
      ]
    },
    {
      "cell_type": "code",
      "execution_count": 43,
      "metadata": {
        "id": "lZs_oGZ4VonN",
        "outputId": "2fee89cd-0594-4372-d576-3279684224f9",
        "colab": {
          "base_uri": "https://localhost:8080/"
        }
      },
      "outputs": [
        {
          "output_type": "execute_result",
          "data": {
            "text/plain": [
              "{'ftfy', 'html5lib', 'six', 'thinc'}"
            ]
          },
          "metadata": {},
          "execution_count": 43
        }
      ],
      "source": [
        "pypi['spacy'].coupling_interface_from('six')"
      ]
    },
    {
      "cell_type": "code",
      "execution_count": 44,
      "metadata": {
        "id": "6mYPjwPmVonN",
        "outputId": "4f5bfaec-cee4-46ce-b77f-4b758b886d0a",
        "colab": {
          "base_uri": "https://localhost:8080/"
        }
      },
      "outputs": [
        {
          "output_type": "execute_result",
          "data": {
            "text/plain": [
              "{'ftfy', 'html5lib', 'six', 'thinc'}"
            ]
          },
          "metadata": {},
          "execution_count": 44
        }
      ],
      "source": [
        "pypi['six'].coupling_interface_to('spacy')"
      ]
    },
    {
      "cell_type": "code",
      "execution_count": 45,
      "metadata": {
        "scrolled": true,
        "id": "pt6VPjIVVonN",
        "outputId": "dd4d1008-a3c8-4a04-ed6b-ee67067d0acd",
        "colab": {
          "base_uri": "https://localhost:8080/"
        }
      },
      "outputs": [
        {
          "output_type": "execute_result",
          "data": {
            "text/plain": [
              "{'hypothesis': {'thinc'},\n",
              " 'thinc': {'thinc'},\n",
              " 'html5lib': {'ftfy', 'html5lib'},\n",
              " 'wrapt': {'thinc'},\n",
              " 'dill': {'dill', 'thinc'},\n",
              " 'regex': {'regex'},\n",
              " 'funcsigs': {'thinc'},\n",
              " 'appdirs': {'ftfy', 'html5lib', 'thinc'},\n",
              " 'toolz': {'thinc'},\n",
              " 'distribute': {'thinc'},\n",
              " 'filelock': {'thinc'},\n",
              " 'cloudpickle': {'cloudpickle', 'thinc'},\n",
              " 'wget': {'wget'},\n",
              " 'protobuf': {'thinc'},\n",
              " 'text_unidecode': {'text_unidecode'},\n",
              " 'xdis': {'thinc'},\n",
              " 'ujson': {'ujson'},\n",
              " 'itertoolz': {'thinc'},\n",
              " 'pyparsing': {'ftfy', 'html5lib', 'thinc'},\n",
              " 'termcolor': {'thinc'},\n",
              " 'flexmock': {'thinc'},\n",
              " 'six': {'ftfy', 'html5lib', 'six', 'thinc'},\n",
              " 'murmurhash': {'murmurhash', 'preshed', 'thinc'},\n",
              " 'thinc_gpu_ops': {'thinc'},\n",
              " 'tqdm': {'thinc'},\n",
              " 'mock': {'thinc'},\n",
              " 'urllib3': {'requests'},\n",
              " 'webencodings': {'ftfy', 'html5lib'},\n",
              " 'spark-parser': {'thinc'},\n",
              " 'certifi': {'requests'},\n",
              " 'srsly': {'srsly', 'thinc'},\n",
              " 'numpy': {'msgpack-numpy', 'numpy', 'thinc'},\n",
              " 'chardet2': {'requests'},\n",
              " 'pathlib': {'pathlib', 'thinc'},\n",
              " 'attrs': {'ftfy', 'html5lib', 'thinc'},\n",
              " 'msgpack-python': {'msgpack-numpy', 'msgpack-python', 'thinc'},\n",
              " 'typing_extensions': {'thinc'},\n",
              " 'setuptools': {'ftfy', 'html5lib', 'thinc'},\n",
              " 'scandir': {'thinc'},\n",
              " 'ftfy': {'ftfy'},\n",
              " 'sortedcontainers': {'thinc'},\n",
              " 'plac': {'plac', 'thinc'},\n",
              " 'cupy': {'thinc'},\n",
              " 'uncompyle6': {'thinc'},\n",
              " 'nose': {'thinc'},\n",
              " 'argparse': {'plac', 'thinc'},\n",
              " 'pbr': {'thinc'},\n",
              " 'wasabi': {'thinc', 'wasabi'},\n",
              " 'coverage': {'thinc'},\n",
              " 'click': {'thinc'},\n",
              " 'chainer': {'thinc'},\n",
              " 'wcwidth': {'ftfy'},\n",
              " 'sputnik': {'sputnik'},\n",
              " 'blis': {'blis', 'thinc'},\n",
              " 'functoolz': {'thinc'},\n",
              " 'unidecode': {'unidecode'},\n",
              " 'msgpack-numpy': {'msgpack-numpy', 'thinc'},\n",
              " 'msgpack': {'msgpack-numpy', 'msgpack-python', 'thinc'},\n",
              " 'cymem': {'cymem', 'preshed', 'thinc'},\n",
              " 'setuptools_git': {'thinc'},\n",
              " 'pathlib2': {'thinc'},\n",
              " 'enum34': {'thinc'},\n",
              " 'chardet': {'requests'},\n",
              " 'requests': {'requests'},\n",
              " 'preshed': {'preshed', 'thinc'},\n",
              " 'pip': {'pip', 'thinc'},\n",
              " 'idna': {'requests'},\n",
              " 'ordereddict': {'thinc'},\n",
              " 'cytoolz': {'thinc'},\n",
              " 'packaging': {'ftfy', 'html5lib', 'thinc'},\n",
              " 'typing': {'thinc'},\n",
              " 'jinja2': {'thinc'},\n",
              " 'd2to1': {'thinc'}}"
            ]
          },
          "metadata": {},
          "execution_count": 45
        }
      ],
      "source": [
        "pypi['spacy'].coupling_profile()"
      ]
    },
    {
      "cell_type": "markdown",
      "metadata": {
        "id": "ovUPzt7YVonO"
      },
      "source": [
        "### 02 - Strongly connected components\n",
        "\n",
        "An strongly connected component (SCC) is a set of packages where each one depends transitively on every one else. So a defect in any package or in any dependency of any package in the SCC could affect the whole SCC.\n",
        "\n",
        "A simple cycle of dependencies creates an SCC, but there can be much more complicated ones.\n",
        "\n",
        "This is an example of a simple SCC:"
      ]
    },
    {
      "cell_type": "markdown",
      "metadata": {
        "id": "JWY1e9O9VonO"
      },
      "source": [
        "<br>\n",
        "\n",
        "![SCC](docs/img/scc.png \"Strongly connected component\")  \n",
        "\n",
        "<br>"
      ]
    },
    {
      "cell_type": "markdown",
      "metadata": {
        "id": "u4Zdo9SOVonO"
      },
      "source": [
        "As OLIVIA internally uses the precomputed structure of SCCs of the dependency network, you can iterate immediatly over SCCs: "
      ]
    },
    {
      "cell_type": "code",
      "execution_count": 46,
      "metadata": {
        "id": "wnTk1IFIVonO",
        "outputId": "a2422112-7075-4a05-834a-08a21a2b896d",
        "colab": {
          "base_uri": "https://localhost:8080/"
        }
      },
      "outputs": [
        {
          "output_type": "stream",
          "name": "stdout",
          "text": [
            "{'1pass'}\n",
            "{'simple-pbkdf2'}\n",
            "{'Alarmageddon'}\n",
            "...\n"
          ]
        }
      ],
      "source": [
        "scc_iterator = pypi.sccs()\n",
        "print(next(scc_iterator))\n",
        "print(next(scc_iterator))\n",
        "print(next(scc_iterator))\n",
        "print(\"...\")"
      ]
    },
    {
      "cell_type": "markdown",
      "metadata": {
        "id": "64ivPMgjVonO"
      },
      "source": [
        "Each package forms its own SCC. PyPI has some small SCCs of size greater than one. These are the most interesting so OLIVIA provides a way of getting a list of SCCs in size order:"
      ]
    },
    {
      "cell_type": "code",
      "execution_count": 47,
      "metadata": {
        "id": "fCmYuFwFVonP",
        "outputId": "372960be-d566-407a-8fc9-fa86640d4fb5",
        "colab": {
          "base_uri": "https://localhost:8080/"
        }
      },
      "outputs": [
        {
          "output_type": "execute_result",
          "data": {
            "text/plain": [
              "[{'aws-cdk.assets',\n",
              "  'aws-cdk.aws-lambda',\n",
              "  'aws-cdk.aws-s3',\n",
              "  'aws-cdk.aws-s3-assets',\n",
              "  'aws-cdk.aws-s3-notifications',\n",
              "  'aws-cdk.aws-sns',\n",
              "  'aws-cdk.aws-sqs'},\n",
              " {'cloudtoken',\n",
              "  'cloudtoken-plugin.json-exporter',\n",
              "  'cloudtoken-plugin.saml',\n",
              "  'cloudtoken-plugin.shell-exporter'},\n",
              " {'dash', 'dash-core-components', 'dash-html-components', 'dash-table'},\n",
              " {'SimpleSQLite', 'pytablereader', 'pytablewriter', 'sqliteschema'},\n",
              " {'classutils', 'configurationutil', 'fdutil', 'uiutil'},\n",
              " {'joker', 'joker-broker', 'joker-cast', 'joker-textmanip'},\n",
              " {'cs.debug', 'cs.queues', 'cs.result', 'cs.threads'},\n",
              " {'ogc', 'ogc-plugins-env', 'ogc-plugins-runner'},\n",
              " {'databasetools', 'dirutility', 'mysql-toolkit'},\n",
              " {'indb', 'metadb', 'metaform'}]"
            ]
          },
          "metadata": {},
          "execution_count": 47
        }
      ],
      "source": [
        "pypi.sorted_clusters()[:10]"
      ]
    },
    {
      "cell_type": "markdown",
      "metadata": {
        "id": "DiZLi_qmVonP"
      },
      "source": [
        "It is also possible to query which SCC a package belongs to, via PackageInfoView:"
      ]
    },
    {
      "cell_type": "code",
      "execution_count": 48,
      "metadata": {
        "id": "LD7SPRcjVonP",
        "outputId": "99d2f722-15a9-4dfd-ae91-bd638bef7984",
        "colab": {
          "base_uri": "https://localhost:8080/"
        }
      },
      "outputs": [
        {
          "output_type": "execute_result",
          "data": {
            "text/plain": [
              "{'indb', 'metadb', 'metaform'}"
            ]
          },
          "metadata": {},
          "execution_count": 48
        }
      ],
      "source": [
        "pypi['indb'].scc()"
      ]
    },
    {
      "cell_type": "markdown",
      "metadata": {
        "id": "rMwV2v71VonP"
      },
      "source": [
        "It turns out that some networks have much larger SCCs"
      ]
    },
    {
      "cell_type": "code",
      "execution_count": 49,
      "metadata": {
        "id": "ATVh0MQHVonP"
      },
      "outputs": [],
      "source": [
        "maven = OliviaNetwork(r'data/maven-2020-01-12.olv')"
      ]
    },
    {
      "cell_type": "markdown",
      "metadata": {
        "id": "fApI0tdyVonP"
      },
      "source": [
        "Maven Central, the package repository for Java (https://mvnrepository.com/) has a SCC of almost a thousand packages:"
      ]
    },
    {
      "cell_type": "code",
      "execution_count": 50,
      "metadata": {
        "id": "WbvtEHBRVonQ",
        "outputId": "e47dff01-132f-47a9-aadb-91ce13f2bb65",
        "colab": {
          "base_uri": "https://localhost:8080/"
        }
      },
      "outputs": [
        {
          "output_type": "execute_result",
          "data": {
            "text/plain": [
              "981"
            ]
          },
          "metadata": {},
          "execution_count": 50
        }
      ],
      "source": [
        "len(maven.sorted_clusters()[0])"
      ]
    },
    {
      "cell_type": "markdown",
      "metadata": {
        "id": "eFTug8gMVonQ"
      },
      "source": [
        "### 03 - Network vulnerability"
      ]
    },
    {
      "cell_type": "markdown",
      "metadata": {
        "id": "fVjfGY5OVonQ"
      },
      "source": [
        "The vulnerability of the dependency network of software packages measures how sensitive the repository is to the random introduction of defects.\n",
        "\n",
        "It is the average of some cost function over all the packages in the network, so it equals the expected cost of a random failure o defect, assuming a uniform failure probability.\n",
        "\n",
        "We may use REACH as one of such cost functions. In this case, the vulnerability value would represent the expected number of packages potentially affected by a random failure.\n",
        "\n",
        "The following figure shows several examples of simple networks with node values for REACH (R) and IMPACT (I) and below the corresponding REACH and IMPACT-vulnerability (preceded by the letter $\\varphi$)"
      ]
    },
    {
      "cell_type": "markdown",
      "metadata": {
        "id": "BTTRA4yPVonQ"
      },
      "source": [
        "<br>\n",
        "\n",
        "![Transitive coupling](docs/img/vulnerabilidad.png \"Transitive coupling\")  \n",
        "\n",
        "<br>"
      ]
    },
    {
      "cell_type": "code",
      "execution_count": 51,
      "metadata": {
        "id": "ddcuJgohVonQ",
        "outputId": "db79d3f8-86a1-4f59-d2db-266d10815d02",
        "colab": {
          "base_uri": "https://localhost:8080/"
        }
      },
      "outputs": [
        {
          "output_type": "stream",
          "name": "stdout",
          "text": [
            "Computing Reach\n",
            "\n"
          ]
        },
        {
          "output_type": "execute_result",
          "data": {
            "text/plain": [
              "15.730114643659142"
            ]
          },
          "metadata": {},
          "execution_count": 51
        }
      ],
      "source": [
        "from olivia.networkmetrics import *\n",
        "\n",
        "failure_vulnerability(pypi)"
      ]
    },
    {
      "cell_type": "markdown",
      "metadata": {
        "id": "n3nAqO0UVonR"
      },
      "source": [
        "*failure_vulnerability* assumes REACH as cost function. As this model does not have a REACH cached, it is computed on the fly.  The calculation uses exact cost function values for each package in the network.  usually these functions have extremely skewed distributions, so average value is hard to sample.\n",
        "\n",
        "PyPI has a REACH-vulnerability of about 16. This means that a random bug in a package could propagate in average to other 15 packages.\n",
        "\n",
        "Maven is much more vulnerable to random failures, due to the presence of a significant size SCC."
      ]
    },
    {
      "cell_type": "code",
      "execution_count": 52,
      "metadata": {
        "id": "ML2h-y7TVonR",
        "outputId": "62030d13-8c06-451a-d67d-1e2b88943c73",
        "colab": {
          "base_uri": "https://localhost:8080/"
        }
      },
      "outputs": [
        {
          "output_type": "stream",
          "name": "stdout",
          "text": [
            "Computing Reach\n",
            "\n"
          ]
        },
        {
          "output_type": "execute_result",
          "data": {
            "text/plain": [
              "1805.5391236430194"
            ]
          },
          "metadata": {},
          "execution_count": 52
        }
      ],
      "source": [
        "failure_vulnerability(maven)"
      ]
    },
    {
      "cell_type": "code",
      "execution_count": 53,
      "metadata": {
        "id": "-R_Q-4noVonS",
        "outputId": "acd5d743-4009-48ec-9ebd-aae6624fb088",
        "colab": {
          "base_uri": "https://localhost:8080/"
        }
      },
      "outputs": [
        {
          "output_type": "execute_result",
          "data": {
            "text/plain": [
              "126752"
            ]
          },
          "metadata": {},
          "execution_count": 53
        }
      ],
      "source": [
        "len(maven)"
      ]
    },
    {
      "cell_type": "markdown",
      "metadata": {
        "id": "VrJglMp0VonS"
      },
      "source": [
        "Even considering the size difference, this is much worse that PyPI. At least other network, npm (https://www.npmjs.com/), the repository of Node.js, has even bigger relative values."
      ]
    },
    {
      "cell_type": "markdown",
      "metadata": {
        "id": "GYDp7c72VonS"
      },
      "source": [
        "Other cost functions provide different perspectives on network vulnerability:"
      ]
    },
    {
      "cell_type": "code",
      "execution_count": 54,
      "metadata": {
        "id": "LMBILelLVonS",
        "outputId": "642ea8ff-1502-4425-ebcd-030ed7b5967e",
        "colab": {
          "base_uri": "https://localhost:8080/"
        }
      },
      "outputs": [
        {
          "output_type": "stream",
          "name": "stdout",
          "text": [
            "Computing Impact\n",
            "\n"
          ]
        },
        {
          "output_type": "execute_result",
          "data": {
            "text/plain": [
              "23.16392861363905"
            ]
          },
          "metadata": {},
          "execution_count": 54
        }
      ],
      "source": [
        "from olivia.packagemetrics import Impact\n",
        "\n",
        "failure_vulnerability(pypi, metric=Impact)"
      ]
    },
    {
      "cell_type": "markdown",
      "metadata": {
        "id": "ZG7DupPVVonS"
      },
      "source": [
        "A single random failure on PyPI causes a expected potential value of 23 individual dependencies to fix. As REACH-vulnerability could reflect the propagation of defects, IMPACT-vulnerability gives an idea of the average effort needed to recover the network."
      ]
    },
    {
      "cell_type": "code",
      "execution_count": 54,
      "metadata": {
        "id": "M-QW465AVonS"
      },
      "outputs": [],
      "source": []
    },
    {
      "cell_type": "markdown",
      "metadata": {
        "id": "OCCaQyDOX5_k"
      },
      "source": [
        "\n",
        "## C - Immunization\n",
        "[01 - Immunization Delta](#01---Immunization-Delta)&ensp;|&ensp;[02 - Subcritical networks](#02---Selecting-Immunization-targets---Subcritical-networks)&ensp;|&ensp;[03 - Supercritical networks](#03---Selecting-Immunization-targets---Supercritical-networks)&ensp;|&ensp;[03 - Advanced](#03---Selecting-Immunization-targets---Advanced)\n",
        "\n",
        "The vulnerability of package repositories can be lowered if we protect (immunize) certain packages against failure and propagation of failure. For example, we could subject a package or set of packages to very strict quality controls, security audits or even contractually shield certain non-functional requirements, such as the type of license. All this comes at a cost and it would be good to know which package sets are most cost-effective for reducing the vulnerability.\n",
        "\n",
        "### 01 - Immunization Delta\n",
        "Immunization Delta is the decrease in vulnerability of a network after immunizing a given set of packages. Take for example the following figure, which shows three simple network models and possible immunization sets (black nodes). Under each option the REACH and IMPACT-vulnerability and the corresponding immunization delta are shown."
      ]
    },
    {
      "cell_type": "markdown",
      "metadata": {
        "id": "ePMd-0jrX5_l"
      },
      "source": [
        "<br>\n",
        "\n",
        "![Inmunization](docs/img/inmunizacion.png \"Simple inmunization examples\")  \n",
        "\n",
        "<br>"
      ]
    },
    {
      "cell_type": "code",
      "execution_count": 55,
      "metadata": {
        "id": "KEjnAJ4ZX5_l"
      },
      "outputs": [],
      "source": [
        "from olivia.model import OliviaNetwork\n",
        "from olivia.immunization import *\n",
        "\n",
        "pypi = OliviaNetwork(r'data/pypi-2020-01-12.olv')"
      ]
    },
    {
      "cell_type": "code",
      "execution_count": 56,
      "metadata": {
        "id": "OzrJ8p1PX5_m",
        "outputId": "90c8906c-7f01-4cc5-8615-4c2ced7cb180",
        "colab": {
          "base_uri": "https://localhost:8080/"
        }
      },
      "outputs": [
        {
          "output_type": "stream",
          "name": "stdout",
          "text": [
            "Computing Reach\n",
            "\n"
          ]
        },
        {
          "output_type": "execute_result",
          "data": {
            "text/plain": [
              "15.730114643659142"
            ]
          },
          "metadata": {},
          "execution_count": 56
        }
      ],
      "source": [
        "failure_vulnerability(pypi)"
      ]
    },
    {
      "cell_type": "code",
      "execution_count": 57,
      "metadata": {
        "id": "GfPl_c85X5_m",
        "outputId": "d65d6066-a9d4-4261-9a6d-95e508d42d18",
        "colab": {
          "base_uri": "https://localhost:8080/"
        }
      },
      "outputs": [
        {
          "output_type": "stream",
          "name": "stdout",
          "text": [
            "Reach retrieved from metrics cache\n",
            "Building Olivia Model\n",
            "     Finding strongly connected components (SCCs)...\n",
            "     Building condensation network...\n",
            "     Adding structural meta-data...\n",
            "     Done\n",
            "Computing Reach\n",
            "\n"
          ]
        },
        {
          "output_type": "execute_result",
          "data": {
            "text/plain": [
              "0.20080368750738664"
            ]
          },
          "metadata": {},
          "execution_count": 57
        }
      ],
      "source": [
        "immunization_delta(pypi,{'numpy','pandas','matplotlib'})"
      ]
    },
    {
      "cell_type": "markdown",
      "metadata": {
        "id": "M5En_xf3X5_n"
      },
      "source": [
        "By immunizing this set of three well known Python packages, we reduce the REACH-vulnerability by 0.20, i.e we reduce  by 0.20 the expected amount of potentially affected packages by a random failure (from 15.73 to 15.53). It is not a drastic reduction, but it is not bad either, for working only on three packages of about 50000.\n",
        "\n",
        "The default algorithm of *immunizacion_delta(...)* is called *'network'*. It computes the cost function network-wide, immunizes the target set of packages provided, rebuilds the model, computes the cost function again and returns the diference in vulnerability. In the previous code example, you may notice that the first calculation was retrieved from the model's cache, as we had computed REACH just before by calling *failure_vulnerability(pypi)*.\n",
        "\n",
        "This does not seem to be a particularly efficient method and indeed it is not. However, it is not clear that a better technique exists for calculating the immunization delta of arbitrary sets and cost functions.\n",
        "\n",
        "\n",
        "For the particular case of the REACH cost function, OLIVIA provides another algorithm for the immunization delta computation, *'analytic'*. In this case, the entire network is not processed. A mathematical formulation that only considers the packages transitively related to the target set is used to analytically calculate the vulnerability reduction associated with its immunization. This can be way faster for certain type of immunization sets, but in large complex networks it is often not the case, and the *'network'* method is time-bound and better.\n",
        "\n",
        "The two methods are exact but there may be small differences due to rounding."
      ]
    },
    {
      "cell_type": "code",
      "execution_count": 58,
      "metadata": {
        "id": "tFrj2D4-X5_n"
      },
      "outputs": [],
      "source": [
        "target = {'networkx','spacy'}"
      ]
    },
    {
      "cell_type": "code",
      "execution_count": 59,
      "metadata": {
        "id": "txUfsL50X5_o",
        "outputId": "16ed65ff-c54c-49e9-8a3d-20740e5bf9c3",
        "colab": {
          "base_uri": "https://localhost:8080/"
        }
      },
      "outputs": [
        {
          "output_type": "stream",
          "name": "stdout",
          "text": [
            "Reach retrieved from metrics cache\n",
            "Building Olivia Model\n",
            "     Finding strongly connected components (SCCs)...\n",
            "     Building condensation network...\n",
            "     Adding structural meta-data...\n",
            "     Done\n",
            "Computing Reach\n",
            "\n",
            "CPU times: user 11 s, sys: 150 ms, total: 11.2 s\n",
            "Wall time: 11.4 s\n"
          ]
        },
        {
          "output_type": "execute_result",
          "data": {
            "text/plain": [
              "0.06565417799314766"
            ]
          },
          "metadata": {},
          "execution_count": 59
        }
      ],
      "source": [
        "%time immunization_delta(pypi, target)"
      ]
    },
    {
      "cell_type": "code",
      "execution_count": 60,
      "metadata": {
        "id": "vuBvyH5ZX5_p",
        "outputId": "7d939ba6-a726-43d0-fbfd-72ac9125708a",
        "colab": {
          "base_uri": "https://localhost:8080/"
        }
      },
      "outputs": [
        {
          "output_type": "stream",
          "name": "stdout",
          "text": [
            "CPU times: user 1.4 s, sys: 14.6 ms, total: 1.42 s\n",
            "Wall time: 1.42 s\n"
          ]
        },
        {
          "output_type": "execute_result",
          "data": {
            "text/plain": [
              "0.06565417799314502"
            ]
          },
          "metadata": {},
          "execution_count": 60
        }
      ],
      "source": [
        "%time immunization_delta(pypi, target, algorithm='analytic')"
      ]
    },
    {
      "cell_type": "markdown",
      "metadata": {
        "id": "iol5dS_MX5_p"
      },
      "source": [
        "Of course you may be interested on computing immunizacion delta according to another cost metric:"
      ]
    },
    {
      "cell_type": "code",
      "execution_count": 61,
      "metadata": {
        "id": "Vi3wylBaX5_q",
        "outputId": "6555ae39-4498-492b-90ec-54f3b49cadb3",
        "colab": {
          "base_uri": "https://localhost:8080/"
        }
      },
      "outputs": [
        {
          "output_type": "stream",
          "name": "stdout",
          "text": [
            "Computing Impact\n",
            "\n",
            "Building Olivia Model\n",
            "     Finding strongly connected components (SCCs)...\n",
            "     Building condensation network...\n",
            "     Adding structural meta-data...\n",
            "     Done\n",
            "Computing Impact\n",
            "\n"
          ]
        },
        {
          "output_type": "execute_result",
          "data": {
            "text/plain": [
              "0.2860969940511353"
            ]
          },
          "metadata": {},
          "execution_count": 61
        }
      ],
      "source": [
        "immunization_delta(pypi,{'numpy','pandas','matplotlib'}, cost_metric = Impact)"
      ]
    },
    {
      "cell_type": "markdown",
      "metadata": {
        "id": "iHAacRknX5_q"
      },
      "source": [
        "Notice how we needed to compute IMPACT twice. However the values for the original network are cached and will be reused in subsequent queries:"
      ]
    },
    {
      "cell_type": "code",
      "execution_count": 62,
      "metadata": {
        "id": "atIS4i_3X5_q",
        "outputId": "6f4d17a4-87fb-4308-a139-6e43953ba86e",
        "colab": {
          "base_uri": "https://localhost:8080/"
        }
      },
      "outputs": [
        {
          "output_type": "stream",
          "name": "stdout",
          "text": [
            "Impact retrieved from metrics cache\n",
            "Building Olivia Model\n",
            "     Finding strongly connected components (SCCs)...\n",
            "     Building condensation network...\n",
            "     Adding structural meta-data...\n",
            "     Done\n",
            "Computing Impact\n",
            "\n"
          ]
        },
        {
          "output_type": "execute_result",
          "data": {
            "text/plain": [
              "0.9497498325651037"
            ]
          },
          "metadata": {},
          "execution_count": 62
        }
      ],
      "source": [
        "immunization_delta(pypi,{'six'}, cost_metric = Impact)"
      ]
    },
    {
      "cell_type": "markdown",
      "metadata": {
        "id": "gI4RAX4CX5_r"
      },
      "source": [
        "### 02 - Selecting Immunization targets - Subcritical networks\n",
        "OLIVIA includes tools to help locate good immunization sets in package dependency networks. \n",
        "\n",
        "Subcritical networks do not have many dependency cycles, and the largest strongly connected component (SCC) is small, logarithmic in relation to the size of the repository. PyPI is subcritical.\n",
        "\n",
        "From here on we will deal with REACH-vulnerability unless we note otherwise.\n",
        "\n",
        "¿How effective is to immunize random packages?"
      ]
    },
    {
      "cell_type": "code",
      "execution_count": 63,
      "metadata": {
        "id": "okBiTBNTX5_r",
        "outputId": "8e14b7ac-2f21-4e59-b798-11dd3bd8b885",
        "colab": {
          "base_uri": "https://localhost:8080/"
        }
      },
      "outputs": [
        {
          "output_type": "stream",
          "name": "stdout",
          "text": [
            "Reach retrieved from metrics cache\n"
          ]
        },
        {
          "output_type": "execute_result",
          "data": {
            "text/plain": [
              "15.730114643659142"
            ]
          },
          "metadata": {},
          "execution_count": 63
        }
      ],
      "source": [
        "failure_vulnerability(pypi)"
      ]
    },
    {
      "cell_type": "code",
      "execution_count": 64,
      "metadata": {
        "id": "0DeixcKWX5_r",
        "outputId": "e3d9c11a-9f49-4f86-e274-8cdd48b94a3a",
        "colab": {
          "base_uri": "https://localhost:8080/"
        }
      },
      "outputs": [
        {
          "output_type": "execute_result",
          "data": {
            "text/plain": [
              "0.009632431154709846"
            ]
          },
          "metadata": {},
          "execution_count": 64
        }
      ],
      "source": [
        "immunization_delta(pypi, iset_random(pypi, 20), algorithm='analytic')"
      ]
    },
    {
      "cell_type": "markdown",
      "metadata": {
        "id": "sd52iRqHX5_s"
      },
      "source": [
        "*iset_...* methods from *olivia.immunization* produce sets of packages intended as immunization targets. *iset_random(...)* is really more like a baseline tool, selecting uniformly arbitrary ones. The immunization of 20 random packages does not seem to do much for decreasing the vulnerability (-0.0066 out of 15.73 in this case)"
      ]
    },
    {
      "cell_type": "code",
      "execution_count": 65,
      "metadata": {
        "id": "DHazYFXmX5_s",
        "outputId": "5bb26bea-61f3-45ae-d4f3-361b7a476de9",
        "colab": {
          "base_uri": "https://localhost:8080/"
        }
      },
      "outputs": [
        {
          "output_type": "execute_result",
          "data": {
            "text/plain": [
              "0.7955127447504236"
            ]
          },
          "metadata": {},
          "execution_count": 65
        }
      ],
      "source": [
        "immunization_delta(pypi, iset_random(pypi, 1000), algorithm='analytic')"
      ]
    },
    {
      "cell_type": "markdown",
      "metadata": {
        "id": "AF7japYGX5_s"
      },
      "source": [
        "Although appreciable, the immunization of 1000 random packages does not look spectacular either. *iset_random(...)* also provides an option to make an indirect selection, that is select randomly chosen dependencies of randomly chosen packages. This is a well known immunization tactic from Network Science, often used to exemplify advanced vaccination strategies. In this case it is also much better that pure random selection."
      ]
    },
    {
      "cell_type": "code",
      "execution_count": 66,
      "metadata": {
        "id": "7FQklKWZX5_s",
        "outputId": "778ee34a-0413-4f44-e5b5-f9231ef322c2",
        "colab": {
          "base_uri": "https://localhost:8080/"
        }
      },
      "outputs": [
        {
          "output_type": "execute_result",
          "data": {
            "text/plain": [
              "2.721644407674428"
            ]
          },
          "metadata": {},
          "execution_count": 66
        }
      ],
      "source": [
        "immunization_delta(pypi, iset_random(pypi, 20, indirect=True), algorithm='analytic')"
      ]
    },
    {
      "cell_type": "markdown",
      "metadata": {
        "id": "7cbyTrqdX5_s"
      },
      "source": [
        "If we look at it, this indirect strategy is in fact a probabilistic approach to selection based on the number of dependents. Here we can just try the exact approach:"
      ]
    },
    {
      "cell_type": "code",
      "execution_count": 67,
      "metadata": {
        "id": "WEqeivSgX5_t",
        "outputId": "d799b6d3-52bb-4123-bd2e-8e634fb8caa7",
        "colab": {
          "base_uri": "https://localhost:8080/"
        }
      },
      "outputs": [
        {
          "output_type": "stream",
          "name": "stdout",
          "text": [
            "Computing Dependents Count\n"
          ]
        },
        {
          "output_type": "execute_result",
          "data": {
            "text/plain": [
              "[('requests', 10623),\n",
              " ('six', 5014),\n",
              " ('numpy', 3911),\n",
              " ('click', 2519),\n",
              " ('setuptools', 2117),\n",
              " ('python-dateutil', 1873),\n",
              " ('pyyaml', 1836),\n",
              " ('PyYAML', 1572),\n",
              " ('lxml', 1368),\n",
              " ('future', 1218),\n",
              " ('pandas', 1202),\n",
              " ('urllib3', 1180),\n",
              " ('pytz', 1092),\n",
              " ('boto3', 1070),\n",
              " ('beautifulsoup4', 1057),\n",
              " ('pytest', 1045),\n",
              " ('Django', 995),\n",
              " ('django', 945),\n",
              " ('Click', 933),\n",
              " ('jinja2', 899)]"
            ]
          },
          "metadata": {},
          "execution_count": 67
        }
      ],
      "source": [
        "target = pypi.get_metric(DependentsCount).top(20)\n",
        "target"
      ]
    },
    {
      "cell_type": "code",
      "execution_count": 68,
      "metadata": {
        "id": "2DQ6djGXX5_t",
        "outputId": "cca35ec5-6db7-43a5-ad89-daf9dade887c",
        "colab": {
          "base_uri": "https://localhost:8080/"
        }
      },
      "outputs": [
        {
          "output_type": "execute_result",
          "data": {
            "text/plain": [
              "5.278276799432692"
            ]
          },
          "metadata": {},
          "execution_count": 68
        }
      ],
      "source": [
        "immunization_delta(pypi, {l[0] for l in target}, algorithm='analytic')"
      ]
    },
    {
      "cell_type": "markdown",
      "metadata": {
        "id": "Kgh-h_7BX5_t"
      },
      "source": [
        "*iset_naive_ranking(...)* is a shortcut to select a set of nodes based simply on a ranking over a metricStats object:"
      ]
    },
    {
      "cell_type": "code",
      "execution_count": 69,
      "metadata": {
        "id": "Kty9XB5FX5_u",
        "outputId": "ec25d672-0040-4540-982e-a1a92965759e",
        "colab": {
          "base_uri": "https://localhost:8080/"
        }
      },
      "outputs": [
        {
          "output_type": "stream",
          "name": "stdout",
          "text": [
            "DependentsCount retrieved from metrics cache\n"
          ]
        },
        {
          "output_type": "execute_result",
          "data": {
            "text/plain": [
              "5.278276799432692"
            ]
          },
          "metadata": {},
          "execution_count": 69
        }
      ],
      "source": [
        "immunization_delta(pypi, \n",
        "                   iset_naive_ranking(20, pypi.get_metric(DependentsCount)),\n",
        "                   algorithm='analytic')"
      ]
    },
    {
      "cell_type": "markdown",
      "metadata": {
        "id": "ci14li8zX5_u"
      },
      "source": [
        "Choosing the 20 packages with higher count of direct dependants is even better that indirect selection. Now we achieve a vulnerability reduction of near a third, acting only on 20 out of 50.000 packages.\n",
        "\n",
        "If we want to reduce REACH-vulnerability, a simple idea to consider could be to immunize the nodes with the greatest REACH value. It is somewhat surprising that this strategy is worse than the dependants count based one:"
      ]
    },
    {
      "cell_type": "code",
      "execution_count": 70,
      "metadata": {
        "id": "OZX8MFZsX5_u",
        "outputId": "573fff7b-174d-4f48-dcd6-f1b684262dfe",
        "colab": {
          "base_uri": "https://localhost:8080/"
        }
      },
      "outputs": [
        {
          "output_type": "stream",
          "name": "stdout",
          "text": [
            "Reach retrieved from metrics cache\n"
          ]
        },
        {
          "output_type": "execute_result",
          "data": {
            "text/plain": [
              "4.87391167316708"
            ]
          },
          "metadata": {},
          "execution_count": 70
        }
      ],
      "source": [
        "immunization_delta(pypi, \n",
        "                   iset_naive_ranking(20, pypi.get_metric(Reach)),\n",
        "                   algorithm='analytic')"
      ]
    },
    {
      "cell_type": "markdown",
      "metadata": {
        "id": "CgzsyDjHX5_u"
      },
      "source": [
        "In addition to ranking methods, OLIVIA provides some specific techniques to find good targets. *iset_delta_set_reach(...)* computes a set of nodes that meets certain theoretical constraints on REACH and SURFACE values to ensure that it contains the best single node to immunize from the network. It is possible that the set contains other good targets.\n",
        "\n",
        "The size of the delta set is given by the algorithm. For PyPI it is really small, of only 18 packages."
      ]
    },
    {
      "cell_type": "code",
      "execution_count": 71,
      "metadata": {
        "id": "h-1ft0QIX5_u",
        "outputId": "5953ac48-8188-4b98-ff13-9f0ba3d22504",
        "colab": {
          "base_uri": "https://localhost:8080/"
        }
      },
      "outputs": [
        {
          "output_type": "stream",
          "name": "stdout",
          "text": [
            "Reach retrieved from metrics cache\n",
            "Computing Surface\n",
            "\n",
            "Reach retrieved from metrics cache\n",
            "Surface retrieved from metrics cache\n",
            "{'s3transfer', 'jsonschema', 'requests', 'pluggy', 'pytest', 'pbr', 'zipp', 'distribute', 'packaging', 'setuptools', 'wheel', 'importlib-metadata', 'notebook', 'ipykernel', 'configparser', 'boto3', 'keyring', 'cryptography'}\n"
          ]
        }
      ],
      "source": [
        "delta_set = iset_delta_set_reach(pypi)\n",
        "print(delta_set)"
      ]
    },
    {
      "cell_type": "code",
      "execution_count": 72,
      "metadata": {
        "id": "46aA_KqBX5_u",
        "outputId": "970727c8-0abc-47e4-d2be-b2345fb06625",
        "colab": {
          "base_uri": "https://localhost:8080/"
        }
      },
      "outputs": [
        {
          "output_type": "execute_result",
          "data": {
            "text/plain": [
              "6.401134617657488"
            ]
          },
          "metadata": {},
          "execution_count": 72
        }
      ],
      "source": [
        "immunization_delta(pypi, delta_set, algorithm='analytic')"
      ]
    },
    {
      "cell_type": "markdown",
      "metadata": {
        "id": "8GEuEgGSX5_v"
      },
      "source": [
        "This is our best result so far, a 6.40 out of 15.73 (41%) decrease in vulnerability by immunizing 18 packages."
      ]
    },
    {
      "cell_type": "markdown",
      "metadata": {
        "id": "i3UYf6pYX5_v"
      },
      "source": [
        "Of course we can also rank the results within the delta set for finding smaller sets:"
      ]
    },
    {
      "cell_type": "code",
      "execution_count": 73,
      "metadata": {
        "id": "SVOze5syX5_v",
        "outputId": "72d41acf-ae36-4508-a343-70d8b004a73f",
        "colab": {
          "base_uri": "https://localhost:8080/"
        }
      },
      "outputs": [
        {
          "output_type": "stream",
          "name": "stdout",
          "text": [
            "DependentsCount retrieved from metrics cache\n",
            "{'pytest', 'boto3', 'requests', 'setuptools'}\n"
          ]
        },
        {
          "output_type": "execute_result",
          "data": {
            "text/plain": [
              "3.6809872749477996"
            ]
          },
          "metadata": {},
          "execution_count": 73
        }
      ],
      "source": [
        "smaller = iset_naive_ranking(4, pypi.get_metric(DependentsCount), subset = delta_set)\n",
        "print(smaller)\n",
        "immunization_delta(pypi, smaller, algorithm='analytic')"
      ]
    },
    {
      "cell_type": "markdown",
      "metadata": {
        "id": "F-FEM1SrX5_v"
      },
      "source": [
        "### 03 - Selecting Immunization targets - Supercritical networks"
      ]
    },
    {
      "cell_type": "markdown",
      "metadata": {
        "id": "wcB6E9YcX5_w"
      },
      "source": [
        "Supercritical packet dependency networks are those that contain a strongly connected (SCC) component of significant size. Maven is one of them."
      ]
    },
    {
      "cell_type": "code",
      "execution_count": 74,
      "metadata": {
        "id": "vGqwh6MhX5_w"
      },
      "outputs": [],
      "source": [
        "maven = OliviaNetwork(r'data/maven-2020-01-12.olv')"
      ]
    },
    {
      "cell_type": "markdown",
      "metadata": {
        "id": "_fHnWbG-X5_w"
      },
      "source": [
        "Supercritical networks are much more vulnerable, because the big SCC contributes greatly to the propagation of defects."
      ]
    },
    {
      "cell_type": "code",
      "execution_count": 75,
      "metadata": {
        "id": "Jus7fHARX5_w",
        "outputId": "6e8cd313-fed0-4ad2-f402-28c0a328e112",
        "colab": {
          "base_uri": "https://localhost:8080/"
        }
      },
      "outputs": [
        {
          "output_type": "stream",
          "name": "stdout",
          "text": [
            "Computing Reach\n",
            "\n"
          ]
        },
        {
          "output_type": "execute_result",
          "data": {
            "text/plain": [
              "1805.5391236430194"
            ]
          },
          "metadata": {},
          "execution_count": 75
        }
      ],
      "source": [
        "failure_vulnerability(maven)"
      ]
    },
    {
      "cell_type": "markdown",
      "metadata": {
        "id": "pd3cyE5eX5_w"
      },
      "source": [
        "Lets see what happens if we immunize the delta set for Maven:"
      ]
    },
    {
      "cell_type": "code",
      "execution_count": 76,
      "metadata": {
        "id": "zxYgeou4X5_w",
        "outputId": "af229fc3-4745-48ad-9b79-e33deac8e460",
        "colab": {
          "base_uri": "https://localhost:8080/"
        }
      },
      "outputs": [
        {
          "output_type": "stream",
          "name": "stdout",
          "text": [
            "Reach retrieved from metrics cache\n",
            "Computing Surface\n",
            "\n",
            "Reach retrieved from metrics cache\n",
            "Surface retrieved from metrics cache\n",
            "Reach retrieved from metrics cache\n",
            "Building Olivia Model\n",
            "     Finding strongly connected components (SCCs)...\n",
            "     Building condensation network...\n",
            "     Adding structural meta-data...\n",
            "     Done\n",
            "Computing Reach\n",
            "\n"
          ]
        },
        {
          "output_type": "execute_result",
          "data": {
            "text/plain": [
              "1800.3279159303206"
            ]
          },
          "metadata": {},
          "execution_count": 76
        }
      ],
      "source": [
        "maven_delta_set = iset_delta_set_reach (maven)\n",
        "immunization_delta(maven, maven_delta_set)"
      ]
    },
    {
      "cell_type": "markdown",
      "metadata": {
        "id": "XEtIfthLX5_x"
      },
      "source": [
        "We reduced the vulnerability of Maven by 1800!. This means that before immunization, the failure of a single package could affect an average of 1805 other packages. After immunization, this number is 5 (five packages).\n",
        "\n",
        "However, there is a catch."
      ]
    },
    {
      "cell_type": "code",
      "execution_count": 77,
      "metadata": {
        "id": "X1UA3DIYX5_x",
        "outputId": "70627564-027e-47f2-ffba-4ec3a825c247",
        "colab": {
          "base_uri": "https://localhost:8080/"
        }
      },
      "outputs": [
        {
          "output_type": "execute_result",
          "data": {
            "text/plain": [
              "6540"
            ]
          },
          "metadata": {},
          "execution_count": 77
        }
      ],
      "source": [
        "len(maven_delta_set)"
      ]
    },
    {
      "cell_type": "markdown",
      "metadata": {
        "id": "zaxoXg5aX5_x"
      },
      "source": [
        "In supercrítical networks, the delta set is larger. Here it represent aproximately 5% of the network (was 0.04% in PyPI). In fact, the delta set is not very useful in supercritical networks, as it usually contains the largest SCC, which is the real cause of the high vulnerability.\n",
        "\n",
        "*iset_sap(...)* computes an immunization set by detecting the strong articulation points (SAP) of the biggest SCC in the network. SAPs are packages whose immunization is likely to contribute to the break-up of the SCC, reducing its ability to spread defects."
      ]
    },
    {
      "cell_type": "code",
      "execution_count": null,
      "metadata": {
        "id": "uU-OhVrHX5_x",
        "outputId": "30d48e73-25a9-4323-ed6a-0147131362b4"
      },
      "outputs": [
        {
          "name": "stdout",
          "output_type": "stream",
          "text": [
            "Reach retrieved from metrics cache\n",
            "Building Olivia Model\n",
            "     Finding strongly connected components (SCCs)...\n",
            "     Building condensation network...\n",
            "     Adding structural meta-data...\n",
            "     Done\n",
            "Computing Reach\n",
            "     Processing node: 125K      \n"
          ]
        },
        {
          "data": {
            "text/plain": [
              "1695.3186300807877"
            ]
          },
          "execution_count": 40,
          "metadata": {},
          "output_type": "execute_result"
        }
      ],
      "source": [
        "sap = iset_sap(maven)\n",
        "\n",
        "immunization_delta(maven, sap)"
      ]
    },
    {
      "cell_type": "code",
      "execution_count": null,
      "metadata": {
        "id": "-1S-kMONX5_x",
        "outputId": "e1be0ef6-a6ea-4fca-a717-059a351ac533"
      },
      "outputs": [
        {
          "data": {
            "text/plain": [
              "351"
            ]
          },
          "execution_count": 42,
          "metadata": {},
          "output_type": "execute_result"
        }
      ],
      "source": [
        "len(sap)"
      ]
    },
    {
      "cell_type": "markdown",
      "metadata": {
        "id": "GiuZ3yUYX5_x"
      },
      "source": [
        "SAP is much smaller (0.28%), and still achieves a reduction in vulnerability of near 94%\n",
        "\n",
        "Note that here we have not used the 'analityc' method for the calculation of the immunization delta, since sets are larger and it could be really slow.\n",
        "\n",
        "Ranking on the SAP set gives us a tool for finding smaller sets:"
      ]
    },
    {
      "cell_type": "code",
      "execution_count": null,
      "metadata": {
        "id": "KTbLKdZxX5_x",
        "outputId": "330eb81a-011e-404c-a609-74b352ec2577"
      },
      "outputs": [
        {
          "name": "stdout",
          "output_type": "stream",
          "text": [
            "DependentsCount retrieved from metrics cache\n",
            "Reach retrieved from metrics cache\n",
            "Building Olivia Model\n",
            "     Finding strongly connected components (SCCs)...\n",
            "     Building condensation network...\n",
            "     Adding structural meta-data...\n",
            "     Done\n",
            "Computing Reach\n",
            "     Processing node: 125K      \n"
          ]
        },
        {
          "data": {
            "text/plain": [
              "1544.4391883362787"
            ]
          },
          "execution_count": 52,
          "metadata": {},
          "output_type": "execute_result"
        }
      ],
      "source": [
        "immunization_delta(maven, iset_naive_ranking(100, maven.get_metric(DependentsCount), subset=sap))"
      ]
    },
    {
      "cell_type": "markdown",
      "metadata": {
        "id": "HnPXYOR7X5_y"
      },
      "source": [
        "Notice that the SAP approach is completely innefective in subcritical networks"
      ]
    },
    {
      "cell_type": "code",
      "execution_count": null,
      "metadata": {
        "id": "51NaugAeX5_y",
        "outputId": "dbf74ed7-7604-46a1-cdee-e3e90d4901f4"
      },
      "outputs": [
        {
          "data": {
            "text/plain": [
              "0.013040223771815782"
            ]
          },
          "execution_count": 55,
          "metadata": {},
          "output_type": "execute_result"
        }
      ],
      "source": [
        "immunization_delta(pypi, iset_sap(pypi), algorithm='analytic')"
      ]
    },
    {
      "cell_type": "markdown",
      "metadata": {
        "id": "1PcmXCYsX5_y"
      },
      "source": [
        "Even the immunization of the largest SCC in full has a negligible effect on the network's vulnerability"
      ]
    },
    {
      "cell_type": "code",
      "execution_count": null,
      "metadata": {
        "id": "K3Yr-CN8X5_y",
        "outputId": "46fc0ef4-5475-43c6-f289-b85869bbfc05"
      },
      "outputs": [
        {
          "data": {
            "text/plain": [
              "0.019717921443485796"
            ]
          },
          "execution_count": 56,
          "metadata": {},
          "output_type": "execute_result"
        }
      ],
      "source": [
        "immunization_delta(pypi, pypi.sorted_clusters()[0], algorithm='analytic')"
      ]
    },
    {
      "cell_type": "markdown",
      "metadata": {
        "id": "FbuF8mYdX5_y"
      },
      "source": [
        "### 03 - Selecting Immunization targets - Advanced\n",
        "\n",
        "Calculating the immunization delta is computationally expensive and the problem of selecting an optimal immunization set of a given size is mathematically intractable for large repositories.\n",
        "\n",
        "In this guide we have used PyPI and Maven, but there are much larger networks, such as npm with over a million packages.\n",
        "\n",
        "We will now give some ideas of additional techniques that can be used for the heuristic exploration of the problem."
      ]
    },
    {
      "cell_type": "markdown",
      "metadata": {
        "id": "YDUMidNbX5_z"
      },
      "source": [
        "#### Manipulating immunization sets"
      ]
    },
    {
      "cell_type": "markdown",
      "metadata": {
        "id": "MDOUqzFeX5_z"
      },
      "source": [
        "Set operations may be interesting to facilitate the experimental search for good immunization sets."
      ]
    },
    {
      "cell_type": "markdown",
      "metadata": {
        "id": "rcHhY11UX5_z"
      },
      "source": [
        "Packages both in PyPI delta set and in top 100 by dependentsCount:"
      ]
    },
    {
      "cell_type": "code",
      "execution_count": null,
      "metadata": {
        "id": "JC9n6qF_X5_z",
        "outputId": "3809501e-b037-4ff7-d48e-006b443450d8"
      },
      "outputs": [
        {
          "name": "stdout",
          "output_type": "stream",
          "text": [
            "DependentsCount retrieved from metrics cache\n"
          ]
        },
        {
          "data": {
            "text/plain": [
              "{'boto3',\n",
              " 'configparser',\n",
              " 'cryptography',\n",
              " 'jsonschema',\n",
              " 'packaging',\n",
              " 'pbr',\n",
              " 'pytest',\n",
              " 'requests',\n",
              " 'setuptools',\n",
              " 'wheel'}"
            ]
          },
          "execution_count": 59,
          "metadata": {},
          "output_type": "execute_result"
        }
      ],
      "source": [
        "delta_set & iset_naive_ranking(100, pypi.get_metric(DependentsCount))"
      ]
    },
    {
      "cell_type": "code",
      "execution_count": null,
      "metadata": {
        "id": "XHXpEC7KX5_z",
        "outputId": "c56fed52-4e2a-4d6c-c16f-4e7ba4f3cc68"
      },
      "outputs": [
        {
          "data": {
            "text/plain": [
              "5.7339360989638735"
            ]
          },
          "execution_count": 64,
          "metadata": {},
          "output_type": "execute_result"
        }
      ],
      "source": [
        "immunization_delta(pypi, {'boto3',\n",
        "                         'configparser',\n",
        "                         'cryptography',\n",
        "                         'jsonschema',\n",
        "                         'packaging',\n",
        "                         'pbr',\n",
        "                         'pytest',\n",
        "                         'requests',\n",
        "                         'setuptools',\n",
        "                         'wheel'}, algorithm='analytic')"
      ]
    },
    {
      "cell_type": "markdown",
      "metadata": {
        "id": "xskJKKO_X5_0"
      },
      "source": [
        "That approach is much better than simply selecting the top 10 packages by DependentsCount:"
      ]
    },
    {
      "cell_type": "code",
      "execution_count": null,
      "metadata": {
        "id": "K2IbAbVlX5_0",
        "outputId": "7af577ce-8fbd-4ee0-a24d-f403c37900bd"
      },
      "outputs": [
        {
          "name": "stdout",
          "output_type": "stream",
          "text": [
            "DependentsCount retrieved from metrics cache\n"
          ]
        },
        {
          "data": {
            "text/plain": [
              "3.7312768388291375"
            ]
          },
          "execution_count": 65,
          "metadata": {},
          "output_type": "execute_result"
        }
      ],
      "source": [
        "immunization_delta(pypi,\n",
        "                   iset_naive_ranking(10, pypi.get_metric(DependentsCount)), \n",
        "                   algorithm='analytic')"
      ]
    },
    {
      "cell_type": "markdown",
      "metadata": {
        "id": "WXkg2rCQX5_0"
      },
      "source": [
        "#### Ranking by compound metrics"
      ]
    },
    {
      "cell_type": "markdown",
      "metadata": {
        "id": "NqkdQCyVX5_0"
      },
      "source": [
        "Since arithmetic operations can be performed with MetricStats objects, it is easy to employ ranking functions with compound metrics. For example, REACH*SURFACE is a theoretical upper bound of immunization delta."
      ]
    },
    {
      "cell_type": "code",
      "execution_count": null,
      "metadata": {
        "id": "PtoMBMwdX5_0",
        "outputId": "a5057e99-cb68-400a-d607-b1641a3068d7"
      },
      "outputs": [
        {
          "name": "stdout",
          "output_type": "stream",
          "text": [
            "Reach retrieved from metrics cache\n",
            "Surface retrieved from metrics cache\n"
          ]
        },
        {
          "data": {
            "text/plain": [
              "8.024760666587873"
            ]
          },
          "execution_count": 71,
          "metadata": {},
          "output_type": "execute_result"
        }
      ],
      "source": [
        "upper = iset_naive_ranking(50, pypi.get_metric(Reach)*pypi.get_metric(Surface))\n",
        "immunization_delta(pypi, upper, algorithm='analytic')"
      ]
    },
    {
      "cell_type": "markdown",
      "metadata": {
        "id": "iSyVL37AX5_0"
      },
      "source": [
        "In fact, in this case we can get exactly the PyPI delta set, using this technique with the added benefit of being able to regulate the number of elements in the set."
      ]
    },
    {
      "cell_type": "code",
      "execution_count": null,
      "metadata": {
        "id": "lhd4QfkWX5_0",
        "outputId": "104a1f45-e0f6-4447-ce99-fd15a99a33eb"
      },
      "outputs": [
        {
          "data": {
            "text/plain": [
              "18"
            ]
          },
          "execution_count": 72,
          "metadata": {},
          "output_type": "execute_result"
        }
      ],
      "source": [
        "len(delta_set)"
      ]
    },
    {
      "cell_type": "code",
      "execution_count": null,
      "metadata": {
        "id": "I2n1a2a2X5_1",
        "outputId": "e985e189-f99c-4d44-d961-e5f57e7db577"
      },
      "outputs": [
        {
          "name": "stdout",
          "output_type": "stream",
          "text": [
            "Reach retrieved from metrics cache\n",
            "Surface retrieved from metrics cache\n"
          ]
        }
      ],
      "source": [
        "upper = iset_naive_ranking(18, pypi.get_metric(Reach)*pypi.get_metric(Surface))"
      ]
    },
    {
      "cell_type": "code",
      "execution_count": null,
      "metadata": {
        "id": "gaLfrPhuX5_1",
        "outputId": "5a401e3e-334f-4c19-9b99-6c9f25f5e236"
      },
      "outputs": [
        {
          "data": {
            "text/plain": [
              "set()"
            ]
          },
          "execution_count": 75,
          "metadata": {},
          "output_type": "execute_result"
        }
      ],
      "source": [
        "# void set\n",
        "delta_set-upper"
      ]
    },
    {
      "cell_type": "markdown",
      "metadata": {
        "id": "XYNNMNUOX5_1"
      },
      "source": [
        "#### Brute force and Greedy selection"
      ]
    },
    {
      "cell_type": "markdown",
      "metadata": {
        "id": "kaCBRU65X5_1"
      },
      "source": [
        "Once we get small enough candidate sets, we could try brute-force and greedy approaches for finding smaller sets. \n",
        "\n",
        "Considering the PyPI delta set, let's see which package individually contributes most to vulnerability reduction:"
      ]
    },
    {
      "cell_type": "code",
      "execution_count": null,
      "metadata": {
        "id": "Mo8BNaIFX5_2",
        "outputId": "310e0d96-6a25-4292-ce04-0620589783ea"
      },
      "outputs": [
        {
          "data": {
            "text/plain": [
              "[('importlib-metadata', 1.3886065476893985),\n",
              " ('requests', 1.6734625536776582),\n",
              " ('setuptools', 0.9829807351376906),\n",
              " ('zipp', 0.3518496631603829),\n",
              " ('distribute', 0.2246582358271284),\n",
              " ('pytest', 0.7602135287397077),\n",
              " ('boto3', 0.3025450104400583),\n",
              " ('packaging', 0.6895757002718355),\n",
              " ('pbr', 0.34966316038293344),\n",
              " ('ipykernel', 0.05127447504235118),\n",
              " ('cryptography', 0.4491982823149352),\n",
              " ('s3transfer', 0.06293582318874838),\n",
              " ('jsonschema', 0.5747350588976874),\n",
              " ('pluggy', 0.06888468660126856),\n",
              " ('configparser', 0.3583894732695111),\n",
              " ('keyring', 0.25920891935547413),\n",
              " ('notebook', 0.1722018673915613),\n",
              " ('wheel', 0.5350037426624118)]"
            ]
          },
          "execution_count": 38,
          "metadata": {},
          "output_type": "execute_result"
        }
      ],
      "source": [
        "[(i, immunization_delta(pypi, {i}, algorithm='analytic')) for i in delta_set]"
      ]
    },
    {
      "cell_type": "markdown",
      "metadata": {
        "id": "qPsS8oVDX5_2"
      },
      "source": [
        "It should be noted that, as the sets of dependants and transitional dependencies are interrelated, the immunization delta is not additive. For example, if you take out *'importlib-metadata'* from the delta set, immunization delta decreases only by a small amount:"
      ]
    },
    {
      "cell_type": "code",
      "execution_count": null,
      "metadata": {
        "id": "iW3bbmc4X5_2",
        "outputId": "9d39bb26-8daa-4649-ebd2-6dfb4d74c3f0"
      },
      "outputs": [
        {
          "data": {
            "text/plain": [
              "6.274553835244061"
            ]
          },
          "execution_count": 52,
          "metadata": {},
          "output_type": "execute_result"
        }
      ],
      "source": [
        "immunization_delta(pypi, delta_set-{'importlib-metadata'}, algorithm='analytic')"
      ]
    },
    {
      "cell_type": "markdown",
      "metadata": {
        "id": "yiRHTU_KX5_2"
      },
      "source": [
        "#### Using other centrality measures"
      ]
    },
    {
      "cell_type": "markdown",
      "metadata": {
        "id": "ayk7fQp6X5_2"
      },
      "source": [
        "Common measures of centrality in the field of network science, or more custom or specific ones, can be used to select immunization sets. You may need to narrow down the set of candidates to  make the computation feasible.\n",
        "\n",
        "For example, using betweenness centrality on the SAP set gives the best results we have found for small immunization sets in Maven:"
      ]
    },
    {
      "cell_type": "code",
      "execution_count": null,
      "metadata": {
        "id": "X6NJtfW9X5_3"
      },
      "outputs": [],
      "source": [
        "import networkx as nx\n",
        "\n",
        "# Using the NetworkX implementation of betweenness centrality\n",
        "# You can access the full NetworkX network underlying the repository using OliviaModel.network.\n",
        "# Here we restrict the centrality computation to the subgraph induced by the SAP set:\n",
        "sap_betweenness = nx.betweenness_centrality(maven.network.subgraph(sap))"
      ]
    },
    {
      "cell_type": "code",
      "execution_count": null,
      "metadata": {
        "id": "B2j7wOU3X5_3"
      },
      "outputs": [],
      "source": [
        "from olivia.packagemetrics import MetricStats\n",
        "\n",
        "# Build a MetricStats object to use in iset_naive_ranking\n",
        "# MetricStats constructor admits a dictionary of values such as those produced by NetworkX\n",
        "sap_betweenness = MetricStats(sap_betweenness)"
      ]
    },
    {
      "cell_type": "code",
      "execution_count": null,
      "metadata": {
        "id": "QkHFYxAtX5_3",
        "outputId": "3a2478b3-e25f-48b6-9315-58ad2a9448da"
      },
      "outputs": [
        {
          "name": "stdout",
          "output_type": "stream",
          "text": [
            "Reach retrieved from metrics cache\n",
            "Building Olivia Model\n",
            "     Finding strongly connected components (SCCs)...\n",
            "     Building condensation network...\n",
            "     Adding structural meta-data...\n",
            "     Done\n",
            "Computing Reach\n",
            "     Processing node: 125K      \n"
          ]
        },
        {
          "data": {
            "text/plain": [
              "471.4254134057055"
            ]
          },
          "execution_count": 86,
          "metadata": {},
          "output_type": "execute_result"
        }
      ],
      "source": [
        "immunization_delta(maven, iset_naive_ranking(10, sap_betweenness))"
      ]
    },
    {
      "cell_type": "markdown",
      "metadata": {
        "id": "M2s6d60NX5_3"
      },
      "source": [
        "Follows a visual representation of this technique. The drawn portion (981 nodes) is the biggest SCC of Maven , representing about 0.8% of the network. \n",
        "\n",
        "The highlighted white nodes correspond to the SAP set (351 nodes), whose immunization reduces by 93.9% the REACH-vulnerability of the network as a whole. The blue highlights are the 10 SAP with the highest out-degree centrality (number of dependants) and the red ones the 10 with the highest betweenness. By immunizing these sets, a reduction in network vulnerability of 13% and 26% respectively is achieved.\n",
        "The representation omits the direction of the arcs and uses the Kamada-kawai algorithm."
      ]
    },
    {
      "cell_type": "markdown",
      "metadata": {
        "id": "ZWub_LXGX5_3"
      },
      "source": [
        "<br>\n",
        "\n",
        "![Maven SCC](docs/img/maven.png \"SAP immunization of Maven with betweenness ranking\")  \n",
        "\n",
        "<br>"
      ]
    },
    {
      "cell_type": "code",
      "execution_count": null,
      "metadata": {
        "id": "ruCuQLtGX5_3"
      },
      "outputs": [],
      "source": []
    }
  ],
  "metadata": {
    "kernelspec": {
      "display_name": "Python 3",
      "language": "python",
      "name": "python3"
    },
    "language_info": {
      "codemirror_mode": {
        "name": "ipython",
        "version": 3
      },
      "file_extension": ".py",
      "mimetype": "text/x-python",
      "name": "python",
      "nbconvert_exporter": "python",
      "pygments_lexer": "ipython3",
      "version": "3.7.3"
    },
    "colab": {
      "provenance": [],
      "collapsed_sections": [
        "sddnhBSus7WX",
        "FfWtWnIksaLM",
        "u3kYILTcsaLc",
        "1ljA5grqsaLo"
      ],
      "include_colab_link": true
    }
  },
  "nbformat": 4,
  "nbformat_minor": 0
}