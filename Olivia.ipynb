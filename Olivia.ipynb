{
  "cells": [
    {
      "cell_type": "markdown",
      "metadata": {
        "id": "view-in-github",
        "colab_type": "text"
      },
      "source": [
        "<a href=\"https://colab.research.google.com/github/dab0012/olivia/blob/master/Olivia.ipynb\" target=\"_parent\"><img src=\"https://colab.research.google.com/assets/colab-badge.svg\" alt=\"Open In Colab\"/></a>"
      ]
    },
    {
      "cell_type": "markdown",
      "metadata": {
        "id": "tj6lgbhmsaLH"
      },
      "source": [
        "# OLIVIA\n",
        "**Open-source Library Indexes Vulnerability Identification and Analysis**\n",
        "\n",
        "The use of centralized library repositories to reduce development times and costs is universal, in virtually all languages and types of software projects. Due to the transitivity of dependencies, the appearance of a single defect in the repository can have extensive and difficult-to-predict effects on the ecosystem. These defects cause functional errors or performance or security problems. The risk is difficult to grasp for developers, who only explicitly import a small part of the dependencies.\n",
        "\n",
        "OLVIA uses an approach based on the vulnerability of the dependency network of software packages, which measures how sensitive the repository is to the random introduction of defects. The goals of the model are  to contribute to the understanding of propagation mechanisms of software defects and to study feasible protection strategies. This can benefit multiple parties:\n",
        "\n",
        "* **Centralised package managers**, to establish policies and manual or automatic control processes that improve the security and stability of the repositories.\n",
        "* **Software developers** in general, to assess the different risks introduced by the dependencies used in their projects, and **package developers** in particular to understand their responsibility on the ecosystem.\n",
        "* Developers of **continuous quality tools**, to define the concept of vulnerability based on the modeling of the network of package dependencies.\n",
        "---\n",
        "\n",
        "**Author**: Daniel Setó Rey\n",
        "\n",
        "https://github.com/dsr0018/olivia\n",
        "\n",
        "**License**: Olivia and this notebook are published under a MIT [license](https://github.com/dsr0018/olivia/blob/master/LICENSE). The information of dependencies has been obtained from the libraries.io [data snapshots](https://libraries.io/data) (by Tidelift).\n",
        "\n",
        "---\n",
        "\n",
        "*This notebook is part of a user guide series that cover in detail the operation of the library.*\n",
        "*This time we treat the basic operations of loading/creating models and dealing with package properties and metrics.*\n",
        "\n"
      ]
    },
    {
      "cell_type": "markdown",
      "source": [
        "## Setup runtime environment"
      ],
      "metadata": {
        "id": "sddnhBSus7WX"
      }
    },
    {
      "cell_type": "code",
      "source": [
        "from google.colab import drive\n",
        "\n",
        "# Mount Gdrive\n",
        "drive.mount(\"/content/gdrive\")\n",
        "\n",
        "# Prepare test folders\n",
        "!mkdir \"/content/gdrive/My Drive/test_olivia\"\n",
        "%cd \"/content/gdrive/My Drive/test_olivia\"\n",
        "\n",
        "# Download source code from github\n",
        "!git clone https://github.com/dab0012/olivia\n",
        "%cd olivia\n",
        "\n",
        "# Install requeriments\n",
        "! pip install -r requirements.txt"
      ],
      "metadata": {
        "id": "0A0UuI_Ntyiw"
      },
      "execution_count": null,
      "outputs": []
    },
    {
      "cell_type": "markdown",
      "metadata": {
        "id": "FfWtWnIksaLM"
      },
      "source": [
        "\n",
        "## A - Basic model usage\n",
        "\n",
        "[01 - Load model](#01---Load-model)&ensp;|&ensp;[02 - Package properties](#02---Package-properties)&ensp;|&ensp;[03 - Package metrics](#03---Package-metrics)&ensp;|&ensp;[04 - Custom models](#04---Custom-models)"
      ]
    },
    {
      "cell_type": "markdown",
      "source": [
        "*OliviaNetwork* is essentially a directed graph with some additional structures to facilitate working with metrics in large dependency networks. The model can be built from a NetworkX directed network or from a file in adjacency list format."
      ],
      "metadata": {
        "id": "47Wfj8tncJm1"
      }
    },
    {
      "cell_type": "markdown",
      "metadata": {
        "id": "3JtG9H0DsaLR"
      },
      "source": [
        "### 01 - Load model\n",
        "\n",
        "Load a pre-built model from file. This one is based in a snapshot of the Python Package Index (https://pypi.org/) from 2020-01 (data from https://libraries.io/):"
      ]
    },
    {
      "cell_type": "code",
      "execution_count": null,
      "metadata": {
        "id": "_15HTAGYsaLP"
      },
      "outputs": [],
      "source": [
        "from olivia.model import OliviaNetwork"
      ]
    },
    {
      "cell_type": "code",
      "execution_count": null,
      "metadata": {
        "id": "8LPnu9BysaLT"
      },
      "outputs": [],
      "source": [
        "pypi = OliviaNetwork(r'data/pypi-2020-01-12.olv')"
      ]
    },
    {
      "cell_type": "markdown",
      "metadata": {
        "id": "oCAVuMN5saLU"
      },
      "source": [
        "As expected, *len()* returns the number of the packages in the network:"
      ]
    },
    {
      "cell_type": "code",
      "execution_count": null,
      "metadata": {
        "id": "hIklTYj6saLV"
      },
      "outputs": [],
      "source": [
        "len(pypi)"
      ]
    },
    {
      "cell_type": "markdown",
      "metadata": {
        "id": "9_VnNJPcsaLX"
      },
      "source": [
        "You may iterate over package names:"
      ]
    },
    {
      "cell_type": "code",
      "execution_count": null,
      "metadata": {
        "id": "0IQsa4PJsaLY"
      },
      "outputs": [],
      "source": [
        "# Packages in PyPI starting with 'zai'\n",
        "for package in pypi:\n",
        "    if package[0:3]=='zai':\n",
        "        print(package)"
      ]
    },
    {
      "cell_type": "markdown",
      "metadata": {
        "id": "u3kYILTcsaLc"
      },
      "source": [
        "### 02 - Package properties"
      ]
    },
    {
      "cell_type": "markdown",
      "metadata": {
        "id": "82o09SCGsaLd"
      },
      "source": [
        "Access via *getitem* returns a special view object:"
      ]
    },
    {
      "cell_type": "code",
      "execution_count": null,
      "metadata": {
        "id": "ob1YGHsasaLe"
      },
      "outputs": [],
      "source": [
        "pypi['networkx']"
      ]
    },
    {
      "cell_type": "markdown",
      "metadata": {
        "id": "rb65iGC2saLf"
      },
      "source": [
        "*PackageInfoView* contains methods returning stats for specific packages. For example, direct dependants are other packages that import networkx in their code:"
      ]
    },
    {
      "cell_type": "code",
      "execution_count": null,
      "metadata": {
        "id": "JRtAMr07saLg"
      },
      "outputs": [],
      "source": [
        "print(f\"NetworkX has {len(pypi['networkx'].direct_dependants())} direct dependants\")  "
      ]
    },
    {
      "cell_type": "markdown",
      "metadata": {
        "id": "YJcbDU6xsaLh"
      },
      "source": [
        "Packages may depend on NetworkX not only directly, but also via transitive dependencies:"
      ]
    },
    {
      "cell_type": "markdown",
      "metadata": {
        "id": "OOtCrjuGsaLi"
      },
      "source": [
        "![Dependants and transitive dependants](docs/img/dependants.png \"Transitive dependencies\")  \n",
        "<br>"
      ]
    },
    {
      "cell_type": "code",
      "execution_count": null,
      "metadata": {
        "id": "oirEzrK-saLj"
      },
      "outputs": [],
      "source": [
        "print(f\"NetworkX has {len(pypi['networkx'].transitive_dependants())} transitive dependants (includes direct dependants)\")"
      ]
    },
    {
      "cell_type": "markdown",
      "metadata": {
        "id": "xgKIUCwfsaLk"
      },
      "source": [
        "Packages are returned as sets so we may apply the usual set operators. For example, these packages depend on NetworkX but do not explicitly import it:"
      ]
    },
    {
      "cell_type": "code",
      "execution_count": null,
      "metadata": {
        "scrolled": true,
        "id": "YbCpKSR5saLl"
      },
      "outputs": [],
      "source": [
        "print(pypi['networkx'].transitive_dependants() - pypi['networkx'].direct_dependants())"
      ]
    },
    {
      "cell_type": "markdown",
      "metadata": {
        "id": "l8cgafRusaLm"
      },
      "source": [
        "Lets pick one of them and check its dependencies, the packages on which it depends:"
      ]
    },
    {
      "cell_type": "code",
      "execution_count": null,
      "metadata": {
        "id": "l_HPUEEVsaLm"
      },
      "outputs": [],
      "source": [
        "pypi['nobrainer'].direct_dependencies()"
      ]
    },
    {
      "cell_type": "markdown",
      "metadata": {
        "id": "YAiyd5PKsaLm"
      },
      "source": [
        "NetworkX is not a direct dependency but a transitive one:"
      ]
    },
    {
      "cell_type": "code",
      "execution_count": null,
      "metadata": {
        "id": "JdOUh46usaLn"
      },
      "outputs": [],
      "source": [
        "pypi['nobrainer'].transitive_dependencies()"
      ]
    },
    {
      "cell_type": "markdown",
      "metadata": {
        "id": "1ljA5grqsaLo"
      },
      "source": [
        "### 03 - Package metrics"
      ]
    },
    {
      "cell_type": "markdown",
      "metadata": {
        "id": "6c4f_CDWsaLo"
      },
      "source": [
        "**REACH** of a package *u* is the number of transitive dependents of *u* plus 1."
      ]
    },
    {
      "cell_type": "code",
      "execution_count": null,
      "metadata": {
        "id": "gXPWHo0fsaLp"
      },
      "outputs": [],
      "source": [
        "pypi['networkx'].reach()"
      ]
    },
    {
      "cell_type": "markdown",
      "metadata": {
        "id": "LnI_agm8saLq"
      },
      "source": [
        "REACH represents the number of packages in the network that could be affected by the occurrence of a defect in *u*, like a bug or a security vulnerability. A bug in networkx could affect 590 packages, including NetworkX.\n",
        "\n",
        "You may calculate REACH package by package, as in the previous example. However, this involves many redundant computations and is very slow. OLIVIA provides efficient methods to calculate REACH for all the nodes in the network."
      ]
    },
    {
      "cell_type": "code",
      "execution_count": null,
      "metadata": {
        "id": "mInDd1eksaLr"
      },
      "outputs": [],
      "source": [
        "from olivia.packagemetrics import Reach\n",
        "pypi_reach = pypi.get_metric(Reach)"
      ]
    },
    {
      "cell_type": "markdown",
      "metadata": {
        "id": "4C24jiSGsaLr"
      },
      "source": [
        "*OliviaModel.get_metric(...)* returns a *MetricStats* object with the results of the computation. *get_metric(...)* accepts as parameter classes implementing the *compute()* method, such as the ones in *olivia.packagemetrics*"
      ]
    },
    {
      "cell_type": "code",
      "execution_count": null,
      "metadata": {
        "id": "BJfb92CNsaLs"
      },
      "outputs": [],
      "source": [
        "pypi_reach"
      ]
    },
    {
      "cell_type": "code",
      "execution_count": null,
      "metadata": {
        "id": "lonTGmk7saLt"
      },
      "outputs": [],
      "source": [
        "pypi_reach['networkx']"
      ]
    },
    {
      "cell_type": "markdown",
      "metadata": {
        "id": "1SIBAw0vsaLt"
      },
      "source": [
        "Once calculated through *get_metric*, the *MetricStats* object is cached into the *OliviaNetwork* model. In this way, other complex algorithms that use large metric results are freed from managing each one on their own. \n",
        "\n",
        "So there is really no need to store the results into an independent variable like we did."
      ]
    },
    {
      "cell_type": "code",
      "execution_count": null,
      "metadata": {
        "id": "FzuaCe6fsaLu"
      },
      "outputs": [],
      "source": [
        "pypi_reach = pypi.get_metric(Reach)"
      ]
    },
    {
      "cell_type": "code",
      "execution_count": null,
      "metadata": {
        "id": "wHyDhlQysaLv"
      },
      "outputs": [],
      "source": [
        "pypi.get_metric(Reach)['networkx']"
      ]
    },
    {
      "cell_type": "markdown",
      "metadata": {
        "id": "JscJ6WwUsaLw"
      },
      "source": [
        "The management of the cache is semi-automatic. You can request a value from a network-wide metric that has not yet been calculated and it will be computed and cached the first time:"
      ]
    },
    {
      "cell_type": "code",
      "execution_count": null,
      "metadata": {
        "id": "JeD79q0XsaLw"
      },
      "outputs": [],
      "source": [
        "from olivia.packagemetrics import Impact\n",
        "\n",
        "%time pypi.get_metric(Impact)['networkx']"
      ]
    },
    {
      "cell_type": "code",
      "execution_count": null,
      "metadata": {
        "id": "hx0sbo77saLx"
      },
      "outputs": [],
      "source": [
        "%time pypi.get_metric(Impact)['networkx']"
      ]
    },
    {
      "cell_type": "code",
      "execution_count": null,
      "metadata": {
        "id": "ZUA9bl4msaLy"
      },
      "outputs": [],
      "source": [
        "pypi.get_metric(Impact)['numpy']"
      ]
    },
    {
      "cell_type": "code",
      "execution_count": null,
      "metadata": {
        "id": "70entG8AsaLy"
      },
      "outputs": [],
      "source": [
        "pypi.get_metric(Impact)['matplotlib']"
      ]
    },
    {
      "cell_type": "markdown",
      "metadata": {
        "id": "5fA5uUIDsaLz"
      },
      "source": [
        "By the way, **IMPACT** is an alternative way of measuring the effect of a defect appearing in the network. It corresponds to the number of \"links\" affected (the number of \"imports\" in Python terms), it could be a better measure of the effort required to recover the network. Technically speaking it is the number of arcs in the graph induced by a node and its transitive dependents.\n",
        "\n",
        "On the other hand, **SURFACE** is the size of the set of transitive dependencies plus 1. SURFACE(*u*) is the number of packages whose defects could affect *u*. High SURFACE packages are more vulnerable to random failures."
      ]
    },
    {
      "cell_type": "code",
      "execution_count": null,
      "metadata": {
        "id": "jD3Pv0igsaLz"
      },
      "outputs": [],
      "source": [
        "from olivia.packagemetrics import Surface\n",
        "\n",
        "pypi.get_metric(Surface)['pandas']"
      ]
    },
    {
      "cell_type": "markdown",
      "metadata": {
        "id": "O0fhazDLsaL0"
      },
      "source": [
        "![Package metrics](docs/img/pmetrics.png \"Olivia package metrics\")\n",
        "<br>"
      ]
    },
    {
      "cell_type": "markdown",
      "metadata": {
        "id": "cI58EYUZsaL0"
      },
      "source": [
        "*MetricStats* is not just about storing values. It also has some basic methods that are useful for working with metrics. For example, you can get top and bottom packages according to the metric value:"
      ]
    },
    {
      "cell_type": "code",
      "execution_count": null,
      "metadata": {
        "id": "txWuDMMNsaL1"
      },
      "outputs": [],
      "source": [
        "pypi_reach.top(10)"
      ]
    },
    {
      "cell_type": "code",
      "execution_count": null,
      "metadata": {
        "id": "_urMnUqcsaL1"
      },
      "outputs": [],
      "source": [
        "pypi_reach.bottom()"
      ]
    },
    {
      "cell_type": "code",
      "execution_count": null,
      "metadata": {
        "id": "lmz9An3NsaL2"
      },
      "outputs": [],
      "source": [
        "pypi.get_metric(Surface).top(10)"
      ]
    },
    {
      "cell_type": "markdown",
      "metadata": {
        "id": "2yQDlNY-saL2"
      },
      "source": [
        "As *MetricStats* implements arithmetic operators, you may define compound metrics or other operations like corrections or normalization:"
      ]
    },
    {
      "cell_type": "code",
      "execution_count": null,
      "metadata": {
        "id": "ydf6fOu0saL2"
      },
      "outputs": [],
      "source": [
        "normalized_reach = pypi.get_metric(Reach)/len(pypi)\n",
        "normalized_reach.top(10)"
      ]
    },
    {
      "cell_type": "markdown",
      "metadata": {
        "id": "zwIBIpXssaL3"
      },
      "source": [
        "and there we can see that a failure in *six* could affect more than 40% of the packets in the network.\n",
        "\n",
        "Likewise, if we normalize SURFACE in relation to the size of the network, we obtain the probability that a uniformly random failure will affect each package:\n"
      ]
    },
    {
      "cell_type": "code",
      "execution_count": null,
      "metadata": {
        "id": "RFM-WDnssaL4"
      },
      "outputs": [],
      "source": [
        "(pypi.get_metric(Surface)/len(pypi)).top(10)"
      ]
    },
    {
      "cell_type": "markdown",
      "metadata": {
        "id": "jUM-Zf6BsaL5"
      },
      "source": [
        "Some examples of compound metrics:"
      ]
    },
    {
      "cell_type": "code",
      "execution_count": null,
      "metadata": {
        "id": "CsRfPuLPsaL6"
      },
      "outputs": [],
      "source": [
        "from olivia.packagemetrics import DependentsCount\n",
        "\n",
        "mean_degree = pypi.get_metric(DependentsCount).values.mean()\n",
        "degree_divergence = (pypi.get_metric(DependentsCount)-mean_degree)**2\n",
        "degree_divergence.top(5)"
      ]
    },
    {
      "cell_type": "code",
      "execution_count": null,
      "metadata": {
        "id": "UYwAqqVhsaL7"
      },
      "outputs": [],
      "source": [
        "# Impact / Reach ratio\n",
        "(pypi.get_metric(Impact)/pypi.get_metric(Reach)).top(5)"
      ]
    },
    {
      "cell_type": "markdown",
      "metadata": {
        "id": "EwSRsCfqsaL8"
      },
      "source": [
        "### 04 - Custom models"
      ]
    },
    {
      "cell_type": "markdown",
      "metadata": {
        "id": "4ig5UQ6QsaL8"
      },
      "source": [
        "An *OliviaNetwork* model can be built from a text file with package dependencies in adjacency list format. You may provide compressed GZIP or BZ2 files."
      ]
    },
    {
      "cell_type": "code",
      "execution_count": null,
      "metadata": {
        "id": "tw0vhqO1saL8"
      },
      "outputs": [],
      "source": [
        "net = OliviaNetwork()\n",
        "net.build_model(r'data/pypi-dependencies-net-2020-01-12.bz2')"
      ]
    },
    {
      "cell_type": "code",
      "execution_count": null,
      "metadata": {
        "id": "DLWuuoX8saL9"
      },
      "outputs": [],
      "source": [
        "net.get_metric(Reach).top(10)"
      ]
    },
    {
      "cell_type": "markdown",
      "metadata": {
        "id": "4aRjAwWCsaL-"
      },
      "source": [
        " *build_model(...)* also accepts an arbitrary NetworkX directed network as input:"
      ]
    },
    {
      "cell_type": "code",
      "execution_count": null,
      "metadata": {
        "id": "LKrZKt7fsaL-"
      },
      "outputs": [],
      "source": [
        "import networkx as nx\n",
        "net = OliviaNetwork()\n",
        "net.build_model(nx.path_graph(5, create_using=nx.DiGraph))"
      ]
    },
    {
      "cell_type": "code",
      "execution_count": null,
      "metadata": {
        "id": "m6AMOyCDsaL_"
      },
      "outputs": [],
      "source": [
        "net.get_metric(Reach).top(5)"
      ]
    },
    {
      "cell_type": "markdown",
      "metadata": {
        "id": "BmaUL8IWsaMA"
      },
      "source": [
        "'network' property is a reference to a NetworkX (https://networkx.org/) DiGraph object representing the dependency structure:"
      ]
    },
    {
      "cell_type": "markdown",
      "metadata": {
        "id": "Z9h49eTlsaMA"
      },
      "source": [
        "Once built, models may be saved with *OliviaNetwork.save(filename)* method. Files are GZIP compressed and also store the cached metrics."
      ]
    },
    {
      "cell_type": "code",
      "execution_count": null,
      "metadata": {
        "id": "dMrm6c5osaMB"
      },
      "outputs": [],
      "source": []
    },
    {
      "cell_type": "markdown",
      "metadata": {
        "id": "vMNf9yLNVonC"
      },
      "source": [
        "\n",
        "## B - Analysis\n",
        "\n",
        "[01 - Coupling](#01---Coupling)&ensp;|&ensp;[02 - Strongly connected components](#02---Strongly-connected-components)&ensp;|&ensp;[03 - Network vulnerability](#03---Network-vulnerability)"
      ]
    },
    {
      "cell_type": "markdown",
      "source": [
        "Simply saying that one package depends transitively on another does not tell the whole story. A defect in one package can affect another in different ways, depending on the structure of the network."
      ],
      "metadata": {
        "id": "Am5nDem1cAeX"
      }
    },
    {
      "cell_type": "markdown",
      "source": [
        "### 01 - Coupling"
      ],
      "metadata": {
        "id": "LI7rtP35XF3p"
      }
    },
    {
      "cell_type": "code",
      "execution_count": null,
      "metadata": {
        "id": "hlM6m8ReVonD"
      },
      "outputs": [],
      "source": [
        "from olivia.model import OliviaNetwork\n",
        "\n",
        "pypi = OliviaNetwork(r'data/pypi-2020-01-12.olv')"
      ]
    },
    {
      "cell_type": "markdown",
      "metadata": {
        "id": "NH6CCPV0VonH"
      },
      "source": [
        "Let's choose a simple case study.\n",
        "\n",
        "*spaCy* (https://spacy.io/) is an open-source software library for advanced natural language processing."
      ]
    },
    {
      "cell_type": "code",
      "execution_count": null,
      "metadata": {
        "id": "33xUi0_PVonH"
      },
      "outputs": [],
      "source": [
        "pypi['spacy'].direct_dependencies()"
      ]
    },
    {
      "cell_type": "markdown",
      "metadata": {
        "id": "GkVE1Cm8VonI"
      },
      "source": [
        "*spaCy* employs 25 direct dependencies. These are the ones that the developers have explicitly imported, for example *requests*, a useful HTTP library. It should be clear to them that they take a risk by using *requests*. If it disappear, or include a bug or a vulnerability that their developers don't fix, the *spaCy* developers will have a problem. They would have to look for alternatives or perhaps directly implement the *requests* functionality.\n",
        "\n",
        "However, *spaCy* indirectly depends on more packages:"
      ]
    },
    {
      "cell_type": "code",
      "execution_count": null,
      "metadata": {
        "id": "WI8C6REXVonI"
      },
      "outputs": [],
      "source": [
        "len(pypi['spacy'].transitive_dependencies())"
      ]
    },
    {
      "cell_type": "markdown",
      "metadata": {
        "id": "hOBVn7jGVonJ"
      },
      "source": [
        "So there are not 25 but 73 packages that can cause trouble.  This is a fact that many developers may be aware of, although it is maybe not generally considered seriously enough.\n",
        "\n",
        "There is however another more elusive phenomenon. This is the fact that a single failure in a transitive dependency can affect several direct dependencies, if the latter depend in turn on the first. So *spaCy* does not depend equally on all its transitive dependencies.\n",
        "\n",
        "**Transitive coupling** is the number of direct dependencies that would be affected by the failure of one specific transitive dependency. Observe for example the following figure, where a defect in *u* will affect 3 of the 4 direct dependencies of *v*:"
      ]
    },
    {
      "cell_type": "markdown",
      "metadata": {
        "id": "IbqmGo-KVonJ"
      },
      "source": [
        "<br>\n",
        "\n",
        "![Transitive coupling](docs/img/trancoup.png \"Transitive coupling\")  \n",
        "\n",
        "<br>"
      ]
    },
    {
      "cell_type": "code",
      "execution_count": null,
      "metadata": {
        "id": "4Qwjw70fVonK"
      },
      "outputs": [],
      "source": [
        "from olivia.coupling import *\n",
        "\n",
        "transitive_coupling(pypi,'six','spacy')"
      ]
    },
    {
      "cell_type": "markdown",
      "metadata": {
        "id": "S_ipNWBKVonK"
      },
      "source": [
        "There it is. The failure of *six* does not only affect one direct dependency, but four. Which ones? We call this set the **coupling interface** of *six* over *spaCy*."
      ]
    },
    {
      "cell_type": "code",
      "execution_count": null,
      "metadata": {
        "id": "OYyyYxQPVonL"
      },
      "outputs": [],
      "source": [
        "coupling_interface(pypi,'six','spacy')"
      ]
    },
    {
      "cell_type": "markdown",
      "metadata": {
        "id": "zIgmd6VTVonL"
      },
      "source": [
        "So let's consider that *six* changes its MIT license for a more restrictive one. Its transitional dependents in turn are forced to upgrade and ultimately *ftfy*, *html5lib*, *thinc* also change their software licenses.  If *spaCY* cannot or do not want to comply with this new model, it has to look for alternatives for *six* and also *ftfy*, *html5lib* and *thinc*. \n",
        "\n",
        "This change of license in *six* could also have been a shift in functionality, the removal of certain certification, a bug, a security problem... Transitive coupling is a measure of the potential effort needed to fix *spaCY* if *six* fails. Note that the sum of transitive couplings of a package with all its transitive dependants equals the IMPACT metric.\n",
        "\n",
        "Finally, OLIVIA provides a method for computing all the transitive interfaces of transitive dependencies of a package over it. This is an indexed family of sets that we call **coupling profile**:\n"
      ]
    },
    {
      "cell_type": "code",
      "execution_count": null,
      "metadata": {
        "scrolled": true,
        "id": "XxzuRUwJVonM"
      },
      "outputs": [],
      "source": [
        "coupling_profile(pypi,'spacy')"
      ]
    },
    {
      "cell_type": "markdown",
      "metadata": {
        "id": "m04yRtXsVonM"
      },
      "source": [
        "The frequency histogram of transitive coupling values for a package is an interesting view of the structure of dependencies:"
      ]
    },
    {
      "cell_type": "code",
      "execution_count": null,
      "metadata": {
        "id": "vogrx9q3VonM"
      },
      "outputs": [],
      "source": [
        "# Requires Matplotlib installed\n",
        "import matplotlib.pyplot as plt\n",
        "import numpy as np\n",
        "\n",
        "cp = coupling_profile(pypi,'spacy')\n",
        "ls = [len(cp[l]) for l in cp]\n",
        "bins = np.arange(0, max(ls) + 1.5) - 0.5\n",
        "plt.hist(ls,bins,color='black',histtype='stepfilled')\n",
        "plt.xlabel('Transitive coupling')\n",
        "plt.ylabel('Number of transitive dependencies')\n",
        "plt.title('package: spacy')"
      ]
    },
    {
      "cell_type": "markdown",
      "metadata": {
        "id": "sgHtWqjdVonM"
      },
      "source": [
        "You may also access coupling methods via *PackageInfoView*:"
      ]
    },
    {
      "cell_type": "code",
      "execution_count": null,
      "metadata": {
        "id": "lZs_oGZ4VonN"
      },
      "outputs": [],
      "source": [
        "pypi['spacy'].coupling_interface_from('six')"
      ]
    },
    {
      "cell_type": "code",
      "execution_count": null,
      "metadata": {
        "id": "6mYPjwPmVonN"
      },
      "outputs": [],
      "source": [
        "pypi['six'].coupling_interface_to('spacy')"
      ]
    },
    {
      "cell_type": "code",
      "execution_count": null,
      "metadata": {
        "scrolled": true,
        "id": "pt6VPjIVVonN"
      },
      "outputs": [],
      "source": [
        "pypi['spacy'].coupling_profile()"
      ]
    },
    {
      "cell_type": "markdown",
      "metadata": {
        "id": "ovUPzt7YVonO"
      },
      "source": [
        "### 02 - Strongly connected components"
      ]
    },
    {
      "cell_type": "markdown",
      "source": [
        "An strongly connected component (SCC) is a set of packages where each one depends transitively on every one else. So a defect in any package or in any dependency of any package in the SCC could affect the whole SCC.\n",
        "\n",
        "A simple cycle of dependencies creates an SCC, but there can be much more complicated ones.\n",
        "\n",
        "This is an example of a simple SCC:"
      ],
      "metadata": {
        "id": "m_-Sq4hsbAaC"
      }
    },
    {
      "cell_type": "markdown",
      "metadata": {
        "id": "JWY1e9O9VonO"
      },
      "source": [
        "<br>\n",
        "\n",
        "![SCC](docs/img/scc.png \"Strongly connected component\")  \n",
        "\n",
        "<br>"
      ]
    },
    {
      "cell_type": "markdown",
      "metadata": {
        "id": "u4Zdo9SOVonO"
      },
      "source": [
        "As OLIVIA internally uses the precomputed structure of SCCs of the dependency network, you can iterate immediatly over SCCs: "
      ]
    },
    {
      "cell_type": "code",
      "execution_count": null,
      "metadata": {
        "id": "wnTk1IFIVonO"
      },
      "outputs": [],
      "source": [
        "scc_iterator = pypi.sccs()\n",
        "print(next(scc_iterator))\n",
        "print(next(scc_iterator))\n",
        "print(next(scc_iterator))\n",
        "print(\"...\")"
      ]
    },
    {
      "cell_type": "markdown",
      "metadata": {
        "id": "64ivPMgjVonO"
      },
      "source": [
        "Each package forms its own SCC. PyPI has some small SCCs of size greater than one. These are the most interesting so OLIVIA provides a way of getting a list of SCCs in size order:"
      ]
    },
    {
      "cell_type": "code",
      "execution_count": null,
      "metadata": {
        "id": "fCmYuFwFVonP"
      },
      "outputs": [],
      "source": [
        "pypi.sorted_clusters()[:10]"
      ]
    },
    {
      "cell_type": "markdown",
      "metadata": {
        "id": "DiZLi_qmVonP"
      },
      "source": [
        "It is also possible to query which SCC a package belongs to, via PackageInfoView:"
      ]
    },
    {
      "cell_type": "code",
      "execution_count": null,
      "metadata": {
        "id": "LD7SPRcjVonP"
      },
      "outputs": [],
      "source": [
        "pypi['indb'].scc()"
      ]
    },
    {
      "cell_type": "markdown",
      "metadata": {
        "id": "rMwV2v71VonP"
      },
      "source": [
        "It turns out that some networks have much larger SCCs"
      ]
    },
    {
      "cell_type": "code",
      "execution_count": null,
      "metadata": {
        "id": "ATVh0MQHVonP"
      },
      "outputs": [],
      "source": [
        "maven = OliviaNetwork(r'data/maven-2020-01-12.olv')"
      ]
    },
    {
      "cell_type": "markdown",
      "metadata": {
        "id": "fApI0tdyVonP"
      },
      "source": [
        "Maven Central, the package repository for Java (https://mvnrepository.com/) has a SCC of almost a thousand packages:"
      ]
    },
    {
      "cell_type": "code",
      "execution_count": null,
      "metadata": {
        "id": "WbvtEHBRVonQ"
      },
      "outputs": [],
      "source": [
        "len(maven.sorted_clusters()[0])"
      ]
    },
    {
      "cell_type": "markdown",
      "metadata": {
        "id": "eFTug8gMVonQ"
      },
      "source": [
        "### 03 - Network vulnerability"
      ]
    },
    {
      "cell_type": "markdown",
      "metadata": {
        "id": "fVjfGY5OVonQ"
      },
      "source": [
        "The vulnerability of the dependency network of software packages measures how sensitive the repository is to the random introduction of defects.\n",
        "\n",
        "It is the average of some cost function over all the packages in the network, so it equals the expected cost of a random failure o defect, assuming a uniform failure probability.\n",
        "\n",
        "We may use REACH as one of such cost functions. In this case, the vulnerability value would represent the expected number of packages potentially affected by a random failure.\n",
        "\n",
        "The following figure shows several examples of simple networks with node values for REACH (R) and IMPACT (I) and below the corresponding REACH and IMPACT-vulnerability (preceded by the letter $\\varphi$)"
      ]
    },
    {
      "cell_type": "markdown",
      "metadata": {
        "id": "BTTRA4yPVonQ"
      },
      "source": [
        "<br>\n",
        "\n",
        "![Transitive coupling](docs/img/vulnerabilidad.png \"Transitive coupling\")  \n",
        "\n",
        "<br>"
      ]
    },
    {
      "cell_type": "code",
      "execution_count": null,
      "metadata": {
        "id": "ddcuJgohVonQ"
      },
      "outputs": [],
      "source": [
        "from olivia.networkmetrics import *\n",
        "\n",
        "failure_vulnerability(pypi)"
      ]
    },
    {
      "cell_type": "markdown",
      "metadata": {
        "id": "n3nAqO0UVonR"
      },
      "source": [
        "*failure_vulnerability* assumes REACH as cost function. As this model does not have a REACH cached, it is computed on the fly.  The calculation uses exact cost function values for each package in the network.  usually these functions have extremely skewed distributions, so average value is hard to sample.\n",
        "\n",
        "PyPI has a REACH-vulnerability of about 16. This means that a random bug in a package could propagate in average to other 15 packages.\n",
        "\n",
        "Maven is much more vulnerable to random failures, due to the presence of a significant size SCC."
      ]
    },
    {
      "cell_type": "code",
      "execution_count": null,
      "metadata": {
        "id": "ML2h-y7TVonR"
      },
      "outputs": [],
      "source": [
        "failure_vulnerability(maven)"
      ]
    },
    {
      "cell_type": "code",
      "execution_count": null,
      "metadata": {
        "id": "-R_Q-4noVonS"
      },
      "outputs": [],
      "source": [
        "len(maven)"
      ]
    },
    {
      "cell_type": "markdown",
      "metadata": {
        "id": "VrJglMp0VonS"
      },
      "source": [
        "Even considering the size difference, this is much worse that PyPI. At least other network, npm (https://www.npmjs.com/), the repository of Node.js, has even bigger relative values."
      ]
    },
    {
      "cell_type": "markdown",
      "metadata": {
        "id": "GYDp7c72VonS"
      },
      "source": [
        "Other cost functions provide different perspectives on network vulnerability:"
      ]
    },
    {
      "cell_type": "code",
      "execution_count": null,
      "metadata": {
        "id": "LMBILelLVonS"
      },
      "outputs": [],
      "source": [
        "from olivia.packagemetrics import Impact\n",
        "\n",
        "failure_vulnerability(pypi, metric=Impact)"
      ]
    },
    {
      "cell_type": "markdown",
      "metadata": {
        "id": "ZG7DupPVVonS"
      },
      "source": [
        "A single random failure on PyPI causes a expected potential value of 23 individual dependencies to fix. As REACH-vulnerability could reflect the propagation of defects, IMPACT-vulnerability gives an idea of the average effort needed to recover the network."
      ]
    },
    {
      "cell_type": "markdown",
      "metadata": {
        "id": "OCCaQyDOX5_k"
      },
      "source": [
        "\n",
        "## C - Immunization\n",
        "[01 - Immunization Delta](#01---Immunization-Delta)&ensp;|&ensp;[02 - Subcritical networks](#02---Selecting-Immunization-targets---Subcritical-networks)&ensp;|&ensp;[03 - Supercritical networks](#03---Selecting-Immunization-targets---Supercritical-networks)&ensp;|&ensp;[03 - Advanced](#03---Selecting-Immunization-targets---Advanced)"
      ]
    },
    {
      "cell_type": "markdown",
      "source": [
        "The vulnerability of package repositories can be lowered if we protect (immunize) certain packages against failure and propagation of failure. For example, we could subject a package or set of packages to very strict quality controls, security audits or even contractually shield certain non-functional requirements, such as the type of license. All this comes at a cost and it would be good to know which package sets are most cost-effective for reducing the vulnerability."
      ],
      "metadata": {
        "id": "TqcN5wjQbLJp"
      }
    },
    {
      "cell_type": "markdown",
      "source": [
        "### 01 - Immunization Delta\n"
      ],
      "metadata": {
        "id": "rqztuT6HX1yt"
      }
    },
    {
      "cell_type": "markdown",
      "source": [
        "Immunization Delta is the decrease in vulnerability of a network after immunizing a given set of packages. Take for example the following figure, which shows three simple network models and possible immunization sets (black nodes). Under each option the REACH and IMPACT-vulnerability and the corresponding immunization delta are shown."
      ],
      "metadata": {
        "id": "JIsVKimVbcOI"
      }
    },
    {
      "cell_type": "markdown",
      "metadata": {
        "id": "ePMd-0jrX5_l"
      },
      "source": [
        "<br>\n",
        "\n",
        "![Inmunization](docs/img/inmunizacion.png \"Simple inmunization examples\")  \n",
        "\n",
        "<br>"
      ]
    },
    {
      "cell_type": "code",
      "execution_count": null,
      "metadata": {
        "id": "KEjnAJ4ZX5_l"
      },
      "outputs": [],
      "source": [
        "from olivia.model import OliviaNetwork\n",
        "from olivia.immunization import *\n",
        "\n",
        "pypi = OliviaNetwork(r'data/pypi-2020-01-12.olv')"
      ]
    },
    {
      "cell_type": "code",
      "execution_count": null,
      "metadata": {
        "id": "OzrJ8p1PX5_m"
      },
      "outputs": [],
      "source": [
        "failure_vulnerability(pypi)"
      ]
    },
    {
      "cell_type": "code",
      "execution_count": null,
      "metadata": {
        "id": "GfPl_c85X5_m"
      },
      "outputs": [],
      "source": [
        "immunization_delta(pypi,{'numpy','pandas','matplotlib'})"
      ]
    },
    {
      "cell_type": "markdown",
      "metadata": {
        "id": "M5En_xf3X5_n"
      },
      "source": [
        "By immunizing this set of three well known Python packages, we reduce the REACH-vulnerability by 0.20, i.e we reduce  by 0.20 the expected amount of potentially affected packages by a random failure (from 15.73 to 15.53). It is not a drastic reduction, but it is not bad either, for working only on three packages of about 50000.\n",
        "\n",
        "The default algorithm of *immunizacion_delta(...)* is called *'network'*. It computes the cost function network-wide, immunizes the target set of packages provided, rebuilds the model, computes the cost function again and returns the diference in vulnerability. In the previous code example, you may notice that the first calculation was retrieved from the model's cache, as we had computed REACH just before by calling *failure_vulnerability(pypi)*.\n",
        "\n",
        "This does not seem to be a particularly efficient method and indeed it is not. However, it is not clear that a better technique exists for calculating the immunization delta of arbitrary sets and cost functions.\n",
        "\n",
        "\n",
        "For the particular case of the REACH cost function, OLIVIA provides another algorithm for the immunization delta computation, *'analytic'*. In this case, the entire network is not processed. A mathematical formulation that only considers the packages transitively related to the target set is used to analytically calculate the vulnerability reduction associated with its immunization. This can be way faster for certain type of immunization sets, but in large complex networks it is often not the case, and the *'network'* method is time-bound and better.\n",
        "\n",
        "The two methods are exact but there may be small differences due to rounding."
      ]
    },
    {
      "cell_type": "code",
      "execution_count": null,
      "metadata": {
        "id": "tFrj2D4-X5_n"
      },
      "outputs": [],
      "source": [
        "target = {'networkx','spacy'}"
      ]
    },
    {
      "cell_type": "code",
      "execution_count": null,
      "metadata": {
        "id": "txUfsL50X5_o"
      },
      "outputs": [],
      "source": [
        "%time immunization_delta(pypi, target)"
      ]
    },
    {
      "cell_type": "code",
      "execution_count": null,
      "metadata": {
        "id": "vuBvyH5ZX5_p"
      },
      "outputs": [],
      "source": [
        "%time immunization_delta(pypi, target, algorithm='analytic')"
      ]
    },
    {
      "cell_type": "markdown",
      "metadata": {
        "id": "iol5dS_MX5_p"
      },
      "source": [
        "Of course you may be interested on computing immunizacion delta according to another cost metric:"
      ]
    },
    {
      "cell_type": "code",
      "execution_count": null,
      "metadata": {
        "id": "Vi3wylBaX5_q"
      },
      "outputs": [],
      "source": [
        "immunization_delta(pypi,{'numpy','pandas','matplotlib'}, cost_metric = Impact)"
      ]
    },
    {
      "cell_type": "markdown",
      "metadata": {
        "id": "iHAacRknX5_q"
      },
      "source": [
        "Notice how we needed to compute IMPACT twice. However the values for the original network are cached and will be reused in subsequent queries:"
      ]
    },
    {
      "cell_type": "code",
      "execution_count": null,
      "metadata": {
        "id": "atIS4i_3X5_q"
      },
      "outputs": [],
      "source": [
        "immunization_delta(pypi,{'six'}, cost_metric = Impact)"
      ]
    },
    {
      "cell_type": "markdown",
      "metadata": {
        "id": "gI4RAX4CX5_r"
      },
      "source": [
        "### 02 - Selecting Immunization targets - Subcritical networks"
      ]
    },
    {
      "cell_type": "markdown",
      "source": [
        "OLIVIA includes tools to help locate good immunization sets in package dependency networks. \n",
        "\n",
        "Subcritical networks do not have many dependency cycles, and the largest strongly connected component (SCC) is small, logarithmic in relation to the size of the repository. PyPI is subcritical.\n",
        "\n",
        "From here on we will deal with REACH-vulnerability unless we note otherwise.\n",
        "\n",
        "¿How effective is to immunize random packages?"
      ],
      "metadata": {
        "id": "1kqtFa2Nbjjt"
      }
    },
    {
      "cell_type": "code",
      "execution_count": null,
      "metadata": {
        "id": "okBiTBNTX5_r"
      },
      "outputs": [],
      "source": [
        "failure_vulnerability(pypi)"
      ]
    },
    {
      "cell_type": "code",
      "execution_count": null,
      "metadata": {
        "id": "0DeixcKWX5_r"
      },
      "outputs": [],
      "source": [
        "immunization_delta(pypi, iset_random(pypi, 20), algorithm='analytic')"
      ]
    },
    {
      "cell_type": "markdown",
      "metadata": {
        "id": "sd52iRqHX5_s"
      },
      "source": [
        "*iset_...* methods from *olivia.immunization* produce sets of packages intended as immunization targets. *iset_random(...)* is really more like a baseline tool, selecting uniformly arbitrary ones. The immunization of 20 random packages does not seem to do much for decreasing the vulnerability (-0.0066 out of 15.73 in this case)"
      ]
    },
    {
      "cell_type": "code",
      "execution_count": null,
      "metadata": {
        "id": "DHazYFXmX5_s"
      },
      "outputs": [],
      "source": [
        "immunization_delta(pypi, iset_random(pypi, 1000), algorithm='analytic')"
      ]
    },
    {
      "cell_type": "markdown",
      "metadata": {
        "id": "AF7japYGX5_s"
      },
      "source": [
        "Although appreciable, the immunization of 1000 random packages does not look spectacular either. *iset_random(...)* also provides an option to make an indirect selection, that is select randomly chosen dependencies of randomly chosen packages. This is a well known immunization tactic from Network Science, often used to exemplify advanced vaccination strategies. In this case it is also much better that pure random selection."
      ]
    },
    {
      "cell_type": "code",
      "execution_count": null,
      "metadata": {
        "id": "7FQklKWZX5_s"
      },
      "outputs": [],
      "source": [
        "immunization_delta(pypi, iset_random(pypi, 20, indirect=True), algorithm='analytic')"
      ]
    },
    {
      "cell_type": "markdown",
      "metadata": {
        "id": "7cbyTrqdX5_s"
      },
      "source": [
        "If we look at it, this indirect strategy is in fact a probabilistic approach to selection based on the number of dependents. Here we can just try the exact approach:"
      ]
    },
    {
      "cell_type": "code",
      "execution_count": null,
      "metadata": {
        "id": "WEqeivSgX5_t"
      },
      "outputs": [],
      "source": [
        "target = pypi.get_metric(DependentsCount).top(20)\n",
        "target"
      ]
    },
    {
      "cell_type": "code",
      "execution_count": null,
      "metadata": {
        "id": "2DQ6djGXX5_t"
      },
      "outputs": [],
      "source": [
        "immunization_delta(pypi, {l[0] for l in target}, algorithm='analytic')"
      ]
    },
    {
      "cell_type": "markdown",
      "metadata": {
        "id": "Kgh-h_7BX5_t"
      },
      "source": [
        "*iset_naive_ranking(...)* is a shortcut to select a set of nodes based simply on a ranking over a metricStats object:"
      ]
    },
    {
      "cell_type": "code",
      "execution_count": null,
      "metadata": {
        "id": "Kty9XB5FX5_u"
      },
      "outputs": [],
      "source": [
        "immunization_delta(pypi, \n",
        "                   iset_naive_ranking(20, pypi.get_metric(DependentsCount)),\n",
        "                   algorithm='analytic')"
      ]
    },
    {
      "cell_type": "markdown",
      "metadata": {
        "id": "ci14li8zX5_u"
      },
      "source": [
        "Choosing the 20 packages with higher count of direct dependants is even better that indirect selection. Now we achieve a vulnerability reduction of near a third, acting only on 20 out of 50.000 packages.\n",
        "\n",
        "If we want to reduce REACH-vulnerability, a simple idea to consider could be to immunize the nodes with the greatest REACH value. It is somewhat surprising that this strategy is worse than the dependants count based one:"
      ]
    },
    {
      "cell_type": "code",
      "execution_count": null,
      "metadata": {
        "id": "OZX8MFZsX5_u"
      },
      "outputs": [],
      "source": [
        "immunization_delta(pypi, \n",
        "                   iset_naive_ranking(20, pypi.get_metric(Reach)),\n",
        "                   algorithm='analytic')"
      ]
    },
    {
      "cell_type": "markdown",
      "metadata": {
        "id": "CgzsyDjHX5_u"
      },
      "source": [
        "In addition to ranking methods, OLIVIA provides some specific techniques to find good targets. *iset_delta_set_reach(...)* computes a set of nodes that meets certain theoretical constraints on REACH and SURFACE values to ensure that it contains the best single node to immunize from the network. It is possible that the set contains other good targets.\n",
        "\n",
        "The size of the delta set is given by the algorithm. For PyPI it is really small, of only 18 packages."
      ]
    },
    {
      "cell_type": "code",
      "execution_count": null,
      "metadata": {
        "id": "h-1ft0QIX5_u"
      },
      "outputs": [],
      "source": [
        "delta_set = iset_delta_set_reach(pypi)\n",
        "print(delta_set)"
      ]
    },
    {
      "cell_type": "code",
      "execution_count": null,
      "metadata": {
        "id": "46aA_KqBX5_u"
      },
      "outputs": [],
      "source": [
        "immunization_delta(pypi, delta_set, algorithm='analytic')"
      ]
    },
    {
      "cell_type": "markdown",
      "metadata": {
        "id": "8GEuEgGSX5_v"
      },
      "source": [
        "This is our best result so far, a 6.40 out of 15.73 (41%) decrease in vulnerability by immunizing 18 packages."
      ]
    },
    {
      "cell_type": "markdown",
      "metadata": {
        "id": "i3UYf6pYX5_v"
      },
      "source": [
        "Of course we can also rank the results within the delta set for finding smaller sets:"
      ]
    },
    {
      "cell_type": "code",
      "execution_count": null,
      "metadata": {
        "id": "SVOze5syX5_v"
      },
      "outputs": [],
      "source": [
        "smaller = iset_naive_ranking(4, pypi.get_metric(DependentsCount), subset = delta_set)\n",
        "print(smaller)\n",
        "immunization_delta(pypi, smaller, algorithm='analytic')"
      ]
    },
    {
      "cell_type": "markdown",
      "metadata": {
        "id": "F-FEM1SrX5_v"
      },
      "source": [
        "### 03 - Selecting Immunization targets - Supercritical networks"
      ]
    },
    {
      "cell_type": "markdown",
      "metadata": {
        "id": "wcB6E9YcX5_w"
      },
      "source": [
        "Supercritical packet dependency networks are those that contain a strongly connected (SCC) component of significant size. Maven is one of them."
      ]
    },
    {
      "cell_type": "code",
      "execution_count": null,
      "metadata": {
        "id": "vGqwh6MhX5_w"
      },
      "outputs": [],
      "source": [
        "maven = OliviaNetwork(r'data/maven-2020-01-12.olv')"
      ]
    },
    {
      "cell_type": "markdown",
      "metadata": {
        "id": "_fHnWbG-X5_w"
      },
      "source": [
        "Supercritical networks are much more vulnerable, because the big SCC contributes greatly to the propagation of defects."
      ]
    },
    {
      "cell_type": "code",
      "execution_count": null,
      "metadata": {
        "id": "Jus7fHARX5_w"
      },
      "outputs": [],
      "source": [
        "failure_vulnerability(maven)"
      ]
    },
    {
      "cell_type": "markdown",
      "metadata": {
        "id": "pd3cyE5eX5_w"
      },
      "source": [
        "Lets see what happens if we immunize the delta set for Maven:"
      ]
    },
    {
      "cell_type": "code",
      "execution_count": null,
      "metadata": {
        "id": "zxYgeou4X5_w"
      },
      "outputs": [],
      "source": [
        "maven_delta_set = iset_delta_set_reach (maven)\n",
        "immunization_delta(maven, maven_delta_set)"
      ]
    },
    {
      "cell_type": "markdown",
      "metadata": {
        "id": "XEtIfthLX5_x"
      },
      "source": [
        "We reduced the vulnerability of Maven by 1800!. This means that before immunization, the failure of a single package could affect an average of 1805 other packages. After immunization, this number is 5 (five packages).\n",
        "\n",
        "However, there is a catch."
      ]
    },
    {
      "cell_type": "code",
      "execution_count": null,
      "metadata": {
        "id": "X1UA3DIYX5_x"
      },
      "outputs": [],
      "source": [
        "len(maven_delta_set)"
      ]
    },
    {
      "cell_type": "markdown",
      "metadata": {
        "id": "zaxoXg5aX5_x"
      },
      "source": [
        "In supercrítical networks, the delta set is larger. Here it represent aproximately 5% of the network (was 0.04% in PyPI). In fact, the delta set is not very useful in supercritical networks, as it usually contains the largest SCC, which is the real cause of the high vulnerability.\n",
        "\n",
        "*iset_sap(...)* computes an immunization set by detecting the strong articulation points (SAP) of the biggest SCC in the network. SAPs are packages whose immunization is likely to contribute to the break-up of the SCC, reducing its ability to spread defects."
      ]
    },
    {
      "cell_type": "code",
      "execution_count": null,
      "metadata": {
        "id": "uU-OhVrHX5_x"
      },
      "outputs": [],
      "source": [
        "sap = iset_sap(maven)\n",
        "\n",
        "immunization_delta(maven, sap)"
      ]
    },
    {
      "cell_type": "code",
      "execution_count": null,
      "metadata": {
        "id": "-1S-kMONX5_x"
      },
      "outputs": [],
      "source": [
        "len(sap)"
      ]
    },
    {
      "cell_type": "markdown",
      "metadata": {
        "id": "GiuZ3yUYX5_x"
      },
      "source": [
        "SAP is much smaller (0.28%), and still achieves a reduction in vulnerability of near 94%\n",
        "\n",
        "Note that here we have not used the 'analityc' method for the calculation of the immunization delta, since sets are larger and it could be really slow.\n",
        "\n",
        "Ranking on the SAP set gives us a tool for finding smaller sets:"
      ]
    },
    {
      "cell_type": "code",
      "execution_count": null,
      "metadata": {
        "id": "KTbLKdZxX5_x"
      },
      "outputs": [],
      "source": [
        "immunization_delta(maven, iset_naive_ranking(100, maven.get_metric(DependentsCount), subset=sap))"
      ]
    },
    {
      "cell_type": "markdown",
      "metadata": {
        "id": "HnPXYOR7X5_y"
      },
      "source": [
        "Notice that the SAP approach is completely innefective in subcritical networks"
      ]
    },
    {
      "cell_type": "code",
      "execution_count": null,
      "metadata": {
        "id": "51NaugAeX5_y"
      },
      "outputs": [],
      "source": [
        "immunization_delta(pypi, iset_sap(pypi), algorithm='analytic')"
      ]
    },
    {
      "cell_type": "markdown",
      "metadata": {
        "id": "1PcmXCYsX5_y"
      },
      "source": [
        "Even the immunization of the largest SCC in full has a negligible effect on the network's vulnerability"
      ]
    },
    {
      "cell_type": "code",
      "execution_count": null,
      "metadata": {
        "id": "K3Yr-CN8X5_y"
      },
      "outputs": [],
      "source": [
        "immunization_delta(pypi, pypi.sorted_clusters()[0], algorithm='analytic')"
      ]
    },
    {
      "cell_type": "markdown",
      "metadata": {
        "id": "FbuF8mYdX5_y"
      },
      "source": [
        "### 04 - Selecting Immunization targets - Advanced"
      ]
    },
    {
      "cell_type": "markdown",
      "source": [
        "Calculating the immunization delta is computationally expensive and the problem of selecting an optimal immunization set of a given size is mathematically intractable for large repositories.\n",
        "\n",
        "In this guide we have used PyPI and Maven, but there are much larger networks, such as npm with over a million packages.\n",
        "\n",
        "We will now give some ideas of additional techniques that can be used for the heuristic exploration of the problem."
      ],
      "metadata": {
        "id": "MeZKGBcNbw4r"
      }
    },
    {
      "cell_type": "markdown",
      "metadata": {
        "id": "YDUMidNbX5_z"
      },
      "source": [
        "#### Manipulating immunization sets"
      ]
    },
    {
      "cell_type": "markdown",
      "metadata": {
        "id": "MDOUqzFeX5_z"
      },
      "source": [
        "Set operations may be interesting to facilitate the experimental search for good immunization sets."
      ]
    },
    {
      "cell_type": "markdown",
      "metadata": {
        "id": "rcHhY11UX5_z"
      },
      "source": [
        "Packages both in PyPI delta set and in top 100 by dependentsCount:"
      ]
    },
    {
      "cell_type": "code",
      "execution_count": null,
      "metadata": {
        "id": "JC9n6qF_X5_z"
      },
      "outputs": [],
      "source": [
        "delta_set & iset_naive_ranking(100, pypi.get_metric(DependentsCount))"
      ]
    },
    {
      "cell_type": "code",
      "execution_count": null,
      "metadata": {
        "id": "XHXpEC7KX5_z"
      },
      "outputs": [],
      "source": [
        "immunization_delta(pypi, {'boto3',\n",
        "                         'configparser',\n",
        "                         'cryptography',\n",
        "                         'jsonschema',\n",
        "                         'packaging',\n",
        "                         'pbr',\n",
        "                         'pytest',\n",
        "                         'requests',\n",
        "                         'setuptools',\n",
        "                         'wheel'}, algorithm='analytic')"
      ]
    },
    {
      "cell_type": "markdown",
      "metadata": {
        "id": "xskJKKO_X5_0"
      },
      "source": [
        "That approach is much better than simply selecting the top 10 packages by DependentsCount:"
      ]
    },
    {
      "cell_type": "code",
      "execution_count": null,
      "metadata": {
        "id": "K2IbAbVlX5_0"
      },
      "outputs": [],
      "source": [
        "immunization_delta(pypi,\n",
        "                   iset_naive_ranking(10, pypi.get_metric(DependentsCount)), \n",
        "                   algorithm='analytic')"
      ]
    },
    {
      "cell_type": "markdown",
      "metadata": {
        "id": "WXkg2rCQX5_0"
      },
      "source": [
        "#### Ranking by compound metrics"
      ]
    },
    {
      "cell_type": "markdown",
      "metadata": {
        "id": "NqkdQCyVX5_0"
      },
      "source": [
        "Since arithmetic operations can be performed with MetricStats objects, it is easy to employ ranking functions with compound metrics. For example, REACH*SURFACE is a theoretical upper bound of immunization delta."
      ]
    },
    {
      "cell_type": "code",
      "execution_count": null,
      "metadata": {
        "id": "PtoMBMwdX5_0"
      },
      "outputs": [],
      "source": [
        "upper = iset_naive_ranking(50, pypi.get_metric(Reach)*pypi.get_metric(Surface))\n",
        "immunization_delta(pypi, upper, algorithm='analytic')"
      ]
    },
    {
      "cell_type": "markdown",
      "metadata": {
        "id": "iSyVL37AX5_0"
      },
      "source": [
        "In fact, in this case we can get exactly the PyPI delta set, using this technique with the added benefit of being able to regulate the number of elements in the set."
      ]
    },
    {
      "cell_type": "code",
      "execution_count": null,
      "metadata": {
        "id": "lhd4QfkWX5_0"
      },
      "outputs": [],
      "source": [
        "len(delta_set)"
      ]
    },
    {
      "cell_type": "code",
      "execution_count": null,
      "metadata": {
        "id": "I2n1a2a2X5_1"
      },
      "outputs": [],
      "source": [
        "upper = iset_naive_ranking(18, pypi.get_metric(Reach)*pypi.get_metric(Surface))"
      ]
    },
    {
      "cell_type": "code",
      "execution_count": null,
      "metadata": {
        "id": "gaLfrPhuX5_1"
      },
      "outputs": [],
      "source": [
        "# void set\n",
        "delta_set-upper"
      ]
    },
    {
      "cell_type": "markdown",
      "metadata": {
        "id": "XYNNMNUOX5_1"
      },
      "source": [
        "#### Brute force and Greedy selection"
      ]
    },
    {
      "cell_type": "markdown",
      "metadata": {
        "id": "kaCBRU65X5_1"
      },
      "source": [
        "Once we get small enough candidate sets, we could try brute-force and greedy approaches for finding smaller sets. \n",
        "\n",
        "Considering the PyPI delta set, let's see which package individually contributes most to vulnerability reduction:"
      ]
    },
    {
      "cell_type": "code",
      "execution_count": null,
      "metadata": {
        "id": "Mo8BNaIFX5_2"
      },
      "outputs": [],
      "source": [
        "[(i, immunization_delta(pypi, {i}, algorithm='analytic')) for i in delta_set]"
      ]
    },
    {
      "cell_type": "markdown",
      "metadata": {
        "id": "qPsS8oVDX5_2"
      },
      "source": [
        "It should be noted that, as the sets of dependants and transitional dependencies are interrelated, the immunization delta is not additive. For example, if you take out *'importlib-metadata'* from the delta set, immunization delta decreases only by a small amount:"
      ]
    },
    {
      "cell_type": "code",
      "execution_count": null,
      "metadata": {
        "id": "iW3bbmc4X5_2"
      },
      "outputs": [],
      "source": [
        "immunization_delta(pypi, delta_set-{'importlib-metadata'}, algorithm='analytic')"
      ]
    },
    {
      "cell_type": "markdown",
      "metadata": {
        "id": "yiRHTU_KX5_2"
      },
      "source": [
        "#### Using other centrality measures"
      ]
    },
    {
      "cell_type": "markdown",
      "metadata": {
        "id": "ayk7fQp6X5_2"
      },
      "source": [
        "Common measures of centrality in the field of network science, or more custom or specific ones, can be used to select immunization sets. You may need to narrow down the set of candidates to  make the computation feasible.\n",
        "\n",
        "For example, using betweenness centrality on the SAP set gives the best results we have found for small immunization sets in Maven:"
      ]
    },
    {
      "cell_type": "code",
      "execution_count": null,
      "metadata": {
        "id": "X6NJtfW9X5_3"
      },
      "outputs": [],
      "source": [
        "import networkx as nx\n",
        "\n",
        "# Using the NetworkX implementation of betweenness centrality\n",
        "# You can access the full NetworkX network underlying the repository using OliviaModel.network.\n",
        "# Here we restrict the centrality computation to the subgraph induced by the SAP set:\n",
        "sap_betweenness = nx.betweenness_centrality(maven.network.subgraph(sap))"
      ]
    },
    {
      "cell_type": "code",
      "execution_count": null,
      "metadata": {
        "id": "B2j7wOU3X5_3"
      },
      "outputs": [],
      "source": [
        "from olivia.packagemetrics import MetricStats\n",
        "\n",
        "# Build a MetricStats object to use in iset_naive_ranking\n",
        "# MetricStats constructor admits a dictionary of values such as those produced by NetworkX\n",
        "sap_betweenness = MetricStats(sap_betweenness)"
      ]
    },
    {
      "cell_type": "code",
      "execution_count": null,
      "metadata": {
        "id": "QkHFYxAtX5_3"
      },
      "outputs": [],
      "source": [
        "immunization_delta(maven, iset_naive_ranking(10, sap_betweenness))"
      ]
    },
    {
      "cell_type": "markdown",
      "metadata": {
        "id": "M2s6d60NX5_3"
      },
      "source": [
        "Follows a visual representation of this technique. The drawn portion (981 nodes) is the biggest SCC of Maven , representing about 0.8% of the network. \n",
        "\n",
        "The highlighted white nodes correspond to the SAP set (351 nodes), whose immunization reduces by 93.9% the REACH-vulnerability of the network as a whole. The blue highlights are the 10 SAP with the highest out-degree centrality (number of dependants) and the red ones the 10 with the highest betweenness. By immunizing these sets, a reduction in network vulnerability of 13% and 26% respectively is achieved.\n",
        "The representation omits the direction of the arcs and uses the Kamada-kawai algorithm."
      ]
    },
    {
      "cell_type": "markdown",
      "metadata": {
        "id": "ZWub_LXGX5_3"
      },
      "source": [
        "<br>\n",
        "\n",
        "![Maven SCC](docs/img/maven.png \"SAP immunization of Maven with betweenness ranking\")  \n",
        "\n",
        "<br>"
      ]
    },
    {
      "cell_type": "code",
      "execution_count": null,
      "metadata": {
        "id": "ruCuQLtGX5_3"
      },
      "outputs": [],
      "source": []
    }
  ],
  "metadata": {
    "kernelspec": {
      "display_name": "Python 3",
      "language": "python",
      "name": "python3"
    },
    "language_info": {
      "codemirror_mode": {
        "name": "ipython",
        "version": 3
      },
      "file_extension": ".py",
      "mimetype": "text/x-python",
      "name": "python",
      "nbconvert_exporter": "python",
      "pygments_lexer": "ipython3",
      "version": "3.7.3"
    },
    "colab": {
      "provenance": [],
      "collapsed_sections": [
        "sddnhBSus7WX",
        "FfWtWnIksaLM",
        "u3kYILTcsaLc",
        "1ljA5grqsaLo"
      ],
      "include_colab_link": true
    }
  },
  "nbformat": 4,
  "nbformat_minor": 0
}